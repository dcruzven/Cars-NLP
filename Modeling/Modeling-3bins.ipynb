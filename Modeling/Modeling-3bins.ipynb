{
 "cells": [
  {
   "cell_type": "markdown",
   "metadata": {},
   "source": [
    "# 3 bin Model"
   ]
  },
  {
   "cell_type": "markdown",
   "metadata": {},
   "source": [
    "- Notebook contains models ran with 3 price catergories instead of 5"
   ]
  },
  {
   "cell_type": "markdown",
   "metadata": {},
   "source": [
    "- Create a basic nlp model to predict bin price\n",
    "- Create a basic model using car info to predict bin price"
   ]
  },
  {
   "cell_type": "code",
   "execution_count": 1,
   "metadata": {},
   "outputs": [],
   "source": [
    "from collections import defaultdict\n",
    "import numpy as np\n",
    "import pandas as pd\n",
    "import nltk\n",
    "from nltk.corpus import stopwords, wordnet\n",
    "\n",
    "from sklearn.feature_extraction.text import TfidfVectorizer, CountVectorizer\n",
    "from sklearn.ensemble import RandomForestClassifier\n",
    "from sklearn.naive_bayes import MultinomialNB\n",
    "from sklearn.metrics import accuracy_score, precision_score, confusion_matrix\n",
    "from sklearn.metrics import plot_confusion_matrix\n",
    "import re\n",
    "from sklearn.tree import DecisionTreeClassifier\n",
    "import matplotlib.pyplot as plt\n",
    "from sklearn.neighbors import KNeighborsClassifier\n",
    "\n",
    "from sklearn.pipeline import Pipeline\n",
    "from sklearn.compose import ColumnTransformer\n",
    "from sklearn.impute import SimpleImputer\n",
    "from sklearn.preprocessing import MinMaxScaler, OneHotEncoder, StandardScaler\n",
    "from sklearn.linear_model import LogisticRegression, RidgeClassifier\n",
    "from sklearn.model_selection import train_test_split, cross_validate\n",
    "import xgboost as xgb"
   ]
  },
  {
   "cell_type": "code",
   "execution_count": 2,
   "metadata": {},
   "outputs": [],
   "source": [
    "data = pd.read_csv('../data/CleanData3bins.csv')"
   ]
  },
  {
   "cell_type": "code",
   "execution_count": 3,
   "metadata": {
    "scrolled": false
   },
   "outputs": [],
   "source": [
    "data = data.drop(columns='Unnamed: 0')"
   ]
  },
  {
   "cell_type": "code",
   "execution_count": 4,
   "metadata": {
    "scrolled": false
   },
   "outputs": [
    {
     "data": {
      "text/html": [
       "<div>\n",
       "<style scoped>\n",
       "    .dataframe tbody tr th:only-of-type {\n",
       "        vertical-align: middle;\n",
       "    }\n",
       "\n",
       "    .dataframe tbody tr th {\n",
       "        vertical-align: top;\n",
       "    }\n",
       "\n",
       "    .dataframe thead th {\n",
       "        text-align: right;\n",
       "    }\n",
       "</style>\n",
       "<table border=\"1\" class=\"dataframe\">\n",
       "  <thead>\n",
       "    <tr style=\"text-align: right;\">\n",
       "      <th></th>\n",
       "      <th>DriveTrain</th>\n",
       "      <th>Mileage</th>\n",
       "      <th>SalePrice</th>\n",
       "      <th>PriceCategory</th>\n",
       "      <th>CleanReviews</th>\n",
       "      <th>Year</th>\n",
       "      <th>newSize</th>\n",
       "      <th>newCyl</th>\n",
       "      <th>newMake</th>\n",
       "      <th>mpg</th>\n",
       "    </tr>\n",
       "  </thead>\n",
       "  <tbody>\n",
       "    <tr>\n",
       "      <th>0</th>\n",
       "      <td>FWD</td>\n",
       "      <td>53200.0</td>\n",
       "      <td>29000.0</td>\n",
       "      <td>Average</td>\n",
       "      <td>Virtually nothing has gone wrong with my 2020 ...</td>\n",
       "      <td>2020.0</td>\n",
       "      <td>2.5</td>\n",
       "      <td>4</td>\n",
       "      <td>Toyota</td>\n",
       "      <td>27.0</td>\n",
       "    </tr>\n",
       "    <tr>\n",
       "      <th>1</th>\n",
       "      <td>RWD</td>\n",
       "      <td>22690.0</td>\n",
       "      <td>55975.0</td>\n",
       "      <td>Expensive</td>\n",
       "      <td>Stranded today. Could not get to work. Somethi...</td>\n",
       "      <td>2016.0</td>\n",
       "      <td>3.0</td>\n",
       "      <td>6</td>\n",
       "      <td>Volkswagen</td>\n",
       "      <td>18.0</td>\n",
       "    </tr>\n",
       "    <tr>\n",
       "      <th>2</th>\n",
       "      <td>FWD</td>\n",
       "      <td>17854.0</td>\n",
       "      <td>38900.0</td>\n",
       "      <td>Average</td>\n",
       "      <td>Excellent road car, quiet, stable, comfortable...</td>\n",
       "      <td>2020.0</td>\n",
       "      <td>3.5</td>\n",
       "      <td>6</td>\n",
       "      <td>Other</td>\n",
       "      <td>18.0</td>\n",
       "    </tr>\n",
       "    <tr>\n",
       "      <th>3</th>\n",
       "      <td>FWD</td>\n",
       "      <td>60907.0</td>\n",
       "      <td>22125.0</td>\n",
       "      <td>Cheap</td>\n",
       "      <td>PURCHASED FROM NYE TOYOTA, MY FIRST TACOMA. LO...</td>\n",
       "      <td>2021.0</td>\n",
       "      <td>2.5</td>\n",
       "      <td>4</td>\n",
       "      <td>Toyota</td>\n",
       "      <td>28.0</td>\n",
       "    </tr>\n",
       "    <tr>\n",
       "      <th>4</th>\n",
       "      <td>FWD</td>\n",
       "      <td>41614.0</td>\n",
       "      <td>23946.0</td>\n",
       "      <td>Cheap</td>\n",
       "      <td>I’ve own a 2020 Altima (under 30k miles) for a...</td>\n",
       "      <td>2020.0</td>\n",
       "      <td>2.4</td>\n",
       "      <td>4</td>\n",
       "      <td>Nissan</td>\n",
       "      <td>24.0</td>\n",
       "    </tr>\n",
       "    <tr>\n",
       "      <th>...</th>\n",
       "      <td>...</td>\n",
       "      <td>...</td>\n",
       "      <td>...</td>\n",
       "      <td>...</td>\n",
       "      <td>...</td>\n",
       "      <td>...</td>\n",
       "      <td>...</td>\n",
       "      <td>...</td>\n",
       "      <td>...</td>\n",
       "      <td>...</td>\n",
       "    </tr>\n",
       "    <tr>\n",
       "      <th>8469</th>\n",
       "      <td>FWD</td>\n",
       "      <td>78378.0</td>\n",
       "      <td>25500.0</td>\n",
       "      <td>Cheap</td>\n",
       "      <td>Only had the X5 for 4 weeks now but so far it ...</td>\n",
       "      <td>2022.0</td>\n",
       "      <td>3.6</td>\n",
       "      <td>6</td>\n",
       "      <td>BMW</td>\n",
       "      <td>18.0</td>\n",
       "    </tr>\n",
       "    <tr>\n",
       "      <th>8470</th>\n",
       "      <td>AWD</td>\n",
       "      <td>30909.0</td>\n",
       "      <td>35590.0</td>\n",
       "      <td>Average</td>\n",
       "      <td>When I bought my 2020 Tacoma V6 (3.5L) 4x4 in ...</td>\n",
       "      <td>2019.0</td>\n",
       "      <td>3.6</td>\n",
       "      <td>6</td>\n",
       "      <td>Toyota</td>\n",
       "      <td>18.0</td>\n",
       "    </tr>\n",
       "    <tr>\n",
       "      <th>8471</th>\n",
       "      <td>FWD</td>\n",
       "      <td>30186.0</td>\n",
       "      <td>24000.0</td>\n",
       "      <td>Cheap</td>\n",
       "      <td>Everything is great except the rear view camer...</td>\n",
       "      <td>2015.0</td>\n",
       "      <td>2.5</td>\n",
       "      <td>4</td>\n",
       "      <td>INFINITI</td>\n",
       "      <td>23.0</td>\n",
       "    </tr>\n",
       "    <tr>\n",
       "      <th>8472</th>\n",
       "      <td>FWD</td>\n",
       "      <td>22309.0</td>\n",
       "      <td>71077.0</td>\n",
       "      <td>Expensive</td>\n",
       "      <td>I have owned smaller SUV\\s and Trucks for over...</td>\n",
       "      <td>2020.0</td>\n",
       "      <td>5.7</td>\n",
       "      <td>8</td>\n",
       "      <td>Toyota</td>\n",
       "      <td>15.0</td>\n",
       "    </tr>\n",
       "    <tr>\n",
       "      <th>8473</th>\n",
       "      <td>FWD</td>\n",
       "      <td>9399.0</td>\n",
       "      <td>34988.0</td>\n",
       "      <td>Average</td>\n",
       "      <td>Transmission and brake problems. Transmission ...</td>\n",
       "      <td>2021.0</td>\n",
       "      <td>3.5</td>\n",
       "      <td>6</td>\n",
       "      <td>Other</td>\n",
       "      <td>20.0</td>\n",
       "    </tr>\n",
       "  </tbody>\n",
       "</table>\n",
       "<p>8474 rows × 10 columns</p>\n",
       "</div>"
      ],
      "text/plain": [
       "     DriveTrain  Mileage  SalePrice PriceCategory  \\\n",
       "0           FWD  53200.0    29000.0       Average   \n",
       "1           RWD  22690.0    55975.0     Expensive   \n",
       "2           FWD  17854.0    38900.0       Average   \n",
       "3           FWD  60907.0    22125.0         Cheap   \n",
       "4           FWD  41614.0    23946.0         Cheap   \n",
       "...         ...      ...        ...           ...   \n",
       "8469        FWD  78378.0    25500.0         Cheap   \n",
       "8470        AWD  30909.0    35590.0       Average   \n",
       "8471        FWD  30186.0    24000.0         Cheap   \n",
       "8472        FWD  22309.0    71077.0     Expensive   \n",
       "8473        FWD   9399.0    34988.0       Average   \n",
       "\n",
       "                                           CleanReviews    Year  newSize  \\\n",
       "0     Virtually nothing has gone wrong with my 2020 ...  2020.0      2.5   \n",
       "1     Stranded today. Could not get to work. Somethi...  2016.0      3.0   \n",
       "2     Excellent road car, quiet, stable, comfortable...  2020.0      3.5   \n",
       "3     PURCHASED FROM NYE TOYOTA, MY FIRST TACOMA. LO...  2021.0      2.5   \n",
       "4     I’ve own a 2020 Altima (under 30k miles) for a...  2020.0      2.4   \n",
       "...                                                 ...     ...      ...   \n",
       "8469  Only had the X5 for 4 weeks now but so far it ...  2022.0      3.6   \n",
       "8470  When I bought my 2020 Tacoma V6 (3.5L) 4x4 in ...  2019.0      3.6   \n",
       "8471  Everything is great except the rear view camer...  2015.0      2.5   \n",
       "8472  I have owned smaller SUV\\s and Trucks for over...  2020.0      5.7   \n",
       "8473  Transmission and brake problems. Transmission ...  2021.0      3.5   \n",
       "\n",
       "      newCyl     newMake   mpg  \n",
       "0          4      Toyota  27.0  \n",
       "1          6  Volkswagen  18.0  \n",
       "2          6       Other  18.0  \n",
       "3          4      Toyota  28.0  \n",
       "4          4      Nissan  24.0  \n",
       "...      ...         ...   ...  \n",
       "8469       6         BMW  18.0  \n",
       "8470       6      Toyota  18.0  \n",
       "8471       4    INFINITI  23.0  \n",
       "8472       8      Toyota  15.0  \n",
       "8473       6       Other  20.0  \n",
       "\n",
       "[8474 rows x 10 columns]"
      ]
     },
     "execution_count": 4,
     "metadata": {},
     "output_type": "execute_result"
    }
   ],
   "source": [
    "data"
   ]
  },
  {
   "cell_type": "markdown",
   "metadata": {},
   "source": [
    "**Review cleaning**\n",
    "- make a base model for nlp"
   ]
  },
  {
   "cell_type": "code",
   "execution_count": 5,
   "metadata": {},
   "outputs": [],
   "source": [
    "df = data[['CleanReviews', 'PriceCategory']]"
   ]
  },
  {
   "cell_type": "code",
   "execution_count": 6,
   "metadata": {
    "scrolled": true
   },
   "outputs": [
    {
     "data": {
      "text/html": [
       "<div>\n",
       "<style scoped>\n",
       "    .dataframe tbody tr th:only-of-type {\n",
       "        vertical-align: middle;\n",
       "    }\n",
       "\n",
       "    .dataframe tbody tr th {\n",
       "        vertical-align: top;\n",
       "    }\n",
       "\n",
       "    .dataframe thead th {\n",
       "        text-align: right;\n",
       "    }\n",
       "</style>\n",
       "<table border=\"1\" class=\"dataframe\">\n",
       "  <thead>\n",
       "    <tr style=\"text-align: right;\">\n",
       "      <th></th>\n",
       "      <th>CleanReviews</th>\n",
       "      <th>PriceCategory</th>\n",
       "    </tr>\n",
       "  </thead>\n",
       "  <tbody>\n",
       "    <tr>\n",
       "      <th>0</th>\n",
       "      <td>Virtually nothing has gone wrong with my 2020 ...</td>\n",
       "      <td>Average</td>\n",
       "    </tr>\n",
       "    <tr>\n",
       "      <th>1</th>\n",
       "      <td>Stranded today. Could not get to work. Somethi...</td>\n",
       "      <td>Expensive</td>\n",
       "    </tr>\n",
       "    <tr>\n",
       "      <th>2</th>\n",
       "      <td>Excellent road car, quiet, stable, comfortable...</td>\n",
       "      <td>Average</td>\n",
       "    </tr>\n",
       "    <tr>\n",
       "      <th>3</th>\n",
       "      <td>PURCHASED FROM NYE TOYOTA, MY FIRST TACOMA. LO...</td>\n",
       "      <td>Cheap</td>\n",
       "    </tr>\n",
       "    <tr>\n",
       "      <th>4</th>\n",
       "      <td>I’ve own a 2020 Altima (under 30k miles) for a...</td>\n",
       "      <td>Cheap</td>\n",
       "    </tr>\n",
       "  </tbody>\n",
       "</table>\n",
       "</div>"
      ],
      "text/plain": [
       "                                        CleanReviews PriceCategory\n",
       "0  Virtually nothing has gone wrong with my 2020 ...       Average\n",
       "1  Stranded today. Could not get to work. Somethi...     Expensive\n",
       "2  Excellent road car, quiet, stable, comfortable...       Average\n",
       "3  PURCHASED FROM NYE TOYOTA, MY FIRST TACOMA. LO...         Cheap\n",
       "4  I’ve own a 2020 Altima (under 30k miles) for a...         Cheap"
      ]
     },
     "execution_count": 6,
     "metadata": {},
     "output_type": "execute_result"
    }
   ],
   "source": [
    "df.head()"
   ]
  },
  {
   "cell_type": "code",
   "execution_count": 7,
   "metadata": {},
   "outputs": [],
   "source": [
    "rev_index = 100"
   ]
  },
  {
   "cell_type": "code",
   "execution_count": 8,
   "metadata": {
    "scrolled": true
   },
   "outputs": [
    {
     "data": {
      "text/plain": [
       "'Hands down the best Jeep ever.. would take it over the Santa Fe any day of the week.. there’s no comparison.. performance is excellent.. have 70,000 miles on a 2018 and a 2019.. ac went out on one but warranty covered it🙂🙂, I absolutely love my jeep it’s comfortable reliable and completely rugged I never feel like I’m going to get stranded stuck or be taken down by anything you feel completely safe high up and well compact in this vehicle definitely worth the money I will never change my vehicle make!!! Jeep owner for GOOD!!! , have a 2019 high altitude , love this vehicle so comfortable and smooth love it, first vehicle i have loved driving. love the design and the smooth ride'"
      ]
     },
     "execution_count": 8,
     "metadata": {},
     "output_type": "execute_result"
    }
   ],
   "source": [
    "df['CleanReviews'][rev_index]"
   ]
  },
  {
   "cell_type": "markdown",
   "metadata": {},
   "source": [
    "**Testing out the patter, make sure it's taking out the unwanted characters**"
   ]
  },
  {
   "cell_type": "code",
   "execution_count": 9,
   "metadata": {},
   "outputs": [
    {
     "data": {
      "text/plain": [
       "'     ..            .. ’  ..   ..  70,000    2018   2019..         🙂🙂,      ’          ’                                  !!!    !!! ,   2019   ,         ,      .       '"
      ]
     },
     "execution_count": 9,
     "metadata": {},
     "output_type": "execute_result"
    }
   ],
   "source": [
    "re.sub(\"[a-zA-Z]+(?:'[a-z]+)?\", '', df['CleanReviews'][rev_index])"
   ]
  },
  {
   "cell_type": "markdown",
   "metadata": {},
   "source": [
    "# Pre-proccessing"
   ]
  },
  {
   "cell_type": "markdown",
   "metadata": {},
   "source": [
    "- just lowercase all the reviews, the tfidvectorizer will take care of the rest"
   ]
  },
  {
   "cell_type": "code",
   "execution_count": 10,
   "metadata": {
    "scrolled": true
   },
   "outputs": [
    {
     "name": "stderr",
     "output_type": "stream",
     "text": [
      "<ipython-input-10-f0607efd20df>:1: SettingWithCopyWarning: \n",
      "A value is trying to be set on a copy of a slice from a DataFrame.\n",
      "Try using .loc[row_indexer,col_indexer] = value instead\n",
      "\n",
      "See the caveats in the documentation: https://pandas.pydata.org/pandas-docs/stable/user_guide/indexing.html#returning-a-view-versus-a-copy\n",
      "  df['CleanReviews'] = df['CleanReviews'].str.lower()\n"
     ]
    }
   ],
   "source": [
    "df['CleanReviews'] = df['CleanReviews'].str.lower()"
   ]
  },
  {
   "cell_type": "code",
   "execution_count": 11,
   "metadata": {},
   "outputs": [
    {
     "data": {
      "text/html": [
       "<div>\n",
       "<style scoped>\n",
       "    .dataframe tbody tr th:only-of-type {\n",
       "        vertical-align: middle;\n",
       "    }\n",
       "\n",
       "    .dataframe tbody tr th {\n",
       "        vertical-align: top;\n",
       "    }\n",
       "\n",
       "    .dataframe thead th {\n",
       "        text-align: right;\n",
       "    }\n",
       "</style>\n",
       "<table border=\"1\" class=\"dataframe\">\n",
       "  <thead>\n",
       "    <tr style=\"text-align: right;\">\n",
       "      <th></th>\n",
       "      <th>CleanReviews</th>\n",
       "      <th>PriceCategory</th>\n",
       "    </tr>\n",
       "  </thead>\n",
       "  <tbody>\n",
       "    <tr>\n",
       "      <th>0</th>\n",
       "      <td>virtually nothing has gone wrong with my 2020 ...</td>\n",
       "      <td>Average</td>\n",
       "    </tr>\n",
       "    <tr>\n",
       "      <th>1</th>\n",
       "      <td>stranded today. could not get to work. somethi...</td>\n",
       "      <td>Expensive</td>\n",
       "    </tr>\n",
       "    <tr>\n",
       "      <th>2</th>\n",
       "      <td>excellent road car, quiet, stable, comfortable...</td>\n",
       "      <td>Average</td>\n",
       "    </tr>\n",
       "    <tr>\n",
       "      <th>3</th>\n",
       "      <td>purchased from nye toyota, my first tacoma. lo...</td>\n",
       "      <td>Cheap</td>\n",
       "    </tr>\n",
       "    <tr>\n",
       "      <th>4</th>\n",
       "      <td>i’ve own a 2020 altima (under 30k miles) for a...</td>\n",
       "      <td>Cheap</td>\n",
       "    </tr>\n",
       "  </tbody>\n",
       "</table>\n",
       "</div>"
      ],
      "text/plain": [
       "                                        CleanReviews PriceCategory\n",
       "0  virtually nothing has gone wrong with my 2020 ...       Average\n",
       "1  stranded today. could not get to work. somethi...     Expensive\n",
       "2  excellent road car, quiet, stable, comfortable...       Average\n",
       "3  purchased from nye toyota, my first tacoma. lo...         Cheap\n",
       "4  i’ve own a 2020 altima (under 30k miles) for a...         Cheap"
      ]
     },
     "execution_count": 11,
     "metadata": {},
     "output_type": "execute_result"
    }
   ],
   "source": [
    "df.head()"
   ]
  },
  {
   "cell_type": "markdown",
   "metadata": {},
   "source": [
    "- clean up reviews, "
   ]
  },
  {
   "cell_type": "code",
   "execution_count": 12,
   "metadata": {},
   "outputs": [],
   "source": [
    "#stopwords\n",
    "sw = stopwords.words('english')"
   ]
  },
  {
   "cell_type": "markdown",
   "metadata": {},
   "source": [
    "# Train, Test,  Split"
   ]
  },
  {
   "cell_type": "markdown",
   "metadata": {},
   "source": [
    "- Creating a holdout set to use at the very end"
   ]
  },
  {
   "cell_type": "code",
   "execution_count": 13,
   "metadata": {},
   "outputs": [],
   "source": [
    "X = data['CleanReviews']\n",
    "y = data['PriceCategory']"
   ]
  },
  {
   "cell_type": "code",
   "execution_count": 14,
   "metadata": {},
   "outputs": [],
   "source": [
    "X_t, X_hold, y_t, y_hold = train_test_split(X, y, test_size=0.10, random_state=42)"
   ]
  },
  {
   "cell_type": "code",
   "execution_count": 15,
   "metadata": {},
   "outputs": [],
   "source": [
    "X_train, X_val, y_train, y_val = train_test_split(X_t, y_t, test_size=0.25, random_state=42)"
   ]
  },
  {
   "cell_type": "markdown",
   "metadata": {},
   "source": [
    "# Vectorize"
   ]
  },
  {
   "cell_type": "code",
   "execution_count": 16,
   "metadata": {},
   "outputs": [],
   "source": [
    "vectorizer = TfidfVectorizer(\n",
    "    token_pattern=r\"([a-zA-Z]+(?:'[a-z]+)?)\",\n",
    "    stop_words=sw,\n",
    "#     max_df=.95,  # removes words that appear in more than 95% of docs not using either, produces better model\n",
    "#     min_df=2     # removes words that appear 2 or fewer times\n",
    ")"
   ]
  },
  {
   "cell_type": "code",
   "execution_count": 17,
   "metadata": {},
   "outputs": [
    {
     "data": {
      "text/plain": [
       "'The ride is great, Toyota gives comfort and space, very good on gas and good price to own the car all you need is on this vehicle, This car rides nice and runs great it meets all of my driving needs. Would definitely buy another one. I needed a reliable car to get to work. Thank you, I went with the 2017 model due to the new 2018 + models having issues w/ that new 8 speed transmission. This was the last model w/  a bulletproof transmission so far. I hope to pay this car off and be payment free and problem free for the next decade. Always go with Toyota. They are the most reliable by statistics and no one wants to have car troubles.'"
      ]
     },
     "execution_count": 17,
     "metadata": {},
     "output_type": "execute_result"
    }
   ],
   "source": [
    "X_train.iloc[rev_index]"
   ]
  },
  {
   "cell_type": "code",
   "execution_count": 18,
   "metadata": {},
   "outputs": [],
   "source": [
    "vectorizer.fit(X_train)\n",
    "\n",
    "X_train_vec = vectorizer.transform(X_train)\n",
    "X_val_vec = vectorizer.transform(X_val)"
   ]
  },
  {
   "cell_type": "code",
   "execution_count": 19,
   "metadata": {},
   "outputs": [
    {
     "data": {
      "text/plain": [
       "(5719, 10389)"
      ]
     },
     "execution_count": 19,
     "metadata": {},
     "output_type": "execute_result"
    }
   ],
   "source": [
    "X_train_vec.shape"
   ]
  },
  {
   "cell_type": "code",
   "execution_count": 20,
   "metadata": {},
   "outputs": [
    {
     "data": {
      "text/plain": [
       "0.41321447299423175"
      ]
     },
     "execution_count": 20,
     "metadata": {},
     "output_type": "execute_result"
    }
   ],
   "source": [
    "classifier = MultinomialNB()\n",
    "classifier.fit(X_train_vec, y_train)\n",
    "classifier.score(X_val_vec, y_val)"
   ]
  },
  {
   "cell_type": "markdown",
   "metadata": {},
   "source": [
    "- not bad score\n",
    "- only fraction of total reviews are unique reviews\n",
    "- 41% accuracy seems good considering I am trying to model human language :)"
   ]
  },
  {
   "cell_type": "markdown",
   "metadata": {},
   "source": [
    "# Features for the car"
   ]
  },
  {
   "cell_type": "markdown",
   "metadata": {},
   "source": [
    "- testing out different vanilla models\n",
    "- getting the best one and try to use it with nlp model"
   ]
  },
  {
   "cell_type": "code",
   "execution_count": 21,
   "metadata": {
    "scrolled": false
   },
   "outputs": [
    {
     "data": {
      "text/html": [
       "<div>\n",
       "<style scoped>\n",
       "    .dataframe tbody tr th:only-of-type {\n",
       "        vertical-align: middle;\n",
       "    }\n",
       "\n",
       "    .dataframe tbody tr th {\n",
       "        vertical-align: top;\n",
       "    }\n",
       "\n",
       "    .dataframe thead th {\n",
       "        text-align: right;\n",
       "    }\n",
       "</style>\n",
       "<table border=\"1\" class=\"dataframe\">\n",
       "  <thead>\n",
       "    <tr style=\"text-align: right;\">\n",
       "      <th></th>\n",
       "      <th>DriveTrain</th>\n",
       "      <th>Mileage</th>\n",
       "      <th>SalePrice</th>\n",
       "      <th>PriceCategory</th>\n",
       "      <th>CleanReviews</th>\n",
       "      <th>Year</th>\n",
       "      <th>newSize</th>\n",
       "      <th>newCyl</th>\n",
       "      <th>newMake</th>\n",
       "      <th>mpg</th>\n",
       "    </tr>\n",
       "  </thead>\n",
       "  <tbody>\n",
       "    <tr>\n",
       "      <th>0</th>\n",
       "      <td>FWD</td>\n",
       "      <td>53200.0</td>\n",
       "      <td>29000.0</td>\n",
       "      <td>Average</td>\n",
       "      <td>Virtually nothing has gone wrong with my 2020 ...</td>\n",
       "      <td>2020.0</td>\n",
       "      <td>2.5</td>\n",
       "      <td>4</td>\n",
       "      <td>Toyota</td>\n",
       "      <td>27.0</td>\n",
       "    </tr>\n",
       "    <tr>\n",
       "      <th>1</th>\n",
       "      <td>RWD</td>\n",
       "      <td>22690.0</td>\n",
       "      <td>55975.0</td>\n",
       "      <td>Expensive</td>\n",
       "      <td>Stranded today. Could not get to work. Somethi...</td>\n",
       "      <td>2016.0</td>\n",
       "      <td>3.0</td>\n",
       "      <td>6</td>\n",
       "      <td>Volkswagen</td>\n",
       "      <td>18.0</td>\n",
       "    </tr>\n",
       "    <tr>\n",
       "      <th>2</th>\n",
       "      <td>FWD</td>\n",
       "      <td>17854.0</td>\n",
       "      <td>38900.0</td>\n",
       "      <td>Average</td>\n",
       "      <td>Excellent road car, quiet, stable, comfortable...</td>\n",
       "      <td>2020.0</td>\n",
       "      <td>3.5</td>\n",
       "      <td>6</td>\n",
       "      <td>Other</td>\n",
       "      <td>18.0</td>\n",
       "    </tr>\n",
       "    <tr>\n",
       "      <th>3</th>\n",
       "      <td>FWD</td>\n",
       "      <td>60907.0</td>\n",
       "      <td>22125.0</td>\n",
       "      <td>Cheap</td>\n",
       "      <td>PURCHASED FROM NYE TOYOTA, MY FIRST TACOMA. LO...</td>\n",
       "      <td>2021.0</td>\n",
       "      <td>2.5</td>\n",
       "      <td>4</td>\n",
       "      <td>Toyota</td>\n",
       "      <td>28.0</td>\n",
       "    </tr>\n",
       "    <tr>\n",
       "      <th>4</th>\n",
       "      <td>FWD</td>\n",
       "      <td>41614.0</td>\n",
       "      <td>23946.0</td>\n",
       "      <td>Cheap</td>\n",
       "      <td>I’ve own a 2020 Altima (under 30k miles) for a...</td>\n",
       "      <td>2020.0</td>\n",
       "      <td>2.4</td>\n",
       "      <td>4</td>\n",
       "      <td>Nissan</td>\n",
       "      <td>24.0</td>\n",
       "    </tr>\n",
       "  </tbody>\n",
       "</table>\n",
       "</div>"
      ],
      "text/plain": [
       "  DriveTrain  Mileage  SalePrice PriceCategory  \\\n",
       "0        FWD  53200.0    29000.0       Average   \n",
       "1        RWD  22690.0    55975.0     Expensive   \n",
       "2        FWD  17854.0    38900.0       Average   \n",
       "3        FWD  60907.0    22125.0         Cheap   \n",
       "4        FWD  41614.0    23946.0         Cheap   \n",
       "\n",
       "                                        CleanReviews    Year  newSize  newCyl  \\\n",
       "0  Virtually nothing has gone wrong with my 2020 ...  2020.0      2.5       4   \n",
       "1  Stranded today. Could not get to work. Somethi...  2016.0      3.0       6   \n",
       "2  Excellent road car, quiet, stable, comfortable...  2020.0      3.5       6   \n",
       "3  PURCHASED FROM NYE TOYOTA, MY FIRST TACOMA. LO...  2021.0      2.5       4   \n",
       "4  I’ve own a 2020 Altima (under 30k miles) for a...  2020.0      2.4       4   \n",
       "\n",
       "      newMake   mpg  \n",
       "0      Toyota  27.0  \n",
       "1  Volkswagen  18.0  \n",
       "2       Other  18.0  \n",
       "3      Toyota  28.0  \n",
       "4      Nissan  24.0  "
      ]
     },
     "execution_count": 21,
     "metadata": {},
     "output_type": "execute_result"
    }
   ],
   "source": [
    "data.head()"
   ]
  },
  {
   "cell_type": "code",
   "execution_count": 22,
   "metadata": {},
   "outputs": [
    {
     "data": {
      "text/plain": [
       "FWD    5281\n",
       "AWD    1801\n",
       "RWD    1392\n",
       "Name: DriveTrain, dtype: int64"
      ]
     },
     "execution_count": 22,
     "metadata": {},
     "output_type": "execute_result"
    }
   ],
   "source": [
    "data['DriveTrain'].value_counts()"
   ]
  },
  {
   "cell_type": "code",
   "execution_count": 23,
   "metadata": {},
   "outputs": [],
   "source": [
    "X = data.drop(columns=['CleanReviews', 'PriceCategory', 'SalePrice'])\n",
    "y = data['PriceCategory']"
   ]
  },
  {
   "cell_type": "markdown",
   "metadata": {},
   "source": [
    "**Creating a train test split and a holdout set to use at the end**"
   ]
  },
  {
   "cell_type": "code",
   "execution_count": 24,
   "metadata": {},
   "outputs": [],
   "source": [
    "X_t, X_hold, y_t, y_hold = train_test_split(X, y, test_size=0.10, random_state=42)"
   ]
  },
  {
   "cell_type": "code",
   "execution_count": 25,
   "metadata": {},
   "outputs": [],
   "source": [
    "X_train, X_val, y_train, y_val = train_test_split(X_t, y_t, test_size=0.25, random_state=42)"
   ]
  },
  {
   "cell_type": "markdown",
   "metadata": {},
   "source": [
    "**Creating a column transformer to use on models**"
   ]
  },
  {
   "cell_type": "code",
   "execution_count": 26,
   "metadata": {},
   "outputs": [],
   "source": [
    "num_cols = ['Mileage', 'Year', 'newSize', 'newCyl', 'mpg']\n",
    "cat_cols = ['DriveTrain', 'newMake']"
   ]
  },
  {
   "cell_type": "code",
   "execution_count": 27,
   "metadata": {},
   "outputs": [],
   "source": [
    "cat_transformer = OneHotEncoder(drop=['RWD', 'Other'])"
   ]
  },
  {
   "cell_type": "code",
   "execution_count": 28,
   "metadata": {},
   "outputs": [],
   "source": [
    "num_transformer = MinMaxScaler()"
   ]
  },
  {
   "cell_type": "code",
   "execution_count": 29,
   "metadata": {},
   "outputs": [],
   "source": [
    "preprocessor = ColumnTransformer(transformers=[\n",
    "    (\"num_trans\", num_transformer, num_cols),\n",
    "    ('cat_trans', cat_transformer, cat_cols)\n",
    "])"
   ]
  },
  {
   "cell_type": "code",
   "execution_count": 30,
   "metadata": {
    "scrolled": true
   },
   "outputs": [
    {
     "data": {
      "text/plain": [
       "<5719x32 sparse matrix of type '<class 'numpy.float64'>'\n",
       "\twith 38788 stored elements in Compressed Sparse Row format>"
      ]
     },
     "execution_count": 30,
     "metadata": {},
     "output_type": "execute_result"
    }
   ],
   "source": [
    "preprocessor.fit_transform(X_train)"
   ]
  },
  {
   "cell_type": "markdown",
   "metadata": {},
   "source": [
    "# Knn"
   ]
  },
  {
   "cell_type": "code",
   "execution_count": 31,
   "metadata": {},
   "outputs": [],
   "source": [
    "clf_knn = Pipeline(steps=[\n",
    "    ('preprocessor', preprocessor),\n",
    "    ('knn', KNeighborsClassifier(n_neighbors=5))\n",
    "])"
   ]
  },
  {
   "cell_type": "code",
   "execution_count": 32,
   "metadata": {},
   "outputs": [
    {
     "data": {
      "text/plain": [
       "Pipeline(steps=[('preprocessor',\n",
       "                 ColumnTransformer(transformers=[('num_trans', MinMaxScaler(),\n",
       "                                                  ['Mileage', 'Year', 'newSize',\n",
       "                                                   'newCyl', 'mpg']),\n",
       "                                                 ('cat_trans',\n",
       "                                                  OneHotEncoder(drop=['RWD',\n",
       "                                                                      'Other']),\n",
       "                                                  ['DriveTrain', 'newMake'])])),\n",
       "                ('knn', KNeighborsClassifier())])"
      ]
     },
     "execution_count": 32,
     "metadata": {},
     "output_type": "execute_result"
    }
   ],
   "source": [
    "clf_knn.fit(X_train, y_train)"
   ]
  },
  {
   "cell_type": "code",
   "execution_count": 33,
   "metadata": {},
   "outputs": [
    {
     "name": "stdout",
     "output_type": "stream",
     "text": [
      "Train Accuracy: 0.7600979192166463\n",
      "Test Accuracy: 0.6324069218668065\n"
     ]
    }
   ],
   "source": [
    "print(f\"Train Accuracy: {clf_knn.score(X_train, y_train)}\")\n",
    "print(f\"Test Accuracy: {clf_knn.score(X_val, y_val)}\")"
   ]
  },
  {
   "cell_type": "code",
   "execution_count": 34,
   "metadata": {},
   "outputs": [
    {
     "data": {
      "image/png": "[encoded data removed]",
      "text/plain": [
       "<Figure size 432x288 with 2 Axes>"
      ]
     },
     "metadata": {
      "needs_background": "light"
     },
     "output_type": "display_data"
    }
   ],
   "source": [
    "plot_confusion_matrix(clf_knn, X_val, y_val);"
   ]
  },
  {
   "cell_type": "markdown",
   "metadata": {},
   "source": [
    "# Decision Tree"
   ]
  },
  {
   "cell_type": "code",
   "execution_count": 35,
   "metadata": {},
   "outputs": [],
   "source": [
    "clf_dt = Pipeline(steps=[\n",
    "    ('preprocessor', preprocessor),\n",
    "    ('dt', DecisionTreeClassifier(random_state=42))\n",
    "])"
   ]
  },
  {
   "cell_type": "code",
   "execution_count": 36,
   "metadata": {},
   "outputs": [
    {
     "data": {
      "text/plain": [
       "Pipeline(steps=[('preprocessor',\n",
       "                 ColumnTransformer(transformers=[('num_trans', MinMaxScaler(),\n",
       "                                                  ['Mileage', 'Year', 'newSize',\n",
       "                                                   'newCyl', 'mpg']),\n",
       "                                                 ('cat_trans',\n",
       "                                                  OneHotEncoder(drop=['RWD',\n",
       "                                                                      'Other']),\n",
       "                                                  ['DriveTrain', 'newMake'])])),\n",
       "                ('dt', DecisionTreeClassifier(random_state=42))])"
      ]
     },
     "execution_count": 36,
     "metadata": {},
     "output_type": "execute_result"
    }
   ],
   "source": [
    "clf_dt.fit(X_train, y_train)"
   ]
  },
  {
   "cell_type": "code",
   "execution_count": 37,
   "metadata": {},
   "outputs": [
    {
     "name": "stdout",
     "output_type": "stream",
     "text": [
      "Train Accuracy: 1.0\n",
      "Test Accuracy: 0.6769795490298899\n"
     ]
    }
   ],
   "source": [
    "print(f\"Train Accuracy: {clf_dt.score(X_train, y_train)}\")\n",
    "print(f\"Test Accuracy: {clf_dt.score(X_val, y_val)}\")"
   ]
  },
  {
   "cell_type": "code",
   "execution_count": 38,
   "metadata": {
    "scrolled": true
   },
   "outputs": [
    {
     "data": {
      "image/png": "[encoded data removed]",
      "text/plain": [
       "<Figure size 432x288 with 2 Axes>"
      ]
     },
     "metadata": {
      "needs_background": "light"
     },
     "output_type": "display_data"
    }
   ],
   "source": [
    "plot_confusion_matrix(clf_dt, X_val, y_val);"
   ]
  },
  {
   "cell_type": "markdown",
   "metadata": {},
   "source": [
    "# LogReg"
   ]
  },
  {
   "cell_type": "code",
   "execution_count": 39,
   "metadata": {},
   "outputs": [],
   "source": [
    "clf_lr = Pipeline(steps=[\n",
    "    ('preprocessor', preprocessor),\n",
    "    ('lr', LogisticRegression(penalty='l1', multi_class='multinomial', solver='saga', random_state=42))\n",
    "])"
   ]
  },
  {
   "cell_type": "code",
   "execution_count": 40,
   "metadata": {},
   "outputs": [
    {
     "name": "stderr",
     "output_type": "stream",
     "text": [
      "C:\\Users\\dcv_2\\anaconda3\\envs\\learn-env\\lib\\site-packages\\sklearn\\linear_model\\_sag.py:329: ConvergenceWarning: The max_iter was reached which means the coef_ did not converge\n",
      "  warnings.warn(\"The max_iter was reached which means \"\n"
     ]
    },
    {
     "data": {
      "text/plain": [
       "Pipeline(steps=[('preprocessor',\n",
       "                 ColumnTransformer(transformers=[('num_trans', MinMaxScaler(),\n",
       "                                                  ['Mileage', 'Year', 'newSize',\n",
       "                                                   'newCyl', 'mpg']),\n",
       "                                                 ('cat_trans',\n",
       "                                                  OneHotEncoder(drop=['RWD',\n",
       "                                                                      'Other']),\n",
       "                                                  ['DriveTrain', 'newMake'])])),\n",
       "                ('lr',\n",
       "                 LogisticRegression(multi_class='multinomial', penalty='l1',\n",
       "                                    random_state=42, solver='saga'))])"
      ]
     },
     "execution_count": 40,
     "metadata": {},
     "output_type": "execute_result"
    }
   ],
   "source": [
    "clf_lr.fit(X_train, y_train)"
   ]
  },
  {
   "cell_type": "code",
   "execution_count": 41,
   "metadata": {},
   "outputs": [
    {
     "name": "stdout",
     "output_type": "stream",
     "text": [
      "Train Accuracy: 0.6924287462843154\n",
      "Test Accuracy: 0.6712113266911379\n"
     ]
    }
   ],
   "source": [
    "print(f\"Train Accuracy: {clf_lr.score(X_train, y_train)}\")\n",
    "print(f\"Test Accuracy: {clf_lr.score(X_val, y_val)}\")"
   ]
  },
  {
   "cell_type": "code",
   "execution_count": 42,
   "metadata": {
    "scrolled": true
   },
   "outputs": [
    {
     "name": "stderr",
     "output_type": "stream",
     "text": [
      "C:\\Users\\dcv_2\\anaconda3\\envs\\learn-env\\lib\\site-packages\\sklearn\\linear_model\\_sag.py:329: ConvergenceWarning: The max_iter was reached which means the coef_ did not converge\n",
      "  warnings.warn(\"The max_iter was reached which means \"\n",
      "C:\\Users\\dcv_2\\anaconda3\\envs\\learn-env\\lib\\site-packages\\sklearn\\linear_model\\_sag.py:329: ConvergenceWarning: The max_iter was reached which means the coef_ did not converge\n",
      "  warnings.warn(\"The max_iter was reached which means \"\n",
      "C:\\Users\\dcv_2\\anaconda3\\envs\\learn-env\\lib\\site-packages\\sklearn\\linear_model\\_sag.py:329: ConvergenceWarning: The max_iter was reached which means the coef_ did not converge\n",
      "  warnings.warn(\"The max_iter was reached which means \"\n",
      "C:\\Users\\dcv_2\\anaconda3\\envs\\learn-env\\lib\\site-packages\\sklearn\\linear_model\\_sag.py:329: ConvergenceWarning: The max_iter was reached which means the coef_ did not converge\n",
      "  warnings.warn(\"The max_iter was reached which means \"\n",
      "C:\\Users\\dcv_2\\anaconda3\\envs\\learn-env\\lib\\site-packages\\sklearn\\linear_model\\_sag.py:329: ConvergenceWarning: The max_iter was reached which means the coef_ did not converge\n",
      "  warnings.warn(\"The max_iter was reached which means \"\n"
     ]
    }
   ],
   "source": [
    "cv_results = cross_validate(clf_lr, X_train, y_train, cv=5, return_train_score=True)"
   ]
  },
  {
   "cell_type": "code",
   "execution_count": 43,
   "metadata": {},
   "outputs": [
    {
     "data": {
      "text/plain": [
       "0.6836855838824343"
      ]
     },
     "execution_count": 43,
     "metadata": {},
     "output_type": "execute_result"
    }
   ],
   "source": [
    "cv_results['test_score'].mean()"
   ]
  },
  {
   "cell_type": "code",
   "execution_count": 44,
   "metadata": {
    "scrolled": true
   },
   "outputs": [
    {
     "data": {
      "text/plain": [
       "0.6934779605640261"
      ]
     },
     "execution_count": 44,
     "metadata": {},
     "output_type": "execute_result"
    }
   ],
   "source": [
    "cv_results['train_score'].mean()"
   ]
  },
  {
   "cell_type": "code",
   "execution_count": 45,
   "metadata": {},
   "outputs": [
    {
     "data": {
      "image/png": "[encoded data removed]",
      "text/plain": [
       "<Figure size 432x288 with 2 Axes>"
      ]
     },
     "metadata": {
      "needs_background": "light"
     },
     "output_type": "display_data"
    }
   ],
   "source": [
    "plot_confusion_matrix(clf_lr, X_val, y_val);"
   ]
  },
  {
   "cell_type": "markdown",
   "metadata": {},
   "source": [
    "# Random Forest"
   ]
  },
  {
   "cell_type": "code",
   "execution_count": 46,
   "metadata": {},
   "outputs": [],
   "source": [
    "clf_rf = Pipeline(steps=[\n",
    "    ('preprocessor', preprocessor),\n",
    "    ('rf', RandomForestClassifier(max_depth=10, random_state=42))\n",
    "])"
   ]
  },
  {
   "cell_type": "code",
   "execution_count": 47,
   "metadata": {},
   "outputs": [
    {
     "data": {
      "text/plain": [
       "Pipeline(steps=[('preprocessor',\n",
       "                 ColumnTransformer(transformers=[('num_trans', MinMaxScaler(),\n",
       "                                                  ['Mileage', 'Year', 'newSize',\n",
       "                                                   'newCyl', 'mpg']),\n",
       "                                                 ('cat_trans',\n",
       "                                                  OneHotEncoder(drop=['RWD',\n",
       "                                                                      'Other']),\n",
       "                                                  ['DriveTrain', 'newMake'])])),\n",
       "                ('rf', RandomForestClassifier(max_depth=10, random_state=42))])"
      ]
     },
     "execution_count": 47,
     "metadata": {},
     "output_type": "execute_result"
    }
   ],
   "source": [
    "clf_rf.fit(X_train, y_train)"
   ]
  },
  {
   "cell_type": "code",
   "execution_count": 48,
   "metadata": {},
   "outputs": [
    {
     "name": "stdout",
     "output_type": "stream",
     "text": [
      "Train Accuracy: 0.802063297779332\n",
      "Test Accuracy: 0.724698479286838\n"
     ]
    }
   ],
   "source": [
    "print(f\"Train Accuracy: {clf_rf.score(X_train, y_train)}\")\n",
    "print(f\"Test Accuracy: {clf_rf.score(X_val, y_val)}\")"
   ]
  },
  {
   "cell_type": "code",
   "execution_count": 49,
   "metadata": {
    "scrolled": true
   },
   "outputs": [
    {
     "data": {
      "image/png": "[encoded data removed]",
      "text/plain": [
       "<Figure size 432x288 with 2 Axes>"
      ]
     },
     "metadata": {
      "needs_background": "light"
     },
     "output_type": "display_data"
    }
   ],
   "source": [
    "plot_confusion_matrix(clf_rf, X_val, y_val);"
   ]
  },
  {
   "cell_type": "markdown",
   "metadata": {},
   "source": [
    "# Ridge classifier"
   ]
  },
  {
   "cell_type": "code",
   "execution_count": 50,
   "metadata": {},
   "outputs": [],
   "source": [
    "clf_rr = Pipeline(steps=[\n",
    "    ('preprocessor', preprocessor),\n",
    "    ('rr', RidgeClassifier(solver='sag', random_state=42))\n",
    "])"
   ]
  },
  {
   "cell_type": "code",
   "execution_count": 51,
   "metadata": {},
   "outputs": [
    {
     "name": "stderr",
     "output_type": "stream",
     "text": [
      "C:\\Users\\dcv_2\\anaconda3\\envs\\learn-env\\lib\\site-packages\\sklearn\\linear_model\\_ridge.py:555: UserWarning: \"sag\" solver requires many iterations to fit an intercept with sparse inputs. Either set the solver to \"auto\" or \"sparse_cg\", or set a low \"tol\" and a high \"max_iter\" (especially if inputs are not standardized).\n",
      "  warnings.warn(\n"
     ]
    },
    {
     "data": {
      "text/plain": [
       "Pipeline(steps=[('preprocessor',\n",
       "                 ColumnTransformer(transformers=[('num_trans', MinMaxScaler(),\n",
       "                                                  ['Mileage', 'Year', 'newSize',\n",
       "                                                   'newCyl', 'mpg']),\n",
       "                                                 ('cat_trans',\n",
       "                                                  OneHotEncoder(drop=['RWD',\n",
       "                                                                      'Other']),\n",
       "                                                  ['DriveTrain', 'newMake'])])),\n",
       "                ('rr', RidgeClassifier(random_state=42, solver='sag'))])"
      ]
     },
     "execution_count": 51,
     "metadata": {},
     "output_type": "execute_result"
    }
   ],
   "source": [
    "clf_rr.fit(X_train, y_train)"
   ]
  },
  {
   "cell_type": "code",
   "execution_count": 52,
   "metadata": {},
   "outputs": [
    {
     "name": "stdout",
     "output_type": "stream",
     "text": [
      "Train Accuracy: 0.6557090400419654\n",
      "Test Accuracy: 0.6381751442055584\n"
     ]
    }
   ],
   "source": [
    "print(f\"Train Accuracy: {clf_rr.score(X_train, y_train)}\")\n",
    "print(f\"Test Accuracy: {clf_rr.score(X_val, y_val)}\")"
   ]
  },
  {
   "cell_type": "code",
   "execution_count": 53,
   "metadata": {
    "scrolled": true
   },
   "outputs": [
    {
     "name": "stderr",
     "output_type": "stream",
     "text": [
      "C:\\Users\\dcv_2\\anaconda3\\envs\\learn-env\\lib\\site-packages\\sklearn\\linear_model\\_ridge.py:555: UserWarning: \"sag\" solver requires many iterations to fit an intercept with sparse inputs. Either set the solver to \"auto\" or \"sparse_cg\", or set a low \"tol\" and a high \"max_iter\" (especially if inputs are not standardized).\n",
      "  warnings.warn(\n",
      "C:\\Users\\dcv_2\\anaconda3\\envs\\learn-env\\lib\\site-packages\\sklearn\\linear_model\\_ridge.py:555: UserWarning: \"sag\" solver requires many iterations to fit an intercept with sparse inputs. Either set the solver to \"auto\" or \"sparse_cg\", or set a low \"tol\" and a high \"max_iter\" (especially if inputs are not standardized).\n",
      "  warnings.warn(\n",
      "C:\\Users\\dcv_2\\anaconda3\\envs\\learn-env\\lib\\site-packages\\sklearn\\linear_model\\_ridge.py:555: UserWarning: \"sag\" solver requires many iterations to fit an intercept with sparse inputs. Either set the solver to \"auto\" or \"sparse_cg\", or set a low \"tol\" and a high \"max_iter\" (especially if inputs are not standardized).\n",
      "  warnings.warn(\n",
      "C:\\Users\\dcv_2\\anaconda3\\envs\\learn-env\\lib\\site-packages\\sklearn\\linear_model\\_ridge.py:555: UserWarning: \"sag\" solver requires many iterations to fit an intercept with sparse inputs. Either set the solver to \"auto\" or \"sparse_cg\", or set a low \"tol\" and a high \"max_iter\" (especially if inputs are not standardized).\n",
      "  warnings.warn(\n",
      "C:\\Users\\dcv_2\\anaconda3\\envs\\learn-env\\lib\\site-packages\\sklearn\\linear_model\\_ridge.py:555: UserWarning: \"sag\" solver requires many iterations to fit an intercept with sparse inputs. Either set the solver to \"auto\" or \"sparse_cg\", or set a low \"tol\" and a high \"max_iter\" (especially if inputs are not standardized).\n",
      "  warnings.warn(\n"
     ]
    }
   ],
   "source": [
    "cv_results_rr = cross_validate(clf_rr, X_train, y_train, cv=5, return_train_score=True)"
   ]
  },
  {
   "cell_type": "code",
   "execution_count": 54,
   "metadata": {},
   "outputs": [
    {
     "data": {
      "text/plain": [
       "0.6467887536785175"
      ]
     },
     "execution_count": 54,
     "metadata": {},
     "output_type": "execute_result"
    }
   ],
   "source": [
    "cv_results_rr['test_score'].mean()"
   ]
  },
  {
   "cell_type": "code",
   "execution_count": 55,
   "metadata": {},
   "outputs": [
    {
     "data": {
      "text/plain": [
       "0.6566269154342924"
      ]
     },
     "execution_count": 55,
     "metadata": {},
     "output_type": "execute_result"
    }
   ],
   "source": [
    "cv_results_rr['train_score'].mean()"
   ]
  },
  {
   "cell_type": "code",
   "execution_count": 56,
   "metadata": {},
   "outputs": [
    {
     "data": {
      "image/png": "[encoded data removed]",
      "text/plain": [
       "<Figure size 432x288 with 2 Axes>"
      ]
     },
     "metadata": {
      "needs_background": "light"
     },
     "output_type": "display_data"
    }
   ],
   "source": [
    "plot_confusion_matrix(clf_rr, X_val, y_val);"
   ]
  },
  {
   "cell_type": "markdown",
   "metadata": {},
   "source": [
    "# XGBoost"
   ]
  },
  {
   "cell_type": "markdown",
   "metadata": {},
   "source": [
    "## Best model so far"
   ]
  },
  {
   "cell_type": "code",
   "execution_count": 57,
   "metadata": {},
   "outputs": [],
   "source": [
    "clf_xgb = Pipeline(steps=[\n",
    "    ('preprocessor', preprocessor),\n",
    "    ('xgb', xgb.XGBClassifier(random_state=42, \n",
    "                              learning_rate=.1, \n",
    "                              max_depth=6,\n",
    "                             n_estimators=50))\n",
    "])"
   ]
  },
  {
   "cell_type": "code",
   "execution_count": 58,
   "metadata": {},
   "outputs": [
    {
     "data": {
      "text/plain": [
       "Pipeline(steps=[('preprocessor',\n",
       "                 ColumnTransformer(transformers=[('num_trans', MinMaxScaler(),\n",
       "                                                  ['Mileage', 'Year', 'newSize',\n",
       "                                                   'newCyl', 'mpg']),\n",
       "                                                 ('cat_trans',\n",
       "                                                  OneHotEncoder(drop=['RWD',\n",
       "                                                                      'Other']),\n",
       "                                                  ['DriveTrain', 'newMake'])])),\n",
       "                ('xgb',\n",
       "                 XGBClassifier(base_score=0.5, booster='gbtree',\n",
       "                               colsample_bylevel=1, colsample_bynode=1,\n",
       "                               colsample_bytree=1, gamma=0, gpu_id=-1,\n",
       "                               import...type='gain',\n",
       "                               interaction_constraints='', learning_rate=0.1,\n",
       "                               max_delta_step=0, max_depth=6,\n",
       "                               min_child_weight=1, missing=nan,\n",
       "                               monotone_constraints='()', n_estimators=50,\n",
       "                               n_jobs=0, num_parallel_tree=1,\n",
       "                               objective='multi:softprob', random_state=42,\n",
       "                               reg_alpha=0, reg_lambda=1, scale_pos_weight=None,\n",
       "                               subsample=1, tree_method='exact',\n",
       "                               validate_parameters=1, verbosity=None))])"
      ]
     },
     "execution_count": 58,
     "metadata": {},
     "output_type": "execute_result"
    }
   ],
   "source": [
    "clf_xgb.fit(X_train, y_train)"
   ]
  },
  {
   "cell_type": "code",
   "execution_count": 59,
   "metadata": {},
   "outputs": [
    {
     "name": "stdout",
     "output_type": "stream",
     "text": [
      "Train Accuracy: 0.806609547123623\n",
      "Test Accuracy: 0.7556371263765076\n"
     ]
    }
   ],
   "source": [
    "print(f\"Train Accuracy: {clf_xgb.score(X_train, y_train)}\")\n",
    "print(f\"Test Accuracy: {clf_xgb.score(X_val, y_val)}\")"
   ]
  },
  {
   "cell_type": "code",
   "execution_count": 60,
   "metadata": {
    "scrolled": false
   },
   "outputs": [
    {
     "data": {
      "image/png": "[encoded data removed]",
      "text/plain": [
       "<Figure size 432x288 with 2 Axes>"
      ]
     },
     "metadata": {
      "needs_background": "light"
     },
     "output_type": "display_data"
    }
   ],
   "source": [
    "plot_confusion_matrix(clf_xgb, X_val, y_val);"
   ]
  },
  {
   "cell_type": "code",
   "execution_count": 61,
   "metadata": {},
   "outputs": [
    {
     "data": {
      "text/plain": [
       "Average      798\n",
       "Cheap        650\n",
       "Expensive    459\n",
       "Name: PriceCategory, dtype: int64"
      ]
     },
     "execution_count": 61,
     "metadata": {},
     "output_type": "execute_result"
    }
   ],
   "source": [
    "y_val.value_counts()"
   ]
  },
  {
   "cell_type": "markdown",
   "metadata": {},
   "source": [
    "**Has a hard time with average prices, thinking they are cheap or expensive**"
   ]
  },
  {
   "cell_type": "code",
   "execution_count": null,
   "metadata": {},
   "outputs": [],
   "source": []
  },
  {
   "cell_type": "code",
   "execution_count": null,
   "metadata": {},
   "outputs": [],
   "source": []
  },
  {
   "cell_type": "code",
   "execution_count": null,
   "metadata": {},
   "outputs": [],
   "source": []
  },
  {
   "cell_type": "code",
   "execution_count": null,
   "metadata": {},
   "outputs": [],
   "source": []
  },
  {
   "cell_type": "code",
   "execution_count": null,
   "metadata": {},
   "outputs": [],
   "source": []
  },
  {
   "cell_type": "code",
   "execution_count": null,
   "metadata": {},
   "outputs": [],
   "source": []
  }
 ],
 "metadata": {
  "kernelspec": {
   "display_name": "Python (learn-env)",
   "language": "python",
   "name": "learn-env"
  },
  "language_info": {
   "codemirror_mode": {
    "name": "ipython",
    "version": 3
   },
   "file_extension": ".py",
   "mimetype": "text/x-python",
   "name": "python",
   "nbconvert_exporter": "python",
   "pygments_lexer": "ipython3",
   "version": "3.8.5"
  }
 },
 "nbformat": 4,
 "nbformat_minor": 4
}
