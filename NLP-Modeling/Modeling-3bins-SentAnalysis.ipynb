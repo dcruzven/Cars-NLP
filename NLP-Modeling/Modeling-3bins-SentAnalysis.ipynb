{
 "cells": [
  {
   "cell_type": "markdown",
   "metadata": {},
   "source": [
    "# NLP Model"
   ]
  },
  {
   "cell_type": "markdown",
   "metadata": {},
   "source": [
    "- Create a basic nlp model to predict bin price\n",
    "- Create a basic model using car info to predict bin price"
   ]
  },
  {
   "cell_type": "code",
   "execution_count": 1,
   "metadata": {},
   "outputs": [],
   "source": [
    "from collections import defaultdict\n",
    "import numpy as np\n",
    "import pandas as pd\n",
    "from sklearn.model_selection import train_test_split\n",
    "import nltk\n",
    "from nltk.tokenize import regexp_tokenize, word_tokenize, RegexpTokenizer\n",
    "from nltk.corpus import stopwords, wordnet\n",
    "from nltk import pos_tag\n",
    "from nltk.stem import WordNetLemmatizer\n",
    "from sklearn.feature_extraction.text import TfidfVectorizer, CountVectorizer\n",
    "from sklearn.ensemble import RandomForestClassifier\n",
    "from sklearn.naive_bayes import MultinomialNB\n",
    "from sklearn.metrics import accuracy_score, precision_score, confusion_matrix\n",
    "from sklearn.metrics import plot_confusion_matrix\n",
    "import re\n",
    "from sklearn.tree import DecisionTreeClassifier\n",
    "import matplotlib.pyplot as plt\n",
    "from sklearn.neighbors import KNeighborsClassifier\n",
    "\n",
    "from sklearn.pipeline import Pipeline\n",
    "from sklearn.compose import ColumnTransformer\n",
    "from sklearn.impute import SimpleImputer\n",
    "from sklearn.preprocessing import MinMaxScaler, OneHotEncoder, StandardScaler\n",
    "from sklearn.dummy import DummyClassifier\n",
    "from sklearn.linear_model import LogisticRegression, RidgeClassifier\n",
    "from sklearn.model_selection import train_test_split, cross_validate\n",
    "from sklearn.metrics import accuracy_score, f1_score, precision_score, recall_score\n",
    "from sklearn.metrics import roc_auc_score, plot_roc_curve, plot_precision_recall_curve\n",
    "from sklearn.metrics import confusion_matrix, plot_confusion_matrix\n",
    "import xgboost as xgb"
   ]
  },
  {
   "cell_type": "code",
   "execution_count": 2,
   "metadata": {},
   "outputs": [],
   "source": [
    "from textblob import TextBlob\n",
    "from textblob.sentiments import NaiveBayesAnalyzer"
   ]
  },
  {
   "cell_type": "code",
   "execution_count": 3,
   "metadata": {},
   "outputs": [],
   "source": [
    "from tqdm.notebook import tqdm"
   ]
  },
  {
   "cell_type": "code",
   "execution_count": 4,
   "metadata": {},
   "outputs": [],
   "source": [
    "data = pd.read_csv('CleanData3bins.csv')"
   ]
  },
  {
   "cell_type": "code",
   "execution_count": 5,
   "metadata": {
    "scrolled": false
   },
   "outputs": [],
   "source": [
    "data = data.drop(columns='Unnamed: 0')"
   ]
  },
  {
   "cell_type": "markdown",
   "metadata": {},
   "source": [
    "# Features for the car"
   ]
  },
  {
   "cell_type": "code",
   "execution_count": 6,
   "metadata": {
    "scrolled": false
   },
   "outputs": [
    {
     "data": {
      "text/html": [
       "<div>\n",
       "<style scoped>\n",
       "    .dataframe tbody tr th:only-of-type {\n",
       "        vertical-align: middle;\n",
       "    }\n",
       "\n",
       "    .dataframe tbody tr th {\n",
       "        vertical-align: top;\n",
       "    }\n",
       "\n",
       "    .dataframe thead th {\n",
       "        text-align: right;\n",
       "    }\n",
       "</style>\n",
       "<table border=\"1\" class=\"dataframe\">\n",
       "  <thead>\n",
       "    <tr style=\"text-align: right;\">\n",
       "      <th></th>\n",
       "      <th>DriveTrain</th>\n",
       "      <th>Mileage</th>\n",
       "      <th>SalePrice</th>\n",
       "      <th>PriceCategory</th>\n",
       "      <th>CleanReviews</th>\n",
       "      <th>Year</th>\n",
       "      <th>newSize</th>\n",
       "      <th>newCyl</th>\n",
       "      <th>newMake</th>\n",
       "      <th>mpg</th>\n",
       "    </tr>\n",
       "  </thead>\n",
       "  <tbody>\n",
       "    <tr>\n",
       "      <th>0</th>\n",
       "      <td>FWD</td>\n",
       "      <td>53200.0</td>\n",
       "      <td>29000.0</td>\n",
       "      <td>Average</td>\n",
       "      <td>Virtually nothing has gone wrong with my 2020 ...</td>\n",
       "      <td>2020.0</td>\n",
       "      <td>2.5</td>\n",
       "      <td>4</td>\n",
       "      <td>Toyota</td>\n",
       "      <td>27.0</td>\n",
       "    </tr>\n",
       "    <tr>\n",
       "      <th>1</th>\n",
       "      <td>RWD</td>\n",
       "      <td>22690.0</td>\n",
       "      <td>55975.0</td>\n",
       "      <td>Expensive</td>\n",
       "      <td>Stranded today. Could not get to work. Somethi...</td>\n",
       "      <td>2016.0</td>\n",
       "      <td>3.0</td>\n",
       "      <td>6</td>\n",
       "      <td>Volkswagen</td>\n",
       "      <td>18.0</td>\n",
       "    </tr>\n",
       "    <tr>\n",
       "      <th>2</th>\n",
       "      <td>FWD</td>\n",
       "      <td>17854.0</td>\n",
       "      <td>38900.0</td>\n",
       "      <td>Average</td>\n",
       "      <td>Excellent road car, quiet, stable, comfortable...</td>\n",
       "      <td>2020.0</td>\n",
       "      <td>3.5</td>\n",
       "      <td>6</td>\n",
       "      <td>Other</td>\n",
       "      <td>18.0</td>\n",
       "    </tr>\n",
       "    <tr>\n",
       "      <th>3</th>\n",
       "      <td>FWD</td>\n",
       "      <td>60907.0</td>\n",
       "      <td>22125.0</td>\n",
       "      <td>Cheap</td>\n",
       "      <td>PURCHASED FROM NYE TOYOTA, MY FIRST TACOMA. LO...</td>\n",
       "      <td>2021.0</td>\n",
       "      <td>2.5</td>\n",
       "      <td>4</td>\n",
       "      <td>Toyota</td>\n",
       "      <td>28.0</td>\n",
       "    </tr>\n",
       "    <tr>\n",
       "      <th>4</th>\n",
       "      <td>FWD</td>\n",
       "      <td>41614.0</td>\n",
       "      <td>23946.0</td>\n",
       "      <td>Cheap</td>\n",
       "      <td>I’ve own a 2020 Altima (under 30k miles) for a...</td>\n",
       "      <td>2020.0</td>\n",
       "      <td>2.4</td>\n",
       "      <td>4</td>\n",
       "      <td>Nissan</td>\n",
       "      <td>24.0</td>\n",
       "    </tr>\n",
       "  </tbody>\n",
       "</table>\n",
       "</div>"
      ],
      "text/plain": [
       "  DriveTrain  Mileage  SalePrice PriceCategory  \\\n",
       "0        FWD  53200.0    29000.0       Average   \n",
       "1        RWD  22690.0    55975.0     Expensive   \n",
       "2        FWD  17854.0    38900.0       Average   \n",
       "3        FWD  60907.0    22125.0         Cheap   \n",
       "4        FWD  41614.0    23946.0         Cheap   \n",
       "\n",
       "                                        CleanReviews    Year  newSize  newCyl  \\\n",
       "0  Virtually nothing has gone wrong with my 2020 ...  2020.0      2.5       4   \n",
       "1  Stranded today. Could not get to work. Somethi...  2016.0      3.0       6   \n",
       "2  Excellent road car, quiet, stable, comfortable...  2020.0      3.5       6   \n",
       "3  PURCHASED FROM NYE TOYOTA, MY FIRST TACOMA. LO...  2021.0      2.5       4   \n",
       "4  I’ve own a 2020 Altima (under 30k miles) for a...  2020.0      2.4       4   \n",
       "\n",
       "      newMake   mpg  \n",
       "0      Toyota  27.0  \n",
       "1  Volkswagen  18.0  \n",
       "2       Other  18.0  \n",
       "3      Toyota  28.0  \n",
       "4      Nissan  24.0  "
      ]
     },
     "execution_count": 6,
     "metadata": {},
     "output_type": "execute_result"
    }
   ],
   "source": [
    "data.head()"
   ]
  },
  {
   "cell_type": "code",
   "execution_count": 7,
   "metadata": {},
   "outputs": [],
   "source": [
    "rev_index = 89"
   ]
  },
  {
   "cell_type": "code",
   "execution_count": 8,
   "metadata": {},
   "outputs": [
    {
     "data": {
      "text/plain": [
       "'I like the Highlander XLE but every time I’m on the highway driving I can hear the wind on the driver side. Toyota has not been able to fix it or figure out how to fix it. And while waiting at the light sometimes it feels like the highlander just stopped running and when push the gas paddle it sounds like you just started the engine. I’m a little disappointed. Hate there’s no CD player. Even Lexus has a CD player. , Purchased 2021 Limited in August and have been very pleased with the safety features, especially the front and rear sensors.  I hear 2022 trim levels XLE and higher have the passenger power height adjustment, finally!  This the biggest issue I have with my Highlander.  I also think the front seats could be a little longer to support legs better!  They used to have this in the 2nd generation.  Otherwise I like my vehicle a lot.  7,800 miles so far!, I got my 21 Highlander last year... It was my Birthday gift from my husband...I had always wanted one... He said lets go look at the new cars... When I saw it... It took my breath away...when we drove it... I was sold...so he said Happy Birthday baby ! I have the most wonderful husband and the car of my dreams ! Thank You Toyota... I love my car !!!'"
      ]
     },
     "execution_count": 8,
     "metadata": {},
     "output_type": "execute_result"
    }
   ],
   "source": [
    "sentence = data['CleanReviews'][rev_index]\n",
    "sentence"
   ]
  },
  {
   "cell_type": "code",
   "execution_count": 9,
   "metadata": {},
   "outputs": [
    {
     "name": "stdout",
     "output_type": "stream",
     "text": [
      "Sentiment(classification='pos', p_pos=0.9999804897500271, p_neg=1.9510249965100588e-05)\n",
      "pos\n"
     ]
    }
   ],
   "source": [
    "blob_object = TextBlob(sentence, analyzer=NaiveBayesAnalyzer())\n",
    "# Running sentiment analysis\n",
    "analysis = blob_object.sentiment\n",
    "print(analysis)\n",
    "print(analysis[0])"
   ]
  },
  {
   "cell_type": "code",
   "execution_count": 13,
   "metadata": {},
   "outputs": [],
   "source": [
    "sentiment = []"
   ]
  },
  {
   "cell_type": "code",
   "execution_count": 14,
   "metadata": {},
   "outputs": [
    {
     "data": {
      "application/vnd.jupyter.widget-view+json": {
       "model_id": "6edc33a517004e2b942cc33d2f00e708",
       "version_major": 2,
       "version_minor": 0
      },
      "text/plain": [
       "HBox(children=(HTML(value=''), FloatProgress(value=0.0, max=8474.0), HTML(value='')))"
      ]
     },
     "metadata": {},
     "output_type": "display_data"
    },
    {
     "name": "stdout",
     "output_type": "stream",
     "text": [
      "\n"
     ]
    }
   ],
   "source": [
    "for rev in tqdm(data['CleanReviews']):\n",
    "    blob = TextBlob(rev)\n",
    "    sent = blob.polarity\n",
    "    sentiment.append(sent)"
   ]
  },
  {
   "cell_type": "code",
   "execution_count": 16,
   "metadata": {},
   "outputs": [],
   "source": [
    "data['sentiment'] = sentiment"
   ]
  },
  {
   "cell_type": "code",
   "execution_count": 17,
   "metadata": {},
   "outputs": [
    {
     "data": {
      "text/html": [
       "<div>\n",
       "<style scoped>\n",
       "    .dataframe tbody tr th:only-of-type {\n",
       "        vertical-align: middle;\n",
       "    }\n",
       "\n",
       "    .dataframe tbody tr th {\n",
       "        vertical-align: top;\n",
       "    }\n",
       "\n",
       "    .dataframe thead th {\n",
       "        text-align: right;\n",
       "    }\n",
       "</style>\n",
       "<table border=\"1\" class=\"dataframe\">\n",
       "  <thead>\n",
       "    <tr style=\"text-align: right;\">\n",
       "      <th></th>\n",
       "      <th>DriveTrain</th>\n",
       "      <th>Mileage</th>\n",
       "      <th>SalePrice</th>\n",
       "      <th>PriceCategory</th>\n",
       "      <th>CleanReviews</th>\n",
       "      <th>Year</th>\n",
       "      <th>newSize</th>\n",
       "      <th>newCyl</th>\n",
       "      <th>newMake</th>\n",
       "      <th>mpg</th>\n",
       "      <th>sentiment</th>\n",
       "    </tr>\n",
       "  </thead>\n",
       "  <tbody>\n",
       "    <tr>\n",
       "      <th>0</th>\n",
       "      <td>FWD</td>\n",
       "      <td>53200.0</td>\n",
       "      <td>29000.0</td>\n",
       "      <td>Average</td>\n",
       "      <td>Virtually nothing has gone wrong with my 2020 ...</td>\n",
       "      <td>2020.0</td>\n",
       "      <td>2.5</td>\n",
       "      <td>4</td>\n",
       "      <td>Toyota</td>\n",
       "      <td>27.0</td>\n",
       "      <td>0.129915</td>\n",
       "    </tr>\n",
       "    <tr>\n",
       "      <th>1</th>\n",
       "      <td>RWD</td>\n",
       "      <td>22690.0</td>\n",
       "      <td>55975.0</td>\n",
       "      <td>Expensive</td>\n",
       "      <td>Stranded today. Could not get to work. Somethi...</td>\n",
       "      <td>2016.0</td>\n",
       "      <td>3.0</td>\n",
       "      <td>6</td>\n",
       "      <td>Volkswagen</td>\n",
       "      <td>18.0</td>\n",
       "      <td>0.163393</td>\n",
       "    </tr>\n",
       "    <tr>\n",
       "      <th>2</th>\n",
       "      <td>FWD</td>\n",
       "      <td>17854.0</td>\n",
       "      <td>38900.0</td>\n",
       "      <td>Average</td>\n",
       "      <td>Excellent road car, quiet, stable, comfortable...</td>\n",
       "      <td>2020.0</td>\n",
       "      <td>3.5</td>\n",
       "      <td>6</td>\n",
       "      <td>Other</td>\n",
       "      <td>18.0</td>\n",
       "      <td>0.223107</td>\n",
       "    </tr>\n",
       "    <tr>\n",
       "      <th>3</th>\n",
       "      <td>FWD</td>\n",
       "      <td>60907.0</td>\n",
       "      <td>22125.0</td>\n",
       "      <td>Cheap</td>\n",
       "      <td>PURCHASED FROM NYE TOYOTA, MY FIRST TACOMA. LO...</td>\n",
       "      <td>2021.0</td>\n",
       "      <td>2.5</td>\n",
       "      <td>4</td>\n",
       "      <td>Toyota</td>\n",
       "      <td>28.0</td>\n",
       "      <td>0.190580</td>\n",
       "    </tr>\n",
       "    <tr>\n",
       "      <th>4</th>\n",
       "      <td>FWD</td>\n",
       "      <td>41614.0</td>\n",
       "      <td>23946.0</td>\n",
       "      <td>Cheap</td>\n",
       "      <td>I’ve own a 2020 Altima (under 30k miles) for a...</td>\n",
       "      <td>2020.0</td>\n",
       "      <td>2.4</td>\n",
       "      <td>4</td>\n",
       "      <td>Nissan</td>\n",
       "      <td>24.0</td>\n",
       "      <td>0.106792</td>\n",
       "    </tr>\n",
       "  </tbody>\n",
       "</table>\n",
       "</div>"
      ],
      "text/plain": [
       "  DriveTrain  Mileage  SalePrice PriceCategory  \\\n",
       "0        FWD  53200.0    29000.0       Average   \n",
       "1        RWD  22690.0    55975.0     Expensive   \n",
       "2        FWD  17854.0    38900.0       Average   \n",
       "3        FWD  60907.0    22125.0         Cheap   \n",
       "4        FWD  41614.0    23946.0         Cheap   \n",
       "\n",
       "                                        CleanReviews    Year  newSize  newCyl  \\\n",
       "0  Virtually nothing has gone wrong with my 2020 ...  2020.0      2.5       4   \n",
       "1  Stranded today. Could not get to work. Somethi...  2016.0      3.0       6   \n",
       "2  Excellent road car, quiet, stable, comfortable...  2020.0      3.5       6   \n",
       "3  PURCHASED FROM NYE TOYOTA, MY FIRST TACOMA. LO...  2021.0      2.5       4   \n",
       "4  I’ve own a 2020 Altima (under 30k miles) for a...  2020.0      2.4       4   \n",
       "\n",
       "      newMake   mpg  sentiment  \n",
       "0      Toyota  27.0   0.129915  \n",
       "1  Volkswagen  18.0   0.163393  \n",
       "2       Other  18.0   0.223107  \n",
       "3      Toyota  28.0   0.190580  \n",
       "4      Nissan  24.0   0.106792  "
      ]
     },
     "execution_count": 17,
     "metadata": {},
     "output_type": "execute_result"
    }
   ],
   "source": [
    "data.head()"
   ]
  },
  {
   "cell_type": "code",
   "execution_count": 18,
   "metadata": {},
   "outputs": [],
   "source": [
    "# bins = [\n",
    "#     (data['sentiment'] <0),\n",
    "#     (data['SalePrice'] >0)\n",
    "#     ]\n",
    "\n",
    "# # create a list of the values we want to assign for each condition\n",
    "# price_cat = ['neg', 'pos']\n",
    "\n",
    "# # create a new column and use np.select to assign values to it using our lists as arguments\n",
    "# data['sentiment'] = np.select(bins, price_cat)"
   ]
  },
  {
   "cell_type": "code",
   "execution_count": 19,
   "metadata": {},
   "outputs": [],
   "source": [
    "X = data.drop(columns=['CleanReviews', 'PriceCategory', 'SalePrice'])\n",
    "y = data['PriceCategory']"
   ]
  },
  {
   "cell_type": "code",
   "execution_count": 20,
   "metadata": {},
   "outputs": [],
   "source": [
    "X_t, X_hold, y_t, y_hold = train_test_split(X, y, test_size=0.10, random_state=42)"
   ]
  },
  {
   "cell_type": "code",
   "execution_count": 21,
   "metadata": {},
   "outputs": [],
   "source": [
    "X_train, X_val, y_train, y_val = train_test_split(X_t, y_t, test_size=0.25, random_state=42)"
   ]
  },
  {
   "cell_type": "code",
   "execution_count": 22,
   "metadata": {},
   "outputs": [],
   "source": [
    "num_cols = ['Mileage', 'Year', 'newSize', 'newCyl', 'mpg', 'sentiment']\n",
    "cat_cols = ['DriveTrain', 'newMake']"
   ]
  },
  {
   "cell_type": "code",
   "execution_count": 23,
   "metadata": {},
   "outputs": [],
   "source": [
    "cat_transformer = OneHotEncoder(drop=['RWD', 'Other'])"
   ]
  },
  {
   "cell_type": "code",
   "execution_count": 24,
   "metadata": {},
   "outputs": [],
   "source": [
    "num_transformer = MinMaxScaler()"
   ]
  },
  {
   "cell_type": "code",
   "execution_count": 25,
   "metadata": {},
   "outputs": [],
   "source": [
    "preprocessor = ColumnTransformer(transformers=[\n",
    "    (\"num_trans\", num_transformer, num_cols),\n",
    "    ('cat_trans', cat_transformer, cat_cols)\n",
    "])"
   ]
  },
  {
   "cell_type": "code",
   "execution_count": 26,
   "metadata": {
    "scrolled": true
   },
   "outputs": [
    {
     "data": {
      "text/plain": [
       "<5719x33 sparse matrix of type '<class 'numpy.float64'>'\n",
       "\twith 44505 stored elements in Compressed Sparse Row format>"
      ]
     },
     "execution_count": 26,
     "metadata": {},
     "output_type": "execute_result"
    }
   ],
   "source": [
    "preprocessor.fit_transform(X_train)"
   ]
  },
  {
   "cell_type": "markdown",
   "metadata": {},
   "source": [
    "# Knn"
   ]
  },
  {
   "cell_type": "code",
   "execution_count": 27,
   "metadata": {},
   "outputs": [],
   "source": [
    "clf_knn = Pipeline(steps=[\n",
    "    ('preprocessor', preprocessor),\n",
    "    ('knn', KNeighborsClassifier(n_neighbors=5))\n",
    "])"
   ]
  },
  {
   "cell_type": "code",
   "execution_count": 28,
   "metadata": {},
   "outputs": [
    {
     "data": {
      "text/plain": [
       "Pipeline(steps=[('preprocessor',\n",
       "                 ColumnTransformer(transformers=[('num_trans', MinMaxScaler(),\n",
       "                                                  ['Mileage', 'Year', 'newSize',\n",
       "                                                   'newCyl', 'mpg',\n",
       "                                                   'sentiment']),\n",
       "                                                 ('cat_trans',\n",
       "                                                  OneHotEncoder(drop=['RWD',\n",
       "                                                                      'Other']),\n",
       "                                                  ['DriveTrain', 'newMake'])])),\n",
       "                ('knn', KNeighborsClassifier())])"
      ]
     },
     "execution_count": 28,
     "metadata": {},
     "output_type": "execute_result"
    }
   ],
   "source": [
    "clf_knn.fit(X_train, y_train)"
   ]
  },
  {
   "cell_type": "code",
   "execution_count": 29,
   "metadata": {},
   "outputs": [
    {
     "name": "stdout",
     "output_type": "stream",
     "text": [
      "Train Accuracy: 0.7466340269277846\n",
      "Test Accuracy: 0.6224436287362349\n"
     ]
    }
   ],
   "source": [
    "print(f\"Train Accuracy: {clf_knn.score(X_train, y_train)}\")\n",
    "print(f\"Test Accuracy: {clf_knn.score(X_val, y_val)}\")"
   ]
  },
  {
   "cell_type": "code",
   "execution_count": 30,
   "metadata": {},
   "outputs": [
    {
     "data": {
      "image/png": "[encoded data removed]",
      "text/plain": [
       "<Figure size 432x288 with 2 Axes>"
      ]
     },
     "metadata": {
      "needs_background": "light"
     },
     "output_type": "display_data"
    }
   ],
   "source": [
    "plot_confusion_matrix(clf_knn, X_val, y_val);"
   ]
  },
  {
   "cell_type": "markdown",
   "metadata": {},
   "source": [
    "# Decision Tree"
   ]
  },
  {
   "cell_type": "code",
   "execution_count": 31,
   "metadata": {},
   "outputs": [],
   "source": [
    "clf_dt = Pipeline(steps=[\n",
    "    ('preprocessor', preprocessor),\n",
    "    ('dt', DecisionTreeClassifier(random_state=42))\n",
    "])"
   ]
  },
  {
   "cell_type": "code",
   "execution_count": 32,
   "metadata": {},
   "outputs": [
    {
     "data": {
      "text/plain": [
       "Pipeline(steps=[('preprocessor',\n",
       "                 ColumnTransformer(transformers=[('num_trans', MinMaxScaler(),\n",
       "                                                  ['Mileage', 'Year', 'newSize',\n",
       "                                                   'newCyl', 'mpg',\n",
       "                                                   'sentiment']),\n",
       "                                                 ('cat_trans',\n",
       "                                                  OneHotEncoder(drop=['RWD',\n",
       "                                                                      'Other']),\n",
       "                                                  ['DriveTrain', 'newMake'])])),\n",
       "                ('dt', DecisionTreeClassifier(random_state=42))])"
      ]
     },
     "execution_count": 32,
     "metadata": {},
     "output_type": "execute_result"
    }
   ],
   "source": [
    "clf_dt.fit(X_train, y_train)"
   ]
  },
  {
   "cell_type": "code",
   "execution_count": 33,
   "metadata": {},
   "outputs": [
    {
     "name": "stdout",
     "output_type": "stream",
     "text": [
      "Train Accuracy: 1.0\n",
      "Test Accuracy: 0.6560041950707918\n"
     ]
    }
   ],
   "source": [
    "print(f\"Train Accuracy: {clf_dt.score(X_train, y_train)}\")\n",
    "print(f\"Test Accuracy: {clf_dt.score(X_val, y_val)}\")"
   ]
  },
  {
   "cell_type": "code",
   "execution_count": 34,
   "metadata": {
    "scrolled": true
   },
   "outputs": [
    {
     "data": {
      "image/png": "[encoded data removed]",
      "text/plain": [
       "<Figure size 432x288 with 2 Axes>"
      ]
     },
     "metadata": {
      "needs_background": "light"
     },
     "output_type": "display_data"
    }
   ],
   "source": [
    "plot_confusion_matrix(clf_dt, X_val, y_val);"
   ]
  },
  {
   "cell_type": "markdown",
   "metadata": {},
   "source": [
    "# LogReg"
   ]
  },
  {
   "cell_type": "code",
   "execution_count": 35,
   "metadata": {},
   "outputs": [],
   "source": [
    "clf_lr = Pipeline(steps=[\n",
    "    ('preprocessor', preprocessor),\n",
    "    ('lr', LogisticRegression(penalty='l1', multi_class='multinomial', solver='saga', random_state=42))\n",
    "])"
   ]
  },
  {
   "cell_type": "code",
   "execution_count": 36,
   "metadata": {},
   "outputs": [
    {
     "name": "stderr",
     "output_type": "stream",
     "text": [
      "C:\\Users\\dcv_2\\anaconda3\\envs\\learn-env\\lib\\site-packages\\sklearn\\linear_model\\_sag.py:329: ConvergenceWarning: The max_iter was reached which means the coef_ did not converge\n",
      "  warnings.warn(\"The max_iter was reached which means \"\n"
     ]
    },
    {
     "data": {
      "text/plain": [
       "Pipeline(steps=[('preprocessor',\n",
       "                 ColumnTransformer(transformers=[('num_trans', MinMaxScaler(),\n",
       "                                                  ['Mileage', 'Year', 'newSize',\n",
       "                                                   'newCyl', 'mpg',\n",
       "                                                   'sentiment']),\n",
       "                                                 ('cat_trans',\n",
       "                                                  OneHotEncoder(drop=['RWD',\n",
       "                                                                      'Other']),\n",
       "                                                  ['DriveTrain', 'newMake'])])),\n",
       "                ('lr',\n",
       "                 LogisticRegression(multi_class='multinomial', penalty='l1',\n",
       "                                    random_state=42, solver='saga'))])"
      ]
     },
     "execution_count": 36,
     "metadata": {},
     "output_type": "execute_result"
    }
   ],
   "source": [
    "clf_lr.fit(X_train, y_train)"
   ]
  },
  {
   "cell_type": "code",
   "execution_count": 37,
   "metadata": {},
   "outputs": [
    {
     "name": "stdout",
     "output_type": "stream",
     "text": [
      "Train Accuracy: 0.6927784577723378\n",
      "Test Accuracy: 0.670162558993183\n"
     ]
    }
   ],
   "source": [
    "print(f\"Train Accuracy: {clf_lr.score(X_train, y_train)}\")\n",
    "print(f\"Test Accuracy: {clf_lr.score(X_val, y_val)}\")"
   ]
  },
  {
   "cell_type": "code",
   "execution_count": 38,
   "metadata": {
    "scrolled": true
   },
   "outputs": [
    {
     "name": "stderr",
     "output_type": "stream",
     "text": [
      "C:\\Users\\dcv_2\\anaconda3\\envs\\learn-env\\lib\\site-packages\\sklearn\\linear_model\\_sag.py:329: ConvergenceWarning: The max_iter was reached which means the coef_ did not converge\n",
      "  warnings.warn(\"The max_iter was reached which means \"\n",
      "C:\\Users\\dcv_2\\anaconda3\\envs\\learn-env\\lib\\site-packages\\sklearn\\linear_model\\_sag.py:329: ConvergenceWarning: The max_iter was reached which means the coef_ did not converge\n",
      "  warnings.warn(\"The max_iter was reached which means \"\n",
      "C:\\Users\\dcv_2\\anaconda3\\envs\\learn-env\\lib\\site-packages\\sklearn\\linear_model\\_sag.py:329: ConvergenceWarning: The max_iter was reached which means the coef_ did not converge\n",
      "  warnings.warn(\"The max_iter was reached which means \"\n",
      "C:\\Users\\dcv_2\\anaconda3\\envs\\learn-env\\lib\\site-packages\\sklearn\\linear_model\\_sag.py:329: ConvergenceWarning: The max_iter was reached which means the coef_ did not converge\n",
      "  warnings.warn(\"The max_iter was reached which means \"\n",
      "C:\\Users\\dcv_2\\anaconda3\\envs\\learn-env\\lib\\site-packages\\sklearn\\linear_model\\_sag.py:329: ConvergenceWarning: The max_iter was reached which means the coef_ did not converge\n",
      "  warnings.warn(\"The max_iter was reached which means \"\n"
     ]
    }
   ],
   "source": [
    "cv_results = cross_validate(clf_lr, X_train, y_train, cv=5, return_train_score=True)"
   ]
  },
  {
   "cell_type": "code",
   "execution_count": 39,
   "metadata": {},
   "outputs": [
    {
     "data": {
      "text/plain": [
       "0.6814123977509803"
      ]
     },
     "execution_count": 39,
     "metadata": {},
     "output_type": "execute_result"
    }
   ],
   "source": [
    "cv_results['test_score'].mean()"
   ]
  },
  {
   "cell_type": "code",
   "execution_count": 40,
   "metadata": {
    "scrolled": true
   },
   "outputs": [
    {
     "data": {
      "text/plain": [
       "0.6928222801788376"
      ]
     },
     "execution_count": 40,
     "metadata": {},
     "output_type": "execute_result"
    }
   ],
   "source": [
    "cv_results['train_score'].mean()"
   ]
  },
  {
   "cell_type": "code",
   "execution_count": 41,
   "metadata": {},
   "outputs": [
    {
     "data": {
      "image/png": "[encoded data removed]",
      "text/plain": [
       "<Figure size 432x288 with 2 Axes>"
      ]
     },
     "metadata": {
      "needs_background": "light"
     },
     "output_type": "display_data"
    }
   ],
   "source": [
    "plot_confusion_matrix(clf_lr, X_val, y_val);"
   ]
  },
  {
   "cell_type": "markdown",
   "metadata": {},
   "source": [
    "# Random Forest"
   ]
  },
  {
   "cell_type": "code",
   "execution_count": 42,
   "metadata": {},
   "outputs": [],
   "source": [
    "clf_rf = Pipeline(steps=[\n",
    "    ('preprocessor', preprocessor),\n",
    "    ('rf', RandomForestClassifier(max_depth=10, random_state=42))\n",
    "])"
   ]
  },
  {
   "cell_type": "code",
   "execution_count": 43,
   "metadata": {},
   "outputs": [
    {
     "data": {
      "text/plain": [
       "Pipeline(steps=[('preprocessor',\n",
       "                 ColumnTransformer(transformers=[('num_trans', MinMaxScaler(),\n",
       "                                                  ['Mileage', 'Year', 'newSize',\n",
       "                                                   'newCyl', 'mpg',\n",
       "                                                   'sentiment']),\n",
       "                                                 ('cat_trans',\n",
       "                                                  OneHotEncoder(drop=['RWD',\n",
       "                                                                      'Other']),\n",
       "                                                  ['DriveTrain', 'newMake'])])),\n",
       "                ('rf', RandomForestClassifier(max_depth=10, random_state=42))])"
      ]
     },
     "execution_count": 43,
     "metadata": {},
     "output_type": "execute_result"
    }
   ],
   "source": [
    "clf_rf.fit(X_train, y_train)"
   ]
  },
  {
   "cell_type": "code",
   "execution_count": 44,
   "metadata": {},
   "outputs": [
    {
     "name": "stdout",
     "output_type": "stream",
     "text": [
      "Train Accuracy: 0.8073089700996677\n",
      "Test Accuracy: 0.7178814892501311\n"
     ]
    }
   ],
   "source": [
    "print(f\"Train Accuracy: {clf_rf.score(X_train, y_train)}\")\n",
    "print(f\"Test Accuracy: {clf_rf.score(X_val, y_val)}\")"
   ]
  },
  {
   "cell_type": "code",
   "execution_count": 45,
   "metadata": {
    "scrolled": true
   },
   "outputs": [
    {
     "data": {
      "image/png": "[encoded data removed]",
      "text/plain": [
       "<Figure size 432x288 with 2 Axes>"
      ]
     },
     "metadata": {
      "needs_background": "light"
     },
     "output_type": "display_data"
    }
   ],
   "source": [
    "plot_confusion_matrix(clf_rf, X_val, y_val);"
   ]
  },
  {
   "cell_type": "markdown",
   "metadata": {},
   "source": [
    "# Ridge classifier"
   ]
  },
  {
   "cell_type": "code",
   "execution_count": 46,
   "metadata": {},
   "outputs": [],
   "source": [
    "clf_rr = Pipeline(steps=[\n",
    "    ('preprocessor', preprocessor),\n",
    "    ('rr', RidgeClassifier(solver='sag', random_state=42))\n",
    "])"
   ]
  },
  {
   "cell_type": "code",
   "execution_count": 47,
   "metadata": {},
   "outputs": [
    {
     "name": "stderr",
     "output_type": "stream",
     "text": [
      "C:\\Users\\dcv_2\\anaconda3\\envs\\learn-env\\lib\\site-packages\\sklearn\\linear_model\\_ridge.py:555: UserWarning: \"sag\" solver requires many iterations to fit an intercept with sparse inputs. Either set the solver to \"auto\" or \"sparse_cg\", or set a low \"tol\" and a high \"max_iter\" (especially if inputs are not standardized).\n",
      "  warnings.warn(\n"
     ]
    },
    {
     "data": {
      "text/plain": [
       "Pipeline(steps=[('preprocessor',\n",
       "                 ColumnTransformer(transformers=[('num_trans', MinMaxScaler(),\n",
       "                                                  ['Mileage', 'Year', 'newSize',\n",
       "                                                   'newCyl', 'mpg',\n",
       "                                                   'sentiment']),\n",
       "                                                 ('cat_trans',\n",
       "                                                  OneHotEncoder(drop=['RWD',\n",
       "                                                                      'Other']),\n",
       "                                                  ['DriveTrain', 'newMake'])])),\n",
       "                ('rr', RidgeClassifier(random_state=42, solver='sag'))])"
      ]
     },
     "execution_count": 47,
     "metadata": {},
     "output_type": "execute_result"
    }
   ],
   "source": [
    "clf_rr.fit(X_train, y_train)"
   ]
  },
  {
   "cell_type": "code",
   "execution_count": 48,
   "metadata": {},
   "outputs": [
    {
     "name": "stdout",
     "output_type": "stream",
     "text": [
      "Train Accuracy: 0.6548347613219094\n",
      "Test Accuracy: 0.6371263765076036\n"
     ]
    }
   ],
   "source": [
    "print(f\"Train Accuracy: {clf_rr.score(X_train, y_train)}\")\n",
    "print(f\"Test Accuracy: {clf_rr.score(X_val, y_val)}\")"
   ]
  },
  {
   "cell_type": "code",
   "execution_count": 49,
   "metadata": {
    "scrolled": true
   },
   "outputs": [
    {
     "name": "stderr",
     "output_type": "stream",
     "text": [
      "C:\\Users\\dcv_2\\anaconda3\\envs\\learn-env\\lib\\site-packages\\sklearn\\linear_model\\_ridge.py:555: UserWarning: \"sag\" solver requires many iterations to fit an intercept with sparse inputs. Either set the solver to \"auto\" or \"sparse_cg\", or set a low \"tol\" and a high \"max_iter\" (especially if inputs are not standardized).\n",
      "  warnings.warn(\n",
      "C:\\Users\\dcv_2\\anaconda3\\envs\\learn-env\\lib\\site-packages\\sklearn\\linear_model\\_ridge.py:555: UserWarning: \"sag\" solver requires many iterations to fit an intercept with sparse inputs. Either set the solver to \"auto\" or \"sparse_cg\", or set a low \"tol\" and a high \"max_iter\" (especially if inputs are not standardized).\n",
      "  warnings.warn(\n",
      "C:\\Users\\dcv_2\\anaconda3\\envs\\learn-env\\lib\\site-packages\\sklearn\\linear_model\\_ridge.py:555: UserWarning: \"sag\" solver requires many iterations to fit an intercept with sparse inputs. Either set the solver to \"auto\" or \"sparse_cg\", or set a low \"tol\" and a high \"max_iter\" (especially if inputs are not standardized).\n",
      "  warnings.warn(\n",
      "C:\\Users\\dcv_2\\anaconda3\\envs\\learn-env\\lib\\site-packages\\sklearn\\linear_model\\_ridge.py:555: UserWarning: \"sag\" solver requires many iterations to fit an intercept with sparse inputs. Either set the solver to \"auto\" or \"sparse_cg\", or set a low \"tol\" and a high \"max_iter\" (especially if inputs are not standardized).\n",
      "  warnings.warn(\n",
      "C:\\Users\\dcv_2\\anaconda3\\envs\\learn-env\\lib\\site-packages\\sklearn\\linear_model\\_ridge.py:555: UserWarning: \"sag\" solver requires many iterations to fit an intercept with sparse inputs. Either set the solver to \"auto\" or \"sparse_cg\", or set a low \"tol\" and a high \"max_iter\" (especially if inputs are not standardized).\n",
      "  warnings.warn(\n"
     ]
    }
   ],
   "source": [
    "cv_results_rr = cross_validate(clf_rr, X_train, y_train, cv=5, return_train_score=True)"
   ]
  },
  {
   "cell_type": "code",
   "execution_count": 50,
   "metadata": {},
   "outputs": [
    {
     "data": {
      "text/plain": [
       "0.6446914633922508"
      ]
     },
     "execution_count": 50,
     "metadata": {},
     "output_type": "execute_result"
    }
   ],
   "source": [
    "cv_results_rr['test_score'].mean()"
   ]
  },
  {
   "cell_type": "code",
   "execution_count": 51,
   "metadata": {},
   "outputs": [
    {
     "data": {
      "text/plain": [
       "0.6568892964958538"
      ]
     },
     "execution_count": 51,
     "metadata": {},
     "output_type": "execute_result"
    }
   ],
   "source": [
    "cv_results_rr['train_score'].mean()"
   ]
  },
  {
   "cell_type": "code",
   "execution_count": 52,
   "metadata": {},
   "outputs": [
    {
     "data": {
      "image/png": "[encoded data removed]",
      "text/plain": [
       "<Figure size 432x288 with 2 Axes>"
      ]
     },
     "metadata": {
      "needs_background": "light"
     },
     "output_type": "display_data"
    }
   ],
   "source": [
    "plot_confusion_matrix(clf_rr, X_val, y_val);"
   ]
  },
  {
   "cell_type": "markdown",
   "metadata": {},
   "source": [
    "# XGBoost"
   ]
  },
  {
   "cell_type": "code",
   "execution_count": 53,
   "metadata": {},
   "outputs": [],
   "source": [
    "clf_xgb = Pipeline(steps=[\n",
    "    ('preprocessor', preprocessor),\n",
    "    ('xgb', xgb.XGBClassifier(random_state=42, \n",
    "                              learning_rate=.1, \n",
    "                              max_depth=6,\n",
    "                             n_estimators=50))\n",
    "])"
   ]
  },
  {
   "cell_type": "code",
   "execution_count": 54,
   "metadata": {},
   "outputs": [
    {
     "data": {
      "text/plain": [
       "Pipeline(steps=[('preprocessor',\n",
       "                 ColumnTransformer(transformers=[('num_trans', MinMaxScaler(),\n",
       "                                                  ['Mileage', 'Year', 'newSize',\n",
       "                                                   'newCyl', 'mpg',\n",
       "                                                   'sentiment']),\n",
       "                                                 ('cat_trans',\n",
       "                                                  OneHotEncoder(drop=['RWD',\n",
       "                                                                      'Other']),\n",
       "                                                  ['DriveTrain', 'newMake'])])),\n",
       "                ('xgb',\n",
       "                 XGBClassifier(base_score=0.5, booster='gbtree',\n",
       "                               colsample_bylevel=1, colsample_bynode=1,\n",
       "                               colsample_bytree=1, gamma=0, gpu_...\n",
       "                               importance_type='gain',\n",
       "                               interaction_constraints='', learning_rate=0.1,\n",
       "                               max_delta_step=0, max_depth=6,\n",
       "                               min_child_weight=1, missing=nan,\n",
       "                               monotone_constraints='()', n_estimators=50,\n",
       "                               n_jobs=0, num_parallel_tree=1,\n",
       "                               objective='multi:softprob', random_state=42,\n",
       "                               reg_alpha=0, reg_lambda=1, scale_pos_weight=None,\n",
       "                               subsample=1, tree_method='exact',\n",
       "                               validate_parameters=1, verbosity=None))])"
      ]
     },
     "execution_count": 54,
     "metadata": {},
     "output_type": "execute_result"
    }
   ],
   "source": [
    "clf_xgb.fit(X_train, y_train)"
   ]
  },
  {
   "cell_type": "code",
   "execution_count": 55,
   "metadata": {},
   "outputs": [
    {
     "name": "stdout",
     "output_type": "stream",
     "text": [
      "Train Accuracy: 0.8150026228361602\n",
      "Test Accuracy: 0.7519664394336655\n"
     ]
    }
   ],
   "source": [
    "print(f\"Train Accuracy: {clf_xgb.score(X_train, y_train)}\")\n",
    "print(f\"Test Accuracy: {clf_xgb.score(X_val, y_val)}\")"
   ]
  },
  {
   "cell_type": "code",
   "execution_count": 56,
   "metadata": {
    "scrolled": false
   },
   "outputs": [
    {
     "data": {
      "image/png": "[encoded data removed]",
      "text/plain": [
       "<Figure size 432x288 with 2 Axes>"
      ]
     },
     "metadata": {
      "needs_background": "light"
     },
     "output_type": "display_data"
    }
   ],
   "source": [
    "plot_confusion_matrix(clf_xgb, X_val, y_val);"
   ]
  },
  {
   "cell_type": "code",
   "execution_count": 57,
   "metadata": {},
   "outputs": [
    {
     "data": {
      "text/plain": [
       "Average      798\n",
       "Cheap        650\n",
       "Expensive    459\n",
       "Name: PriceCategory, dtype: int64"
      ]
     },
     "execution_count": 57,
     "metadata": {},
     "output_type": "execute_result"
    }
   ],
   "source": [
    "y_val.value_counts()"
   ]
  },
  {
   "cell_type": "code",
   "execution_count": null,
   "metadata": {},
   "outputs": [],
   "source": []
  },
  {
   "cell_type": "code",
   "execution_count": null,
   "metadata": {},
   "outputs": [],
   "source": []
  },
  {
   "cell_type": "code",
   "execution_count": null,
   "metadata": {},
   "outputs": [],
   "source": []
  },
  {
   "cell_type": "code",
   "execution_count": null,
   "metadata": {},
   "outputs": [],
   "source": []
  },
  {
   "cell_type": "code",
   "execution_count": null,
   "metadata": {},
   "outputs": [],
   "source": []
  },
  {
   "cell_type": "code",
   "execution_count": null,
   "metadata": {},
   "outputs": [],
   "source": []
  },
  {
   "cell_type": "code",
   "execution_count": null,
   "metadata": {},
   "outputs": [],
   "source": []
  }
 ],
 "metadata": {
  "kernelspec": {
   "display_name": "Python (learn-env)",
   "language": "python",
   "name": "learn-env"
  },
  "language_info": {
   "codemirror_mode": {
    "name": "ipython",
    "version": 3
   },
   "file_extension": ".py",
   "mimetype": "text/x-python",
   "name": "python",
   "nbconvert_exporter": "python",
   "pygments_lexer": "ipython3",
   "version": "3.8.5"
  }
 },
 "nbformat": 4,
 "nbformat_minor": 4
}
