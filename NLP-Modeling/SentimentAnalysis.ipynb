{
 "cells": [
  {
   "cell_type": "code",
   "execution_count": 1,
   "metadata": {},
   "outputs": [],
   "source": [
    "from textblob import TextBlob"
   ]
  },
  {
   "cell_type": "code",
   "execution_count": 2,
   "metadata": {},
   "outputs": [],
   "source": [
    "from collections import defaultdict\n",
    "import numpy as np\n",
    "import pandas as pd\n",
    "from sklearn.model_selection import train_test_split\n",
    "import nltk\n",
    "from nltk.tokenize import regexp_tokenize, word_tokenize, RegexpTokenizer\n",
    "from nltk.corpus import stopwords, wordnet\n",
    "from nltk import pos_tag\n",
    "from nltk.stem import WordNetLemmatizer\n",
    "from sklearn.feature_extraction.text import TfidfVectorizer, CountVectorizer\n",
    "from sklearn.naive_bayes import MultinomialNB"
   ]
  },
  {
   "cell_type": "code",
   "execution_count": 11,
   "metadata": {},
   "outputs": [],
   "source": [
    "from textblob.sentiments import NaiveBayesAnalyzer"
   ]
  },
  {
   "cell_type": "markdown",
   "metadata": {},
   "source": [
    "# Using TextBlob :)"
   ]
  },
  {
   "cell_type": "markdown",
   "metadata": {},
   "source": [
    "- exploring textblob\n",
    "- learn how to use it and apply it to the model"
   ]
  },
  {
   "cell_type": "code",
   "execution_count": 3,
   "metadata": {},
   "outputs": [],
   "source": [
    "data = pd.read_csv('CleanData3bins.csv')\n",
    "\n",
    "data = data.drop(columns='Unnamed: 0')"
   ]
  },
  {
   "cell_type": "code",
   "execution_count": 4,
   "metadata": {},
   "outputs": [],
   "source": [
    "df = data[['CleanReviews', 'PriceCategory']]"
   ]
  },
  {
   "cell_type": "code",
   "execution_count": 5,
   "metadata": {
    "scrolled": false
   },
   "outputs": [
    {
     "data": {
      "text/html": [
       "<div>\n",
       "<style scoped>\n",
       "    .dataframe tbody tr th:only-of-type {\n",
       "        vertical-align: middle;\n",
       "    }\n",
       "\n",
       "    .dataframe tbody tr th {\n",
       "        vertical-align: top;\n",
       "    }\n",
       "\n",
       "    .dataframe thead th {\n",
       "        text-align: right;\n",
       "    }\n",
       "</style>\n",
       "<table border=\"1\" class=\"dataframe\">\n",
       "  <thead>\n",
       "    <tr style=\"text-align: right;\">\n",
       "      <th></th>\n",
       "      <th>CleanReviews</th>\n",
       "      <th>PriceCategory</th>\n",
       "    </tr>\n",
       "  </thead>\n",
       "  <tbody>\n",
       "    <tr>\n",
       "      <th>0</th>\n",
       "      <td>Virtually nothing has gone wrong with my 2020 ...</td>\n",
       "      <td>Average</td>\n",
       "    </tr>\n",
       "    <tr>\n",
       "      <th>1</th>\n",
       "      <td>Stranded today. Could not get to work. Somethi...</td>\n",
       "      <td>Expensive</td>\n",
       "    </tr>\n",
       "    <tr>\n",
       "      <th>2</th>\n",
       "      <td>Excellent road car, quiet, stable, comfortable...</td>\n",
       "      <td>Average</td>\n",
       "    </tr>\n",
       "    <tr>\n",
       "      <th>3</th>\n",
       "      <td>PURCHASED FROM NYE TOYOTA, MY FIRST TACOMA. LO...</td>\n",
       "      <td>Cheap</td>\n",
       "    </tr>\n",
       "    <tr>\n",
       "      <th>4</th>\n",
       "      <td>I’ve own a 2020 Altima (under 30k miles) for a...</td>\n",
       "      <td>Cheap</td>\n",
       "    </tr>\n",
       "    <tr>\n",
       "      <th>...</th>\n",
       "      <td>...</td>\n",
       "      <td>...</td>\n",
       "    </tr>\n",
       "    <tr>\n",
       "      <th>8469</th>\n",
       "      <td>Only had the X5 for 4 weeks now but so far it ...</td>\n",
       "      <td>Cheap</td>\n",
       "    </tr>\n",
       "    <tr>\n",
       "      <th>8470</th>\n",
       "      <td>When I bought my 2020 Tacoma V6 (3.5L) 4x4 in ...</td>\n",
       "      <td>Average</td>\n",
       "    </tr>\n",
       "    <tr>\n",
       "      <th>8471</th>\n",
       "      <td>Everything is great except the rear view camer...</td>\n",
       "      <td>Cheap</td>\n",
       "    </tr>\n",
       "    <tr>\n",
       "      <th>8472</th>\n",
       "      <td>I have owned smaller SUV\\s and Trucks for over...</td>\n",
       "      <td>Expensive</td>\n",
       "    </tr>\n",
       "    <tr>\n",
       "      <th>8473</th>\n",
       "      <td>Transmission and brake problems. Transmission ...</td>\n",
       "      <td>Average</td>\n",
       "    </tr>\n",
       "  </tbody>\n",
       "</table>\n",
       "<p>8474 rows × 2 columns</p>\n",
       "</div>"
      ],
      "text/plain": [
       "                                           CleanReviews PriceCategory\n",
       "0     Virtually nothing has gone wrong with my 2020 ...       Average\n",
       "1     Stranded today. Could not get to work. Somethi...     Expensive\n",
       "2     Excellent road car, quiet, stable, comfortable...       Average\n",
       "3     PURCHASED FROM NYE TOYOTA, MY FIRST TACOMA. LO...         Cheap\n",
       "4     I’ve own a 2020 Altima (under 30k miles) for a...         Cheap\n",
       "...                                                 ...           ...\n",
       "8469  Only had the X5 for 4 weeks now but so far it ...         Cheap\n",
       "8470  When I bought my 2020 Tacoma V6 (3.5L) 4x4 in ...       Average\n",
       "8471  Everything is great except the rear view camer...         Cheap\n",
       "8472  I have owned smaller SUV\\s and Trucks for over...     Expensive\n",
       "8473  Transmission and brake problems. Transmission ...       Average\n",
       "\n",
       "[8474 rows x 2 columns]"
      ]
     },
     "execution_count": 5,
     "metadata": {},
     "output_type": "execute_result"
    }
   ],
   "source": [
    "df"
   ]
  },
  {
   "cell_type": "code",
   "execution_count": 6,
   "metadata": {},
   "outputs": [],
   "source": [
    "rev_index = 89"
   ]
  },
  {
   "cell_type": "code",
   "execution_count": 10,
   "metadata": {
    "scrolled": true
   },
   "outputs": [
    {
     "data": {
      "text/plain": [
       "'I like the Highlander XLE but every time I’m on the highway driving I can hear the wind on the driver side. Toyota has not been able to fix it or figure out how to fix it. And while waiting at the light sometimes it feels like the highlander just stopped running and when push the gas paddle it sounds like you just started the engine. I’m a little disappointed. Hate there’s no CD player. Even Lexus has a CD player. , Purchased 2021 Limited in August and have been very pleased with the safety features, especially the front and rear sensors.  I hear 2022 trim levels XLE and higher have the passenger power height adjustment, finally!  This the biggest issue I have with my Highlander.  I also think the front seats could be a little longer to support legs better!  They used to have this in the 2nd generation.  Otherwise I like my vehicle a lot.  7,800 miles so far!, I got my 21 Highlander last year... It was my Birthday gift from my husband...I had always wanted one... He said lets go look at the new cars... When I saw it... It took my breath away...when we drove it... I was sold...so he said Happy Birthday baby ! I have the most wonderful husband and the car of my dreams ! Thank You Toyota... I love my car !!!'"
      ]
     },
     "execution_count": 10,
     "metadata": {},
     "output_type": "execute_result"
    }
   ],
   "source": [
    "sentence = df['CleanReviews'][rev_index]\n",
    "sentence"
   ]
  },
  {
   "cell_type": "markdown",
   "metadata": {},
   "source": [
    "**Cool Stuff**\n",
    "- you can get a polarity value [-1,1] \n",
    " - -1 being a negative review, +1 being a positive review, 0 being neutral\n",
    "- there is also a subjective value [0,1]\n",
    "    - same as polarity value, 0 being non-subjective, 1 being really subjective"
   ]
  },
  {
   "cell_type": "code",
   "execution_count": 9,
   "metadata": {},
   "outputs": [
    {
     "name": "stdout",
     "output_type": "stream",
     "text": [
      "0.20832487824675328\n",
      "0.6369534632034632\n",
      "Sentiment(polarity=0.20832487824675328, subjectivity=0.6369534632034632)\n"
     ]
    }
   ],
   "source": [
    "analysisPol = TextBlob(sentence).polarity\n",
    "analysisSub = TextBlob(sentence).subjectivity\n",
    "\n",
    "print(analysisPol)\n",
    "print(analysisSub)\n",
    "print(TextBlob(sentence).sentiment)"
   ]
  },
  {
   "cell_type": "code",
   "execution_count": 15,
   "metadata": {
    "scrolled": true
   },
   "outputs": [
    {
     "name": "stdout",
     "output_type": "stream",
     "text": [
      "Sentiment(classification='pos', p_pos=0.9999804897500271, p_neg=1.9510249965100588e-05)\n"
     ]
    }
   ],
   "source": [
    "blob_object = TextBlob(sentence)\n",
    "# Running sentiment analysis\n",
    "analysis = blob_object.sentiment\n",
    "print(analysis)"
   ]
  },
  {
   "cell_type": "markdown",
   "metadata": {},
   "source": [
    "**I can grab the pos or neg tag**"
   ]
  },
  {
   "cell_type": "code",
   "execution_count": 16,
   "metadata": {},
   "outputs": [
    {
     "data": {
      "text/plain": [
       "'pos'"
      ]
     },
     "execution_count": 16,
     "metadata": {},
     "output_type": "execute_result"
    }
   ],
   "source": [
    "analysis[0]"
   ]
  },
  {
   "cell_type": "code",
   "execution_count": null,
   "metadata": {},
   "outputs": [],
   "source": []
  }
 ],
 "metadata": {
  "kernelspec": {
   "display_name": "Python (learn-env)",
   "language": "python",
   "name": "learn-env"
  },
  "language_info": {
   "codemirror_mode": {
    "name": "ipython",
    "version": 3
   },
   "file_extension": ".py",
   "mimetype": "text/x-python",
   "name": "python",
   "nbconvert_exporter": "python",
   "pygments_lexer": "ipython3",
   "version": "3.8.5"
  }
 },
 "nbformat": 4,
 "nbformat_minor": 4
}
