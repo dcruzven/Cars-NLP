{
 "cells": [
  {
   "cell_type": "markdown",
   "metadata": {},
   "source": [
    "# NLP Model"
   ]
  },
  {
   "cell_type": "markdown",
   "metadata": {},
   "source": [
    "- Create a basic nlp model\n",
    "- predict bins"
   ]
  },
  {
   "cell_type": "code",
   "execution_count": 1,
   "metadata": {},
   "outputs": [],
   "source": [
    "from collections import defaultdict\n",
    "import numpy as np\n",
    "import pandas as pd\n",
    "from sklearn.model_selection import train_test_split\n",
    "import nltk\n",
    "from nltk.tokenize import regexp_tokenize, word_tokenize, RegexpTokenizer\n",
    "from nltk.corpus import stopwords, wordnet\n",
    "from nltk import pos_tag\n",
    "from nltk.stem import WordNetLemmatizer\n",
    "from sklearn.feature_extraction.text import TfidfVectorizer, CountVectorizer\n",
    "from sklearn.ensemble import RandomForestClassifier\n",
    "from sklearn.naive_bayes import MultinomialNB\n",
    "from sklearn.metrics import accuracy_score, precision_score, confusion_matrix\n",
    "from sklearn.metrics import plot_confusion_matrix"
   ]
  },
  {
   "cell_type": "code",
   "execution_count": 2,
   "metadata": {},
   "outputs": [],
   "source": [
    "df = pd.read_csv('data/cleanMVP.csv')"
   ]
  },
  {
   "cell_type": "code",
   "execution_count": 3,
   "metadata": {
    "scrolled": false
   },
   "outputs": [
    {
     "data": {
      "text/html": [
       "<div>\n",
       "<style scoped>\n",
       "    .dataframe tbody tr th:only-of-type {\n",
       "        vertical-align: middle;\n",
       "    }\n",
       "\n",
       "    .dataframe tbody tr th {\n",
       "        vertical-align: top;\n",
       "    }\n",
       "\n",
       "    .dataframe thead th {\n",
       "        text-align: right;\n",
       "    }\n",
       "</style>\n",
       "<table border=\"1\" class=\"dataframe\">\n",
       "  <thead>\n",
       "    <tr style=\"text-align: right;\">\n",
       "      <th></th>\n",
       "      <th>Unnamed: 0</th>\n",
       "      <th>Reviews</th>\n",
       "      <th>SalePrice</th>\n",
       "      <th>PriceCategory</th>\n",
       "      <th>CleanReviews</th>\n",
       "    </tr>\n",
       "  </thead>\n",
       "  <tbody>\n",
       "    <tr>\n",
       "      <th>0</th>\n",
       "      <td>0</td>\n",
       "      <td>['Virtually nothing has gone wrong with my 202...</td>\n",
       "      <td>29000.0</td>\n",
       "      <td>BelowAverage</td>\n",
       "      <td>Virtually nothing has gone wrong with my 2020 ...</td>\n",
       "    </tr>\n",
       "    <tr>\n",
       "      <th>1</th>\n",
       "      <td>1</td>\n",
       "      <td>[\"2018 XTL, 4X4, 302A Package 48000 mi. Other ...</td>\n",
       "      <td>39998.0</td>\n",
       "      <td>AboveAverage</td>\n",
       "      <td>2018 XTL, 4X4, 302A Package 48000 mi. Other th...</td>\n",
       "    </tr>\n",
       "    <tr>\n",
       "      <th>2</th>\n",
       "      <td>2</td>\n",
       "      <td>[\"Stranded today. Could not get to work. Somet...</td>\n",
       "      <td>18989.0</td>\n",
       "      <td>Cheap</td>\n",
       "      <td>Stranded today. Could not get to work. Somethi...</td>\n",
       "    </tr>\n",
       "    <tr>\n",
       "      <th>3</th>\n",
       "      <td>3</td>\n",
       "      <td>['Excellent road car, quiet, stable, comfortab...</td>\n",
       "      <td>55975.0</td>\n",
       "      <td>Expensive</td>\n",
       "      <td>Excellent road car, quiet, stable, comfortable...</td>\n",
       "    </tr>\n",
       "    <tr>\n",
       "      <th>4</th>\n",
       "      <td>4</td>\n",
       "      <td>['PURCHASED FROM NYE TOYOTA, MY FIRST TACOMA. ...</td>\n",
       "      <td>38900.0</td>\n",
       "      <td>AboveAverage</td>\n",
       "      <td>PURCHASED FROM NYE TOYOTA, MY FIRST TACOMA. LO...</td>\n",
       "    </tr>\n",
       "    <tr>\n",
       "      <th>...</th>\n",
       "      <td>...</td>\n",
       "      <td>...</td>\n",
       "      <td>...</td>\n",
       "      <td>...</td>\n",
       "      <td>...</td>\n",
       "    </tr>\n",
       "    <tr>\n",
       "      <th>9603</th>\n",
       "      <td>9611</td>\n",
       "      <td>['Uconnect system is awful,\\r\\nMost of the tim...</td>\n",
       "      <td>25500.0</td>\n",
       "      <td>BelowAverage</td>\n",
       "      <td>Uconnect system is awful,Most of the time the ...</td>\n",
       "    </tr>\n",
       "    <tr>\n",
       "      <th>9604</th>\n",
       "      <td>9612</td>\n",
       "      <td>['Very happy with this car. It’s great value f...</td>\n",
       "      <td>35590.0</td>\n",
       "      <td>Average</td>\n",
       "      <td>Very happy with this car. It’s great value for...</td>\n",
       "    </tr>\n",
       "    <tr>\n",
       "      <th>9605</th>\n",
       "      <td>9613</td>\n",
       "      <td>['I own one and for the past two years I have ...</td>\n",
       "      <td>24000.0</td>\n",
       "      <td>BelowAverage</td>\n",
       "      <td>I own one and for the past two years I have no...</td>\n",
       "    </tr>\n",
       "    <tr>\n",
       "      <th>9606</th>\n",
       "      <td>9614</td>\n",
       "      <td>['This car is great. It is an amazing experien...</td>\n",
       "      <td>71077.0</td>\n",
       "      <td>Expensive</td>\n",
       "      <td>This car is great. It is an amazing experience...</td>\n",
       "    </tr>\n",
       "    <tr>\n",
       "      <th>9607</th>\n",
       "      <td>9615</td>\n",
       "      <td>['I have always wanted this vehicle so purchas...</td>\n",
       "      <td>34988.0</td>\n",
       "      <td>Average</td>\n",
       "      <td>I have always wanted this vehicle so purchasin...</td>\n",
       "    </tr>\n",
       "  </tbody>\n",
       "</table>\n",
       "<p>9608 rows × 5 columns</p>\n",
       "</div>"
      ],
      "text/plain": [
       "      Unnamed: 0                                            Reviews  \\\n",
       "0              0  ['Virtually nothing has gone wrong with my 202...   \n",
       "1              1  [\"2018 XTL, 4X4, 302A Package 48000 mi. Other ...   \n",
       "2              2  [\"Stranded today. Could not get to work. Somet...   \n",
       "3              3  ['Excellent road car, quiet, stable, comfortab...   \n",
       "4              4  ['PURCHASED FROM NYE TOYOTA, MY FIRST TACOMA. ...   \n",
       "...          ...                                                ...   \n",
       "9603        9611  ['Uconnect system is awful,\\r\\nMost of the tim...   \n",
       "9604        9612  ['Very happy with this car. It’s great value f...   \n",
       "9605        9613  ['I own one and for the past two years I have ...   \n",
       "9606        9614  ['This car is great. It is an amazing experien...   \n",
       "9607        9615  ['I have always wanted this vehicle so purchas...   \n",
       "\n",
       "      SalePrice PriceCategory  \\\n",
       "0       29000.0  BelowAverage   \n",
       "1       39998.0  AboveAverage   \n",
       "2       18989.0         Cheap   \n",
       "3       55975.0     Expensive   \n",
       "4       38900.0  AboveAverage   \n",
       "...         ...           ...   \n",
       "9603    25500.0  BelowAverage   \n",
       "9604    35590.0       Average   \n",
       "9605    24000.0  BelowAverage   \n",
       "9606    71077.0     Expensive   \n",
       "9607    34988.0       Average   \n",
       "\n",
       "                                           CleanReviews  \n",
       "0     Virtually nothing has gone wrong with my 2020 ...  \n",
       "1     2018 XTL, 4X4, 302A Package 48000 mi. Other th...  \n",
       "2     Stranded today. Could not get to work. Somethi...  \n",
       "3     Excellent road car, quiet, stable, comfortable...  \n",
       "4     PURCHASED FROM NYE TOYOTA, MY FIRST TACOMA. LO...  \n",
       "...                                                 ...  \n",
       "9603  Uconnect system is awful,Most of the time the ...  \n",
       "9604  Very happy with this car. It’s great value for...  \n",
       "9605  I own one and for the past two years I have no...  \n",
       "9606  This car is great. It is an amazing experience...  \n",
       "9607  I have always wanted this vehicle so purchasin...  \n",
       "\n",
       "[9608 rows x 5 columns]"
      ]
     },
     "execution_count": 3,
     "metadata": {},
     "output_type": "execute_result"
    }
   ],
   "source": [
    "df"
   ]
  },
  {
   "cell_type": "code",
   "execution_count": 4,
   "metadata": {
    "scrolled": false
   },
   "outputs": [
    {
     "data": {
      "text/plain": [
       "For such a good truck it sad that Ford was so cheap when they made the slide plate. The slide plate is made out of cardboard. , F150 Crew Cab STX package, 2WD, with Ecoboost 2.7. WOW! Super impressed with the fuel economy and power on this pickup. Bought it new, it was a great buy. A lot of space in the interior. Big screen display on the radio. Interior is easy to clean, the fabric on the seats is sporty. Rides smooth for being a pickup and I would say I averaged about 19 to 20 miles per gallon on the city. Definitely recommend this truck, I would definitely lean towards the ECOBOOST engine. The 2.7 is plenty of power and runs awesome. If you want an extra kick go with the 3.5, if your pulling a trailer around. Also the app for FORD on the phone was great. It gave you all the basic info on the truck anywhere. Parked location, odometer, fuel, tire pressure and a lot more. Great buy! , Safe, Comfy, Saves value, Cheap maintenanceI love this car.Powerful with less gas but you should know how to drive a V6 truck, never go back to Jeep after Ford                                                                                                                                                                                                                                                                                                                                                                                                                                                                                                                                                                                                                                                                                                                                                                                                                                                                                                                                                                                                                                                                                                                                                                                                                                                                                                                                                                                                                                                                                                                                                                                                                                                                                                                                                                                                                                                                                                                                                                                                                                                                                                                                                                                                                                                                                                                                                                                                                  70\n",
       "After 9800 miles and being towed 5 times, i would not recommend this truck for reliability for anything. I contacted Ford after being towed the 3rd time, and they said they couldn’t help me to resolve the issue, that i needed to take it for service. 3 fuel pumps later, I traded it for a chevy… couldn’t be happier. Nothing worse than be stranded on 2 lane highways between Oklahoma and Montana and feeling hopeless with little cell phone service. Don’t buy, they don’t stand behind their product , Love my2019 f-150  sport truck Nice power. For a 2.7. Twin turbo. This truck will move  nice gas mileage I get 20 city. About 24 high way.  It Drives.nice  handles well. For a big truck. No wonder it’s the  Best selling truck the last 40 years   , Best truck out there! Plenty of room for the grandkids seats and 4 people. Also, plenty of room in the bed for working/hauling materials. And all of this can happen at the same time. All of the HP youll need for anything. Recently hauled a load of heavy furniture and other household stuff over Monteagle mountain and I was passing cars going up the mountain!! POWERFUL!!                                                                                                                                                                                                                                                                                                                                                                                                                                                                                                                                                                                                                                                                                                                                                                                                                                                                                                                                                                                                                                                                                                                                                                                                                                                                                                                                                                                                                                                                                                                                                                                                                                                                                                                                                                                                                                                                                                                                                                                                                                                                                                                                                                                                                                                                                                                                                     67\n",
       "2018 XTL, 4X4, 302A Package 48000 mi. Other than wheel bearings, the vehicle has been flawless. Lots of room and the 2.7L has pep and is economical to operate. My major complaint is OE running boards, the chrome peels. No issues with the motor or transmission. Only expense other than fluid changes was new front brakes. This vehicle is driven in Northern Ontario and performs remarkably well in snow and rough roads. The 5 bed is perfect for our needs of hauling material for our DIY projects. We have hauled up to 3/4 yard of gravel without any difficulty It is the best vehicle I have ever owned., I bought my truck new on Dec 30th of 2018. I initially loved it. But my first warning sign was the engine was losing oil almost immediately- I set my oil changes for 5,000 miles. By the time I had an oil change it was right at a quart low. I thought it was a fluke and got 10,000 mile oil as I am very busy and it saves time. At 7,500 miles the truck was 2.5 Qts low on oil. I switched to 3,000 mile oil and oil changes then. The engine was also  making a plastic raspy noise whenever I let off the accelerator. Fast forward to this June. At this point Ive had the truck 3.5yrs, 86,000 miles. Never missed an oil change/service. The engine light starts flashing. So I have it towed to a local mechanic thinking it was maybe coil packs. He was stumped. Next have it towed to the Ford dealership. They call me today saying it has multiple cam timing issues. The cost to fix it is $4,700!!!!!  FOUR THOUSAND SEVEN HUNDRED.... The whole reason I invested in a new truck was so that I would have something that would be dependable for many years. Instead, I get a new truck that hasnt even lasted as long as the used trucks Ive bought. I could not be anymore more disappointed and angrier with the quality of this truck. Its a pretty truck, but if you want something dependable, look elsewhere., Luxury? Check. Utility? Check. What can you say about an $80k truck? Take the body of a workhorse F150 and squeeze in the cabin of a Lincoln. The 3.5L turbo Ecoboost has absolutely no issues moving this massive truck around. The 10 speed transmission is smooth to the point that I rarely feel it shift. Even when towing or with the box loaded. The cabin is eerily quit and supremely comfortable. The heated, cooled and massage(!) seats make even the longest road trip a pleasant experience. Read seat passengers will appreciate the heated rear seats, and plenty of usb, 12v and 110v charging options.Ive put 55k miles on this truck, and the only mechanical issue Ive experienced is a problem with the power running boards not fully extending. For a full size pickup, the ride is surprisingly smooth and the included driver assist features will make a lazy driver out of anyone.If you want a vehicle with the capabilities of a truck, and the comfort of a luxury sedan you cant go wrong with the F150 Limited.                                                                                                                                                                                                                                                                                                                                                                                                                                                                                                64\n",
       "I love everything about this car. Everything is exactly asThey claim the car is. Buy one you won’t be sorry. You don’t have to wait for a new one—a used one is justas good, even better. , Car rides very comfortable.  Nice design and detail.  Very happy with this car.  Would buy again, but realized I didn’t get everything I wanted on the car., I wanted to buy this car when I was in China. I bought a second-hand car in The IDEAL AUTO. Except for the ugly center console, the cars power and ride comfort are all right.                                                                                                                                                                                                                                                                                                                                                                                                                                                                                                                                                                                                                                                                                                                                                                                                                                                                                                                                                                                                                                                                                                                                                                                                                                                                                                                                                                                                                                                                                                                                                                                                                                                                                                                                                                                                                                                                                                                                                                                                                                                                                                                                                                                                                                                                                                                                                                                                                                                                                                                                                                                                                                                                                                                                                                                                                                                                                                                                                                            56\n",
       "A little too big for myself but I love this car.I had a used Rav4 before, drove about 10 years, loved it. Also I was able to sell it pretty high price ($4,500) comparing the year and the mileage (over 200,0000 miles). So that is one of the reason why I bought Rav4 again., Ive have a Rav 4 premium wich was purchased in feb2021.ive had zero problems and the car accelerates like a rx350 which I cannot understand where people want to tell you the car is slow . the car was purchased because of extreme back problems which I am on disabled for.the car does everything as well as my dads girlfriends 2017 Rx 350.the gas mileage is amazing., Amazing performance for a 4 cylinder. First time I ever owned something without a V8, and I am impressed.Good handling. great interior and very comfortable. Good MPG also.                                                                                                                                                                                                                                                                                                                                                                                                                                                                                                                                                                                                                                                                                                                                                                                                                                                                                                                                                                                                                                                                                                                                                                                                                                                                                                                                                                                                                                                                                                                                                                                                                                                                                                                                                                                                                                                                                                                                                                                                                                                                                                                                                                                                                                                                                                                                                                                                                                                                                                                                                                                                                                                                         56\n",
       "                                                                                                                                                                                                                                                                                                                                                                                                                                                                                                                                                                                                                                                                                                                                                                                                                                                                                                                                                                                                                                                                                                                                                                                                                                                                                                                                                                                                                                                                                                                                                                                                                                                                                                                                                                                                                                                                                                                                                                                                                                                                                                                                                                                                                                                                                                                                                                                                                                                                                                                                                                                                                                                                                                                                                                                                                                                                                                                                                                                                                                                                                                                                                                                                                                                                                                                                                                                                                                                                                                                   ..\n",
       "This is a GREAT vehicle. Chrysler finally got the roof and bonnet functioning very well. The only problem I have had is that when it is raining and Im in the garage and exiting; there is a fair amount of dripping onto the my leg., Great car, Ive owned several Chryslers, the 300M, 200, and Sebring. I loved them all but the sebring was a great midsized car. I would definitely recommend this car to a friend., Bought my 2009 Sebring 6 years ago it had 89,000 miles on it. It now has 168,000 and have only replaced the battery and alternator. Comfortable and quiet ride.                                                                                                                                                                                                                                                                                                                                                                                                                                                                                                                                                                                                                                                                                                                                                                                                                                                                                                                                                                                                                                                                                                                                                                                                                                                                                                                                                                                                                                                                                                                                                                                                                                                                                                                                                                                                                                                                                                                                                                                                                                                                                                                                                                                                                                                                                                                                                                                                                                                                                                                                                                                                                                                                                                                                                                                                                                                                                                                           1\n",
       "I love my Benz even tho it does have some common issues just like any other European vehicles. However, it’s a great car overall and I would recommend it!, Too expensive to repair minor items, as well as routine service and things go wrong on a 6 year old car.  It is true at many foreign vehicles., this car is the best car ever I owned. Powerful and gorgeous. This is the perfect car to drive on PCH by the shore with topdown.                                                                                                                                                                                                                                                                                                                                                                                                                                                                                                                                                                                                                                                                                                                                                                                                                                                                                                                                                                                                                                                                                                                                                                                                                                                                                                                                                                                                                                                                                                                                                                                                                                                                                                                                                                                                                                                                                                                                                                                                                                                                                                                                                                                                                                                                                                                                                                                                                                                                                                                                                                                                                                                                                                                                                                                                                                                                                                                                                                                                                                                                        1\n",
       "Im alive today because of its safety features.car was totaled. Im buying another one to replace it. it was a great car to drive good gas milage.when I was hit three airbags inflated with none of the horror stories you hear about them burns ect. I was able to walk away .The car is rated very safe. I believe it now.l, I needed something bigger and easier to get on and  out of. I love that the back seats can be moved back. And there is plenty of head room., This truck has all the features and more to be able to cautious driver. Great for my upcoming driver in the home who is a teenager. It has been lane departure signal. A sunroof and moonroof. Also has appleplay.                                                                                                                                                                                                                                                                                                                                                                                                                                                                                                                                                                                                                                                                                                                                                                                                                                                                                                                                                                                                                                                                                                                                                                                                                                                                                                                                                                                                                                                                                                                                                                                                                                                                                                                                                                                                                                                                                                                                                                                                                                                                                                                                                                                                                                                                                                                                                                                                                                                                                                                                                                                                                                                                                                                                                                                                                       1\n",
       "I owned a C240 AWD Benz wagon. It was falling apart but it was from MN and snow does that. This car is its counterpart in the sense that it is set up the same. I love the 4cyl turbo, as it really goes, and the AWD is perfect to get out when it snows. Its RED and I love it. I really think this car is the best in AWD, pep, and function., In 2019 I was looking to replace my Subaru with a sporty wagon which offered a more engaging driving experience and found that the Alltrack had been on the market for 3 years. Strange that I hadnt seen any advertising or marketing of any sort for it. Called up my local VW dealer and scheduled a test drive. Drove both a DSG SEL Alltrack and a 4motion Sportwagen. I wasnt really sold on either. It perhaps had something to do with the low profile tires on each vehicle in hindsight, but I did like the handling, acceleration, smaller and thusly more maneuverable size vs the bloated Outback. It just had too much road feel. I went home sort of confused since I expected to fall in love with the Alltrack. A month went by and then I saw a green/brown S trim Alltrack available at another dealer. I was really only into the aesthetics since the styling is perfect on these cars imo and green is my favorite color on vehicles so I thought what the heck why not try this one..maybe theyre all different. So I drove down and checked it out. Gave it a drive around Vancouver and a quick jaunt at 55mph on I-5 and it was exactly what I was looking for. Engaging, but not a harsh ride like the SEL and Sportwagen. I mentioned the tire size before - the S trim has 17 inch wheels, which seem to feel much more comfortable on this vehicle. The SEL had 18 inch low profiles. I dont know, its the only difference I can find in terms of the power and drivetrain from the other wagens I drove. Anyhow, traded in my Outback immediately and drove home in the Alltrack. Got it for $23.8k and the dealer threw in a free entended warranty. I doubt Ill ever use it, but they didnt have to do that so I appreciate it. I have 30k miles on it right now and have driven it from Olympia, WA to Glacier Park and back 4 times, taken it to Minnesota and back twice and to Portland and Seaside/Cannon Beach a few times. I have had absolutely zero issues with the vehicle and I cannot be happier with it. Ive since replaced the tires with a set of Nokian WRG4s and moved to northern Minnesota. The pairing of the Nokians and the Alltracks 4motion system has been amazing in the winter here. I cannot complain about anything with this car beyond the poor legroom in the rear passenger seats and the odd placement of the USB port in the center console. This was the last of the wagens in the USA for the foreseeable future and I dont plan on parting with mine unless Im forced to, in which case Ill find a used one., Ive owned over 30 cars and I still have an e30, VW MK1 Cab & W201 in the garage but I love driving this Alltrack.  Sure its no speed demon like a Audi SQ5 or handles like a GTI but for the  90% of the time this car is perfect. Good engine, the 1.8T is just enough for everyday use. Handling is better than most SUV. Cargo space even more than an SQ5. Fuel economy is acceptable at 25mpg in the city. Overall looks with the roof rails, cladding and wheels makes for a really nice, very well equipped Volkswagen.  One day this will be another classic VW.     1\n",
       "Let me first say I’d only recommend this car to younger drivers that are not overweight or tall. The interior is not made for large persons. , Its a good engine, its fast and has a nice suspension and it has a speaker, I really like the bose speaker because its a good quality sound                                                                                                                                                                                                                                                                                                                                                                                                                                                                                                                                                                                                                                                                                                                                                                                                                                                                                                                                                                                                                                                                                                                                                                                                                                                                                                                                                                                                                                                                                                                                                                                                                                                                                                                                                                                                                                                                                                                                                                                                                                                                                                                                                                                                                                                                                                                                                                                                                                                                                                                                                                                                                                                                                                                                                                                                                                                                                                                                                                                                                                                                                                                                                                                                                          1\n",
       "Name: CleanReviews, Length: 1983, dtype: int64"
      ]
     },
     "execution_count": 4,
     "metadata": {},
     "output_type": "execute_result"
    }
   ],
   "source": [
    "df['CleanReviews'].value_counts()"
   ]
  },
  {
   "cell_type": "code",
   "execution_count": 6,
   "metadata": {},
   "outputs": [
    {
     "data": {
      "text/plain": [
       "AboveAverage    0.371429\n",
       "Average         0.200000\n",
       "BelowAverage    0.171429\n",
       "Cheap           0.157143\n",
       "Expensive       0.100000\n",
       "Name: PriceCategory, dtype: float64"
      ]
     },
     "execution_count": 6,
     "metadata": {},
     "output_type": "execute_result"
    }
   ],
   "source": [
    "df.loc[df['CleanReviews'] == \"For such a good truck it sad that Ford was so cheap when they made the slide plate. The slide plate is made out of cardboard. , F150 Crew Cab STX package, 2WD, with Ecoboost 2.7. WOW! Super impressed with the fuel economy and power on this pickup. Bought it new, it was a great buy. A lot of space in the interior. Big screen display on the radio. Interior is easy to clean, the fabric on the seats is sporty. Rides smooth for being a pickup and I would say I averaged about 19 to 20 miles per gallon on the city. Definitely recommend this truck, I would definitely lean towards the ECOBOOST engine. The 2.7 is plenty of power and runs awesome. If you want an extra kick go with the 3.5, if your pulling a trailer around. Also the app for FORD on the phone was great. It gave you all the basic info on the truck anywhere. Parked location, odometer, fuel, tire pressure and a lot more. Great buy! , Safe, Comfy, Saves value, Cheap maintenanceI love this car.Powerful with less gas but you should know how to drive a V6 truck, never go back to Jeep after Ford\"]['PriceCategory'].value_counts(normalize=True)"
   ]
  },
  {
   "cell_type": "code",
   "execution_count": null,
   "metadata": {},
   "outputs": [],
   "source": []
  }
 ],
 "metadata": {
  "kernelspec": {
   "display_name": "Python (learn-env)",
   "language": "python",
   "name": "learn-env"
  },
  "language_info": {
   "codemirror_mode": {
    "name": "ipython",
    "version": 3
   },
   "file_extension": ".py",
   "mimetype": "text/x-python",
   "name": "python",
   "nbconvert_exporter": "python",
   "pygments_lexer": "ipython3",
   "version": "3.8.5"
  }
 },
 "nbformat": 4,
 "nbformat_minor": 4
}
