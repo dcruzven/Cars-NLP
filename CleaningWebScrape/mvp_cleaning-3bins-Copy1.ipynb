{
 "cells": [
  {
   "cell_type": "markdown",
   "metadata": {},
   "source": [
    "# Cleaning web-scraped data"
   ]
  },
  {
   "cell_type": "markdown",
   "metadata": {},
   "source": [
    "**Priority**\n",
    "- Clean up reviews\n",
    "- Convert SalePrice to floats\n",
    "- Bin SalePrice for our target variable\n",
    "- Prepare for modeling\n",
    "\n",
    "**Secondary**\n",
    "- Clean the rest of data\n",
    "- Turn Mieage into floats\n",
    "- Split mpg to city and highway"
   ]
  },
  {
   "cell_type": "code",
   "execution_count": 1,
   "metadata": {},
   "outputs": [],
   "source": [
    "# imports\n",
    "import pandas as pd\n",
    "import requests\n",
    "from bs4 import BeautifulSoup\n",
    "import time\n",
    "import random\n",
    "import numpy as np\n",
    "from tqdm.notebook import tqdm\n",
    "import re\n",
    "import math"
   ]
  },
  {
   "cell_type": "code",
   "execution_count": 2,
   "metadata": {},
   "outputs": [],
   "source": [
    "df = pd.read_csv('../data/carinfoV2.csv')"
   ]
  },
  {
   "cell_type": "code",
   "execution_count": 3,
   "metadata": {},
   "outputs": [],
   "source": [
    "df = df.drop(columns='Unnamed: 0')"
   ]
  },
  {
   "cell_type": "markdown",
   "metadata": {},
   "source": [
    "**Data is dirty, time to clean**"
   ]
  },
  {
   "cell_type": "code",
   "execution_count": 4,
   "metadata": {
    "scrolled": false
   },
   "outputs": [
    {
     "data": {
      "text/html": [
       "<div>\n",
       "<style scoped>\n",
       "    .dataframe tbody tr th:only-of-type {\n",
       "        vertical-align: middle;\n",
       "    }\n",
       "\n",
       "    .dataframe tbody tr th {\n",
       "        vertical-align: top;\n",
       "    }\n",
       "\n",
       "    .dataframe thead th {\n",
       "        text-align: right;\n",
       "    }\n",
       "</style>\n",
       "<table border=\"1\" class=\"dataframe\">\n",
       "  <thead>\n",
       "    <tr style=\"text-align: right;\">\n",
       "      <th></th>\n",
       "      <th>Model</th>\n",
       "      <th>Reviews</th>\n",
       "      <th>DriveTrain</th>\n",
       "      <th>MPG</th>\n",
       "      <th>FuelType</th>\n",
       "      <th>Transmission</th>\n",
       "      <th>Engine</th>\n",
       "      <th>Mileage</th>\n",
       "      <th>SalePrice</th>\n",
       "    </tr>\n",
       "  </thead>\n",
       "  <tbody>\n",
       "    <tr>\n",
       "      <th>0</th>\n",
       "      <td>['2020 Toyota RAV4 LE']</td>\n",
       "      <td>['Virtually nothing has gone wrong with my 202...</td>\n",
       "      <td>Front-wheel Drive</td>\n",
       "      <td>27–35</td>\n",
       "      <td>Gasoline</td>\n",
       "      <td>8-Speed Automatic</td>\n",
       "      <td>2.5L I4 16V PDI DOHC</td>\n",
       "      <td>53,200 mi.</td>\n",
       "      <td>$29,000</td>\n",
       "    </tr>\n",
       "    <tr>\n",
       "      <th>1</th>\n",
       "      <td>[]</td>\n",
       "      <td>[]</td>\n",
       "      <td>Front-wheel Drive</td>\n",
       "      <td>Electric</td>\n",
       "      <td>Electric</td>\n",
       "      <td>1-Speed Automatic</td>\n",
       "      <td>Electric</td>\n",
       "      <td>62,439 mi.</td>\n",
       "      <td>$18,989</td>\n",
       "    </tr>\n",
       "    <tr>\n",
       "      <th>2</th>\n",
       "      <td>['2016 Volkswagen e-Golf SE']</td>\n",
       "      <td>[\"Stranded today. Could not get to work. Somet...</td>\n",
       "      <td>Rear-wheel Drive</td>\n",
       "      <td>18–26</td>\n",
       "      <td>Gasoline</td>\n",
       "      <td>10-Speed Automatic</td>\n",
       "      <td>3.0L V6 24V GDI DOHC Twin Turbo</td>\n",
       "      <td>22,690 mi.</td>\n",
       "      <td>$55,975</td>\n",
       "    </tr>\n",
       "    <tr>\n",
       "      <th>3</th>\n",
       "      <td>['2020 Lincoln Aviator Reserve RWD']</td>\n",
       "      <td>['Excellent road car, quiet, stable, comfortab...</td>\n",
       "      <td>Four-wheel Drive</td>\n",
       "      <td>18–22</td>\n",
       "      <td>Gasoline</td>\n",
       "      <td>6-Speed Automatic</td>\n",
       "      <td>3.5L V6 24V PDI DOHC</td>\n",
       "      <td>17,854 mi.</td>\n",
       "      <td>$38,900</td>\n",
       "    </tr>\n",
       "    <tr>\n",
       "      <th>4</th>\n",
       "      <td>['2021 Toyota Tacoma TRD Off Road']</td>\n",
       "      <td>['PURCHASED FROM NYE TOYOTA, MY FIRST TACOMA. ...</td>\n",
       "      <td>Front-wheel Drive</td>\n",
       "      <td>28–39</td>\n",
       "      <td>Gasoline</td>\n",
       "      <td>Automatic CVT</td>\n",
       "      <td>2.5L I4 16V GDI DOHC</td>\n",
       "      <td>60,907 mi.</td>\n",
       "      <td>$22,125</td>\n",
       "    </tr>\n",
       "    <tr>\n",
       "      <th>...</th>\n",
       "      <td>...</td>\n",
       "      <td>...</td>\n",
       "      <td>...</td>\n",
       "      <td>...</td>\n",
       "      <td>...</td>\n",
       "      <td>...</td>\n",
       "      <td>...</td>\n",
       "      <td>...</td>\n",
       "      <td>...</td>\n",
       "    </tr>\n",
       "    <tr>\n",
       "      <th>9217</th>\n",
       "      <td>['2022 BMW X5 xDrive40i']</td>\n",
       "      <td>['Only had the X5 for 4 weeks now but so far i...</td>\n",
       "      <td>Four-wheel Drive</td>\n",
       "      <td>18–25</td>\n",
       "      <td>Gasoline</td>\n",
       "      <td>8-Speed Automatic</td>\n",
       "      <td>3.6L V6 24V MPFI DOHC</td>\n",
       "      <td>78,378 mi.</td>\n",
       "      <td>$25,500</td>\n",
       "    </tr>\n",
       "    <tr>\n",
       "      <th>9218</th>\n",
       "      <td>['2019 Toyota Tacoma TRD Off Road']</td>\n",
       "      <td>['When I bought my 2020 Tacoma V6 (3.5L) 4x4 i...</td>\n",
       "      <td>All-wheel Drive</td>\n",
       "      <td>18–25</td>\n",
       "      <td>Gasoline</td>\n",
       "      <td>8-Speed Automatic</td>\n",
       "      <td>3.6L V6 24V MPFI DOHC</td>\n",
       "      <td>30,909 mi.</td>\n",
       "      <td>$35,590</td>\n",
       "    </tr>\n",
       "    <tr>\n",
       "      <th>9219</th>\n",
       "      <td>['2015 INFINITI QX80 Base']</td>\n",
       "      <td>['Everything is great except the rear view cam...</td>\n",
       "      <td>Front-wheel Drive</td>\n",
       "      <td>23–30</td>\n",
       "      <td>Gasoline</td>\n",
       "      <td>6-SPEED A/T</td>\n",
       "      <td>4 Cylinder Engine</td>\n",
       "      <td>30,186 mi.</td>\n",
       "      <td>$24,000</td>\n",
       "    </tr>\n",
       "    <tr>\n",
       "      <th>9220</th>\n",
       "      <td>['2020 Toyota Tundra SR5']</td>\n",
       "      <td>['I have owned smaller SUV\\'s and Trucks for o...</td>\n",
       "      <td>Four-wheel Drive</td>\n",
       "      <td>15–21</td>\n",
       "      <td>Gasoline</td>\n",
       "      <td>8-Speed Automatic</td>\n",
       "      <td>5.7L V8 16V MPFI OHV</td>\n",
       "      <td>22,309 mi.</td>\n",
       "      <td>$71,077</td>\n",
       "    </tr>\n",
       "    <tr>\n",
       "      <th>9221</th>\n",
       "      <td>['2021 Buick Enclave Essence']</td>\n",
       "      <td>['Transmission and brake problems. Transmissio...</td>\n",
       "      <td>Four-wheel Drive</td>\n",
       "      <td>20–27</td>\n",
       "      <td>Gasoline</td>\n",
       "      <td>Automatic CVT</td>\n",
       "      <td>3.5L V6 24V GDI DOHC</td>\n",
       "      <td>9,399 mi.</td>\n",
       "      <td>$34,988</td>\n",
       "    </tr>\n",
       "  </tbody>\n",
       "</table>\n",
       "<p>9222 rows × 9 columns</p>\n",
       "</div>"
      ],
      "text/plain": [
       "                                     Model  \\\n",
       "0                  ['2020 Toyota RAV4 LE']   \n",
       "1                                       []   \n",
       "2            ['2016 Volkswagen e-Golf SE']   \n",
       "3     ['2020 Lincoln Aviator Reserve RWD']   \n",
       "4      ['2021 Toyota Tacoma TRD Off Road']   \n",
       "...                                    ...   \n",
       "9217             ['2022 BMW X5 xDrive40i']   \n",
       "9218   ['2019 Toyota Tacoma TRD Off Road']   \n",
       "9219           ['2015 INFINITI QX80 Base']   \n",
       "9220            ['2020 Toyota Tundra SR5']   \n",
       "9221        ['2021 Buick Enclave Essence']   \n",
       "\n",
       "                                                Reviews           DriveTrain  \\\n",
       "0     ['Virtually nothing has gone wrong with my 202...   Front-wheel Drive    \n",
       "1                                                    []   Front-wheel Drive    \n",
       "2     [\"Stranded today. Could not get to work. Somet...    Rear-wheel Drive    \n",
       "3     ['Excellent road car, quiet, stable, comfortab...    Four-wheel Drive    \n",
       "4     ['PURCHASED FROM NYE TOYOTA, MY FIRST TACOMA. ...   Front-wheel Drive    \n",
       "...                                                 ...                  ...   \n",
       "9217  ['Only had the X5 for 4 weeks now but so far i...    Four-wheel Drive    \n",
       "9218  ['When I bought my 2020 Tacoma V6 (3.5L) 4x4 i...     All-wheel Drive    \n",
       "9219  ['Everything is great except the rear view cam...   Front-wheel Drive    \n",
       "9220  ['I have owned smaller SUV\\'s and Trucks for o...    Four-wheel Drive    \n",
       "9221  ['Transmission and brake problems. Transmissio...    Four-wheel Drive    \n",
       "\n",
       "            MPG   FuelType        Transmission  \\\n",
       "0         27–35  Gasoline    8-Speed Automatic   \n",
       "1     Electric   Electric    1-Speed Automatic   \n",
       "2         18–26  Gasoline   10-Speed Automatic   \n",
       "3         18–22  Gasoline    6-Speed Automatic   \n",
       "4         28–39  Gasoline        Automatic CVT   \n",
       "...         ...        ...                 ...   \n",
       "9217      18–25  Gasoline    8-Speed Automatic   \n",
       "9218      18–25  Gasoline    8-Speed Automatic   \n",
       "9219      23–30  Gasoline          6-SPEED A/T   \n",
       "9220      15–21  Gasoline    8-Speed Automatic   \n",
       "9221      20–27  Gasoline        Automatic CVT   \n",
       "\n",
       "                               Engine       Mileage SalePrice  \n",
       "0                2.5L I4 16V PDI DOHC   53,200 mi.    $29,000  \n",
       "1                            Electric   62,439 mi.    $18,989  \n",
       "2     3.0L V6 24V GDI DOHC Twin Turbo   22,690 mi.    $55,975  \n",
       "3                3.5L V6 24V PDI DOHC   17,854 mi.    $38,900  \n",
       "4                2.5L I4 16V GDI DOHC   60,907 mi.    $22,125  \n",
       "...                               ...           ...       ...  \n",
       "9217            3.6L V6 24V MPFI DOHC   78,378 mi.    $25,500  \n",
       "9218            3.6L V6 24V MPFI DOHC   30,909 mi.    $35,590  \n",
       "9219                4 Cylinder Engine   30,186 mi.    $24,000  \n",
       "9220             5.7L V8 16V MPFI OHV   22,309 mi.    $71,077  \n",
       "9221             3.5L V6 24V GDI DOHC    9,399 mi.    $34,988  \n",
       "\n",
       "[9222 rows x 9 columns]"
      ]
     },
     "execution_count": 4,
     "metadata": {},
     "output_type": "execute_result"
    }
   ],
   "source": [
    "df"
   ]
  },
  {
   "cell_type": "markdown",
   "metadata": {},
   "source": [
    "## Removing rows with empty values"
   ]
  },
  {
   "cell_type": "markdown",
   "metadata": {},
   "source": [
    "**looking through each column and getting rid of blanks**\n",
    "- manually looking up value counts and checking which character represents a 'blank'"
   ]
  },
  {
   "cell_type": "code",
   "execution_count": 5,
   "metadata": {},
   "outputs": [],
   "source": [
    "test = df[df['Model'] != '[]']"
   ]
  },
  {
   "cell_type": "code",
   "execution_count": 6,
   "metadata": {},
   "outputs": [],
   "source": [
    "test2 = test[test['Reviews'] != '[]']"
   ]
  },
  {
   "cell_type": "code",
   "execution_count": 7,
   "metadata": {},
   "outputs": [],
   "source": [
    "test3 = test2[test2['DriveTrain'] != ' – ']"
   ]
  },
  {
   "cell_type": "code",
   "execution_count": 8,
   "metadata": {
    "scrolled": false
   },
   "outputs": [],
   "source": [
    "test4 = test3[test3['MPG'] != ' – ']"
   ]
  },
  {
   "cell_type": "code",
   "execution_count": 9,
   "metadata": {},
   "outputs": [],
   "source": [
    "test5 = test4[test4['FuelType'] != '– ']"
   ]
  },
  {
   "cell_type": "code",
   "execution_count": 10,
   "metadata": {
    "scrolled": false
   },
   "outputs": [],
   "source": [
    "test6 = test5[test5['Transmission'] != '–']"
   ]
  },
  {
   "cell_type": "code",
   "execution_count": 11,
   "metadata": {
    "scrolled": false
   },
   "outputs": [],
   "source": [
    "test7 = test6[test6['Engine'] != '–']"
   ]
  },
  {
   "cell_type": "markdown",
   "metadata": {},
   "source": [
    "**Re-naming**"
   ]
  },
  {
   "cell_type": "code",
   "execution_count": 12,
   "metadata": {},
   "outputs": [],
   "source": [
    "data = test7"
   ]
  },
  {
   "cell_type": "code",
   "execution_count": 13,
   "metadata": {},
   "outputs": [],
   "source": [
    "data  = data.reset_index(drop=True)"
   ]
  },
  {
   "cell_type": "code",
   "execution_count": 14,
   "metadata": {
    "scrolled": false
   },
   "outputs": [
    {
     "data": {
      "text/html": [
       "<div>\n",
       "<style scoped>\n",
       "    .dataframe tbody tr th:only-of-type {\n",
       "        vertical-align: middle;\n",
       "    }\n",
       "\n",
       "    .dataframe tbody tr th {\n",
       "        vertical-align: top;\n",
       "    }\n",
       "\n",
       "    .dataframe thead th {\n",
       "        text-align: right;\n",
       "    }\n",
       "</style>\n",
       "<table border=\"1\" class=\"dataframe\">\n",
       "  <thead>\n",
       "    <tr style=\"text-align: right;\">\n",
       "      <th></th>\n",
       "      <th>Model</th>\n",
       "      <th>Reviews</th>\n",
       "      <th>DriveTrain</th>\n",
       "      <th>MPG</th>\n",
       "      <th>FuelType</th>\n",
       "      <th>Transmission</th>\n",
       "      <th>Engine</th>\n",
       "      <th>Mileage</th>\n",
       "      <th>SalePrice</th>\n",
       "    </tr>\n",
       "  </thead>\n",
       "  <tbody>\n",
       "    <tr>\n",
       "      <th>0</th>\n",
       "      <td>['2020 Toyota RAV4 LE']</td>\n",
       "      <td>['Virtually nothing has gone wrong with my 202...</td>\n",
       "      <td>Front-wheel Drive</td>\n",
       "      <td>27–35</td>\n",
       "      <td>Gasoline</td>\n",
       "      <td>8-Speed Automatic</td>\n",
       "      <td>2.5L I4 16V PDI DOHC</td>\n",
       "      <td>53,200 mi.</td>\n",
       "      <td>$29,000</td>\n",
       "    </tr>\n",
       "    <tr>\n",
       "      <th>1</th>\n",
       "      <td>['2016 Volkswagen e-Golf SE']</td>\n",
       "      <td>[\"Stranded today. Could not get to work. Somet...</td>\n",
       "      <td>Rear-wheel Drive</td>\n",
       "      <td>18–26</td>\n",
       "      <td>Gasoline</td>\n",
       "      <td>10-Speed Automatic</td>\n",
       "      <td>3.0L V6 24V GDI DOHC Twin Turbo</td>\n",
       "      <td>22,690 mi.</td>\n",
       "      <td>$55,975</td>\n",
       "    </tr>\n",
       "    <tr>\n",
       "      <th>2</th>\n",
       "      <td>['2020 Lincoln Aviator Reserve RWD']</td>\n",
       "      <td>['Excellent road car, quiet, stable, comfortab...</td>\n",
       "      <td>Four-wheel Drive</td>\n",
       "      <td>18–22</td>\n",
       "      <td>Gasoline</td>\n",
       "      <td>6-Speed Automatic</td>\n",
       "      <td>3.5L V6 24V PDI DOHC</td>\n",
       "      <td>17,854 mi.</td>\n",
       "      <td>$38,900</td>\n",
       "    </tr>\n",
       "    <tr>\n",
       "      <th>3</th>\n",
       "      <td>['2021 Toyota Tacoma TRD Off Road']</td>\n",
       "      <td>['PURCHASED FROM NYE TOYOTA, MY FIRST TACOMA. ...</td>\n",
       "      <td>Front-wheel Drive</td>\n",
       "      <td>28–39</td>\n",
       "      <td>Gasoline</td>\n",
       "      <td>Automatic CVT</td>\n",
       "      <td>2.5L I4 16V GDI DOHC</td>\n",
       "      <td>60,907 mi.</td>\n",
       "      <td>$22,125</td>\n",
       "    </tr>\n",
       "    <tr>\n",
       "      <th>4</th>\n",
       "      <td>['2020 Nissan Altima 2.5 S']</td>\n",
       "      <td>['I’ve own a 2020 Altima (under 30k miles) for...</td>\n",
       "      <td>Front-wheel Drive</td>\n",
       "      <td>24–32</td>\n",
       "      <td>Gasoline</td>\n",
       "      <td>6-Speed Automatic</td>\n",
       "      <td>2.4L I4 16V GDI DOHC</td>\n",
       "      <td>41,614 mi.</td>\n",
       "      <td>$23,946</td>\n",
       "    </tr>\n",
       "    <tr>\n",
       "      <th>...</th>\n",
       "      <td>...</td>\n",
       "      <td>...</td>\n",
       "      <td>...</td>\n",
       "      <td>...</td>\n",
       "      <td>...</td>\n",
       "      <td>...</td>\n",
       "      <td>...</td>\n",
       "      <td>...</td>\n",
       "      <td>...</td>\n",
       "    </tr>\n",
       "    <tr>\n",
       "      <th>8476</th>\n",
       "      <td>['2022 BMW X5 xDrive40i']</td>\n",
       "      <td>['Only had the X5 for 4 weeks now but so far i...</td>\n",
       "      <td>Four-wheel Drive</td>\n",
       "      <td>18–25</td>\n",
       "      <td>Gasoline</td>\n",
       "      <td>8-Speed Automatic</td>\n",
       "      <td>3.6L V6 24V MPFI DOHC</td>\n",
       "      <td>78,378 mi.</td>\n",
       "      <td>$25,500</td>\n",
       "    </tr>\n",
       "    <tr>\n",
       "      <th>8477</th>\n",
       "      <td>['2019 Toyota Tacoma TRD Off Road']</td>\n",
       "      <td>['When I bought my 2020 Tacoma V6 (3.5L) 4x4 i...</td>\n",
       "      <td>All-wheel Drive</td>\n",
       "      <td>18–25</td>\n",
       "      <td>Gasoline</td>\n",
       "      <td>8-Speed Automatic</td>\n",
       "      <td>3.6L V6 24V MPFI DOHC</td>\n",
       "      <td>30,909 mi.</td>\n",
       "      <td>$35,590</td>\n",
       "    </tr>\n",
       "    <tr>\n",
       "      <th>8478</th>\n",
       "      <td>['2015 INFINITI QX80 Base']</td>\n",
       "      <td>['Everything is great except the rear view cam...</td>\n",
       "      <td>Front-wheel Drive</td>\n",
       "      <td>23–30</td>\n",
       "      <td>Gasoline</td>\n",
       "      <td>6-SPEED A/T</td>\n",
       "      <td>4 Cylinder Engine</td>\n",
       "      <td>30,186 mi.</td>\n",
       "      <td>$24,000</td>\n",
       "    </tr>\n",
       "    <tr>\n",
       "      <th>8479</th>\n",
       "      <td>['2020 Toyota Tundra SR5']</td>\n",
       "      <td>['I have owned smaller SUV\\'s and Trucks for o...</td>\n",
       "      <td>Four-wheel Drive</td>\n",
       "      <td>15–21</td>\n",
       "      <td>Gasoline</td>\n",
       "      <td>8-Speed Automatic</td>\n",
       "      <td>5.7L V8 16V MPFI OHV</td>\n",
       "      <td>22,309 mi.</td>\n",
       "      <td>$71,077</td>\n",
       "    </tr>\n",
       "    <tr>\n",
       "      <th>8480</th>\n",
       "      <td>['2021 Buick Enclave Essence']</td>\n",
       "      <td>['Transmission and brake problems. Transmissio...</td>\n",
       "      <td>Four-wheel Drive</td>\n",
       "      <td>20–27</td>\n",
       "      <td>Gasoline</td>\n",
       "      <td>Automatic CVT</td>\n",
       "      <td>3.5L V6 24V GDI DOHC</td>\n",
       "      <td>9,399 mi.</td>\n",
       "      <td>$34,988</td>\n",
       "    </tr>\n",
       "  </tbody>\n",
       "</table>\n",
       "<p>8481 rows × 9 columns</p>\n",
       "</div>"
      ],
      "text/plain": [
       "                                     Model  \\\n",
       "0                  ['2020 Toyota RAV4 LE']   \n",
       "1            ['2016 Volkswagen e-Golf SE']   \n",
       "2     ['2020 Lincoln Aviator Reserve RWD']   \n",
       "3      ['2021 Toyota Tacoma TRD Off Road']   \n",
       "4             ['2020 Nissan Altima 2.5 S']   \n",
       "...                                    ...   \n",
       "8476             ['2022 BMW X5 xDrive40i']   \n",
       "8477   ['2019 Toyota Tacoma TRD Off Road']   \n",
       "8478           ['2015 INFINITI QX80 Base']   \n",
       "8479            ['2020 Toyota Tundra SR5']   \n",
       "8480        ['2021 Buick Enclave Essence']   \n",
       "\n",
       "                                                Reviews           DriveTrain  \\\n",
       "0     ['Virtually nothing has gone wrong with my 202...   Front-wheel Drive    \n",
       "1     [\"Stranded today. Could not get to work. Somet...    Rear-wheel Drive    \n",
       "2     ['Excellent road car, quiet, stable, comfortab...    Four-wheel Drive    \n",
       "3     ['PURCHASED FROM NYE TOYOTA, MY FIRST TACOMA. ...   Front-wheel Drive    \n",
       "4     ['I’ve own a 2020 Altima (under 30k miles) for...   Front-wheel Drive    \n",
       "...                                                 ...                  ...   \n",
       "8476  ['Only had the X5 for 4 weeks now but so far i...    Four-wheel Drive    \n",
       "8477  ['When I bought my 2020 Tacoma V6 (3.5L) 4x4 i...     All-wheel Drive    \n",
       "8478  ['Everything is great except the rear view cam...   Front-wheel Drive    \n",
       "8479  ['I have owned smaller SUV\\'s and Trucks for o...    Four-wheel Drive    \n",
       "8480  ['Transmission and brake problems. Transmissio...    Four-wheel Drive    \n",
       "\n",
       "        MPG   FuelType        Transmission                           Engine  \\\n",
       "0     27–35  Gasoline    8-Speed Automatic             2.5L I4 16V PDI DOHC   \n",
       "1     18–26  Gasoline   10-Speed Automatic  3.0L V6 24V GDI DOHC Twin Turbo   \n",
       "2     18–22  Gasoline    6-Speed Automatic             3.5L V6 24V PDI DOHC   \n",
       "3     28–39  Gasoline        Automatic CVT             2.5L I4 16V GDI DOHC   \n",
       "4     24–32  Gasoline    6-Speed Automatic             2.4L I4 16V GDI DOHC   \n",
       "...     ...        ...                 ...                              ...   \n",
       "8476  18–25  Gasoline    8-Speed Automatic            3.6L V6 24V MPFI DOHC   \n",
       "8477  18–25  Gasoline    8-Speed Automatic            3.6L V6 24V MPFI DOHC   \n",
       "8478  23–30  Gasoline          6-SPEED A/T                4 Cylinder Engine   \n",
       "8479  15–21  Gasoline    8-Speed Automatic             5.7L V8 16V MPFI OHV   \n",
       "8480  20–27  Gasoline        Automatic CVT             3.5L V6 24V GDI DOHC   \n",
       "\n",
       "           Mileage SalePrice  \n",
       "0      53,200 mi.    $29,000  \n",
       "1      22,690 mi.    $55,975  \n",
       "2      17,854 mi.    $38,900  \n",
       "3      60,907 mi.    $22,125  \n",
       "4      41,614 mi.    $23,946  \n",
       "...            ...       ...  \n",
       "8476   78,378 mi.    $25,500  \n",
       "8477   30,909 mi.    $35,590  \n",
       "8478   30,186 mi.    $24,000  \n",
       "8479   22,309 mi.    $71,077  \n",
       "8480    9,399 mi.    $34,988  \n",
       "\n",
       "[8481 rows x 9 columns]"
      ]
     },
     "execution_count": 14,
     "metadata": {},
     "output_type": "execute_result"
    }
   ],
   "source": [
    "data.head()"
   ]
  },
  {
   "cell_type": "markdown",
   "metadata": {},
   "source": [
    "**Only ~1899 unique reviews, okay for this project**\n",
    "- Would like to grab more unique reviews in the future"
   ]
  },
  {
   "cell_type": "markdown",
   "metadata": {},
   "source": [
    "## Converting numeric data into floats"
   ]
  },
  {
   "cell_type": "markdown",
   "metadata": {},
   "source": [
    "**Converting from string to float**\n",
    "- getting numbers\n",
    "- turning number string to float"
   ]
  },
  {
   "cell_type": "code",
   "execution_count": 15,
   "metadata": {
    "scrolled": true
   },
   "outputs": [],
   "source": [
    "data['SalePrice'] = data['SalePrice'].str.translate({ord(i): None for i in '$,'})"
   ]
  },
  {
   "cell_type": "code",
   "execution_count": 16,
   "metadata": {},
   "outputs": [],
   "source": [
    "data = data.loc[data['SalePrice'] != 'Not Priced']"
   ]
  },
  {
   "cell_type": "code",
   "execution_count": 17,
   "metadata": {
    "scrolled": true
   },
   "outputs": [
    {
     "name": "stderr",
     "output_type": "stream",
     "text": [
      "<ipython-input-17-50854e4490e6>:1: SettingWithCopyWarning: \n",
      "A value is trying to be set on a copy of a slice from a DataFrame.\n",
      "Try using .loc[row_indexer,col_indexer] = value instead\n",
      "\n",
      "See the caveats in the documentation: https://pandas.pydata.org/pandas-docs/stable/user_guide/indexing.html#returning-a-view-versus-a-copy\n",
      "  data['SalePrice'] = data['SalePrice'].astype(float)\n"
     ]
    }
   ],
   "source": [
    "data['SalePrice'] = data['SalePrice'].astype(float)"
   ]
  },
  {
   "cell_type": "markdown",
   "metadata": {},
   "source": [
    "**Checking if changes were applied correctly**"
   ]
  },
  {
   "cell_type": "code",
   "execution_count": 18,
   "metadata": {
    "scrolled": true
   },
   "outputs": [
    {
     "data": {
      "text/html": [
       "<div>\n",
       "<style scoped>\n",
       "    .dataframe tbody tr th:only-of-type {\n",
       "        vertical-align: middle;\n",
       "    }\n",
       "\n",
       "    .dataframe tbody tr th {\n",
       "        vertical-align: top;\n",
       "    }\n",
       "\n",
       "    .dataframe thead th {\n",
       "        text-align: right;\n",
       "    }\n",
       "</style>\n",
       "<table border=\"1\" class=\"dataframe\">\n",
       "  <thead>\n",
       "    <tr style=\"text-align: right;\">\n",
       "      <th></th>\n",
       "      <th>Model</th>\n",
       "      <th>Reviews</th>\n",
       "      <th>DriveTrain</th>\n",
       "      <th>MPG</th>\n",
       "      <th>FuelType</th>\n",
       "      <th>Transmission</th>\n",
       "      <th>Engine</th>\n",
       "      <th>Mileage</th>\n",
       "      <th>SalePrice</th>\n",
       "    </tr>\n",
       "  </thead>\n",
       "  <tbody>\n",
       "    <tr>\n",
       "      <th>0</th>\n",
       "      <td>['2020 Toyota RAV4 LE']</td>\n",
       "      <td>['Virtually nothing has gone wrong with my 202...</td>\n",
       "      <td>Front-wheel Drive</td>\n",
       "      <td>27–35</td>\n",
       "      <td>Gasoline</td>\n",
       "      <td>8-Speed Automatic</td>\n",
       "      <td>2.5L I4 16V PDI DOHC</td>\n",
       "      <td>53,200 mi.</td>\n",
       "      <td>29000.0</td>\n",
       "    </tr>\n",
       "    <tr>\n",
       "      <th>1</th>\n",
       "      <td>['2016 Volkswagen e-Golf SE']</td>\n",
       "      <td>[\"Stranded today. Could not get to work. Somet...</td>\n",
       "      <td>Rear-wheel Drive</td>\n",
       "      <td>18–26</td>\n",
       "      <td>Gasoline</td>\n",
       "      <td>10-Speed Automatic</td>\n",
       "      <td>3.0L V6 24V GDI DOHC Twin Turbo</td>\n",
       "      <td>22,690 mi.</td>\n",
       "      <td>55975.0</td>\n",
       "    </tr>\n",
       "    <tr>\n",
       "      <th>2</th>\n",
       "      <td>['2020 Lincoln Aviator Reserve RWD']</td>\n",
       "      <td>['Excellent road car, quiet, stable, comfortab...</td>\n",
       "      <td>Four-wheel Drive</td>\n",
       "      <td>18–22</td>\n",
       "      <td>Gasoline</td>\n",
       "      <td>6-Speed Automatic</td>\n",
       "      <td>3.5L V6 24V PDI DOHC</td>\n",
       "      <td>17,854 mi.</td>\n",
       "      <td>38900.0</td>\n",
       "    </tr>\n",
       "    <tr>\n",
       "      <th>3</th>\n",
       "      <td>['2021 Toyota Tacoma TRD Off Road']</td>\n",
       "      <td>['PURCHASED FROM NYE TOYOTA, MY FIRST TACOMA. ...</td>\n",
       "      <td>Front-wheel Drive</td>\n",
       "      <td>28–39</td>\n",
       "      <td>Gasoline</td>\n",
       "      <td>Automatic CVT</td>\n",
       "      <td>2.5L I4 16V GDI DOHC</td>\n",
       "      <td>60,907 mi.</td>\n",
       "      <td>22125.0</td>\n",
       "    </tr>\n",
       "    <tr>\n",
       "      <th>4</th>\n",
       "      <td>['2020 Nissan Altima 2.5 S']</td>\n",
       "      <td>['I’ve own a 2020 Altima (under 30k miles) for...</td>\n",
       "      <td>Front-wheel Drive</td>\n",
       "      <td>24–32</td>\n",
       "      <td>Gasoline</td>\n",
       "      <td>6-Speed Automatic</td>\n",
       "      <td>2.4L I4 16V GDI DOHC</td>\n",
       "      <td>41,614 mi.</td>\n",
       "      <td>23946.0</td>\n",
       "    </tr>\n",
       "  </tbody>\n",
       "</table>\n",
       "</div>"
      ],
      "text/plain": [
       "                                  Model  \\\n",
       "0               ['2020 Toyota RAV4 LE']   \n",
       "1         ['2016 Volkswagen e-Golf SE']   \n",
       "2  ['2020 Lincoln Aviator Reserve RWD']   \n",
       "3   ['2021 Toyota Tacoma TRD Off Road']   \n",
       "4          ['2020 Nissan Altima 2.5 S']   \n",
       "\n",
       "                                             Reviews           DriveTrain  \\\n",
       "0  ['Virtually nothing has gone wrong with my 202...   Front-wheel Drive    \n",
       "1  [\"Stranded today. Could not get to work. Somet...    Rear-wheel Drive    \n",
       "2  ['Excellent road car, quiet, stable, comfortab...    Four-wheel Drive    \n",
       "3  ['PURCHASED FROM NYE TOYOTA, MY FIRST TACOMA. ...   Front-wheel Drive    \n",
       "4  ['I’ve own a 2020 Altima (under 30k miles) for...   Front-wheel Drive    \n",
       "\n",
       "     MPG   FuelType        Transmission                           Engine  \\\n",
       "0  27–35  Gasoline    8-Speed Automatic             2.5L I4 16V PDI DOHC   \n",
       "1  18–26  Gasoline   10-Speed Automatic  3.0L V6 24V GDI DOHC Twin Turbo   \n",
       "2  18–22  Gasoline    6-Speed Automatic             3.5L V6 24V PDI DOHC   \n",
       "3  28–39  Gasoline        Automatic CVT             2.5L I4 16V GDI DOHC   \n",
       "4  24–32  Gasoline    6-Speed Automatic             2.4L I4 16V GDI DOHC   \n",
       "\n",
       "        Mileage  SalePrice  \n",
       "0   53,200 mi.     29000.0  \n",
       "1   22,690 mi.     55975.0  \n",
       "2   17,854 mi.     38900.0  \n",
       "3   60,907 mi.     22125.0  \n",
       "4   41,614 mi.     23946.0  "
      ]
     },
     "execution_count": 18,
     "metadata": {},
     "output_type": "execute_result"
    }
   ],
   "source": [
    "data.head()"
   ]
  },
  {
   "cell_type": "markdown",
   "metadata": {},
   "source": [
    "## Creating a target column by binning sale prices"
   ]
  },
  {
   "cell_type": "markdown",
   "metadata": {},
   "source": [
    "**Binning SalePrice for target variable**\n",
    "- Seems to have good distribubtion of prices\n",
    "- Use qcut to bin, use as starting point"
   ]
  },
  {
   "cell_type": "code",
   "execution_count": 19,
   "metadata": {},
   "outputs": [
    {
     "data": {
      "text/plain": [
       "count      8475.000000\n",
       "mean      38280.058997\n",
       "std       22057.867345\n",
       "min        2500.000000\n",
       "25%       25376.500000\n",
       "50%       34598.000000\n",
       "75%       44988.000000\n",
       "max      435500.000000\n",
       "Name: SalePrice, dtype: float64"
      ]
     },
     "execution_count": 19,
     "metadata": {},
     "output_type": "execute_result"
    }
   ],
   "source": [
    "data['SalePrice'].describe()"
   ]
  },
  {
   "cell_type": "code",
   "execution_count": 20,
   "metadata": {},
   "outputs": [
    {
     "data": {
      "text/plain": [
       "<AxesSubplot:>"
      ]
     },
     "execution_count": 20,
     "metadata": {},
     "output_type": "execute_result"
    },
    {
     "data": {
      "image/png": "[encoded data removed]",
      "text/plain": [
       "<Figure size 720x432 with 1 Axes>"
      ]
     },
     "metadata": {
      "needs_background": "light"
     },
     "output_type": "display_data"
    }
   ],
   "source": [
    "data['SalePrice'].hist(figsize=(10,6))"
   ]
  },
  {
   "cell_type": "code",
   "execution_count": 21,
   "metadata": {
    "scrolled": true
   },
   "outputs": [
    {
     "data": {
      "text/plain": [
       "[(23952.2, 30855.8], (47902.6, 435500.0], (38590.0, 47902.6], (2499.999, 23952.2], (30855.8, 38590.0]]\n",
       "Categories (5, interval[float64]): [(2499.999, 23952.2] < (23952.2, 30855.8] < (30855.8, 38590.0] < (38590.0, 47902.6] < (47902.6, 435500.0]]"
      ]
     },
     "execution_count": 21,
     "metadata": {},
     "output_type": "execute_result"
    }
   ],
   "source": [
    "pd.qcut(data['SalePrice'], q=5).unique()"
   ]
  },
  {
   "cell_type": "markdown",
   "metadata": {},
   "source": [
    "**Outliers seem to have little effect on binning**"
   ]
  },
  {
   "cell_type": "code",
   "execution_count": 22,
   "metadata": {
    "scrolled": false
   },
   "outputs": [
    {
     "data": {
      "text/plain": [
       "[(23910.0, 30731.6], (47625.2, 149999.0], (38500.0, 47625.2], (2499.999, 23910.0], (30731.6, 38500.0]]\n",
       "Categories (5, interval[float64]): [(2499.999, 23910.0] < (23910.0, 30731.6] < (30731.6, 38500.0] < (38500.0, 47625.2] < (47625.2, 149999.0]]"
      ]
     },
     "execution_count": 22,
     "metadata": {},
     "output_type": "execute_result"
    }
   ],
   "source": [
    "pd.qcut(data.loc[data['SalePrice'] <= 150000]['SalePrice'], q=5).unique()"
   ]
  },
  {
   "cell_type": "markdown",
   "metadata": {},
   "source": [
    "**Came back and used 3 bins instead of 5**\n",
    "- Models preformed better with 3 bins\n",
    "- For my business understanding it is okay\n",
    "- Consumer would use as a starting point"
   ]
  },
  {
   "cell_type": "code",
   "execution_count": 23,
   "metadata": {},
   "outputs": [
    {
     "data": {
      "text/plain": [
       "[(28285.667, 40995.0], (40995.0, 435500.0], (2499.999, 28285.667]]\n",
       "Categories (3, interval[float64]): [(2499.999, 28285.667] < (28285.667, 40995.0] < (40995.0, 435500.0]]"
      ]
     },
     "execution_count": 23,
     "metadata": {},
     "output_type": "execute_result"
    }
   ],
   "source": [
    "pd.qcut(data['SalePrice'], q=3).unique()"
   ]
  },
  {
   "cell_type": "markdown",
   "metadata": {},
   "source": [
    "**Bins to be used**\n",
    "- Cheap 0-28k\n",
    "- Average 28k-45k\n",
    "- Expensive 45k+\n",
    "\n",
    "\n",
    "This is for the cars in this dataset, Google says average price in AL is 33k. Binning is okay for general idea."
   ]
  },
  {
   "cell_type": "code",
   "execution_count": 24,
   "metadata": {},
   "outputs": [
    {
     "name": "stderr",
     "output_type": "stream",
     "text": [
      "<ipython-input-24-746454a585dc>:11: SettingWithCopyWarning: \n",
      "A value is trying to be set on a copy of a slice from a DataFrame.\n",
      "Try using .loc[row_indexer,col_indexer] = value instead\n",
      "\n",
      "See the caveats in the documentation: https://pandas.pydata.org/pandas-docs/stable/user_guide/indexing.html#returning-a-view-versus-a-copy\n",
      "  data['PriceCategory'] = np.select(bins, price_cat)\n"
     ]
    }
   ],
   "source": [
    "bins = [\n",
    "    (data['SalePrice'] <= 28000),\n",
    "    (data['SalePrice'] > 28000) & (data['SalePrice'] <= 45000),\n",
    "    (data['SalePrice'] > 45000)\n",
    "    ]\n",
    "\n",
    "# create a list of the values we want to assign for each condition\n",
    "price_cat = ['Cheap', 'Average', 'Expensive']\n",
    "\n",
    "# create a new column and use np.select to assign values to it using our lists as arguments\n",
    "data['PriceCategory'] = np.select(bins, price_cat)"
   ]
  },
  {
   "cell_type": "code",
   "execution_count": 25,
   "metadata": {
    "scrolled": true
   },
   "outputs": [
    {
     "data": {
      "text/html": [
       "<div>\n",
       "<style scoped>\n",
       "    .dataframe tbody tr th:only-of-type {\n",
       "        vertical-align: middle;\n",
       "    }\n",
       "\n",
       "    .dataframe tbody tr th {\n",
       "        vertical-align: top;\n",
       "    }\n",
       "\n",
       "    .dataframe thead th {\n",
       "        text-align: right;\n",
       "    }\n",
       "</style>\n",
       "<table border=\"1\" class=\"dataframe\">\n",
       "  <thead>\n",
       "    <tr style=\"text-align: right;\">\n",
       "      <th></th>\n",
       "      <th>Model</th>\n",
       "      <th>Reviews</th>\n",
       "      <th>DriveTrain</th>\n",
       "      <th>MPG</th>\n",
       "      <th>FuelType</th>\n",
       "      <th>Transmission</th>\n",
       "      <th>Engine</th>\n",
       "      <th>Mileage</th>\n",
       "      <th>SalePrice</th>\n",
       "      <th>PriceCategory</th>\n",
       "    </tr>\n",
       "  </thead>\n",
       "  <tbody>\n",
       "    <tr>\n",
       "      <th>0</th>\n",
       "      <td>['2020 Toyota RAV4 LE']</td>\n",
       "      <td>['Virtually nothing has gone wrong with my 202...</td>\n",
       "      <td>Front-wheel Drive</td>\n",
       "      <td>27–35</td>\n",
       "      <td>Gasoline</td>\n",
       "      <td>8-Speed Automatic</td>\n",
       "      <td>2.5L I4 16V PDI DOHC</td>\n",
       "      <td>53,200 mi.</td>\n",
       "      <td>29000.0</td>\n",
       "      <td>Average</td>\n",
       "    </tr>\n",
       "    <tr>\n",
       "      <th>1</th>\n",
       "      <td>['2016 Volkswagen e-Golf SE']</td>\n",
       "      <td>[\"Stranded today. Could not get to work. Somet...</td>\n",
       "      <td>Rear-wheel Drive</td>\n",
       "      <td>18–26</td>\n",
       "      <td>Gasoline</td>\n",
       "      <td>10-Speed Automatic</td>\n",
       "      <td>3.0L V6 24V GDI DOHC Twin Turbo</td>\n",
       "      <td>22,690 mi.</td>\n",
       "      <td>55975.0</td>\n",
       "      <td>Expensive</td>\n",
       "    </tr>\n",
       "    <tr>\n",
       "      <th>2</th>\n",
       "      <td>['2020 Lincoln Aviator Reserve RWD']</td>\n",
       "      <td>['Excellent road car, quiet, stable, comfortab...</td>\n",
       "      <td>Four-wheel Drive</td>\n",
       "      <td>18–22</td>\n",
       "      <td>Gasoline</td>\n",
       "      <td>6-Speed Automatic</td>\n",
       "      <td>3.5L V6 24V PDI DOHC</td>\n",
       "      <td>17,854 mi.</td>\n",
       "      <td>38900.0</td>\n",
       "      <td>Average</td>\n",
       "    </tr>\n",
       "    <tr>\n",
       "      <th>3</th>\n",
       "      <td>['2021 Toyota Tacoma TRD Off Road']</td>\n",
       "      <td>['PURCHASED FROM NYE TOYOTA, MY FIRST TACOMA. ...</td>\n",
       "      <td>Front-wheel Drive</td>\n",
       "      <td>28–39</td>\n",
       "      <td>Gasoline</td>\n",
       "      <td>Automatic CVT</td>\n",
       "      <td>2.5L I4 16V GDI DOHC</td>\n",
       "      <td>60,907 mi.</td>\n",
       "      <td>22125.0</td>\n",
       "      <td>Cheap</td>\n",
       "    </tr>\n",
       "    <tr>\n",
       "      <th>4</th>\n",
       "      <td>['2020 Nissan Altima 2.5 S']</td>\n",
       "      <td>['I’ve own a 2020 Altima (under 30k miles) for...</td>\n",
       "      <td>Front-wheel Drive</td>\n",
       "      <td>24–32</td>\n",
       "      <td>Gasoline</td>\n",
       "      <td>6-Speed Automatic</td>\n",
       "      <td>2.4L I4 16V GDI DOHC</td>\n",
       "      <td>41,614 mi.</td>\n",
       "      <td>23946.0</td>\n",
       "      <td>Cheap</td>\n",
       "    </tr>\n",
       "  </tbody>\n",
       "</table>\n",
       "</div>"
      ],
      "text/plain": [
       "                                  Model  \\\n",
       "0               ['2020 Toyota RAV4 LE']   \n",
       "1         ['2016 Volkswagen e-Golf SE']   \n",
       "2  ['2020 Lincoln Aviator Reserve RWD']   \n",
       "3   ['2021 Toyota Tacoma TRD Off Road']   \n",
       "4          ['2020 Nissan Altima 2.5 S']   \n",
       "\n",
       "                                             Reviews           DriveTrain  \\\n",
       "0  ['Virtually nothing has gone wrong with my 202...   Front-wheel Drive    \n",
       "1  [\"Stranded today. Could not get to work. Somet...    Rear-wheel Drive    \n",
       "2  ['Excellent road car, quiet, stable, comfortab...    Four-wheel Drive    \n",
       "3  ['PURCHASED FROM NYE TOYOTA, MY FIRST TACOMA. ...   Front-wheel Drive    \n",
       "4  ['I’ve own a 2020 Altima (under 30k miles) for...   Front-wheel Drive    \n",
       "\n",
       "     MPG   FuelType        Transmission                           Engine  \\\n",
       "0  27–35  Gasoline    8-Speed Automatic             2.5L I4 16V PDI DOHC   \n",
       "1  18–26  Gasoline   10-Speed Automatic  3.0L V6 24V GDI DOHC Twin Turbo   \n",
       "2  18–22  Gasoline    6-Speed Automatic             3.5L V6 24V PDI DOHC   \n",
       "3  28–39  Gasoline        Automatic CVT             2.5L I4 16V GDI DOHC   \n",
       "4  24–32  Gasoline    6-Speed Automatic             2.4L I4 16V GDI DOHC   \n",
       "\n",
       "        Mileage  SalePrice PriceCategory  \n",
       "0   53,200 mi.     29000.0       Average  \n",
       "1   22,690 mi.     55975.0     Expensive  \n",
       "2   17,854 mi.     38900.0       Average  \n",
       "3   60,907 mi.     22125.0         Cheap  \n",
       "4   41,614 mi.     23946.0         Cheap  "
      ]
     },
     "execution_count": 25,
     "metadata": {},
     "output_type": "execute_result"
    }
   ],
   "source": [
    "data.head()"
   ]
  },
  {
   "cell_type": "markdown",
   "metadata": {},
   "source": [
    "**Bins seem evenly distributed**\n",
    "- makes sense there are more average cars and less expensive cars "
   ]
  },
  {
   "cell_type": "code",
   "execution_count": 26,
   "metadata": {
    "scrolled": true
   },
   "outputs": [
    {
     "data": {
      "text/plain": [
       "Average      3625\n",
       "Cheap        2809\n",
       "Expensive    2041\n",
       "Name: PriceCategory, dtype: int64"
      ]
     },
     "execution_count": 26,
     "metadata": {},
     "output_type": "execute_result"
    }
   ],
   "source": [
    "data['PriceCategory'].value_counts()"
   ]
  },
  {
   "cell_type": "markdown",
   "metadata": {},
   "source": [
    "## Cleaning the reviews"
   ]
  },
  {
   "cell_type": "markdown",
   "metadata": {},
   "source": [
    "**Grabbing a review**\n",
    "- attempt to clean it\n",
    "- create new column with clean reviews"
   ]
  },
  {
   "cell_type": "code",
   "execution_count": 27,
   "metadata": {},
   "outputs": [],
   "source": [
    "def review_cleaner(rev):\n",
    "    '''\n",
    "    Takes in a string and removes special characters.\n",
    "    Returns the string with no special characters.\n",
    "    '''\n",
    "    clean = re.sub(r'\\\\n', '', rev)\n",
    "    clean = re.sub(r'\\\\r', '', clean)\n",
    "    clean = clean.replace('[', '')\n",
    "    clean = clean.replace(']', '')\n",
    "    clean = clean.replace('\"', '')\n",
    "    clean = clean.replace(\"'\", \"\")\n",
    "    return clean"
   ]
  },
  {
   "cell_type": "code",
   "execution_count": 28,
   "metadata": {},
   "outputs": [
    {
     "data": {
      "text/plain": [
       "\"['it was nice joyable but 2008 is better and it has a spear tire and was very nice i rate it 8/10 that better then nothing.', '2008 model was much better than 2013 and what idiot eng placed a spare tire in the floor?\\\\nWhen you have big family you need space for storage on the long trips.\\\\nSo Ac issues, sliding door issues, EGR issues VSC issues', 'Amazing van.  Love it, love it, love it.  Reliable Honda Odyssey.  Great for family vacations.  The kids, dogs, family, and friends enjoy riding in the van.']\""
      ]
     },
     "execution_count": 28,
     "metadata": {},
     "output_type": "execute_result"
    }
   ],
   "source": [
    "data['Reviews'][45]"
   ]
  },
  {
   "cell_type": "code",
   "execution_count": 29,
   "metadata": {
    "scrolled": false
   },
   "outputs": [
    {
     "data": {
      "text/plain": [
       "'it was nice joyable but 2008 is better and it has a spear tire and was very nice i rate it 8/10 that better then nothing., 2008 model was much better than 2013 and what idiot eng placed a spare tire in the floor?When you have big family you need space for storage on the long trips.So Ac issues, sliding door issues, EGR issues VSC issues, Amazing van.  Love it, love it, love it.  Reliable Honda Odyssey.  Great for family vacations.  The kids, dogs, family, and friends enjoy riding in the van.'"
      ]
     },
     "execution_count": 29,
     "metadata": {},
     "output_type": "execute_result"
    }
   ],
   "source": [
    "review_cleaner(data['Reviews'][45])"
   ]
  },
  {
   "cell_type": "code",
   "execution_count": 30,
   "metadata": {
    "scrolled": false
   },
   "outputs": [
    {
     "name": "stderr",
     "output_type": "stream",
     "text": [
      "<ipython-input-30-cfc12aaf38a4>:1: SettingWithCopyWarning: \n",
      "A value is trying to be set on a copy of a slice from a DataFrame.\n",
      "Try using .loc[row_indexer,col_indexer] = value instead\n",
      "\n",
      "See the caveats in the documentation: https://pandas.pydata.org/pandas-docs/stable/user_guide/indexing.html#returning-a-view-versus-a-copy\n",
      "  data['CleanReviews'] = data['Reviews'].apply(lambda x: review_cleaner(x))\n"
     ]
    }
   ],
   "source": [
    "data['CleanReviews'] = data['Reviews'].apply(lambda x: review_cleaner(x))"
   ]
  },
  {
   "cell_type": "code",
   "execution_count": 31,
   "metadata": {},
   "outputs": [
    {
     "data": {
      "text/plain": [
       "'I’ve wanted a duramax for a long time but finding the right one wasn’t easy! I am in LOVE with my new purchase. Can’t wait to hook my horse trailer to it!, This truck has everything...... Its by far the nicest pickup I have ever driven and owned !!!!! I would recommend this to all my friends !, After haven driving several new heavy duty diesel pickups I decided to go with the Chevrolet. The L5P engine is powerful, and Of course they’re all powerful these days. But this truck is fast, faster than my most of my friends trucks that have aftermarket tunes. Faster than my neighbors tuned 6.7 ford. 2019 was the last year of the real Allison transmission 6 speed so that’s a plus also. The new trucks have a GM 10 speed. The truck seems to be rock solid so far. No real issues yet. Hauled number ours heavy trailers and haven’t had an issue. Truck is my daily driver and rides great. It rides just like a half ton.'"
      ]
     },
     "execution_count": 31,
     "metadata": {},
     "output_type": "execute_result"
    }
   ],
   "source": [
    "data['CleanReviews'][8]"
   ]
  },
  {
   "cell_type": "markdown",
   "metadata": {},
   "source": [
    "**It works :)**"
   ]
  },
  {
   "cell_type": "code",
   "execution_count": 32,
   "metadata": {
    "scrolled": true
   },
   "outputs": [
    {
     "data": {
      "text/html": [
       "<div>\n",
       "<style scoped>\n",
       "    .dataframe tbody tr th:only-of-type {\n",
       "        vertical-align: middle;\n",
       "    }\n",
       "\n",
       "    .dataframe tbody tr th {\n",
       "        vertical-align: top;\n",
       "    }\n",
       "\n",
       "    .dataframe thead th {\n",
       "        text-align: right;\n",
       "    }\n",
       "</style>\n",
       "<table border=\"1\" class=\"dataframe\">\n",
       "  <thead>\n",
       "    <tr style=\"text-align: right;\">\n",
       "      <th></th>\n",
       "      <th>Model</th>\n",
       "      <th>Reviews</th>\n",
       "      <th>DriveTrain</th>\n",
       "      <th>MPG</th>\n",
       "      <th>FuelType</th>\n",
       "      <th>Transmission</th>\n",
       "      <th>Engine</th>\n",
       "      <th>Mileage</th>\n",
       "      <th>SalePrice</th>\n",
       "      <th>PriceCategory</th>\n",
       "      <th>CleanReviews</th>\n",
       "    </tr>\n",
       "  </thead>\n",
       "  <tbody>\n",
       "    <tr>\n",
       "      <th>0</th>\n",
       "      <td>['2020 Toyota RAV4 LE']</td>\n",
       "      <td>['Virtually nothing has gone wrong with my 202...</td>\n",
       "      <td>Front-wheel Drive</td>\n",
       "      <td>27–35</td>\n",
       "      <td>Gasoline</td>\n",
       "      <td>8-Speed Automatic</td>\n",
       "      <td>2.5L I4 16V PDI DOHC</td>\n",
       "      <td>53,200 mi.</td>\n",
       "      <td>29000.0</td>\n",
       "      <td>Average</td>\n",
       "      <td>Virtually nothing has gone wrong with my 2020 ...</td>\n",
       "    </tr>\n",
       "    <tr>\n",
       "      <th>1</th>\n",
       "      <td>['2016 Volkswagen e-Golf SE']</td>\n",
       "      <td>[\"Stranded today. Could not get to work. Somet...</td>\n",
       "      <td>Rear-wheel Drive</td>\n",
       "      <td>18–26</td>\n",
       "      <td>Gasoline</td>\n",
       "      <td>10-Speed Automatic</td>\n",
       "      <td>3.0L V6 24V GDI DOHC Twin Turbo</td>\n",
       "      <td>22,690 mi.</td>\n",
       "      <td>55975.0</td>\n",
       "      <td>Expensive</td>\n",
       "      <td>Stranded today. Could not get to work. Somethi...</td>\n",
       "    </tr>\n",
       "    <tr>\n",
       "      <th>2</th>\n",
       "      <td>['2020 Lincoln Aviator Reserve RWD']</td>\n",
       "      <td>['Excellent road car, quiet, stable, comfortab...</td>\n",
       "      <td>Four-wheel Drive</td>\n",
       "      <td>18–22</td>\n",
       "      <td>Gasoline</td>\n",
       "      <td>6-Speed Automatic</td>\n",
       "      <td>3.5L V6 24V PDI DOHC</td>\n",
       "      <td>17,854 mi.</td>\n",
       "      <td>38900.0</td>\n",
       "      <td>Average</td>\n",
       "      <td>Excellent road car, quiet, stable, comfortable...</td>\n",
       "    </tr>\n",
       "    <tr>\n",
       "      <th>3</th>\n",
       "      <td>['2021 Toyota Tacoma TRD Off Road']</td>\n",
       "      <td>['PURCHASED FROM NYE TOYOTA, MY FIRST TACOMA. ...</td>\n",
       "      <td>Front-wheel Drive</td>\n",
       "      <td>28–39</td>\n",
       "      <td>Gasoline</td>\n",
       "      <td>Automatic CVT</td>\n",
       "      <td>2.5L I4 16V GDI DOHC</td>\n",
       "      <td>60,907 mi.</td>\n",
       "      <td>22125.0</td>\n",
       "      <td>Cheap</td>\n",
       "      <td>PURCHASED FROM NYE TOYOTA, MY FIRST TACOMA. LO...</td>\n",
       "    </tr>\n",
       "    <tr>\n",
       "      <th>4</th>\n",
       "      <td>['2020 Nissan Altima 2.5 S']</td>\n",
       "      <td>['I’ve own a 2020 Altima (under 30k miles) for...</td>\n",
       "      <td>Front-wheel Drive</td>\n",
       "      <td>24–32</td>\n",
       "      <td>Gasoline</td>\n",
       "      <td>6-Speed Automatic</td>\n",
       "      <td>2.4L I4 16V GDI DOHC</td>\n",
       "      <td>41,614 mi.</td>\n",
       "      <td>23946.0</td>\n",
       "      <td>Cheap</td>\n",
       "      <td>I’ve own a 2020 Altima (under 30k miles) for a...</td>\n",
       "    </tr>\n",
       "  </tbody>\n",
       "</table>\n",
       "</div>"
      ],
      "text/plain": [
       "                                  Model  \\\n",
       "0               ['2020 Toyota RAV4 LE']   \n",
       "1         ['2016 Volkswagen e-Golf SE']   \n",
       "2  ['2020 Lincoln Aviator Reserve RWD']   \n",
       "3   ['2021 Toyota Tacoma TRD Off Road']   \n",
       "4          ['2020 Nissan Altima 2.5 S']   \n",
       "\n",
       "                                             Reviews           DriveTrain  \\\n",
       "0  ['Virtually nothing has gone wrong with my 202...   Front-wheel Drive    \n",
       "1  [\"Stranded today. Could not get to work. Somet...    Rear-wheel Drive    \n",
       "2  ['Excellent road car, quiet, stable, comfortab...    Four-wheel Drive    \n",
       "3  ['PURCHASED FROM NYE TOYOTA, MY FIRST TACOMA. ...   Front-wheel Drive    \n",
       "4  ['I’ve own a 2020 Altima (under 30k miles) for...   Front-wheel Drive    \n",
       "\n",
       "     MPG   FuelType        Transmission                           Engine  \\\n",
       "0  27–35  Gasoline    8-Speed Automatic             2.5L I4 16V PDI DOHC   \n",
       "1  18–26  Gasoline   10-Speed Automatic  3.0L V6 24V GDI DOHC Twin Turbo   \n",
       "2  18–22  Gasoline    6-Speed Automatic             3.5L V6 24V PDI DOHC   \n",
       "3  28–39  Gasoline        Automatic CVT             2.5L I4 16V GDI DOHC   \n",
       "4  24–32  Gasoline    6-Speed Automatic             2.4L I4 16V GDI DOHC   \n",
       "\n",
       "        Mileage  SalePrice PriceCategory  \\\n",
       "0   53,200 mi.     29000.0       Average   \n",
       "1   22,690 mi.     55975.0     Expensive   \n",
       "2   17,854 mi.     38900.0       Average   \n",
       "3   60,907 mi.     22125.0         Cheap   \n",
       "4   41,614 mi.     23946.0         Cheap   \n",
       "\n",
       "                                        CleanReviews  \n",
       "0  Virtually nothing has gone wrong with my 2020 ...  \n",
       "1  Stranded today. Could not get to work. Somethi...  \n",
       "2  Excellent road car, quiet, stable, comfortable...  \n",
       "3  PURCHASED FROM NYE TOYOTA, MY FIRST TACOMA. LO...  \n",
       "4  I’ve own a 2020 Altima (under 30k miles) for a...  "
      ]
     },
     "execution_count": 32,
     "metadata": {},
     "output_type": "execute_result"
    }
   ],
   "source": [
    "data.head()"
   ]
  },
  {
   "cell_type": "markdown",
   "metadata": {},
   "source": [
    "## Focus on secondary list"
   ]
  },
  {
   "cell_type": "markdown",
   "metadata": {},
   "source": [
    "**Secondary**\n",
    "- clean the rest of the data"
   ]
  },
  {
   "cell_type": "code",
   "execution_count": 33,
   "metadata": {},
   "outputs": [],
   "source": [
    "data = data.drop(columns='Reviews')"
   ]
  },
  {
   "cell_type": "code",
   "execution_count": 34,
   "metadata": {
    "scrolled": false
   },
   "outputs": [
    {
     "data": {
      "text/html": [
       "<div>\n",
       "<style scoped>\n",
       "    .dataframe tbody tr th:only-of-type {\n",
       "        vertical-align: middle;\n",
       "    }\n",
       "\n",
       "    .dataframe tbody tr th {\n",
       "        vertical-align: top;\n",
       "    }\n",
       "\n",
       "    .dataframe thead th {\n",
       "        text-align: right;\n",
       "    }\n",
       "</style>\n",
       "<table border=\"1\" class=\"dataframe\">\n",
       "  <thead>\n",
       "    <tr style=\"text-align: right;\">\n",
       "      <th></th>\n",
       "      <th>Model</th>\n",
       "      <th>DriveTrain</th>\n",
       "      <th>MPG</th>\n",
       "      <th>FuelType</th>\n",
       "      <th>Transmission</th>\n",
       "      <th>Engine</th>\n",
       "      <th>Mileage</th>\n",
       "      <th>SalePrice</th>\n",
       "      <th>PriceCategory</th>\n",
       "      <th>CleanReviews</th>\n",
       "    </tr>\n",
       "  </thead>\n",
       "  <tbody>\n",
       "    <tr>\n",
       "      <th>0</th>\n",
       "      <td>['2020 Toyota RAV4 LE']</td>\n",
       "      <td>Front-wheel Drive</td>\n",
       "      <td>27–35</td>\n",
       "      <td>Gasoline</td>\n",
       "      <td>8-Speed Automatic</td>\n",
       "      <td>2.5L I4 16V PDI DOHC</td>\n",
       "      <td>53,200 mi.</td>\n",
       "      <td>29000.0</td>\n",
       "      <td>Average</td>\n",
       "      <td>Virtually nothing has gone wrong with my 2020 ...</td>\n",
       "    </tr>\n",
       "    <tr>\n",
       "      <th>1</th>\n",
       "      <td>['2016 Volkswagen e-Golf SE']</td>\n",
       "      <td>Rear-wheel Drive</td>\n",
       "      <td>18–26</td>\n",
       "      <td>Gasoline</td>\n",
       "      <td>10-Speed Automatic</td>\n",
       "      <td>3.0L V6 24V GDI DOHC Twin Turbo</td>\n",
       "      <td>22,690 mi.</td>\n",
       "      <td>55975.0</td>\n",
       "      <td>Expensive</td>\n",
       "      <td>Stranded today. Could not get to work. Somethi...</td>\n",
       "    </tr>\n",
       "    <tr>\n",
       "      <th>2</th>\n",
       "      <td>['2020 Lincoln Aviator Reserve RWD']</td>\n",
       "      <td>Four-wheel Drive</td>\n",
       "      <td>18–22</td>\n",
       "      <td>Gasoline</td>\n",
       "      <td>6-Speed Automatic</td>\n",
       "      <td>3.5L V6 24V PDI DOHC</td>\n",
       "      <td>17,854 mi.</td>\n",
       "      <td>38900.0</td>\n",
       "      <td>Average</td>\n",
       "      <td>Excellent road car, quiet, stable, comfortable...</td>\n",
       "    </tr>\n",
       "    <tr>\n",
       "      <th>3</th>\n",
       "      <td>['2021 Toyota Tacoma TRD Off Road']</td>\n",
       "      <td>Front-wheel Drive</td>\n",
       "      <td>28–39</td>\n",
       "      <td>Gasoline</td>\n",
       "      <td>Automatic CVT</td>\n",
       "      <td>2.5L I4 16V GDI DOHC</td>\n",
       "      <td>60,907 mi.</td>\n",
       "      <td>22125.0</td>\n",
       "      <td>Cheap</td>\n",
       "      <td>PURCHASED FROM NYE TOYOTA, MY FIRST TACOMA. LO...</td>\n",
       "    </tr>\n",
       "    <tr>\n",
       "      <th>4</th>\n",
       "      <td>['2020 Nissan Altima 2.5 S']</td>\n",
       "      <td>Front-wheel Drive</td>\n",
       "      <td>24–32</td>\n",
       "      <td>Gasoline</td>\n",
       "      <td>6-Speed Automatic</td>\n",
       "      <td>2.4L I4 16V GDI DOHC</td>\n",
       "      <td>41,614 mi.</td>\n",
       "      <td>23946.0</td>\n",
       "      <td>Cheap</td>\n",
       "      <td>I’ve own a 2020 Altima (under 30k miles) for a...</td>\n",
       "    </tr>\n",
       "  </tbody>\n",
       "</table>\n",
       "</div>"
      ],
      "text/plain": [
       "                                  Model           DriveTrain    MPG  \\\n",
       "0               ['2020 Toyota RAV4 LE']   Front-wheel Drive   27–35   \n",
       "1         ['2016 Volkswagen e-Golf SE']    Rear-wheel Drive   18–26   \n",
       "2  ['2020 Lincoln Aviator Reserve RWD']    Four-wheel Drive   18–22   \n",
       "3   ['2021 Toyota Tacoma TRD Off Road']   Front-wheel Drive   28–39   \n",
       "4          ['2020 Nissan Altima 2.5 S']   Front-wheel Drive   24–32   \n",
       "\n",
       "    FuelType        Transmission                           Engine  \\\n",
       "0  Gasoline    8-Speed Automatic             2.5L I4 16V PDI DOHC   \n",
       "1  Gasoline   10-Speed Automatic  3.0L V6 24V GDI DOHC Twin Turbo   \n",
       "2  Gasoline    6-Speed Automatic             3.5L V6 24V PDI DOHC   \n",
       "3  Gasoline        Automatic CVT             2.5L I4 16V GDI DOHC   \n",
       "4  Gasoline    6-Speed Automatic             2.4L I4 16V GDI DOHC   \n",
       "\n",
       "        Mileage  SalePrice PriceCategory  \\\n",
       "0   53,200 mi.     29000.0       Average   \n",
       "1   22,690 mi.     55975.0     Expensive   \n",
       "2   17,854 mi.     38900.0       Average   \n",
       "3   60,907 mi.     22125.0         Cheap   \n",
       "4   41,614 mi.     23946.0         Cheap   \n",
       "\n",
       "                                        CleanReviews  \n",
       "0  Virtually nothing has gone wrong with my 2020 ...  \n",
       "1  Stranded today. Could not get to work. Somethi...  \n",
       "2  Excellent road car, quiet, stable, comfortable...  \n",
       "3  PURCHASED FROM NYE TOYOTA, MY FIRST TACOMA. LO...  \n",
       "4  I’ve own a 2020 Altima (under 30k miles) for a...  "
      ]
     },
     "execution_count": 34,
     "metadata": {},
     "output_type": "execute_result"
    }
   ],
   "source": [
    "data.head()"
   ]
  },
  {
   "cell_type": "markdown",
   "metadata": {},
   "source": [
    "**Apply cleaner function to Model**"
   ]
  },
  {
   "cell_type": "code",
   "execution_count": 35,
   "metadata": {},
   "outputs": [],
   "source": [
    "data['Model'] = data['Model'].apply(lambda x: review_cleaner(x))"
   ]
  },
  {
   "cell_type": "code",
   "execution_count": 36,
   "metadata": {},
   "outputs": [
    {
     "data": {
      "text/plain": [
       "'RAV4'"
      ]
     },
     "execution_count": 36,
     "metadata": {},
     "output_type": "execute_result"
    }
   ],
   "source": [
    "data['Model'][0].split()[2]"
   ]
  },
  {
   "cell_type": "markdown",
   "metadata": {},
   "source": [
    "**Get year model and make in seperate cols**"
   ]
  },
  {
   "cell_type": "code",
   "execution_count": 37,
   "metadata": {},
   "outputs": [],
   "source": [
    "data['Year'] = data['Model'].apply(lambda x: x.split()[0])"
   ]
  },
  {
   "cell_type": "code",
   "execution_count": 38,
   "metadata": {},
   "outputs": [],
   "source": [
    "data['Make'] = data['Model'].apply(lambda x: x.split()[1])"
   ]
  },
  {
   "cell_type": "code",
   "execution_count": 39,
   "metadata": {},
   "outputs": [],
   "source": [
    "data['Car_Model'] = data['Model'].apply(lambda x: x.split()[2])"
   ]
  },
  {
   "cell_type": "code",
   "execution_count": 40,
   "metadata": {
    "scrolled": true
   },
   "outputs": [
    {
     "data": {
      "text/html": [
       "<div>\n",
       "<style scoped>\n",
       "    .dataframe tbody tr th:only-of-type {\n",
       "        vertical-align: middle;\n",
       "    }\n",
       "\n",
       "    .dataframe tbody tr th {\n",
       "        vertical-align: top;\n",
       "    }\n",
       "\n",
       "    .dataframe thead th {\n",
       "        text-align: right;\n",
       "    }\n",
       "</style>\n",
       "<table border=\"1\" class=\"dataframe\">\n",
       "  <thead>\n",
       "    <tr style=\"text-align: right;\">\n",
       "      <th></th>\n",
       "      <th>Model</th>\n",
       "      <th>DriveTrain</th>\n",
       "      <th>MPG</th>\n",
       "      <th>FuelType</th>\n",
       "      <th>Transmission</th>\n",
       "      <th>Engine</th>\n",
       "      <th>Mileage</th>\n",
       "      <th>SalePrice</th>\n",
       "      <th>PriceCategory</th>\n",
       "      <th>CleanReviews</th>\n",
       "      <th>Year</th>\n",
       "      <th>Make</th>\n",
       "      <th>Car_Model</th>\n",
       "    </tr>\n",
       "  </thead>\n",
       "  <tbody>\n",
       "    <tr>\n",
       "      <th>0</th>\n",
       "      <td>2020 Toyota RAV4 LE</td>\n",
       "      <td>Front-wheel Drive</td>\n",
       "      <td>27–35</td>\n",
       "      <td>Gasoline</td>\n",
       "      <td>8-Speed Automatic</td>\n",
       "      <td>2.5L I4 16V PDI DOHC</td>\n",
       "      <td>53,200 mi.</td>\n",
       "      <td>29000.0</td>\n",
       "      <td>Average</td>\n",
       "      <td>Virtually nothing has gone wrong with my 2020 ...</td>\n",
       "      <td>2020</td>\n",
       "      <td>Toyota</td>\n",
       "      <td>RAV4</td>\n",
       "    </tr>\n",
       "    <tr>\n",
       "      <th>1</th>\n",
       "      <td>2016 Volkswagen e-Golf SE</td>\n",
       "      <td>Rear-wheel Drive</td>\n",
       "      <td>18–26</td>\n",
       "      <td>Gasoline</td>\n",
       "      <td>10-Speed Automatic</td>\n",
       "      <td>3.0L V6 24V GDI DOHC Twin Turbo</td>\n",
       "      <td>22,690 mi.</td>\n",
       "      <td>55975.0</td>\n",
       "      <td>Expensive</td>\n",
       "      <td>Stranded today. Could not get to work. Somethi...</td>\n",
       "      <td>2016</td>\n",
       "      <td>Volkswagen</td>\n",
       "      <td>e-Golf</td>\n",
       "    </tr>\n",
       "    <tr>\n",
       "      <th>2</th>\n",
       "      <td>2020 Lincoln Aviator Reserve RWD</td>\n",
       "      <td>Four-wheel Drive</td>\n",
       "      <td>18–22</td>\n",
       "      <td>Gasoline</td>\n",
       "      <td>6-Speed Automatic</td>\n",
       "      <td>3.5L V6 24V PDI DOHC</td>\n",
       "      <td>17,854 mi.</td>\n",
       "      <td>38900.0</td>\n",
       "      <td>Average</td>\n",
       "      <td>Excellent road car, quiet, stable, comfortable...</td>\n",
       "      <td>2020</td>\n",
       "      <td>Lincoln</td>\n",
       "      <td>Aviator</td>\n",
       "    </tr>\n",
       "    <tr>\n",
       "      <th>3</th>\n",
       "      <td>2021 Toyota Tacoma TRD Off Road</td>\n",
       "      <td>Front-wheel Drive</td>\n",
       "      <td>28–39</td>\n",
       "      <td>Gasoline</td>\n",
       "      <td>Automatic CVT</td>\n",
       "      <td>2.5L I4 16V GDI DOHC</td>\n",
       "      <td>60,907 mi.</td>\n",
       "      <td>22125.0</td>\n",
       "      <td>Cheap</td>\n",
       "      <td>PURCHASED FROM NYE TOYOTA, MY FIRST TACOMA. LO...</td>\n",
       "      <td>2021</td>\n",
       "      <td>Toyota</td>\n",
       "      <td>Tacoma</td>\n",
       "    </tr>\n",
       "    <tr>\n",
       "      <th>4</th>\n",
       "      <td>2020 Nissan Altima 2.5 S</td>\n",
       "      <td>Front-wheel Drive</td>\n",
       "      <td>24–32</td>\n",
       "      <td>Gasoline</td>\n",
       "      <td>6-Speed Automatic</td>\n",
       "      <td>2.4L I4 16V GDI DOHC</td>\n",
       "      <td>41,614 mi.</td>\n",
       "      <td>23946.0</td>\n",
       "      <td>Cheap</td>\n",
       "      <td>I’ve own a 2020 Altima (under 30k miles) for a...</td>\n",
       "      <td>2020</td>\n",
       "      <td>Nissan</td>\n",
       "      <td>Altima</td>\n",
       "    </tr>\n",
       "  </tbody>\n",
       "</table>\n",
       "</div>"
      ],
      "text/plain": [
       "                              Model           DriveTrain    MPG   FuelType  \\\n",
       "0               2020 Toyota RAV4 LE   Front-wheel Drive   27–35  Gasoline    \n",
       "1         2016 Volkswagen e-Golf SE    Rear-wheel Drive   18–26  Gasoline    \n",
       "2  2020 Lincoln Aviator Reserve RWD    Four-wheel Drive   18–22  Gasoline    \n",
       "3   2021 Toyota Tacoma TRD Off Road   Front-wheel Drive   28–39  Gasoline    \n",
       "4          2020 Nissan Altima 2.5 S   Front-wheel Drive   24–32  Gasoline    \n",
       "\n",
       "         Transmission                           Engine       Mileage  \\\n",
       "0   8-Speed Automatic             2.5L I4 16V PDI DOHC   53,200 mi.    \n",
       "1  10-Speed Automatic  3.0L V6 24V GDI DOHC Twin Turbo   22,690 mi.    \n",
       "2   6-Speed Automatic             3.5L V6 24V PDI DOHC   17,854 mi.    \n",
       "3       Automatic CVT             2.5L I4 16V GDI DOHC   60,907 mi.    \n",
       "4   6-Speed Automatic             2.4L I4 16V GDI DOHC   41,614 mi.    \n",
       "\n",
       "   SalePrice PriceCategory                                       CleanReviews  \\\n",
       "0    29000.0       Average  Virtually nothing has gone wrong with my 2020 ...   \n",
       "1    55975.0     Expensive  Stranded today. Could not get to work. Somethi...   \n",
       "2    38900.0       Average  Excellent road car, quiet, stable, comfortable...   \n",
       "3    22125.0         Cheap  PURCHASED FROM NYE TOYOTA, MY FIRST TACOMA. LO...   \n",
       "4    23946.0         Cheap  I’ve own a 2020 Altima (under 30k miles) for a...   \n",
       "\n",
       "   Year        Make Car_Model  \n",
       "0  2020      Toyota      RAV4  \n",
       "1  2016  Volkswagen    e-Golf  \n",
       "2  2020     Lincoln   Aviator  \n",
       "3  2021      Toyota    Tacoma  \n",
       "4  2020      Nissan    Altima  "
      ]
     },
     "execution_count": 40,
     "metadata": {},
     "output_type": "execute_result"
    }
   ],
   "source": [
    "data.head()"
   ]
  },
  {
   "cell_type": "markdown",
   "metadata": {},
   "source": [
    "**Turn mileage and year into floats**"
   ]
  },
  {
   "cell_type": "code",
   "execution_count": 41,
   "metadata": {},
   "outputs": [],
   "source": [
    "data['Mileage'] = data['Mileage'].str.translate({ord(i): None for i in ',mi. '})"
   ]
  },
  {
   "cell_type": "code",
   "execution_count": 42,
   "metadata": {},
   "outputs": [],
   "source": [
    "data = data[data['Mileage'] != '–']"
   ]
  },
  {
   "cell_type": "code",
   "execution_count": 43,
   "metadata": {},
   "outputs": [],
   "source": [
    "data = data.reset_index(drop=True)"
   ]
  },
  {
   "cell_type": "code",
   "execution_count": 44,
   "metadata": {},
   "outputs": [],
   "source": [
    "data['Mileage'] = data['Mileage'].astype(float)"
   ]
  },
  {
   "cell_type": "code",
   "execution_count": 45,
   "metadata": {
    "scrolled": true
   },
   "outputs": [],
   "source": [
    "data['Year'] = data['Year'].astype(float)"
   ]
  },
  {
   "cell_type": "markdown",
   "metadata": {},
   "source": [
    "**Simpify columns**\n",
    "- DriveTrain - AWD, FWD, RWD\n",
    "- FuelType - GAS, DIS, ELE\n",
    "- Engine - size and cylinders\n",
    "- Transmission - AUTO, MANUEL, ELE\n",
    "- MPG - City, Highway"
   ]
  },
  {
   "cell_type": "markdown",
   "metadata": {},
   "source": [
    "**Fixing DriveTrain**"
   ]
  },
  {
   "cell_type": "code",
   "execution_count": 46,
   "metadata": {},
   "outputs": [],
   "source": [
    "driveT = {' Front-wheel Drive ' : 'FWD',\n",
    "         ' All-wheel Drive ' : 'AWD',\n",
    "         ' Four-wheel Drive ' : 'FWD',\n",
    "         ' Rear-wheel Drive ' : 'RWD',\n",
    "         ' 4WD ' : 'FWD',\n",
    "         ' FWD ' : 'FWD',\n",
    "         ' AWD ' : 'AWD',\n",
    "         ' RWD ' : 'RWD'}"
   ]
  },
  {
   "cell_type": "code",
   "execution_count": 47,
   "metadata": {},
   "outputs": [
    {
     "data": {
      "text/plain": [
       "FWD    5281\n",
       "AWD    1801\n",
       "RWD    1392\n",
       "Name: DriveTrain, dtype: int64"
      ]
     },
     "execution_count": 47,
     "metadata": {},
     "output_type": "execute_result"
    }
   ],
   "source": [
    "data.replace({\"DriveTrain\": driveT})['DriveTrain'].value_counts()"
   ]
  },
  {
   "cell_type": "code",
   "execution_count": 48,
   "metadata": {},
   "outputs": [],
   "source": [
    "data.replace({'DriveTrain': driveT},inplace=True)"
   ]
  },
  {
   "cell_type": "markdown",
   "metadata": {},
   "source": [
    "**Using a type of number indicator to be able to find and then change to an average when mpg is a float**\n",
    "- some details of the car were saved to the wrong column\n",
    "- to fix this we can get the average mpg for a gas car, diesel car, etc. and fill in with correct values"
   ]
  },
  {
   "cell_type": "code",
   "execution_count": 50,
   "metadata": {},
   "outputs": [],
   "source": [
    "gasDict = {'Diesel ' : '456–654',\n",
    "          'Gasoline ' : '789–987',\n",
    "          'E85 Flex Fuel ' : '789–987',\n",
    "          'Hybrid ' : '789–987',\n",
    "          'Electric ' : '1234–4321'}"
   ]
  },
  {
   "cell_type": "code",
   "execution_count": 51,
   "metadata": {},
   "outputs": [],
   "source": [
    "data.replace({\"MPG\": gasDict}, inplace=True)"
   ]
  },
  {
   "cell_type": "code",
   "execution_count": 53,
   "metadata": {
    "scrolled": true
   },
   "outputs": [],
   "source": [
    "data['MPG']  = data['MPG'].apply(lambda x: float(x.split('–')[0]))"
   ]
  },
  {
   "cell_type": "code",
   "execution_count": 54,
   "metadata": {},
   "outputs": [],
   "source": [
    "data = data.drop(columns=['Model'])"
   ]
  },
  {
   "cell_type": "markdown",
   "metadata": {},
   "source": [
    "**Reducing the fuel type values to 4 values**"
   ]
  },
  {
   "cell_type": "code",
   "execution_count": 55,
   "metadata": {},
   "outputs": [
    {
     "data": {
      "text/plain": [
       "Index(['Gasoline ', 'Diesel ', 'E85 Flex Fuel ', 'Hybrid ', 'Electric ',\n",
       "       'Gasoline Fuel ', 'Gasoline/Mild Electric Hybrid '],\n",
       "      dtype='object')"
      ]
     },
     "execution_count": 55,
     "metadata": {},
     "output_type": "execute_result"
    }
   ],
   "source": [
    "data['FuelType'].value_counts().index"
   ]
  },
  {
   "cell_type": "code",
   "execution_count": 56,
   "metadata": {},
   "outputs": [],
   "source": [
    "fueldict = {'Gasoline ' : 'Gasoline',\n",
    "           'Diesel ' : 'Diesel',\n",
    "           'E85 Flex Fuel ': 'Gasoline',\n",
    "           'Hybrid ' : 'Hybird',\n",
    "           'Electric ' : 'Electric',\n",
    "           'Gasoline Fuel ' : 'Gasoline',\n",
    "           'Gasoline/Mild Electric Hybrid ' : 'Hybird'}"
   ]
  },
  {
   "cell_type": "code",
   "execution_count": 57,
   "metadata": {},
   "outputs": [],
   "source": [
    "data.replace({\"FuelType\": fueldict}, inplace=True)"
   ]
  },
  {
   "cell_type": "code",
   "execution_count": 58,
   "metadata": {},
   "outputs": [
    {
     "data": {
      "text/plain": [
       "Gasoline    8079\n",
       "Diesel       170\n",
       "Hybird       143\n",
       "Electric      82\n",
       "Name: FuelType, dtype: int64"
      ]
     },
     "execution_count": 58,
     "metadata": {},
     "output_type": "execute_result"
    }
   ],
   "source": [
    "data['FuelType'].value_counts()"
   ]
  },
  {
   "cell_type": "code",
   "execution_count": 60,
   "metadata": {
    "scrolled": true
   },
   "outputs": [],
   "source": [
    "data['isAuto'] = data['Transmission'].str.lower().str.contains(\"auto\")"
   ]
  },
  {
   "cell_type": "markdown",
   "metadata": {},
   "source": [
    "**Dropping transmission and fueltype columns**\n",
    "- each column is dominated by a single value, ~95%\n",
    "- model won't learn much from it\n",
    "- sklearn.feature_selection.VarianceThreshold\n",
    "     - sklearn has the same idea with the threshold being 90-95% to drop a column"
   ]
  },
  {
   "cell_type": "code",
   "execution_count": 61,
   "metadata": {},
   "outputs": [
    {
     "data": {
      "text/plain": [
       "True     0.941822\n",
       "False    0.058178\n",
       "Name: isAuto, dtype: float64"
      ]
     },
     "execution_count": 61,
     "metadata": {},
     "output_type": "execute_result"
    }
   ],
   "source": [
    "data['isAuto'].value_counts(normalize=True)"
   ]
  },
  {
   "cell_type": "code",
   "execution_count": 62,
   "metadata": {},
   "outputs": [
    {
     "data": {
      "text/plain": [
       "Gasoline    0.953387\n",
       "Diesel      0.020061\n",
       "Hybird      0.016875\n",
       "Electric    0.009677\n",
       "Name: FuelType, dtype: float64"
      ]
     },
     "execution_count": 62,
     "metadata": {},
     "output_type": "execute_result"
    }
   ],
   "source": [
    "data['FuelType'].value_counts(normalize=True)"
   ]
  },
  {
   "cell_type": "code",
   "execution_count": 63,
   "metadata": {
    "scrolled": true
   },
   "outputs": [],
   "source": [
    "data = data.drop(columns=['FuelType', 'Transmission', 'isAuto'])"
   ]
  },
  {
   "cell_type": "markdown",
   "metadata": {},
   "source": [
    "**Fix EngineSize and Cylinders**"
   ]
  },
  {
   "cell_type": "code",
   "execution_count": 64,
   "metadata": {},
   "outputs": [],
   "source": [
    "data['EngineSize'] = data['Engine'].apply(lambda x: x.split()[0]) #getting the engine size in liters"
   ]
  },
  {
   "cell_type": "code",
   "execution_count": 65,
   "metadata": {},
   "outputs": [],
   "source": [
    "cyl = []"
   ]
  },
  {
   "cell_type": "code",
   "execution_count": 66,
   "metadata": {},
   "outputs": [],
   "source": [
    "for x in data['Engine']: #if it has a value get it, if not fill with 'none'\n",
    "    try:\n",
    "        cyl.append(x.split()[1])\n",
    "    except:\n",
    "        cyl.append('none')"
   ]
  },
  {
   "cell_type": "code",
   "execution_count": 67,
   "metadata": {},
   "outputs": [],
   "source": [
    "data['Cylinders'] = cyl"
   ]
  },
  {
   "cell_type": "code",
   "execution_count": 68,
   "metadata": {},
   "outputs": [],
   "source": [
    "data = data.replace({'Cylinders':{'I4':4, #look at the new Cylinder columns\n",
    "                       'V6':6,            #there is some incorrect data\n",
    "                       'V8':8,            #depending on the incorrect data(size of engine in liters) replace\n",
    "                      'I6':6,             #with the common cylnder size\n",
    "                      'H4':4,\n",
    "                      'I3': 3,\n",
    "                       'H6': 6,\n",
    "                      '6': 6,\n",
    "                      '3.0L': 6,\n",
    "                      'V12':12,\n",
    "                      '3.7L': 6,\n",
    "                      'I5': 5}})"
   ]
  },
  {
   "cell_type": "markdown",
   "metadata": {},
   "source": [
    "**Create an indicator column to be able to cross-reference later**"
   ]
  },
  {
   "cell_type": "code",
   "execution_count": 69,
   "metadata": {},
   "outputs": [],
   "source": [
    "data['hasCyl'] = data['Cylinders'].str.isdigit() #if it has some sort of integer then it is true\n",
    "                                                  #it does have a correct cylinder number, else its false"
   ]
  },
  {
   "cell_type": "code",
   "execution_count": 70,
   "metadata": {},
   "outputs": [],
   "source": [
    "data['hasSize'] = data['EngineSize'].str.contains('L') #if the string contains 'L' then it has the correct value (3.5L)\n",
    "                                                       # if it doesn't it is false"
   ]
  },
  {
   "cell_type": "code",
   "execution_count": 71,
   "metadata": {},
   "outputs": [],
   "source": [
    "data = data.drop(columns='Engine')"
   ]
  },
  {
   "cell_type": "code",
   "execution_count": 72,
   "metadata": {},
   "outputs": [
    {
     "data": {
      "text/plain": [
       "Index(['2.0L', '3.5L', '2.5L', '3.6L', '3.0L', '2.4L', '1.5L', '5.3L', '5.7L',\n",
       "       '4', '4.0L', 'V6', '1.8L', '6.2L', '1.6L', '2.7L', '5.0L', '3.8L', '8',\n",
       "       'Electric', '2.3L', '1.4L', '4.4L', '3.3L', '5.6L', 'I4', '6.7L',\n",
       "       'Regular', '4.6L', '6.6L', 'Intercooled', '6.4L', '3.7L', 'Gas', '6.0L',\n",
       "       'V8', '4.7L', '3.2L', '2.9L', 'Engine:', 'Straight', 'Turbocharged',\n",
       "       '1.3L', '5.5L', '1.0L', '4.3L', 'Twin', '6', 'Premium', '1.2L', '3.4L',\n",
       "       '4.8L', '5.4L', '395.0HP', '335.0HP', '5', 'Gas/Ethanol', '275.0HP',\n",
       "       '290.0HP', '400.0HP', '4.2L', '403.0HP', '280.0HP', '445.0HP',\n",
       "       '345.0HP', '3', '2.2L', '175.0HP', '5.2L', '3.9L', '180.0HP', '190.0HP',\n",
       "       '333.0HP', '12', 'VORTEC', 'Ecoboost', '380.0HP', '210.0HP', '250.0HP',\n",
       "       '185.0HP', '235.0HP', 'Engine:1.8L', '248.0HP', '170.0HP', '181.0HP',\n",
       "       '7.4L', '2.1L', '640.0HP', '7.0L', '503.0HP', '6.8L', '10', '178.0HP'],\n",
       "      dtype='object')"
      ]
     },
     "execution_count": 72,
     "metadata": {},
     "output_type": "execute_result"
    }
   ],
   "source": [
    "data['EngineSize'].value_counts().index"
   ]
  },
  {
   "cell_type": "code",
   "execution_count": 73,
   "metadata": {
    "scrolled": false
   },
   "outputs": [
    {
     "data": {
      "text/html": [
       "<div>\n",
       "<style scoped>\n",
       "    .dataframe tbody tr th:only-of-type {\n",
       "        vertical-align: middle;\n",
       "    }\n",
       "\n",
       "    .dataframe tbody tr th {\n",
       "        vertical-align: top;\n",
       "    }\n",
       "\n",
       "    .dataframe thead th {\n",
       "        text-align: right;\n",
       "    }\n",
       "</style>\n",
       "<table border=\"1\" class=\"dataframe\">\n",
       "  <thead>\n",
       "    <tr style=\"text-align: right;\">\n",
       "      <th></th>\n",
       "      <th>DriveTrain</th>\n",
       "      <th>MPG</th>\n",
       "      <th>Mileage</th>\n",
       "      <th>SalePrice</th>\n",
       "      <th>PriceCategory</th>\n",
       "      <th>CleanReviews</th>\n",
       "      <th>Year</th>\n",
       "      <th>Make</th>\n",
       "      <th>Car_Model</th>\n",
       "      <th>EngineSize</th>\n",
       "      <th>Cylinders</th>\n",
       "      <th>hasCyl</th>\n",
       "      <th>hasSize</th>\n",
       "    </tr>\n",
       "  </thead>\n",
       "  <tbody>\n",
       "    <tr>\n",
       "      <th>15</th>\n",
       "      <td>FWD</td>\n",
       "      <td>29.0</td>\n",
       "      <td>105026.0</td>\n",
       "      <td>14433.0</td>\n",
       "      <td>Cheap</td>\n",
       "      <td>Beautiful, comfortable, responsive... my only ...</td>\n",
       "      <td>2020.0</td>\n",
       "      <td>Lexus</td>\n",
       "      <td>ES</td>\n",
       "      <td>Regular</td>\n",
       "      <td>Unleaded</td>\n",
       "      <td>False</td>\n",
       "      <td>False</td>\n",
       "    </tr>\n",
       "    <tr>\n",
       "      <th>21</th>\n",
       "      <td>FWD</td>\n",
       "      <td>20.0</td>\n",
       "      <td>28716.0</td>\n",
       "      <td>47590.0</td>\n",
       "      <td>Expensive</td>\n",
       "      <td>The X3 m40i is the best family vehicle. Got a ...</td>\n",
       "      <td>2019.0</td>\n",
       "      <td>BMW</td>\n",
       "      <td>X3</td>\n",
       "      <td>V6</td>\n",
       "      <td>Cylinder</td>\n",
       "      <td>False</td>\n",
       "      <td>False</td>\n",
       "    </tr>\n",
       "    <tr>\n",
       "      <th>36</th>\n",
       "      <td>RWD</td>\n",
       "      <td>25.0</td>\n",
       "      <td>98467.0</td>\n",
       "      <td>24786.0</td>\n",
       "      <td>Cheap</td>\n",
       "      <td>I got my crew cab 2019 F250 XLT with the 6.2L ...</td>\n",
       "      <td>2019.0</td>\n",
       "      <td>Ford</td>\n",
       "      <td>F-250</td>\n",
       "      <td>Intercooled</td>\n",
       "      <td>Turbo</td>\n",
       "      <td>False</td>\n",
       "      <td>False</td>\n",
       "    </tr>\n",
       "    <tr>\n",
       "      <th>46</th>\n",
       "      <td>AWD</td>\n",
       "      <td>27.0</td>\n",
       "      <td>32708.0</td>\n",
       "      <td>31998.0</td>\n",
       "      <td>Average</td>\n",
       "      <td>61000 miles 2016 Sierra 1500. 2,800 repair for...</td>\n",
       "      <td>2021.0</td>\n",
       "      <td>GMC</td>\n",
       "      <td>Sierra</td>\n",
       "      <td>4</td>\n",
       "      <td>Cylinder</td>\n",
       "      <td>False</td>\n",
       "      <td>False</td>\n",
       "    </tr>\n",
       "    <tr>\n",
       "      <th>58</th>\n",
       "      <td>FWD</td>\n",
       "      <td>18.0</td>\n",
       "      <td>19855.0</td>\n",
       "      <td>104995.0</td>\n",
       "      <td>Expensive</td>\n",
       "      <td>No surprise .... good performance.   It is a M...</td>\n",
       "      <td>2014.0</td>\n",
       "      <td>Mercedes-Benz</td>\n",
       "      <td>CLA-Class</td>\n",
       "      <td>V6</td>\n",
       "      <td>none</td>\n",
       "      <td>False</td>\n",
       "      <td>False</td>\n",
       "    </tr>\n",
       "  </tbody>\n",
       "</table>\n",
       "</div>"
      ],
      "text/plain": [
       "   DriveTrain   MPG   Mileage  SalePrice PriceCategory  \\\n",
       "15        FWD  29.0  105026.0    14433.0         Cheap   \n",
       "21        FWD  20.0   28716.0    47590.0     Expensive   \n",
       "36        RWD  25.0   98467.0    24786.0         Cheap   \n",
       "46        AWD  27.0   32708.0    31998.0       Average   \n",
       "58        FWD  18.0   19855.0   104995.0     Expensive   \n",
       "\n",
       "                                         CleanReviews    Year           Make  \\\n",
       "15  Beautiful, comfortable, responsive... my only ...  2020.0          Lexus   \n",
       "21  The X3 m40i is the best family vehicle. Got a ...  2019.0            BMW   \n",
       "36  I got my crew cab 2019 F250 XLT with the 6.2L ...  2019.0           Ford   \n",
       "46  61000 miles 2016 Sierra 1500. 2,800 repair for...  2021.0            GMC   \n",
       "58  No surprise .... good performance.   It is a M...  2014.0  Mercedes-Benz   \n",
       "\n",
       "    Car_Model   EngineSize Cylinders hasCyl  hasSize  \n",
       "15         ES      Regular  Unleaded  False    False  \n",
       "21         X3           V6  Cylinder  False    False  \n",
       "36      F-250  Intercooled     Turbo  False    False  \n",
       "46     Sierra            4  Cylinder  False    False  \n",
       "58  CLA-Class           V6      none  False    False  "
      ]
     },
     "execution_count": 73,
     "metadata": {},
     "output_type": "execute_result"
    }
   ],
   "source": [
    "data[(data['hasCyl'].isna() == False) & (data['hasSize'] == False)].head()"
   ]
  },
  {
   "cell_type": "markdown",
   "metadata": {},
   "source": [
    "**Creating a newSize column**"
   ]
  },
  {
   "cell_type": "code",
   "execution_count": 74,
   "metadata": {},
   "outputs": [],
   "source": [
    "newSize = []"
   ]
  },
  {
   "cell_type": "code",
   "execution_count": 75,
   "metadata": {},
   "outputs": [],
   "source": [
    "for i in range(0,len(data)): #looping through the index\n",
    "    \n",
    "    if data['hasCyl'][i] == False and data['hasSize'][i]==False: #check when indicator cols are false\n",
    "        if 'L' in data['Cylinders'][i]: #if it has L use it, correct value\n",
    "            newSize.append(data['Cylinders'][i])\n",
    "        elif '6' in data['EngineSize'][i]: #if it has 6 use 3.5L, most common for 6 cylinders\n",
    "            newSize.append('3.5L')\n",
    "        elif '4' in data['EngineSize'][i]: #if it has 4 use 2.5L, most common for 4 cylinders\n",
    "            newSize.append('2.5L')\n",
    "        else:\n",
    "            newSize.append('unknown') #we just don't know\n",
    "\n",
    "    elif data['hasSize'][i] == True or math.isnan(data['hasCyl'][i]) == True:\n",
    "        newSize.append(data['EngineSize'][i]) #if it already has a valid value, use it\n",
    "    else:\n",
    "        newSize.append(data['EngineSize'][i]) #if it already has a valid value, use it\n",
    "    "
   ]
  },
  {
   "cell_type": "code",
   "execution_count": 76,
   "metadata": {},
   "outputs": [],
   "source": [
    "lst = []\n",
    "for x in newSize:\n",
    "    if 'L' not in x or 'Engine' in x: # if it doesnt have L or has Engine, we dont know\n",
    "        x = 'unknown'\n",
    "        lst.append(x)\n",
    "    else: #it does have an L so we use it\n",
    "        x = x\n",
    "        lst.append(x)"
   ]
  },
  {
   "cell_type": "code",
   "execution_count": 77,
   "metadata": {},
   "outputs": [],
   "source": [
    "data['newSize'] = lst"
   ]
  },
  {
   "cell_type": "markdown",
   "metadata": {},
   "source": [
    "**Creating a newCyl coloumn**"
   ]
  },
  {
   "cell_type": "code",
   "execution_count": 79,
   "metadata": {},
   "outputs": [],
   "source": [
    "newCyl = []"
   ]
  },
  {
   "cell_type": "code",
   "execution_count": 80,
   "metadata": {
    "scrolled": true
   },
   "outputs": [
    {
     "data": {
      "text/html": [
       "<div>\n",
       "<style scoped>\n",
       "    .dataframe tbody tr th:only-of-type {\n",
       "        vertical-align: middle;\n",
       "    }\n",
       "\n",
       "    .dataframe tbody tr th {\n",
       "        vertical-align: top;\n",
       "    }\n",
       "\n",
       "    .dataframe thead th {\n",
       "        text-align: right;\n",
       "    }\n",
       "</style>\n",
       "<table border=\"1\" class=\"dataframe\">\n",
       "  <thead>\n",
       "    <tr style=\"text-align: right;\">\n",
       "      <th></th>\n",
       "      <th>DriveTrain</th>\n",
       "      <th>MPG</th>\n",
       "      <th>Mileage</th>\n",
       "      <th>SalePrice</th>\n",
       "      <th>PriceCategory</th>\n",
       "      <th>CleanReviews</th>\n",
       "      <th>Year</th>\n",
       "      <th>Make</th>\n",
       "      <th>Car_Model</th>\n",
       "      <th>EngineSize</th>\n",
       "      <th>Cylinders</th>\n",
       "      <th>hasCyl</th>\n",
       "      <th>hasSize</th>\n",
       "      <th>newSize</th>\n",
       "    </tr>\n",
       "  </thead>\n",
       "  <tbody>\n",
       "    <tr>\n",
       "      <th>15</th>\n",
       "      <td>FWD</td>\n",
       "      <td>29.0</td>\n",
       "      <td>105026.0</td>\n",
       "      <td>14433.0</td>\n",
       "      <td>Cheap</td>\n",
       "      <td>Beautiful, comfortable, responsive... my only ...</td>\n",
       "      <td>2020.0</td>\n",
       "      <td>Lexus</td>\n",
       "      <td>ES</td>\n",
       "      <td>Regular</td>\n",
       "      <td>Unleaded</td>\n",
       "      <td>False</td>\n",
       "      <td>False</td>\n",
       "      <td>unknown</td>\n",
       "    </tr>\n",
       "    <tr>\n",
       "      <th>21</th>\n",
       "      <td>FWD</td>\n",
       "      <td>20.0</td>\n",
       "      <td>28716.0</td>\n",
       "      <td>47590.0</td>\n",
       "      <td>Expensive</td>\n",
       "      <td>The X3 m40i is the best family vehicle. Got a ...</td>\n",
       "      <td>2019.0</td>\n",
       "      <td>BMW</td>\n",
       "      <td>X3</td>\n",
       "      <td>V6</td>\n",
       "      <td>Cylinder</td>\n",
       "      <td>False</td>\n",
       "      <td>False</td>\n",
       "      <td>3.5L</td>\n",
       "    </tr>\n",
       "    <tr>\n",
       "      <th>36</th>\n",
       "      <td>RWD</td>\n",
       "      <td>25.0</td>\n",
       "      <td>98467.0</td>\n",
       "      <td>24786.0</td>\n",
       "      <td>Cheap</td>\n",
       "      <td>I got my crew cab 2019 F250 XLT with the 6.2L ...</td>\n",
       "      <td>2019.0</td>\n",
       "      <td>Ford</td>\n",
       "      <td>F-250</td>\n",
       "      <td>Intercooled</td>\n",
       "      <td>Turbo</td>\n",
       "      <td>False</td>\n",
       "      <td>False</td>\n",
       "      <td>unknown</td>\n",
       "    </tr>\n",
       "    <tr>\n",
       "      <th>46</th>\n",
       "      <td>AWD</td>\n",
       "      <td>27.0</td>\n",
       "      <td>32708.0</td>\n",
       "      <td>31998.0</td>\n",
       "      <td>Average</td>\n",
       "      <td>61000 miles 2016 Sierra 1500. 2,800 repair for...</td>\n",
       "      <td>2021.0</td>\n",
       "      <td>GMC</td>\n",
       "      <td>Sierra</td>\n",
       "      <td>4</td>\n",
       "      <td>Cylinder</td>\n",
       "      <td>False</td>\n",
       "      <td>False</td>\n",
       "      <td>2.5L</td>\n",
       "    </tr>\n",
       "    <tr>\n",
       "      <th>58</th>\n",
       "      <td>FWD</td>\n",
       "      <td>18.0</td>\n",
       "      <td>19855.0</td>\n",
       "      <td>104995.0</td>\n",
       "      <td>Expensive</td>\n",
       "      <td>No surprise .... good performance.   It is a M...</td>\n",
       "      <td>2014.0</td>\n",
       "      <td>Mercedes-Benz</td>\n",
       "      <td>CLA-Class</td>\n",
       "      <td>V6</td>\n",
       "      <td>none</td>\n",
       "      <td>False</td>\n",
       "      <td>False</td>\n",
       "      <td>3.5L</td>\n",
       "    </tr>\n",
       "  </tbody>\n",
       "</table>\n",
       "</div>"
      ],
      "text/plain": [
       "   DriveTrain   MPG   Mileage  SalePrice PriceCategory  \\\n",
       "15        FWD  29.0  105026.0    14433.0         Cheap   \n",
       "21        FWD  20.0   28716.0    47590.0     Expensive   \n",
       "36        RWD  25.0   98467.0    24786.0         Cheap   \n",
       "46        AWD  27.0   32708.0    31998.0       Average   \n",
       "58        FWD  18.0   19855.0   104995.0     Expensive   \n",
       "\n",
       "                                         CleanReviews    Year           Make  \\\n",
       "15  Beautiful, comfortable, responsive... my only ...  2020.0          Lexus   \n",
       "21  The X3 m40i is the best family vehicle. Got a ...  2019.0            BMW   \n",
       "36  I got my crew cab 2019 F250 XLT with the 6.2L ...  2019.0           Ford   \n",
       "46  61000 miles 2016 Sierra 1500. 2,800 repair for...  2021.0            GMC   \n",
       "58  No surprise .... good performance.   It is a M...  2014.0  Mercedes-Benz   \n",
       "\n",
       "    Car_Model   EngineSize Cylinders hasCyl  hasSize  newSize  \n",
       "15         ES      Regular  Unleaded  False    False  unknown  \n",
       "21         X3           V6  Cylinder  False    False     3.5L  \n",
       "36      F-250  Intercooled     Turbo  False    False  unknown  \n",
       "46     Sierra            4  Cylinder  False    False     2.5L  \n",
       "58  CLA-Class           V6      none  False    False     3.5L  "
      ]
     },
     "execution_count": 80,
     "metadata": {},
     "output_type": "execute_result"
    }
   ],
   "source": [
    "data[data['hasCyl'].isna() == False].head()"
   ]
  },
  {
   "cell_type": "code",
   "execution_count": 81,
   "metadata": {},
   "outputs": [],
   "source": [
    "for i in range(0,len(data)): #looping through index\n",
    "    \n",
    "    if data['hasCyl'][i] == False: #checking our indicator column\n",
    "        if '2' in data['newSize'][i]: #if it has a 2 (2.5L, 2.8L, etc.) then its most likely a 4 cylinder\n",
    "            newCyl.append(4)\n",
    "        elif '3' in data['newSize'][i]: #if it has a 3 then its most likely a 6 cylinder\n",
    "            newCyl.append(6)\n",
    "        elif '4' in data['newSize'][i]: #if it has a 4 then its most likely a 8 cylinder\n",
    "            newCyl.append(8)\n",
    "        else:\n",
    "            newCyl.append('unknown') #we just dont know\n",
    "    else:\n",
    "        newCyl.append(data['Cylinders'][i]) #has correct value "
   ]
  },
  {
   "cell_type": "code",
   "execution_count": 82,
   "metadata": {},
   "outputs": [
    {
     "data": {
      "text/plain": [
       "True"
      ]
     },
     "execution_count": 82,
     "metadata": {},
     "output_type": "execute_result"
    }
   ],
   "source": [
    "len(newCyl) == len(data) #checking if lengths are the same, if they are then we can make a new column"
   ]
  },
  {
   "cell_type": "code",
   "execution_count": 83,
   "metadata": {},
   "outputs": [],
   "source": [
    "data['newCyl'] = newCyl"
   ]
  },
  {
   "cell_type": "code",
   "execution_count": 85,
   "metadata": {},
   "outputs": [],
   "source": [
    "data = data.drop(columns=['EngineSize', 'Cylinders', 'hasCyl', 'hasSize', 'Car_Model'])"
   ]
  },
  {
   "cell_type": "code",
   "execution_count": 86,
   "metadata": {
    "scrolled": true
   },
   "outputs": [
    {
     "data": {
      "text/html": [
       "<div>\n",
       "<style scoped>\n",
       "    .dataframe tbody tr th:only-of-type {\n",
       "        vertical-align: middle;\n",
       "    }\n",
       "\n",
       "    .dataframe tbody tr th {\n",
       "        vertical-align: top;\n",
       "    }\n",
       "\n",
       "    .dataframe thead th {\n",
       "        text-align: right;\n",
       "    }\n",
       "</style>\n",
       "<table border=\"1\" class=\"dataframe\">\n",
       "  <thead>\n",
       "    <tr style=\"text-align: right;\">\n",
       "      <th></th>\n",
       "      <th>DriveTrain</th>\n",
       "      <th>MPG</th>\n",
       "      <th>Mileage</th>\n",
       "      <th>SalePrice</th>\n",
       "      <th>PriceCategory</th>\n",
       "      <th>CleanReviews</th>\n",
       "      <th>Year</th>\n",
       "      <th>Make</th>\n",
       "      <th>newSize</th>\n",
       "      <th>newCyl</th>\n",
       "    </tr>\n",
       "  </thead>\n",
       "  <tbody>\n",
       "    <tr>\n",
       "      <th>0</th>\n",
       "      <td>FWD</td>\n",
       "      <td>27.0</td>\n",
       "      <td>53200.0</td>\n",
       "      <td>29000.0</td>\n",
       "      <td>Average</td>\n",
       "      <td>Virtually nothing has gone wrong with my 2020 ...</td>\n",
       "      <td>2020.0</td>\n",
       "      <td>Toyota</td>\n",
       "      <td>2.5L</td>\n",
       "      <td>4</td>\n",
       "    </tr>\n",
       "    <tr>\n",
       "      <th>1</th>\n",
       "      <td>RWD</td>\n",
       "      <td>18.0</td>\n",
       "      <td>22690.0</td>\n",
       "      <td>55975.0</td>\n",
       "      <td>Expensive</td>\n",
       "      <td>Stranded today. Could not get to work. Somethi...</td>\n",
       "      <td>2016.0</td>\n",
       "      <td>Volkswagen</td>\n",
       "      <td>3.0L</td>\n",
       "      <td>6</td>\n",
       "    </tr>\n",
       "    <tr>\n",
       "      <th>2</th>\n",
       "      <td>FWD</td>\n",
       "      <td>18.0</td>\n",
       "      <td>17854.0</td>\n",
       "      <td>38900.0</td>\n",
       "      <td>Average</td>\n",
       "      <td>Excellent road car, quiet, stable, comfortable...</td>\n",
       "      <td>2020.0</td>\n",
       "      <td>Lincoln</td>\n",
       "      <td>3.5L</td>\n",
       "      <td>6</td>\n",
       "    </tr>\n",
       "    <tr>\n",
       "      <th>3</th>\n",
       "      <td>FWD</td>\n",
       "      <td>28.0</td>\n",
       "      <td>60907.0</td>\n",
       "      <td>22125.0</td>\n",
       "      <td>Cheap</td>\n",
       "      <td>PURCHASED FROM NYE TOYOTA, MY FIRST TACOMA. LO...</td>\n",
       "      <td>2021.0</td>\n",
       "      <td>Toyota</td>\n",
       "      <td>2.5L</td>\n",
       "      <td>4</td>\n",
       "    </tr>\n",
       "    <tr>\n",
       "      <th>4</th>\n",
       "      <td>FWD</td>\n",
       "      <td>24.0</td>\n",
       "      <td>41614.0</td>\n",
       "      <td>23946.0</td>\n",
       "      <td>Cheap</td>\n",
       "      <td>I’ve own a 2020 Altima (under 30k miles) for a...</td>\n",
       "      <td>2020.0</td>\n",
       "      <td>Nissan</td>\n",
       "      <td>2.4L</td>\n",
       "      <td>4</td>\n",
       "    </tr>\n",
       "  </tbody>\n",
       "</table>\n",
       "</div>"
      ],
      "text/plain": [
       "  DriveTrain   MPG  Mileage  SalePrice PriceCategory  \\\n",
       "0        FWD  27.0  53200.0    29000.0       Average   \n",
       "1        RWD  18.0  22690.0    55975.0     Expensive   \n",
       "2        FWD  18.0  17854.0    38900.0       Average   \n",
       "3        FWD  28.0  60907.0    22125.0         Cheap   \n",
       "4        FWD  24.0  41614.0    23946.0         Cheap   \n",
       "\n",
       "                                        CleanReviews    Year        Make  \\\n",
       "0  Virtually nothing has gone wrong with my 2020 ...  2020.0      Toyota   \n",
       "1  Stranded today. Could not get to work. Somethi...  2016.0  Volkswagen   \n",
       "2  Excellent road car, quiet, stable, comfortable...  2020.0     Lincoln   \n",
       "3  PURCHASED FROM NYE TOYOTA, MY FIRST TACOMA. LO...  2021.0      Toyota   \n",
       "4  I’ve own a 2020 Altima (under 30k miles) for a...  2020.0      Nissan   \n",
       "\n",
       "  newSize newCyl  \n",
       "0    2.5L      4  \n",
       "1    3.0L      6  \n",
       "2    3.5L      6  \n",
       "3    2.5L      4  \n",
       "4    2.4L      4  "
      ]
     },
     "execution_count": 86,
     "metadata": {},
     "output_type": "execute_result"
    }
   ],
   "source": [
    "data.head()"
   ]
  },
  {
   "cell_type": "markdown",
   "metadata": {},
   "source": [
    "**Getting only the top25 makes, the rest will the 'Other'**"
   ]
  },
  {
   "cell_type": "code",
   "execution_count": 87,
   "metadata": {
    "scrolled": false
   },
   "outputs": [],
   "source": [
    "top25 = data['Make'].value_counts()[:25].index"
   ]
  },
  {
   "cell_type": "code",
   "execution_count": 88,
   "metadata": {},
   "outputs": [
    {
     "data": {
      "text/plain": [
       "21"
      ]
     },
     "execution_count": 88,
     "metadata": {},
     "output_type": "execute_result"
    }
   ],
   "source": [
    "len(data['Make'].value_counts()[25:])"
   ]
  },
  {
   "cell_type": "code",
   "execution_count": 89,
   "metadata": {},
   "outputs": [],
   "source": [
    "makes = []\n",
    "for make in data['Make']: #if car does not have the top25 make fill with 'other'\n",
    "    if make not in top25:\n",
    "        make = 'Other'\n",
    "        makes.append(make)\n",
    "    else:                   #else use the make\n",
    "        makes.append(make)\n",
    "        "
   ]
  },
  {
   "cell_type": "code",
   "execution_count": 90,
   "metadata": {},
   "outputs": [],
   "source": [
    "data['newMake'] = makes"
   ]
  },
  {
   "cell_type": "code",
   "execution_count": 91,
   "metadata": {
    "scrolled": true
   },
   "outputs": [
    {
     "data": {
      "text/html": [
       "<div>\n",
       "<style scoped>\n",
       "    .dataframe tbody tr th:only-of-type {\n",
       "        vertical-align: middle;\n",
       "    }\n",
       "\n",
       "    .dataframe tbody tr th {\n",
       "        vertical-align: top;\n",
       "    }\n",
       "\n",
       "    .dataframe thead th {\n",
       "        text-align: right;\n",
       "    }\n",
       "</style>\n",
       "<table border=\"1\" class=\"dataframe\">\n",
       "  <thead>\n",
       "    <tr style=\"text-align: right;\">\n",
       "      <th></th>\n",
       "      <th>DriveTrain</th>\n",
       "      <th>MPG</th>\n",
       "      <th>Mileage</th>\n",
       "      <th>SalePrice</th>\n",
       "      <th>PriceCategory</th>\n",
       "      <th>CleanReviews</th>\n",
       "      <th>Year</th>\n",
       "      <th>Make</th>\n",
       "      <th>newSize</th>\n",
       "      <th>newCyl</th>\n",
       "      <th>newMake</th>\n",
       "    </tr>\n",
       "  </thead>\n",
       "  <tbody>\n",
       "    <tr>\n",
       "      <th>0</th>\n",
       "      <td>FWD</td>\n",
       "      <td>27.0</td>\n",
       "      <td>53200.0</td>\n",
       "      <td>29000.0</td>\n",
       "      <td>Average</td>\n",
       "      <td>Virtually nothing has gone wrong with my 2020 ...</td>\n",
       "      <td>2020.0</td>\n",
       "      <td>Toyota</td>\n",
       "      <td>2.5L</td>\n",
       "      <td>4</td>\n",
       "      <td>Toyota</td>\n",
       "    </tr>\n",
       "    <tr>\n",
       "      <th>1</th>\n",
       "      <td>RWD</td>\n",
       "      <td>18.0</td>\n",
       "      <td>22690.0</td>\n",
       "      <td>55975.0</td>\n",
       "      <td>Expensive</td>\n",
       "      <td>Stranded today. Could not get to work. Somethi...</td>\n",
       "      <td>2016.0</td>\n",
       "      <td>Volkswagen</td>\n",
       "      <td>3.0L</td>\n",
       "      <td>6</td>\n",
       "      <td>Volkswagen</td>\n",
       "    </tr>\n",
       "    <tr>\n",
       "      <th>2</th>\n",
       "      <td>FWD</td>\n",
       "      <td>18.0</td>\n",
       "      <td>17854.0</td>\n",
       "      <td>38900.0</td>\n",
       "      <td>Average</td>\n",
       "      <td>Excellent road car, quiet, stable, comfortable...</td>\n",
       "      <td>2020.0</td>\n",
       "      <td>Lincoln</td>\n",
       "      <td>3.5L</td>\n",
       "      <td>6</td>\n",
       "      <td>Other</td>\n",
       "    </tr>\n",
       "  </tbody>\n",
       "</table>\n",
       "</div>"
      ],
      "text/plain": [
       "  DriveTrain   MPG  Mileage  SalePrice PriceCategory  \\\n",
       "0        FWD  27.0  53200.0    29000.0       Average   \n",
       "1        RWD  18.0  22690.0    55975.0     Expensive   \n",
       "2        FWD  18.0  17854.0    38900.0       Average   \n",
       "\n",
       "                                        CleanReviews    Year        Make  \\\n",
       "0  Virtually nothing has gone wrong with my 2020 ...  2020.0      Toyota   \n",
       "1  Stranded today. Could not get to work. Somethi...  2016.0  Volkswagen   \n",
       "2  Excellent road car, quiet, stable, comfortable...  2020.0     Lincoln   \n",
       "\n",
       "  newSize newCyl     newMake  \n",
       "0    2.5L      4      Toyota  \n",
       "1    3.0L      6  Volkswagen  \n",
       "2    3.5L      6       Other  "
      ]
     },
     "execution_count": 91,
     "metadata": {},
     "output_type": "execute_result"
    }
   ],
   "source": [
    "data.head(3)"
   ]
  },
  {
   "cell_type": "code",
   "execution_count": 92,
   "metadata": {
    "scrolled": true
   },
   "outputs": [
    {
     "data": {
      "text/plain": [
       "Toyota           976\n",
       "Ford             843\n",
       "Chevrolet        686\n",
       "Honda            615\n",
       "Nissan           526\n",
       "BMW              502\n",
       "Mercedes-Benz    405\n",
       "Kia              363\n",
       "Other            360\n",
       "Jeep             352\n",
       "Hyundai          308\n",
       "Lexus            297\n",
       "GMC              253\n",
       "Dodge            234\n",
       "Audi             219\n",
       "RAM              202\n",
       "Volkswagen       195\n",
       "INFINITI         175\n",
       "Acura            158\n",
       "Land             153\n",
       "Volvo            138\n",
       "Cadillac         113\n",
       "Mazda            112\n",
       "Subaru           107\n",
       "Porsche          104\n",
       "Tesla             78\n",
       "Name: newMake, dtype: int64"
      ]
     },
     "execution_count": 92,
     "metadata": {},
     "output_type": "execute_result"
    }
   ],
   "source": [
    "data['newMake'].value_counts()"
   ]
  },
  {
   "cell_type": "markdown",
   "metadata": {},
   "source": [
    "**Mode value for engine size**"
   ]
  },
  {
   "cell_type": "code",
   "execution_count": 93,
   "metadata": {},
   "outputs": [],
   "source": [
    "modeSize = '2.0L'"
   ]
  },
  {
   "cell_type": "code",
   "execution_count": 94,
   "metadata": {
    "scrolled": true
   },
   "outputs": [
    {
     "data": {
      "text/plain": [
       "2.0L       1596\n",
       "3.5L       1297\n",
       "2.5L       1105\n",
       "3.6L        605\n",
       "3.0L        466\n",
       "unknown     382\n",
       "2.4L        375\n",
       "1.5L        368\n",
       "5.3L        264\n",
       "5.7L        248\n",
       "4.0L        193\n",
       "1.8L        173\n",
       "6.2L        171\n",
       "1.6L        139\n",
       "5.0L        126\n",
       "2.7L        126\n",
       "3.8L        111\n",
       "2.3L         81\n",
       "1.4L         76\n",
       "4.4L         71\n",
       "5.6L         69\n",
       "3.3L         68\n",
       "6.7L         65\n",
       "4.6L         53\n",
       "6.6L         48\n",
       "6.4L         35\n",
       "3.7L         31\n",
       "6.0L         21\n",
       "4.7L         18\n",
       "3.2L         15\n",
       "2.9L         13\n",
       "5.5L         12\n",
       "1.3L         11\n",
       "1.0L         10\n",
       "4.3L          8\n",
       "1.2L          5\n",
       "3.4L          4\n",
       "4.8L          3\n",
       "5.4L          3\n",
       "4.2L          2\n",
       "2.2L          1\n",
       "6.8L          1\n",
       "3.9L          1\n",
       "5.2L          1\n",
       "7.0L          1\n",
       "7.4L          1\n",
       "2.1L          1\n",
       "Name: newSize, dtype: int64"
      ]
     },
     "execution_count": 94,
     "metadata": {},
     "output_type": "execute_result"
    }
   ],
   "source": [
    "data['newSize'].value_counts()"
   ]
  },
  {
   "cell_type": "markdown",
   "metadata": {},
   "source": [
    "**Mode for most common cylinder**"
   ]
  },
  {
   "cell_type": "code",
   "execution_count": 95,
   "metadata": {},
   "outputs": [],
   "source": [
    "modeCyl = 4"
   ]
  },
  {
   "cell_type": "code",
   "execution_count": 96,
   "metadata": {
    "scrolled": true
   },
   "outputs": [
    {
     "data": {
      "text/plain": [
       "4          3908\n",
       "6          2910\n",
       "8          1255\n",
       "unknown     336\n",
       "3            54\n",
       "12            7\n",
       "5             4\n",
       "Name: newCyl, dtype: int64"
      ]
     },
     "execution_count": 96,
     "metadata": {},
     "output_type": "execute_result"
    }
   ],
   "source": [
    "data['newCyl'].value_counts()"
   ]
  },
  {
   "cell_type": "markdown",
   "metadata": {},
   "source": [
    "**These are the dummy mpg values used to fill in with correct mpg (the mode mpg)**\n",
    "\n",
    "\n",
    "{'Diesel ' : '456–654',\n",
    "          'Gasoline ' : '789–987',\n",
    "          'E85 Flex Fuel ' : '789–987',\n",
    "          'Hybrid ' : '789–987',\n",
    "          'Electric ' : '1234–4321'}"
   ]
  },
  {
   "cell_type": "markdown",
   "metadata": {},
   "source": [
    "- 1234 - 23 mpg looking at reviews seem like avg cars so avg mpg\n",
    "- 456 - 18 mpg most are 6 or 9 cylinders\n",
    "- 789 - 23 mpg mix so avg mpg"
   ]
  },
  {
   "cell_type": "code",
   "execution_count": 97,
   "metadata": {},
   "outputs": [
    {
     "data": {
      "text/plain": [
       "Float64Index([  19.0,   20.0,   18.0,   22.0,   21.0,   17.0,   16.0,   23.0,\n",
       "               789.0,   26.0,   24.0,   28.0,   25.0,   15.0,   27.0,   29.0,\n",
       "                30.0,   14.0,   13.0,  456.0,   31.0,    0.0,   32.0,   12.0,\n",
       "              1234.0,   51.0,   33.0,   58.0,   57.0,   55.0,  131.0,  120.0,\n",
       "                41.0,   36.0,   10.0,  136.0,  128.0,   79.0,   43.0,   40.0,\n",
       "               140.0,   11.0,   68.0,  115.0,  104.0,   53.0,  127.0,   91.0,\n",
       "                48.0,   54.0,   99.0,   44.0,   37.0,  103.0,   39.0,  137.0,\n",
       "               138.0,  116.0,   42.0,   76.0,   35.0,   78.0,   90.0,  113.0,\n",
       "               124.0,  109.0,  100.0,   38.0,   34.0,   92.0,  102.0,   47.0],\n",
       "             dtype='float64')"
      ]
     },
     "execution_count": 97,
     "metadata": {},
     "output_type": "execute_result"
    }
   ],
   "source": [
    "data['MPG'].value_counts(normalize=True).index"
   ]
  },
  {
   "cell_type": "code",
   "execution_count": 98,
   "metadata": {},
   "outputs": [],
   "source": [
    "data = data.replace({'MPG':{1234 : 23,\n",
    "                          456: 18,\n",
    "                          789: 23}})"
   ]
  },
  {
   "cell_type": "markdown",
   "metadata": {},
   "source": [
    "**Correcting uncommon high mpgs with a the mode mpg**"
   ]
  },
  {
   "cell_type": "code",
   "execution_count": 99,
   "metadata": {},
   "outputs": [],
   "source": [
    "mpg = []\n",
    "for miles in data['MPG']:\n",
    "    if miles >= 60:\n",
    "        miles = 23\n",
    "        mpg.append(miles)\n",
    "    else:\n",
    "        miles = miles\n",
    "        mpg.append(miles)"
   ]
  },
  {
   "cell_type": "code",
   "execution_count": 100,
   "metadata": {},
   "outputs": [],
   "source": [
    "data['mpg'] = mpg"
   ]
  },
  {
   "cell_type": "code",
   "execution_count": 101,
   "metadata": {},
   "outputs": [
    {
     "data": {
      "text/html": [
       "<div>\n",
       "<style scoped>\n",
       "    .dataframe tbody tr th:only-of-type {\n",
       "        vertical-align: middle;\n",
       "    }\n",
       "\n",
       "    .dataframe tbody tr th {\n",
       "        vertical-align: top;\n",
       "    }\n",
       "\n",
       "    .dataframe thead th {\n",
       "        text-align: right;\n",
       "    }\n",
       "</style>\n",
       "<table border=\"1\" class=\"dataframe\">\n",
       "  <thead>\n",
       "    <tr style=\"text-align: right;\">\n",
       "      <th></th>\n",
       "      <th>DriveTrain</th>\n",
       "      <th>MPG</th>\n",
       "      <th>Mileage</th>\n",
       "      <th>SalePrice</th>\n",
       "      <th>PriceCategory</th>\n",
       "      <th>CleanReviews</th>\n",
       "      <th>Year</th>\n",
       "      <th>Make</th>\n",
       "      <th>newSize</th>\n",
       "      <th>newCyl</th>\n",
       "      <th>newMake</th>\n",
       "      <th>mpg</th>\n",
       "    </tr>\n",
       "  </thead>\n",
       "  <tbody>\n",
       "    <tr>\n",
       "      <th>0</th>\n",
       "      <td>FWD</td>\n",
       "      <td>27.0</td>\n",
       "      <td>53200.0</td>\n",
       "      <td>29000.0</td>\n",
       "      <td>Average</td>\n",
       "      <td>Virtually nothing has gone wrong with my 2020 ...</td>\n",
       "      <td>2020.0</td>\n",
       "      <td>Toyota</td>\n",
       "      <td>2.5L</td>\n",
       "      <td>4</td>\n",
       "      <td>Toyota</td>\n",
       "      <td>27.0</td>\n",
       "    </tr>\n",
       "    <tr>\n",
       "      <th>1</th>\n",
       "      <td>RWD</td>\n",
       "      <td>18.0</td>\n",
       "      <td>22690.0</td>\n",
       "      <td>55975.0</td>\n",
       "      <td>Expensive</td>\n",
       "      <td>Stranded today. Could not get to work. Somethi...</td>\n",
       "      <td>2016.0</td>\n",
       "      <td>Volkswagen</td>\n",
       "      <td>3.0L</td>\n",
       "      <td>6</td>\n",
       "      <td>Volkswagen</td>\n",
       "      <td>18.0</td>\n",
       "    </tr>\n",
       "    <tr>\n",
       "      <th>2</th>\n",
       "      <td>FWD</td>\n",
       "      <td>18.0</td>\n",
       "      <td>17854.0</td>\n",
       "      <td>38900.0</td>\n",
       "      <td>Average</td>\n",
       "      <td>Excellent road car, quiet, stable, comfortable...</td>\n",
       "      <td>2020.0</td>\n",
       "      <td>Lincoln</td>\n",
       "      <td>3.5L</td>\n",
       "      <td>6</td>\n",
       "      <td>Other</td>\n",
       "      <td>18.0</td>\n",
       "    </tr>\n",
       "    <tr>\n",
       "      <th>3</th>\n",
       "      <td>FWD</td>\n",
       "      <td>28.0</td>\n",
       "      <td>60907.0</td>\n",
       "      <td>22125.0</td>\n",
       "      <td>Cheap</td>\n",
       "      <td>PURCHASED FROM NYE TOYOTA, MY FIRST TACOMA. LO...</td>\n",
       "      <td>2021.0</td>\n",
       "      <td>Toyota</td>\n",
       "      <td>2.5L</td>\n",
       "      <td>4</td>\n",
       "      <td>Toyota</td>\n",
       "      <td>28.0</td>\n",
       "    </tr>\n",
       "    <tr>\n",
       "      <th>4</th>\n",
       "      <td>FWD</td>\n",
       "      <td>24.0</td>\n",
       "      <td>41614.0</td>\n",
       "      <td>23946.0</td>\n",
       "      <td>Cheap</td>\n",
       "      <td>I’ve own a 2020 Altima (under 30k miles) for a...</td>\n",
       "      <td>2020.0</td>\n",
       "      <td>Nissan</td>\n",
       "      <td>2.4L</td>\n",
       "      <td>4</td>\n",
       "      <td>Nissan</td>\n",
       "      <td>24.0</td>\n",
       "    </tr>\n",
       "  </tbody>\n",
       "</table>\n",
       "</div>"
      ],
      "text/plain": [
       "  DriveTrain   MPG  Mileage  SalePrice PriceCategory  \\\n",
       "0        FWD  27.0  53200.0    29000.0       Average   \n",
       "1        RWD  18.0  22690.0    55975.0     Expensive   \n",
       "2        FWD  18.0  17854.0    38900.0       Average   \n",
       "3        FWD  28.0  60907.0    22125.0         Cheap   \n",
       "4        FWD  24.0  41614.0    23946.0         Cheap   \n",
       "\n",
       "                                        CleanReviews    Year        Make  \\\n",
       "0  Virtually nothing has gone wrong with my 2020 ...  2020.0      Toyota   \n",
       "1  Stranded today. Could not get to work. Somethi...  2016.0  Volkswagen   \n",
       "2  Excellent road car, quiet, stable, comfortable...  2020.0     Lincoln   \n",
       "3  PURCHASED FROM NYE TOYOTA, MY FIRST TACOMA. LO...  2021.0      Toyota   \n",
       "4  I’ve own a 2020 Altima (under 30k miles) for a...  2020.0      Nissan   \n",
       "\n",
       "  newSize newCyl     newMake   mpg  \n",
       "0    2.5L      4      Toyota  27.0  \n",
       "1    3.0L      6  Volkswagen  18.0  \n",
       "2    3.5L      6       Other  18.0  \n",
       "3    2.5L      4      Toyota  28.0  \n",
       "4    2.4L      4      Nissan  24.0  "
      ]
     },
     "execution_count": 101,
     "metadata": {},
     "output_type": "execute_result"
    }
   ],
   "source": [
    "data.head()"
   ]
  },
  {
   "cell_type": "markdown",
   "metadata": {},
   "source": [
    "**Applying changes with mode**"
   ]
  },
  {
   "cell_type": "code",
   "execution_count": 102,
   "metadata": {},
   "outputs": [],
   "source": [
    "data = data.replace({'newSize':{'unknown': modeSize}})"
   ]
  },
  {
   "cell_type": "code",
   "execution_count": 103,
   "metadata": {},
   "outputs": [],
   "source": [
    "data = data.replace({'newCyl':{'unknown': modeCyl}})"
   ]
  },
  {
   "cell_type": "code",
   "execution_count": 104,
   "metadata": {},
   "outputs": [],
   "source": [
    "data['newSize'] = data['newSize'].str.replace('L', '').astype(float)"
   ]
  },
  {
   "cell_type": "code",
   "execution_count": 105,
   "metadata": {
    "scrolled": true
   },
   "outputs": [
    {
     "name": "stdout",
     "output_type": "stream",
     "text": [
      "<class 'pandas.core.frame.DataFrame'>\n",
      "RangeIndex: 8474 entries, 0 to 8473\n",
      "Data columns (total 12 columns):\n",
      " #   Column         Non-Null Count  Dtype  \n",
      "---  ------         --------------  -----  \n",
      " 0   DriveTrain     8474 non-null   object \n",
      " 1   MPG            8474 non-null   float64\n",
      " 2   Mileage        8474 non-null   float64\n",
      " 3   SalePrice      8474 non-null   float64\n",
      " 4   PriceCategory  8474 non-null   object \n",
      " 5   CleanReviews   8474 non-null   object \n",
      " 6   Year           8474 non-null   float64\n",
      " 7   Make           8474 non-null   object \n",
      " 8   newSize        8474 non-null   float64\n",
      " 9   newCyl         8474 non-null   int64  \n",
      " 10  newMake        8474 non-null   object \n",
      " 11  mpg            8474 non-null   float64\n",
      "dtypes: float64(6), int64(1), object(5)\n",
      "memory usage: 794.6+ KB\n"
     ]
    }
   ],
   "source": [
    "data.info()"
   ]
  },
  {
   "cell_type": "markdown",
   "metadata": {},
   "source": [
    "## Creating final dataframe"
   ]
  },
  {
   "cell_type": "code",
   "execution_count": 106,
   "metadata": {},
   "outputs": [],
   "source": [
    "final_data = data.drop(columns=['MPG', 'Make'])"
   ]
  },
  {
   "cell_type": "markdown",
   "metadata": {},
   "source": [
    "**Checking all the final data is in the correct format**"
   ]
  },
  {
   "cell_type": "code",
   "execution_count": 107,
   "metadata": {},
   "outputs": [
    {
     "name": "stdout",
     "output_type": "stream",
     "text": [
      "<class 'pandas.core.frame.DataFrame'>\n",
      "RangeIndex: 8474 entries, 0 to 8473\n",
      "Data columns (total 10 columns):\n",
      " #   Column         Non-Null Count  Dtype  \n",
      "---  ------         --------------  -----  \n",
      " 0   DriveTrain     8474 non-null   object \n",
      " 1   Mileage        8474 non-null   float64\n",
      " 2   SalePrice      8474 non-null   float64\n",
      " 3   PriceCategory  8474 non-null   object \n",
      " 4   CleanReviews   8474 non-null   object \n",
      " 5   Year           8474 non-null   float64\n",
      " 6   newSize        8474 non-null   float64\n",
      " 7   newCyl         8474 non-null   int64  \n",
      " 8   newMake        8474 non-null   object \n",
      " 9   mpg            8474 non-null   float64\n",
      "dtypes: float64(5), int64(1), object(4)\n",
      "memory usage: 662.2+ KB\n"
     ]
    }
   ],
   "source": [
    "final_data.info()"
   ]
  },
  {
   "cell_type": "code",
   "execution_count": 108,
   "metadata": {},
   "outputs": [
    {
     "data": {
      "text/html": [
       "<div>\n",
       "<style scoped>\n",
       "    .dataframe tbody tr th:only-of-type {\n",
       "        vertical-align: middle;\n",
       "    }\n",
       "\n",
       "    .dataframe tbody tr th {\n",
       "        vertical-align: top;\n",
       "    }\n",
       "\n",
       "    .dataframe thead th {\n",
       "        text-align: right;\n",
       "    }\n",
       "</style>\n",
       "<table border=\"1\" class=\"dataframe\">\n",
       "  <thead>\n",
       "    <tr style=\"text-align: right;\">\n",
       "      <th></th>\n",
       "      <th>DriveTrain</th>\n",
       "      <th>Mileage</th>\n",
       "      <th>SalePrice</th>\n",
       "      <th>PriceCategory</th>\n",
       "      <th>CleanReviews</th>\n",
       "      <th>Year</th>\n",
       "      <th>newSize</th>\n",
       "      <th>newCyl</th>\n",
       "      <th>newMake</th>\n",
       "      <th>mpg</th>\n",
       "    </tr>\n",
       "  </thead>\n",
       "  <tbody>\n",
       "    <tr>\n",
       "      <th>0</th>\n",
       "      <td>FWD</td>\n",
       "      <td>53200.0</td>\n",
       "      <td>29000.0</td>\n",
       "      <td>Average</td>\n",
       "      <td>Virtually nothing has gone wrong with my 2020 ...</td>\n",
       "      <td>2020.0</td>\n",
       "      <td>2.5</td>\n",
       "      <td>4</td>\n",
       "      <td>Toyota</td>\n",
       "      <td>27.0</td>\n",
       "    </tr>\n",
       "    <tr>\n",
       "      <th>1</th>\n",
       "      <td>RWD</td>\n",
       "      <td>22690.0</td>\n",
       "      <td>55975.0</td>\n",
       "      <td>Expensive</td>\n",
       "      <td>Stranded today. Could not get to work. Somethi...</td>\n",
       "      <td>2016.0</td>\n",
       "      <td>3.0</td>\n",
       "      <td>6</td>\n",
       "      <td>Volkswagen</td>\n",
       "      <td>18.0</td>\n",
       "    </tr>\n",
       "    <tr>\n",
       "      <th>2</th>\n",
       "      <td>FWD</td>\n",
       "      <td>17854.0</td>\n",
       "      <td>38900.0</td>\n",
       "      <td>Average</td>\n",
       "      <td>Excellent road car, quiet, stable, comfortable...</td>\n",
       "      <td>2020.0</td>\n",
       "      <td>3.5</td>\n",
       "      <td>6</td>\n",
       "      <td>Other</td>\n",
       "      <td>18.0</td>\n",
       "    </tr>\n",
       "    <tr>\n",
       "      <th>3</th>\n",
       "      <td>FWD</td>\n",
       "      <td>60907.0</td>\n",
       "      <td>22125.0</td>\n",
       "      <td>Cheap</td>\n",
       "      <td>PURCHASED FROM NYE TOYOTA, MY FIRST TACOMA. LO...</td>\n",
       "      <td>2021.0</td>\n",
       "      <td>2.5</td>\n",
       "      <td>4</td>\n",
       "      <td>Toyota</td>\n",
       "      <td>28.0</td>\n",
       "    </tr>\n",
       "    <tr>\n",
       "      <th>4</th>\n",
       "      <td>FWD</td>\n",
       "      <td>41614.0</td>\n",
       "      <td>23946.0</td>\n",
       "      <td>Cheap</td>\n",
       "      <td>I’ve own a 2020 Altima (under 30k miles) for a...</td>\n",
       "      <td>2020.0</td>\n",
       "      <td>2.4</td>\n",
       "      <td>4</td>\n",
       "      <td>Nissan</td>\n",
       "      <td>24.0</td>\n",
       "    </tr>\n",
       "    <tr>\n",
       "      <th>...</th>\n",
       "      <td>...</td>\n",
       "      <td>...</td>\n",
       "      <td>...</td>\n",
       "      <td>...</td>\n",
       "      <td>...</td>\n",
       "      <td>...</td>\n",
       "      <td>...</td>\n",
       "      <td>...</td>\n",
       "      <td>...</td>\n",
       "      <td>...</td>\n",
       "    </tr>\n",
       "    <tr>\n",
       "      <th>8469</th>\n",
       "      <td>FWD</td>\n",
       "      <td>78378.0</td>\n",
       "      <td>25500.0</td>\n",
       "      <td>Cheap</td>\n",
       "      <td>Only had the X5 for 4 weeks now but so far it ...</td>\n",
       "      <td>2022.0</td>\n",
       "      <td>3.6</td>\n",
       "      <td>6</td>\n",
       "      <td>BMW</td>\n",
       "      <td>18.0</td>\n",
       "    </tr>\n",
       "    <tr>\n",
       "      <th>8470</th>\n",
       "      <td>AWD</td>\n",
       "      <td>30909.0</td>\n",
       "      <td>35590.0</td>\n",
       "      <td>Average</td>\n",
       "      <td>When I bought my 2020 Tacoma V6 (3.5L) 4x4 in ...</td>\n",
       "      <td>2019.0</td>\n",
       "      <td>3.6</td>\n",
       "      <td>6</td>\n",
       "      <td>Toyota</td>\n",
       "      <td>18.0</td>\n",
       "    </tr>\n",
       "    <tr>\n",
       "      <th>8471</th>\n",
       "      <td>FWD</td>\n",
       "      <td>30186.0</td>\n",
       "      <td>24000.0</td>\n",
       "      <td>Cheap</td>\n",
       "      <td>Everything is great except the rear view camer...</td>\n",
       "      <td>2015.0</td>\n",
       "      <td>2.5</td>\n",
       "      <td>4</td>\n",
       "      <td>INFINITI</td>\n",
       "      <td>23.0</td>\n",
       "    </tr>\n",
       "    <tr>\n",
       "      <th>8472</th>\n",
       "      <td>FWD</td>\n",
       "      <td>22309.0</td>\n",
       "      <td>71077.0</td>\n",
       "      <td>Expensive</td>\n",
       "      <td>I have owned smaller SUV\\s and Trucks for over...</td>\n",
       "      <td>2020.0</td>\n",
       "      <td>5.7</td>\n",
       "      <td>8</td>\n",
       "      <td>Toyota</td>\n",
       "      <td>15.0</td>\n",
       "    </tr>\n",
       "    <tr>\n",
       "      <th>8473</th>\n",
       "      <td>FWD</td>\n",
       "      <td>9399.0</td>\n",
       "      <td>34988.0</td>\n",
       "      <td>Average</td>\n",
       "      <td>Transmission and brake problems. Transmission ...</td>\n",
       "      <td>2021.0</td>\n",
       "      <td>3.5</td>\n",
       "      <td>6</td>\n",
       "      <td>Other</td>\n",
       "      <td>20.0</td>\n",
       "    </tr>\n",
       "  </tbody>\n",
       "</table>\n",
       "<p>8474 rows × 10 columns</p>\n",
       "</div>"
      ],
      "text/plain": [
       "     DriveTrain  Mileage  SalePrice PriceCategory  \\\n",
       "0           FWD  53200.0    29000.0       Average   \n",
       "1           RWD  22690.0    55975.0     Expensive   \n",
       "2           FWD  17854.0    38900.0       Average   \n",
       "3           FWD  60907.0    22125.0         Cheap   \n",
       "4           FWD  41614.0    23946.0         Cheap   \n",
       "...         ...      ...        ...           ...   \n",
       "8469        FWD  78378.0    25500.0         Cheap   \n",
       "8470        AWD  30909.0    35590.0       Average   \n",
       "8471        FWD  30186.0    24000.0         Cheap   \n",
       "8472        FWD  22309.0    71077.0     Expensive   \n",
       "8473        FWD   9399.0    34988.0       Average   \n",
       "\n",
       "                                           CleanReviews    Year  newSize  \\\n",
       "0     Virtually nothing has gone wrong with my 2020 ...  2020.0      2.5   \n",
       "1     Stranded today. Could not get to work. Somethi...  2016.0      3.0   \n",
       "2     Excellent road car, quiet, stable, comfortable...  2020.0      3.5   \n",
       "3     PURCHASED FROM NYE TOYOTA, MY FIRST TACOMA. LO...  2021.0      2.5   \n",
       "4     I’ve own a 2020 Altima (under 30k miles) for a...  2020.0      2.4   \n",
       "...                                                 ...     ...      ...   \n",
       "8469  Only had the X5 for 4 weeks now but so far it ...  2022.0      3.6   \n",
       "8470  When I bought my 2020 Tacoma V6 (3.5L) 4x4 in ...  2019.0      3.6   \n",
       "8471  Everything is great except the rear view camer...  2015.0      2.5   \n",
       "8472  I have owned smaller SUV\\s and Trucks for over...  2020.0      5.7   \n",
       "8473  Transmission and brake problems. Transmission ...  2021.0      3.5   \n",
       "\n",
       "      newCyl     newMake   mpg  \n",
       "0          4      Toyota  27.0  \n",
       "1          6  Volkswagen  18.0  \n",
       "2          6       Other  18.0  \n",
       "3          4      Toyota  28.0  \n",
       "4          4      Nissan  24.0  \n",
       "...      ...         ...   ...  \n",
       "8469       6         BMW  18.0  \n",
       "8470       6      Toyota  18.0  \n",
       "8471       4    INFINITI  23.0  \n",
       "8472       8      Toyota  15.0  \n",
       "8473       6       Other  20.0  \n",
       "\n",
       "[8474 rows x 10 columns]"
      ]
     },
     "execution_count": 108,
     "metadata": {},
     "output_type": "execute_result"
    }
   ],
   "source": [
    "final_data"
   ]
  },
  {
   "cell_type": "code",
   "execution_count": 109,
   "metadata": {},
   "outputs": [
    {
     "data": {
      "text/plain": [
       "Average      0.427661\n",
       "Cheap        0.331485\n",
       "Expensive    0.240854\n",
       "Name: PriceCategory, dtype: float64"
      ]
     },
     "execution_count": 109,
     "metadata": {},
     "output_type": "execute_result"
    }
   ],
   "source": [
    "final_data['PriceCategory'].value_counts(normalize=True)"
   ]
  }
 ],
 "metadata": {
  "kernelspec": {
   "display_name": "Python (learn-env)",
   "language": "python",
   "name": "learn-env"
  },
  "language_info": {
   "codemirror_mode": {
    "name": "ipython",
    "version": 3
   },
   "file_extension": ".py",
   "mimetype": "text/x-python",
   "name": "python",
   "nbconvert_exporter": "python",
   "pygments_lexer": "ipython3",
   "version": "3.8.5"
  }
 },
 "nbformat": 4,
 "nbformat_minor": 4
}
