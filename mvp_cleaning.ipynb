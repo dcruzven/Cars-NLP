{
 "cells": [
  {
   "cell_type": "markdown",
   "metadata": {},
   "source": [
    "# Cleaning web-scraped data"
   ]
  },
  {
   "cell_type": "markdown",
   "metadata": {},
   "source": [
    "**Priority**\n",
    "- Clean up reviews\n",
    "- Convert SalePrice to floats\n",
    "- Bin SalePrice for our target variable\n",
    "- Prepare for modeling\n",
    "\n",
    "**Secondary**\n",
    "- Clean the rest of data\n",
    "- Turn Mieage into floats\n",
    "- Split mpg to city and highway"
   ]
  },
  {
   "cell_type": "code",
   "execution_count": 1,
   "metadata": {},
   "outputs": [],
   "source": [
    "# imports\n",
    "import pandas as pd\n",
    "import requests\n",
    "from bs4 import BeautifulSoup\n",
    "import time\n",
    "import random\n",
    "import numpy as np\n",
    "from tqdm.notebook import tqdm\n",
    "import re"
   ]
  },
  {
   "cell_type": "code",
   "execution_count": 2,
   "metadata": {},
   "outputs": [],
   "source": [
    "df = pd.read_csv('carinfo.csv')"
   ]
  },
  {
   "cell_type": "code",
   "execution_count": 3,
   "metadata": {},
   "outputs": [],
   "source": [
    "df = df.drop(columns='Unnamed: 0')"
   ]
  },
  {
   "cell_type": "markdown",
   "metadata": {},
   "source": [
    "**Data is dirty, time to clean**"
   ]
  },
  {
   "cell_type": "code",
   "execution_count": 4,
   "metadata": {},
   "outputs": [
    {
     "data": {
      "text/html": [
       "<div>\n",
       "<style scoped>\n",
       "    .dataframe tbody tr th:only-of-type {\n",
       "        vertical-align: middle;\n",
       "    }\n",
       "\n",
       "    .dataframe tbody tr th {\n",
       "        vertical-align: top;\n",
       "    }\n",
       "\n",
       "    .dataframe thead th {\n",
       "        text-align: right;\n",
       "    }\n",
       "</style>\n",
       "<table border=\"1\" class=\"dataframe\">\n",
       "  <thead>\n",
       "    <tr style=\"text-align: right;\">\n",
       "      <th></th>\n",
       "      <th>Reviews</th>\n",
       "      <th>DriveTrain</th>\n",
       "      <th>MPG</th>\n",
       "      <th>FuelType</th>\n",
       "      <th>Transmission</th>\n",
       "      <th>Engine</th>\n",
       "      <th>Mileage</th>\n",
       "      <th>SalePrice</th>\n",
       "    </tr>\n",
       "  </thead>\n",
       "  <tbody>\n",
       "    <tr>\n",
       "      <th>0</th>\n",
       "      <td>['Virtually nothing has gone wrong with my 202...</td>\n",
       "      <td>Front-wheel Drive</td>\n",
       "      <td>27–35</td>\n",
       "      <td>Gasoline</td>\n",
       "      <td>8-Speed Automatic</td>\n",
       "      <td>2.5L I4 16V PDI DOHC</td>\n",
       "      <td>53,200 mi.</td>\n",
       "      <td>$29,000</td>\n",
       "    </tr>\n",
       "    <tr>\n",
       "      <th>1</th>\n",
       "      <td>[\"2018 XTL, 4X4, 302A Package 48000 mi. Other ...</td>\n",
       "      <td>Four-wheel Drive</td>\n",
       "      <td>–</td>\n",
       "      <td>–</td>\n",
       "      <td>Automatic</td>\n",
       "      <td>5.0L V8 32V PDI DOHC</td>\n",
       "      <td>33,548 mi.</td>\n",
       "      <td>$39,998</td>\n",
       "    </tr>\n",
       "    <tr>\n",
       "      <th>2</th>\n",
       "      <td>[\"Stranded today. Could not get to work. Somet...</td>\n",
       "      <td>Front-wheel Drive</td>\n",
       "      <td>Electric</td>\n",
       "      <td>Electric</td>\n",
       "      <td>1-Speed Automatic</td>\n",
       "      <td>Electric</td>\n",
       "      <td>62,439 mi.</td>\n",
       "      <td>$18,989</td>\n",
       "    </tr>\n",
       "    <tr>\n",
       "      <th>3</th>\n",
       "      <td>['Excellent road car, quiet, stable, comfortab...</td>\n",
       "      <td>Rear-wheel Drive</td>\n",
       "      <td>18–26</td>\n",
       "      <td>Gasoline</td>\n",
       "      <td>10-Speed Automatic</td>\n",
       "      <td>3.0L V6 24V GDI DOHC Twin Turbo</td>\n",
       "      <td>22,690 mi.</td>\n",
       "      <td>$55,975</td>\n",
       "    </tr>\n",
       "    <tr>\n",
       "      <th>4</th>\n",
       "      <td>['PURCHASED FROM NYE TOYOTA, MY FIRST TACOMA. ...</td>\n",
       "      <td>Four-wheel Drive</td>\n",
       "      <td>18–22</td>\n",
       "      <td>Gasoline</td>\n",
       "      <td>6-Speed Automatic</td>\n",
       "      <td>3.5L V6 24V PDI DOHC</td>\n",
       "      <td>17,854 mi.</td>\n",
       "      <td>$38,900</td>\n",
       "    </tr>\n",
       "    <tr>\n",
       "      <th>...</th>\n",
       "      <td>...</td>\n",
       "      <td>...</td>\n",
       "      <td>...</td>\n",
       "      <td>...</td>\n",
       "      <td>...</td>\n",
       "      <td>...</td>\n",
       "      <td>...</td>\n",
       "      <td>...</td>\n",
       "    </tr>\n",
       "    <tr>\n",
       "      <th>9611</th>\n",
       "      <td>['Uconnect system is awful,\\r\\nMost of the tim...</td>\n",
       "      <td>Four-wheel Drive</td>\n",
       "      <td>18–25</td>\n",
       "      <td>Gasoline</td>\n",
       "      <td>8-Speed Automatic</td>\n",
       "      <td>3.6L V6 24V MPFI DOHC</td>\n",
       "      <td>78,378 mi.</td>\n",
       "      <td>$25,500</td>\n",
       "    </tr>\n",
       "    <tr>\n",
       "      <th>9612</th>\n",
       "      <td>['Very happy with this car. It’s great value f...</td>\n",
       "      <td>All-wheel Drive</td>\n",
       "      <td>18–25</td>\n",
       "      <td>Gasoline</td>\n",
       "      <td>8-Speed Automatic</td>\n",
       "      <td>3.6L V6 24V MPFI DOHC</td>\n",
       "      <td>30,909 mi.</td>\n",
       "      <td>$35,590</td>\n",
       "    </tr>\n",
       "    <tr>\n",
       "      <th>9613</th>\n",
       "      <td>['I own one and for the past two years I have ...</td>\n",
       "      <td>Front-wheel Drive</td>\n",
       "      <td>23–30</td>\n",
       "      <td>Gasoline</td>\n",
       "      <td>6-SPEED A/T</td>\n",
       "      <td>4 Cylinder Engine</td>\n",
       "      <td>30,186 mi.</td>\n",
       "      <td>$24,000</td>\n",
       "    </tr>\n",
       "    <tr>\n",
       "      <th>9614</th>\n",
       "      <td>['This car is great. It is an amazing experien...</td>\n",
       "      <td>Four-wheel Drive</td>\n",
       "      <td>15–21</td>\n",
       "      <td>Gasoline</td>\n",
       "      <td>8-Speed Automatic</td>\n",
       "      <td>5.7L V8 16V MPFI OHV</td>\n",
       "      <td>22,309 mi.</td>\n",
       "      <td>$71,077</td>\n",
       "    </tr>\n",
       "    <tr>\n",
       "      <th>9615</th>\n",
       "      <td>['I have always wanted this vehicle so purchas...</td>\n",
       "      <td>Four-wheel Drive</td>\n",
       "      <td>20–27</td>\n",
       "      <td>Gasoline</td>\n",
       "      <td>Automatic CVT</td>\n",
       "      <td>3.5L V6 24V GDI DOHC</td>\n",
       "      <td>9,399 mi.</td>\n",
       "      <td>$34,988</td>\n",
       "    </tr>\n",
       "  </tbody>\n",
       "</table>\n",
       "<p>9616 rows × 8 columns</p>\n",
       "</div>"
      ],
      "text/plain": [
       "                                                Reviews           DriveTrain  \\\n",
       "0     ['Virtually nothing has gone wrong with my 202...   Front-wheel Drive    \n",
       "1     [\"2018 XTL, 4X4, 302A Package 48000 mi. Other ...    Four-wheel Drive    \n",
       "2     [\"Stranded today. Could not get to work. Somet...   Front-wheel Drive    \n",
       "3     ['Excellent road car, quiet, stable, comfortab...    Rear-wheel Drive    \n",
       "4     ['PURCHASED FROM NYE TOYOTA, MY FIRST TACOMA. ...    Four-wheel Drive    \n",
       "...                                                 ...                  ...   \n",
       "9611  ['Uconnect system is awful,\\r\\nMost of the tim...    Four-wheel Drive    \n",
       "9612  ['Very happy with this car. It’s great value f...     All-wheel Drive    \n",
       "9613  ['I own one and for the past two years I have ...   Front-wheel Drive    \n",
       "9614  ['This car is great. It is an amazing experien...    Four-wheel Drive    \n",
       "9615  ['I have always wanted this vehicle so purchas...    Four-wheel Drive    \n",
       "\n",
       "            MPG   FuelType        Transmission  \\\n",
       "0         27–35  Gasoline    8-Speed Automatic   \n",
       "1            –          –            Automatic   \n",
       "2     Electric   Electric    1-Speed Automatic   \n",
       "3         18–26  Gasoline   10-Speed Automatic   \n",
       "4         18–22  Gasoline    6-Speed Automatic   \n",
       "...         ...        ...                 ...   \n",
       "9611      18–25  Gasoline    8-Speed Automatic   \n",
       "9612      18–25  Gasoline    8-Speed Automatic   \n",
       "9613      23–30  Gasoline          6-SPEED A/T   \n",
       "9614      15–21  Gasoline    8-Speed Automatic   \n",
       "9615      20–27  Gasoline        Automatic CVT   \n",
       "\n",
       "                               Engine       Mileage SalePrice  \n",
       "0                2.5L I4 16V PDI DOHC   53,200 mi.    $29,000  \n",
       "1                5.0L V8 32V PDI DOHC   33,548 mi.    $39,998  \n",
       "2                            Electric   62,439 mi.    $18,989  \n",
       "3     3.0L V6 24V GDI DOHC Twin Turbo   22,690 mi.    $55,975  \n",
       "4                3.5L V6 24V PDI DOHC   17,854 mi.    $38,900  \n",
       "...                               ...           ...       ...  \n",
       "9611            3.6L V6 24V MPFI DOHC   78,378 mi.    $25,500  \n",
       "9612            3.6L V6 24V MPFI DOHC   30,909 mi.    $35,590  \n",
       "9613                4 Cylinder Engine   30,186 mi.    $24,000  \n",
       "9614             5.7L V8 16V MPFI OHV   22,309 mi.    $71,077  \n",
       "9615             3.5L V6 24V GDI DOHC    9,399 mi.    $34,988  \n",
       "\n",
       "[9616 rows x 8 columns]"
      ]
     },
     "execution_count": 4,
     "metadata": {},
     "output_type": "execute_result"
    }
   ],
   "source": [
    "df"
   ]
  },
  {
   "cell_type": "markdown",
   "metadata": {},
   "source": [
    "**Grabbing priority columns**"
   ]
  },
  {
   "cell_type": "code",
   "execution_count": 5,
   "metadata": {},
   "outputs": [],
   "source": [
    "data = df[['Reviews', 'SalePrice']]"
   ]
  },
  {
   "cell_type": "markdown",
   "metadata": {},
   "source": [
    "**Only ~1980 unique reviews, okay for this project**\n",
    "- Would like to grab more unique reviews in the future"
   ]
  },
  {
   "cell_type": "code",
   "execution_count": 6,
   "metadata": {},
   "outputs": [
    {
     "data": {
      "text/plain": [
       "[]                                                                                                                                                                                                                                                                                                                                                                                                                                                                                                                                                                                                                                                                                                                                                                                                                                                                                                                                                                                                                                                                                                                                                                                                                                                                                                                                                                                                                                                                                                                                                                                                                                                                                                                                                                                                                                                                                                                                                                                                                                                                                                                                                                                                                                                                                                                                                                                                                                                                                                                                                                                                                                                                                                                                                                                                                                                                                                                                                                                                                                                                    273\n",
       "['For such a good truck it sad that Ford was so cheap when they made the slide plate. The slide plate is made out of cardboard. ', 'F150 Crew Cab STX package, 2WD, with Ecoboost 2.7. WOW! Super impressed with the fuel economy and power on this pickup. Bought it new, it was a great buy. A lot of space in the interior. Big screen display on the radio. Interior is easy to clean, the fabric on the seats is sporty. Rides smooth for being a pickup and I would say I averaged about 19 to 20 miles per gallon on the city. Definitely recommend this truck, I would definitely lean towards the ECOBOOST engine. The 2.7 is plenty of power and runs awesome. If you want an extra kick go with the 3.5, if your pulling a trailer around. Also the app for FORD on the phone was great. It gave you all the basic info on the truck anywhere. Parked location, odometer, fuel, tire pressure and a lot more. Great buy! ', 'Safe, Comfy, Saves value, Cheap maintenance\\r\\nI love this car.\\r\\nPowerful with less gas but you should know how to drive a V6 truck, never go back to Jeep after Ford']                                                                                                                                                                                                                                                                                                                                                                                                                                                                                                                                                                                                                                                                                                                                                                                                                                                                                                                                                                                                                                                                                                                                                                                                                                                                                                                                                                                                                                                                                                                                                                                                                                                                                                                                                                                                                                                                                                                                                      71\n",
       "['After 9800 miles and being towed 5 times, i would not recommend this truck for reliability for anything. I contacted Ford after being towed the 3rd time, and they said they couldn’t help me to resolve the issue, that i needed to take it for service. 3 fuel pumps later, I traded it for a chevy… couldn’t be happier. Nothing worse than be stranded on 2 lane highways between Oklahoma and Montana and feeling hopeless with little cell phone service. Don’t buy, they don’t stand behind their product ', 'Love my2019 f-150  sport truck Nice power. For a 2.7. Twin turbo. This truck will move  nice gas mileage I get 20 city. About 24 high way.  It Drives.nice  handles well. For a big truck. No wonder it’s the  Best selling truck the last 40 years   ', \"Best truck out there! Plenty of room for the grandkids seats and 4 people. Also, plenty of room in the bed for working/hauling materials. And all of this can happen at the same time. All of the HP you'll need for anything. Recently hauled a load of heavy furniture and other household stuff over Monteagle mountain and I was passing cars going up the mountain!! POWERFUL!!\"]                                                                                                                                                                                                                                                                                                                                                                                                                                                                                                                                                                                                                                                                                                                                                                                                                                                                                                                                                                                                                                                                                                                                                                                                                                                                                                                                                                                                                                                                                                                                                                                                                                                                                                                                                                                                                                                                                                68\n",
       "[\"2018 XTL, 4X4, 302A Package 48000 mi. Other than wheel bearings, the vehicle has been flawless. Lots of room and the 2.7L has pep and is economical to operate. My major complaint is OE running boards, the chrome peels. No issues with the motor or transmission. Only expense other than fluid changes was new front brakes. This vehicle is driven in Northern Ontario and performs remarkably well in snow and rough roads. The 5' bed is perfect for our needs of hauling material for our DIY projects. We have hauled up to 3/4 yard of gravel without any difficulty It is the best vehicle I have ever owned.\", \"I bought my truck new on Dec 30th of 2018. I initially loved it. But my first warning sign was the engine was losing oil almost immediately- I set my oil changes for 5,000 miles. By the time I had an oil change it was right at a quart low. I thought it was a fluke and got 10,000 mile oil as I am very busy and it saves time. At 7,500 miles the truck was 2.5 Qts low on oil. I switched to 3,000 mile oil and oil changes then. The engine was also  making a plastic raspy noise whenever I let off the accelerator. Fast forward to this June. At this point Ive had the truck 3.5yrs, 86,000 miles. Never missed an oil change/service. The engine light starts flashing. So I have it towed to a local mechanic thinking it was maybe coil packs. He was stumped. Next have it towed to the Ford dealership. They call me today saying it has multiple cam timing issues. The cost to fix it is $4,700!!!!!  FOUR THOUSAND SEVEN HUNDRED.... The whole reason I invested in a new truck was so that I would have something that would be dependable for many years. Instead, I get a new truck that hasn't even lasted as long as the used trucks I've bought. I could not be anymore more disappointed and angrier with the quality of this truck. It's a pretty truck, but if you want something dependable, look elsewhere.\", \"Luxury? Check. Utility? Check. \\r\\nWhat can you say about an $80k truck? Take the body of a workhorse F150 and squeeze in the cabin of a Lincoln. \\r\\nThe 3.5L turbo Ecoboost has absolutely no issues moving this massive truck around. The 10 speed transmission is smooth to the point that I rarely feel it shift. Even when towing or with the box loaded. \\r\\nThe cabin is eerily quit and supremely comfortable. The heated, cooled and massage(!) seats make even the longest road trip a pleasant experience. \\r\\nRead seat passengers will appreciate the heated rear seats, and plenty of usb, 12v and 110v charging options.\\r\\nI've put 55k miles on this truck, and the only mechanical issue I've experienced is a problem with the power running boards not fully extending. \\r\\nFor a full size pickup, the ride is surprisingly smooth and the included driver assist features will make a lazy driver out of anyone.\\r\\nIf you want a vehicle with the capabilities of a truck, and the comfort of a luxury sedan you can't go wrong with the F150 Limited.\\r\\n\"]     64\n",
       "['A little too big for myself but I love this car.\\r\\nI had a used Rav4 before, drove about 10 years, loved it. Also I was able to sell it pretty high price ($4,500) comparing the year and the mileage (over 200,0000 miles). So that is one of the reason why I bought Rav4 again.', \"I've have a Rav 4 premium wich was purchased in feb2021.ive had zero problems and the car accelerates like a rx350 which I cannot understand where people want to tell you the car is slow . the car was purchased because of extreme back problems which I am on disabled for.the car does everything as well as my dad's girlfriend's 2017 Rx 350.the gas mileage is amazing.\", 'Amazing performance for a 4 cylinder. First time I ever owned something without a V8, and I am impressed.\\r\\nGood handling. great interior and very comfortable. Good MPG also.']                                                                                                                                                                                                                                                                                                                                                                                                                                                                                                                                                                                                                                                                                                                                                                                                                                                                                                                                                                                                                                                                                                                                                                                                                                                                                                                                                                                                                                                                                                                                                                                                                                                                                                                                                                                                                                                                                                                                                                                                                                                                                                                                                                                                          56\n",
       "                                                                                                                                                                                                                                                                                                                                                                                                                                                                                                                                                                                                                                                                                                                                                                                                                                                                                                                                                                                                                                                                                                                                                                                                                                                                                                                                                                                                                                                                                                                                                                                                                                                                                                                                                                                                                                                                                                                                                                                                                                                                                                                                                                                                                                                                                                                                                                                                                                                                                                                                                                                                                                                                                                                                                                                                                                                                                                                                                                                                                                                                     ... \n",
       "[\"My wife had a 2008 with 285,000 miles and wouldn't consider any other car.  Now she has the 2015 and I'm driving the 2008.  Using the new one for out of town.\", \"Very good handling for and SUV, and sporty.  Drives and feels like a sports car and have and SUV.  If you're looking for the best crossover in the market, the QX70 Sport is the way to go.\", \"I love my 2015 Infiniti Qx70S. This is my second Infiniti and best one yet. Turns lots of heads and many compliments. Comfortable, reliable and awesome. I've had most luxury brand and many let down. I have to say Infiniti was well made.\"]                                                                                                                                                                                                                                                                                                                                                                                                                                                                                                                                                                                                                                                                                                                                                                                                                                                                                                                                                                                                                                                                                                                                                                                                                                                                                                                                                                                                                                                                                                                                                                                                                                                                                                                                                                                                                                                                                                                                                                                                                                                                                                                                                                                                                                                                                                                                                                                                                                                       1\n",
       "['This is exactly the car that I expected, and more beautiful in person.  It meets all expectations, and the interior and driving position is perfect for long distance touring.', 'This car is amazing.  You feel like your a part of the road surface.  Sound, handling, acceleration, fit and finish are all spectacular!  Way to go Porsche!!', 'If you’re looking for some funny and fast car purchase this one on the stick shift. It’s very comfortable mpg is 25. Service and parts is not so pricey']                                                                                                                                                                                                                                                                                                                                                                                                                                                                                                                                                                                                                                                                                                                                                                                                                                                                                                                                                                                                                                                                                                                                                                                                                                                                                                                                                                                                                                                                                                                                                                                                                                                                                                                                                                                                                                                                                                                                                                                                                                                                                                                                                                                                                                                                                                                                                                                                                                                                                                                                                          1\n",
       "['I was bogging in my moms car and offroading mudholes and all it was going fine till it hydro planed into a tree either than that amazing I would look into that though', 'This vehicle has been so reliable and worth the money I paid for it 9 years ago.  It’s more roomy than the newest models so there is absolutely no reason for me to make a change.', 'This car is very reliable and has meet all my driving needs. The V-6 engine is very responsive and also gets good gas mileage. Would highly recommend this vehicle .']                                                                                                                                                                                                                                                                                                                                                                                                                                                                                                                                                                                                                                                                                                                                                                                                                                                                                                                                                                                                                                                                                                                                                                                                                                                                                                                                                                                                                                                                                                                                                                                                                                                                                                                                                                                                                                                                                                                                                                                                                                                                                                                                                                                                                                                                                                                                                                                                                                                                                                                                1\n",
       "['This car meets all our needs. Comfortable, plenty of leg room front and back. Heated seats all around, remote keyless start. Heated seats. Too many things to list. Great car for a great price!', \"I am a DTS Platinum guy and It met all my needs. The car perform good and it exceeded all my expectations. I'm totally impressed.\", 'With a nine year old car you have to be careful but this car was immaculate. This is the last American made car with a bench seat Also, the last full size four door sedan']                                                                                                                                                                                                                                                                                                                                                                                                                                                                                                                                                                                                                                                                                                                                                                                                                                                                                                                                                                                                                                                                                                                                                                                                                                                                                                                                                                                                                                                                                                                                                                                                                                                                                                                                                                                                                                                                                                                                                                                                                                                                                                                                                                                                                                                                                                                                                                                                                                                                                                                                                 1\n",
       "[\"I own a 1999 rx300 its a great vehicle. The key is to \\n *** Keep your maintenance up****  I brought it used, because that's what I could afford. I also own a IS250 Awesome.\", 'This is so great than most of other cars,and it met all my needs so far,lastly I praise the company and thanks them for all the good car they made', \"Yes, it's an older car but many still on the road. I'm third owner and have 261,000 miles still going strong. I'll never own anything else.\"]                                                                                                                                                                                                                                                                                                                                                                                                                                                                                                                                                                                                                                                                                                                                                                                                                                                                                                                                                                                                                                                                                                                                                                                                                                                                                                                                                                                                                                                                                                                                                                                                                                                                                                                                                                                                                                                                                                                                                                                                                                                                                                                                                                                                                                                                                                                                                                                                                                                                                                                                                                                  1\n",
       "Name: Reviews, Length: 1985, dtype: int64"
      ]
     },
     "execution_count": 6,
     "metadata": {},
     "output_type": "execute_result"
    }
   ],
   "source": [
    "data['Reviews'].value_counts()"
   ]
  },
  {
   "cell_type": "markdown",
   "metadata": {},
   "source": [
    "**Converting from string to float**\n",
    "- getting numbers\n",
    "- turning number string to float"
   ]
  },
  {
   "cell_type": "code",
   "execution_count": 7,
   "metadata": {
    "scrolled": true
   },
   "outputs": [
    {
     "name": "stderr",
     "output_type": "stream",
     "text": [
      "<ipython-input-7-da332b37bb80>:1: SettingWithCopyWarning: \n",
      "A value is trying to be set on a copy of a slice from a DataFrame.\n",
      "Try using .loc[row_indexer,col_indexer] = value instead\n",
      "\n",
      "See the caveats in the documentation: https://pandas.pydata.org/pandas-docs/stable/user_guide/indexing.html#returning-a-view-versus-a-copy\n",
      "  data['SalePrice'] = data['SalePrice'].str.translate({ord(i): None for i in '$,'})\n"
     ]
    }
   ],
   "source": [
    "data['SalePrice'] = data['SalePrice'].str.translate({ord(i): None for i in '$,'})"
   ]
  },
  {
   "cell_type": "code",
   "execution_count": 8,
   "metadata": {},
   "outputs": [
    {
     "data": {
      "text/html": [
       "<div>\n",
       "<style scoped>\n",
       "    .dataframe tbody tr th:only-of-type {\n",
       "        vertical-align: middle;\n",
       "    }\n",
       "\n",
       "    .dataframe tbody tr th {\n",
       "        vertical-align: top;\n",
       "    }\n",
       "\n",
       "    .dataframe thead th {\n",
       "        text-align: right;\n",
       "    }\n",
       "</style>\n",
       "<table border=\"1\" class=\"dataframe\">\n",
       "  <thead>\n",
       "    <tr style=\"text-align: right;\">\n",
       "      <th></th>\n",
       "      <th>Reviews</th>\n",
       "      <th>SalePrice</th>\n",
       "    </tr>\n",
       "  </thead>\n",
       "  <tbody>\n",
       "    <tr>\n",
       "      <th>0</th>\n",
       "      <td>['Virtually nothing has gone wrong with my 202...</td>\n",
       "      <td>29000</td>\n",
       "    </tr>\n",
       "    <tr>\n",
       "      <th>1</th>\n",
       "      <td>[\"2018 XTL, 4X4, 302A Package 48000 mi. Other ...</td>\n",
       "      <td>39998</td>\n",
       "    </tr>\n",
       "    <tr>\n",
       "      <th>2</th>\n",
       "      <td>[\"Stranded today. Could not get to work. Somet...</td>\n",
       "      <td>18989</td>\n",
       "    </tr>\n",
       "    <tr>\n",
       "      <th>3</th>\n",
       "      <td>['Excellent road car, quiet, stable, comfortab...</td>\n",
       "      <td>55975</td>\n",
       "    </tr>\n",
       "    <tr>\n",
       "      <th>4</th>\n",
       "      <td>['PURCHASED FROM NYE TOYOTA, MY FIRST TACOMA. ...</td>\n",
       "      <td>38900</td>\n",
       "    </tr>\n",
       "    <tr>\n",
       "      <th>...</th>\n",
       "      <td>...</td>\n",
       "      <td>...</td>\n",
       "    </tr>\n",
       "    <tr>\n",
       "      <th>9611</th>\n",
       "      <td>['Uconnect system is awful,\\r\\nMost of the tim...</td>\n",
       "      <td>25500</td>\n",
       "    </tr>\n",
       "    <tr>\n",
       "      <th>9612</th>\n",
       "      <td>['Very happy with this car. It’s great value f...</td>\n",
       "      <td>35590</td>\n",
       "    </tr>\n",
       "    <tr>\n",
       "      <th>9613</th>\n",
       "      <td>['I own one and for the past two years I have ...</td>\n",
       "      <td>24000</td>\n",
       "    </tr>\n",
       "    <tr>\n",
       "      <th>9614</th>\n",
       "      <td>['This car is great. It is an amazing experien...</td>\n",
       "      <td>71077</td>\n",
       "    </tr>\n",
       "    <tr>\n",
       "      <th>9615</th>\n",
       "      <td>['I have always wanted this vehicle so purchas...</td>\n",
       "      <td>34988</td>\n",
       "    </tr>\n",
       "  </tbody>\n",
       "</table>\n",
       "<p>9616 rows × 2 columns</p>\n",
       "</div>"
      ],
      "text/plain": [
       "                                                Reviews SalePrice\n",
       "0     ['Virtually nothing has gone wrong with my 202...     29000\n",
       "1     [\"2018 XTL, 4X4, 302A Package 48000 mi. Other ...     39998\n",
       "2     [\"Stranded today. Could not get to work. Somet...     18989\n",
       "3     ['Excellent road car, quiet, stable, comfortab...     55975\n",
       "4     ['PURCHASED FROM NYE TOYOTA, MY FIRST TACOMA. ...     38900\n",
       "...                                                 ...       ...\n",
       "9611  ['Uconnect system is awful,\\r\\nMost of the tim...     25500\n",
       "9612  ['Very happy with this car. It’s great value f...     35590\n",
       "9613  ['I own one and for the past two years I have ...     24000\n",
       "9614  ['This car is great. It is an amazing experien...     71077\n",
       "9615  ['I have always wanted this vehicle so purchas...     34988\n",
       "\n",
       "[9616 rows x 2 columns]"
      ]
     },
     "execution_count": 8,
     "metadata": {},
     "output_type": "execute_result"
    }
   ],
   "source": [
    "data"
   ]
  },
  {
   "cell_type": "code",
   "execution_count": 9,
   "metadata": {},
   "outputs": [],
   "source": [
    "data = data.loc[data['SalePrice'] != 'Not Priced']"
   ]
  },
  {
   "cell_type": "code",
   "execution_count": 10,
   "metadata": {},
   "outputs": [
    {
     "name": "stderr",
     "output_type": "stream",
     "text": [
      "<ipython-input-10-50854e4490e6>:1: SettingWithCopyWarning: \n",
      "A value is trying to be set on a copy of a slice from a DataFrame.\n",
      "Try using .loc[row_indexer,col_indexer] = value instead\n",
      "\n",
      "See the caveats in the documentation: https://pandas.pydata.org/pandas-docs/stable/user_guide/indexing.html#returning-a-view-versus-a-copy\n",
      "  data['SalePrice'] = data['SalePrice'].astype(float)\n"
     ]
    }
   ],
   "source": [
    "data['SalePrice'] = data['SalePrice'].astype(float)"
   ]
  },
  {
   "cell_type": "code",
   "execution_count": 11,
   "metadata": {
    "scrolled": false
   },
   "outputs": [
    {
     "data": {
      "text/html": [
       "<div>\n",
       "<style scoped>\n",
       "    .dataframe tbody tr th:only-of-type {\n",
       "        vertical-align: middle;\n",
       "    }\n",
       "\n",
       "    .dataframe tbody tr th {\n",
       "        vertical-align: top;\n",
       "    }\n",
       "\n",
       "    .dataframe thead th {\n",
       "        text-align: right;\n",
       "    }\n",
       "</style>\n",
       "<table border=\"1\" class=\"dataframe\">\n",
       "  <thead>\n",
       "    <tr style=\"text-align: right;\">\n",
       "      <th></th>\n",
       "      <th>Reviews</th>\n",
       "      <th>SalePrice</th>\n",
       "    </tr>\n",
       "  </thead>\n",
       "  <tbody>\n",
       "    <tr>\n",
       "      <th>0</th>\n",
       "      <td>['Virtually nothing has gone wrong with my 202...</td>\n",
       "      <td>29000.0</td>\n",
       "    </tr>\n",
       "    <tr>\n",
       "      <th>1</th>\n",
       "      <td>[\"2018 XTL, 4X4, 302A Package 48000 mi. Other ...</td>\n",
       "      <td>39998.0</td>\n",
       "    </tr>\n",
       "    <tr>\n",
       "      <th>2</th>\n",
       "      <td>[\"Stranded today. Could not get to work. Somet...</td>\n",
       "      <td>18989.0</td>\n",
       "    </tr>\n",
       "    <tr>\n",
       "      <th>3</th>\n",
       "      <td>['Excellent road car, quiet, stable, comfortab...</td>\n",
       "      <td>55975.0</td>\n",
       "    </tr>\n",
       "    <tr>\n",
       "      <th>4</th>\n",
       "      <td>['PURCHASED FROM NYE TOYOTA, MY FIRST TACOMA. ...</td>\n",
       "      <td>38900.0</td>\n",
       "    </tr>\n",
       "    <tr>\n",
       "      <th>...</th>\n",
       "      <td>...</td>\n",
       "      <td>...</td>\n",
       "    </tr>\n",
       "    <tr>\n",
       "      <th>9611</th>\n",
       "      <td>['Uconnect system is awful,\\r\\nMost of the tim...</td>\n",
       "      <td>25500.0</td>\n",
       "    </tr>\n",
       "    <tr>\n",
       "      <th>9612</th>\n",
       "      <td>['Very happy with this car. It’s great value f...</td>\n",
       "      <td>35590.0</td>\n",
       "    </tr>\n",
       "    <tr>\n",
       "      <th>9613</th>\n",
       "      <td>['I own one and for the past two years I have ...</td>\n",
       "      <td>24000.0</td>\n",
       "    </tr>\n",
       "    <tr>\n",
       "      <th>9614</th>\n",
       "      <td>['This car is great. It is an amazing experien...</td>\n",
       "      <td>71077.0</td>\n",
       "    </tr>\n",
       "    <tr>\n",
       "      <th>9615</th>\n",
       "      <td>['I have always wanted this vehicle so purchas...</td>\n",
       "      <td>34988.0</td>\n",
       "    </tr>\n",
       "  </tbody>\n",
       "</table>\n",
       "<p>9608 rows × 2 columns</p>\n",
       "</div>"
      ],
      "text/plain": [
       "                                                Reviews  SalePrice\n",
       "0     ['Virtually nothing has gone wrong with my 202...    29000.0\n",
       "1     [\"2018 XTL, 4X4, 302A Package 48000 mi. Other ...    39998.0\n",
       "2     [\"Stranded today. Could not get to work. Somet...    18989.0\n",
       "3     ['Excellent road car, quiet, stable, comfortab...    55975.0\n",
       "4     ['PURCHASED FROM NYE TOYOTA, MY FIRST TACOMA. ...    38900.0\n",
       "...                                                 ...        ...\n",
       "9611  ['Uconnect system is awful,\\r\\nMost of the tim...    25500.0\n",
       "9612  ['Very happy with this car. It’s great value f...    35590.0\n",
       "9613  ['I own one and for the past two years I have ...    24000.0\n",
       "9614  ['This car is great. It is an amazing experien...    71077.0\n",
       "9615  ['I have always wanted this vehicle so purchas...    34988.0\n",
       "\n",
       "[9608 rows x 2 columns]"
      ]
     },
     "execution_count": 11,
     "metadata": {},
     "output_type": "execute_result"
    }
   ],
   "source": [
    "data"
   ]
  },
  {
   "cell_type": "markdown",
   "metadata": {},
   "source": [
    "**Binning SalePrice for target variable**\n",
    "- Seems to have good distribubtion of prices\n",
    "- Use qcut to bin, use as starting point"
   ]
  },
  {
   "cell_type": "code",
   "execution_count": 12,
   "metadata": {},
   "outputs": [
    {
     "data": {
      "text/plain": [
       "count      9608.000000\n",
       "mean      38308.905287\n",
       "std       22020.813784\n",
       "min        2500.000000\n",
       "25%       25156.500000\n",
       "50%       34590.000000\n",
       "75%       44991.250000\n",
       "max      435500.000000\n",
       "Name: SalePrice, dtype: float64"
      ]
     },
     "execution_count": 12,
     "metadata": {},
     "output_type": "execute_result"
    }
   ],
   "source": [
    "data['SalePrice'].describe()"
   ]
  },
  {
   "cell_type": "code",
   "execution_count": 13,
   "metadata": {},
   "outputs": [
    {
     "data": {
      "text/plain": [
       "<AxesSubplot:>"
      ]
     },
     "execution_count": 13,
     "metadata": {},
     "output_type": "execute_result"
    },
    {
     "data": {
      "image/png": "[encoded data removed]",
      "text/plain": [
       "<Figure size 720x432 with 1 Axes>"
      ]
     },
     "metadata": {
      "needs_background": "light"
     },
     "output_type": "display_data"
    }
   ],
   "source": [
    "data['SalePrice'].hist(figsize=(10,6))"
   ]
  },
  {
   "cell_type": "code",
   "execution_count": 14,
   "metadata": {
    "scrolled": true
   },
   "outputs": [
    {
     "data": {
      "text/plain": [
       "[(23793.2, 30710.8], (38605.4, 47993.6], (2499.999, 23793.2], (47993.6, 435500.0], (30710.8, 38605.4]]\n",
       "Categories (5, interval[float64]): [(2499.999, 23793.2] < (23793.2, 30710.8] < (30710.8, 38605.4] < (38605.4, 47993.6] < (47993.6, 435500.0]]"
      ]
     },
     "execution_count": 14,
     "metadata": {},
     "output_type": "execute_result"
    }
   ],
   "source": [
    "pd.qcut(data['SalePrice'], q=5).unique()"
   ]
  },
  {
   "cell_type": "markdown",
   "metadata": {},
   "source": [
    "**Outliers seem to have little effect on binning**"
   ]
  },
  {
   "cell_type": "code",
   "execution_count": 15,
   "metadata": {
    "scrolled": true
   },
   "outputs": [
    {
     "data": {
      "text/plain": [
       "[(23758.0, 30596.6], (38515.2, 47950.0], (2499.999, 23758.0], (47950.0, 149999.0], (30596.6, 38515.2]]\n",
       "Categories (5, interval[float64]): [(2499.999, 23758.0] < (23758.0, 30596.6] < (30596.6, 38515.2] < (38515.2, 47950.0] < (47950.0, 149999.0]]"
      ]
     },
     "execution_count": 15,
     "metadata": {},
     "output_type": "execute_result"
    }
   ],
   "source": [
    "pd.qcut(data.loc[data['SalePrice'] <= 150000]['SalePrice'], q=5).unique()"
   ]
  },
  {
   "cell_type": "markdown",
   "metadata": {},
   "source": [
    "**Bins to be used**\n",
    "- Cheap 0-22k\n",
    "- Below Average 22k-30k\n",
    "- Average 30k-38k\n",
    "- Above Average 38k-50k\n",
    "- Expensive 50k+\n",
    "\n",
    "\n",
    "This is for the cars in this dataset, Google says average price in AL is 33k. Binning is okay for general idea."
   ]
  },
  {
   "cell_type": "code",
   "execution_count": 16,
   "metadata": {},
   "outputs": [
    {
     "name": "stderr",
     "output_type": "stream",
     "text": [
      "<ipython-input-16-bd3203b329c7>:13: SettingWithCopyWarning: \n",
      "A value is trying to be set on a copy of a slice from a DataFrame.\n",
      "Try using .loc[row_indexer,col_indexer] = value instead\n",
      "\n",
      "See the caveats in the documentation: https://pandas.pydata.org/pandas-docs/stable/user_guide/indexing.html#returning-a-view-versus-a-copy\n",
      "  data['PriceCategory'] = np.select(bins, price_cat)\n"
     ]
    }
   ],
   "source": [
    "bins = [\n",
    "    (data['SalePrice'] <= 22000),\n",
    "    (data['SalePrice'] > 22000) & (data['SalePrice'] <= 30000),\n",
    "    (data['SalePrice'] > 30000) & (data['SalePrice'] <= 38000),\n",
    "    (data['SalePrice'] > 38000) & (data['SalePrice'] <= 50000),\n",
    "    (data['SalePrice'] > 50000)\n",
    "    ]\n",
    "\n",
    "# create a list of the values we want to assign for each condition\n",
    "price_cat = ['Cheap', 'BelowAverage', 'Average', 'AboveAverage', 'Expensive']\n",
    "\n",
    "# create a new column and use np.select to assign values to it using our lists as arguments\n",
    "data['PriceCategory'] = np.select(bins, price_cat)"
   ]
  },
  {
   "cell_type": "code",
   "execution_count": 17,
   "metadata": {
    "scrolled": true
   },
   "outputs": [
    {
     "data": {
      "text/html": [
       "<div>\n",
       "<style scoped>\n",
       "    .dataframe tbody tr th:only-of-type {\n",
       "        vertical-align: middle;\n",
       "    }\n",
       "\n",
       "    .dataframe tbody tr th {\n",
       "        vertical-align: top;\n",
       "    }\n",
       "\n",
       "    .dataframe thead th {\n",
       "        text-align: right;\n",
       "    }\n",
       "</style>\n",
       "<table border=\"1\" class=\"dataframe\">\n",
       "  <thead>\n",
       "    <tr style=\"text-align: right;\">\n",
       "      <th></th>\n",
       "      <th>Reviews</th>\n",
       "      <th>SalePrice</th>\n",
       "      <th>PriceCategory</th>\n",
       "    </tr>\n",
       "  </thead>\n",
       "  <tbody>\n",
       "    <tr>\n",
       "      <th>0</th>\n",
       "      <td>['Virtually nothing has gone wrong with my 202...</td>\n",
       "      <td>29000.0</td>\n",
       "      <td>BelowAverage</td>\n",
       "    </tr>\n",
       "    <tr>\n",
       "      <th>1</th>\n",
       "      <td>[\"2018 XTL, 4X4, 302A Package 48000 mi. Other ...</td>\n",
       "      <td>39998.0</td>\n",
       "      <td>AboveAverage</td>\n",
       "    </tr>\n",
       "    <tr>\n",
       "      <th>2</th>\n",
       "      <td>[\"Stranded today. Could not get to work. Somet...</td>\n",
       "      <td>18989.0</td>\n",
       "      <td>Cheap</td>\n",
       "    </tr>\n",
       "    <tr>\n",
       "      <th>3</th>\n",
       "      <td>['Excellent road car, quiet, stable, comfortab...</td>\n",
       "      <td>55975.0</td>\n",
       "      <td>Expensive</td>\n",
       "    </tr>\n",
       "    <tr>\n",
       "      <th>4</th>\n",
       "      <td>['PURCHASED FROM NYE TOYOTA, MY FIRST TACOMA. ...</td>\n",
       "      <td>38900.0</td>\n",
       "      <td>AboveAverage</td>\n",
       "    </tr>\n",
       "  </tbody>\n",
       "</table>\n",
       "</div>"
      ],
      "text/plain": [
       "                                             Reviews  SalePrice PriceCategory\n",
       "0  ['Virtually nothing has gone wrong with my 202...    29000.0  BelowAverage\n",
       "1  [\"2018 XTL, 4X4, 302A Package 48000 mi. Other ...    39998.0  AboveAverage\n",
       "2  [\"Stranded today. Could not get to work. Somet...    18989.0         Cheap\n",
       "3  ['Excellent road car, quiet, stable, comfortab...    55975.0     Expensive\n",
       "4  ['PURCHASED FROM NYE TOYOTA, MY FIRST TACOMA. ...    38900.0  AboveAverage"
      ]
     },
     "execution_count": 17,
     "metadata": {},
     "output_type": "execute_result"
    }
   ],
   "source": [
    "data.head()"
   ]
  },
  {
   "cell_type": "markdown",
   "metadata": {},
   "source": [
    "**Bins seem evenly distributed**"
   ]
  },
  {
   "cell_type": "code",
   "execution_count": 18,
   "metadata": {},
   "outputs": [
    {
     "data": {
      "text/plain": [
       "AboveAverage    2276\n",
       "BelowAverage    2186\n",
       "Average         1923\n",
       "Expensive       1632\n",
       "Cheap           1591\n",
       "Name: PriceCategory, dtype: int64"
      ]
     },
     "execution_count": 18,
     "metadata": {},
     "output_type": "execute_result"
    }
   ],
   "source": [
    "data['PriceCategory'].value_counts()"
   ]
  },
  {
   "cell_type": "markdown",
   "metadata": {},
   "source": [
    "**Grabbing a review**\n",
    "- attempt to clean it\n",
    "- create new column with clean reviews"
   ]
  },
  {
   "cell_type": "code",
   "execution_count": 19,
   "metadata": {},
   "outputs": [],
   "source": [
    "string = df['Reviews'][1]\n"
   ]
  },
  {
   "cell_type": "code",
   "execution_count": 20,
   "metadata": {
    "scrolled": false
   },
   "outputs": [
    {
     "data": {
      "text/plain": [
       "'[\"2018 XTL, 4X4, 302A Package 48000 mi. Other than wheel bearings, the vehicle has been flawless. Lots of room and the 2.7L has pep and is economical to operate. My major complaint is OE running boards, the chrome peels. No issues with the motor or transmission. Only expense other than fluid changes was new front brakes. This vehicle is driven in Northern Ontario and performs remarkably well in snow and rough roads. The 5\\' bed is perfect for our needs of hauling material for our DIY projects. We have hauled up to 3/4 yard of gravel without any difficulty It is the best vehicle I have ever owned.\", \"I bought my truck new on Dec 30th of 2018. I initially loved it. But my first warning sign was the engine was losing oil almost immediately- I set my oil changes for 5,000 miles. By the time I had an oil change it was right at a quart low. I thought it was a fluke and got 10,000 mile oil as I am very busy and it saves time. At 7,500 miles the truck was 2.5 Qts low on oil. I switched to 3,000 mile oil and oil changes then. The engine was also  making a plastic raspy noise whenever I let off the accelerator. Fast forward to this June. At this point Ive had the truck 3.5yrs, 86,000 miles. Never missed an oil change/service. The engine light starts flashing. So I have it towed to a local mechanic thinking it was maybe coil packs. He was stumped. Next have it towed to the Ford dealership. They call me today saying it has multiple cam timing issues. The cost to fix it is $4,700!!!!!  FOUR THOUSAND SEVEN HUNDRED.... The whole reason I invested in a new truck was so that I would have something that would be dependable for many years. Instead, I get a new truck that hasn\\'t even lasted as long as the used trucks I\\'ve bought. I could not be anymore more disappointed and angrier with the quality of this truck. It\\'s a pretty truck, but if you want something dependable, look elsewhere.\", \"Luxury? Check. Utility? Check. \\\\r\\\\nWhat can you say about an $80k truck? Take the body of a workhorse F150 and squeeze in the cabin of a Lincoln. \\\\r\\\\nThe 3.5L turbo Ecoboost has absolutely no issues moving this massive truck around. The 10 speed transmission is smooth to the point that I rarely feel it shift. Even when towing or with the box loaded. \\\\r\\\\nThe cabin is eerily quit and supremely comfortable. The heated, cooled and massage(!) seats make even the longest road trip a pleasant experience. \\\\r\\\\nRead seat passengers will appreciate the heated rear seats, and plenty of usb, 12v and 110v charging options.\\\\r\\\\nI\\'ve put 55k miles on this truck, and the only mechanical issue I\\'ve experienced is a problem with the power running boards not fully extending. \\\\r\\\\nFor a full size pickup, the ride is surprisingly smooth and the included driver assist features will make a lazy driver out of anyone.\\\\r\\\\nIf you want a vehicle with the capabilities of a truck, and the comfort of a luxury sedan you can\\'t go wrong with the F150 Limited.\\\\r\\\\n\"]'"
      ]
     },
     "execution_count": 20,
     "metadata": {},
     "output_type": "execute_result"
    }
   ],
   "source": [
    "string"
   ]
  },
  {
   "cell_type": "code",
   "execution_count": 21,
   "metadata": {},
   "outputs": [],
   "source": [
    "string = re.sub(r'\\\\n', '', string)\n",
    "string = re.sub(r'\\\\r', '', string)\n",
    "string = string.replace('[', '')\n",
    "string = string.replace(']', '')\n",
    "string = string.replace('\"', '')"
   ]
  },
  {
   "cell_type": "code",
   "execution_count": 22,
   "metadata": {
    "scrolled": false
   },
   "outputs": [
    {
     "data": {
      "text/plain": [
       "\"2018 XTL, 4X4, 302A Package 48000 mi. Other than wheel bearings, the vehicle has been flawless. Lots of room and the 2.7L has pep and is economical to operate. My major complaint is OE running boards, the chrome peels. No issues with the motor or transmission. Only expense other than fluid changes was new front brakes. This vehicle is driven in Northern Ontario and performs remarkably well in snow and rough roads. The 5' bed is perfect for our needs of hauling material for our DIY projects. We have hauled up to 3/4 yard of gravel without any difficulty It is the best vehicle I have ever owned., I bought my truck new on Dec 30th of 2018. I initially loved it. But my first warning sign was the engine was losing oil almost immediately- I set my oil changes for 5,000 miles. By the time I had an oil change it was right at a quart low. I thought it was a fluke and got 10,000 mile oil as I am very busy and it saves time. At 7,500 miles the truck was 2.5 Qts low on oil. I switched to 3,000 mile oil and oil changes then. The engine was also  making a plastic raspy noise whenever I let off the accelerator. Fast forward to this June. At this point Ive had the truck 3.5yrs, 86,000 miles. Never missed an oil change/service. The engine light starts flashing. So I have it towed to a local mechanic thinking it was maybe coil packs. He was stumped. Next have it towed to the Ford dealership. They call me today saying it has multiple cam timing issues. The cost to fix it is $4,700!!!!!  FOUR THOUSAND SEVEN HUNDRED.... The whole reason I invested in a new truck was so that I would have something that would be dependable for many years. Instead, I get a new truck that hasn't even lasted as long as the used trucks I've bought. I could not be anymore more disappointed and angrier with the quality of this truck. It's a pretty truck, but if you want something dependable, look elsewhere., Luxury? Check. Utility? Check. What can you say about an $80k truck? Take the body of a workhorse F150 and squeeze in the cabin of a Lincoln. The 3.5L turbo Ecoboost has absolutely no issues moving this massive truck around. The 10 speed transmission is smooth to the point that I rarely feel it shift. Even when towing or with the box loaded. The cabin is eerily quit and supremely comfortable. The heated, cooled and massage(!) seats make even the longest road trip a pleasant experience. Read seat passengers will appreciate the heated rear seats, and plenty of usb, 12v and 110v charging options.I've put 55k miles on this truck, and the only mechanical issue I've experienced is a problem with the power running boards not fully extending. For a full size pickup, the ride is surprisingly smooth and the included driver assist features will make a lazy driver out of anyone.If you want a vehicle with the capabilities of a truck, and the comfort of a luxury sedan you can't go wrong with the F150 Limited.\""
      ]
     },
     "execution_count": 22,
     "metadata": {},
     "output_type": "execute_result"
    }
   ],
   "source": [
    "string"
   ]
  },
  {
   "cell_type": "code",
   "execution_count": 23,
   "metadata": {},
   "outputs": [],
   "source": [
    "def review_cleaner(rev):\n",
    "    clean = re.sub(r'\\\\n', '', rev)\n",
    "    clean = re.sub(r'\\\\r', '', clean)\n",
    "    clean = clean.replace('[', '')\n",
    "    clean = clean.replace(']', '')\n",
    "    clean = clean.replace('\"', '')\n",
    "    clean = clean.replace(\"'\", \"\")\n",
    "    return clean"
   ]
  },
  {
   "cell_type": "code",
   "execution_count": 24,
   "metadata": {},
   "outputs": [
    {
     "data": {
      "text/plain": [
       "\"['It fits my needs for everything I do. The Safety Features ensure that I’m safe and able to get home to my love ones. The only issue I have with it is that it doesn’t have lumbar support, and long drives can be a pain', 'This is a follow-up to my previous review. Today I had to pay the ransom to get my car back from my local Toyota service department. The leaking roof racks were replaced and after a dealership discount of $175 and an alleged Toyota discount of around $366, my portion of the bill was $1,052 PLUS an additional $140 to diagnose the problem. This is a manufacturing defect that should have been paid for in-full by the Toyota Corporation. The dealership did all they could to help but the Toyota Corporation was indifferent. This should not have happened to a 3 1/2 year old car that was largely garage kept and accident free. Lesson learned. This Toyota customer is a one-and-done.', 'Car has met all but one of our needs to date. Very economical to operate. Very nice that Toyota has 2 yr.no maintenance cost. Was disappointed after purchase there was no CD player available. This fact was never mentioned during buying process. I suspect Toyota knew this to be factor and advised sales lot to mention this. This will be a definite point for me to inquire about since we vacation requiring hours of driving and not a fan of channel surfing for the entire trip. But still happy with everything else about the vehicle.']\""
      ]
     },
     "execution_count": 24,
     "metadata": {},
     "output_type": "execute_result"
    }
   ],
   "source": [
    "data['Reviews'][45]"
   ]
  },
  {
   "cell_type": "code",
   "execution_count": 25,
   "metadata": {
    "scrolled": false
   },
   "outputs": [
    {
     "data": {
      "text/plain": [
       "'It fits my needs for everything I do. The Safety Features ensure that I’m safe and able to get home to my love ones. The only issue I have with it is that it doesn’t have lumbar support, and long drives can be a pain, This is a follow-up to my previous review. Today I had to pay the ransom to get my car back from my local Toyota service department. The leaking roof racks were replaced and after a dealership discount of $175 and an alleged Toyota discount of around $366, my portion of the bill was $1,052 PLUS an additional $140 to diagnose the problem. This is a manufacturing defect that should have been paid for in-full by the Toyota Corporation. The dealership did all they could to help but the Toyota Corporation was indifferent. This should not have happened to a 3 1/2 year old car that was largely garage kept and accident free. Lesson learned. This Toyota customer is a one-and-done., Car has met all but one of our needs to date. Very economical to operate. Very nice that Toyota has 2 yr.no maintenance cost. Was disappointed after purchase there was no CD player available. This fact was never mentioned during buying process. I suspect Toyota knew this to be factor and advised sales lot to mention this. This will be a definite point for me to inquire about since we vacation requiring hours of driving and not a fan of channel surfing for the entire trip. But still happy with everything else about the vehicle.'"
      ]
     },
     "execution_count": 25,
     "metadata": {},
     "output_type": "execute_result"
    }
   ],
   "source": [
    "review_cleaner(data['Reviews'][45])"
   ]
  },
  {
   "cell_type": "code",
   "execution_count": 26,
   "metadata": {
    "scrolled": true
   },
   "outputs": [
    {
     "name": "stderr",
     "output_type": "stream",
     "text": [
      "<ipython-input-26-cfc12aaf38a4>:1: SettingWithCopyWarning: \n",
      "A value is trying to be set on a copy of a slice from a DataFrame.\n",
      "Try using .loc[row_indexer,col_indexer] = value instead\n",
      "\n",
      "See the caveats in the documentation: https://pandas.pydata.org/pandas-docs/stable/user_guide/indexing.html#returning-a-view-versus-a-copy\n",
      "  data['CleanReviews'] = data['Reviews'].apply(lambda x: review_cleaner(x))\n"
     ]
    }
   ],
   "source": [
    "data['CleanReviews'] = data['Reviews'].apply(lambda x: review_cleaner(x))"
   ]
  },
  {
   "cell_type": "code",
   "execution_count": 27,
   "metadata": {},
   "outputs": [
    {
     "data": {
      "text/plain": [
       "'The X3 m40i is the best family vehicle. Got a decent deal from CarMax on a lightly used 2019 x3 m40i.The hk sound system sounds terrible unless you figure out how to turn off the exhaust sound that comes through the speakers (leaves little bass balance left for the music), but luckily there are a few tricks (check forums). The vehicle is a blast to drive, yet can carry the whole family and luggage anywhere.I had a few e36 m3s a while back and repairs were reasonable and easy to do a lot of stuff independently, so repair costs (only needed brakes, tires and oil in the past 30k miles) on the new BMWs did come as a bit of a shock, but being proactive helps. The vehicle has been super reliable with no mechanical issues., Love my X3 SDrive 30i, it has a very smooth ride and a very powerful turbo engine, it’s very spacious and has a very nice interior, I like the infotainment and the touchscreen, and you also have a manual control next to the gearshift. I also like the fact that the map on the Nav system is updated from the cloud and not a disk or chip. This is my first BMW and I am very very pleased with it, I previously had a 2013 Lexus LS460L, I loved that car but I thought it was just too big for me being a single man. The X3 is just right for me, Ive lost count of how many BMWs Ive owned, and will never drive anything else.  Ride, comfort, experience, feel, quality, workmanship, amazing engineering, quiet, ... on and on.  They are precision instruments and a joy to drive, even to just the store and back.  Others included 328i, M3, M550i.  All equally unbelievable.'"
      ]
     },
     "execution_count": 27,
     "metadata": {},
     "output_type": "execute_result"
    }
   ],
   "source": [
    "data['CleanReviews'][9]"
   ]
  },
  {
   "cell_type": "markdown",
   "metadata": {},
   "source": [
    "**It works :)**"
   ]
  },
  {
   "cell_type": "code",
   "execution_count": 28,
   "metadata": {},
   "outputs": [
    {
     "data": {
      "text/html": [
       "<div>\n",
       "<style scoped>\n",
       "    .dataframe tbody tr th:only-of-type {\n",
       "        vertical-align: middle;\n",
       "    }\n",
       "\n",
       "    .dataframe tbody tr th {\n",
       "        vertical-align: top;\n",
       "    }\n",
       "\n",
       "    .dataframe thead th {\n",
       "        text-align: right;\n",
       "    }\n",
       "</style>\n",
       "<table border=\"1\" class=\"dataframe\">\n",
       "  <thead>\n",
       "    <tr style=\"text-align: right;\">\n",
       "      <th></th>\n",
       "      <th>Reviews</th>\n",
       "      <th>SalePrice</th>\n",
       "      <th>PriceCategory</th>\n",
       "      <th>CleanReviews</th>\n",
       "    </tr>\n",
       "  </thead>\n",
       "  <tbody>\n",
       "    <tr>\n",
       "      <th>0</th>\n",
       "      <td>['Virtually nothing has gone wrong with my 202...</td>\n",
       "      <td>29000.0</td>\n",
       "      <td>BelowAverage</td>\n",
       "      <td>Virtually nothing has gone wrong with my 2020 ...</td>\n",
       "    </tr>\n",
       "    <tr>\n",
       "      <th>1</th>\n",
       "      <td>[\"2018 XTL, 4X4, 302A Package 48000 mi. Other ...</td>\n",
       "      <td>39998.0</td>\n",
       "      <td>AboveAverage</td>\n",
       "      <td>2018 XTL, 4X4, 302A Package 48000 mi. Other th...</td>\n",
       "    </tr>\n",
       "    <tr>\n",
       "      <th>2</th>\n",
       "      <td>[\"Stranded today. Could not get to work. Somet...</td>\n",
       "      <td>18989.0</td>\n",
       "      <td>Cheap</td>\n",
       "      <td>Stranded today. Could not get to work. Somethi...</td>\n",
       "    </tr>\n",
       "    <tr>\n",
       "      <th>3</th>\n",
       "      <td>['Excellent road car, quiet, stable, comfortab...</td>\n",
       "      <td>55975.0</td>\n",
       "      <td>Expensive</td>\n",
       "      <td>Excellent road car, quiet, stable, comfortable...</td>\n",
       "    </tr>\n",
       "    <tr>\n",
       "      <th>4</th>\n",
       "      <td>['PURCHASED FROM NYE TOYOTA, MY FIRST TACOMA. ...</td>\n",
       "      <td>38900.0</td>\n",
       "      <td>AboveAverage</td>\n",
       "      <td>PURCHASED FROM NYE TOYOTA, MY FIRST TACOMA. LO...</td>\n",
       "    </tr>\n",
       "  </tbody>\n",
       "</table>\n",
       "</div>"
      ],
      "text/plain": [
       "                                             Reviews  SalePrice PriceCategory  \\\n",
       "0  ['Virtually nothing has gone wrong with my 202...    29000.0  BelowAverage   \n",
       "1  [\"2018 XTL, 4X4, 302A Package 48000 mi. Other ...    39998.0  AboveAverage   \n",
       "2  [\"Stranded today. Could not get to work. Somet...    18989.0         Cheap   \n",
       "3  ['Excellent road car, quiet, stable, comfortab...    55975.0     Expensive   \n",
       "4  ['PURCHASED FROM NYE TOYOTA, MY FIRST TACOMA. ...    38900.0  AboveAverage   \n",
       "\n",
       "                                        CleanReviews  \n",
       "0  Virtually nothing has gone wrong with my 2020 ...  \n",
       "1  2018 XTL, 4X4, 302A Package 48000 mi. Other th...  \n",
       "2  Stranded today. Could not get to work. Somethi...  \n",
       "3  Excellent road car, quiet, stable, comfortable...  \n",
       "4  PURCHASED FROM NYE TOYOTA, MY FIRST TACOMA. LO...  "
      ]
     },
     "execution_count": 28,
     "metadata": {},
     "output_type": "execute_result"
    }
   ],
   "source": [
    "data.head()"
   ]
  },
  {
   "cell_type": "markdown",
   "metadata": {},
   "source": [
    "**Save as csv**\n",
    "- This is so we can model in a different notebook"
   ]
  },
  {
   "cell_type": "code",
   "execution_count": 29,
   "metadata": {},
   "outputs": [],
   "source": [
    "#data.to_csv('cleanMVP.csv')"
   ]
  },
  {
   "cell_type": "markdown",
   "metadata": {},
   "source": [
    "**Secondary**\n",
    "- clean the rest of the data"
   ]
  },
  {
   "cell_type": "code",
   "execution_count": null,
   "metadata": {},
   "outputs": [],
   "source": []
  },
  {
   "cell_type": "code",
   "execution_count": null,
   "metadata": {},
   "outputs": [],
   "source": []
  },
  {
   "cell_type": "code",
   "execution_count": null,
   "metadata": {},
   "outputs": [],
   "source": []
  },
  {
   "cell_type": "code",
   "execution_count": null,
   "metadata": {},
   "outputs": [],
   "source": []
  }
 ],
 "metadata": {
  "kernelspec": {
   "display_name": "Python (learn-env)",
   "language": "python",
   "name": "learn-env"
  },
  "language_info": {
   "codemirror_mode": {
    "name": "ipython",
    "version": 3
   },
   "file_extension": ".py",
   "mimetype": "text/x-python",
   "name": "python",
   "nbconvert_exporter": "python",
   "pygments_lexer": "ipython3",
   "version": "3.8.5"
  }
 },
 "nbformat": 4,
 "nbformat_minor": 4
}
