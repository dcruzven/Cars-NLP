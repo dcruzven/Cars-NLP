{
 "cells": [
  {
   "cell_type": "markdown",
   "metadata": {},
   "source": [
    "# Cleaning web-scraped data"
   ]
  },
  {
   "cell_type": "markdown",
   "metadata": {},
   "source": [
    "**Priority**\n",
    "- Clean up reviews\n",
    "- Convert SalePrice to floats\n",
    "- Bin SalePrice for our target variable\n",
    "- Prepare for modeling\n",
    "\n",
    "**Secondary**\n",
    "- Clean the rest of data\n",
    "- Turn Mieage into floats\n",
    "- Split mpg to city and highway"
   ]
  },
  {
   "cell_type": "code",
   "execution_count": 131,
   "metadata": {},
   "outputs": [],
   "source": [
    "# imports\n",
    "import pandas as pd\n",
    "import requests\n",
    "from bs4 import BeautifulSoup\n",
    "import time\n",
    "import random\n",
    "import numpy as np\n",
    "from tqdm.notebook import tqdm\n",
    "import re\n",
    "import math"
   ]
  },
  {
   "cell_type": "code",
   "execution_count": 2,
   "metadata": {},
   "outputs": [],
   "source": [
    "df = pd.read_csv('data/carinfoV2.csv')"
   ]
  },
  {
   "cell_type": "code",
   "execution_count": 3,
   "metadata": {},
   "outputs": [],
   "source": [
    "df = df.drop(columns='Unnamed: 0')"
   ]
  },
  {
   "cell_type": "markdown",
   "metadata": {},
   "source": [
    "**Data is dirty, time to clean**"
   ]
  },
  {
   "cell_type": "code",
   "execution_count": 4,
   "metadata": {
    "scrolled": true
   },
   "outputs": [
    {
     "data": {
      "text/html": [
       "<div>\n",
       "<style scoped>\n",
       "    .dataframe tbody tr th:only-of-type {\n",
       "        vertical-align: middle;\n",
       "    }\n",
       "\n",
       "    .dataframe tbody tr th {\n",
       "        vertical-align: top;\n",
       "    }\n",
       "\n",
       "    .dataframe thead th {\n",
       "        text-align: right;\n",
       "    }\n",
       "</style>\n",
       "<table border=\"1\" class=\"dataframe\">\n",
       "  <thead>\n",
       "    <tr style=\"text-align: right;\">\n",
       "      <th></th>\n",
       "      <th>Model</th>\n",
       "      <th>Reviews</th>\n",
       "      <th>DriveTrain</th>\n",
       "      <th>MPG</th>\n",
       "      <th>FuelType</th>\n",
       "      <th>Transmission</th>\n",
       "      <th>Engine</th>\n",
       "      <th>Mileage</th>\n",
       "      <th>SalePrice</th>\n",
       "    </tr>\n",
       "  </thead>\n",
       "  <tbody>\n",
       "    <tr>\n",
       "      <th>0</th>\n",
       "      <td>['2020 Toyota RAV4 LE']</td>\n",
       "      <td>['Virtually nothing has gone wrong with my 202...</td>\n",
       "      <td>Front-wheel Drive</td>\n",
       "      <td>27–35</td>\n",
       "      <td>Gasoline</td>\n",
       "      <td>8-Speed Automatic</td>\n",
       "      <td>2.5L I4 16V PDI DOHC</td>\n",
       "      <td>53,200 mi.</td>\n",
       "      <td>$29,000</td>\n",
       "    </tr>\n",
       "    <tr>\n",
       "      <th>1</th>\n",
       "      <td>[]</td>\n",
       "      <td>[]</td>\n",
       "      <td>Front-wheel Drive</td>\n",
       "      <td>Electric</td>\n",
       "      <td>Electric</td>\n",
       "      <td>1-Speed Automatic</td>\n",
       "      <td>Electric</td>\n",
       "      <td>62,439 mi.</td>\n",
       "      <td>$18,989</td>\n",
       "    </tr>\n",
       "    <tr>\n",
       "      <th>2</th>\n",
       "      <td>['2016 Volkswagen e-Golf SE']</td>\n",
       "      <td>[\"Stranded today. Could not get to work. Somet...</td>\n",
       "      <td>Rear-wheel Drive</td>\n",
       "      <td>18–26</td>\n",
       "      <td>Gasoline</td>\n",
       "      <td>10-Speed Automatic</td>\n",
       "      <td>3.0L V6 24V GDI DOHC Twin Turbo</td>\n",
       "      <td>22,690 mi.</td>\n",
       "      <td>$55,975</td>\n",
       "    </tr>\n",
       "    <tr>\n",
       "      <th>3</th>\n",
       "      <td>['2020 Lincoln Aviator Reserve RWD']</td>\n",
       "      <td>['Excellent road car, quiet, stable, comfortab...</td>\n",
       "      <td>Four-wheel Drive</td>\n",
       "      <td>18–22</td>\n",
       "      <td>Gasoline</td>\n",
       "      <td>6-Speed Automatic</td>\n",
       "      <td>3.5L V6 24V PDI DOHC</td>\n",
       "      <td>17,854 mi.</td>\n",
       "      <td>$38,900</td>\n",
       "    </tr>\n",
       "    <tr>\n",
       "      <th>4</th>\n",
       "      <td>['2021 Toyota Tacoma TRD Off Road']</td>\n",
       "      <td>['PURCHASED FROM NYE TOYOTA, MY FIRST TACOMA. ...</td>\n",
       "      <td>Front-wheel Drive</td>\n",
       "      <td>28–39</td>\n",
       "      <td>Gasoline</td>\n",
       "      <td>Automatic CVT</td>\n",
       "      <td>2.5L I4 16V GDI DOHC</td>\n",
       "      <td>60,907 mi.</td>\n",
       "      <td>$22,125</td>\n",
       "    </tr>\n",
       "    <tr>\n",
       "      <th>...</th>\n",
       "      <td>...</td>\n",
       "      <td>...</td>\n",
       "      <td>...</td>\n",
       "      <td>...</td>\n",
       "      <td>...</td>\n",
       "      <td>...</td>\n",
       "      <td>...</td>\n",
       "      <td>...</td>\n",
       "      <td>...</td>\n",
       "    </tr>\n",
       "    <tr>\n",
       "      <th>9217</th>\n",
       "      <td>['2022 BMW X5 xDrive40i']</td>\n",
       "      <td>['Only had the X5 for 4 weeks now but so far i...</td>\n",
       "      <td>Four-wheel Drive</td>\n",
       "      <td>18–25</td>\n",
       "      <td>Gasoline</td>\n",
       "      <td>8-Speed Automatic</td>\n",
       "      <td>3.6L V6 24V MPFI DOHC</td>\n",
       "      <td>78,378 mi.</td>\n",
       "      <td>$25,500</td>\n",
       "    </tr>\n",
       "    <tr>\n",
       "      <th>9218</th>\n",
       "      <td>['2019 Toyota Tacoma TRD Off Road']</td>\n",
       "      <td>['When I bought my 2020 Tacoma V6 (3.5L) 4x4 i...</td>\n",
       "      <td>All-wheel Drive</td>\n",
       "      <td>18–25</td>\n",
       "      <td>Gasoline</td>\n",
       "      <td>8-Speed Automatic</td>\n",
       "      <td>3.6L V6 24V MPFI DOHC</td>\n",
       "      <td>30,909 mi.</td>\n",
       "      <td>$35,590</td>\n",
       "    </tr>\n",
       "    <tr>\n",
       "      <th>9219</th>\n",
       "      <td>['2015 INFINITI QX80 Base']</td>\n",
       "      <td>['Everything is great except the rear view cam...</td>\n",
       "      <td>Front-wheel Drive</td>\n",
       "      <td>23–30</td>\n",
       "      <td>Gasoline</td>\n",
       "      <td>6-SPEED A/T</td>\n",
       "      <td>4 Cylinder Engine</td>\n",
       "      <td>30,186 mi.</td>\n",
       "      <td>$24,000</td>\n",
       "    </tr>\n",
       "    <tr>\n",
       "      <th>9220</th>\n",
       "      <td>['2020 Toyota Tundra SR5']</td>\n",
       "      <td>['I have owned smaller SUV\\'s and Trucks for o...</td>\n",
       "      <td>Four-wheel Drive</td>\n",
       "      <td>15–21</td>\n",
       "      <td>Gasoline</td>\n",
       "      <td>8-Speed Automatic</td>\n",
       "      <td>5.7L V8 16V MPFI OHV</td>\n",
       "      <td>22,309 mi.</td>\n",
       "      <td>$71,077</td>\n",
       "    </tr>\n",
       "    <tr>\n",
       "      <th>9221</th>\n",
       "      <td>['2021 Buick Enclave Essence']</td>\n",
       "      <td>['Transmission and brake problems. Transmissio...</td>\n",
       "      <td>Four-wheel Drive</td>\n",
       "      <td>20–27</td>\n",
       "      <td>Gasoline</td>\n",
       "      <td>Automatic CVT</td>\n",
       "      <td>3.5L V6 24V GDI DOHC</td>\n",
       "      <td>9,399 mi.</td>\n",
       "      <td>$34,988</td>\n",
       "    </tr>\n",
       "  </tbody>\n",
       "</table>\n",
       "<p>9222 rows × 9 columns</p>\n",
       "</div>"
      ],
      "text/plain": [
       "                                     Model  \\\n",
       "0                  ['2020 Toyota RAV4 LE']   \n",
       "1                                       []   \n",
       "2            ['2016 Volkswagen e-Golf SE']   \n",
       "3     ['2020 Lincoln Aviator Reserve RWD']   \n",
       "4      ['2021 Toyota Tacoma TRD Off Road']   \n",
       "...                                    ...   \n",
       "9217             ['2022 BMW X5 xDrive40i']   \n",
       "9218   ['2019 Toyota Tacoma TRD Off Road']   \n",
       "9219           ['2015 INFINITI QX80 Base']   \n",
       "9220            ['2020 Toyota Tundra SR5']   \n",
       "9221        ['2021 Buick Enclave Essence']   \n",
       "\n",
       "                                                Reviews           DriveTrain  \\\n",
       "0     ['Virtually nothing has gone wrong with my 202...   Front-wheel Drive    \n",
       "1                                                    []   Front-wheel Drive    \n",
       "2     [\"Stranded today. Could not get to work. Somet...    Rear-wheel Drive    \n",
       "3     ['Excellent road car, quiet, stable, comfortab...    Four-wheel Drive    \n",
       "4     ['PURCHASED FROM NYE TOYOTA, MY FIRST TACOMA. ...   Front-wheel Drive    \n",
       "...                                                 ...                  ...   \n",
       "9217  ['Only had the X5 for 4 weeks now but so far i...    Four-wheel Drive    \n",
       "9218  ['When I bought my 2020 Tacoma V6 (3.5L) 4x4 i...     All-wheel Drive    \n",
       "9219  ['Everything is great except the rear view cam...   Front-wheel Drive    \n",
       "9220  ['I have owned smaller SUV\\'s and Trucks for o...    Four-wheel Drive    \n",
       "9221  ['Transmission and brake problems. Transmissio...    Four-wheel Drive    \n",
       "\n",
       "            MPG   FuelType        Transmission  \\\n",
       "0         27–35  Gasoline    8-Speed Automatic   \n",
       "1     Electric   Electric    1-Speed Automatic   \n",
       "2         18–26  Gasoline   10-Speed Automatic   \n",
       "3         18–22  Gasoline    6-Speed Automatic   \n",
       "4         28–39  Gasoline        Automatic CVT   \n",
       "...         ...        ...                 ...   \n",
       "9217      18–25  Gasoline    8-Speed Automatic   \n",
       "9218      18–25  Gasoline    8-Speed Automatic   \n",
       "9219      23–30  Gasoline          6-SPEED A/T   \n",
       "9220      15–21  Gasoline    8-Speed Automatic   \n",
       "9221      20–27  Gasoline        Automatic CVT   \n",
       "\n",
       "                               Engine       Mileage SalePrice  \n",
       "0                2.5L I4 16V PDI DOHC   53,200 mi.    $29,000  \n",
       "1                            Electric   62,439 mi.    $18,989  \n",
       "2     3.0L V6 24V GDI DOHC Twin Turbo   22,690 mi.    $55,975  \n",
       "3                3.5L V6 24V PDI DOHC   17,854 mi.    $38,900  \n",
       "4                2.5L I4 16V GDI DOHC   60,907 mi.    $22,125  \n",
       "...                               ...           ...       ...  \n",
       "9217            3.6L V6 24V MPFI DOHC   78,378 mi.    $25,500  \n",
       "9218            3.6L V6 24V MPFI DOHC   30,909 mi.    $35,590  \n",
       "9219                4 Cylinder Engine   30,186 mi.    $24,000  \n",
       "9220             5.7L V8 16V MPFI OHV   22,309 mi.    $71,077  \n",
       "9221             3.5L V6 24V GDI DOHC    9,399 mi.    $34,988  \n",
       "\n",
       "[9222 rows x 9 columns]"
      ]
     },
     "execution_count": 4,
     "metadata": {},
     "output_type": "execute_result"
    }
   ],
   "source": [
    "df"
   ]
  },
  {
   "cell_type": "markdown",
   "metadata": {},
   "source": [
    "**looking through each column and getting rid of blanks**\n",
    "- manually looking up value counts and checking which character represents a 'blank'"
   ]
  },
  {
   "cell_type": "code",
   "execution_count": 5,
   "metadata": {},
   "outputs": [],
   "source": [
    "test = df[df['Model'] != '[]']"
   ]
  },
  {
   "cell_type": "code",
   "execution_count": 6,
   "metadata": {},
   "outputs": [],
   "source": [
    "test2 = test[test['Reviews'] != '[]']"
   ]
  },
  {
   "cell_type": "code",
   "execution_count": 7,
   "metadata": {},
   "outputs": [
    {
     "data": {
      "text/plain": [
       " Front-wheel Drive     3661\n",
       " All-wheel Drive       1815\n",
       " Four-wheel Drive      1634\n",
       " Rear-wheel Drive      1414\n",
       " FWD                     32\n",
       " –                       32\n",
       " AWD                      6\n",
       " RWD                      3\n",
       " 4WD                      1\n",
       "Name: DriveTrain, dtype: int64"
      ]
     },
     "execution_count": 7,
     "metadata": {},
     "output_type": "execute_result"
    }
   ],
   "source": [
    "test2['DriveTrain'].value_counts()"
   ]
  },
  {
   "cell_type": "code",
   "execution_count": 8,
   "metadata": {},
   "outputs": [],
   "source": [
    "test3 = test2[test2['DriveTrain'] != ' – ']"
   ]
  },
  {
   "cell_type": "code",
   "execution_count": 9,
   "metadata": {
    "scrolled": false
   },
   "outputs": [],
   "source": [
    "test4 = test3[test3['MPG'] != ' – ']"
   ]
  },
  {
   "cell_type": "code",
   "execution_count": 10,
   "metadata": {},
   "outputs": [],
   "source": [
    "test5 = test4[test4['FuelType'] != '– ']"
   ]
  },
  {
   "cell_type": "code",
   "execution_count": 11,
   "metadata": {
    "scrolled": false
   },
   "outputs": [],
   "source": [
    "test6 = test5[test5['Transmission'] != '–']"
   ]
  },
  {
   "cell_type": "code",
   "execution_count": 12,
   "metadata": {
    "scrolled": false
   },
   "outputs": [],
   "source": [
    "test7 = test6[test6['Engine'] != '–']"
   ]
  },
  {
   "cell_type": "code",
   "execution_count": 13,
   "metadata": {
    "scrolled": true
   },
   "outputs": [
    {
     "data": {
      "text/plain": [
       "['After 9800 miles and being towed 5 times, i would not recommend this truck for reliability for anything. I contacted Ford after being towed the 3rd time, and they said they couldn’t help me to resolve the issue, that i needed to take it for service. 3 fuel pumps later, I traded it for a chevy… couldn’t be happier. Nothing worse than be stranded on 2 lane highways between Oklahoma and Montana and feeling hopeless with little cell phone service. Don’t buy, they don’t stand behind their product ', 'Love my2019 f-150  sport truck Nice power. For a 2.7. Twin turbo. This truck will move  nice gas mileage I get 20 city. About 24 high way.  It Drives.nice  handles well. For a big truck. No wonder it’s the  Best selling truck the last 40 years   ', \"Best truck out there! Plenty of room for the grandkids seats and 4 people. Also, plenty of room in the bed for working/hauling materials. And all of this can happen at the same time. All of the HP you'll need for anything. Recently hauled a load of heavy furniture and other household stuff over Monteagle mountain and I was passing cars going up the mountain!! POWERFUL!!\"]                                                                                                                                                                                                                                                                                                                                                                                                                                                                                                                                                                                                                                                                                                                                                                                                                                                                                                                                                                                                                                                                                                                                                                                                                                                                                                                                                                                                                                                                                                                                                                                                                                                                                                                                                                                                                                                                                               65\n",
       "['For such a good truck it sad that Ford was so cheap when they made the slide plate. The slide plate is made out of cardboard. ', 'F150 Crew Cab STX package, 2WD, with Ecoboost 2.7. WOW! Super impressed with the fuel economy and power on this pickup. Bought it new, it was a great buy. A lot of space in the interior. Big screen display on the radio. Interior is easy to clean, the fabric on the seats is sporty. Rides smooth for being a pickup and I would say I averaged about 19 to 20 miles per gallon on the city. Definitely recommend this truck, I would definitely lean towards the ECOBOOST engine. The 2.7 is plenty of power and runs awesome. If you want an extra kick go with the 3.5, if your pulling a trailer around. Also the app for FORD on the phone was great. It gave you all the basic info on the truck anywhere. Parked location, odometer, fuel, tire pressure and a lot more. Great buy! ', 'Safe, Comfy, Saves value, Cheap maintenance\\r\\nI love this car.\\r\\nPowerful with less gas but you should know how to drive a V6 truck, never go back to Jeep after Ford']                                                                                                                                                                                                                                                                                                                                                                                                                                                                                                                                                                                                                                                                                                                                                                                                                                                                                                                                                                                                                                                                                                                                                                                                                                                                                                                                                                                                                                                                                                                                                                                                                                                                                                                                                                                                                                                                                                                                                     64\n",
       "[\"2018 XTL, 4X4, 302A Package 48000 mi. Other than wheel bearings, the vehicle has been flawless. Lots of room and the 2.7L has pep and is economical to operate. My major complaint is OE running boards, the chrome peels. No issues with the motor or transmission. Only expense other than fluid changes was new front brakes. This vehicle is driven in Northern Ontario and performs remarkably well in snow and rough roads. The 5' bed is perfect for our needs of hauling material for our DIY projects. We have hauled up to 3/4 yard of gravel without any difficulty It is the best vehicle I have ever owned.\", \"I bought my truck new on Dec 30th of 2018. I initially loved it. But my first warning sign was the engine was losing oil almost immediately- I set my oil changes for 5,000 miles. By the time I had an oil change it was right at a quart low. I thought it was a fluke and got 10,000 mile oil as I am very busy and it saves time. At 7,500 miles the truck was 2.5 Qts low on oil. I switched to 3,000 mile oil and oil changes then. The engine was also  making a plastic raspy noise whenever I let off the accelerator. Fast forward to this June. At this point Ive had the truck 3.5yrs, 86,000 miles. Never missed an oil change/service. The engine light starts flashing. So I have it towed to a local mechanic thinking it was maybe coil packs. He was stumped. Next have it towed to the Ford dealership. They call me today saying it has multiple cam timing issues. The cost to fix it is $4,700!!!!!  FOUR THOUSAND SEVEN HUNDRED.... The whole reason I invested in a new truck was so that I would have something that would be dependable for many years. Instead, I get a new truck that hasn't even lasted as long as the used trucks I've bought. I could not be anymore more disappointed and angrier with the quality of this truck. It's a pretty truck, but if you want something dependable, look elsewhere.\", \"Luxury? Check. Utility? Check. \\r\\nWhat can you say about an $80k truck? Take the body of a workhorse F150 and squeeze in the cabin of a Lincoln. \\r\\nThe 3.5L turbo Ecoboost has absolutely no issues moving this massive truck around. The 10 speed transmission is smooth to the point that I rarely feel it shift. Even when towing or with the box loaded. \\r\\nThe cabin is eerily quit and supremely comfortable. The heated, cooled and massage(!) seats make even the longest road trip a pleasant experience. \\r\\nRead seat passengers will appreciate the heated rear seats, and plenty of usb, 12v and 110v charging options.\\r\\nI've put 55k miles on this truck, and the only mechanical issue I've experienced is a problem with the power running boards not fully extending. \\r\\nFor a full size pickup, the ride is surprisingly smooth and the included driver assist features will make a lazy driver out of anyone.\\r\\nIf you want a vehicle with the capabilities of a truck, and the comfort of a luxury sedan you can't go wrong with the F150 Limited.\\r\\n\"]    54\n",
       "[\"This is a great all-around truck that blends luxury features with a solid truck. With coil suspension on all wheels, it makes for a very soft and comfortable ride, while being able to tow anything you can throw it's way. \", \"Love my truck, interior and exterior. Would not give up the suspension, and comfortable ride.  Yes with gas prices now it does take more $$ to fill up but it's still  a better ride than any other car I have owned. \", 'After owning 13 previous Chevy and GMC 1500 and 2500 pickups, I decided to purchase a 21 1500 RAM Laramie. I absolutely love the truck from the quiet and luxurious interior to the rugged exterior styling. The truck does everything I need it too and more!']                                                                                                                                                                                                                                                                                                                                                                                                                                                                                                                                                                                                                                                                                                                                                                                                                                                                                                                                                                                                                                                                                                                                                                                                                                                                                                                                                                                                                                                                                                                                                                                                                                                                                                                                                                                                                                                                                                                                                                                                                                                                                                                                                                                                                                                                                                                                         53\n",
       "['I love everything about this car. Everything is exactly as\\r\\nThey claim the car is. Buy one you won’t be sorry. \\r\\nYou don’t have to wait for a new one—a used one is just\\r\\nas good, even better. ', 'Car rides very comfortable.  Nice design and detail.  Very happy with this car.  Would buy again, but realized I didn’t get everything I wanted on the car.', \"I wanted to buy this car when I was in China. I bought a second-hand car in The IDEAL AUTO. Except for the ugly center console, the car's power and ride comfort are all right.\"]                                                                                                                                                                                                                                                                                                                                                                                                                                                                                                                                                                                                                                                                                                                                                                                                                                                                                                                                                                                                                                                                                                                                                                                                                                                                                                                                                                                                                                                                                                                                                                                                                                                                                                                                                                                                                                                                                                                                                                                                                                                                                                                                                                                                                                                                                                                                                                                                                                                                                                          51\n",
       "                                                                                                                                                                                                                                                                                                                                                                                                                                                                                                                                                                                                                                                                                                                                                                                                                                                                                                                                                                                                                                                                                                                                                                                                                                                                                                                                                                                                                                                                                                                                                                                                                                                                                                                                                                                                                                                                                                                                                                                                                                                                                                                                                                                                                                                                                                                                                                                                                                                                                                                                                                                                                                                                                                                                                                                                                                                                                                                                                                                                                                                                      ..\n",
       "['Overall great looking vehicle. The car met all my needs. The ride is smooth, it has low mileage, spacious interior especially in the back, and it came with all the bells and whistles.', \"The city gas-mileage isn't great (around 14 mpg, 28 mpg on the highway) but it's like a rocket-ship & DJ-club on wheels!  I drive it, it transports me. It's a sexy car!!\", 'This M3 BMW 750i Sport package vehicle is one of the most reliable car I owned it runs very well with a lot of power and luxury ride also. Has plenty of legroom, sound system is clean and make the ride relaxing. Compared to other vehicle this is great and will recommend it to anyone.']                                                                                                                                                                                                                                                                                                                                                                                                                                                                                                                                                                                                                                                                                                                                                                                                                                                                                                                                                                                                                                                                                                                                                                                                                                                                                                                                                                                                                                                                                                                                                                                                                                                                                                                                                                                                                                                                                                                                                                                                                                                                                                                                                                                                                                                                                                                                                                                               1\n",
       "[\"Only have 1000 miles on the car.  Gas estimates are way off the EPA average about 18.5 mpg but does use regular gas.  Have all wheel drive with 2.7 engine and is pretty zippy in sport mode but gets worse mileage. Is doggy in regular drive mode.  Transmission is a bit clunky paddle shifting through the gears with 2nd & 3rd almost identical.  Would have done better to add an overdrive gear to help mileage. Interior has very nice plush features and all the electronics are pretty much state of the art.  Plus it's American/Mexico so Geopolitical supply chain is less of a potential problem.\"]                                                                                                                                                                                                                                                                                                                                                                                                                                                                                                                                                                                                                                                                                                                                                                                                                                                                                                                                                                                                                                                                                                                                                                                                                                                                                                                                                                                                                                                                                                                                                                                                                                                                                                                                                                                                                                                                                                                                                                                                                                                                                                                                                                                                                                                                                                                                                                                                                                                    1\n",
       "['Excellent quality of fit and finish everywhere.  Excellent handling for a crossover.  M seats and adjustments are outstanding.  Driving this X2 feels like a much smaller vehicle than it is -- which is a compliment to BMW excellence.', 'This car is way more than I expected. It has all the bells and whistles. I love the color; interior and exterior. It is extremely FAST, chic and stylish!']                                                                                                                                                                                                                                                                                                                                                                                                                                                                                                                                                                                                                                                                                                                                                                                                                                                                                                                                                                                                                                                                                                                                                                                                                                                                                                                                                                                                                                                                                                                                                                                                                                                                                                                                                                                                                                                                                                                                                                                                                                                                                                                                                                                                                                                                                                                                                                                                                                                                                                                                                                                                                                                              1\n",
       "['Very comfortable and reliable car. Great for road trips or around town. comfortable to drive and grab gas mileage. one of the best cars I have owned.', 'Love the way it drives and no problems whatsoever.  Owned it for 3 years.  Very comfortable and great in snow with cold weather package for heated steering wheel, etc.  Great ride!', 'great car these guys tried to charge you prep fee for 1200 and never did work on car every light came on after i pulled off lot i test drove it with no tags']                                                                                                                                                                                                                                                                                                                                                                                                                                                                                                                                                                                                                                                                                                                                                                                                                                                                                                                                                                                                                                                                                                                                                                                                                                                                                                                                                                                                                                                                                                                                                                                                                                                                                                                                                                                                                                                                                                                                                                                                                                                                                                                                                                                                                                                                                                                                                                                                                                                                                                                                                      1\n",
       "['My 2002 Mercedes Benz C240 has been the greatest car I have ever owned. Reliability, economy, robust performance, & safety with the gift of its beauty has made this German luxury car my my best friend. Always running like it was new & getting me safely to where ever I had to travel to with FIRST RATE CLASS is the beauty that only Mercedes Benz has designed. I always got bored with my Asian cars & had no respect for those cars....but My Mercedes Benz C240 always made me proud to own the car when I pulled up in front of friends while saving me thousands of dollars because it never broke down. They are the best vehicles made in the world.', 'This is reliable car, in good shape, good for all actives, such as cruising, commuting, or just job riding.   This car will get you were you need to go', 'These awesome & superior German cars are the love of Europe, as I will never understand why people buy cheap & flimsy Asian cars that are over-priced, boring, disposable, & dangerous in accidents. This car is reliable, hardy, economical, & extremely efficient with fuel. The leather is through the roof comfortable & the style is unbeatable. It is a Mercedes & that says it all. Fake propaganda says they are expensive to repair which is the worst lie perpetrated in the automotive world.']                                                                                                                                                                                                                                                                                                                                                                                                                                                                                                                                                                                                                                                                                                                                                                                                                                                                                                                                                                                                                                                                                                                                                                                                                                                                                                                                                                                                                                                                                                                                                                                                                                                                                                                         1\n",
       "Name: Reviews, Length: 1899, dtype: int64"
      ]
     },
     "execution_count": 13,
     "metadata": {},
     "output_type": "execute_result"
    }
   ],
   "source": [
    "test7['Reviews'].value_counts()"
   ]
  },
  {
   "cell_type": "code",
   "execution_count": 14,
   "metadata": {},
   "outputs": [
    {
     "data": {
      "text/plain": [
       "295"
      ]
     },
     "execution_count": 14,
     "metadata": {},
     "output_type": "execute_result"
    }
   ],
   "source": [
    "len(test) - len(test7)"
   ]
  },
  {
   "cell_type": "markdown",
   "metadata": {},
   "source": [
    "lost 295 rows for blanks... so far"
   ]
  },
  {
   "cell_type": "markdown",
   "metadata": {},
   "source": [
    "**Re-naming**"
   ]
  },
  {
   "cell_type": "code",
   "execution_count": 15,
   "metadata": {},
   "outputs": [],
   "source": [
    "data = test7"
   ]
  },
  {
   "cell_type": "markdown",
   "metadata": {},
   "source": [
    "**Only ~1899 unique reviews, okay for this project**\n",
    "- Would like to grab more unique reviews in the future"
   ]
  },
  {
   "cell_type": "code",
   "execution_count": 16,
   "metadata": {},
   "outputs": [],
   "source": [
    "data  = data.reset_index(drop=True)"
   ]
  },
  {
   "cell_type": "code",
   "execution_count": 17,
   "metadata": {},
   "outputs": [
    {
     "data": {
      "text/html": [
       "<div>\n",
       "<style scoped>\n",
       "    .dataframe tbody tr th:only-of-type {\n",
       "        vertical-align: middle;\n",
       "    }\n",
       "\n",
       "    .dataframe tbody tr th {\n",
       "        vertical-align: top;\n",
       "    }\n",
       "\n",
       "    .dataframe thead th {\n",
       "        text-align: right;\n",
       "    }\n",
       "</style>\n",
       "<table border=\"1\" class=\"dataframe\">\n",
       "  <thead>\n",
       "    <tr style=\"text-align: right;\">\n",
       "      <th></th>\n",
       "      <th>Model</th>\n",
       "      <th>Reviews</th>\n",
       "      <th>DriveTrain</th>\n",
       "      <th>MPG</th>\n",
       "      <th>FuelType</th>\n",
       "      <th>Transmission</th>\n",
       "      <th>Engine</th>\n",
       "      <th>Mileage</th>\n",
       "      <th>SalePrice</th>\n",
       "    </tr>\n",
       "  </thead>\n",
       "  <tbody>\n",
       "    <tr>\n",
       "      <th>0</th>\n",
       "      <td>['2020 Toyota RAV4 LE']</td>\n",
       "      <td>['Virtually nothing has gone wrong with my 202...</td>\n",
       "      <td>Front-wheel Drive</td>\n",
       "      <td>27–35</td>\n",
       "      <td>Gasoline</td>\n",
       "      <td>8-Speed Automatic</td>\n",
       "      <td>2.5L I4 16V PDI DOHC</td>\n",
       "      <td>53,200 mi.</td>\n",
       "      <td>$29,000</td>\n",
       "    </tr>\n",
       "    <tr>\n",
       "      <th>1</th>\n",
       "      <td>['2016 Volkswagen e-Golf SE']</td>\n",
       "      <td>[\"Stranded today. Could not get to work. Somet...</td>\n",
       "      <td>Rear-wheel Drive</td>\n",
       "      <td>18–26</td>\n",
       "      <td>Gasoline</td>\n",
       "      <td>10-Speed Automatic</td>\n",
       "      <td>3.0L V6 24V GDI DOHC Twin Turbo</td>\n",
       "      <td>22,690 mi.</td>\n",
       "      <td>$55,975</td>\n",
       "    </tr>\n",
       "    <tr>\n",
       "      <th>2</th>\n",
       "      <td>['2020 Lincoln Aviator Reserve RWD']</td>\n",
       "      <td>['Excellent road car, quiet, stable, comfortab...</td>\n",
       "      <td>Four-wheel Drive</td>\n",
       "      <td>18–22</td>\n",
       "      <td>Gasoline</td>\n",
       "      <td>6-Speed Automatic</td>\n",
       "      <td>3.5L V6 24V PDI DOHC</td>\n",
       "      <td>17,854 mi.</td>\n",
       "      <td>$38,900</td>\n",
       "    </tr>\n",
       "    <tr>\n",
       "      <th>3</th>\n",
       "      <td>['2021 Toyota Tacoma TRD Off Road']</td>\n",
       "      <td>['PURCHASED FROM NYE TOYOTA, MY FIRST TACOMA. ...</td>\n",
       "      <td>Front-wheel Drive</td>\n",
       "      <td>28–39</td>\n",
       "      <td>Gasoline</td>\n",
       "      <td>Automatic CVT</td>\n",
       "      <td>2.5L I4 16V GDI DOHC</td>\n",
       "      <td>60,907 mi.</td>\n",
       "      <td>$22,125</td>\n",
       "    </tr>\n",
       "    <tr>\n",
       "      <th>4</th>\n",
       "      <td>['2020 Nissan Altima 2.5 S']</td>\n",
       "      <td>['I’ve own a 2020 Altima (under 30k miles) for...</td>\n",
       "      <td>Front-wheel Drive</td>\n",
       "      <td>24–32</td>\n",
       "      <td>Gasoline</td>\n",
       "      <td>6-Speed Automatic</td>\n",
       "      <td>2.4L I4 16V GDI DOHC</td>\n",
       "      <td>41,614 mi.</td>\n",
       "      <td>$23,946</td>\n",
       "    </tr>\n",
       "    <tr>\n",
       "      <th>...</th>\n",
       "      <td>...</td>\n",
       "      <td>...</td>\n",
       "      <td>...</td>\n",
       "      <td>...</td>\n",
       "      <td>...</td>\n",
       "      <td>...</td>\n",
       "      <td>...</td>\n",
       "      <td>...</td>\n",
       "      <td>...</td>\n",
       "    </tr>\n",
       "    <tr>\n",
       "      <th>8476</th>\n",
       "      <td>['2022 BMW X5 xDrive40i']</td>\n",
       "      <td>['Only had the X5 for 4 weeks now but so far i...</td>\n",
       "      <td>Four-wheel Drive</td>\n",
       "      <td>18–25</td>\n",
       "      <td>Gasoline</td>\n",
       "      <td>8-Speed Automatic</td>\n",
       "      <td>3.6L V6 24V MPFI DOHC</td>\n",
       "      <td>78,378 mi.</td>\n",
       "      <td>$25,500</td>\n",
       "    </tr>\n",
       "    <tr>\n",
       "      <th>8477</th>\n",
       "      <td>['2019 Toyota Tacoma TRD Off Road']</td>\n",
       "      <td>['When I bought my 2020 Tacoma V6 (3.5L) 4x4 i...</td>\n",
       "      <td>All-wheel Drive</td>\n",
       "      <td>18–25</td>\n",
       "      <td>Gasoline</td>\n",
       "      <td>8-Speed Automatic</td>\n",
       "      <td>3.6L V6 24V MPFI DOHC</td>\n",
       "      <td>30,909 mi.</td>\n",
       "      <td>$35,590</td>\n",
       "    </tr>\n",
       "    <tr>\n",
       "      <th>8478</th>\n",
       "      <td>['2015 INFINITI QX80 Base']</td>\n",
       "      <td>['Everything is great except the rear view cam...</td>\n",
       "      <td>Front-wheel Drive</td>\n",
       "      <td>23–30</td>\n",
       "      <td>Gasoline</td>\n",
       "      <td>6-SPEED A/T</td>\n",
       "      <td>4 Cylinder Engine</td>\n",
       "      <td>30,186 mi.</td>\n",
       "      <td>$24,000</td>\n",
       "    </tr>\n",
       "    <tr>\n",
       "      <th>8479</th>\n",
       "      <td>['2020 Toyota Tundra SR5']</td>\n",
       "      <td>['I have owned smaller SUV\\'s and Trucks for o...</td>\n",
       "      <td>Four-wheel Drive</td>\n",
       "      <td>15–21</td>\n",
       "      <td>Gasoline</td>\n",
       "      <td>8-Speed Automatic</td>\n",
       "      <td>5.7L V8 16V MPFI OHV</td>\n",
       "      <td>22,309 mi.</td>\n",
       "      <td>$71,077</td>\n",
       "    </tr>\n",
       "    <tr>\n",
       "      <th>8480</th>\n",
       "      <td>['2021 Buick Enclave Essence']</td>\n",
       "      <td>['Transmission and brake problems. Transmissio...</td>\n",
       "      <td>Four-wheel Drive</td>\n",
       "      <td>20–27</td>\n",
       "      <td>Gasoline</td>\n",
       "      <td>Automatic CVT</td>\n",
       "      <td>3.5L V6 24V GDI DOHC</td>\n",
       "      <td>9,399 mi.</td>\n",
       "      <td>$34,988</td>\n",
       "    </tr>\n",
       "  </tbody>\n",
       "</table>\n",
       "<p>8481 rows × 9 columns</p>\n",
       "</div>"
      ],
      "text/plain": [
       "                                     Model  \\\n",
       "0                  ['2020 Toyota RAV4 LE']   \n",
       "1            ['2016 Volkswagen e-Golf SE']   \n",
       "2     ['2020 Lincoln Aviator Reserve RWD']   \n",
       "3      ['2021 Toyota Tacoma TRD Off Road']   \n",
       "4             ['2020 Nissan Altima 2.5 S']   \n",
       "...                                    ...   \n",
       "8476             ['2022 BMW X5 xDrive40i']   \n",
       "8477   ['2019 Toyota Tacoma TRD Off Road']   \n",
       "8478           ['2015 INFINITI QX80 Base']   \n",
       "8479            ['2020 Toyota Tundra SR5']   \n",
       "8480        ['2021 Buick Enclave Essence']   \n",
       "\n",
       "                                                Reviews           DriveTrain  \\\n",
       "0     ['Virtually nothing has gone wrong with my 202...   Front-wheel Drive    \n",
       "1     [\"Stranded today. Could not get to work. Somet...    Rear-wheel Drive    \n",
       "2     ['Excellent road car, quiet, stable, comfortab...    Four-wheel Drive    \n",
       "3     ['PURCHASED FROM NYE TOYOTA, MY FIRST TACOMA. ...   Front-wheel Drive    \n",
       "4     ['I’ve own a 2020 Altima (under 30k miles) for...   Front-wheel Drive    \n",
       "...                                                 ...                  ...   \n",
       "8476  ['Only had the X5 for 4 weeks now but so far i...    Four-wheel Drive    \n",
       "8477  ['When I bought my 2020 Tacoma V6 (3.5L) 4x4 i...     All-wheel Drive    \n",
       "8478  ['Everything is great except the rear view cam...   Front-wheel Drive    \n",
       "8479  ['I have owned smaller SUV\\'s and Trucks for o...    Four-wheel Drive    \n",
       "8480  ['Transmission and brake problems. Transmissio...    Four-wheel Drive    \n",
       "\n",
       "        MPG   FuelType        Transmission                           Engine  \\\n",
       "0     27–35  Gasoline    8-Speed Automatic             2.5L I4 16V PDI DOHC   \n",
       "1     18–26  Gasoline   10-Speed Automatic  3.0L V6 24V GDI DOHC Twin Turbo   \n",
       "2     18–22  Gasoline    6-Speed Automatic             3.5L V6 24V PDI DOHC   \n",
       "3     28–39  Gasoline        Automatic CVT             2.5L I4 16V GDI DOHC   \n",
       "4     24–32  Gasoline    6-Speed Automatic             2.4L I4 16V GDI DOHC   \n",
       "...     ...        ...                 ...                              ...   \n",
       "8476  18–25  Gasoline    8-Speed Automatic            3.6L V6 24V MPFI DOHC   \n",
       "8477  18–25  Gasoline    8-Speed Automatic            3.6L V6 24V MPFI DOHC   \n",
       "8478  23–30  Gasoline          6-SPEED A/T                4 Cylinder Engine   \n",
       "8479  15–21  Gasoline    8-Speed Automatic             5.7L V8 16V MPFI OHV   \n",
       "8480  20–27  Gasoline        Automatic CVT             3.5L V6 24V GDI DOHC   \n",
       "\n",
       "           Mileage SalePrice  \n",
       "0      53,200 mi.    $29,000  \n",
       "1      22,690 mi.    $55,975  \n",
       "2      17,854 mi.    $38,900  \n",
       "3      60,907 mi.    $22,125  \n",
       "4      41,614 mi.    $23,946  \n",
       "...            ...       ...  \n",
       "8476   78,378 mi.    $25,500  \n",
       "8477   30,909 mi.    $35,590  \n",
       "8478   30,186 mi.    $24,000  \n",
       "8479   22,309 mi.    $71,077  \n",
       "8480    9,399 mi.    $34,988  \n",
       "\n",
       "[8481 rows x 9 columns]"
      ]
     },
     "execution_count": 17,
     "metadata": {},
     "output_type": "execute_result"
    }
   ],
   "source": [
    "data"
   ]
  },
  {
   "cell_type": "code",
   "execution_count": 18,
   "metadata": {
    "scrolled": true
   },
   "outputs": [
    {
     "data": {
      "text/plain": [
       "['After 9800 miles and being towed 5 times, i would not recommend this truck for reliability for anything. I contacted Ford after being towed the 3rd time, and they said they couldn’t help me to resolve the issue, that i needed to take it for service. 3 fuel pumps later, I traded it for a chevy… couldn’t be happier. Nothing worse than be stranded on 2 lane highways between Oklahoma and Montana and feeling hopeless with little cell phone service. Don’t buy, they don’t stand behind their product ', 'Love my2019 f-150  sport truck Nice power. For a 2.7. Twin turbo. This truck will move  nice gas mileage I get 20 city. About 24 high way.  It Drives.nice  handles well. For a big truck. No wonder it’s the  Best selling truck the last 40 years   ', \"Best truck out there! Plenty of room for the grandkids seats and 4 people. Also, plenty of room in the bed for working/hauling materials. And all of this can happen at the same time. All of the HP you'll need for anything. Recently hauled a load of heavy furniture and other household stuff over Monteagle mountain and I was passing cars going up the mountain!! POWERFUL!!\"]                                                                                                                                                                                                                                                                                                                                                                                                                                                                                                                                                                                                                                                                                                                                                                                                                                                                                                                                                                                                                                                                                                                                                                                                                                                                                                                                                                                                                                                                                                                                                                                                                                                                                                                                                                                                                                                                                               65\n",
       "['For such a good truck it sad that Ford was so cheap when they made the slide plate. The slide plate is made out of cardboard. ', 'F150 Crew Cab STX package, 2WD, with Ecoboost 2.7. WOW! Super impressed with the fuel economy and power on this pickup. Bought it new, it was a great buy. A lot of space in the interior. Big screen display on the radio. Interior is easy to clean, the fabric on the seats is sporty. Rides smooth for being a pickup and I would say I averaged about 19 to 20 miles per gallon on the city. Definitely recommend this truck, I would definitely lean towards the ECOBOOST engine. The 2.7 is plenty of power and runs awesome. If you want an extra kick go with the 3.5, if your pulling a trailer around. Also the app for FORD on the phone was great. It gave you all the basic info on the truck anywhere. Parked location, odometer, fuel, tire pressure and a lot more. Great buy! ', 'Safe, Comfy, Saves value, Cheap maintenance\\r\\nI love this car.\\r\\nPowerful with less gas but you should know how to drive a V6 truck, never go back to Jeep after Ford']                                                                                                                                                                                                                                                                                                                                                                                                                                                                                                                                                                                                                                                                                                                                                                                                                                                                                                                                                                                                                                                                                                                                                                                                                                                                                                                                                                                                                                                                                                                                                                                                                                                                                                                                                                                                                                                                                                                                                     64\n",
       "[\"2018 XTL, 4X4, 302A Package 48000 mi. Other than wheel bearings, the vehicle has been flawless. Lots of room and the 2.7L has pep and is economical to operate. My major complaint is OE running boards, the chrome peels. No issues with the motor or transmission. Only expense other than fluid changes was new front brakes. This vehicle is driven in Northern Ontario and performs remarkably well in snow and rough roads. The 5' bed is perfect for our needs of hauling material for our DIY projects. We have hauled up to 3/4 yard of gravel without any difficulty It is the best vehicle I have ever owned.\", \"I bought my truck new on Dec 30th of 2018. I initially loved it. But my first warning sign was the engine was losing oil almost immediately- I set my oil changes for 5,000 miles. By the time I had an oil change it was right at a quart low. I thought it was a fluke and got 10,000 mile oil as I am very busy and it saves time. At 7,500 miles the truck was 2.5 Qts low on oil. I switched to 3,000 mile oil and oil changes then. The engine was also  making a plastic raspy noise whenever I let off the accelerator. Fast forward to this June. At this point Ive had the truck 3.5yrs, 86,000 miles. Never missed an oil change/service. The engine light starts flashing. So I have it towed to a local mechanic thinking it was maybe coil packs. He was stumped. Next have it towed to the Ford dealership. They call me today saying it has multiple cam timing issues. The cost to fix it is $4,700!!!!!  FOUR THOUSAND SEVEN HUNDRED.... The whole reason I invested in a new truck was so that I would have something that would be dependable for many years. Instead, I get a new truck that hasn't even lasted as long as the used trucks I've bought. I could not be anymore more disappointed and angrier with the quality of this truck. It's a pretty truck, but if you want something dependable, look elsewhere.\", \"Luxury? Check. Utility? Check. \\r\\nWhat can you say about an $80k truck? Take the body of a workhorse F150 and squeeze in the cabin of a Lincoln. \\r\\nThe 3.5L turbo Ecoboost has absolutely no issues moving this massive truck around. The 10 speed transmission is smooth to the point that I rarely feel it shift. Even when towing or with the box loaded. \\r\\nThe cabin is eerily quit and supremely comfortable. The heated, cooled and massage(!) seats make even the longest road trip a pleasant experience. \\r\\nRead seat passengers will appreciate the heated rear seats, and plenty of usb, 12v and 110v charging options.\\r\\nI've put 55k miles on this truck, and the only mechanical issue I've experienced is a problem with the power running boards not fully extending. \\r\\nFor a full size pickup, the ride is surprisingly smooth and the included driver assist features will make a lazy driver out of anyone.\\r\\nIf you want a vehicle with the capabilities of a truck, and the comfort of a luxury sedan you can't go wrong with the F150 Limited.\\r\\n\"]    54\n",
       "[\"This is a great all-around truck that blends luxury features with a solid truck. With coil suspension on all wheels, it makes for a very soft and comfortable ride, while being able to tow anything you can throw it's way. \", \"Love my truck, interior and exterior. Would not give up the suspension, and comfortable ride.  Yes with gas prices now it does take more $$ to fill up but it's still  a better ride than any other car I have owned. \", 'After owning 13 previous Chevy and GMC 1500 and 2500 pickups, I decided to purchase a 21 1500 RAM Laramie. I absolutely love the truck from the quiet and luxurious interior to the rugged exterior styling. The truck does everything I need it too and more!']                                                                                                                                                                                                                                                                                                                                                                                                                                                                                                                                                                                                                                                                                                                                                                                                                                                                                                                                                                                                                                                                                                                                                                                                                                                                                                                                                                                                                                                                                                                                                                                                                                                                                                                                                                                                                                                                                                                                                                                                                                                                                                                                                                                                                                                                                                                                         53\n",
       "['I love everything about this car. Everything is exactly as\\r\\nThey claim the car is. Buy one you won’t be sorry. \\r\\nYou don’t have to wait for a new one—a used one is just\\r\\nas good, even better. ', 'Car rides very comfortable.  Nice design and detail.  Very happy with this car.  Would buy again, but realized I didn’t get everything I wanted on the car.', \"I wanted to buy this car when I was in China. I bought a second-hand car in The IDEAL AUTO. Except for the ugly center console, the car's power and ride comfort are all right.\"]                                                                                                                                                                                                                                                                                                                                                                                                                                                                                                                                                                                                                                                                                                                                                                                                                                                                                                                                                                                                                                                                                                                                                                                                                                                                                                                                                                                                                                                                                                                                                                                                                                                                                                                                                                                                                                                                                                                                                                                                                                                                                                                                                                                                                                                                                                                                                                                                                                                                                                          51\n",
       "                                                                                                                                                                                                                                                                                                                                                                                                                                                                                                                                                                                                                                                                                                                                                                                                                                                                                                                                                                                                                                                                                                                                                                                                                                                                                                                                                                                                                                                                                                                                                                                                                                                                                                                                                                                                                                                                                                                                                                                                                                                                                                                                                                                                                                                                                                                                                                                                                                                                                                                                                                                                                                                                                                                                                                                                                                                                                                                                                                                                                                                                      ..\n",
       "['Overall great looking vehicle. The car met all my needs. The ride is smooth, it has low mileage, spacious interior especially in the back, and it came with all the bells and whistles.', \"The city gas-mileage isn't great (around 14 mpg, 28 mpg on the highway) but it's like a rocket-ship & DJ-club on wheels!  I drive it, it transports me. It's a sexy car!!\", 'This M3 BMW 750i Sport package vehicle is one of the most reliable car I owned it runs very well with a lot of power and luxury ride also. Has plenty of legroom, sound system is clean and make the ride relaxing. Compared to other vehicle this is great and will recommend it to anyone.']                                                                                                                                                                                                                                                                                                                                                                                                                                                                                                                                                                                                                                                                                                                                                                                                                                                                                                                                                                                                                                                                                                                                                                                                                                                                                                                                                                                                                                                                                                                                                                                                                                                                                                                                                                                                                                                                                                                                                                                                                                                                                                                                                                                                                                                                                                                                                                                               1\n",
       "[\"Only have 1000 miles on the car.  Gas estimates are way off the EPA average about 18.5 mpg but does use regular gas.  Have all wheel drive with 2.7 engine and is pretty zippy in sport mode but gets worse mileage. Is doggy in regular drive mode.  Transmission is a bit clunky paddle shifting through the gears with 2nd & 3rd almost identical.  Would have done better to add an overdrive gear to help mileage. Interior has very nice plush features and all the electronics are pretty much state of the art.  Plus it's American/Mexico so Geopolitical supply chain is less of a potential problem.\"]                                                                                                                                                                                                                                                                                                                                                                                                                                                                                                                                                                                                                                                                                                                                                                                                                                                                                                                                                                                                                                                                                                                                                                                                                                                                                                                                                                                                                                                                                                                                                                                                                                                                                                                                                                                                                                                                                                                                                                                                                                                                                                                                                                                                                                                                                                                                                                                                                                                    1\n",
       "['Excellent quality of fit and finish everywhere.  Excellent handling for a crossover.  M seats and adjustments are outstanding.  Driving this X2 feels like a much smaller vehicle than it is -- which is a compliment to BMW excellence.', 'This car is way more than I expected. It has all the bells and whistles. I love the color; interior and exterior. It is extremely FAST, chic and stylish!']                                                                                                                                                                                                                                                                                                                                                                                                                                                                                                                                                                                                                                                                                                                                                                                                                                                                                                                                                                                                                                                                                                                                                                                                                                                                                                                                                                                                                                                                                                                                                                                                                                                                                                                                                                                                                                                                                                                                                                                                                                                                                                                                                                                                                                                                                                                                                                                                                                                                                                                                                                                                                                                              1\n",
       "['Very comfortable and reliable car. Great for road trips or around town. comfortable to drive and grab gas mileage. one of the best cars I have owned.', 'Love the way it drives and no problems whatsoever.  Owned it for 3 years.  Very comfortable and great in snow with cold weather package for heated steering wheel, etc.  Great ride!', 'great car these guys tried to charge you prep fee for 1200 and never did work on car every light came on after i pulled off lot i test drove it with no tags']                                                                                                                                                                                                                                                                                                                                                                                                                                                                                                                                                                                                                                                                                                                                                                                                                                                                                                                                                                                                                                                                                                                                                                                                                                                                                                                                                                                                                                                                                                                                                                                                                                                                                                                                                                                                                                                                                                                                                                                                                                                                                                                                                                                                                                                                                                                                                                                                                                                                                                                                                      1\n",
       "['My 2002 Mercedes Benz C240 has been the greatest car I have ever owned. Reliability, economy, robust performance, & safety with the gift of its beauty has made this German luxury car my my best friend. Always running like it was new & getting me safely to where ever I had to travel to with FIRST RATE CLASS is the beauty that only Mercedes Benz has designed. I always got bored with my Asian cars & had no respect for those cars....but My Mercedes Benz C240 always made me proud to own the car when I pulled up in front of friends while saving me thousands of dollars because it never broke down. They are the best vehicles made in the world.', 'This is reliable car, in good shape, good for all actives, such as cruising, commuting, or just job riding.   This car will get you were you need to go', 'These awesome & superior German cars are the love of Europe, as I will never understand why people buy cheap & flimsy Asian cars that are over-priced, boring, disposable, & dangerous in accidents. This car is reliable, hardy, economical, & extremely efficient with fuel. The leather is through the roof comfortable & the style is unbeatable. It is a Mercedes & that says it all. Fake propaganda says they are expensive to repair which is the worst lie perpetrated in the automotive world.']                                                                                                                                                                                                                                                                                                                                                                                                                                                                                                                                                                                                                                                                                                                                                                                                                                                                                                                                                                                                                                                                                                                                                                                                                                                                                                                                                                                                                                                                                                                                                                                                                                                                                                                         1\n",
       "Name: Reviews, Length: 1899, dtype: int64"
      ]
     },
     "execution_count": 18,
     "metadata": {},
     "output_type": "execute_result"
    }
   ],
   "source": [
    "data['Reviews'].value_counts()"
   ]
  },
  {
   "cell_type": "markdown",
   "metadata": {},
   "source": [
    "**Converting from string to float**\n",
    "- getting numbers\n",
    "- turning number string to float"
   ]
  },
  {
   "cell_type": "code",
   "execution_count": 19,
   "metadata": {
    "scrolled": true
   },
   "outputs": [],
   "source": [
    "data['SalePrice'] = data['SalePrice'].str.translate({ord(i): None for i in '$,'})"
   ]
  },
  {
   "cell_type": "code",
   "execution_count": 20,
   "metadata": {},
   "outputs": [
    {
     "data": {
      "text/html": [
       "<div>\n",
       "<style scoped>\n",
       "    .dataframe tbody tr th:only-of-type {\n",
       "        vertical-align: middle;\n",
       "    }\n",
       "\n",
       "    .dataframe tbody tr th {\n",
       "        vertical-align: top;\n",
       "    }\n",
       "\n",
       "    .dataframe thead th {\n",
       "        text-align: right;\n",
       "    }\n",
       "</style>\n",
       "<table border=\"1\" class=\"dataframe\">\n",
       "  <thead>\n",
       "    <tr style=\"text-align: right;\">\n",
       "      <th></th>\n",
       "      <th>Model</th>\n",
       "      <th>Reviews</th>\n",
       "      <th>DriveTrain</th>\n",
       "      <th>MPG</th>\n",
       "      <th>FuelType</th>\n",
       "      <th>Transmission</th>\n",
       "      <th>Engine</th>\n",
       "      <th>Mileage</th>\n",
       "      <th>SalePrice</th>\n",
       "    </tr>\n",
       "  </thead>\n",
       "  <tbody>\n",
       "    <tr>\n",
       "      <th>0</th>\n",
       "      <td>['2020 Toyota RAV4 LE']</td>\n",
       "      <td>['Virtually nothing has gone wrong with my 202...</td>\n",
       "      <td>Front-wheel Drive</td>\n",
       "      <td>27–35</td>\n",
       "      <td>Gasoline</td>\n",
       "      <td>8-Speed Automatic</td>\n",
       "      <td>2.5L I4 16V PDI DOHC</td>\n",
       "      <td>53,200 mi.</td>\n",
       "      <td>29000</td>\n",
       "    </tr>\n",
       "    <tr>\n",
       "      <th>1</th>\n",
       "      <td>['2016 Volkswagen e-Golf SE']</td>\n",
       "      <td>[\"Stranded today. Could not get to work. Somet...</td>\n",
       "      <td>Rear-wheel Drive</td>\n",
       "      <td>18–26</td>\n",
       "      <td>Gasoline</td>\n",
       "      <td>10-Speed Automatic</td>\n",
       "      <td>3.0L V6 24V GDI DOHC Twin Turbo</td>\n",
       "      <td>22,690 mi.</td>\n",
       "      <td>55975</td>\n",
       "    </tr>\n",
       "    <tr>\n",
       "      <th>2</th>\n",
       "      <td>['2020 Lincoln Aviator Reserve RWD']</td>\n",
       "      <td>['Excellent road car, quiet, stable, comfortab...</td>\n",
       "      <td>Four-wheel Drive</td>\n",
       "      <td>18–22</td>\n",
       "      <td>Gasoline</td>\n",
       "      <td>6-Speed Automatic</td>\n",
       "      <td>3.5L V6 24V PDI DOHC</td>\n",
       "      <td>17,854 mi.</td>\n",
       "      <td>38900</td>\n",
       "    </tr>\n",
       "    <tr>\n",
       "      <th>3</th>\n",
       "      <td>['2021 Toyota Tacoma TRD Off Road']</td>\n",
       "      <td>['PURCHASED FROM NYE TOYOTA, MY FIRST TACOMA. ...</td>\n",
       "      <td>Front-wheel Drive</td>\n",
       "      <td>28–39</td>\n",
       "      <td>Gasoline</td>\n",
       "      <td>Automatic CVT</td>\n",
       "      <td>2.5L I4 16V GDI DOHC</td>\n",
       "      <td>60,907 mi.</td>\n",
       "      <td>22125</td>\n",
       "    </tr>\n",
       "    <tr>\n",
       "      <th>4</th>\n",
       "      <td>['2020 Nissan Altima 2.5 S']</td>\n",
       "      <td>['I’ve own a 2020 Altima (under 30k miles) for...</td>\n",
       "      <td>Front-wheel Drive</td>\n",
       "      <td>24–32</td>\n",
       "      <td>Gasoline</td>\n",
       "      <td>6-Speed Automatic</td>\n",
       "      <td>2.4L I4 16V GDI DOHC</td>\n",
       "      <td>41,614 mi.</td>\n",
       "      <td>23946</td>\n",
       "    </tr>\n",
       "    <tr>\n",
       "      <th>...</th>\n",
       "      <td>...</td>\n",
       "      <td>...</td>\n",
       "      <td>...</td>\n",
       "      <td>...</td>\n",
       "      <td>...</td>\n",
       "      <td>...</td>\n",
       "      <td>...</td>\n",
       "      <td>...</td>\n",
       "      <td>...</td>\n",
       "    </tr>\n",
       "    <tr>\n",
       "      <th>8476</th>\n",
       "      <td>['2022 BMW X5 xDrive40i']</td>\n",
       "      <td>['Only had the X5 for 4 weeks now but so far i...</td>\n",
       "      <td>Four-wheel Drive</td>\n",
       "      <td>18–25</td>\n",
       "      <td>Gasoline</td>\n",
       "      <td>8-Speed Automatic</td>\n",
       "      <td>3.6L V6 24V MPFI DOHC</td>\n",
       "      <td>78,378 mi.</td>\n",
       "      <td>25500</td>\n",
       "    </tr>\n",
       "    <tr>\n",
       "      <th>8477</th>\n",
       "      <td>['2019 Toyota Tacoma TRD Off Road']</td>\n",
       "      <td>['When I bought my 2020 Tacoma V6 (3.5L) 4x4 i...</td>\n",
       "      <td>All-wheel Drive</td>\n",
       "      <td>18–25</td>\n",
       "      <td>Gasoline</td>\n",
       "      <td>8-Speed Automatic</td>\n",
       "      <td>3.6L V6 24V MPFI DOHC</td>\n",
       "      <td>30,909 mi.</td>\n",
       "      <td>35590</td>\n",
       "    </tr>\n",
       "    <tr>\n",
       "      <th>8478</th>\n",
       "      <td>['2015 INFINITI QX80 Base']</td>\n",
       "      <td>['Everything is great except the rear view cam...</td>\n",
       "      <td>Front-wheel Drive</td>\n",
       "      <td>23–30</td>\n",
       "      <td>Gasoline</td>\n",
       "      <td>6-SPEED A/T</td>\n",
       "      <td>4 Cylinder Engine</td>\n",
       "      <td>30,186 mi.</td>\n",
       "      <td>24000</td>\n",
       "    </tr>\n",
       "    <tr>\n",
       "      <th>8479</th>\n",
       "      <td>['2020 Toyota Tundra SR5']</td>\n",
       "      <td>['I have owned smaller SUV\\'s and Trucks for o...</td>\n",
       "      <td>Four-wheel Drive</td>\n",
       "      <td>15–21</td>\n",
       "      <td>Gasoline</td>\n",
       "      <td>8-Speed Automatic</td>\n",
       "      <td>5.7L V8 16V MPFI OHV</td>\n",
       "      <td>22,309 mi.</td>\n",
       "      <td>71077</td>\n",
       "    </tr>\n",
       "    <tr>\n",
       "      <th>8480</th>\n",
       "      <td>['2021 Buick Enclave Essence']</td>\n",
       "      <td>['Transmission and brake problems. Transmissio...</td>\n",
       "      <td>Four-wheel Drive</td>\n",
       "      <td>20–27</td>\n",
       "      <td>Gasoline</td>\n",
       "      <td>Automatic CVT</td>\n",
       "      <td>3.5L V6 24V GDI DOHC</td>\n",
       "      <td>9,399 mi.</td>\n",
       "      <td>34988</td>\n",
       "    </tr>\n",
       "  </tbody>\n",
       "</table>\n",
       "<p>8481 rows × 9 columns</p>\n",
       "</div>"
      ],
      "text/plain": [
       "                                     Model  \\\n",
       "0                  ['2020 Toyota RAV4 LE']   \n",
       "1            ['2016 Volkswagen e-Golf SE']   \n",
       "2     ['2020 Lincoln Aviator Reserve RWD']   \n",
       "3      ['2021 Toyota Tacoma TRD Off Road']   \n",
       "4             ['2020 Nissan Altima 2.5 S']   \n",
       "...                                    ...   \n",
       "8476             ['2022 BMW X5 xDrive40i']   \n",
       "8477   ['2019 Toyota Tacoma TRD Off Road']   \n",
       "8478           ['2015 INFINITI QX80 Base']   \n",
       "8479            ['2020 Toyota Tundra SR5']   \n",
       "8480        ['2021 Buick Enclave Essence']   \n",
       "\n",
       "                                                Reviews           DriveTrain  \\\n",
       "0     ['Virtually nothing has gone wrong with my 202...   Front-wheel Drive    \n",
       "1     [\"Stranded today. Could not get to work. Somet...    Rear-wheel Drive    \n",
       "2     ['Excellent road car, quiet, stable, comfortab...    Four-wheel Drive    \n",
       "3     ['PURCHASED FROM NYE TOYOTA, MY FIRST TACOMA. ...   Front-wheel Drive    \n",
       "4     ['I’ve own a 2020 Altima (under 30k miles) for...   Front-wheel Drive    \n",
       "...                                                 ...                  ...   \n",
       "8476  ['Only had the X5 for 4 weeks now but so far i...    Four-wheel Drive    \n",
       "8477  ['When I bought my 2020 Tacoma V6 (3.5L) 4x4 i...     All-wheel Drive    \n",
       "8478  ['Everything is great except the rear view cam...   Front-wheel Drive    \n",
       "8479  ['I have owned smaller SUV\\'s and Trucks for o...    Four-wheel Drive    \n",
       "8480  ['Transmission and brake problems. Transmissio...    Four-wheel Drive    \n",
       "\n",
       "        MPG   FuelType        Transmission                           Engine  \\\n",
       "0     27–35  Gasoline    8-Speed Automatic             2.5L I4 16V PDI DOHC   \n",
       "1     18–26  Gasoline   10-Speed Automatic  3.0L V6 24V GDI DOHC Twin Turbo   \n",
       "2     18–22  Gasoline    6-Speed Automatic             3.5L V6 24V PDI DOHC   \n",
       "3     28–39  Gasoline        Automatic CVT             2.5L I4 16V GDI DOHC   \n",
       "4     24–32  Gasoline    6-Speed Automatic             2.4L I4 16V GDI DOHC   \n",
       "...     ...        ...                 ...                              ...   \n",
       "8476  18–25  Gasoline    8-Speed Automatic            3.6L V6 24V MPFI DOHC   \n",
       "8477  18–25  Gasoline    8-Speed Automatic            3.6L V6 24V MPFI DOHC   \n",
       "8478  23–30  Gasoline          6-SPEED A/T                4 Cylinder Engine   \n",
       "8479  15–21  Gasoline    8-Speed Automatic             5.7L V8 16V MPFI OHV   \n",
       "8480  20–27  Gasoline        Automatic CVT             3.5L V6 24V GDI DOHC   \n",
       "\n",
       "           Mileage SalePrice  \n",
       "0      53,200 mi.      29000  \n",
       "1      22,690 mi.      55975  \n",
       "2      17,854 mi.      38900  \n",
       "3      60,907 mi.      22125  \n",
       "4      41,614 mi.      23946  \n",
       "...            ...       ...  \n",
       "8476   78,378 mi.      25500  \n",
       "8477   30,909 mi.      35590  \n",
       "8478   30,186 mi.      24000  \n",
       "8479   22,309 mi.      71077  \n",
       "8480    9,399 mi.      34988  \n",
       "\n",
       "[8481 rows x 9 columns]"
      ]
     },
     "execution_count": 20,
     "metadata": {},
     "output_type": "execute_result"
    }
   ],
   "source": [
    "data"
   ]
  },
  {
   "cell_type": "code",
   "execution_count": 21,
   "metadata": {},
   "outputs": [],
   "source": [
    "data = data.loc[data['SalePrice'] != 'Not Priced']"
   ]
  },
  {
   "cell_type": "code",
   "execution_count": 22,
   "metadata": {},
   "outputs": [
    {
     "name": "stderr",
     "output_type": "stream",
     "text": [
      "<ipython-input-22-50854e4490e6>:1: SettingWithCopyWarning: \n",
      "A value is trying to be set on a copy of a slice from a DataFrame.\n",
      "Try using .loc[row_indexer,col_indexer] = value instead\n",
      "\n",
      "See the caveats in the documentation: https://pandas.pydata.org/pandas-docs/stable/user_guide/indexing.html#returning-a-view-versus-a-copy\n",
      "  data['SalePrice'] = data['SalePrice'].astype(float)\n"
     ]
    }
   ],
   "source": [
    "data['SalePrice'] = data['SalePrice'].astype(float)"
   ]
  },
  {
   "cell_type": "code",
   "execution_count": 23,
   "metadata": {
    "scrolled": false
   },
   "outputs": [
    {
     "data": {
      "text/html": [
       "<div>\n",
       "<style scoped>\n",
       "    .dataframe tbody tr th:only-of-type {\n",
       "        vertical-align: middle;\n",
       "    }\n",
       "\n",
       "    .dataframe tbody tr th {\n",
       "        vertical-align: top;\n",
       "    }\n",
       "\n",
       "    .dataframe thead th {\n",
       "        text-align: right;\n",
       "    }\n",
       "</style>\n",
       "<table border=\"1\" class=\"dataframe\">\n",
       "  <thead>\n",
       "    <tr style=\"text-align: right;\">\n",
       "      <th></th>\n",
       "      <th>Model</th>\n",
       "      <th>Reviews</th>\n",
       "      <th>DriveTrain</th>\n",
       "      <th>MPG</th>\n",
       "      <th>FuelType</th>\n",
       "      <th>Transmission</th>\n",
       "      <th>Engine</th>\n",
       "      <th>Mileage</th>\n",
       "      <th>SalePrice</th>\n",
       "    </tr>\n",
       "  </thead>\n",
       "  <tbody>\n",
       "    <tr>\n",
       "      <th>0</th>\n",
       "      <td>['2020 Toyota RAV4 LE']</td>\n",
       "      <td>['Virtually nothing has gone wrong with my 202...</td>\n",
       "      <td>Front-wheel Drive</td>\n",
       "      <td>27–35</td>\n",
       "      <td>Gasoline</td>\n",
       "      <td>8-Speed Automatic</td>\n",
       "      <td>2.5L I4 16V PDI DOHC</td>\n",
       "      <td>53,200 mi.</td>\n",
       "      <td>29000.0</td>\n",
       "    </tr>\n",
       "    <tr>\n",
       "      <th>1</th>\n",
       "      <td>['2016 Volkswagen e-Golf SE']</td>\n",
       "      <td>[\"Stranded today. Could not get to work. Somet...</td>\n",
       "      <td>Rear-wheel Drive</td>\n",
       "      <td>18–26</td>\n",
       "      <td>Gasoline</td>\n",
       "      <td>10-Speed Automatic</td>\n",
       "      <td>3.0L V6 24V GDI DOHC Twin Turbo</td>\n",
       "      <td>22,690 mi.</td>\n",
       "      <td>55975.0</td>\n",
       "    </tr>\n",
       "    <tr>\n",
       "      <th>2</th>\n",
       "      <td>['2020 Lincoln Aviator Reserve RWD']</td>\n",
       "      <td>['Excellent road car, quiet, stable, comfortab...</td>\n",
       "      <td>Four-wheel Drive</td>\n",
       "      <td>18–22</td>\n",
       "      <td>Gasoline</td>\n",
       "      <td>6-Speed Automatic</td>\n",
       "      <td>3.5L V6 24V PDI DOHC</td>\n",
       "      <td>17,854 mi.</td>\n",
       "      <td>38900.0</td>\n",
       "    </tr>\n",
       "    <tr>\n",
       "      <th>3</th>\n",
       "      <td>['2021 Toyota Tacoma TRD Off Road']</td>\n",
       "      <td>['PURCHASED FROM NYE TOYOTA, MY FIRST TACOMA. ...</td>\n",
       "      <td>Front-wheel Drive</td>\n",
       "      <td>28–39</td>\n",
       "      <td>Gasoline</td>\n",
       "      <td>Automatic CVT</td>\n",
       "      <td>2.5L I4 16V GDI DOHC</td>\n",
       "      <td>60,907 mi.</td>\n",
       "      <td>22125.0</td>\n",
       "    </tr>\n",
       "    <tr>\n",
       "      <th>4</th>\n",
       "      <td>['2020 Nissan Altima 2.5 S']</td>\n",
       "      <td>['I’ve own a 2020 Altima (under 30k miles) for...</td>\n",
       "      <td>Front-wheel Drive</td>\n",
       "      <td>24–32</td>\n",
       "      <td>Gasoline</td>\n",
       "      <td>6-Speed Automatic</td>\n",
       "      <td>2.4L I4 16V GDI DOHC</td>\n",
       "      <td>41,614 mi.</td>\n",
       "      <td>23946.0</td>\n",
       "    </tr>\n",
       "    <tr>\n",
       "      <th>...</th>\n",
       "      <td>...</td>\n",
       "      <td>...</td>\n",
       "      <td>...</td>\n",
       "      <td>...</td>\n",
       "      <td>...</td>\n",
       "      <td>...</td>\n",
       "      <td>...</td>\n",
       "      <td>...</td>\n",
       "      <td>...</td>\n",
       "    </tr>\n",
       "    <tr>\n",
       "      <th>8476</th>\n",
       "      <td>['2022 BMW X5 xDrive40i']</td>\n",
       "      <td>['Only had the X5 for 4 weeks now but so far i...</td>\n",
       "      <td>Four-wheel Drive</td>\n",
       "      <td>18–25</td>\n",
       "      <td>Gasoline</td>\n",
       "      <td>8-Speed Automatic</td>\n",
       "      <td>3.6L V6 24V MPFI DOHC</td>\n",
       "      <td>78,378 mi.</td>\n",
       "      <td>25500.0</td>\n",
       "    </tr>\n",
       "    <tr>\n",
       "      <th>8477</th>\n",
       "      <td>['2019 Toyota Tacoma TRD Off Road']</td>\n",
       "      <td>['When I bought my 2020 Tacoma V6 (3.5L) 4x4 i...</td>\n",
       "      <td>All-wheel Drive</td>\n",
       "      <td>18–25</td>\n",
       "      <td>Gasoline</td>\n",
       "      <td>8-Speed Automatic</td>\n",
       "      <td>3.6L V6 24V MPFI DOHC</td>\n",
       "      <td>30,909 mi.</td>\n",
       "      <td>35590.0</td>\n",
       "    </tr>\n",
       "    <tr>\n",
       "      <th>8478</th>\n",
       "      <td>['2015 INFINITI QX80 Base']</td>\n",
       "      <td>['Everything is great except the rear view cam...</td>\n",
       "      <td>Front-wheel Drive</td>\n",
       "      <td>23–30</td>\n",
       "      <td>Gasoline</td>\n",
       "      <td>6-SPEED A/T</td>\n",
       "      <td>4 Cylinder Engine</td>\n",
       "      <td>30,186 mi.</td>\n",
       "      <td>24000.0</td>\n",
       "    </tr>\n",
       "    <tr>\n",
       "      <th>8479</th>\n",
       "      <td>['2020 Toyota Tundra SR5']</td>\n",
       "      <td>['I have owned smaller SUV\\'s and Trucks for o...</td>\n",
       "      <td>Four-wheel Drive</td>\n",
       "      <td>15–21</td>\n",
       "      <td>Gasoline</td>\n",
       "      <td>8-Speed Automatic</td>\n",
       "      <td>5.7L V8 16V MPFI OHV</td>\n",
       "      <td>22,309 mi.</td>\n",
       "      <td>71077.0</td>\n",
       "    </tr>\n",
       "    <tr>\n",
       "      <th>8480</th>\n",
       "      <td>['2021 Buick Enclave Essence']</td>\n",
       "      <td>['Transmission and brake problems. Transmissio...</td>\n",
       "      <td>Four-wheel Drive</td>\n",
       "      <td>20–27</td>\n",
       "      <td>Gasoline</td>\n",
       "      <td>Automatic CVT</td>\n",
       "      <td>3.5L V6 24V GDI DOHC</td>\n",
       "      <td>9,399 mi.</td>\n",
       "      <td>34988.0</td>\n",
       "    </tr>\n",
       "  </tbody>\n",
       "</table>\n",
       "<p>8475 rows × 9 columns</p>\n",
       "</div>"
      ],
      "text/plain": [
       "                                     Model  \\\n",
       "0                  ['2020 Toyota RAV4 LE']   \n",
       "1            ['2016 Volkswagen e-Golf SE']   \n",
       "2     ['2020 Lincoln Aviator Reserve RWD']   \n",
       "3      ['2021 Toyota Tacoma TRD Off Road']   \n",
       "4             ['2020 Nissan Altima 2.5 S']   \n",
       "...                                    ...   \n",
       "8476             ['2022 BMW X5 xDrive40i']   \n",
       "8477   ['2019 Toyota Tacoma TRD Off Road']   \n",
       "8478           ['2015 INFINITI QX80 Base']   \n",
       "8479            ['2020 Toyota Tundra SR5']   \n",
       "8480        ['2021 Buick Enclave Essence']   \n",
       "\n",
       "                                                Reviews           DriveTrain  \\\n",
       "0     ['Virtually nothing has gone wrong with my 202...   Front-wheel Drive    \n",
       "1     [\"Stranded today. Could not get to work. Somet...    Rear-wheel Drive    \n",
       "2     ['Excellent road car, quiet, stable, comfortab...    Four-wheel Drive    \n",
       "3     ['PURCHASED FROM NYE TOYOTA, MY FIRST TACOMA. ...   Front-wheel Drive    \n",
       "4     ['I’ve own a 2020 Altima (under 30k miles) for...   Front-wheel Drive    \n",
       "...                                                 ...                  ...   \n",
       "8476  ['Only had the X5 for 4 weeks now but so far i...    Four-wheel Drive    \n",
       "8477  ['When I bought my 2020 Tacoma V6 (3.5L) 4x4 i...     All-wheel Drive    \n",
       "8478  ['Everything is great except the rear view cam...   Front-wheel Drive    \n",
       "8479  ['I have owned smaller SUV\\'s and Trucks for o...    Four-wheel Drive    \n",
       "8480  ['Transmission and brake problems. Transmissio...    Four-wheel Drive    \n",
       "\n",
       "        MPG   FuelType        Transmission                           Engine  \\\n",
       "0     27–35  Gasoline    8-Speed Automatic             2.5L I4 16V PDI DOHC   \n",
       "1     18–26  Gasoline   10-Speed Automatic  3.0L V6 24V GDI DOHC Twin Turbo   \n",
       "2     18–22  Gasoline    6-Speed Automatic             3.5L V6 24V PDI DOHC   \n",
       "3     28–39  Gasoline        Automatic CVT             2.5L I4 16V GDI DOHC   \n",
       "4     24–32  Gasoline    6-Speed Automatic             2.4L I4 16V GDI DOHC   \n",
       "...     ...        ...                 ...                              ...   \n",
       "8476  18–25  Gasoline    8-Speed Automatic            3.6L V6 24V MPFI DOHC   \n",
       "8477  18–25  Gasoline    8-Speed Automatic            3.6L V6 24V MPFI DOHC   \n",
       "8478  23–30  Gasoline          6-SPEED A/T                4 Cylinder Engine   \n",
       "8479  15–21  Gasoline    8-Speed Automatic             5.7L V8 16V MPFI OHV   \n",
       "8480  20–27  Gasoline        Automatic CVT             3.5L V6 24V GDI DOHC   \n",
       "\n",
       "           Mileage  SalePrice  \n",
       "0      53,200 mi.     29000.0  \n",
       "1      22,690 mi.     55975.0  \n",
       "2      17,854 mi.     38900.0  \n",
       "3      60,907 mi.     22125.0  \n",
       "4      41,614 mi.     23946.0  \n",
       "...            ...        ...  \n",
       "8476   78,378 mi.     25500.0  \n",
       "8477   30,909 mi.     35590.0  \n",
       "8478   30,186 mi.     24000.0  \n",
       "8479   22,309 mi.     71077.0  \n",
       "8480    9,399 mi.     34988.0  \n",
       "\n",
       "[8475 rows x 9 columns]"
      ]
     },
     "execution_count": 23,
     "metadata": {},
     "output_type": "execute_result"
    }
   ],
   "source": [
    "data"
   ]
  },
  {
   "cell_type": "markdown",
   "metadata": {},
   "source": [
    "**Binning SalePrice for target variable**\n",
    "- Seems to have good distribubtion of prices\n",
    "- Use qcut to bin, use as starting point"
   ]
  },
  {
   "cell_type": "code",
   "execution_count": 24,
   "metadata": {},
   "outputs": [
    {
     "data": {
      "text/plain": [
       "count      8475.000000\n",
       "mean      38280.058997\n",
       "std       22057.867345\n",
       "min        2500.000000\n",
       "25%       25376.500000\n",
       "50%       34598.000000\n",
       "75%       44988.000000\n",
       "max      435500.000000\n",
       "Name: SalePrice, dtype: float64"
      ]
     },
     "execution_count": 24,
     "metadata": {},
     "output_type": "execute_result"
    }
   ],
   "source": [
    "data['SalePrice'].describe()"
   ]
  },
  {
   "cell_type": "code",
   "execution_count": 25,
   "metadata": {},
   "outputs": [
    {
     "data": {
      "text/plain": [
       "<AxesSubplot:>"
      ]
     },
     "execution_count": 25,
     "metadata": {},
     "output_type": "execute_result"
    },
    {
     "data": {
      "image/png": "[encoded data removed]",
      "text/plain": [
       "<Figure size 720x432 with 1 Axes>"
      ]
     },
     "metadata": {
      "needs_background": "light"
     },
     "output_type": "display_data"
    }
   ],
   "source": [
    "data['SalePrice'].hist(figsize=(10,6))"
   ]
  },
  {
   "cell_type": "code",
   "execution_count": 26,
   "metadata": {
    "scrolled": true
   },
   "outputs": [
    {
     "data": {
      "text/plain": [
       "[(23952.2, 30855.8], (47902.6, 435500.0], (38590.0, 47902.6], (2499.999, 23952.2], (30855.8, 38590.0]]\n",
       "Categories (5, interval[float64]): [(2499.999, 23952.2] < (23952.2, 30855.8] < (30855.8, 38590.0] < (38590.0, 47902.6] < (47902.6, 435500.0]]"
      ]
     },
     "execution_count": 26,
     "metadata": {},
     "output_type": "execute_result"
    }
   ],
   "source": [
    "pd.qcut(data['SalePrice'], q=5).unique()"
   ]
  },
  {
   "cell_type": "markdown",
   "metadata": {},
   "source": [
    "**Outliers seem to have little effect on binning**"
   ]
  },
  {
   "cell_type": "code",
   "execution_count": 27,
   "metadata": {
    "scrolled": true
   },
   "outputs": [
    {
     "data": {
      "text/plain": [
       "[(23910.0, 30731.6], (47625.2, 149999.0], (38500.0, 47625.2], (2499.999, 23910.0], (30731.6, 38500.0]]\n",
       "Categories (5, interval[float64]): [(2499.999, 23910.0] < (23910.0, 30731.6] < (30731.6, 38500.0] < (38500.0, 47625.2] < (47625.2, 149999.0]]"
      ]
     },
     "execution_count": 27,
     "metadata": {},
     "output_type": "execute_result"
    }
   ],
   "source": [
    "pd.qcut(data.loc[data['SalePrice'] <= 150000]['SalePrice'], q=5).unique()"
   ]
  },
  {
   "cell_type": "markdown",
   "metadata": {},
   "source": [
    "**Bins to be used**\n",
    "- Cheap 0-22k\n",
    "- Below Average 22k-30k\n",
    "- Average 30k-38k\n",
    "- Above Average 38k-50k\n",
    "- Expensive 50k+\n",
    "\n",
    "\n",
    "This is for the cars in this dataset, Google says average price in AL is 33k. Binning is okay for general idea."
   ]
  },
  {
   "cell_type": "code",
   "execution_count": 28,
   "metadata": {},
   "outputs": [
    {
     "name": "stderr",
     "output_type": "stream",
     "text": [
      "<ipython-input-28-bd3203b329c7>:13: SettingWithCopyWarning: \n",
      "A value is trying to be set on a copy of a slice from a DataFrame.\n",
      "Try using .loc[row_indexer,col_indexer] = value instead\n",
      "\n",
      "See the caveats in the documentation: https://pandas.pydata.org/pandas-docs/stable/user_guide/indexing.html#returning-a-view-versus-a-copy\n",
      "  data['PriceCategory'] = np.select(bins, price_cat)\n"
     ]
    }
   ],
   "source": [
    "bins = [\n",
    "    (data['SalePrice'] <= 22000),\n",
    "    (data['SalePrice'] > 22000) & (data['SalePrice'] <= 30000),\n",
    "    (data['SalePrice'] > 30000) & (data['SalePrice'] <= 38000),\n",
    "    (data['SalePrice'] > 38000) & (data['SalePrice'] <= 50000),\n",
    "    (data['SalePrice'] > 50000)\n",
    "    ]\n",
    "\n",
    "# create a list of the values we want to assign for each condition\n",
    "price_cat = ['Cheap', 'BelowAverage', 'Average', 'AboveAverage', 'Expensive']\n",
    "\n",
    "# create a new column and use np.select to assign values to it using our lists as arguments\n",
    "data['PriceCategory'] = np.select(bins, price_cat)"
   ]
  },
  {
   "cell_type": "code",
   "execution_count": 29,
   "metadata": {
    "scrolled": true
   },
   "outputs": [
    {
     "data": {
      "text/html": [
       "<div>\n",
       "<style scoped>\n",
       "    .dataframe tbody tr th:only-of-type {\n",
       "        vertical-align: middle;\n",
       "    }\n",
       "\n",
       "    .dataframe tbody tr th {\n",
       "        vertical-align: top;\n",
       "    }\n",
       "\n",
       "    .dataframe thead th {\n",
       "        text-align: right;\n",
       "    }\n",
       "</style>\n",
       "<table border=\"1\" class=\"dataframe\">\n",
       "  <thead>\n",
       "    <tr style=\"text-align: right;\">\n",
       "      <th></th>\n",
       "      <th>Model</th>\n",
       "      <th>Reviews</th>\n",
       "      <th>DriveTrain</th>\n",
       "      <th>MPG</th>\n",
       "      <th>FuelType</th>\n",
       "      <th>Transmission</th>\n",
       "      <th>Engine</th>\n",
       "      <th>Mileage</th>\n",
       "      <th>SalePrice</th>\n",
       "      <th>PriceCategory</th>\n",
       "    </tr>\n",
       "  </thead>\n",
       "  <tbody>\n",
       "    <tr>\n",
       "      <th>0</th>\n",
       "      <td>['2020 Toyota RAV4 LE']</td>\n",
       "      <td>['Virtually nothing has gone wrong with my 202...</td>\n",
       "      <td>Front-wheel Drive</td>\n",
       "      <td>27–35</td>\n",
       "      <td>Gasoline</td>\n",
       "      <td>8-Speed Automatic</td>\n",
       "      <td>2.5L I4 16V PDI DOHC</td>\n",
       "      <td>53,200 mi.</td>\n",
       "      <td>29000.0</td>\n",
       "      <td>BelowAverage</td>\n",
       "    </tr>\n",
       "    <tr>\n",
       "      <th>1</th>\n",
       "      <td>['2016 Volkswagen e-Golf SE']</td>\n",
       "      <td>[\"Stranded today. Could not get to work. Somet...</td>\n",
       "      <td>Rear-wheel Drive</td>\n",
       "      <td>18–26</td>\n",
       "      <td>Gasoline</td>\n",
       "      <td>10-Speed Automatic</td>\n",
       "      <td>3.0L V6 24V GDI DOHC Twin Turbo</td>\n",
       "      <td>22,690 mi.</td>\n",
       "      <td>55975.0</td>\n",
       "      <td>Expensive</td>\n",
       "    </tr>\n",
       "    <tr>\n",
       "      <th>2</th>\n",
       "      <td>['2020 Lincoln Aviator Reserve RWD']</td>\n",
       "      <td>['Excellent road car, quiet, stable, comfortab...</td>\n",
       "      <td>Four-wheel Drive</td>\n",
       "      <td>18–22</td>\n",
       "      <td>Gasoline</td>\n",
       "      <td>6-Speed Automatic</td>\n",
       "      <td>3.5L V6 24V PDI DOHC</td>\n",
       "      <td>17,854 mi.</td>\n",
       "      <td>38900.0</td>\n",
       "      <td>AboveAverage</td>\n",
       "    </tr>\n",
       "    <tr>\n",
       "      <th>3</th>\n",
       "      <td>['2021 Toyota Tacoma TRD Off Road']</td>\n",
       "      <td>['PURCHASED FROM NYE TOYOTA, MY FIRST TACOMA. ...</td>\n",
       "      <td>Front-wheel Drive</td>\n",
       "      <td>28–39</td>\n",
       "      <td>Gasoline</td>\n",
       "      <td>Automatic CVT</td>\n",
       "      <td>2.5L I4 16V GDI DOHC</td>\n",
       "      <td>60,907 mi.</td>\n",
       "      <td>22125.0</td>\n",
       "      <td>BelowAverage</td>\n",
       "    </tr>\n",
       "    <tr>\n",
       "      <th>4</th>\n",
       "      <td>['2020 Nissan Altima 2.5 S']</td>\n",
       "      <td>['I’ve own a 2020 Altima (under 30k miles) for...</td>\n",
       "      <td>Front-wheel Drive</td>\n",
       "      <td>24–32</td>\n",
       "      <td>Gasoline</td>\n",
       "      <td>6-Speed Automatic</td>\n",
       "      <td>2.4L I4 16V GDI DOHC</td>\n",
       "      <td>41,614 mi.</td>\n",
       "      <td>23946.0</td>\n",
       "      <td>BelowAverage</td>\n",
       "    </tr>\n",
       "  </tbody>\n",
       "</table>\n",
       "</div>"
      ],
      "text/plain": [
       "                                  Model  \\\n",
       "0               ['2020 Toyota RAV4 LE']   \n",
       "1         ['2016 Volkswagen e-Golf SE']   \n",
       "2  ['2020 Lincoln Aviator Reserve RWD']   \n",
       "3   ['2021 Toyota Tacoma TRD Off Road']   \n",
       "4          ['2020 Nissan Altima 2.5 S']   \n",
       "\n",
       "                                             Reviews           DriveTrain  \\\n",
       "0  ['Virtually nothing has gone wrong with my 202...   Front-wheel Drive    \n",
       "1  [\"Stranded today. Could not get to work. Somet...    Rear-wheel Drive    \n",
       "2  ['Excellent road car, quiet, stable, comfortab...    Four-wheel Drive    \n",
       "3  ['PURCHASED FROM NYE TOYOTA, MY FIRST TACOMA. ...   Front-wheel Drive    \n",
       "4  ['I’ve own a 2020 Altima (under 30k miles) for...   Front-wheel Drive    \n",
       "\n",
       "     MPG   FuelType        Transmission                           Engine  \\\n",
       "0  27–35  Gasoline    8-Speed Automatic             2.5L I4 16V PDI DOHC   \n",
       "1  18–26  Gasoline   10-Speed Automatic  3.0L V6 24V GDI DOHC Twin Turbo   \n",
       "2  18–22  Gasoline    6-Speed Automatic             3.5L V6 24V PDI DOHC   \n",
       "3  28–39  Gasoline        Automatic CVT             2.5L I4 16V GDI DOHC   \n",
       "4  24–32  Gasoline    6-Speed Automatic             2.4L I4 16V GDI DOHC   \n",
       "\n",
       "        Mileage  SalePrice PriceCategory  \n",
       "0   53,200 mi.     29000.0  BelowAverage  \n",
       "1   22,690 mi.     55975.0     Expensive  \n",
       "2   17,854 mi.     38900.0  AboveAverage  \n",
       "3   60,907 mi.     22125.0  BelowAverage  \n",
       "4   41,614 mi.     23946.0  BelowAverage  "
      ]
     },
     "execution_count": 29,
     "metadata": {},
     "output_type": "execute_result"
    }
   ],
   "source": [
    "data.head()"
   ]
  },
  {
   "cell_type": "markdown",
   "metadata": {},
   "source": [
    "**Bins seem evenly distributed**"
   ]
  },
  {
   "cell_type": "code",
   "execution_count": 30,
   "metadata": {},
   "outputs": [
    {
     "data": {
      "text/plain": [
       "AboveAverage    2025\n",
       "BelowAverage    1942\n",
       "Average         1710\n",
       "Expensive       1417\n",
       "Cheap           1381\n",
       "Name: PriceCategory, dtype: int64"
      ]
     },
     "execution_count": 30,
     "metadata": {},
     "output_type": "execute_result"
    }
   ],
   "source": [
    "data['PriceCategory'].value_counts()"
   ]
  },
  {
   "cell_type": "markdown",
   "metadata": {},
   "source": [
    "**Grabbing a review**\n",
    "- attempt to clean it\n",
    "- create new column with clean reviews"
   ]
  },
  {
   "cell_type": "code",
   "execution_count": 31,
   "metadata": {},
   "outputs": [],
   "source": [
    "string = df['Reviews'][2]\n"
   ]
  },
  {
   "cell_type": "code",
   "execution_count": 32,
   "metadata": {
    "scrolled": false
   },
   "outputs": [
    {
     "data": {
      "text/plain": [
       "'[\"Stranded today. Could not get to work. Something was left on while I charged the battery. Not enough energy to drive 5 miles to work. Oh and in the winter don\\'t dare turn on the heater. Your energy will deplete in a heart beat. Same goes for air conditioning. And if it\\'s below 39 degrees, which is normal for Central Oregon winters, you will never get a full charge. DO NOT BUY. Oh and buy the way this car was 4 years old when I bought it, but it only had 23,000 miles and I have had these issues ever since I bought it.\", \\'Bought used, cant really tell by the looks of it, 35,400 miles.\\\\nI commute daily in it, charge it nightly and it’s ready to go in the morning, nice and warm.\\\\nCar is pretty much a regular Golf other than the eMotor and the battery.\\\\nHandles real nice due to very low center of gravity.\\\\nSurprisingly good acceleration.\\\\n3 modes of power, normal, eco and eco+.\\\\nRegenerative braking dumps power back into battery,\\\\nIf you drive carefully and leave plenty of room between your car and the one in front of you, you can almost use no braking and really extend your range.\\\\nVery intuitive electronics, just took me a couple of days to get used to it.\\\\nIf you get the chance test drive one, you won’t regret it.\\\\nCome December I’ll be charging from my Solar Array, so I won’t be paying for electricity.\\', \\'What more do you have to say?\\\\nIt’s the Tesla Model3 5 years before it ever arrived and it’s actually $35k new!\\\\nI scored a 2 year old top trim SEL for $18k and couldn’t be happier!\\']'"
      ]
     },
     "execution_count": 32,
     "metadata": {},
     "output_type": "execute_result"
    }
   ],
   "source": [
    "string"
   ]
  },
  {
   "cell_type": "code",
   "execution_count": 33,
   "metadata": {},
   "outputs": [],
   "source": [
    "string = re.sub(r'\\\\n', '', string)\n",
    "string = re.sub(r'\\\\r', '', string)\n",
    "string = string.replace('[', '')\n",
    "string = string.replace(']', '')\n",
    "string = string.replace('\"', '')"
   ]
  },
  {
   "cell_type": "code",
   "execution_count": 34,
   "metadata": {
    "scrolled": false
   },
   "outputs": [
    {
     "data": {
      "text/plain": [
       "\"Stranded today. Could not get to work. Something was left on while I charged the battery. Not enough energy to drive 5 miles to work. Oh and in the winter don't dare turn on the heater. Your energy will deplete in a heart beat. Same goes for air conditioning. And if it's below 39 degrees, which is normal for Central Oregon winters, you will never get a full charge. DO NOT BUY. Oh and buy the way this car was 4 years old when I bought it, but it only had 23,000 miles and I have had these issues ever since I bought it., 'Bought used, cant really tell by the looks of it, 35,400 miles.I commute daily in it, charge it nightly and it’s ready to go in the morning, nice and warm.Car is pretty much a regular Golf other than the eMotor and the battery.Handles real nice due to very low center of gravity.Surprisingly good acceleration.3 modes of power, normal, eco and eco+.Regenerative braking dumps power back into battery,If you drive carefully and leave plenty of room between your car and the one in front of you, you can almost use no braking and really extend your range.Very intuitive electronics, just took me a couple of days to get used to it.If you get the chance test drive one, you won’t regret it.Come December I’ll be charging from my Solar Array, so I won’t be paying for electricity.', 'What more do you have to say?It’s the Tesla Model3 5 years before it ever arrived and it’s actually $35k new!I scored a 2 year old top trim SEL for $18k and couldn’t be happier!'\""
      ]
     },
     "execution_count": 34,
     "metadata": {},
     "output_type": "execute_result"
    }
   ],
   "source": [
    "string"
   ]
  },
  {
   "cell_type": "code",
   "execution_count": 35,
   "metadata": {},
   "outputs": [],
   "source": [
    "def review_cleaner(rev):\n",
    "    clean = re.sub(r'\\\\n', '', rev)\n",
    "    clean = re.sub(r'\\\\r', '', clean)\n",
    "    clean = clean.replace('[', '')\n",
    "    clean = clean.replace(']', '')\n",
    "    clean = clean.replace('\"', '')\n",
    "    clean = clean.replace(\"'\", \"\")\n",
    "    return clean"
   ]
  },
  {
   "cell_type": "code",
   "execution_count": 36,
   "metadata": {},
   "outputs": [
    {
     "data": {
      "text/plain": [
       "\"['it was nice joyable but 2008 is better and it has a spear tire and was very nice i rate it 8/10 that better then nothing.', '2008 model was much better than 2013 and what idiot eng placed a spare tire in the floor?\\\\nWhen you have big family you need space for storage on the long trips.\\\\nSo Ac issues, sliding door issues, EGR issues VSC issues', 'Amazing van.  Love it, love it, love it.  Reliable Honda Odyssey.  Great for family vacations.  The kids, dogs, family, and friends enjoy riding in the van.']\""
      ]
     },
     "execution_count": 36,
     "metadata": {},
     "output_type": "execute_result"
    }
   ],
   "source": [
    "data['Reviews'][45]"
   ]
  },
  {
   "cell_type": "code",
   "execution_count": 37,
   "metadata": {
    "scrolled": false
   },
   "outputs": [
    {
     "data": {
      "text/plain": [
       "'it was nice joyable but 2008 is better and it has a spear tire and was very nice i rate it 8/10 that better then nothing., 2008 model was much better than 2013 and what idiot eng placed a spare tire in the floor?When you have big family you need space for storage on the long trips.So Ac issues, sliding door issues, EGR issues VSC issues, Amazing van.  Love it, love it, love it.  Reliable Honda Odyssey.  Great for family vacations.  The kids, dogs, family, and friends enjoy riding in the van.'"
      ]
     },
     "execution_count": 37,
     "metadata": {},
     "output_type": "execute_result"
    }
   ],
   "source": [
    "review_cleaner(data['Reviews'][45])"
   ]
  },
  {
   "cell_type": "code",
   "execution_count": 38,
   "metadata": {
    "scrolled": true
   },
   "outputs": [
    {
     "name": "stderr",
     "output_type": "stream",
     "text": [
      "<ipython-input-38-cfc12aaf38a4>:1: SettingWithCopyWarning: \n",
      "A value is trying to be set on a copy of a slice from a DataFrame.\n",
      "Try using .loc[row_indexer,col_indexer] = value instead\n",
      "\n",
      "See the caveats in the documentation: https://pandas.pydata.org/pandas-docs/stable/user_guide/indexing.html#returning-a-view-versus-a-copy\n",
      "  data['CleanReviews'] = data['Reviews'].apply(lambda x: review_cleaner(x))\n"
     ]
    }
   ],
   "source": [
    "data['CleanReviews'] = data['Reviews'].apply(lambda x: review_cleaner(x))"
   ]
  },
  {
   "cell_type": "code",
   "execution_count": 39,
   "metadata": {},
   "outputs": [
    {
     "data": {
      "text/plain": [
       "'I’ve wanted a duramax for a long time but finding the right one wasn’t easy! I am in LOVE with my new purchase. Can’t wait to hook my horse trailer to it!, This truck has everything...... Its by far the nicest pickup I have ever driven and owned !!!!! I would recommend this to all my friends !, After haven driving several new heavy duty diesel pickups I decided to go with the Chevrolet. The L5P engine is powerful, and Of course they’re all powerful these days. But this truck is fast, faster than my most of my friends trucks that have aftermarket tunes. Faster than my neighbors tuned 6.7 ford. 2019 was the last year of the real Allison transmission 6 speed so that’s a plus also. The new trucks have a GM 10 speed. The truck seems to be rock solid so far. No real issues yet. Hauled number ours heavy trailers and haven’t had an issue. Truck is my daily driver and rides great. It rides just like a half ton.'"
      ]
     },
     "execution_count": 39,
     "metadata": {},
     "output_type": "execute_result"
    }
   ],
   "source": [
    "data['CleanReviews'][8]"
   ]
  },
  {
   "cell_type": "markdown",
   "metadata": {},
   "source": [
    "**It works :)**"
   ]
  },
  {
   "cell_type": "code",
   "execution_count": 40,
   "metadata": {
    "scrolled": true
   },
   "outputs": [
    {
     "data": {
      "text/html": [
       "<div>\n",
       "<style scoped>\n",
       "    .dataframe tbody tr th:only-of-type {\n",
       "        vertical-align: middle;\n",
       "    }\n",
       "\n",
       "    .dataframe tbody tr th {\n",
       "        vertical-align: top;\n",
       "    }\n",
       "\n",
       "    .dataframe thead th {\n",
       "        text-align: right;\n",
       "    }\n",
       "</style>\n",
       "<table border=\"1\" class=\"dataframe\">\n",
       "  <thead>\n",
       "    <tr style=\"text-align: right;\">\n",
       "      <th></th>\n",
       "      <th>Model</th>\n",
       "      <th>Reviews</th>\n",
       "      <th>DriveTrain</th>\n",
       "      <th>MPG</th>\n",
       "      <th>FuelType</th>\n",
       "      <th>Transmission</th>\n",
       "      <th>Engine</th>\n",
       "      <th>Mileage</th>\n",
       "      <th>SalePrice</th>\n",
       "      <th>PriceCategory</th>\n",
       "      <th>CleanReviews</th>\n",
       "    </tr>\n",
       "  </thead>\n",
       "  <tbody>\n",
       "    <tr>\n",
       "      <th>0</th>\n",
       "      <td>['2020 Toyota RAV4 LE']</td>\n",
       "      <td>['Virtually nothing has gone wrong with my 202...</td>\n",
       "      <td>Front-wheel Drive</td>\n",
       "      <td>27–35</td>\n",
       "      <td>Gasoline</td>\n",
       "      <td>8-Speed Automatic</td>\n",
       "      <td>2.5L I4 16V PDI DOHC</td>\n",
       "      <td>53,200 mi.</td>\n",
       "      <td>29000.0</td>\n",
       "      <td>BelowAverage</td>\n",
       "      <td>Virtually nothing has gone wrong with my 2020 ...</td>\n",
       "    </tr>\n",
       "    <tr>\n",
       "      <th>1</th>\n",
       "      <td>['2016 Volkswagen e-Golf SE']</td>\n",
       "      <td>[\"Stranded today. Could not get to work. Somet...</td>\n",
       "      <td>Rear-wheel Drive</td>\n",
       "      <td>18–26</td>\n",
       "      <td>Gasoline</td>\n",
       "      <td>10-Speed Automatic</td>\n",
       "      <td>3.0L V6 24V GDI DOHC Twin Turbo</td>\n",
       "      <td>22,690 mi.</td>\n",
       "      <td>55975.0</td>\n",
       "      <td>Expensive</td>\n",
       "      <td>Stranded today. Could not get to work. Somethi...</td>\n",
       "    </tr>\n",
       "    <tr>\n",
       "      <th>2</th>\n",
       "      <td>['2020 Lincoln Aviator Reserve RWD']</td>\n",
       "      <td>['Excellent road car, quiet, stable, comfortab...</td>\n",
       "      <td>Four-wheel Drive</td>\n",
       "      <td>18–22</td>\n",
       "      <td>Gasoline</td>\n",
       "      <td>6-Speed Automatic</td>\n",
       "      <td>3.5L V6 24V PDI DOHC</td>\n",
       "      <td>17,854 mi.</td>\n",
       "      <td>38900.0</td>\n",
       "      <td>AboveAverage</td>\n",
       "      <td>Excellent road car, quiet, stable, comfortable...</td>\n",
       "    </tr>\n",
       "    <tr>\n",
       "      <th>3</th>\n",
       "      <td>['2021 Toyota Tacoma TRD Off Road']</td>\n",
       "      <td>['PURCHASED FROM NYE TOYOTA, MY FIRST TACOMA. ...</td>\n",
       "      <td>Front-wheel Drive</td>\n",
       "      <td>28–39</td>\n",
       "      <td>Gasoline</td>\n",
       "      <td>Automatic CVT</td>\n",
       "      <td>2.5L I4 16V GDI DOHC</td>\n",
       "      <td>60,907 mi.</td>\n",
       "      <td>22125.0</td>\n",
       "      <td>BelowAverage</td>\n",
       "      <td>PURCHASED FROM NYE TOYOTA, MY FIRST TACOMA. LO...</td>\n",
       "    </tr>\n",
       "    <tr>\n",
       "      <th>4</th>\n",
       "      <td>['2020 Nissan Altima 2.5 S']</td>\n",
       "      <td>['I’ve own a 2020 Altima (under 30k miles) for...</td>\n",
       "      <td>Front-wheel Drive</td>\n",
       "      <td>24–32</td>\n",
       "      <td>Gasoline</td>\n",
       "      <td>6-Speed Automatic</td>\n",
       "      <td>2.4L I4 16V GDI DOHC</td>\n",
       "      <td>41,614 mi.</td>\n",
       "      <td>23946.0</td>\n",
       "      <td>BelowAverage</td>\n",
       "      <td>I’ve own a 2020 Altima (under 30k miles) for a...</td>\n",
       "    </tr>\n",
       "  </tbody>\n",
       "</table>\n",
       "</div>"
      ],
      "text/plain": [
       "                                  Model  \\\n",
       "0               ['2020 Toyota RAV4 LE']   \n",
       "1         ['2016 Volkswagen e-Golf SE']   \n",
       "2  ['2020 Lincoln Aviator Reserve RWD']   \n",
       "3   ['2021 Toyota Tacoma TRD Off Road']   \n",
       "4          ['2020 Nissan Altima 2.5 S']   \n",
       "\n",
       "                                             Reviews           DriveTrain  \\\n",
       "0  ['Virtually nothing has gone wrong with my 202...   Front-wheel Drive    \n",
       "1  [\"Stranded today. Could not get to work. Somet...    Rear-wheel Drive    \n",
       "2  ['Excellent road car, quiet, stable, comfortab...    Four-wheel Drive    \n",
       "3  ['PURCHASED FROM NYE TOYOTA, MY FIRST TACOMA. ...   Front-wheel Drive    \n",
       "4  ['I’ve own a 2020 Altima (under 30k miles) for...   Front-wheel Drive    \n",
       "\n",
       "     MPG   FuelType        Transmission                           Engine  \\\n",
       "0  27–35  Gasoline    8-Speed Automatic             2.5L I4 16V PDI DOHC   \n",
       "1  18–26  Gasoline   10-Speed Automatic  3.0L V6 24V GDI DOHC Twin Turbo   \n",
       "2  18–22  Gasoline    6-Speed Automatic             3.5L V6 24V PDI DOHC   \n",
       "3  28–39  Gasoline        Automatic CVT             2.5L I4 16V GDI DOHC   \n",
       "4  24–32  Gasoline    6-Speed Automatic             2.4L I4 16V GDI DOHC   \n",
       "\n",
       "        Mileage  SalePrice PriceCategory  \\\n",
       "0   53,200 mi.     29000.0  BelowAverage   \n",
       "1   22,690 mi.     55975.0     Expensive   \n",
       "2   17,854 mi.     38900.0  AboveAverage   \n",
       "3   60,907 mi.     22125.0  BelowAverage   \n",
       "4   41,614 mi.     23946.0  BelowAverage   \n",
       "\n",
       "                                        CleanReviews  \n",
       "0  Virtually nothing has gone wrong with my 2020 ...  \n",
       "1  Stranded today. Could not get to work. Somethi...  \n",
       "2  Excellent road car, quiet, stable, comfortable...  \n",
       "3  PURCHASED FROM NYE TOYOTA, MY FIRST TACOMA. LO...  \n",
       "4  I’ve own a 2020 Altima (under 30k miles) for a...  "
      ]
     },
     "execution_count": 40,
     "metadata": {},
     "output_type": "execute_result"
    }
   ],
   "source": [
    "data.head()"
   ]
  },
  {
   "cell_type": "code",
   "execution_count": 41,
   "metadata": {
    "scrolled": true
   },
   "outputs": [
    {
     "data": {
      "text/plain": [
       "After 9800 miles and being towed 5 times, i would not recommend this truck for reliability for anything. I contacted Ford after being towed the 3rd time, and they said they couldn’t help me to resolve the issue, that i needed to take it for service. 3 fuel pumps later, I traded it for a chevy… couldn’t be happier. Nothing worse than be stranded on 2 lane highways between Oklahoma and Montana and feeling hopeless with little cell phone service. Don’t buy, they don’t stand behind their product , Love my2019 f-150  sport truck Nice power. For a 2.7. Twin turbo. This truck will move  nice gas mileage I get 20 city. About 24 high way.  It Drives.nice  handles well. For a big truck. No wonder it’s the  Best selling truck the last 40 years   , Best truck out there! Plenty of room for the grandkids seats and 4 people. Also, plenty of room in the bed for working/hauling materials. And all of this can happen at the same time. All of the HP youll need for anything. Recently hauled a load of heavy furniture and other household stuff over Monteagle mountain and I was passing cars going up the mountain!! POWERFUL!!                                                                                                                                                                                                                                                                                                                                                                                                                                                                                                                                                                                                                                                                                                                                                                                                                                                                                                                                                                                                                                                                                                                                                                                                                                                                                                                                                                                                                                                                                                                                                                                                                                                                                                                                                                                                                                                         65\n",
       "For such a good truck it sad that Ford was so cheap when they made the slide plate. The slide plate is made out of cardboard. , F150 Crew Cab STX package, 2WD, with Ecoboost 2.7. WOW! Super impressed with the fuel economy and power on this pickup. Bought it new, it was a great buy. A lot of space in the interior. Big screen display on the radio. Interior is easy to clean, the fabric on the seats is sporty. Rides smooth for being a pickup and I would say I averaged about 19 to 20 miles per gallon on the city. Definitely recommend this truck, I would definitely lean towards the ECOBOOST engine. The 2.7 is plenty of power and runs awesome. If you want an extra kick go with the 3.5, if your pulling a trailer around. Also the app for FORD on the phone was great. It gave you all the basic info on the truck anywhere. Parked location, odometer, fuel, tire pressure and a lot more. Great buy! , Safe, Comfy, Saves value, Cheap maintenanceI love this car.Powerful with less gas but you should know how to drive a V6 truck, never go back to Jeep after Ford                                                                                                                                                                                                                                                                                                                                                                                                                                                                                                                                                                                                                                                                                                                                                                                                                                                                                                                                                                                                                                                                                                                                                                                                                                                                                                                                                                                                                                                                                                                                                                                                                                                                                                                                                                                                                                                                                                                      64\n",
       "2018 XTL, 4X4, 302A Package 48000 mi. Other than wheel bearings, the vehicle has been flawless. Lots of room and the 2.7L has pep and is economical to operate. My major complaint is OE running boards, the chrome peels. No issues with the motor or transmission. Only expense other than fluid changes was new front brakes. This vehicle is driven in Northern Ontario and performs remarkably well in snow and rough roads. The 5 bed is perfect for our needs of hauling material for our DIY projects. We have hauled up to 3/4 yard of gravel without any difficulty It is the best vehicle I have ever owned., I bought my truck new on Dec 30th of 2018. I initially loved it. But my first warning sign was the engine was losing oil almost immediately- I set my oil changes for 5,000 miles. By the time I had an oil change it was right at a quart low. I thought it was a fluke and got 10,000 mile oil as I am very busy and it saves time. At 7,500 miles the truck was 2.5 Qts low on oil. I switched to 3,000 mile oil and oil changes then. The engine was also  making a plastic raspy noise whenever I let off the accelerator. Fast forward to this June. At this point Ive had the truck 3.5yrs, 86,000 miles. Never missed an oil change/service. The engine light starts flashing. So I have it towed to a local mechanic thinking it was maybe coil packs. He was stumped. Next have it towed to the Ford dealership. They call me today saying it has multiple cam timing issues. The cost to fix it is $4,700!!!!!  FOUR THOUSAND SEVEN HUNDRED.... The whole reason I invested in a new truck was so that I would have something that would be dependable for many years. Instead, I get a new truck that hasnt even lasted as long as the used trucks Ive bought. I could not be anymore more disappointed and angrier with the quality of this truck. Its a pretty truck, but if you want something dependable, look elsewhere., Luxury? Check. Utility? Check. What can you say about an $80k truck? Take the body of a workhorse F150 and squeeze in the cabin of a Lincoln. The 3.5L turbo Ecoboost has absolutely no issues moving this massive truck around. The 10 speed transmission is smooth to the point that I rarely feel it shift. Even when towing or with the box loaded. The cabin is eerily quit and supremely comfortable. The heated, cooled and massage(!) seats make even the longest road trip a pleasant experience. Read seat passengers will appreciate the heated rear seats, and plenty of usb, 12v and 110v charging options.Ive put 55k miles on this truck, and the only mechanical issue Ive experienced is a problem with the power running boards not fully extending. For a full size pickup, the ride is surprisingly smooth and the included driver assist features will make a lazy driver out of anyone.If you want a vehicle with the capabilities of a truck, and the comfort of a luxury sedan you cant go wrong with the F150 Limited.    54\n",
       "This is a great all-around truck that blends luxury features with a solid truck. With coil suspension on all wheels, it makes for a very soft and comfortable ride, while being able to tow anything you can throw its way. , Love my truck, interior and exterior. Would not give up the suspension, and comfortable ride.  Yes with gas prices now it does take more $$ to fill up but its still  a better ride than any other car I have owned. , After owning 13 previous Chevy and GMC 1500 and 2500 pickups, I decided to purchase a 21 1500 RAM Laramie. I absolutely love the truck from the quiet and luxurious interior to the rugged exterior styling. The truck does everything I need it too and more!                                                                                                                                                                                                                                                                                                                                                                                                                                                                                                                                                                                                                                                                                                                                                                                                                                                                                                                                                                                                                                                                                                                                                                                                                                                                                                                                                                                                                                                                                                                                                                                                                                                                                                                                                                                                                                                                                                                                                                                                                                                                                                                                                                                                                                                                                                    53\n",
       "I love everything about this car. Everything is exactly asThey claim the car is. Buy one you won’t be sorry. You don’t have to wait for a new one—a used one is justas good, even better. , Car rides very comfortable.  Nice design and detail.  Very happy with this car.  Would buy again, but realized I didn’t get everything I wanted on the car., I wanted to buy this car when I was in China. I bought a second-hand car in The IDEAL AUTO. Except for the ugly center console, the cars power and ride comfort are all right.                                                                                                                                                                                                                                                                                                                                                                                                                                                                                                                                                                                                                                                                                                                                                                                                                                                                                                                                                                                                                                                                                                                                                                                                                                                                                                                                                                                                                                                                                                                                                                                                                                                                                                                                                                                                                                                                                                                                                                                                                                                                                                                                                                                                                                                                                                                                                                                                                                                                                51\n",
       "                                                                                                                                                                                                                                                                                                                                                                                                                                                                                                                                                                                                                                                                                                                                                                                                                                                                                                                                                                                                                                                                                                                                                                                                                                                                                                                                                                                                                                                                                                                                                                                                                                                                                                                                                                                                                                                                                                                                                                                                                                                                                                                                                                                                                                                                                                                                                                                                                                                                                                                                                                                                                                                                                                                                                                                                                                                                                                                                                                                                                       ..\n",
       "This car looks and feels great. Comfort,style and fells great on the road. The test drive made me fall in love with this car. Very roomy and enough trunk space  for my needs, This car is absolutely perfect - its compact, reliable, the seats fold down and theres a lot of room! It handles INCREDIBLY and is so comfortable for long drives. There is limited leg room in the back seat so I wouldnt recommend this vehicle for a family or people who need a lot of space., The Juke is very different looking at is really fun. You have all kinds of people looking at you in the car and you can try to figure out if they like it or think its weird. Then when you drive you have so much fun! Quick, easy,  trendy.. all positive adjectives!                                                                                                                                                                                                                                                                                                                                                                                                                                                                                                                                                                                                                                                                                                                                                                                                                                                                                                                                                                                                                                                                                                                                                                                                                                                                                                                                                                                                                                                                                                                                                                                                                                                                                                                                                                                                                                                                                                                                                                                                                                                                                                                                                                                                                                                               1\n",
       "Fun and safe!Probably not everyday car.Doesn’t matter what I buy buy higher class BMW’s are far away in my opinion, this one is closer tho.., striking in appearance and handling for a LARGE SUV Value for the money you need to remember that you are buying one of the biggest of the SuV                                                                                                                                                                                                                                                                                                                                                                                                                                                                                                                                                                                                                                                                                                                                                                                                                                                                                                                                                                                                                                                                                                                                                                                                                                                                                                                                                                                                                                                                                                                                                                                                                                                                                                                                                                                                                                                                                                                                                                                                                                                                                                                                                                                                                                                                                                                                                                                                                                                                                                                                                                                                                                                                                                                            1\n",
       "We love our little 2015 Tucson! Perfect size! The car just wraps around me when I get into the driver’s seat.  Great little runabout!It is Red and the 2015 Tucson is the most beautiful shade of bright RED! Adorable and substantial car., I bought the 2015 Tucson GLS last year Sept 2019. The inside and exterior looks wonderful and it has bluetooth for convenience. At 70k mi the engine seized without warning on the freeway putting my family at risk. The engine blew, the hood went straight up covering the windshield. Hyundai Motors Customer Care is looking into this. I only had the car 1 year and changed the oil to synthetic before Hyundais yearly recommendation.  This is a serious safety hazard. I bought this car to safely transport my disabled grandson to Rady Childrens Hosp. for appts. Luckily he wasnt in it when this happened, This car meets all my needs. Great on gas, small Suv, leather interior wish this trunk was a little bigger but over all, great car.                                                                                                                                                                                                                                                                                                                                                                                                                                                                                                                                                                                                                                                                                                                                                                                                                                                                                                                                                                                                                                                                                                                                                                                                                                                                                                                                                                                                                                                                                                                                                                                                                                                                                                                                                                                                                                                                                                                                                                                                              1\n",
       "I am the 2nd owner of this car. I purchased it with 16900 mi on it. I have had 2 Cadillacs, 2 Acura MDX and a Lincoln MKS. This Continental Reserve is my most favorite of all. Beautiful to look at, amazing twin turbo performance, and truly comfortable to drive. I live in Alaska with a lot of winter driving and this AWD car gets around very well. Love Love Love it ! , I love everything about the car even massages while driving. Comfort style and handling is the best. I love sound system, accent lighting and 30 way seating.  Very happy customer., It drives good and had everything I wanted in a vehicle  I got a good price and purchasing was so easy and the sales person was very helpful and answered all my questions                                                                                                                                                                                                                                                                                                                                                                                                                                                                                                                                                                                                                                                                                                                                                                                                                                                                                                                                                                                                                                                                                                                                                                                                                                                                                                                                                                                                                                                                                                                                                                                                                                                                                                                                                                                                                                                                                                                                                                                                                                                                                                                                                                                                                                                                       1\n",
       "This is the best family car I’ve owned. The kids have their own entertainment while I can listen to my own music. Accessing the third row is no problem as the seat in the middle is removable and the pilot seats slide to the side, making it easy to get to the third row even when the pilot seats have car seats. It’s a wonderful car! , This van is AWFUL. Absolutely would not recommend it to anyone. It’s not safe. It has broken down on the highway THREE times. We have a dog & two toddlers. There is something wrong with the transmission yet Brandon Honda Dealership & Honda corporate won’t address the issues. The first time it broke down without warning was after buying it BRAND NEW & having less than 300 miles on it. The transmission went out completely. Do NOT BUY A HONDA ODYSSEY. , This is a brand new car, so all we can base this on is the ride home from purchasing it.  We traded in a 2014 Toyota Sienna AWD Limited which had been a good car, but it was lacking refinements in its information/entertainment center, and it was quite noisy and rough.  We can only judge from the 100+ miles we put on the Odyssey so far, but it is luxurious and smooth riding and quiet.  The drive on two-lane rough roads and interstate was wonderful.  There are too many features to mention here, but we are sure we made the right decision in purchasing this beautifully designed car.  Even the exterior has a very special look.  We purchased the white with beige interior and love it.                                                                                                                                                                                                                                                                                                                                                                                                                                                                                                                                                                                                                                                                                                                                                                                                                                                                                                                                                                                                                                                                                                                                                                                                                                                                                                                                                                                                                                                                                    1\n",
       "Name: CleanReviews, Length: 1898, dtype: int64"
      ]
     },
     "execution_count": 41,
     "metadata": {},
     "output_type": "execute_result"
    }
   ],
   "source": [
    "data['CleanReviews'].value_counts()"
   ]
  },
  {
   "cell_type": "code",
   "execution_count": 42,
   "metadata": {},
   "outputs": [
    {
     "data": {
      "text/plain": [
       "8475"
      ]
     },
     "execution_count": 42,
     "metadata": {},
     "output_type": "execute_result"
    }
   ],
   "source": [
    "len(data)"
   ]
  },
  {
   "cell_type": "markdown",
   "metadata": {},
   "source": [
    "**Save as csv**\n",
    "- This is so we can model in a different notebook"
   ]
  },
  {
   "cell_type": "code",
   "execution_count": 43,
   "metadata": {},
   "outputs": [],
   "source": [
    "#data.to_csv('cleanMVP.csv')"
   ]
  },
  {
   "cell_type": "markdown",
   "metadata": {},
   "source": [
    "**Secondary**\n",
    "- clean the rest of the data"
   ]
  },
  {
   "cell_type": "code",
   "execution_count": 44,
   "metadata": {},
   "outputs": [],
   "source": [
    "data = data.drop(columns='Reviews')"
   ]
  },
  {
   "cell_type": "code",
   "execution_count": 45,
   "metadata": {},
   "outputs": [
    {
     "data": {
      "text/html": [
       "<div>\n",
       "<style scoped>\n",
       "    .dataframe tbody tr th:only-of-type {\n",
       "        vertical-align: middle;\n",
       "    }\n",
       "\n",
       "    .dataframe tbody tr th {\n",
       "        vertical-align: top;\n",
       "    }\n",
       "\n",
       "    .dataframe thead th {\n",
       "        text-align: right;\n",
       "    }\n",
       "</style>\n",
       "<table border=\"1\" class=\"dataframe\">\n",
       "  <thead>\n",
       "    <tr style=\"text-align: right;\">\n",
       "      <th></th>\n",
       "      <th>Model</th>\n",
       "      <th>DriveTrain</th>\n",
       "      <th>MPG</th>\n",
       "      <th>FuelType</th>\n",
       "      <th>Transmission</th>\n",
       "      <th>Engine</th>\n",
       "      <th>Mileage</th>\n",
       "      <th>SalePrice</th>\n",
       "      <th>PriceCategory</th>\n",
       "      <th>CleanReviews</th>\n",
       "    </tr>\n",
       "  </thead>\n",
       "  <tbody>\n",
       "    <tr>\n",
       "      <th>0</th>\n",
       "      <td>['2020 Toyota RAV4 LE']</td>\n",
       "      <td>Front-wheel Drive</td>\n",
       "      <td>27–35</td>\n",
       "      <td>Gasoline</td>\n",
       "      <td>8-Speed Automatic</td>\n",
       "      <td>2.5L I4 16V PDI DOHC</td>\n",
       "      <td>53,200 mi.</td>\n",
       "      <td>29000.0</td>\n",
       "      <td>BelowAverage</td>\n",
       "      <td>Virtually nothing has gone wrong with my 2020 ...</td>\n",
       "    </tr>\n",
       "    <tr>\n",
       "      <th>1</th>\n",
       "      <td>['2016 Volkswagen e-Golf SE']</td>\n",
       "      <td>Rear-wheel Drive</td>\n",
       "      <td>18–26</td>\n",
       "      <td>Gasoline</td>\n",
       "      <td>10-Speed Automatic</td>\n",
       "      <td>3.0L V6 24V GDI DOHC Twin Turbo</td>\n",
       "      <td>22,690 mi.</td>\n",
       "      <td>55975.0</td>\n",
       "      <td>Expensive</td>\n",
       "      <td>Stranded today. Could not get to work. Somethi...</td>\n",
       "    </tr>\n",
       "    <tr>\n",
       "      <th>2</th>\n",
       "      <td>['2020 Lincoln Aviator Reserve RWD']</td>\n",
       "      <td>Four-wheel Drive</td>\n",
       "      <td>18–22</td>\n",
       "      <td>Gasoline</td>\n",
       "      <td>6-Speed Automatic</td>\n",
       "      <td>3.5L V6 24V PDI DOHC</td>\n",
       "      <td>17,854 mi.</td>\n",
       "      <td>38900.0</td>\n",
       "      <td>AboveAverage</td>\n",
       "      <td>Excellent road car, quiet, stable, comfortable...</td>\n",
       "    </tr>\n",
       "    <tr>\n",
       "      <th>3</th>\n",
       "      <td>['2021 Toyota Tacoma TRD Off Road']</td>\n",
       "      <td>Front-wheel Drive</td>\n",
       "      <td>28–39</td>\n",
       "      <td>Gasoline</td>\n",
       "      <td>Automatic CVT</td>\n",
       "      <td>2.5L I4 16V GDI DOHC</td>\n",
       "      <td>60,907 mi.</td>\n",
       "      <td>22125.0</td>\n",
       "      <td>BelowAverage</td>\n",
       "      <td>PURCHASED FROM NYE TOYOTA, MY FIRST TACOMA. LO...</td>\n",
       "    </tr>\n",
       "    <tr>\n",
       "      <th>4</th>\n",
       "      <td>['2020 Nissan Altima 2.5 S']</td>\n",
       "      <td>Front-wheel Drive</td>\n",
       "      <td>24–32</td>\n",
       "      <td>Gasoline</td>\n",
       "      <td>6-Speed Automatic</td>\n",
       "      <td>2.4L I4 16V GDI DOHC</td>\n",
       "      <td>41,614 mi.</td>\n",
       "      <td>23946.0</td>\n",
       "      <td>BelowAverage</td>\n",
       "      <td>I’ve own a 2020 Altima (under 30k miles) for a...</td>\n",
       "    </tr>\n",
       "    <tr>\n",
       "      <th>...</th>\n",
       "      <td>...</td>\n",
       "      <td>...</td>\n",
       "      <td>...</td>\n",
       "      <td>...</td>\n",
       "      <td>...</td>\n",
       "      <td>...</td>\n",
       "      <td>...</td>\n",
       "      <td>...</td>\n",
       "      <td>...</td>\n",
       "      <td>...</td>\n",
       "    </tr>\n",
       "    <tr>\n",
       "      <th>8476</th>\n",
       "      <td>['2022 BMW X5 xDrive40i']</td>\n",
       "      <td>Four-wheel Drive</td>\n",
       "      <td>18–25</td>\n",
       "      <td>Gasoline</td>\n",
       "      <td>8-Speed Automatic</td>\n",
       "      <td>3.6L V6 24V MPFI DOHC</td>\n",
       "      <td>78,378 mi.</td>\n",
       "      <td>25500.0</td>\n",
       "      <td>BelowAverage</td>\n",
       "      <td>Only had the X5 for 4 weeks now but so far it ...</td>\n",
       "    </tr>\n",
       "    <tr>\n",
       "      <th>8477</th>\n",
       "      <td>['2019 Toyota Tacoma TRD Off Road']</td>\n",
       "      <td>All-wheel Drive</td>\n",
       "      <td>18–25</td>\n",
       "      <td>Gasoline</td>\n",
       "      <td>8-Speed Automatic</td>\n",
       "      <td>3.6L V6 24V MPFI DOHC</td>\n",
       "      <td>30,909 mi.</td>\n",
       "      <td>35590.0</td>\n",
       "      <td>Average</td>\n",
       "      <td>When I bought my 2020 Tacoma V6 (3.5L) 4x4 in ...</td>\n",
       "    </tr>\n",
       "    <tr>\n",
       "      <th>8478</th>\n",
       "      <td>['2015 INFINITI QX80 Base']</td>\n",
       "      <td>Front-wheel Drive</td>\n",
       "      <td>23–30</td>\n",
       "      <td>Gasoline</td>\n",
       "      <td>6-SPEED A/T</td>\n",
       "      <td>4 Cylinder Engine</td>\n",
       "      <td>30,186 mi.</td>\n",
       "      <td>24000.0</td>\n",
       "      <td>BelowAverage</td>\n",
       "      <td>Everything is great except the rear view camer...</td>\n",
       "    </tr>\n",
       "    <tr>\n",
       "      <th>8479</th>\n",
       "      <td>['2020 Toyota Tundra SR5']</td>\n",
       "      <td>Four-wheel Drive</td>\n",
       "      <td>15–21</td>\n",
       "      <td>Gasoline</td>\n",
       "      <td>8-Speed Automatic</td>\n",
       "      <td>5.7L V8 16V MPFI OHV</td>\n",
       "      <td>22,309 mi.</td>\n",
       "      <td>71077.0</td>\n",
       "      <td>Expensive</td>\n",
       "      <td>I have owned smaller SUV\\s and Trucks for over...</td>\n",
       "    </tr>\n",
       "    <tr>\n",
       "      <th>8480</th>\n",
       "      <td>['2021 Buick Enclave Essence']</td>\n",
       "      <td>Four-wheel Drive</td>\n",
       "      <td>20–27</td>\n",
       "      <td>Gasoline</td>\n",
       "      <td>Automatic CVT</td>\n",
       "      <td>3.5L V6 24V GDI DOHC</td>\n",
       "      <td>9,399 mi.</td>\n",
       "      <td>34988.0</td>\n",
       "      <td>Average</td>\n",
       "      <td>Transmission and brake problems. Transmission ...</td>\n",
       "    </tr>\n",
       "  </tbody>\n",
       "</table>\n",
       "<p>8475 rows × 10 columns</p>\n",
       "</div>"
      ],
      "text/plain": [
       "                                     Model           DriveTrain    MPG  \\\n",
       "0                  ['2020 Toyota RAV4 LE']   Front-wheel Drive   27–35   \n",
       "1            ['2016 Volkswagen e-Golf SE']    Rear-wheel Drive   18–26   \n",
       "2     ['2020 Lincoln Aviator Reserve RWD']    Four-wheel Drive   18–22   \n",
       "3      ['2021 Toyota Tacoma TRD Off Road']   Front-wheel Drive   28–39   \n",
       "4             ['2020 Nissan Altima 2.5 S']   Front-wheel Drive   24–32   \n",
       "...                                    ...                  ...    ...   \n",
       "8476             ['2022 BMW X5 xDrive40i']    Four-wheel Drive   18–25   \n",
       "8477   ['2019 Toyota Tacoma TRD Off Road']     All-wheel Drive   18–25   \n",
       "8478           ['2015 INFINITI QX80 Base']   Front-wheel Drive   23–30   \n",
       "8479            ['2020 Toyota Tundra SR5']    Four-wheel Drive   15–21   \n",
       "8480        ['2021 Buick Enclave Essence']    Four-wheel Drive   20–27   \n",
       "\n",
       "       FuelType        Transmission                           Engine  \\\n",
       "0     Gasoline    8-Speed Automatic             2.5L I4 16V PDI DOHC   \n",
       "1     Gasoline   10-Speed Automatic  3.0L V6 24V GDI DOHC Twin Turbo   \n",
       "2     Gasoline    6-Speed Automatic             3.5L V6 24V PDI DOHC   \n",
       "3     Gasoline        Automatic CVT             2.5L I4 16V GDI DOHC   \n",
       "4     Gasoline    6-Speed Automatic             2.4L I4 16V GDI DOHC   \n",
       "...         ...                 ...                              ...   \n",
       "8476  Gasoline    8-Speed Automatic            3.6L V6 24V MPFI DOHC   \n",
       "8477  Gasoline    8-Speed Automatic            3.6L V6 24V MPFI DOHC   \n",
       "8478  Gasoline          6-SPEED A/T                4 Cylinder Engine   \n",
       "8479  Gasoline    8-Speed Automatic             5.7L V8 16V MPFI OHV   \n",
       "8480  Gasoline        Automatic CVT             3.5L V6 24V GDI DOHC   \n",
       "\n",
       "           Mileage  SalePrice PriceCategory  \\\n",
       "0      53,200 mi.     29000.0  BelowAverage   \n",
       "1      22,690 mi.     55975.0     Expensive   \n",
       "2      17,854 mi.     38900.0  AboveAverage   \n",
       "3      60,907 mi.     22125.0  BelowAverage   \n",
       "4      41,614 mi.     23946.0  BelowAverage   \n",
       "...            ...        ...           ...   \n",
       "8476   78,378 mi.     25500.0  BelowAverage   \n",
       "8477   30,909 mi.     35590.0       Average   \n",
       "8478   30,186 mi.     24000.0  BelowAverage   \n",
       "8479   22,309 mi.     71077.0     Expensive   \n",
       "8480    9,399 mi.     34988.0       Average   \n",
       "\n",
       "                                           CleanReviews  \n",
       "0     Virtually nothing has gone wrong with my 2020 ...  \n",
       "1     Stranded today. Could not get to work. Somethi...  \n",
       "2     Excellent road car, quiet, stable, comfortable...  \n",
       "3     PURCHASED FROM NYE TOYOTA, MY FIRST TACOMA. LO...  \n",
       "4     I’ve own a 2020 Altima (under 30k miles) for a...  \n",
       "...                                                 ...  \n",
       "8476  Only had the X5 for 4 weeks now but so far it ...  \n",
       "8477  When I bought my 2020 Tacoma V6 (3.5L) 4x4 in ...  \n",
       "8478  Everything is great except the rear view camer...  \n",
       "8479  I have owned smaller SUV\\s and Trucks for over...  \n",
       "8480  Transmission and brake problems. Transmission ...  \n",
       "\n",
       "[8475 rows x 10 columns]"
      ]
     },
     "execution_count": 45,
     "metadata": {},
     "output_type": "execute_result"
    }
   ],
   "source": [
    "data"
   ]
  },
  {
   "cell_type": "code",
   "execution_count": 46,
   "metadata": {},
   "outputs": [],
   "source": [
    "data['Model'] = data['Model'].apply(lambda x: review_cleaner(x))"
   ]
  },
  {
   "cell_type": "code",
   "execution_count": 47,
   "metadata": {},
   "outputs": [
    {
     "data": {
      "text/plain": [
       "'RAV4'"
      ]
     },
     "execution_count": 47,
     "metadata": {},
     "output_type": "execute_result"
    }
   ],
   "source": [
    "data['Model'][0].split()[2]"
   ]
  },
  {
   "cell_type": "markdown",
   "metadata": {},
   "source": [
    "**Get year model and make in seperate cols**"
   ]
  },
  {
   "cell_type": "code",
   "execution_count": 48,
   "metadata": {},
   "outputs": [],
   "source": [
    "data['Year'] = data['Model'].apply(lambda x: x.split()[0])"
   ]
  },
  {
   "cell_type": "code",
   "execution_count": 49,
   "metadata": {},
   "outputs": [],
   "source": [
    "data['Make'] = data['Model'].apply(lambda x: x.split()[1])"
   ]
  },
  {
   "cell_type": "code",
   "execution_count": 50,
   "metadata": {},
   "outputs": [],
   "source": [
    "data['Car_Model'] = data['Model'].apply(lambda x: x.split()[2])"
   ]
  },
  {
   "cell_type": "code",
   "execution_count": 51,
   "metadata": {
    "scrolled": true
   },
   "outputs": [
    {
     "data": {
      "text/html": [
       "<div>\n",
       "<style scoped>\n",
       "    .dataframe tbody tr th:only-of-type {\n",
       "        vertical-align: middle;\n",
       "    }\n",
       "\n",
       "    .dataframe tbody tr th {\n",
       "        vertical-align: top;\n",
       "    }\n",
       "\n",
       "    .dataframe thead th {\n",
       "        text-align: right;\n",
       "    }\n",
       "</style>\n",
       "<table border=\"1\" class=\"dataframe\">\n",
       "  <thead>\n",
       "    <tr style=\"text-align: right;\">\n",
       "      <th></th>\n",
       "      <th>Model</th>\n",
       "      <th>DriveTrain</th>\n",
       "      <th>MPG</th>\n",
       "      <th>FuelType</th>\n",
       "      <th>Transmission</th>\n",
       "      <th>Engine</th>\n",
       "      <th>Mileage</th>\n",
       "      <th>SalePrice</th>\n",
       "      <th>PriceCategory</th>\n",
       "      <th>CleanReviews</th>\n",
       "      <th>Year</th>\n",
       "      <th>Make</th>\n",
       "      <th>Car_Model</th>\n",
       "    </tr>\n",
       "  </thead>\n",
       "  <tbody>\n",
       "    <tr>\n",
       "      <th>0</th>\n",
       "      <td>2020 Toyota RAV4 LE</td>\n",
       "      <td>Front-wheel Drive</td>\n",
       "      <td>27–35</td>\n",
       "      <td>Gasoline</td>\n",
       "      <td>8-Speed Automatic</td>\n",
       "      <td>2.5L I4 16V PDI DOHC</td>\n",
       "      <td>53,200 mi.</td>\n",
       "      <td>29000.0</td>\n",
       "      <td>BelowAverage</td>\n",
       "      <td>Virtually nothing has gone wrong with my 2020 ...</td>\n",
       "      <td>2020</td>\n",
       "      <td>Toyota</td>\n",
       "      <td>RAV4</td>\n",
       "    </tr>\n",
       "    <tr>\n",
       "      <th>1</th>\n",
       "      <td>2016 Volkswagen e-Golf SE</td>\n",
       "      <td>Rear-wheel Drive</td>\n",
       "      <td>18–26</td>\n",
       "      <td>Gasoline</td>\n",
       "      <td>10-Speed Automatic</td>\n",
       "      <td>3.0L V6 24V GDI DOHC Twin Turbo</td>\n",
       "      <td>22,690 mi.</td>\n",
       "      <td>55975.0</td>\n",
       "      <td>Expensive</td>\n",
       "      <td>Stranded today. Could not get to work. Somethi...</td>\n",
       "      <td>2016</td>\n",
       "      <td>Volkswagen</td>\n",
       "      <td>e-Golf</td>\n",
       "    </tr>\n",
       "    <tr>\n",
       "      <th>2</th>\n",
       "      <td>2020 Lincoln Aviator Reserve RWD</td>\n",
       "      <td>Four-wheel Drive</td>\n",
       "      <td>18–22</td>\n",
       "      <td>Gasoline</td>\n",
       "      <td>6-Speed Automatic</td>\n",
       "      <td>3.5L V6 24V PDI DOHC</td>\n",
       "      <td>17,854 mi.</td>\n",
       "      <td>38900.0</td>\n",
       "      <td>AboveAverage</td>\n",
       "      <td>Excellent road car, quiet, stable, comfortable...</td>\n",
       "      <td>2020</td>\n",
       "      <td>Lincoln</td>\n",
       "      <td>Aviator</td>\n",
       "    </tr>\n",
       "    <tr>\n",
       "      <th>3</th>\n",
       "      <td>2021 Toyota Tacoma TRD Off Road</td>\n",
       "      <td>Front-wheel Drive</td>\n",
       "      <td>28–39</td>\n",
       "      <td>Gasoline</td>\n",
       "      <td>Automatic CVT</td>\n",
       "      <td>2.5L I4 16V GDI DOHC</td>\n",
       "      <td>60,907 mi.</td>\n",
       "      <td>22125.0</td>\n",
       "      <td>BelowAverage</td>\n",
       "      <td>PURCHASED FROM NYE TOYOTA, MY FIRST TACOMA. LO...</td>\n",
       "      <td>2021</td>\n",
       "      <td>Toyota</td>\n",
       "      <td>Tacoma</td>\n",
       "    </tr>\n",
       "    <tr>\n",
       "      <th>4</th>\n",
       "      <td>2020 Nissan Altima 2.5 S</td>\n",
       "      <td>Front-wheel Drive</td>\n",
       "      <td>24–32</td>\n",
       "      <td>Gasoline</td>\n",
       "      <td>6-Speed Automatic</td>\n",
       "      <td>2.4L I4 16V GDI DOHC</td>\n",
       "      <td>41,614 mi.</td>\n",
       "      <td>23946.0</td>\n",
       "      <td>BelowAverage</td>\n",
       "      <td>I’ve own a 2020 Altima (under 30k miles) for a...</td>\n",
       "      <td>2020</td>\n",
       "      <td>Nissan</td>\n",
       "      <td>Altima</td>\n",
       "    </tr>\n",
       "  </tbody>\n",
       "</table>\n",
       "</div>"
      ],
      "text/plain": [
       "                              Model           DriveTrain    MPG   FuelType  \\\n",
       "0               2020 Toyota RAV4 LE   Front-wheel Drive   27–35  Gasoline    \n",
       "1         2016 Volkswagen e-Golf SE    Rear-wheel Drive   18–26  Gasoline    \n",
       "2  2020 Lincoln Aviator Reserve RWD    Four-wheel Drive   18–22  Gasoline    \n",
       "3   2021 Toyota Tacoma TRD Off Road   Front-wheel Drive   28–39  Gasoline    \n",
       "4          2020 Nissan Altima 2.5 S   Front-wheel Drive   24–32  Gasoline    \n",
       "\n",
       "         Transmission                           Engine       Mileage  \\\n",
       "0   8-Speed Automatic             2.5L I4 16V PDI DOHC   53,200 mi.    \n",
       "1  10-Speed Automatic  3.0L V6 24V GDI DOHC Twin Turbo   22,690 mi.    \n",
       "2   6-Speed Automatic             3.5L V6 24V PDI DOHC   17,854 mi.    \n",
       "3       Automatic CVT             2.5L I4 16V GDI DOHC   60,907 mi.    \n",
       "4   6-Speed Automatic             2.4L I4 16V GDI DOHC   41,614 mi.    \n",
       "\n",
       "   SalePrice PriceCategory                                       CleanReviews  \\\n",
       "0    29000.0  BelowAverage  Virtually nothing has gone wrong with my 2020 ...   \n",
       "1    55975.0     Expensive  Stranded today. Could not get to work. Somethi...   \n",
       "2    38900.0  AboveAverage  Excellent road car, quiet, stable, comfortable...   \n",
       "3    22125.0  BelowAverage  PURCHASED FROM NYE TOYOTA, MY FIRST TACOMA. LO...   \n",
       "4    23946.0  BelowAverage  I’ve own a 2020 Altima (under 30k miles) for a...   \n",
       "\n",
       "   Year        Make Car_Model  \n",
       "0  2020      Toyota      RAV4  \n",
       "1  2016  Volkswagen    e-Golf  \n",
       "2  2020     Lincoln   Aviator  \n",
       "3  2021      Toyota    Tacoma  \n",
       "4  2020      Nissan    Altima  "
      ]
     },
     "execution_count": 51,
     "metadata": {},
     "output_type": "execute_result"
    }
   ],
   "source": [
    "data.head()"
   ]
  },
  {
   "cell_type": "markdown",
   "metadata": {},
   "source": [
    "**turn mileage and year into floats**"
   ]
  },
  {
   "cell_type": "code",
   "execution_count": 52,
   "metadata": {},
   "outputs": [],
   "source": [
    "data['Mileage'] = data['Mileage'].str.translate({ord(i): None for i in ',mi. '})"
   ]
  },
  {
   "cell_type": "code",
   "execution_count": 53,
   "metadata": {},
   "outputs": [],
   "source": [
    "data = data[data['Mileage'] != '–']"
   ]
  },
  {
   "cell_type": "code",
   "execution_count": 54,
   "metadata": {},
   "outputs": [],
   "source": [
    "data = data.reset_index(drop=True)"
   ]
  },
  {
   "cell_type": "code",
   "execution_count": 55,
   "metadata": {},
   "outputs": [],
   "source": [
    "data['Mileage'] = data['Mileage'].astype(float)"
   ]
  },
  {
   "cell_type": "code",
   "execution_count": 56,
   "metadata": {
    "scrolled": true
   },
   "outputs": [],
   "source": [
    "data['Year'] = data['Year'].astype(float)"
   ]
  },
  {
   "cell_type": "markdown",
   "metadata": {},
   "source": [
    "**simpify cols**\n",
    "- DriveTrain - AWD, FWD, RWD\n",
    "- FuelType - GAS, DIS, ELE\n",
    "- Engine - size and cylinders\n",
    "- Transmission - AUTO, MANUEL, ELE\n",
    "- MPG - City, Highway"
   ]
  },
  {
   "cell_type": "code",
   "execution_count": 57,
   "metadata": {},
   "outputs": [
    {
     "data": {
      "text/plain": [
       " Front-wheel Drive     3640\n",
       " All-wheel Drive       1795\n",
       " Four-wheel Drive      1609\n",
       " Rear-wheel Drive      1389\n",
       " FWD                     31\n",
       " AWD                      6\n",
       " RWD                      3\n",
       " 4WD                      1\n",
       "Name: DriveTrain, dtype: int64"
      ]
     },
     "execution_count": 57,
     "metadata": {},
     "output_type": "execute_result"
    }
   ],
   "source": [
    "data['DriveTrain'].value_counts()"
   ]
  },
  {
   "cell_type": "code",
   "execution_count": 58,
   "metadata": {},
   "outputs": [],
   "source": [
    "driveT = {' Front-wheel Drive ' : 'FWD',\n",
    "         ' All-wheel Drive ' : 'AWD',\n",
    "         ' Four-wheel Drive ' : 'FWD',\n",
    "         ' Rear-wheel Drive ' : 'RWD',\n",
    "         ' 4WD ' : 'FWD',\n",
    "         ' FWD ' : 'FWD',\n",
    "         ' AWD ' : 'AWD',\n",
    "         ' RWD ' : 'RWD'}"
   ]
  },
  {
   "cell_type": "code",
   "execution_count": 59,
   "metadata": {},
   "outputs": [
    {
     "data": {
      "text/plain": [
       "FWD    5281\n",
       "AWD    1801\n",
       "RWD    1392\n",
       "Name: DriveTrain, dtype: int64"
      ]
     },
     "execution_count": 59,
     "metadata": {},
     "output_type": "execute_result"
    }
   ],
   "source": [
    "data.replace({\"DriveTrain\": driveT})['DriveTrain'].value_counts()"
   ]
  },
  {
   "cell_type": "code",
   "execution_count": 60,
   "metadata": {},
   "outputs": [],
   "source": [
    "data.replace({'DriveTrain': driveT},inplace=True)"
   ]
  },
  {
   "cell_type": "code",
   "execution_count": 61,
   "metadata": {},
   "outputs": [
    {
     "data": {
      "text/plain": [
       "19–26        329\n",
       "Gasoline     328\n",
       "20–27        240\n",
       "19–24        214\n",
       "18–25        163\n",
       "            ... \n",
       "30–28          1\n",
       "14–24          1\n",
       "18–29          1\n",
       "32–39          1\n",
       "137–111        1\n",
       "Name: MPG, Length: 300, dtype: int64"
      ]
     },
     "execution_count": 61,
     "metadata": {},
     "output_type": "execute_result"
    }
   ],
   "source": [
    "data['MPG'].value_counts()"
   ]
  },
  {
   "cell_type": "code",
   "execution_count": 62,
   "metadata": {},
   "outputs": [
    {
     "data": {
      "text/plain": [
       "'35'"
      ]
     },
     "execution_count": 62,
     "metadata": {},
     "output_type": "execute_result"
    }
   ],
   "source": [
    "data['MPG'][0].split('–')[1]"
   ]
  },
  {
   "cell_type": "markdown",
   "metadata": {},
   "source": [
    "**Using weird number to be able to find and then change to an average when mpg is a float**"
   ]
  },
  {
   "cell_type": "code",
   "execution_count": 63,
   "metadata": {},
   "outputs": [],
   "source": [
    "gasDict = {'Diesel ' : '456–654',\n",
    "          'Gasoline ' : '789–987',\n",
    "          'E85 Flex Fuel ' : '789–987',\n",
    "          'Hybrid ' : '789–987',\n",
    "          'Electric ' : '1234–4321'}"
   ]
  },
  {
   "cell_type": "code",
   "execution_count": 64,
   "metadata": {},
   "outputs": [],
   "source": [
    "data.replace({\"MPG\": gasDict}, inplace=True)"
   ]
  },
  {
   "cell_type": "code",
   "execution_count": 65,
   "metadata": {},
   "outputs": [
    {
     "data": {
      "text/html": [
       "<div>\n",
       "<style scoped>\n",
       "    .dataframe tbody tr th:only-of-type {\n",
       "        vertical-align: middle;\n",
       "    }\n",
       "\n",
       "    .dataframe tbody tr th {\n",
       "        vertical-align: top;\n",
       "    }\n",
       "\n",
       "    .dataframe thead th {\n",
       "        text-align: right;\n",
       "    }\n",
       "</style>\n",
       "<table border=\"1\" class=\"dataframe\">\n",
       "  <thead>\n",
       "    <tr style=\"text-align: right;\">\n",
       "      <th></th>\n",
       "      <th>Model</th>\n",
       "      <th>DriveTrain</th>\n",
       "      <th>MPG</th>\n",
       "      <th>FuelType</th>\n",
       "      <th>Transmission</th>\n",
       "      <th>Engine</th>\n",
       "      <th>Mileage</th>\n",
       "      <th>SalePrice</th>\n",
       "      <th>PriceCategory</th>\n",
       "      <th>CleanReviews</th>\n",
       "      <th>Year</th>\n",
       "      <th>Make</th>\n",
       "      <th>Car_Model</th>\n",
       "    </tr>\n",
       "  </thead>\n",
       "  <tbody>\n",
       "    <tr>\n",
       "      <th>0</th>\n",
       "      <td>2020 Toyota RAV4 LE</td>\n",
       "      <td>FWD</td>\n",
       "      <td>27–35</td>\n",
       "      <td>Gasoline</td>\n",
       "      <td>8-Speed Automatic</td>\n",
       "      <td>2.5L I4 16V PDI DOHC</td>\n",
       "      <td>53200.0</td>\n",
       "      <td>29000.0</td>\n",
       "      <td>BelowAverage</td>\n",
       "      <td>Virtually nothing has gone wrong with my 2020 ...</td>\n",
       "      <td>2020.0</td>\n",
       "      <td>Toyota</td>\n",
       "      <td>RAV4</td>\n",
       "    </tr>\n",
       "    <tr>\n",
       "      <th>1</th>\n",
       "      <td>2016 Volkswagen e-Golf SE</td>\n",
       "      <td>RWD</td>\n",
       "      <td>18–26</td>\n",
       "      <td>Gasoline</td>\n",
       "      <td>10-Speed Automatic</td>\n",
       "      <td>3.0L V6 24V GDI DOHC Twin Turbo</td>\n",
       "      <td>22690.0</td>\n",
       "      <td>55975.0</td>\n",
       "      <td>Expensive</td>\n",
       "      <td>Stranded today. Could not get to work. Somethi...</td>\n",
       "      <td>2016.0</td>\n",
       "      <td>Volkswagen</td>\n",
       "      <td>e-Golf</td>\n",
       "    </tr>\n",
       "    <tr>\n",
       "      <th>2</th>\n",
       "      <td>2020 Lincoln Aviator Reserve RWD</td>\n",
       "      <td>FWD</td>\n",
       "      <td>18–22</td>\n",
       "      <td>Gasoline</td>\n",
       "      <td>6-Speed Automatic</td>\n",
       "      <td>3.5L V6 24V PDI DOHC</td>\n",
       "      <td>17854.0</td>\n",
       "      <td>38900.0</td>\n",
       "      <td>AboveAverage</td>\n",
       "      <td>Excellent road car, quiet, stable, comfortable...</td>\n",
       "      <td>2020.0</td>\n",
       "      <td>Lincoln</td>\n",
       "      <td>Aviator</td>\n",
       "    </tr>\n",
       "    <tr>\n",
       "      <th>3</th>\n",
       "      <td>2021 Toyota Tacoma TRD Off Road</td>\n",
       "      <td>FWD</td>\n",
       "      <td>28–39</td>\n",
       "      <td>Gasoline</td>\n",
       "      <td>Automatic CVT</td>\n",
       "      <td>2.5L I4 16V GDI DOHC</td>\n",
       "      <td>60907.0</td>\n",
       "      <td>22125.0</td>\n",
       "      <td>BelowAverage</td>\n",
       "      <td>PURCHASED FROM NYE TOYOTA, MY FIRST TACOMA. LO...</td>\n",
       "      <td>2021.0</td>\n",
       "      <td>Toyota</td>\n",
       "      <td>Tacoma</td>\n",
       "    </tr>\n",
       "    <tr>\n",
       "      <th>4</th>\n",
       "      <td>2020 Nissan Altima 2.5 S</td>\n",
       "      <td>FWD</td>\n",
       "      <td>24–32</td>\n",
       "      <td>Gasoline</td>\n",
       "      <td>6-Speed Automatic</td>\n",
       "      <td>2.4L I4 16V GDI DOHC</td>\n",
       "      <td>41614.0</td>\n",
       "      <td>23946.0</td>\n",
       "      <td>BelowAverage</td>\n",
       "      <td>I’ve own a 2020 Altima (under 30k miles) for a...</td>\n",
       "      <td>2020.0</td>\n",
       "      <td>Nissan</td>\n",
       "      <td>Altima</td>\n",
       "    </tr>\n",
       "    <tr>\n",
       "      <th>...</th>\n",
       "      <td>...</td>\n",
       "      <td>...</td>\n",
       "      <td>...</td>\n",
       "      <td>...</td>\n",
       "      <td>...</td>\n",
       "      <td>...</td>\n",
       "      <td>...</td>\n",
       "      <td>...</td>\n",
       "      <td>...</td>\n",
       "      <td>...</td>\n",
       "      <td>...</td>\n",
       "      <td>...</td>\n",
       "      <td>...</td>\n",
       "    </tr>\n",
       "    <tr>\n",
       "      <th>8469</th>\n",
       "      <td>2022 BMW X5 xDrive40i</td>\n",
       "      <td>FWD</td>\n",
       "      <td>18–25</td>\n",
       "      <td>Gasoline</td>\n",
       "      <td>8-Speed Automatic</td>\n",
       "      <td>3.6L V6 24V MPFI DOHC</td>\n",
       "      <td>78378.0</td>\n",
       "      <td>25500.0</td>\n",
       "      <td>BelowAverage</td>\n",
       "      <td>Only had the X5 for 4 weeks now but so far it ...</td>\n",
       "      <td>2022.0</td>\n",
       "      <td>BMW</td>\n",
       "      <td>X5</td>\n",
       "    </tr>\n",
       "    <tr>\n",
       "      <th>8470</th>\n",
       "      <td>2019 Toyota Tacoma TRD Off Road</td>\n",
       "      <td>AWD</td>\n",
       "      <td>18–25</td>\n",
       "      <td>Gasoline</td>\n",
       "      <td>8-Speed Automatic</td>\n",
       "      <td>3.6L V6 24V MPFI DOHC</td>\n",
       "      <td>30909.0</td>\n",
       "      <td>35590.0</td>\n",
       "      <td>Average</td>\n",
       "      <td>When I bought my 2020 Tacoma V6 (3.5L) 4x4 in ...</td>\n",
       "      <td>2019.0</td>\n",
       "      <td>Toyota</td>\n",
       "      <td>Tacoma</td>\n",
       "    </tr>\n",
       "    <tr>\n",
       "      <th>8471</th>\n",
       "      <td>2015 INFINITI QX80 Base</td>\n",
       "      <td>FWD</td>\n",
       "      <td>23–30</td>\n",
       "      <td>Gasoline</td>\n",
       "      <td>6-SPEED A/T</td>\n",
       "      <td>4 Cylinder Engine</td>\n",
       "      <td>30186.0</td>\n",
       "      <td>24000.0</td>\n",
       "      <td>BelowAverage</td>\n",
       "      <td>Everything is great except the rear view camer...</td>\n",
       "      <td>2015.0</td>\n",
       "      <td>INFINITI</td>\n",
       "      <td>QX80</td>\n",
       "    </tr>\n",
       "    <tr>\n",
       "      <th>8472</th>\n",
       "      <td>2020 Toyota Tundra SR5</td>\n",
       "      <td>FWD</td>\n",
       "      <td>15–21</td>\n",
       "      <td>Gasoline</td>\n",
       "      <td>8-Speed Automatic</td>\n",
       "      <td>5.7L V8 16V MPFI OHV</td>\n",
       "      <td>22309.0</td>\n",
       "      <td>71077.0</td>\n",
       "      <td>Expensive</td>\n",
       "      <td>I have owned smaller SUV\\s and Trucks for over...</td>\n",
       "      <td>2020.0</td>\n",
       "      <td>Toyota</td>\n",
       "      <td>Tundra</td>\n",
       "    </tr>\n",
       "    <tr>\n",
       "      <th>8473</th>\n",
       "      <td>2021 Buick Enclave Essence</td>\n",
       "      <td>FWD</td>\n",
       "      <td>20–27</td>\n",
       "      <td>Gasoline</td>\n",
       "      <td>Automatic CVT</td>\n",
       "      <td>3.5L V6 24V GDI DOHC</td>\n",
       "      <td>9399.0</td>\n",
       "      <td>34988.0</td>\n",
       "      <td>Average</td>\n",
       "      <td>Transmission and brake problems. Transmission ...</td>\n",
       "      <td>2021.0</td>\n",
       "      <td>Buick</td>\n",
       "      <td>Enclave</td>\n",
       "    </tr>\n",
       "  </tbody>\n",
       "</table>\n",
       "<p>8474 rows × 13 columns</p>\n",
       "</div>"
      ],
      "text/plain": [
       "                                 Model DriveTrain    MPG   FuelType  \\\n",
       "0                  2020 Toyota RAV4 LE        FWD  27–35  Gasoline    \n",
       "1            2016 Volkswagen e-Golf SE        RWD  18–26  Gasoline    \n",
       "2     2020 Lincoln Aviator Reserve RWD        FWD  18–22  Gasoline    \n",
       "3      2021 Toyota Tacoma TRD Off Road        FWD  28–39  Gasoline    \n",
       "4             2020 Nissan Altima 2.5 S        FWD  24–32  Gasoline    \n",
       "...                                ...        ...    ...        ...   \n",
       "8469             2022 BMW X5 xDrive40i        FWD  18–25  Gasoline    \n",
       "8470   2019 Toyota Tacoma TRD Off Road        AWD  18–25  Gasoline    \n",
       "8471           2015 INFINITI QX80 Base        FWD  23–30  Gasoline    \n",
       "8472            2020 Toyota Tundra SR5        FWD  15–21  Gasoline    \n",
       "8473        2021 Buick Enclave Essence        FWD  20–27  Gasoline    \n",
       "\n",
       "            Transmission                           Engine  Mileage  SalePrice  \\\n",
       "0      8-Speed Automatic             2.5L I4 16V PDI DOHC  53200.0    29000.0   \n",
       "1     10-Speed Automatic  3.0L V6 24V GDI DOHC Twin Turbo  22690.0    55975.0   \n",
       "2      6-Speed Automatic             3.5L V6 24V PDI DOHC  17854.0    38900.0   \n",
       "3          Automatic CVT             2.5L I4 16V GDI DOHC  60907.0    22125.0   \n",
       "4      6-Speed Automatic             2.4L I4 16V GDI DOHC  41614.0    23946.0   \n",
       "...                  ...                              ...      ...        ...   \n",
       "8469   8-Speed Automatic            3.6L V6 24V MPFI DOHC  78378.0    25500.0   \n",
       "8470   8-Speed Automatic            3.6L V6 24V MPFI DOHC  30909.0    35590.0   \n",
       "8471         6-SPEED A/T                4 Cylinder Engine  30186.0    24000.0   \n",
       "8472   8-Speed Automatic             5.7L V8 16V MPFI OHV  22309.0    71077.0   \n",
       "8473       Automatic CVT             3.5L V6 24V GDI DOHC   9399.0    34988.0   \n",
       "\n",
       "     PriceCategory                                       CleanReviews    Year  \\\n",
       "0     BelowAverage  Virtually nothing has gone wrong with my 2020 ...  2020.0   \n",
       "1        Expensive  Stranded today. Could not get to work. Somethi...  2016.0   \n",
       "2     AboveAverage  Excellent road car, quiet, stable, comfortable...  2020.0   \n",
       "3     BelowAverage  PURCHASED FROM NYE TOYOTA, MY FIRST TACOMA. LO...  2021.0   \n",
       "4     BelowAverage  I’ve own a 2020 Altima (under 30k miles) for a...  2020.0   \n",
       "...            ...                                                ...     ...   \n",
       "8469  BelowAverage  Only had the X5 for 4 weeks now but so far it ...  2022.0   \n",
       "8470       Average  When I bought my 2020 Tacoma V6 (3.5L) 4x4 in ...  2019.0   \n",
       "8471  BelowAverage  Everything is great except the rear view camer...  2015.0   \n",
       "8472     Expensive  I have owned smaller SUV\\s and Trucks for over...  2020.0   \n",
       "8473       Average  Transmission and brake problems. Transmission ...  2021.0   \n",
       "\n",
       "            Make Car_Model  \n",
       "0         Toyota      RAV4  \n",
       "1     Volkswagen    e-Golf  \n",
       "2        Lincoln   Aviator  \n",
       "3         Toyota    Tacoma  \n",
       "4         Nissan    Altima  \n",
       "...          ...       ...  \n",
       "8469         BMW        X5  \n",
       "8470      Toyota    Tacoma  \n",
       "8471    INFINITI      QX80  \n",
       "8472      Toyota    Tundra  \n",
       "8473       Buick   Enclave  \n",
       "\n",
       "[8474 rows x 13 columns]"
      ]
     },
     "execution_count": 65,
     "metadata": {},
     "output_type": "execute_result"
    }
   ],
   "source": [
    "data"
   ]
  },
  {
   "cell_type": "markdown",
   "metadata": {},
   "source": [
    "**will only grab city mpg, some cars don't have highway mpg**"
   ]
  },
  {
   "cell_type": "code",
   "execution_count": 66,
   "metadata": {},
   "outputs": [
    {
     "data": {
      "text/plain": [
       "'22'"
      ]
     },
     "execution_count": 66,
     "metadata": {},
     "output_type": "execute_result"
    }
   ],
   "source": [
    "data['MPG'][299]"
   ]
  },
  {
   "cell_type": "code",
   "execution_count": 67,
   "metadata": {
    "scrolled": true
   },
   "outputs": [],
   "source": [
    "data['MPG']  = data['MPG'].apply(lambda x: float(x.split('–')[0]))"
   ]
  },
  {
   "cell_type": "code",
   "execution_count": 68,
   "metadata": {},
   "outputs": [],
   "source": [
    "data = data.drop(columns=['Model'])"
   ]
  },
  {
   "cell_type": "code",
   "execution_count": 69,
   "metadata": {},
   "outputs": [
    {
     "data": {
      "text/plain": [
       "Index(['Gasoline ', 'Diesel ', 'E85 Flex Fuel ', 'Hybrid ', 'Electric ',\n",
       "       'Gasoline Fuel ', 'Gasoline/Mild Electric Hybrid '],\n",
       "      dtype='object')"
      ]
     },
     "execution_count": 69,
     "metadata": {},
     "output_type": "execute_result"
    }
   ],
   "source": [
    "data['FuelType'].value_counts().index"
   ]
  },
  {
   "cell_type": "code",
   "execution_count": 70,
   "metadata": {},
   "outputs": [],
   "source": [
    "fueldict = {'Gasoline ' : 'Gasoline',\n",
    "           'Diesel ' : 'Diesel',\n",
    "           'E85 Flex Fuel ': 'Gasoline',\n",
    "           'Hybrid ' : 'Hybird',\n",
    "           'Electric ' : 'Electric',\n",
    "           'Gasoline Fuel ' : 'Gasoline',\n",
    "           'Gasoline/Mild Electric Hybrid ' : 'Hybird'}"
   ]
  },
  {
   "cell_type": "code",
   "execution_count": 71,
   "metadata": {},
   "outputs": [],
   "source": [
    "data.replace({\"FuelType\": fueldict}, inplace=True)"
   ]
  },
  {
   "cell_type": "code",
   "execution_count": 72,
   "metadata": {},
   "outputs": [
    {
     "data": {
      "text/plain": [
       "Gasoline    8079\n",
       "Diesel       170\n",
       "Hybird       143\n",
       "Electric      82\n",
       "Name: FuelType, dtype: int64"
      ]
     },
     "execution_count": 72,
     "metadata": {},
     "output_type": "execute_result"
    }
   ],
   "source": [
    "data['FuelType'].value_counts()"
   ]
  },
  {
   "cell_type": "code",
   "execution_count": 73,
   "metadata": {},
   "outputs": [
    {
     "data": {
      "text/html": [
       "<div>\n",
       "<style scoped>\n",
       "    .dataframe tbody tr th:only-of-type {\n",
       "        vertical-align: middle;\n",
       "    }\n",
       "\n",
       "    .dataframe tbody tr th {\n",
       "        vertical-align: top;\n",
       "    }\n",
       "\n",
       "    .dataframe thead th {\n",
       "        text-align: right;\n",
       "    }\n",
       "</style>\n",
       "<table border=\"1\" class=\"dataframe\">\n",
       "  <thead>\n",
       "    <tr style=\"text-align: right;\">\n",
       "      <th></th>\n",
       "      <th>DriveTrain</th>\n",
       "      <th>MPG</th>\n",
       "      <th>FuelType</th>\n",
       "      <th>Transmission</th>\n",
       "      <th>Engine</th>\n",
       "      <th>Mileage</th>\n",
       "      <th>SalePrice</th>\n",
       "      <th>PriceCategory</th>\n",
       "      <th>CleanReviews</th>\n",
       "      <th>Year</th>\n",
       "      <th>Make</th>\n",
       "      <th>Car_Model</th>\n",
       "    </tr>\n",
       "  </thead>\n",
       "  <tbody>\n",
       "    <tr>\n",
       "      <th>0</th>\n",
       "      <td>FWD</td>\n",
       "      <td>27.0</td>\n",
       "      <td>Gasoline</td>\n",
       "      <td>8-Speed Automatic</td>\n",
       "      <td>2.5L I4 16V PDI DOHC</td>\n",
       "      <td>53200.0</td>\n",
       "      <td>29000.0</td>\n",
       "      <td>BelowAverage</td>\n",
       "      <td>Virtually nothing has gone wrong with my 2020 ...</td>\n",
       "      <td>2020.0</td>\n",
       "      <td>Toyota</td>\n",
       "      <td>RAV4</td>\n",
       "    </tr>\n",
       "    <tr>\n",
       "      <th>1</th>\n",
       "      <td>RWD</td>\n",
       "      <td>18.0</td>\n",
       "      <td>Gasoline</td>\n",
       "      <td>10-Speed Automatic</td>\n",
       "      <td>3.0L V6 24V GDI DOHC Twin Turbo</td>\n",
       "      <td>22690.0</td>\n",
       "      <td>55975.0</td>\n",
       "      <td>Expensive</td>\n",
       "      <td>Stranded today. Could not get to work. Somethi...</td>\n",
       "      <td>2016.0</td>\n",
       "      <td>Volkswagen</td>\n",
       "      <td>e-Golf</td>\n",
       "    </tr>\n",
       "    <tr>\n",
       "      <th>2</th>\n",
       "      <td>FWD</td>\n",
       "      <td>18.0</td>\n",
       "      <td>Gasoline</td>\n",
       "      <td>6-Speed Automatic</td>\n",
       "      <td>3.5L V6 24V PDI DOHC</td>\n",
       "      <td>17854.0</td>\n",
       "      <td>38900.0</td>\n",
       "      <td>AboveAverage</td>\n",
       "      <td>Excellent road car, quiet, stable, comfortable...</td>\n",
       "      <td>2020.0</td>\n",
       "      <td>Lincoln</td>\n",
       "      <td>Aviator</td>\n",
       "    </tr>\n",
       "    <tr>\n",
       "      <th>3</th>\n",
       "      <td>FWD</td>\n",
       "      <td>28.0</td>\n",
       "      <td>Gasoline</td>\n",
       "      <td>Automatic CVT</td>\n",
       "      <td>2.5L I4 16V GDI DOHC</td>\n",
       "      <td>60907.0</td>\n",
       "      <td>22125.0</td>\n",
       "      <td>BelowAverage</td>\n",
       "      <td>PURCHASED FROM NYE TOYOTA, MY FIRST TACOMA. LO...</td>\n",
       "      <td>2021.0</td>\n",
       "      <td>Toyota</td>\n",
       "      <td>Tacoma</td>\n",
       "    </tr>\n",
       "    <tr>\n",
       "      <th>4</th>\n",
       "      <td>FWD</td>\n",
       "      <td>24.0</td>\n",
       "      <td>Gasoline</td>\n",
       "      <td>6-Speed Automatic</td>\n",
       "      <td>2.4L I4 16V GDI DOHC</td>\n",
       "      <td>41614.0</td>\n",
       "      <td>23946.0</td>\n",
       "      <td>BelowAverage</td>\n",
       "      <td>I’ve own a 2020 Altima (under 30k miles) for a...</td>\n",
       "      <td>2020.0</td>\n",
       "      <td>Nissan</td>\n",
       "      <td>Altima</td>\n",
       "    </tr>\n",
       "    <tr>\n",
       "      <th>...</th>\n",
       "      <td>...</td>\n",
       "      <td>...</td>\n",
       "      <td>...</td>\n",
       "      <td>...</td>\n",
       "      <td>...</td>\n",
       "      <td>...</td>\n",
       "      <td>...</td>\n",
       "      <td>...</td>\n",
       "      <td>...</td>\n",
       "      <td>...</td>\n",
       "      <td>...</td>\n",
       "      <td>...</td>\n",
       "    </tr>\n",
       "    <tr>\n",
       "      <th>8469</th>\n",
       "      <td>FWD</td>\n",
       "      <td>18.0</td>\n",
       "      <td>Gasoline</td>\n",
       "      <td>8-Speed Automatic</td>\n",
       "      <td>3.6L V6 24V MPFI DOHC</td>\n",
       "      <td>78378.0</td>\n",
       "      <td>25500.0</td>\n",
       "      <td>BelowAverage</td>\n",
       "      <td>Only had the X5 for 4 weeks now but so far it ...</td>\n",
       "      <td>2022.0</td>\n",
       "      <td>BMW</td>\n",
       "      <td>X5</td>\n",
       "    </tr>\n",
       "    <tr>\n",
       "      <th>8470</th>\n",
       "      <td>AWD</td>\n",
       "      <td>18.0</td>\n",
       "      <td>Gasoline</td>\n",
       "      <td>8-Speed Automatic</td>\n",
       "      <td>3.6L V6 24V MPFI DOHC</td>\n",
       "      <td>30909.0</td>\n",
       "      <td>35590.0</td>\n",
       "      <td>Average</td>\n",
       "      <td>When I bought my 2020 Tacoma V6 (3.5L) 4x4 in ...</td>\n",
       "      <td>2019.0</td>\n",
       "      <td>Toyota</td>\n",
       "      <td>Tacoma</td>\n",
       "    </tr>\n",
       "    <tr>\n",
       "      <th>8471</th>\n",
       "      <td>FWD</td>\n",
       "      <td>23.0</td>\n",
       "      <td>Gasoline</td>\n",
       "      <td>6-SPEED A/T</td>\n",
       "      <td>4 Cylinder Engine</td>\n",
       "      <td>30186.0</td>\n",
       "      <td>24000.0</td>\n",
       "      <td>BelowAverage</td>\n",
       "      <td>Everything is great except the rear view camer...</td>\n",
       "      <td>2015.0</td>\n",
       "      <td>INFINITI</td>\n",
       "      <td>QX80</td>\n",
       "    </tr>\n",
       "    <tr>\n",
       "      <th>8472</th>\n",
       "      <td>FWD</td>\n",
       "      <td>15.0</td>\n",
       "      <td>Gasoline</td>\n",
       "      <td>8-Speed Automatic</td>\n",
       "      <td>5.7L V8 16V MPFI OHV</td>\n",
       "      <td>22309.0</td>\n",
       "      <td>71077.0</td>\n",
       "      <td>Expensive</td>\n",
       "      <td>I have owned smaller SUV\\s and Trucks for over...</td>\n",
       "      <td>2020.0</td>\n",
       "      <td>Toyota</td>\n",
       "      <td>Tundra</td>\n",
       "    </tr>\n",
       "    <tr>\n",
       "      <th>8473</th>\n",
       "      <td>FWD</td>\n",
       "      <td>20.0</td>\n",
       "      <td>Gasoline</td>\n",
       "      <td>Automatic CVT</td>\n",
       "      <td>3.5L V6 24V GDI DOHC</td>\n",
       "      <td>9399.0</td>\n",
       "      <td>34988.0</td>\n",
       "      <td>Average</td>\n",
       "      <td>Transmission and brake problems. Transmission ...</td>\n",
       "      <td>2021.0</td>\n",
       "      <td>Buick</td>\n",
       "      <td>Enclave</td>\n",
       "    </tr>\n",
       "  </tbody>\n",
       "</table>\n",
       "<p>8474 rows × 12 columns</p>\n",
       "</div>"
      ],
      "text/plain": [
       "     DriveTrain   MPG  FuelType        Transmission  \\\n",
       "0           FWD  27.0  Gasoline   8-Speed Automatic   \n",
       "1           RWD  18.0  Gasoline  10-Speed Automatic   \n",
       "2           FWD  18.0  Gasoline   6-Speed Automatic   \n",
       "3           FWD  28.0  Gasoline       Automatic CVT   \n",
       "4           FWD  24.0  Gasoline   6-Speed Automatic   \n",
       "...         ...   ...       ...                 ...   \n",
       "8469        FWD  18.0  Gasoline   8-Speed Automatic   \n",
       "8470        AWD  18.0  Gasoline   8-Speed Automatic   \n",
       "8471        FWD  23.0  Gasoline         6-SPEED A/T   \n",
       "8472        FWD  15.0  Gasoline   8-Speed Automatic   \n",
       "8473        FWD  20.0  Gasoline       Automatic CVT   \n",
       "\n",
       "                               Engine  Mileage  SalePrice PriceCategory  \\\n",
       "0                2.5L I4 16V PDI DOHC  53200.0    29000.0  BelowAverage   \n",
       "1     3.0L V6 24V GDI DOHC Twin Turbo  22690.0    55975.0     Expensive   \n",
       "2                3.5L V6 24V PDI DOHC  17854.0    38900.0  AboveAverage   \n",
       "3                2.5L I4 16V GDI DOHC  60907.0    22125.0  BelowAverage   \n",
       "4                2.4L I4 16V GDI DOHC  41614.0    23946.0  BelowAverage   \n",
       "...                               ...      ...        ...           ...   \n",
       "8469            3.6L V6 24V MPFI DOHC  78378.0    25500.0  BelowAverage   \n",
       "8470            3.6L V6 24V MPFI DOHC  30909.0    35590.0       Average   \n",
       "8471                4 Cylinder Engine  30186.0    24000.0  BelowAverage   \n",
       "8472             5.7L V8 16V MPFI OHV  22309.0    71077.0     Expensive   \n",
       "8473             3.5L V6 24V GDI DOHC   9399.0    34988.0       Average   \n",
       "\n",
       "                                           CleanReviews    Year        Make  \\\n",
       "0     Virtually nothing has gone wrong with my 2020 ...  2020.0      Toyota   \n",
       "1     Stranded today. Could not get to work. Somethi...  2016.0  Volkswagen   \n",
       "2     Excellent road car, quiet, stable, comfortable...  2020.0     Lincoln   \n",
       "3     PURCHASED FROM NYE TOYOTA, MY FIRST TACOMA. LO...  2021.0      Toyota   \n",
       "4     I’ve own a 2020 Altima (under 30k miles) for a...  2020.0      Nissan   \n",
       "...                                                 ...     ...         ...   \n",
       "8469  Only had the X5 for 4 weeks now but so far it ...  2022.0         BMW   \n",
       "8470  When I bought my 2020 Tacoma V6 (3.5L) 4x4 in ...  2019.0      Toyota   \n",
       "8471  Everything is great except the rear view camer...  2015.0    INFINITI   \n",
       "8472  I have owned smaller SUV\\s and Trucks for over...  2020.0      Toyota   \n",
       "8473  Transmission and brake problems. Transmission ...  2021.0       Buick   \n",
       "\n",
       "     Car_Model  \n",
       "0         RAV4  \n",
       "1       e-Golf  \n",
       "2      Aviator  \n",
       "3       Tacoma  \n",
       "4       Altima  \n",
       "...        ...  \n",
       "8469        X5  \n",
       "8470    Tacoma  \n",
       "8471      QX80  \n",
       "8472    Tundra  \n",
       "8473   Enclave  \n",
       "\n",
       "[8474 rows x 12 columns]"
      ]
     },
     "execution_count": 73,
     "metadata": {},
     "output_type": "execute_result"
    }
   ],
   "source": [
    "data"
   ]
  },
  {
   "cell_type": "code",
   "execution_count": 74,
   "metadata": {},
   "outputs": [
    {
     "data": {
      "text/plain": [
       "8-Speed Automatic                                    2372\n",
       "6-Speed Automatic                                    1660\n",
       "Automatic CVT                                        1170\n",
       "9-Speed Automatic                                     614\n",
       "Automatic                                             590\n",
       "                                                     ... \n",
       "6-SPEED AUTOMATIC, ELECTRONICALLY CONTROLLED WITH       1\n",
       "8 speed tiptronic s automatic                           1\n",
       "7-Speed Double Clutch                                   1\n",
       "Auto                                                    1\n",
       "8-SPEED AUTOMATIC (845RE)                               1\n",
       "Name: Transmission, Length: 143, dtype: int64"
      ]
     },
     "execution_count": 74,
     "metadata": {},
     "output_type": "execute_result"
    }
   ],
   "source": [
    "data['Transmission'].value_counts()"
   ]
  },
  {
   "cell_type": "code",
   "execution_count": 75,
   "metadata": {},
   "outputs": [
    {
     "data": {
      "text/plain": [
       "0        8-Speed Automatic\n",
       "1       10-Speed Automatic\n",
       "2        6-Speed Automatic\n",
       "3            Automatic CVT\n",
       "4        6-Speed Automatic\n",
       "               ...        \n",
       "8469     8-Speed Automatic\n",
       "8470     8-Speed Automatic\n",
       "8471           6-SPEED A/T\n",
       "8472     8-Speed Automatic\n",
       "8473         Automatic CVT\n",
       "Name: Transmission, Length: 8474, dtype: object"
      ]
     },
     "execution_count": 75,
     "metadata": {},
     "output_type": "execute_result"
    }
   ],
   "source": [
    "data['Transmission']"
   ]
  },
  {
   "cell_type": "code",
   "execution_count": 76,
   "metadata": {
    "scrolled": true
   },
   "outputs": [],
   "source": [
    "data['isAuto'] = data['Transmission'].str.lower().str.contains(\"auto\")"
   ]
  },
  {
   "cell_type": "markdown",
   "metadata": {},
   "source": [
    "**dropping transmission and fueltype cols**\n",
    "- each col is dominated by a single value, ~95%\n",
    "- model won't learn much from it\n",
    "- sklearn.feature_selection.VarianceThreshold\n",
    "     - sklearn has the same idea with the threshold being 90-95% to drop a column"
   ]
  },
  {
   "cell_type": "code",
   "execution_count": 77,
   "metadata": {},
   "outputs": [
    {
     "data": {
      "text/plain": [
       "True     0.941822\n",
       "False    0.058178\n",
       "Name: isAuto, dtype: float64"
      ]
     },
     "execution_count": 77,
     "metadata": {},
     "output_type": "execute_result"
    }
   ],
   "source": [
    "data['isAuto'].value_counts(normalize=True)"
   ]
  },
  {
   "cell_type": "code",
   "execution_count": 78,
   "metadata": {},
   "outputs": [
    {
     "data": {
      "text/plain": [
       "Gasoline    0.953387\n",
       "Diesel      0.020061\n",
       "Hybird      0.016875\n",
       "Electric    0.009677\n",
       "Name: FuelType, dtype: float64"
      ]
     },
     "execution_count": 78,
     "metadata": {},
     "output_type": "execute_result"
    }
   ],
   "source": [
    "data['FuelType'].value_counts(normalize=True)"
   ]
  },
  {
   "cell_type": "code",
   "execution_count": 79,
   "metadata": {
    "scrolled": true
   },
   "outputs": [],
   "source": [
    "data = data.drop(columns=['FuelType', 'Transmission', 'isAuto'])"
   ]
  },
  {
   "cell_type": "code",
   "execution_count": 80,
   "metadata": {},
   "outputs": [],
   "source": [
    "data['EngineSize'] = data['Engine'].apply(lambda x: x.split()[0])"
   ]
  },
  {
   "cell_type": "code",
   "execution_count": 81,
   "metadata": {},
   "outputs": [],
   "source": [
    "cyl = []"
   ]
  },
  {
   "cell_type": "code",
   "execution_count": 82,
   "metadata": {},
   "outputs": [],
   "source": [
    "for x in data['Engine']:\n",
    "    try:\n",
    "        cyl.append(x.split()[1])\n",
    "    except:\n",
    "        cyl.append('none')"
   ]
  },
  {
   "cell_type": "code",
   "execution_count": 83,
   "metadata": {},
   "outputs": [],
   "source": [
    "data['Cylinders'] = cyl"
   ]
  },
  {
   "cell_type": "code",
   "execution_count": 84,
   "metadata": {},
   "outputs": [],
   "source": [
    "data = data.replace({'Cylinders':{'I4':4, \n",
    "                       'V6':6,\n",
    "                       'V8':8,\n",
    "                      'I6':6,\n",
    "                      'H4':4,\n",
    "                      'I3': 3,\n",
    "                       'H6': 6,\n",
    "                      '6': 6,\n",
    "                      '3.0L': 6,\n",
    "                      'V12':12,\n",
    "                      '3.7L': 6,\n",
    "                      'I5': 5}})"
   ]
  },
  {
   "cell_type": "code",
   "execution_count": 88,
   "metadata": {},
   "outputs": [],
   "source": [
    "data['hasCyl'] = data['Cylinders'].str.isdigit()"
   ]
  },
  {
   "cell_type": "code",
   "execution_count": 89,
   "metadata": {},
   "outputs": [],
   "source": [
    "data['hasSize'] = data['EngineSize'].str.contains('L')"
   ]
  },
  {
   "cell_type": "code",
   "execution_count": 93,
   "metadata": {},
   "outputs": [],
   "source": [
    "data = data.drop(columns='Engine')"
   ]
  },
  {
   "cell_type": "code",
   "execution_count": 107,
   "metadata": {
    "scrolled": true
   },
   "outputs": [
    {
     "data": {
      "text/plain": [
       "4           3614\n",
       "6           2703\n",
       "8           1250\n",
       "Cylinder     435\n",
       "none         226\n",
       "Unleaded      66\n",
       "3             54\n",
       "Turbo         50\n",
       "Cyl           11\n",
       "Gas            7\n",
       "12             7\n",
       "Motor          6\n",
       "3.5L           5\n",
       "5              4\n",
       "Diesel         3\n",
       "2.0L           3\n",
       "W12            3\n",
       "2.5L           3\n",
       "1.6L           2\n",
       "5.7L           2\n",
       "DOHC           2\n",
       "5.6L           2\n",
       "4.6L           2\n",
       "SOHC           1\n",
       "Nu             1\n",
       "1.5L           1\n",
       "1.3/           1\n",
       "2.3L           1\n",
       "3.8L           1\n",
       "4.0L           1\n",
       "4.4L           1\n",
       "V10            1\n",
       "3.4L           1\n",
       "4.7L           1\n",
       "5.5L           1\n",
       "6.2L           1\n",
       "3.6L           1\n",
       "Name: Cylinders, dtype: int64"
      ]
     },
     "execution_count": 107,
     "metadata": {},
     "output_type": "execute_result"
    }
   ],
   "source": [
    "data['Cylinders'].value_counts()"
   ]
  },
  {
   "cell_type": "code",
   "execution_count": 144,
   "metadata": {},
   "outputs": [
    {
     "data": {
      "text/plain": [
       "Index(['2.0L', '3.5L', '2.5L', '3.6L', '3.0L', '2.4L', '1.5L', '5.3L', '5.7L',\n",
       "       '4', 'V6', '4.0L', '1.8L', '6.2L', '1.6L', '5.0L', '2.7L', '3.8L', '8',\n",
       "       'Electric', '2.3L', '1.4L', '4.4L', '3.3L', '5.6L', 'I4', '6.7L',\n",
       "       'Regular', '4.6L', '6.6L', 'Intercooled', '6.4L', '3.7L', 'Gas', '6.0L',\n",
       "       '4.7L', 'V8', '3.2L', '2.9L', 'Straight', 'Engine:', '5.5L',\n",
       "       'Turbocharged', '1.3L', '1.0L', '4.3L', 'Twin', '6', '1.2L', 'Premium',\n",
       "       '335.0HP', 'Gas/Ethanol', '5.4L', '5', '395.0HP', '3.4L', '4.8L',\n",
       "       '400.0HP', '290.0HP', '4.2L', '275.0HP', '181.0HP', '403.0HP', '7.4L',\n",
       "       '175.0HP', '380.0HP', '503.0HP', '2.1L', '3', '170.0HP', 'Engine:1.8L',\n",
       "       '190.0HP', '5.2L', '250.0HP', '7.0L', '185.0HP', '6.8L', '333.0HP',\n",
       "       '2.2L', '180.0HP', '235.0HP', '445.0HP', '345.0HP', '10', '12', '3.9L',\n",
       "       'Ecoboost', '248.0HP', '210.0HP', '640.0HP', 'VORTEC', '178.0HP',\n",
       "       '280.0HP'],\n",
       "      dtype='object')"
      ]
     },
     "execution_count": 144,
     "metadata": {},
     "output_type": "execute_result"
    }
   ],
   "source": [
    "data['EngineSize'].value_counts().index"
   ]
  },
  {
   "cell_type": "code",
   "execution_count": 156,
   "metadata": {},
   "outputs": [
    {
     "data": {
      "text/html": [
       "<div>\n",
       "<style scoped>\n",
       "    .dataframe tbody tr th:only-of-type {\n",
       "        vertical-align: middle;\n",
       "    }\n",
       "\n",
       "    .dataframe tbody tr th {\n",
       "        vertical-align: top;\n",
       "    }\n",
       "\n",
       "    .dataframe thead th {\n",
       "        text-align: right;\n",
       "    }\n",
       "</style>\n",
       "<table border=\"1\" class=\"dataframe\">\n",
       "  <thead>\n",
       "    <tr style=\"text-align: right;\">\n",
       "      <th></th>\n",
       "      <th>DriveTrain</th>\n",
       "      <th>MPG</th>\n",
       "      <th>Mileage</th>\n",
       "      <th>SalePrice</th>\n",
       "      <th>PriceCategory</th>\n",
       "      <th>CleanReviews</th>\n",
       "      <th>Year</th>\n",
       "      <th>Make</th>\n",
       "      <th>Car_Model</th>\n",
       "      <th>EngineSize</th>\n",
       "      <th>Cylinders</th>\n",
       "      <th>hasCyl</th>\n",
       "      <th>hasSize</th>\n",
       "      <th>newSize</th>\n",
       "    </tr>\n",
       "  </thead>\n",
       "  <tbody>\n",
       "    <tr>\n",
       "      <th>15</th>\n",
       "      <td>FWD</td>\n",
       "      <td>29.0</td>\n",
       "      <td>105026.0</td>\n",
       "      <td>14433.0</td>\n",
       "      <td>Cheap</td>\n",
       "      <td>Beautiful, comfortable, responsive... my only ...</td>\n",
       "      <td>2020.0</td>\n",
       "      <td>Lexus</td>\n",
       "      <td>ES</td>\n",
       "      <td>Regular</td>\n",
       "      <td>Unleaded</td>\n",
       "      <td>False</td>\n",
       "      <td>False</td>\n",
       "      <td>Regular</td>\n",
       "    </tr>\n",
       "    <tr>\n",
       "      <th>21</th>\n",
       "      <td>FWD</td>\n",
       "      <td>20.0</td>\n",
       "      <td>28716.0</td>\n",
       "      <td>47590.0</td>\n",
       "      <td>AboveAverage</td>\n",
       "      <td>The X3 m40i is the best family vehicle. Got a ...</td>\n",
       "      <td>2019.0</td>\n",
       "      <td>BMW</td>\n",
       "      <td>X3</td>\n",
       "      <td>V6</td>\n",
       "      <td>Cylinder</td>\n",
       "      <td>False</td>\n",
       "      <td>False</td>\n",
       "      <td>3.5L</td>\n",
       "    </tr>\n",
       "    <tr>\n",
       "      <th>36</th>\n",
       "      <td>RWD</td>\n",
       "      <td>25.0</td>\n",
       "      <td>98467.0</td>\n",
       "      <td>24786.0</td>\n",
       "      <td>BelowAverage</td>\n",
       "      <td>I got my crew cab 2019 F250 XLT with the 6.2L ...</td>\n",
       "      <td>2019.0</td>\n",
       "      <td>Ford</td>\n",
       "      <td>F-250</td>\n",
       "      <td>Intercooled</td>\n",
       "      <td>Turbo</td>\n",
       "      <td>False</td>\n",
       "      <td>False</td>\n",
       "      <td>Intercooled</td>\n",
       "    </tr>\n",
       "    <tr>\n",
       "      <th>46</th>\n",
       "      <td>AWD</td>\n",
       "      <td>27.0</td>\n",
       "      <td>32708.0</td>\n",
       "      <td>31998.0</td>\n",
       "      <td>Average</td>\n",
       "      <td>61000 miles 2016 Sierra 1500. 2,800 repair for...</td>\n",
       "      <td>2021.0</td>\n",
       "      <td>GMC</td>\n",
       "      <td>Sierra</td>\n",
       "      <td>4</td>\n",
       "      <td>Cylinder</td>\n",
       "      <td>False</td>\n",
       "      <td>False</td>\n",
       "      <td>2.5L</td>\n",
       "    </tr>\n",
       "    <tr>\n",
       "      <th>58</th>\n",
       "      <td>FWD</td>\n",
       "      <td>18.0</td>\n",
       "      <td>19855.0</td>\n",
       "      <td>104995.0</td>\n",
       "      <td>Expensive</td>\n",
       "      <td>No surprise .... good performance.   It is a M...</td>\n",
       "      <td>2014.0</td>\n",
       "      <td>Mercedes-Benz</td>\n",
       "      <td>CLA-Class</td>\n",
       "      <td>V6</td>\n",
       "      <td>none</td>\n",
       "      <td>False</td>\n",
       "      <td>False</td>\n",
       "      <td>3.5L</td>\n",
       "    </tr>\n",
       "    <tr>\n",
       "      <th>...</th>\n",
       "      <td>...</td>\n",
       "      <td>...</td>\n",
       "      <td>...</td>\n",
       "      <td>...</td>\n",
       "      <td>...</td>\n",
       "      <td>...</td>\n",
       "      <td>...</td>\n",
       "      <td>...</td>\n",
       "      <td>...</td>\n",
       "      <td>...</td>\n",
       "      <td>...</td>\n",
       "      <td>...</td>\n",
       "      <td>...</td>\n",
       "      <td>...</td>\n",
       "    </tr>\n",
       "    <tr>\n",
       "      <th>8395</th>\n",
       "      <td>AWD</td>\n",
       "      <td>24.0</td>\n",
       "      <td>20307.0</td>\n",
       "      <td>40991.0</td>\n",
       "      <td>AboveAverage</td>\n",
       "      <td>Truck rides like a car.  Plenty of power, goo...</td>\n",
       "      <td>2013.0</td>\n",
       "      <td>Ford</td>\n",
       "      <td>F-150</td>\n",
       "      <td>4</td>\n",
       "      <td>Cyl</td>\n",
       "      <td>False</td>\n",
       "      <td>False</td>\n",
       "      <td>2.5L</td>\n",
       "    </tr>\n",
       "    <tr>\n",
       "      <th>8409</th>\n",
       "      <td>FWD</td>\n",
       "      <td>19.0</td>\n",
       "      <td>26672.0</td>\n",
       "      <td>57000.0</td>\n",
       "      <td>Expensive</td>\n",
       "      <td>I purchased my black on black 2017 Accord EX-L...</td>\n",
       "      <td>2017.0</td>\n",
       "      <td>Honda</td>\n",
       "      <td>Accord</td>\n",
       "      <td>Regular</td>\n",
       "      <td>Unleaded</td>\n",
       "      <td>False</td>\n",
       "      <td>False</td>\n",
       "      <td>Regular</td>\n",
       "    </tr>\n",
       "    <tr>\n",
       "      <th>8437</th>\n",
       "      <td>FWD</td>\n",
       "      <td>18.0</td>\n",
       "      <td>10896.0</td>\n",
       "      <td>123999.0</td>\n",
       "      <td>Expensive</td>\n",
       "      <td>have owned 356s for 55 yrs. this is my first n...</td>\n",
       "      <td>2018.0</td>\n",
       "      <td>Porsche</td>\n",
       "      <td>Panamera</td>\n",
       "      <td>V6</td>\n",
       "      <td>none</td>\n",
       "      <td>False</td>\n",
       "      <td>False</td>\n",
       "      <td>3.5L</td>\n",
       "    </tr>\n",
       "    <tr>\n",
       "      <th>8446</th>\n",
       "      <td>FWD</td>\n",
       "      <td>19.0</td>\n",
       "      <td>59432.0</td>\n",
       "      <td>44792.0</td>\n",
       "      <td>AboveAverage</td>\n",
       "      <td>63000 miles and transmission went out. Spoke t...</td>\n",
       "      <td>2019.0</td>\n",
       "      <td>Dodge</td>\n",
       "      <td>Grand</td>\n",
       "      <td>6</td>\n",
       "      <td>Cyl</td>\n",
       "      <td>False</td>\n",
       "      <td>False</td>\n",
       "      <td>3.5L</td>\n",
       "    </tr>\n",
       "    <tr>\n",
       "      <th>8471</th>\n",
       "      <td>FWD</td>\n",
       "      <td>23.0</td>\n",
       "      <td>30186.0</td>\n",
       "      <td>24000.0</td>\n",
       "      <td>BelowAverage</td>\n",
       "      <td>Everything is great except the rear view camer...</td>\n",
       "      <td>2015.0</td>\n",
       "      <td>INFINITI</td>\n",
       "      <td>QX80</td>\n",
       "      <td>4</td>\n",
       "      <td>Cylinder</td>\n",
       "      <td>False</td>\n",
       "      <td>False</td>\n",
       "      <td>2.5L</td>\n",
       "    </tr>\n",
       "  </tbody>\n",
       "</table>\n",
       "<p>821 rows × 14 columns</p>\n",
       "</div>"
      ],
      "text/plain": [
       "     DriveTrain   MPG   Mileage  SalePrice PriceCategory  \\\n",
       "15          FWD  29.0  105026.0    14433.0         Cheap   \n",
       "21          FWD  20.0   28716.0    47590.0  AboveAverage   \n",
       "36          RWD  25.0   98467.0    24786.0  BelowAverage   \n",
       "46          AWD  27.0   32708.0    31998.0       Average   \n",
       "58          FWD  18.0   19855.0   104995.0     Expensive   \n",
       "...         ...   ...       ...        ...           ...   \n",
       "8395        AWD  24.0   20307.0    40991.0  AboveAverage   \n",
       "8409        FWD  19.0   26672.0    57000.0     Expensive   \n",
       "8437        FWD  18.0   10896.0   123999.0     Expensive   \n",
       "8446        FWD  19.0   59432.0    44792.0  AboveAverage   \n",
       "8471        FWD  23.0   30186.0    24000.0  BelowAverage   \n",
       "\n",
       "                                           CleanReviews    Year  \\\n",
       "15    Beautiful, comfortable, responsive... my only ...  2020.0   \n",
       "21    The X3 m40i is the best family vehicle. Got a ...  2019.0   \n",
       "36    I got my crew cab 2019 F250 XLT with the 6.2L ...  2019.0   \n",
       "46    61000 miles 2016 Sierra 1500. 2,800 repair for...  2021.0   \n",
       "58    No surprise .... good performance.   It is a M...  2014.0   \n",
       "...                                                 ...     ...   \n",
       "8395   Truck rides like a car.  Plenty of power, goo...  2013.0   \n",
       "8409  I purchased my black on black 2017 Accord EX-L...  2017.0   \n",
       "8437  have owned 356s for 55 yrs. this is my first n...  2018.0   \n",
       "8446  63000 miles and transmission went out. Spoke t...  2019.0   \n",
       "8471  Everything is great except the rear view camer...  2015.0   \n",
       "\n",
       "               Make  Car_Model   EngineSize Cylinders hasCyl  hasSize  \\\n",
       "15            Lexus         ES      Regular  Unleaded  False    False   \n",
       "21              BMW         X3           V6  Cylinder  False    False   \n",
       "36             Ford      F-250  Intercooled     Turbo  False    False   \n",
       "46              GMC     Sierra            4  Cylinder  False    False   \n",
       "58    Mercedes-Benz  CLA-Class           V6      none  False    False   \n",
       "...             ...        ...          ...       ...    ...      ...   \n",
       "8395           Ford      F-150            4       Cyl  False    False   \n",
       "8409          Honda     Accord      Regular  Unleaded  False    False   \n",
       "8437        Porsche   Panamera           V6      none  False    False   \n",
       "8446          Dodge      Grand            6       Cyl  False    False   \n",
       "8471       INFINITI       QX80            4  Cylinder  False    False   \n",
       "\n",
       "          newSize  \n",
       "15        Regular  \n",
       "21           3.5L  \n",
       "36    Intercooled  \n",
       "46           2.5L  \n",
       "58           3.5L  \n",
       "...           ...  \n",
       "8395         2.5L  \n",
       "8409      Regular  \n",
       "8437         3.5L  \n",
       "8446         3.5L  \n",
       "8471         2.5L  \n",
       "\n",
       "[821 rows x 14 columns]"
      ]
     },
     "execution_count": 156,
     "metadata": {},
     "output_type": "execute_result"
    }
   ],
   "source": [
    "data[(data['hasCyl'].isna() == False) & (data['hasSize'] == False)]"
   ]
  },
  {
   "cell_type": "code",
   "execution_count": 178,
   "metadata": {},
   "outputs": [],
   "source": [
    "newSize = []"
   ]
  },
  {
   "cell_type": "code",
   "execution_count": 179,
   "metadata": {},
   "outputs": [],
   "source": [
    "for i in range(0,len(data)):\n",
    "    \n",
    "    if data['hasCyl'][i] == False and data['hasSize'][i]==False:\n",
    "        if 'L' in data['Cylinders'][i]:\n",
    "            newSize.append(data['Cylinders'][i])\n",
    "        elif '6' in data['EngineSize'][i]:\n",
    "            newSize.append('3.5L')\n",
    "        elif '4' in data['EngineSize'][i]:\n",
    "            newSize.append('2.5L')\n",
    "        else:\n",
    "            newSize.append('unknown')\n",
    "\n",
    "    elif data['hasSize'][i] == True or math.isnan(data['hasCyl'][i]) == True:\n",
    "        newSize.append(data['EngineSize'][i])\n",
    "    else:\n",
    "        newSize.append(data['EngineSize'][i])\n",
    "    "
   ]
  },
  {
   "cell_type": "code",
   "execution_count": 182,
   "metadata": {},
   "outputs": [],
   "source": [
    "lst = []\n",
    "for x in newSize:\n",
    "    if 'L' not in x or 'Engine' in x:\n",
    "        x = 'unknown'\n",
    "        lst.append(x)\n",
    "    else:\n",
    "        x = x\n",
    "        lst.append(x)"
   ]
  },
  {
   "cell_type": "code",
   "execution_count": 183,
   "metadata": {},
   "outputs": [],
   "source": [
    "data['newSize'] = lst"
   ]
  },
  {
   "cell_type": "code",
   "execution_count": 185,
   "metadata": {},
   "outputs": [
    {
     "data": {
      "text/html": [
       "<div>\n",
       "<style scoped>\n",
       "    .dataframe tbody tr th:only-of-type {\n",
       "        vertical-align: middle;\n",
       "    }\n",
       "\n",
       "    .dataframe tbody tr th {\n",
       "        vertical-align: top;\n",
       "    }\n",
       "\n",
       "    .dataframe thead th {\n",
       "        text-align: right;\n",
       "    }\n",
       "</style>\n",
       "<table border=\"1\" class=\"dataframe\">\n",
       "  <thead>\n",
       "    <tr style=\"text-align: right;\">\n",
       "      <th></th>\n",
       "      <th>DriveTrain</th>\n",
       "      <th>MPG</th>\n",
       "      <th>Mileage</th>\n",
       "      <th>SalePrice</th>\n",
       "      <th>PriceCategory</th>\n",
       "      <th>CleanReviews</th>\n",
       "      <th>Year</th>\n",
       "      <th>Make</th>\n",
       "      <th>Car_Model</th>\n",
       "      <th>EngineSize</th>\n",
       "      <th>Cylinders</th>\n",
       "      <th>hasCyl</th>\n",
       "      <th>hasSize</th>\n",
       "      <th>newSize</th>\n",
       "    </tr>\n",
       "  </thead>\n",
       "  <tbody>\n",
       "    <tr>\n",
       "      <th>0</th>\n",
       "      <td>FWD</td>\n",
       "      <td>27.0</td>\n",
       "      <td>53200.0</td>\n",
       "      <td>29000.0</td>\n",
       "      <td>BelowAverage</td>\n",
       "      <td>Virtually nothing has gone wrong with my 2020 ...</td>\n",
       "      <td>2020.0</td>\n",
       "      <td>Toyota</td>\n",
       "      <td>RAV4</td>\n",
       "      <td>2.5L</td>\n",
       "      <td>4</td>\n",
       "      <td>NaN</td>\n",
       "      <td>True</td>\n",
       "      <td>2.5L</td>\n",
       "    </tr>\n",
       "    <tr>\n",
       "      <th>1</th>\n",
       "      <td>RWD</td>\n",
       "      <td>18.0</td>\n",
       "      <td>22690.0</td>\n",
       "      <td>55975.0</td>\n",
       "      <td>Expensive</td>\n",
       "      <td>Stranded today. Could not get to work. Somethi...</td>\n",
       "      <td>2016.0</td>\n",
       "      <td>Volkswagen</td>\n",
       "      <td>e-Golf</td>\n",
       "      <td>3.0L</td>\n",
       "      <td>6</td>\n",
       "      <td>NaN</td>\n",
       "      <td>True</td>\n",
       "      <td>3.0L</td>\n",
       "    </tr>\n",
       "    <tr>\n",
       "      <th>2</th>\n",
       "      <td>FWD</td>\n",
       "      <td>18.0</td>\n",
       "      <td>17854.0</td>\n",
       "      <td>38900.0</td>\n",
       "      <td>AboveAverage</td>\n",
       "      <td>Excellent road car, quiet, stable, comfortable...</td>\n",
       "      <td>2020.0</td>\n",
       "      <td>Lincoln</td>\n",
       "      <td>Aviator</td>\n",
       "      <td>3.5L</td>\n",
       "      <td>6</td>\n",
       "      <td>NaN</td>\n",
       "      <td>True</td>\n",
       "      <td>3.5L</td>\n",
       "    </tr>\n",
       "    <tr>\n",
       "      <th>3</th>\n",
       "      <td>FWD</td>\n",
       "      <td>28.0</td>\n",
       "      <td>60907.0</td>\n",
       "      <td>22125.0</td>\n",
       "      <td>BelowAverage</td>\n",
       "      <td>PURCHASED FROM NYE TOYOTA, MY FIRST TACOMA. LO...</td>\n",
       "      <td>2021.0</td>\n",
       "      <td>Toyota</td>\n",
       "      <td>Tacoma</td>\n",
       "      <td>2.5L</td>\n",
       "      <td>4</td>\n",
       "      <td>NaN</td>\n",
       "      <td>True</td>\n",
       "      <td>2.5L</td>\n",
       "    </tr>\n",
       "    <tr>\n",
       "      <th>4</th>\n",
       "      <td>FWD</td>\n",
       "      <td>24.0</td>\n",
       "      <td>41614.0</td>\n",
       "      <td>23946.0</td>\n",
       "      <td>BelowAverage</td>\n",
       "      <td>I’ve own a 2020 Altima (under 30k miles) for a...</td>\n",
       "      <td>2020.0</td>\n",
       "      <td>Nissan</td>\n",
       "      <td>Altima</td>\n",
       "      <td>2.4L</td>\n",
       "      <td>4</td>\n",
       "      <td>NaN</td>\n",
       "      <td>True</td>\n",
       "      <td>2.4L</td>\n",
       "    </tr>\n",
       "    <tr>\n",
       "      <th>...</th>\n",
       "      <td>...</td>\n",
       "      <td>...</td>\n",
       "      <td>...</td>\n",
       "      <td>...</td>\n",
       "      <td>...</td>\n",
       "      <td>...</td>\n",
       "      <td>...</td>\n",
       "      <td>...</td>\n",
       "      <td>...</td>\n",
       "      <td>...</td>\n",
       "      <td>...</td>\n",
       "      <td>...</td>\n",
       "      <td>...</td>\n",
       "      <td>...</td>\n",
       "    </tr>\n",
       "    <tr>\n",
       "      <th>8469</th>\n",
       "      <td>FWD</td>\n",
       "      <td>18.0</td>\n",
       "      <td>78378.0</td>\n",
       "      <td>25500.0</td>\n",
       "      <td>BelowAverage</td>\n",
       "      <td>Only had the X5 for 4 weeks now but so far it ...</td>\n",
       "      <td>2022.0</td>\n",
       "      <td>BMW</td>\n",
       "      <td>X5</td>\n",
       "      <td>3.6L</td>\n",
       "      <td>6</td>\n",
       "      <td>NaN</td>\n",
       "      <td>True</td>\n",
       "      <td>3.6L</td>\n",
       "    </tr>\n",
       "    <tr>\n",
       "      <th>8470</th>\n",
       "      <td>AWD</td>\n",
       "      <td>18.0</td>\n",
       "      <td>30909.0</td>\n",
       "      <td>35590.0</td>\n",
       "      <td>Average</td>\n",
       "      <td>When I bought my 2020 Tacoma V6 (3.5L) 4x4 in ...</td>\n",
       "      <td>2019.0</td>\n",
       "      <td>Toyota</td>\n",
       "      <td>Tacoma</td>\n",
       "      <td>3.6L</td>\n",
       "      <td>6</td>\n",
       "      <td>NaN</td>\n",
       "      <td>True</td>\n",
       "      <td>3.6L</td>\n",
       "    </tr>\n",
       "    <tr>\n",
       "      <th>8471</th>\n",
       "      <td>FWD</td>\n",
       "      <td>23.0</td>\n",
       "      <td>30186.0</td>\n",
       "      <td>24000.0</td>\n",
       "      <td>BelowAverage</td>\n",
       "      <td>Everything is great except the rear view camer...</td>\n",
       "      <td>2015.0</td>\n",
       "      <td>INFINITI</td>\n",
       "      <td>QX80</td>\n",
       "      <td>4</td>\n",
       "      <td>Cylinder</td>\n",
       "      <td>False</td>\n",
       "      <td>False</td>\n",
       "      <td>2.5L</td>\n",
       "    </tr>\n",
       "    <tr>\n",
       "      <th>8472</th>\n",
       "      <td>FWD</td>\n",
       "      <td>15.0</td>\n",
       "      <td>22309.0</td>\n",
       "      <td>71077.0</td>\n",
       "      <td>Expensive</td>\n",
       "      <td>I have owned smaller SUV\\s and Trucks for over...</td>\n",
       "      <td>2020.0</td>\n",
       "      <td>Toyota</td>\n",
       "      <td>Tundra</td>\n",
       "      <td>5.7L</td>\n",
       "      <td>8</td>\n",
       "      <td>NaN</td>\n",
       "      <td>True</td>\n",
       "      <td>5.7L</td>\n",
       "    </tr>\n",
       "    <tr>\n",
       "      <th>8473</th>\n",
       "      <td>FWD</td>\n",
       "      <td>20.0</td>\n",
       "      <td>9399.0</td>\n",
       "      <td>34988.0</td>\n",
       "      <td>Average</td>\n",
       "      <td>Transmission and brake problems. Transmission ...</td>\n",
       "      <td>2021.0</td>\n",
       "      <td>Buick</td>\n",
       "      <td>Enclave</td>\n",
       "      <td>3.5L</td>\n",
       "      <td>6</td>\n",
       "      <td>NaN</td>\n",
       "      <td>True</td>\n",
       "      <td>3.5L</td>\n",
       "    </tr>\n",
       "  </tbody>\n",
       "</table>\n",
       "<p>8474 rows × 14 columns</p>\n",
       "</div>"
      ],
      "text/plain": [
       "     DriveTrain   MPG  Mileage  SalePrice PriceCategory  \\\n",
       "0           FWD  27.0  53200.0    29000.0  BelowAverage   \n",
       "1           RWD  18.0  22690.0    55975.0     Expensive   \n",
       "2           FWD  18.0  17854.0    38900.0  AboveAverage   \n",
       "3           FWD  28.0  60907.0    22125.0  BelowAverage   \n",
       "4           FWD  24.0  41614.0    23946.0  BelowAverage   \n",
       "...         ...   ...      ...        ...           ...   \n",
       "8469        FWD  18.0  78378.0    25500.0  BelowAverage   \n",
       "8470        AWD  18.0  30909.0    35590.0       Average   \n",
       "8471        FWD  23.0  30186.0    24000.0  BelowAverage   \n",
       "8472        FWD  15.0  22309.0    71077.0     Expensive   \n",
       "8473        FWD  20.0   9399.0    34988.0       Average   \n",
       "\n",
       "                                           CleanReviews    Year        Make  \\\n",
       "0     Virtually nothing has gone wrong with my 2020 ...  2020.0      Toyota   \n",
       "1     Stranded today. Could not get to work. Somethi...  2016.0  Volkswagen   \n",
       "2     Excellent road car, quiet, stable, comfortable...  2020.0     Lincoln   \n",
       "3     PURCHASED FROM NYE TOYOTA, MY FIRST TACOMA. LO...  2021.0      Toyota   \n",
       "4     I’ve own a 2020 Altima (under 30k miles) for a...  2020.0      Nissan   \n",
       "...                                                 ...     ...         ...   \n",
       "8469  Only had the X5 for 4 weeks now but so far it ...  2022.0         BMW   \n",
       "8470  When I bought my 2020 Tacoma V6 (3.5L) 4x4 in ...  2019.0      Toyota   \n",
       "8471  Everything is great except the rear view camer...  2015.0    INFINITI   \n",
       "8472  I have owned smaller SUV\\s and Trucks for over...  2020.0      Toyota   \n",
       "8473  Transmission and brake problems. Transmission ...  2021.0       Buick   \n",
       "\n",
       "     Car_Model EngineSize Cylinders hasCyl  hasSize newSize  \n",
       "0         RAV4       2.5L         4    NaN     True    2.5L  \n",
       "1       e-Golf       3.0L         6    NaN     True    3.0L  \n",
       "2      Aviator       3.5L         6    NaN     True    3.5L  \n",
       "3       Tacoma       2.5L         4    NaN     True    2.5L  \n",
       "4       Altima       2.4L         4    NaN     True    2.4L  \n",
       "...        ...        ...       ...    ...      ...     ...  \n",
       "8469        X5       3.6L         6    NaN     True    3.6L  \n",
       "8470    Tacoma       3.6L         6    NaN     True    3.6L  \n",
       "8471      QX80          4  Cylinder  False    False    2.5L  \n",
       "8472    Tundra       5.7L         8    NaN     True    5.7L  \n",
       "8473   Enclave       3.5L         6    NaN     True    3.5L  \n",
       "\n",
       "[8474 rows x 14 columns]"
      ]
     },
     "execution_count": 185,
     "metadata": {},
     "output_type": "execute_result"
    }
   ],
   "source": [
    "data"
   ]
  },
  {
   "cell_type": "code",
   "execution_count": 186,
   "metadata": {},
   "outputs": [],
   "source": [
    "newCyl = []"
   ]
  },
  {
   "cell_type": "code",
   "execution_count": null,
   "metadata": {},
   "outputs": [],
   "source": [
    "# for i in range(0,len(data)):\n",
    "    \n",
    "#     if data['hasCyl'][i] == False and data['hasSize'][i]==False:\n",
    "#         if 'L' in data['Cylinders'][i]:\n",
    "#             newSize.append(data['Cylinders'][i])\n",
    "#         elif '6' in data['EngineSize'][i]:\n",
    "#             newSize.append('3.5L')\n",
    "#         elif '4' in data['EngineSize'][i]:\n",
    "#             newSize.append('2.5L')\n",
    "#         else:\n",
    "#             newSize.append('unknown')\n",
    "\n",
    "#     elif data['hasSize'][i] == True or math.isnan(data['hasCyl'][i]) == True:\n",
    "#         newSize.append(data['EngineSize'][i])\n",
    "#     else:\n",
    "#         newSize.append(data['EngineSize'][i])"
   ]
  },
  {
   "cell_type": "code",
   "execution_count": null,
   "metadata": {},
   "outputs": [],
   "source": []
  },
  {
   "cell_type": "code",
   "execution_count": null,
   "metadata": {},
   "outputs": [],
   "source": []
  },
  {
   "cell_type": "code",
   "execution_count": null,
   "metadata": {},
   "outputs": [],
   "source": []
  },
  {
   "cell_type": "code",
   "execution_count": null,
   "metadata": {},
   "outputs": [],
   "source": []
  },
  {
   "cell_type": "code",
   "execution_count": null,
   "metadata": {},
   "outputs": [],
   "source": []
  },
  {
   "cell_type": "code",
   "execution_count": null,
   "metadata": {},
   "outputs": [],
   "source": []
  },
  {
   "cell_type": "code",
   "execution_count": null,
   "metadata": {},
   "outputs": [],
   "source": []
  }
 ],
 "metadata": {
  "kernelspec": {
   "display_name": "Python (learn-env)",
   "language": "python",
   "name": "learn-env"
  },
  "language_info": {
   "codemirror_mode": {
    "name": "ipython",
    "version": 3
   },
   "file_extension": ".py",
   "mimetype": "text/x-python",
   "name": "python",
   "nbconvert_exporter": "python",
   "pygments_lexer": "ipython3",
   "version": "3.8.5"
  }
 },
 "nbformat": 4,
 "nbformat_minor": 4
}
