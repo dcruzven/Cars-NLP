{
 "cells": [
  {
   "cell_type": "markdown",
   "metadata": {},
   "source": [
    "# Used Cars Sale Price Range Prediction"
   ]
  },
  {
   "cell_type": "markdown",
   "metadata": {},
   "source": [
    "# Overview"
   ]
  },
  {
   "cell_type": "markdown",
   "metadata": {},
   "source": [
    "This project focuses on trying to predict a price range for a used car. This is to help the client have a starting point for a price range. The data was web-scraped from Cars.com. The data scraped came from 9k used cars in Alabama. The data was very messy and a lot of steps were taken to clean it. This included extracting certain words, turning number details into actual numeric values for models. This was then taken to a couple of models. The best model was an XGBoost model. A good accuracy scored was recieved to satisfy the clients."
   ]
  },
  {
   "cell_type": "markdown",
   "metadata": {},
   "source": [
    "# Business Problem"
   ]
  },
  {
   "cell_type": "markdown",
   "metadata": {},
   "source": [
    "Average car buyers can have a hard time when looking for used cars. When do they do find a used car they want, they can be unsure about the sale price. Clients want to use car details and reviews found online to get a price range\n",
    "\n",
    "Goal is to create a model to recieve details about a car and be able to predict a range of the sale price. The model can be used as a starting point when looking at a car's sale price."
   ]
  },
  {
   "cell_type": "markdown",
   "metadata": {},
   "source": [
    "# Data Understanding"
   ]
  },
  {
   "cell_type": "markdown",
   "metadata": {},
   "source": [
    "Data was gathered from Cars.com. It was web-scraped using the python library BeautifulSoup. The data scraped included a lot of details from the car. The details include, year/make/model/mileage, engine specifications, and the reviews for that model. \n",
    "\n",
    "A total of ~9k car's data were collected. This was all the used cars within a 200 mile radius of Birmingham, AL. \n",
    "\n",
    "Using Cars.com gave the basics of a car including a sale price. This is information anyone can look up when looking for a used car, so it is the best information to use in order to predict a sale price range. The reviews were also gathered, it is additional information that could be useful. The review of a car could have an effect on the price, this will be explored. \n",
    "\n",
    "There were some limitations and problems that the data has. There were only ~9k entries, this is okay but more would have been better. Since it was web-scraped, some information of the cars were not saved. At times the incorrect value would be in the incorrect column. The data also came out very messy so a lot of data cleaning would have to be done. The review portion of the data also has limitations. Although ~9k reviews were colleceted, only a portion (1.8k) were unique. This is because the same model cars also used the same reviews. This would limit how accurate a model can predict a sale price range due to the amount of repeated reviews. "
   ]
  },
  {
   "cell_type": "markdown",
   "metadata": {},
   "source": [
    "### Web Scraping "
   ]
  },
  {
   "cell_type": "markdown",
   "metadata": {},
   "source": [
    "- This is a summarized version of the web-scraping\n",
    "- More in depth notebook can be found here [WebScrapingNotebook](WebScraping/fastScrape.ipynb)"
   ]
  },
  {
   "cell_type": "code",
   "execution_count": 1,
   "metadata": {},
   "outputs": [],
   "source": [
    "# imports\n",
    "import pandas as pd\n",
    "import requests\n",
    "from bs4 import BeautifulSoup\n",
    "import time\n",
    "import random\n",
    "import numpy as np\n",
    "from tqdm.notebook import tqdm\n",
    "import re\n",
    "import math"
   ]
  },
  {
   "cell_type": "markdown",
   "metadata": {},
   "source": [
    "**First grabbing the individual links for each car**"
   ]
  },
  {
   "cell_type": "code",
   "execution_count": null,
   "metadata": {},
   "outputs": [],
   "source": [
    "link_end_list = [] #list to collect all the car links\n",
    "\n",
    "for page in tqdm(range(2,102)):\n",
    "    url = f'https://www.cars.com/shopping/results/?page={page}&page_size=100&list_price_max=&makes[]=&maximum_distance=200&models[]=&stock_type=used&zip=35215'\n",
    "    resp = requests.get(url).text\n",
    "    soup = BeautifulSoup(resp)\n",
    "    \n",
    "    #getting links\n",
    "    links = soup.find_all('a', attrs={\"class\":\"vehicle-card-link js-gallery-click-link\"})\n",
    "    link_end = [l['href'] for l in links]\n",
    "    link_end_list.append(link_end)\n",
    "    time.sleep(random.choice([1, 2, 0.5]))\n",
    "    "
   ]
  },
  {
   "cell_type": "markdown",
   "metadata": {},
   "source": [
    "**Then going through each link and grabbing the information for each individual car**"
   ]
  },
  {
   "cell_type": "code",
   "execution_count": 63,
   "metadata": {},
   "outputs": [],
   "source": [
    "reviews2 = []\n",
    "driveTrain2 = []\n",
    "mpg2 = []\n",
    "fuelType2 = []\n",
    "trans2 = []\n",
    "engine2 = []\n",
    "mileage2 = []\n",
    "sale_price2 = []\n",
    "model2 = []\n",
    "\n",
    "error_links2 = []"
   ]
  },
  {
   "cell_type": "code",
   "execution_count": 64,
   "metadata": {},
   "outputs": [
    {
     "data": {
      "application/vnd.jupyter.widget-view+json": {
       "model_id": "ea99ff99784c4dc5bdc67f78f4364a4d",
       "version_major": 2,
       "version_minor": 0
      },
      "text/plain": [
       "HBox(children=(HTML(value=''), FloatProgress(value=0.0, max=9695.0), HTML(value='')))"
      ]
     },
     "metadata": {},
     "output_type": "display_data"
    },
    {
     "name": "stdout",
     "output_type": "stream",
     "text": [
      "\n"
     ]
    }
   ],
   "source": [
    "for link in tqdm(final_links):\n",
    "    #using tqdm to check progress\n",
    "    \n",
    "    #try to get info, if fails, move to next link\n",
    "    try:\n",
    "        #each car url\n",
    "        url = f'https://www.cars.com{link}'\n",
    "        response = requests.get(url).text\n",
    "        soup = BeautifulSoup(response)\n",
    "        \n",
    "        #getting car model and year\n",
    "        mod = soup.find_all(\"h1\", attrs={\"class\":\"listing-title\"})\n",
    "        model2.append([ti.get_text() for ti in mod])\n",
    "\n",
    "        #getting reviews\n",
    "        rev = soup.find_all(\"p\", attrs={\"class\":\"review-body\"})\n",
    "        reviews2.append([review.get_text() for review in rev])\n",
    "\n",
    "        #getting car details\n",
    "        details = soup.find_all(\"dl\", attrs={\"class\":\"fancy-description-list\"})\n",
    "        det_list = [det.get_text() for det in details]\n",
    "        det_split = det_list[0].split('\\n')\n",
    "        #for loop to extract each part\n",
    "        for i in range(len(det_split)):\n",
    "            if det_split[i] == 'Drivetrain':\n",
    "                driveTrain2.append(det_split[i+1])\n",
    "            if det_split[i] == 'Fuel type':\n",
    "                fuelType2.append(det_split[i+1])\n",
    "            if det_split[i] == 'Transmission':\n",
    "                trans2.append(det_split[i+1])\n",
    "            if det_split[i] == 'Mileage':\n",
    "                mileage2.append(det_split[i+1])\n",
    "            if det_split[i] == 'MPG':\n",
    "                mpg2.append(det_split[i+3])\n",
    "            if det_split[i] == 'Engine':\n",
    "                engine2.append(det_split[i+1])\n",
    "\n",
    "        #getting price\n",
    "        car_price = soup.find_all(\"span\", attrs={\"class\":\"primary-price\"})\n",
    "        sale_price2.append([p.get_text() for p in car_price][0])\n",
    "\n",
    "        time.sleep(random.choice([0.1, 0.5, 0.75]))\n",
    "        \n",
    "    except:\n",
    "        error_links2.append(link) #catching error links"
   ]
  },
  {
   "cell_type": "markdown",
   "metadata": {},
   "source": [
    "**Turn into dataframe and save**"
   ]
  },
  {
   "cell_type": "code",
   "execution_count": 66,
   "metadata": {},
   "outputs": [],
   "source": [
    "df2 = pd.DataFrame(list(zip(model2, reviews2, driveTrain2, mpg2, fuelType2, trans2, engine2, mileage2, sale_price2)), \n",
    "                  columns = ['Model', 'Reviews', 'DriveTrain', 'MPG', 'FuelType', 'Transmission', 'Engine', 'Mileage', 'SalePrice'])"
   ]
  },
  {
   "cell_type": "code",
   "execution_count": 67,
   "metadata": {
    "scrolled": false
   },
   "outputs": [
    {
     "data": {
      "text/html": [
       "<div>\n",
       "<style scoped>\n",
       "    .dataframe tbody tr th:only-of-type {\n",
       "        vertical-align: middle;\n",
       "    }\n",
       "\n",
       "    .dataframe tbody tr th {\n",
       "        vertical-align: top;\n",
       "    }\n",
       "\n",
       "    .dataframe thead th {\n",
       "        text-align: right;\n",
       "    }\n",
       "</style>\n",
       "<table border=\"1\" class=\"dataframe\">\n",
       "  <thead>\n",
       "    <tr style=\"text-align: right;\">\n",
       "      <th></th>\n",
       "      <th>Model</th>\n",
       "      <th>Reviews</th>\n",
       "      <th>DriveTrain</th>\n",
       "      <th>MPG</th>\n",
       "      <th>FuelType</th>\n",
       "      <th>Transmission</th>\n",
       "      <th>Engine</th>\n",
       "      <th>Mileage</th>\n",
       "      <th>SalePrice</th>\n",
       "    </tr>\n",
       "  </thead>\n",
       "  <tbody>\n",
       "    <tr>\n",
       "      <th>0</th>\n",
       "      <td>[2020 Toyota RAV4 LE]</td>\n",
       "      <td>[Virtually nothing has gone wrong with my 2020...</td>\n",
       "      <td>Front-wheel Drive</td>\n",
       "      <td>27–35</td>\n",
       "      <td>Gasoline</td>\n",
       "      <td>8-Speed Automatic</td>\n",
       "      <td>2.5L I4 16V PDI DOHC</td>\n",
       "      <td>53,200 mi.</td>\n",
       "      <td>$29,000</td>\n",
       "    </tr>\n",
       "    <tr>\n",
       "      <th>1</th>\n",
       "      <td>[]</td>\n",
       "      <td>[]</td>\n",
       "      <td>Front-wheel Drive</td>\n",
       "      <td>Electric</td>\n",
       "      <td>Electric</td>\n",
       "      <td>1-Speed Automatic</td>\n",
       "      <td>Electric</td>\n",
       "      <td>62,439 mi.</td>\n",
       "      <td>$18,989</td>\n",
       "    </tr>\n",
       "    <tr>\n",
       "      <th>2</th>\n",
       "      <td>[2016 Volkswagen e-Golf SE]</td>\n",
       "      <td>[Stranded today. Could not get to work. Someth...</td>\n",
       "      <td>Rear-wheel Drive</td>\n",
       "      <td>18–26</td>\n",
       "      <td>Gasoline</td>\n",
       "      <td>10-Speed Automatic</td>\n",
       "      <td>3.0L V6 24V GDI DOHC Twin Turbo</td>\n",
       "      <td>22,690 mi.</td>\n",
       "      <td>$55,975</td>\n",
       "    </tr>\n",
       "    <tr>\n",
       "      <th>3</th>\n",
       "      <td>[2020 Lincoln Aviator Reserve RWD]</td>\n",
       "      <td>[Excellent road car, quiet, stable, comfortabl...</td>\n",
       "      <td>Four-wheel Drive</td>\n",
       "      <td>18–22</td>\n",
       "      <td>Gasoline</td>\n",
       "      <td>6-Speed Automatic</td>\n",
       "      <td>3.5L V6 24V PDI DOHC</td>\n",
       "      <td>17,854 mi.</td>\n",
       "      <td>$38,900</td>\n",
       "    </tr>\n",
       "    <tr>\n",
       "      <th>4</th>\n",
       "      <td>[2021 Toyota Tacoma TRD Off Road]</td>\n",
       "      <td>[PURCHASED FROM NYE TOYOTA, MY FIRST TACOMA. \\...</td>\n",
       "      <td>Front-wheel Drive</td>\n",
       "      <td>28–39</td>\n",
       "      <td>Gasoline</td>\n",
       "      <td>Automatic CVT</td>\n",
       "      <td>2.5L I4 16V GDI DOHC</td>\n",
       "      <td>60,907 mi.</td>\n",
       "      <td>$22,125</td>\n",
       "    </tr>\n",
       "    <tr>\n",
       "      <th>...</th>\n",
       "      <td>...</td>\n",
       "      <td>...</td>\n",
       "      <td>...</td>\n",
       "      <td>...</td>\n",
       "      <td>...</td>\n",
       "      <td>...</td>\n",
       "      <td>...</td>\n",
       "      <td>...</td>\n",
       "      <td>...</td>\n",
       "    </tr>\n",
       "    <tr>\n",
       "      <th>9217</th>\n",
       "      <td>[2022 BMW X5 xDrive40i]</td>\n",
       "      <td>[Only had the X5 for 4 weeks now but so far it...</td>\n",
       "      <td>Four-wheel Drive</td>\n",
       "      <td>18–25</td>\n",
       "      <td>Gasoline</td>\n",
       "      <td>8-Speed Automatic</td>\n",
       "      <td>3.6L V6 24V MPFI DOHC</td>\n",
       "      <td>78,378 mi.</td>\n",
       "      <td>$25,500</td>\n",
       "    </tr>\n",
       "    <tr>\n",
       "      <th>9218</th>\n",
       "      <td>[2019 Toyota Tacoma TRD Off Road]</td>\n",
       "      <td>[When I bought my 2020 Tacoma V6 (3.5L) 4x4 in...</td>\n",
       "      <td>All-wheel Drive</td>\n",
       "      <td>18–25</td>\n",
       "      <td>Gasoline</td>\n",
       "      <td>8-Speed Automatic</td>\n",
       "      <td>3.6L V6 24V MPFI DOHC</td>\n",
       "      <td>30,909 mi.</td>\n",
       "      <td>$35,590</td>\n",
       "    </tr>\n",
       "    <tr>\n",
       "      <th>9219</th>\n",
       "      <td>[2015 INFINITI QX80 Base]</td>\n",
       "      <td>[Everything is great except the rear view came...</td>\n",
       "      <td>Front-wheel Drive</td>\n",
       "      <td>23–30</td>\n",
       "      <td>Gasoline</td>\n",
       "      <td>6-SPEED A/T</td>\n",
       "      <td>4 Cylinder Engine</td>\n",
       "      <td>30,186 mi.</td>\n",
       "      <td>$24,000</td>\n",
       "    </tr>\n",
       "    <tr>\n",
       "      <th>9220</th>\n",
       "      <td>[2020 Toyota Tundra SR5]</td>\n",
       "      <td>[I have owned smaller SUV's and Trucks for ove...</td>\n",
       "      <td>Four-wheel Drive</td>\n",
       "      <td>15–21</td>\n",
       "      <td>Gasoline</td>\n",
       "      <td>8-Speed Automatic</td>\n",
       "      <td>5.7L V8 16V MPFI OHV</td>\n",
       "      <td>22,309 mi.</td>\n",
       "      <td>$71,077</td>\n",
       "    </tr>\n",
       "    <tr>\n",
       "      <th>9221</th>\n",
       "      <td>[2021 Buick Enclave Essence]</td>\n",
       "      <td>[Transmission and brake problems. Transmission...</td>\n",
       "      <td>Four-wheel Drive</td>\n",
       "      <td>20–27</td>\n",
       "      <td>Gasoline</td>\n",
       "      <td>Automatic CVT</td>\n",
       "      <td>3.5L V6 24V GDI DOHC</td>\n",
       "      <td>9,399 mi.</td>\n",
       "      <td>$34,988</td>\n",
       "    </tr>\n",
       "  </tbody>\n",
       "</table>\n",
       "<p>9222 rows × 9 columns</p>\n",
       "</div>"
      ],
      "text/plain": [
       "                                   Model  \\\n",
       "0                  [2020 Toyota RAV4 LE]   \n",
       "1                                     []   \n",
       "2            [2016 Volkswagen e-Golf SE]   \n",
       "3     [2020 Lincoln Aviator Reserve RWD]   \n",
       "4      [2021 Toyota Tacoma TRD Off Road]   \n",
       "...                                  ...   \n",
       "9217             [2022 BMW X5 xDrive40i]   \n",
       "9218   [2019 Toyota Tacoma TRD Off Road]   \n",
       "9219           [2015 INFINITI QX80 Base]   \n",
       "9220            [2020 Toyota Tundra SR5]   \n",
       "9221        [2021 Buick Enclave Essence]   \n",
       "\n",
       "                                                Reviews           DriveTrain  \\\n",
       "0     [Virtually nothing has gone wrong with my 2020...   Front-wheel Drive    \n",
       "1                                                    []   Front-wheel Drive    \n",
       "2     [Stranded today. Could not get to work. Someth...    Rear-wheel Drive    \n",
       "3     [Excellent road car, quiet, stable, comfortabl...    Four-wheel Drive    \n",
       "4     [PURCHASED FROM NYE TOYOTA, MY FIRST TACOMA. \\...   Front-wheel Drive    \n",
       "...                                                 ...                  ...   \n",
       "9217  [Only had the X5 for 4 weeks now but so far it...    Four-wheel Drive    \n",
       "9218  [When I bought my 2020 Tacoma V6 (3.5L) 4x4 in...     All-wheel Drive    \n",
       "9219  [Everything is great except the rear view came...   Front-wheel Drive    \n",
       "9220  [I have owned smaller SUV's and Trucks for ove...    Four-wheel Drive    \n",
       "9221  [Transmission and brake problems. Transmission...    Four-wheel Drive    \n",
       "\n",
       "            MPG   FuelType        Transmission  \\\n",
       "0         27–35  Gasoline    8-Speed Automatic   \n",
       "1     Electric   Electric    1-Speed Automatic   \n",
       "2         18–26  Gasoline   10-Speed Automatic   \n",
       "3         18–22  Gasoline    6-Speed Automatic   \n",
       "4         28–39  Gasoline        Automatic CVT   \n",
       "...         ...        ...                 ...   \n",
       "9217      18–25  Gasoline    8-Speed Automatic   \n",
       "9218      18–25  Gasoline    8-Speed Automatic   \n",
       "9219      23–30  Gasoline          6-SPEED A/T   \n",
       "9220      15–21  Gasoline    8-Speed Automatic   \n",
       "9221      20–27  Gasoline        Automatic CVT   \n",
       "\n",
       "                               Engine       Mileage SalePrice  \n",
       "0                2.5L I4 16V PDI DOHC   53,200 mi.    $29,000  \n",
       "1                            Electric   62,439 mi.    $18,989  \n",
       "2     3.0L V6 24V GDI DOHC Twin Turbo   22,690 mi.    $55,975  \n",
       "3                3.5L V6 24V PDI DOHC   17,854 mi.    $38,900  \n",
       "4                2.5L I4 16V GDI DOHC   60,907 mi.    $22,125  \n",
       "...                               ...           ...       ...  \n",
       "9217            3.6L V6 24V MPFI DOHC   78,378 mi.    $25,500  \n",
       "9218            3.6L V6 24V MPFI DOHC   30,909 mi.    $35,590  \n",
       "9219                4 Cylinder Engine   30,186 mi.    $24,000  \n",
       "9220             5.7L V8 16V MPFI OHV   22,309 mi.    $71,077  \n",
       "9221             3.5L V6 24V GDI DOHC    9,399 mi.    $34,988  \n",
       "\n",
       "[9222 rows x 9 columns]"
      ]
     },
     "execution_count": 67,
     "metadata": {},
     "output_type": "execute_result"
    }
   ],
   "source": [
    "df2"
   ]
  },
  {
   "cell_type": "code",
   "execution_count": 70,
   "metadata": {},
   "outputs": [],
   "source": [
    "#df2.to_csv('carinfoV2.csv')"
   ]
  },
  {
   "cell_type": "markdown",
   "metadata": {},
   "source": [
    "### Data Cleaning"
   ]
  },
  {
   "cell_type": "markdown",
   "metadata": {},
   "source": [
    "- This is a summarized version of the data cleaning process\n",
    "     - Full cleaning notebook can be found here [DataCleanig](CleaningWebScrape/mvp_cleaning-3bins.ipynb)\n",
    "- The process will be explained with snippets of code to explain how it was done\n",
    "- A before and after will be shown\n",
    "- There was a lot of data cleaning invloved"
   ]
  },
  {
   "cell_type": "code",
   "execution_count": 5,
   "metadata": {},
   "outputs": [],
   "source": [
    "df = pd.read_csv('data/carinfoV2.csv')"
   ]
  },
  {
   "cell_type": "code",
   "execution_count": 6,
   "metadata": {},
   "outputs": [],
   "source": [
    "df = df.drop(columns='Unnamed: 0')"
   ]
  },
  {
   "cell_type": "markdown",
   "metadata": {},
   "source": [
    "**Data is dirty, time to clean**"
   ]
  },
  {
   "cell_type": "code",
   "execution_count": 7,
   "metadata": {
    "scrolled": false
   },
   "outputs": [
    {
     "data": {
      "text/html": [
       "<div>\n",
       "<style scoped>\n",
       "    .dataframe tbody tr th:only-of-type {\n",
       "        vertical-align: middle;\n",
       "    }\n",
       "\n",
       "    .dataframe tbody tr th {\n",
       "        vertical-align: top;\n",
       "    }\n",
       "\n",
       "    .dataframe thead th {\n",
       "        text-align: right;\n",
       "    }\n",
       "</style>\n",
       "<table border=\"1\" class=\"dataframe\">\n",
       "  <thead>\n",
       "    <tr style=\"text-align: right;\">\n",
       "      <th></th>\n",
       "      <th>Model</th>\n",
       "      <th>Reviews</th>\n",
       "      <th>DriveTrain</th>\n",
       "      <th>MPG</th>\n",
       "      <th>FuelType</th>\n",
       "      <th>Transmission</th>\n",
       "      <th>Engine</th>\n",
       "      <th>Mileage</th>\n",
       "      <th>SalePrice</th>\n",
       "    </tr>\n",
       "  </thead>\n",
       "  <tbody>\n",
       "    <tr>\n",
       "      <th>0</th>\n",
       "      <td>['2020 Toyota RAV4 LE']</td>\n",
       "      <td>['Virtually nothing has gone wrong with my 202...</td>\n",
       "      <td>Front-wheel Drive</td>\n",
       "      <td>27–35</td>\n",
       "      <td>Gasoline</td>\n",
       "      <td>8-Speed Automatic</td>\n",
       "      <td>2.5L I4 16V PDI DOHC</td>\n",
       "      <td>53,200 mi.</td>\n",
       "      <td>$29,000</td>\n",
       "    </tr>\n",
       "    <tr>\n",
       "      <th>1</th>\n",
       "      <td>[]</td>\n",
       "      <td>[]</td>\n",
       "      <td>Front-wheel Drive</td>\n",
       "      <td>Electric</td>\n",
       "      <td>Electric</td>\n",
       "      <td>1-Speed Automatic</td>\n",
       "      <td>Electric</td>\n",
       "      <td>62,439 mi.</td>\n",
       "      <td>$18,989</td>\n",
       "    </tr>\n",
       "    <tr>\n",
       "      <th>2</th>\n",
       "      <td>['2016 Volkswagen e-Golf SE']</td>\n",
       "      <td>[\"Stranded today. Could not get to work. Somet...</td>\n",
       "      <td>Rear-wheel Drive</td>\n",
       "      <td>18–26</td>\n",
       "      <td>Gasoline</td>\n",
       "      <td>10-Speed Automatic</td>\n",
       "      <td>3.0L V6 24V GDI DOHC Twin Turbo</td>\n",
       "      <td>22,690 mi.</td>\n",
       "      <td>$55,975</td>\n",
       "    </tr>\n",
       "    <tr>\n",
       "      <th>3</th>\n",
       "      <td>['2020 Lincoln Aviator Reserve RWD']</td>\n",
       "      <td>['Excellent road car, quiet, stable, comfortab...</td>\n",
       "      <td>Four-wheel Drive</td>\n",
       "      <td>18–22</td>\n",
       "      <td>Gasoline</td>\n",
       "      <td>6-Speed Automatic</td>\n",
       "      <td>3.5L V6 24V PDI DOHC</td>\n",
       "      <td>17,854 mi.</td>\n",
       "      <td>$38,900</td>\n",
       "    </tr>\n",
       "    <tr>\n",
       "      <th>4</th>\n",
       "      <td>['2021 Toyota Tacoma TRD Off Road']</td>\n",
       "      <td>['PURCHASED FROM NYE TOYOTA, MY FIRST TACOMA. ...</td>\n",
       "      <td>Front-wheel Drive</td>\n",
       "      <td>28–39</td>\n",
       "      <td>Gasoline</td>\n",
       "      <td>Automatic CVT</td>\n",
       "      <td>2.5L I4 16V GDI DOHC</td>\n",
       "      <td>60,907 mi.</td>\n",
       "      <td>$22,125</td>\n",
       "    </tr>\n",
       "    <tr>\n",
       "      <th>...</th>\n",
       "      <td>...</td>\n",
       "      <td>...</td>\n",
       "      <td>...</td>\n",
       "      <td>...</td>\n",
       "      <td>...</td>\n",
       "      <td>...</td>\n",
       "      <td>...</td>\n",
       "      <td>...</td>\n",
       "      <td>...</td>\n",
       "    </tr>\n",
       "    <tr>\n",
       "      <th>9217</th>\n",
       "      <td>['2022 BMW X5 xDrive40i']</td>\n",
       "      <td>['Only had the X5 for 4 weeks now but so far i...</td>\n",
       "      <td>Four-wheel Drive</td>\n",
       "      <td>18–25</td>\n",
       "      <td>Gasoline</td>\n",
       "      <td>8-Speed Automatic</td>\n",
       "      <td>3.6L V6 24V MPFI DOHC</td>\n",
       "      <td>78,378 mi.</td>\n",
       "      <td>$25,500</td>\n",
       "    </tr>\n",
       "    <tr>\n",
       "      <th>9218</th>\n",
       "      <td>['2019 Toyota Tacoma TRD Off Road']</td>\n",
       "      <td>['When I bought my 2020 Tacoma V6 (3.5L) 4x4 i...</td>\n",
       "      <td>All-wheel Drive</td>\n",
       "      <td>18–25</td>\n",
       "      <td>Gasoline</td>\n",
       "      <td>8-Speed Automatic</td>\n",
       "      <td>3.6L V6 24V MPFI DOHC</td>\n",
       "      <td>30,909 mi.</td>\n",
       "      <td>$35,590</td>\n",
       "    </tr>\n",
       "    <tr>\n",
       "      <th>9219</th>\n",
       "      <td>['2015 INFINITI QX80 Base']</td>\n",
       "      <td>['Everything is great except the rear view cam...</td>\n",
       "      <td>Front-wheel Drive</td>\n",
       "      <td>23–30</td>\n",
       "      <td>Gasoline</td>\n",
       "      <td>6-SPEED A/T</td>\n",
       "      <td>4 Cylinder Engine</td>\n",
       "      <td>30,186 mi.</td>\n",
       "      <td>$24,000</td>\n",
       "    </tr>\n",
       "    <tr>\n",
       "      <th>9220</th>\n",
       "      <td>['2020 Toyota Tundra SR5']</td>\n",
       "      <td>['I have owned smaller SUV\\'s and Trucks for o...</td>\n",
       "      <td>Four-wheel Drive</td>\n",
       "      <td>15–21</td>\n",
       "      <td>Gasoline</td>\n",
       "      <td>8-Speed Automatic</td>\n",
       "      <td>5.7L V8 16V MPFI OHV</td>\n",
       "      <td>22,309 mi.</td>\n",
       "      <td>$71,077</td>\n",
       "    </tr>\n",
       "    <tr>\n",
       "      <th>9221</th>\n",
       "      <td>['2021 Buick Enclave Essence']</td>\n",
       "      <td>['Transmission and brake problems. Transmissio...</td>\n",
       "      <td>Four-wheel Drive</td>\n",
       "      <td>20–27</td>\n",
       "      <td>Gasoline</td>\n",
       "      <td>Automatic CVT</td>\n",
       "      <td>3.5L V6 24V GDI DOHC</td>\n",
       "      <td>9,399 mi.</td>\n",
       "      <td>$34,988</td>\n",
       "    </tr>\n",
       "  </tbody>\n",
       "</table>\n",
       "<p>9222 rows × 9 columns</p>\n",
       "</div>"
      ],
      "text/plain": [
       "                                     Model  \\\n",
       "0                  ['2020 Toyota RAV4 LE']   \n",
       "1                                       []   \n",
       "2            ['2016 Volkswagen e-Golf SE']   \n",
       "3     ['2020 Lincoln Aviator Reserve RWD']   \n",
       "4      ['2021 Toyota Tacoma TRD Off Road']   \n",
       "...                                    ...   \n",
       "9217             ['2022 BMW X5 xDrive40i']   \n",
       "9218   ['2019 Toyota Tacoma TRD Off Road']   \n",
       "9219           ['2015 INFINITI QX80 Base']   \n",
       "9220            ['2020 Toyota Tundra SR5']   \n",
       "9221        ['2021 Buick Enclave Essence']   \n",
       "\n",
       "                                                Reviews           DriveTrain  \\\n",
       "0     ['Virtually nothing has gone wrong with my 202...   Front-wheel Drive    \n",
       "1                                                    []   Front-wheel Drive    \n",
       "2     [\"Stranded today. Could not get to work. Somet...    Rear-wheel Drive    \n",
       "3     ['Excellent road car, quiet, stable, comfortab...    Four-wheel Drive    \n",
       "4     ['PURCHASED FROM NYE TOYOTA, MY FIRST TACOMA. ...   Front-wheel Drive    \n",
       "...                                                 ...                  ...   \n",
       "9217  ['Only had the X5 for 4 weeks now but so far i...    Four-wheel Drive    \n",
       "9218  ['When I bought my 2020 Tacoma V6 (3.5L) 4x4 i...     All-wheel Drive    \n",
       "9219  ['Everything is great except the rear view cam...   Front-wheel Drive    \n",
       "9220  ['I have owned smaller SUV\\'s and Trucks for o...    Four-wheel Drive    \n",
       "9221  ['Transmission and brake problems. Transmissio...    Four-wheel Drive    \n",
       "\n",
       "            MPG   FuelType        Transmission  \\\n",
       "0         27–35  Gasoline    8-Speed Automatic   \n",
       "1     Electric   Electric    1-Speed Automatic   \n",
       "2         18–26  Gasoline   10-Speed Automatic   \n",
       "3         18–22  Gasoline    6-Speed Automatic   \n",
       "4         28–39  Gasoline        Automatic CVT   \n",
       "...         ...        ...                 ...   \n",
       "9217      18–25  Gasoline    8-Speed Automatic   \n",
       "9218      18–25  Gasoline    8-Speed Automatic   \n",
       "9219      23–30  Gasoline          6-SPEED A/T   \n",
       "9220      15–21  Gasoline    8-Speed Automatic   \n",
       "9221      20–27  Gasoline        Automatic CVT   \n",
       "\n",
       "                               Engine       Mileage SalePrice  \n",
       "0                2.5L I4 16V PDI DOHC   53,200 mi.    $29,000  \n",
       "1                            Electric   62,439 mi.    $18,989  \n",
       "2     3.0L V6 24V GDI DOHC Twin Turbo   22,690 mi.    $55,975  \n",
       "3                3.5L V6 24V PDI DOHC   17,854 mi.    $38,900  \n",
       "4                2.5L I4 16V GDI DOHC   60,907 mi.    $22,125  \n",
       "...                               ...           ...       ...  \n",
       "9217            3.6L V6 24V MPFI DOHC   78,378 mi.    $25,500  \n",
       "9218            3.6L V6 24V MPFI DOHC   30,909 mi.    $35,590  \n",
       "9219                4 Cylinder Engine   30,186 mi.    $24,000  \n",
       "9220             5.7L V8 16V MPFI OHV   22,309 mi.    $71,077  \n",
       "9221             3.5L V6 24V GDI DOHC    9,399 mi.    $34,988  \n",
       "\n",
       "[9222 rows x 9 columns]"
      ]
     },
     "execution_count": 7,
     "metadata": {},
     "output_type": "execute_result"
    }
   ],
   "source": [
    "df"
   ]
  },
  {
   "cell_type": "markdown",
   "metadata": {},
   "source": [
    "Although each row/column had some sort of 'value', some of those values gave no information (such as row 0 has '[]' as a value). A couple hundred of these rows had special characters that could be viewed as empty values. The first step would be to look at the rows with special characters and see what to do.\n",
    "\n",
    "A lot of the special rows had multiple empty columns, so it was decided to remove those rows. After removing those, the data frame was reduced to ~8.4k rows"
   ]
  },
  {
   "cell_type": "code",
   "execution_count": 17,
   "metadata": {
    "scrolled": false
   },
   "outputs": [
    {
     "data": {
      "text/html": [
       "<div>\n",
       "<style scoped>\n",
       "    .dataframe tbody tr th:only-of-type {\n",
       "        vertical-align: middle;\n",
       "    }\n",
       "\n",
       "    .dataframe tbody tr th {\n",
       "        vertical-align: top;\n",
       "    }\n",
       "\n",
       "    .dataframe thead th {\n",
       "        text-align: right;\n",
       "    }\n",
       "</style>\n",
       "<table border=\"1\" class=\"dataframe\">\n",
       "  <thead>\n",
       "    <tr style=\"text-align: right;\">\n",
       "      <th></th>\n",
       "      <th>Model</th>\n",
       "      <th>Reviews</th>\n",
       "      <th>DriveTrain</th>\n",
       "      <th>MPG</th>\n",
       "      <th>FuelType</th>\n",
       "      <th>Transmission</th>\n",
       "      <th>Engine</th>\n",
       "      <th>Mileage</th>\n",
       "      <th>SalePrice</th>\n",
       "    </tr>\n",
       "  </thead>\n",
       "  <tbody>\n",
       "    <tr>\n",
       "      <th>0</th>\n",
       "      <td>['2020 Toyota RAV4 LE']</td>\n",
       "      <td>['Virtually nothing has gone wrong with my 202...</td>\n",
       "      <td>Front-wheel Drive</td>\n",
       "      <td>27–35</td>\n",
       "      <td>Gasoline</td>\n",
       "      <td>8-Speed Automatic</td>\n",
       "      <td>2.5L I4 16V PDI DOHC</td>\n",
       "      <td>53,200 mi.</td>\n",
       "      <td>$29,000</td>\n",
       "    </tr>\n",
       "    <tr>\n",
       "      <th>1</th>\n",
       "      <td>['2016 Volkswagen e-Golf SE']</td>\n",
       "      <td>[\"Stranded today. Could not get to work. Somet...</td>\n",
       "      <td>Rear-wheel Drive</td>\n",
       "      <td>18–26</td>\n",
       "      <td>Gasoline</td>\n",
       "      <td>10-Speed Automatic</td>\n",
       "      <td>3.0L V6 24V GDI DOHC Twin Turbo</td>\n",
       "      <td>22,690 mi.</td>\n",
       "      <td>$55,975</td>\n",
       "    </tr>\n",
       "    <tr>\n",
       "      <th>2</th>\n",
       "      <td>['2020 Lincoln Aviator Reserve RWD']</td>\n",
       "      <td>['Excellent road car, quiet, stable, comfortab...</td>\n",
       "      <td>Four-wheel Drive</td>\n",
       "      <td>18–22</td>\n",
       "      <td>Gasoline</td>\n",
       "      <td>6-Speed Automatic</td>\n",
       "      <td>3.5L V6 24V PDI DOHC</td>\n",
       "      <td>17,854 mi.</td>\n",
       "      <td>$38,900</td>\n",
       "    </tr>\n",
       "    <tr>\n",
       "      <th>3</th>\n",
       "      <td>['2021 Toyota Tacoma TRD Off Road']</td>\n",
       "      <td>['PURCHASED FROM NYE TOYOTA, MY FIRST TACOMA. ...</td>\n",
       "      <td>Front-wheel Drive</td>\n",
       "      <td>28–39</td>\n",
       "      <td>Gasoline</td>\n",
       "      <td>Automatic CVT</td>\n",
       "      <td>2.5L I4 16V GDI DOHC</td>\n",
       "      <td>60,907 mi.</td>\n",
       "      <td>$22,125</td>\n",
       "    </tr>\n",
       "    <tr>\n",
       "      <th>4</th>\n",
       "      <td>['2020 Nissan Altima 2.5 S']</td>\n",
       "      <td>['I’ve own a 2020 Altima (under 30k miles) for...</td>\n",
       "      <td>Front-wheel Drive</td>\n",
       "      <td>24–32</td>\n",
       "      <td>Gasoline</td>\n",
       "      <td>6-Speed Automatic</td>\n",
       "      <td>2.4L I4 16V GDI DOHC</td>\n",
       "      <td>41,614 mi.</td>\n",
       "      <td>$23,946</td>\n",
       "    </tr>\n",
       "    <tr>\n",
       "      <th>...</th>\n",
       "      <td>...</td>\n",
       "      <td>...</td>\n",
       "      <td>...</td>\n",
       "      <td>...</td>\n",
       "      <td>...</td>\n",
       "      <td>...</td>\n",
       "      <td>...</td>\n",
       "      <td>...</td>\n",
       "      <td>...</td>\n",
       "    </tr>\n",
       "    <tr>\n",
       "      <th>8476</th>\n",
       "      <td>['2022 BMW X5 xDrive40i']</td>\n",
       "      <td>['Only had the X5 for 4 weeks now but so far i...</td>\n",
       "      <td>Four-wheel Drive</td>\n",
       "      <td>18–25</td>\n",
       "      <td>Gasoline</td>\n",
       "      <td>8-Speed Automatic</td>\n",
       "      <td>3.6L V6 24V MPFI DOHC</td>\n",
       "      <td>78,378 mi.</td>\n",
       "      <td>$25,500</td>\n",
       "    </tr>\n",
       "    <tr>\n",
       "      <th>8477</th>\n",
       "      <td>['2019 Toyota Tacoma TRD Off Road']</td>\n",
       "      <td>['When I bought my 2020 Tacoma V6 (3.5L) 4x4 i...</td>\n",
       "      <td>All-wheel Drive</td>\n",
       "      <td>18–25</td>\n",
       "      <td>Gasoline</td>\n",
       "      <td>8-Speed Automatic</td>\n",
       "      <td>3.6L V6 24V MPFI DOHC</td>\n",
       "      <td>30,909 mi.</td>\n",
       "      <td>$35,590</td>\n",
       "    </tr>\n",
       "    <tr>\n",
       "      <th>8478</th>\n",
       "      <td>['2015 INFINITI QX80 Base']</td>\n",
       "      <td>['Everything is great except the rear view cam...</td>\n",
       "      <td>Front-wheel Drive</td>\n",
       "      <td>23–30</td>\n",
       "      <td>Gasoline</td>\n",
       "      <td>6-SPEED A/T</td>\n",
       "      <td>4 Cylinder Engine</td>\n",
       "      <td>30,186 mi.</td>\n",
       "      <td>$24,000</td>\n",
       "    </tr>\n",
       "    <tr>\n",
       "      <th>8479</th>\n",
       "      <td>['2020 Toyota Tundra SR5']</td>\n",
       "      <td>['I have owned smaller SUV\\'s and Trucks for o...</td>\n",
       "      <td>Four-wheel Drive</td>\n",
       "      <td>15–21</td>\n",
       "      <td>Gasoline</td>\n",
       "      <td>8-Speed Automatic</td>\n",
       "      <td>5.7L V8 16V MPFI OHV</td>\n",
       "      <td>22,309 mi.</td>\n",
       "      <td>$71,077</td>\n",
       "    </tr>\n",
       "    <tr>\n",
       "      <th>8480</th>\n",
       "      <td>['2021 Buick Enclave Essence']</td>\n",
       "      <td>['Transmission and brake problems. Transmissio...</td>\n",
       "      <td>Four-wheel Drive</td>\n",
       "      <td>20–27</td>\n",
       "      <td>Gasoline</td>\n",
       "      <td>Automatic CVT</td>\n",
       "      <td>3.5L V6 24V GDI DOHC</td>\n",
       "      <td>9,399 mi.</td>\n",
       "      <td>$34,988</td>\n",
       "    </tr>\n",
       "  </tbody>\n",
       "</table>\n",
       "<p>8481 rows × 9 columns</p>\n",
       "</div>"
      ],
      "text/plain": [
       "                                     Model  \\\n",
       "0                  ['2020 Toyota RAV4 LE']   \n",
       "1            ['2016 Volkswagen e-Golf SE']   \n",
       "2     ['2020 Lincoln Aviator Reserve RWD']   \n",
       "3      ['2021 Toyota Tacoma TRD Off Road']   \n",
       "4             ['2020 Nissan Altima 2.5 S']   \n",
       "...                                    ...   \n",
       "8476             ['2022 BMW X5 xDrive40i']   \n",
       "8477   ['2019 Toyota Tacoma TRD Off Road']   \n",
       "8478           ['2015 INFINITI QX80 Base']   \n",
       "8479            ['2020 Toyota Tundra SR5']   \n",
       "8480        ['2021 Buick Enclave Essence']   \n",
       "\n",
       "                                                Reviews           DriveTrain  \\\n",
       "0     ['Virtually nothing has gone wrong with my 202...   Front-wheel Drive    \n",
       "1     [\"Stranded today. Could not get to work. Somet...    Rear-wheel Drive    \n",
       "2     ['Excellent road car, quiet, stable, comfortab...    Four-wheel Drive    \n",
       "3     ['PURCHASED FROM NYE TOYOTA, MY FIRST TACOMA. ...   Front-wheel Drive    \n",
       "4     ['I’ve own a 2020 Altima (under 30k miles) for...   Front-wheel Drive    \n",
       "...                                                 ...                  ...   \n",
       "8476  ['Only had the X5 for 4 weeks now but so far i...    Four-wheel Drive    \n",
       "8477  ['When I bought my 2020 Tacoma V6 (3.5L) 4x4 i...     All-wheel Drive    \n",
       "8478  ['Everything is great except the rear view cam...   Front-wheel Drive    \n",
       "8479  ['I have owned smaller SUV\\'s and Trucks for o...    Four-wheel Drive    \n",
       "8480  ['Transmission and brake problems. Transmissio...    Four-wheel Drive    \n",
       "\n",
       "        MPG   FuelType        Transmission                           Engine  \\\n",
       "0     27–35  Gasoline    8-Speed Automatic             2.5L I4 16V PDI DOHC   \n",
       "1     18–26  Gasoline   10-Speed Automatic  3.0L V6 24V GDI DOHC Twin Turbo   \n",
       "2     18–22  Gasoline    6-Speed Automatic             3.5L V6 24V PDI DOHC   \n",
       "3     28–39  Gasoline        Automatic CVT             2.5L I4 16V GDI DOHC   \n",
       "4     24–32  Gasoline    6-Speed Automatic             2.4L I4 16V GDI DOHC   \n",
       "...     ...        ...                 ...                              ...   \n",
       "8476  18–25  Gasoline    8-Speed Automatic            3.6L V6 24V MPFI DOHC   \n",
       "8477  18–25  Gasoline    8-Speed Automatic            3.6L V6 24V MPFI DOHC   \n",
       "8478  23–30  Gasoline          6-SPEED A/T                4 Cylinder Engine   \n",
       "8479  15–21  Gasoline    8-Speed Automatic             5.7L V8 16V MPFI OHV   \n",
       "8480  20–27  Gasoline        Automatic CVT             3.5L V6 24V GDI DOHC   \n",
       "\n",
       "           Mileage SalePrice  \n",
       "0      53,200 mi.    $29,000  \n",
       "1      22,690 mi.    $55,975  \n",
       "2      17,854 mi.    $38,900  \n",
       "3      60,907 mi.    $22,125  \n",
       "4      41,614 mi.    $23,946  \n",
       "...            ...       ...  \n",
       "8476   78,378 mi.    $25,500  \n",
       "8477   30,909 mi.    $35,590  \n",
       "8478   30,186 mi.    $24,000  \n",
       "8479   22,309 mi.    $71,077  \n",
       "8480    9,399 mi.    $34,988  \n",
       "\n",
       "[8481 rows x 9 columns]"
      ]
     },
     "execution_count": 17,
     "metadata": {},
     "output_type": "execute_result"
    }
   ],
   "source": [
    "data #note, this cell will not run, it is being used to show the 'after', this should be visible on the github"
   ]
  },
  {
   "cell_type": "markdown",
   "metadata": {},
   "source": [
    "The next step in cleaning would be to turn SalePrice into an actual integer pandas can read. Once the SalePrice was a numeric value, we can use pandas function to bin our SalePrice into three categories. The original plan was to have five categories but it was decided to keep three. This is so the models could have better predictions. According to the business understanding, clients would use this model as a starting point for used car prices, so having three price ranges is not a bad start."
   ]
  },
  {
   "cell_type": "markdown",
   "metadata": {},
   "source": [
    "Then the reviews would have to be cleaned up. This was done by creating a function to pass each review through, this function would also help clean up the Model column."
   ]
  },
  {
   "cell_type": "code",
   "execution_count": 8,
   "metadata": {},
   "outputs": [],
   "source": [
    "def review_cleaner(rev):\n",
    "    '''\n",
    "    Takes in a string and removes special characters.\n",
    "    Returns the string with no special characters.\n",
    "    '''\n",
    "    clean = re.sub(r'\\\\n', '', rev)\n",
    "    clean = re.sub(r'\\\\r', '', clean)\n",
    "    clean = clean.replace('[', '')\n",
    "    clean = clean.replace(']', '')\n",
    "    clean = clean.replace('\"', '')\n",
    "    clean = clean.replace(\"'\", \"\")\n",
    "    return clean"
   ]
  },
  {
   "cell_type": "markdown",
   "metadata": {},
   "source": [
    "With the Model column being clean, we can extract the year/make/model for each car and place them in their respective columns. DriveTrain was reduced down to their acronyms (FWD,AWD,RWD).\n",
    "\n",
    "The next step in cleaning would be to turn the current numeric values into true floats/integers. This would include columns such as Mileage, MPG, and Year.\n",
    "\n",
    "At this point, the columns 'FuelType' and 'Transmission' were dropped. Both column were dominated by a single value. Both Gasoline and Automatic made up 95% of the values in their respective columns. This would not help the models at all since those columns essentially have a single value to predict. \n",
    "\n",
    "This brought us down to clean the last column, 'Engine'. With the 'Engine' column we can extract the size of the motor (ex. 3.5L) and the number of cyliders (ex. v6). Two seperate columns were created to for the engine size and number of cylinders. A big issue arrived, the data was not consistant accross the columns (incorrect values, different notation). To help with this, two indicator columns were made to check if they were in the correct format or not. By indexing through the indicator columns, we could then fill in the correct values for each column. "
   ]
  },
  {
   "cell_type": "code",
   "execution_count": 86,
   "metadata": {},
   "outputs": [],
   "source": [
    "data['hasCyl'] = data['Cylinders'].str.isdigit() #if it has some sort of integer then it is true\n",
    "                                                  #it does have a correct cylinder number, else its false"
   ]
  },
  {
   "cell_type": "code",
   "execution_count": 87,
   "metadata": {},
   "outputs": [],
   "source": [
    "data['hasSize'] = data['EngineSize'].str.contains('L') #if the string contains 'L' then it has the correct value (3.5L)\n",
    "                                                       # if it doesn't it is false"
   ]
  },
  {
   "cell_type": "code",
   "execution_count": 91,
   "metadata": {
    "scrolled": false
   },
   "outputs": [
    {
     "data": {
      "text/html": [
       "<div>\n",
       "<style scoped>\n",
       "    .dataframe tbody tr th:only-of-type {\n",
       "        vertical-align: middle;\n",
       "    }\n",
       "\n",
       "    .dataframe tbody tr th {\n",
       "        vertical-align: top;\n",
       "    }\n",
       "\n",
       "    .dataframe thead th {\n",
       "        text-align: right;\n",
       "    }\n",
       "</style>\n",
       "<table border=\"1\" class=\"dataframe\">\n",
       "  <thead>\n",
       "    <tr style=\"text-align: right;\">\n",
       "      <th></th>\n",
       "      <th>DriveTrain</th>\n",
       "      <th>MPG</th>\n",
       "      <th>Mileage</th>\n",
       "      <th>SalePrice</th>\n",
       "      <th>PriceCategory</th>\n",
       "      <th>CleanReviews</th>\n",
       "      <th>Year</th>\n",
       "      <th>Make</th>\n",
       "      <th>Car_Model</th>\n",
       "      <th>EngineSize</th>\n",
       "      <th>Cylinders</th>\n",
       "      <th>hasCyl</th>\n",
       "      <th>hasSize</th>\n",
       "    </tr>\n",
       "  </thead>\n",
       "  <tbody>\n",
       "    <tr>\n",
       "      <th>15</th>\n",
       "      <td>FWD</td>\n",
       "      <td>29.0</td>\n",
       "      <td>105026.0</td>\n",
       "      <td>14433.0</td>\n",
       "      <td>Cheap</td>\n",
       "      <td>Beautiful, comfortable, responsive... my only ...</td>\n",
       "      <td>2020.0</td>\n",
       "      <td>Lexus</td>\n",
       "      <td>ES</td>\n",
       "      <td>Regular</td>\n",
       "      <td>Unleaded</td>\n",
       "      <td>False</td>\n",
       "      <td>False</td>\n",
       "    </tr>\n",
       "    <tr>\n",
       "      <th>21</th>\n",
       "      <td>FWD</td>\n",
       "      <td>20.0</td>\n",
       "      <td>28716.0</td>\n",
       "      <td>47590.0</td>\n",
       "      <td>Expensive</td>\n",
       "      <td>The X3 m40i is the best family vehicle. Got a ...</td>\n",
       "      <td>2019.0</td>\n",
       "      <td>BMW</td>\n",
       "      <td>X3</td>\n",
       "      <td>V6</td>\n",
       "      <td>Cylinder</td>\n",
       "      <td>False</td>\n",
       "      <td>False</td>\n",
       "    </tr>\n",
       "    <tr>\n",
       "      <th>36</th>\n",
       "      <td>RWD</td>\n",
       "      <td>25.0</td>\n",
       "      <td>98467.0</td>\n",
       "      <td>24786.0</td>\n",
       "      <td>Cheap</td>\n",
       "      <td>I got my crew cab 2019 F250 XLT with the 6.2L ...</td>\n",
       "      <td>2019.0</td>\n",
       "      <td>Ford</td>\n",
       "      <td>F-250</td>\n",
       "      <td>Intercooled</td>\n",
       "      <td>Turbo</td>\n",
       "      <td>False</td>\n",
       "      <td>False</td>\n",
       "    </tr>\n",
       "    <tr>\n",
       "      <th>46</th>\n",
       "      <td>AWD</td>\n",
       "      <td>27.0</td>\n",
       "      <td>32708.0</td>\n",
       "      <td>31998.0</td>\n",
       "      <td>Average</td>\n",
       "      <td>61000 miles 2016 Sierra 1500. 2,800 repair for...</td>\n",
       "      <td>2021.0</td>\n",
       "      <td>GMC</td>\n",
       "      <td>Sierra</td>\n",
       "      <td>4</td>\n",
       "      <td>Cylinder</td>\n",
       "      <td>False</td>\n",
       "      <td>False</td>\n",
       "    </tr>\n",
       "    <tr>\n",
       "      <th>58</th>\n",
       "      <td>FWD</td>\n",
       "      <td>18.0</td>\n",
       "      <td>19855.0</td>\n",
       "      <td>104995.0</td>\n",
       "      <td>Expensive</td>\n",
       "      <td>No surprise .... good performance.   It is a M...</td>\n",
       "      <td>2014.0</td>\n",
       "      <td>Mercedes-Benz</td>\n",
       "      <td>CLA-Class</td>\n",
       "      <td>V6</td>\n",
       "      <td>none</td>\n",
       "      <td>False</td>\n",
       "      <td>False</td>\n",
       "    </tr>\n",
       "    <tr>\n",
       "      <th>...</th>\n",
       "      <td>...</td>\n",
       "      <td>...</td>\n",
       "      <td>...</td>\n",
       "      <td>...</td>\n",
       "      <td>...</td>\n",
       "      <td>...</td>\n",
       "      <td>...</td>\n",
       "      <td>...</td>\n",
       "      <td>...</td>\n",
       "      <td>...</td>\n",
       "      <td>...</td>\n",
       "      <td>...</td>\n",
       "      <td>...</td>\n",
       "    </tr>\n",
       "    <tr>\n",
       "      <th>8395</th>\n",
       "      <td>AWD</td>\n",
       "      <td>24.0</td>\n",
       "      <td>20307.0</td>\n",
       "      <td>40991.0</td>\n",
       "      <td>Average</td>\n",
       "      <td>Truck rides like a car.  Plenty of power, goo...</td>\n",
       "      <td>2013.0</td>\n",
       "      <td>Ford</td>\n",
       "      <td>F-150</td>\n",
       "      <td>4</td>\n",
       "      <td>Cyl</td>\n",
       "      <td>False</td>\n",
       "      <td>False</td>\n",
       "    </tr>\n",
       "    <tr>\n",
       "      <th>8409</th>\n",
       "      <td>FWD</td>\n",
       "      <td>19.0</td>\n",
       "      <td>26672.0</td>\n",
       "      <td>57000.0</td>\n",
       "      <td>Expensive</td>\n",
       "      <td>I purchased my black on black 2017 Accord EX-L...</td>\n",
       "      <td>2017.0</td>\n",
       "      <td>Honda</td>\n",
       "      <td>Accord</td>\n",
       "      <td>Regular</td>\n",
       "      <td>Unleaded</td>\n",
       "      <td>False</td>\n",
       "      <td>False</td>\n",
       "    </tr>\n",
       "    <tr>\n",
       "      <th>8437</th>\n",
       "      <td>FWD</td>\n",
       "      <td>18.0</td>\n",
       "      <td>10896.0</td>\n",
       "      <td>123999.0</td>\n",
       "      <td>Expensive</td>\n",
       "      <td>have owned 356s for 55 yrs. this is my first n...</td>\n",
       "      <td>2018.0</td>\n",
       "      <td>Porsche</td>\n",
       "      <td>Panamera</td>\n",
       "      <td>V6</td>\n",
       "      <td>none</td>\n",
       "      <td>False</td>\n",
       "      <td>False</td>\n",
       "    </tr>\n",
       "    <tr>\n",
       "      <th>8446</th>\n",
       "      <td>FWD</td>\n",
       "      <td>19.0</td>\n",
       "      <td>59432.0</td>\n",
       "      <td>44792.0</td>\n",
       "      <td>Average</td>\n",
       "      <td>63000 miles and transmission went out. Spoke t...</td>\n",
       "      <td>2019.0</td>\n",
       "      <td>Dodge</td>\n",
       "      <td>Grand</td>\n",
       "      <td>6</td>\n",
       "      <td>Cyl</td>\n",
       "      <td>False</td>\n",
       "      <td>False</td>\n",
       "    </tr>\n",
       "    <tr>\n",
       "      <th>8471</th>\n",
       "      <td>FWD</td>\n",
       "      <td>23.0</td>\n",
       "      <td>30186.0</td>\n",
       "      <td>24000.0</td>\n",
       "      <td>Cheap</td>\n",
       "      <td>Everything is great except the rear view camer...</td>\n",
       "      <td>2015.0</td>\n",
       "      <td>INFINITI</td>\n",
       "      <td>QX80</td>\n",
       "      <td>4</td>\n",
       "      <td>Cylinder</td>\n",
       "      <td>False</td>\n",
       "      <td>False</td>\n",
       "    </tr>\n",
       "  </tbody>\n",
       "</table>\n",
       "<p>821 rows × 13 columns</p>\n",
       "</div>"
      ],
      "text/plain": [
       "     DriveTrain   MPG   Mileage  SalePrice PriceCategory  \\\n",
       "15          FWD  29.0  105026.0    14433.0         Cheap   \n",
       "21          FWD  20.0   28716.0    47590.0     Expensive   \n",
       "36          RWD  25.0   98467.0    24786.0         Cheap   \n",
       "46          AWD  27.0   32708.0    31998.0       Average   \n",
       "58          FWD  18.0   19855.0   104995.0     Expensive   \n",
       "...         ...   ...       ...        ...           ...   \n",
       "8395        AWD  24.0   20307.0    40991.0       Average   \n",
       "8409        FWD  19.0   26672.0    57000.0     Expensive   \n",
       "8437        FWD  18.0   10896.0   123999.0     Expensive   \n",
       "8446        FWD  19.0   59432.0    44792.0       Average   \n",
       "8471        FWD  23.0   30186.0    24000.0         Cheap   \n",
       "\n",
       "                                           CleanReviews    Year  \\\n",
       "15    Beautiful, comfortable, responsive... my only ...  2020.0   \n",
       "21    The X3 m40i is the best family vehicle. Got a ...  2019.0   \n",
       "36    I got my crew cab 2019 F250 XLT with the 6.2L ...  2019.0   \n",
       "46    61000 miles 2016 Sierra 1500. 2,800 repair for...  2021.0   \n",
       "58    No surprise .... good performance.   It is a M...  2014.0   \n",
       "...                                                 ...     ...   \n",
       "8395   Truck rides like a car.  Plenty of power, goo...  2013.0   \n",
       "8409  I purchased my black on black 2017 Accord EX-L...  2017.0   \n",
       "8437  have owned 356s for 55 yrs. this is my first n...  2018.0   \n",
       "8446  63000 miles and transmission went out. Spoke t...  2019.0   \n",
       "8471  Everything is great except the rear view camer...  2015.0   \n",
       "\n",
       "               Make  Car_Model   EngineSize Cylinders hasCyl  hasSize  \n",
       "15            Lexus         ES      Regular  Unleaded  False    False  \n",
       "21              BMW         X3           V6  Cylinder  False    False  \n",
       "36             Ford      F-250  Intercooled     Turbo  False    False  \n",
       "46              GMC     Sierra            4  Cylinder  False    False  \n",
       "58    Mercedes-Benz  CLA-Class           V6      none  False    False  \n",
       "...             ...        ...          ...       ...    ...      ...  \n",
       "8395           Ford      F-150            4       Cyl  False    False  \n",
       "8409          Honda     Accord      Regular  Unleaded  False    False  \n",
       "8437        Porsche   Panamera           V6      none  False    False  \n",
       "8446          Dodge      Grand            6       Cyl  False    False  \n",
       "8471       INFINITI       QX80            4  Cylinder  False    False  \n",
       "\n",
       "[821 rows x 13 columns]"
      ]
     },
     "execution_count": 91,
     "metadata": {},
     "output_type": "execute_result"
    }
   ],
   "source": [
    "data[(data['hasCyl'].isna() == False) & (data['hasSize'] == False)]"
   ]
  },
  {
   "cell_type": "code",
   "execution_count": 92,
   "metadata": {},
   "outputs": [],
   "source": [
    "newSize = [] #list to place all our values"
   ]
  },
  {
   "cell_type": "code",
   "execution_count": 93,
   "metadata": {},
   "outputs": [],
   "source": [
    "for i in range(0,len(data)): #looping through the index\n",
    "    \n",
    "    if data['hasCyl'][i] == False and data['hasSize'][i]==False: #check when indicator cols are false\n",
    "        if 'L' in data['Cylinders'][i]: #if it has L use it, correct value\n",
    "            newSize.append(data['Cylinders'][i])\n",
    "        elif '6' in data['EngineSize'][i]: #if it has 6 use 3.5L, most common for 6 cylinders\n",
    "            newSize.append('3.5L')\n",
    "        elif '4' in data['EngineSize'][i]: #if it has 4 use 2.5L, most common for 4 cylinders\n",
    "            newSize.append('2.5L')\n",
    "        else:\n",
    "            newSize.append('unknown') #we just don't know\n",
    "\n",
    "    elif data['hasSize'][i] == True or math.isnan(data['hasCyl'][i]) == True:\n",
    "        newSize.append(data['EngineSize'][i]) #if it already has a valid value, use it\n",
    "    else:\n",
    "        newSize.append(data['EngineSize'][i]) #if it already has a valid value, use it\n",
    "    "
   ]
  },
  {
   "cell_type": "code",
   "execution_count": 94,
   "metadata": {},
   "outputs": [],
   "source": [
    "lst = []\n",
    "for x in newSize:\n",
    "    if 'L' not in x or 'Engine' in x: # if it doesnt have L or has Engine, we dont know\n",
    "        x = 'unknown'\n",
    "        lst.append(x)\n",
    "    else: #it does have an L so we use it\n",
    "        x = x\n",
    "        lst.append(x)"
   ]
  },
  {
   "cell_type": "code",
   "execution_count": 97,
   "metadata": {},
   "outputs": [],
   "source": [
    "newCyl = [] "
   ]
  },
  {
   "cell_type": "code",
   "execution_count": 99,
   "metadata": {},
   "outputs": [],
   "source": [
    "for i in range(0,len(data)): #looping through index\n",
    "    \n",
    "    if data['hasCyl'][i] == False: #checking our indicator column\n",
    "        if '2' in data['newSize'][i]: #if it has a 2 (2.5L, 2.8L, etc.) then its most likely a 4 cylinder\n",
    "            newCyl.append(4)\n",
    "        elif '3' in data['newSize'][i]: #if it has a 3 then its most likely a 6 cylinder\n",
    "            newCyl.append(6)\n",
    "        elif '4' in data['newSize'][i]: #if it has a 4 then its most likely a 8 cylinder\n",
    "            newCyl.append(8)\n",
    "        else:\n",
    "            newCyl.append('unknown') #we just dont know\n",
    "    else:\n",
    "        newCyl.append(data['Cylinders'][i]) #has correct value "
   ]
  },
  {
   "cell_type": "markdown",
   "metadata": {},
   "source": [
    "Once we had correct values in each of the columns, the final step was to only include the top 25 makes for each car. If car make was not in the top 25 makes, it would be labled as other. This was done for modeling purposes so a model can more easily predict an outcome. The make of the car was dropped from the dataset. A lot of times, people would want to know the make of a car vs the model. The make of a car has more of a sigificance in the car community. The the care is made by a reliable company. such as Toyota, they would usually not question the model of a car.\n",
    "\n",
    "The data has been cleaned/prepared for preprocessing and modeling "
   ]
  },
  {
   "cell_type": "code",
   "execution_count": 13,
   "metadata": {},
   "outputs": [],
   "source": [
    "final_data = pd.read_csv('data/CleanData3bins.csv')"
   ]
  },
  {
   "cell_type": "code",
   "execution_count": 14,
   "metadata": {
    "scrolled": false
   },
   "outputs": [],
   "source": [
    "final_data = final_data.drop(columns='Unnamed: 0')"
   ]
  },
  {
   "cell_type": "code",
   "execution_count": 15,
   "metadata": {
    "scrolled": false
   },
   "outputs": [
    {
     "data": {
      "text/html": [
       "<div>\n",
       "<style scoped>\n",
       "    .dataframe tbody tr th:only-of-type {\n",
       "        vertical-align: middle;\n",
       "    }\n",
       "\n",
       "    .dataframe tbody tr th {\n",
       "        vertical-align: top;\n",
       "    }\n",
       "\n",
       "    .dataframe thead th {\n",
       "        text-align: right;\n",
       "    }\n",
       "</style>\n",
       "<table border=\"1\" class=\"dataframe\">\n",
       "  <thead>\n",
       "    <tr style=\"text-align: right;\">\n",
       "      <th></th>\n",
       "      <th>DriveTrain</th>\n",
       "      <th>Mileage</th>\n",
       "      <th>SalePrice</th>\n",
       "      <th>PriceCategory</th>\n",
       "      <th>CleanReviews</th>\n",
       "      <th>Year</th>\n",
       "      <th>newSize</th>\n",
       "      <th>newCyl</th>\n",
       "      <th>newMake</th>\n",
       "      <th>mpg</th>\n",
       "    </tr>\n",
       "  </thead>\n",
       "  <tbody>\n",
       "    <tr>\n",
       "      <th>0</th>\n",
       "      <td>FWD</td>\n",
       "      <td>53200.0</td>\n",
       "      <td>29000.0</td>\n",
       "      <td>Average</td>\n",
       "      <td>Virtually nothing has gone wrong with my 2020 ...</td>\n",
       "      <td>2020.0</td>\n",
       "      <td>2.5</td>\n",
       "      <td>4</td>\n",
       "      <td>Toyota</td>\n",
       "      <td>27.0</td>\n",
       "    </tr>\n",
       "    <tr>\n",
       "      <th>1</th>\n",
       "      <td>RWD</td>\n",
       "      <td>22690.0</td>\n",
       "      <td>55975.0</td>\n",
       "      <td>Expensive</td>\n",
       "      <td>Stranded today. Could not get to work. Somethi...</td>\n",
       "      <td>2016.0</td>\n",
       "      <td>3.0</td>\n",
       "      <td>6</td>\n",
       "      <td>Volkswagen</td>\n",
       "      <td>18.0</td>\n",
       "    </tr>\n",
       "    <tr>\n",
       "      <th>2</th>\n",
       "      <td>FWD</td>\n",
       "      <td>17854.0</td>\n",
       "      <td>38900.0</td>\n",
       "      <td>Average</td>\n",
       "      <td>Excellent road car, quiet, stable, comfortable...</td>\n",
       "      <td>2020.0</td>\n",
       "      <td>3.5</td>\n",
       "      <td>6</td>\n",
       "      <td>Other</td>\n",
       "      <td>18.0</td>\n",
       "    </tr>\n",
       "    <tr>\n",
       "      <th>3</th>\n",
       "      <td>FWD</td>\n",
       "      <td>60907.0</td>\n",
       "      <td>22125.0</td>\n",
       "      <td>Cheap</td>\n",
       "      <td>PURCHASED FROM NYE TOYOTA, MY FIRST TACOMA. LO...</td>\n",
       "      <td>2021.0</td>\n",
       "      <td>2.5</td>\n",
       "      <td>4</td>\n",
       "      <td>Toyota</td>\n",
       "      <td>28.0</td>\n",
       "    </tr>\n",
       "    <tr>\n",
       "      <th>4</th>\n",
       "      <td>FWD</td>\n",
       "      <td>41614.0</td>\n",
       "      <td>23946.0</td>\n",
       "      <td>Cheap</td>\n",
       "      <td>I’ve own a 2020 Altima (under 30k miles) for a...</td>\n",
       "      <td>2020.0</td>\n",
       "      <td>2.4</td>\n",
       "      <td>4</td>\n",
       "      <td>Nissan</td>\n",
       "      <td>24.0</td>\n",
       "    </tr>\n",
       "    <tr>\n",
       "      <th>...</th>\n",
       "      <td>...</td>\n",
       "      <td>...</td>\n",
       "      <td>...</td>\n",
       "      <td>...</td>\n",
       "      <td>...</td>\n",
       "      <td>...</td>\n",
       "      <td>...</td>\n",
       "      <td>...</td>\n",
       "      <td>...</td>\n",
       "      <td>...</td>\n",
       "    </tr>\n",
       "    <tr>\n",
       "      <th>8469</th>\n",
       "      <td>FWD</td>\n",
       "      <td>78378.0</td>\n",
       "      <td>25500.0</td>\n",
       "      <td>Cheap</td>\n",
       "      <td>Only had the X5 for 4 weeks now but so far it ...</td>\n",
       "      <td>2022.0</td>\n",
       "      <td>3.6</td>\n",
       "      <td>6</td>\n",
       "      <td>BMW</td>\n",
       "      <td>18.0</td>\n",
       "    </tr>\n",
       "    <tr>\n",
       "      <th>8470</th>\n",
       "      <td>AWD</td>\n",
       "      <td>30909.0</td>\n",
       "      <td>35590.0</td>\n",
       "      <td>Average</td>\n",
       "      <td>When I bought my 2020 Tacoma V6 (3.5L) 4x4 in ...</td>\n",
       "      <td>2019.0</td>\n",
       "      <td>3.6</td>\n",
       "      <td>6</td>\n",
       "      <td>Toyota</td>\n",
       "      <td>18.0</td>\n",
       "    </tr>\n",
       "    <tr>\n",
       "      <th>8471</th>\n",
       "      <td>FWD</td>\n",
       "      <td>30186.0</td>\n",
       "      <td>24000.0</td>\n",
       "      <td>Cheap</td>\n",
       "      <td>Everything is great except the rear view camer...</td>\n",
       "      <td>2015.0</td>\n",
       "      <td>2.5</td>\n",
       "      <td>4</td>\n",
       "      <td>INFINITI</td>\n",
       "      <td>23.0</td>\n",
       "    </tr>\n",
       "    <tr>\n",
       "      <th>8472</th>\n",
       "      <td>FWD</td>\n",
       "      <td>22309.0</td>\n",
       "      <td>71077.0</td>\n",
       "      <td>Expensive</td>\n",
       "      <td>I have owned smaller SUV\\s and Trucks for over...</td>\n",
       "      <td>2020.0</td>\n",
       "      <td>5.7</td>\n",
       "      <td>8</td>\n",
       "      <td>Toyota</td>\n",
       "      <td>15.0</td>\n",
       "    </tr>\n",
       "    <tr>\n",
       "      <th>8473</th>\n",
       "      <td>FWD</td>\n",
       "      <td>9399.0</td>\n",
       "      <td>34988.0</td>\n",
       "      <td>Average</td>\n",
       "      <td>Transmission and brake problems. Transmission ...</td>\n",
       "      <td>2021.0</td>\n",
       "      <td>3.5</td>\n",
       "      <td>6</td>\n",
       "      <td>Other</td>\n",
       "      <td>20.0</td>\n",
       "    </tr>\n",
       "  </tbody>\n",
       "</table>\n",
       "<p>8474 rows × 10 columns</p>\n",
       "</div>"
      ],
      "text/plain": [
       "     DriveTrain  Mileage  SalePrice PriceCategory  \\\n",
       "0           FWD  53200.0    29000.0       Average   \n",
       "1           RWD  22690.0    55975.0     Expensive   \n",
       "2           FWD  17854.0    38900.0       Average   \n",
       "3           FWD  60907.0    22125.0         Cheap   \n",
       "4           FWD  41614.0    23946.0         Cheap   \n",
       "...         ...      ...        ...           ...   \n",
       "8469        FWD  78378.0    25500.0         Cheap   \n",
       "8470        AWD  30909.0    35590.0       Average   \n",
       "8471        FWD  30186.0    24000.0         Cheap   \n",
       "8472        FWD  22309.0    71077.0     Expensive   \n",
       "8473        FWD   9399.0    34988.0       Average   \n",
       "\n",
       "                                           CleanReviews    Year  newSize  \\\n",
       "0     Virtually nothing has gone wrong with my 2020 ...  2020.0      2.5   \n",
       "1     Stranded today. Could not get to work. Somethi...  2016.0      3.0   \n",
       "2     Excellent road car, quiet, stable, comfortable...  2020.0      3.5   \n",
       "3     PURCHASED FROM NYE TOYOTA, MY FIRST TACOMA. LO...  2021.0      2.5   \n",
       "4     I’ve own a 2020 Altima (under 30k miles) for a...  2020.0      2.4   \n",
       "...                                                 ...     ...      ...   \n",
       "8469  Only had the X5 for 4 weeks now but so far it ...  2022.0      3.6   \n",
       "8470  When I bought my 2020 Tacoma V6 (3.5L) 4x4 in ...  2019.0      3.6   \n",
       "8471  Everything is great except the rear view camer...  2015.0      2.5   \n",
       "8472  I have owned smaller SUV\\s and Trucks for over...  2020.0      5.7   \n",
       "8473  Transmission and brake problems. Transmission ...  2021.0      3.5   \n",
       "\n",
       "      newCyl     newMake   mpg  \n",
       "0          4      Toyota  27.0  \n",
       "1          6  Volkswagen  18.0  \n",
       "2          6       Other  18.0  \n",
       "3          4      Toyota  28.0  \n",
       "4          4      Nissan  24.0  \n",
       "...      ...         ...   ...  \n",
       "8469       6         BMW  18.0  \n",
       "8470       6      Toyota  18.0  \n",
       "8471       4    INFINITI  23.0  \n",
       "8472       8      Toyota  15.0  \n",
       "8473       6       Other  20.0  \n",
       "\n",
       "[8474 rows x 10 columns]"
      ]
     },
     "execution_count": 15,
     "metadata": {},
     "output_type": "execute_result"
    }
   ],
   "source": [
    "final_data"
   ]
  },
  {
   "cell_type": "markdown",
   "metadata": {},
   "source": [
    "# Modeling"
   ]
  },
  {
   "cell_type": "markdown",
   "metadata": {},
   "source": [
    "There were two types of models being done. One model would be predicting the sale price range of a car using car details, and the other model would be using the car reviews. The car review models will use some NLP methods to create predictions.\n",
    "Things like stemming, lemmatizing, tokenization, vectorization were attempted. The code for this section should be able to run with no problems."
   ]
  },
  {
   "cell_type": "code",
   "execution_count": 17,
   "metadata": {},
   "outputs": [],
   "source": [
    "from collections import defaultdict\n",
    "import numpy as np\n",
    "import pandas as pd\n",
    "import nltk\n",
    "from nltk.corpus import stopwords, wordnet\n",
    "\n",
    "from sklearn.feature_extraction.text import TfidfVectorizer, CountVectorizer\n",
    "from sklearn.ensemble import RandomForestClassifier\n",
    "from sklearn.naive_bayes import MultinomialNB\n",
    "from sklearn.metrics import accuracy_score, precision_score, confusion_matrix\n",
    "from sklearn.metrics import plot_confusion_matrix\n",
    "import re\n",
    "from sklearn.tree import DecisionTreeClassifier\n",
    "import matplotlib.pyplot as plt\n",
    "from sklearn.neighbors import KNeighborsClassifier\n",
    "\n",
    "from sklearn.pipeline import Pipeline\n",
    "from sklearn.compose import ColumnTransformer\n",
    "from sklearn.impute import SimpleImputer\n",
    "from sklearn.preprocessing import MinMaxScaler, OneHotEncoder, StandardScaler\n",
    "from sklearn.linear_model import LogisticRegression, RidgeClassifier\n",
    "from sklearn.model_selection import train_test_split, cross_validate\n",
    "import xgboost as xgb"
   ]
  },
  {
   "cell_type": "markdown",
   "metadata": {},
   "source": [
    "### NLP Model For Reviews"
   ]
  },
  {
   "cell_type": "markdown",
   "metadata": {},
   "source": [
    "A lot of work was done in exploring NLP (Natural Language Processing). The full exploration process can be seen here [NLPExploration](NLP-Modeling/modelNLP.ipynb)\n",
    "\n",
    "**Stemming/Lemmantizing**\n",
    "Attempted to stem and lemmantize the reviews.\n",
    "\n",
    "**Vectorizing**\n",
    "Tried TFIDF Vectorizer and Count Vectorizer.\n",
    "\n",
    "**Sentiment Analysis**\n",
    "Used the TextBlob library to add a type of sentiment analysis. Tried positive/negative tag for each review. TextBlob also gives a polarity and subjectivity metrics, attempted to use that also. \n",
    "\n",
    "- Stemming and lemmatizing text did not help much\n",
    "- Reason is probably because there is not enough variety in the reviews to make a difference\n",
    "- Using a 'vanilla' tfidf vectorizer gave the best model"
   ]
  },
  {
   "cell_type": "code",
   "execution_count": 19,
   "metadata": {},
   "outputs": [],
   "source": [
    "data = pd.read_csv('data/CleanData3bins.csv')"
   ]
  },
  {
   "cell_type": "code",
   "execution_count": 20,
   "metadata": {
    "scrolled": false
   },
   "outputs": [],
   "source": [
    "data = data.drop(columns='Unnamed: 0')"
   ]
  },
  {
   "cell_type": "code",
   "execution_count": 21,
   "metadata": {},
   "outputs": [],
   "source": [
    "df = data[['CleanReviews', 'PriceCategory']]"
   ]
  },
  {
   "cell_type": "code",
   "execution_count": 22,
   "metadata": {
    "scrolled": true
   },
   "outputs": [
    {
     "data": {
      "text/html": [
       "<div>\n",
       "<style scoped>\n",
       "    .dataframe tbody tr th:only-of-type {\n",
       "        vertical-align: middle;\n",
       "    }\n",
       "\n",
       "    .dataframe tbody tr th {\n",
       "        vertical-align: top;\n",
       "    }\n",
       "\n",
       "    .dataframe thead th {\n",
       "        text-align: right;\n",
       "    }\n",
       "</style>\n",
       "<table border=\"1\" class=\"dataframe\">\n",
       "  <thead>\n",
       "    <tr style=\"text-align: right;\">\n",
       "      <th></th>\n",
       "      <th>CleanReviews</th>\n",
       "      <th>PriceCategory</th>\n",
       "    </tr>\n",
       "  </thead>\n",
       "  <tbody>\n",
       "    <tr>\n",
       "      <th>0</th>\n",
       "      <td>Virtually nothing has gone wrong with my 2020 ...</td>\n",
       "      <td>Average</td>\n",
       "    </tr>\n",
       "    <tr>\n",
       "      <th>1</th>\n",
       "      <td>Stranded today. Could not get to work. Somethi...</td>\n",
       "      <td>Expensive</td>\n",
       "    </tr>\n",
       "    <tr>\n",
       "      <th>2</th>\n",
       "      <td>Excellent road car, quiet, stable, comfortable...</td>\n",
       "      <td>Average</td>\n",
       "    </tr>\n",
       "    <tr>\n",
       "      <th>3</th>\n",
       "      <td>PURCHASED FROM NYE TOYOTA, MY FIRST TACOMA. LO...</td>\n",
       "      <td>Cheap</td>\n",
       "    </tr>\n",
       "    <tr>\n",
       "      <th>4</th>\n",
       "      <td>I’ve own a 2020 Altima (under 30k miles) for a...</td>\n",
       "      <td>Cheap</td>\n",
       "    </tr>\n",
       "  </tbody>\n",
       "</table>\n",
       "</div>"
      ],
      "text/plain": [
       "                                        CleanReviews PriceCategory\n",
       "0  Virtually nothing has gone wrong with my 2020 ...       Average\n",
       "1  Stranded today. Could not get to work. Somethi...     Expensive\n",
       "2  Excellent road car, quiet, stable, comfortable...       Average\n",
       "3  PURCHASED FROM NYE TOYOTA, MY FIRST TACOMA. LO...         Cheap\n",
       "4  I’ve own a 2020 Altima (under 30k miles) for a...         Cheap"
      ]
     },
     "execution_count": 22,
     "metadata": {},
     "output_type": "execute_result"
    }
   ],
   "source": [
    "df.head()"
   ]
  },
  {
   "cell_type": "markdown",
   "metadata": {},
   "source": [
    "### Pre-proccessing For NLP"
   ]
  },
  {
   "cell_type": "markdown",
   "metadata": {},
   "source": [
    "- Need to lowercase the reviews"
   ]
  },
  {
   "cell_type": "code",
   "execution_count": 23,
   "metadata": {
    "scrolled": true
   },
   "outputs": [
    {
     "name": "stderr",
     "output_type": "stream",
     "text": [
      "<ipython-input-23-f0607efd20df>:1: SettingWithCopyWarning: \n",
      "A value is trying to be set on a copy of a slice from a DataFrame.\n",
      "Try using .loc[row_indexer,col_indexer] = value instead\n",
      "\n",
      "See the caveats in the documentation: https://pandas.pydata.org/pandas-docs/stable/user_guide/indexing.html#returning-a-view-versus-a-copy\n",
      "  df['CleanReviews'] = df['CleanReviews'].str.lower()\n"
     ]
    }
   ],
   "source": [
    "df['CleanReviews'] = df['CleanReviews'].str.lower()"
   ]
  },
  {
   "cell_type": "code",
   "execution_count": 24,
   "metadata": {},
   "outputs": [
    {
     "data": {
      "text/html": [
       "<div>\n",
       "<style scoped>\n",
       "    .dataframe tbody tr th:only-of-type {\n",
       "        vertical-align: middle;\n",
       "    }\n",
       "\n",
       "    .dataframe tbody tr th {\n",
       "        vertical-align: top;\n",
       "    }\n",
       "\n",
       "    .dataframe thead th {\n",
       "        text-align: right;\n",
       "    }\n",
       "</style>\n",
       "<table border=\"1\" class=\"dataframe\">\n",
       "  <thead>\n",
       "    <tr style=\"text-align: right;\">\n",
       "      <th></th>\n",
       "      <th>CleanReviews</th>\n",
       "      <th>PriceCategory</th>\n",
       "    </tr>\n",
       "  </thead>\n",
       "  <tbody>\n",
       "    <tr>\n",
       "      <th>0</th>\n",
       "      <td>virtually nothing has gone wrong with my 2020 ...</td>\n",
       "      <td>Average</td>\n",
       "    </tr>\n",
       "    <tr>\n",
       "      <th>1</th>\n",
       "      <td>stranded today. could not get to work. somethi...</td>\n",
       "      <td>Expensive</td>\n",
       "    </tr>\n",
       "    <tr>\n",
       "      <th>2</th>\n",
       "      <td>excellent road car, quiet, stable, comfortable...</td>\n",
       "      <td>Average</td>\n",
       "    </tr>\n",
       "    <tr>\n",
       "      <th>3</th>\n",
       "      <td>purchased from nye toyota, my first tacoma. lo...</td>\n",
       "      <td>Cheap</td>\n",
       "    </tr>\n",
       "    <tr>\n",
       "      <th>4</th>\n",
       "      <td>i’ve own a 2020 altima (under 30k miles) for a...</td>\n",
       "      <td>Cheap</td>\n",
       "    </tr>\n",
       "  </tbody>\n",
       "</table>\n",
       "</div>"
      ],
      "text/plain": [
       "                                        CleanReviews PriceCategory\n",
       "0  virtually nothing has gone wrong with my 2020 ...       Average\n",
       "1  stranded today. could not get to work. somethi...     Expensive\n",
       "2  excellent road car, quiet, stable, comfortable...       Average\n",
       "3  purchased from nye toyota, my first tacoma. lo...         Cheap\n",
       "4  i’ve own a 2020 altima (under 30k miles) for a...         Cheap"
      ]
     },
     "execution_count": 24,
     "metadata": {},
     "output_type": "execute_result"
    }
   ],
   "source": [
    "df.head()"
   ]
  },
  {
   "cell_type": "markdown",
   "metadata": {},
   "source": [
    "## Train, Test,  Split"
   ]
  },
  {
   "cell_type": "markdown",
   "metadata": {},
   "source": [
    "- Creating a holdout set to use at the very end"
   ]
  },
  {
   "cell_type": "code",
   "execution_count": 25,
   "metadata": {},
   "outputs": [],
   "source": [
    "X = data['CleanReviews']\n",
    "y = data['PriceCategory']"
   ]
  },
  {
   "cell_type": "code",
   "execution_count": 26,
   "metadata": {},
   "outputs": [],
   "source": [
    "X_t, X_hold, y_t, y_hold = train_test_split(X, y, test_size=0.10, random_state=42)"
   ]
  },
  {
   "cell_type": "code",
   "execution_count": 27,
   "metadata": {},
   "outputs": [],
   "source": [
    "X_train, X_val, y_train, y_val = train_test_split(X_t, y_t, test_size=0.25, random_state=42)"
   ]
  },
  {
   "cell_type": "markdown",
   "metadata": {},
   "source": [
    "## Vectorize"
   ]
  },
  {
   "cell_type": "code",
   "execution_count": 28,
   "metadata": {},
   "outputs": [],
   "source": [
    "#stopwords\n",
    "sw = stopwords.words('english')"
   ]
  },
  {
   "cell_type": "code",
   "execution_count": 29,
   "metadata": {},
   "outputs": [],
   "source": [
    "vectorizer = TfidfVectorizer(\n",
    "    token_pattern=r\"([a-zA-Z]+(?:'[a-z]+)?)\",\n",
    "    stop_words=sw,\n",
    "#     max_df=.95,  # removes words that appear in more than 95% of docs !!not using either, produces better model without!!\n",
    "#     min_df=2     # removes words that appear 2 or fewer times\n",
    ")"
   ]
  },
  {
   "cell_type": "code",
   "execution_count": 30,
   "metadata": {},
   "outputs": [],
   "source": [
    "vectorizer.fit(X_train)\n",
    "\n",
    "X_train_vec = vectorizer.transform(X_train)\n",
    "X_val_vec = vectorizer.transform(X_val)"
   ]
  },
  {
   "cell_type": "code",
   "execution_count": 31,
   "metadata": {},
   "outputs": [
    {
     "data": {
      "text/plain": [
       "0.41321447299423175"
      ]
     },
     "execution_count": 31,
     "metadata": {},
     "output_type": "execute_result"
    }
   ],
   "source": [
    "classifier = MultinomialNB()\n",
    "classifier.fit(X_train_vec, y_train)\n",
    "classifier.score(X_val_vec, y_val)"
   ]
  },
  {
   "cell_type": "markdown",
   "metadata": {},
   "source": [
    "- not bad score\n",
    "- only fraction of total reviews are unique reviews\n",
    "- 41% accuracy seems good considering I am trying to model human language :)"
   ]
  },
  {
   "cell_type": "markdown",
   "metadata": {},
   "source": [
    "## Car Details Model"
   ]
  },
  {
   "cell_type": "markdown",
   "metadata": {},
   "source": [
    "- testing out different vanilla models\n",
    "- getting the best one and try to use it with nlp model\n"
   ]
  },
  {
   "cell_type": "markdown",
   "metadata": {},
   "source": [
    "The data has 3 target variables, so it is not a binary classification problem. A quick google search gave me the best models for multiclass problems using the sklearn library https://scikit-learn.org/stable/modules/multiclass.html \n",
    "\n",
    "From this list a total of 6 models were chosen. Will only show the models with the better test scores\n",
    " - KNN\n",
    " - Decision Tree\n",
    " - Logistic Regression\n",
    " - Random Forest\n",
    " - Ridge Classifier\n",
    " - XGBoost"
   ]
  },
  {
   "cell_type": "code",
   "execution_count": 32,
   "metadata": {
    "scrolled": false
   },
   "outputs": [
    {
     "data": {
      "text/html": [
       "<div>\n",
       "<style scoped>\n",
       "    .dataframe tbody tr th:only-of-type {\n",
       "        vertical-align: middle;\n",
       "    }\n",
       "\n",
       "    .dataframe tbody tr th {\n",
       "        vertical-align: top;\n",
       "    }\n",
       "\n",
       "    .dataframe thead th {\n",
       "        text-align: right;\n",
       "    }\n",
       "</style>\n",
       "<table border=\"1\" class=\"dataframe\">\n",
       "  <thead>\n",
       "    <tr style=\"text-align: right;\">\n",
       "      <th></th>\n",
       "      <th>DriveTrain</th>\n",
       "      <th>Mileage</th>\n",
       "      <th>SalePrice</th>\n",
       "      <th>PriceCategory</th>\n",
       "      <th>CleanReviews</th>\n",
       "      <th>Year</th>\n",
       "      <th>newSize</th>\n",
       "      <th>newCyl</th>\n",
       "      <th>newMake</th>\n",
       "      <th>mpg</th>\n",
       "    </tr>\n",
       "  </thead>\n",
       "  <tbody>\n",
       "    <tr>\n",
       "      <th>0</th>\n",
       "      <td>FWD</td>\n",
       "      <td>53200.0</td>\n",
       "      <td>29000.0</td>\n",
       "      <td>Average</td>\n",
       "      <td>Virtually nothing has gone wrong with my 2020 ...</td>\n",
       "      <td>2020.0</td>\n",
       "      <td>2.5</td>\n",
       "      <td>4</td>\n",
       "      <td>Toyota</td>\n",
       "      <td>27.0</td>\n",
       "    </tr>\n",
       "    <tr>\n",
       "      <th>1</th>\n",
       "      <td>RWD</td>\n",
       "      <td>22690.0</td>\n",
       "      <td>55975.0</td>\n",
       "      <td>Expensive</td>\n",
       "      <td>Stranded today. Could not get to work. Somethi...</td>\n",
       "      <td>2016.0</td>\n",
       "      <td>3.0</td>\n",
       "      <td>6</td>\n",
       "      <td>Volkswagen</td>\n",
       "      <td>18.0</td>\n",
       "    </tr>\n",
       "    <tr>\n",
       "      <th>2</th>\n",
       "      <td>FWD</td>\n",
       "      <td>17854.0</td>\n",
       "      <td>38900.0</td>\n",
       "      <td>Average</td>\n",
       "      <td>Excellent road car, quiet, stable, comfortable...</td>\n",
       "      <td>2020.0</td>\n",
       "      <td>3.5</td>\n",
       "      <td>6</td>\n",
       "      <td>Other</td>\n",
       "      <td>18.0</td>\n",
       "    </tr>\n",
       "    <tr>\n",
       "      <th>3</th>\n",
       "      <td>FWD</td>\n",
       "      <td>60907.0</td>\n",
       "      <td>22125.0</td>\n",
       "      <td>Cheap</td>\n",
       "      <td>PURCHASED FROM NYE TOYOTA, MY FIRST TACOMA. LO...</td>\n",
       "      <td>2021.0</td>\n",
       "      <td>2.5</td>\n",
       "      <td>4</td>\n",
       "      <td>Toyota</td>\n",
       "      <td>28.0</td>\n",
       "    </tr>\n",
       "    <tr>\n",
       "      <th>4</th>\n",
       "      <td>FWD</td>\n",
       "      <td>41614.0</td>\n",
       "      <td>23946.0</td>\n",
       "      <td>Cheap</td>\n",
       "      <td>I’ve own a 2020 Altima (under 30k miles) for a...</td>\n",
       "      <td>2020.0</td>\n",
       "      <td>2.4</td>\n",
       "      <td>4</td>\n",
       "      <td>Nissan</td>\n",
       "      <td>24.0</td>\n",
       "    </tr>\n",
       "  </tbody>\n",
       "</table>\n",
       "</div>"
      ],
      "text/plain": [
       "  DriveTrain  Mileage  SalePrice PriceCategory  \\\n",
       "0        FWD  53200.0    29000.0       Average   \n",
       "1        RWD  22690.0    55975.0     Expensive   \n",
       "2        FWD  17854.0    38900.0       Average   \n",
       "3        FWD  60907.0    22125.0         Cheap   \n",
       "4        FWD  41614.0    23946.0         Cheap   \n",
       "\n",
       "                                        CleanReviews    Year  newSize  newCyl  \\\n",
       "0  Virtually nothing has gone wrong with my 2020 ...  2020.0      2.5       4   \n",
       "1  Stranded today. Could not get to work. Somethi...  2016.0      3.0       6   \n",
       "2  Excellent road car, quiet, stable, comfortable...  2020.0      3.5       6   \n",
       "3  PURCHASED FROM NYE TOYOTA, MY FIRST TACOMA. LO...  2021.0      2.5       4   \n",
       "4  I’ve own a 2020 Altima (under 30k miles) for a...  2020.0      2.4       4   \n",
       "\n",
       "      newMake   mpg  \n",
       "0      Toyota  27.0  \n",
       "1  Volkswagen  18.0  \n",
       "2       Other  18.0  \n",
       "3      Toyota  28.0  \n",
       "4      Nissan  24.0  "
      ]
     },
     "execution_count": 32,
     "metadata": {},
     "output_type": "execute_result"
    }
   ],
   "source": [
    "data.head()"
   ]
  },
  {
   "cell_type": "code",
   "execution_count": 33,
   "metadata": {},
   "outputs": [
    {
     "data": {
      "text/plain": [
       "FWD    5281\n",
       "AWD    1801\n",
       "RWD    1392\n",
       "Name: DriveTrain, dtype: int64"
      ]
     },
     "execution_count": 33,
     "metadata": {},
     "output_type": "execute_result"
    }
   ],
   "source": [
    "data['DriveTrain'].value_counts()"
   ]
  },
  {
   "cell_type": "code",
   "execution_count": 34,
   "metadata": {},
   "outputs": [],
   "source": [
    "X = data.drop(columns=['CleanReviews', 'PriceCategory', 'SalePrice'])\n",
    "y = data['PriceCategory']"
   ]
  },
  {
   "cell_type": "markdown",
   "metadata": {},
   "source": [
    "**Creating a train test split and a holdout set to use at the end**"
   ]
  },
  {
   "cell_type": "code",
   "execution_count": 35,
   "metadata": {},
   "outputs": [],
   "source": [
    "X_t, X_hold, y_t, y_hold = train_test_split(X, y, test_size=0.10, random_state=42)"
   ]
  },
  {
   "cell_type": "code",
   "execution_count": 36,
   "metadata": {},
   "outputs": [],
   "source": [
    "X_train, X_val, y_train, y_val = train_test_split(X_t, y_t, test_size=0.25, random_state=42)"
   ]
  },
  {
   "cell_type": "markdown",
   "metadata": {},
   "source": [
    "**Creating a column transformer to use on models**"
   ]
  },
  {
   "cell_type": "code",
   "execution_count": 37,
   "metadata": {},
   "outputs": [],
   "source": [
    "num_cols = ['Mileage', 'Year', 'newSize', 'newCyl', 'mpg']\n",
    "cat_cols = ['DriveTrain', 'newMake']"
   ]
  },
  {
   "cell_type": "code",
   "execution_count": 38,
   "metadata": {},
   "outputs": [],
   "source": [
    "cat_transformer = OneHotEncoder(drop=['RWD', 'Other'])"
   ]
  },
  {
   "cell_type": "code",
   "execution_count": 39,
   "metadata": {},
   "outputs": [],
   "source": [
    "num_transformer = MinMaxScaler()"
   ]
  },
  {
   "cell_type": "code",
   "execution_count": 40,
   "metadata": {},
   "outputs": [],
   "source": [
    "preprocessor = ColumnTransformer(transformers=[\n",
    "    (\"num_trans\", num_transformer, num_cols),\n",
    "    ('cat_trans', cat_transformer, cat_cols)\n",
    "])"
   ]
  },
  {
   "cell_type": "code",
   "execution_count": 41,
   "metadata": {
    "scrolled": true
   },
   "outputs": [
    {
     "data": {
      "text/plain": [
       "<5719x32 sparse matrix of type '<class 'numpy.float64'>'\n",
       "\twith 38788 stored elements in Compressed Sparse Row format>"
      ]
     },
     "execution_count": 41,
     "metadata": {},
     "output_type": "execute_result"
    }
   ],
   "source": [
    "preprocessor.fit_transform(X_train)"
   ]
  },
  {
   "cell_type": "markdown",
   "metadata": {},
   "source": [
    "# Knn"
   ]
  },
  {
   "cell_type": "code",
   "execution_count": 42,
   "metadata": {},
   "outputs": [],
   "source": [
    "clf_knn = Pipeline(steps=[\n",
    "    ('preprocessor', preprocessor),\n",
    "    ('knn', KNeighborsClassifier(n_neighbors=5))\n",
    "])"
   ]
  },
  {
   "cell_type": "code",
   "execution_count": 43,
   "metadata": {},
   "outputs": [
    {
     "data": {
      "text/plain": [
       "Pipeline(steps=[('preprocessor',\n",
       "                 ColumnTransformer(transformers=[('num_trans', MinMaxScaler(),\n",
       "                                                  ['Mileage', 'Year', 'newSize',\n",
       "                                                   'newCyl', 'mpg']),\n",
       "                                                 ('cat_trans',\n",
       "                                                  OneHotEncoder(drop=['RWD',\n",
       "                                                                      'Other']),\n",
       "                                                  ['DriveTrain', 'newMake'])])),\n",
       "                ('knn', KNeighborsClassifier())])"
      ]
     },
     "execution_count": 43,
     "metadata": {},
     "output_type": "execute_result"
    }
   ],
   "source": [
    "clf_knn.fit(X_train, y_train)"
   ]
  },
  {
   "cell_type": "code",
   "execution_count": 44,
   "metadata": {},
   "outputs": [
    {
     "name": "stdout",
     "output_type": "stream",
     "text": [
      "Train Accuracy: 0.7600979192166463\n",
      "Test Accuracy: 0.6324069218668065\n"
     ]
    }
   ],
   "source": [
    "print(f\"Train Accuracy: {clf_knn.score(X_train, y_train)}\")\n",
    "print(f\"Test Accuracy: {clf_knn.score(X_val, y_val)}\")"
   ]
  },
  {
   "cell_type": "code",
   "execution_count": 45,
   "metadata": {},
   "outputs": [
    {
     "data": {
      "image/png": "[encoded data removed]",
      "text/plain": [
       "<Figure size 432x288 with 2 Axes>"
      ]
     },
     "metadata": {
      "needs_background": "light"
     },
     "output_type": "display_data"
    }
   ],
   "source": [
    "plot_confusion_matrix(clf_knn, X_val, y_val);"
   ]
  },
  {
   "cell_type": "markdown",
   "metadata": {},
   "source": [
    "# Decision Tree"
   ]
  },
  {
   "cell_type": "code",
   "execution_count": 46,
   "metadata": {},
   "outputs": [],
   "source": [
    "clf_dt = Pipeline(steps=[\n",
    "    ('preprocessor', preprocessor),\n",
    "    ('dt', DecisionTreeClassifier(random_state=42))\n",
    "])"
   ]
  },
  {
   "cell_type": "code",
   "execution_count": 47,
   "metadata": {},
   "outputs": [
    {
     "data": {
      "text/plain": [
       "Pipeline(steps=[('preprocessor',\n",
       "                 ColumnTransformer(transformers=[('num_trans', MinMaxScaler(),\n",
       "                                                  ['Mileage', 'Year', 'newSize',\n",
       "                                                   'newCyl', 'mpg']),\n",
       "                                                 ('cat_trans',\n",
       "                                                  OneHotEncoder(drop=['RWD',\n",
       "                                                                      'Other']),\n",
       "                                                  ['DriveTrain', 'newMake'])])),\n",
       "                ('dt', DecisionTreeClassifier(random_state=42))])"
      ]
     },
     "execution_count": 47,
     "metadata": {},
     "output_type": "execute_result"
    }
   ],
   "source": [
    "clf_dt.fit(X_train, y_train)"
   ]
  },
  {
   "cell_type": "code",
   "execution_count": 48,
   "metadata": {},
   "outputs": [
    {
     "name": "stdout",
     "output_type": "stream",
     "text": [
      "Train Accuracy: 1.0\n",
      "Test Accuracy: 0.6769795490298899\n"
     ]
    }
   ],
   "source": [
    "print(f\"Train Accuracy: {clf_dt.score(X_train, y_train)}\")\n",
    "print(f\"Test Accuracy: {clf_dt.score(X_val, y_val)}\")"
   ]
  },
  {
   "cell_type": "code",
   "execution_count": 49,
   "metadata": {
    "scrolled": true
   },
   "outputs": [
    {
     "data": {
      "image/png": "[encoded data removed]",
      "text/plain": [
       "<Figure size 432x288 with 2 Axes>"
      ]
     },
     "metadata": {
      "needs_background": "light"
     },
     "output_type": "display_data"
    }
   ],
   "source": [
    "plot_confusion_matrix(clf_dt, X_val, y_val);"
   ]
  },
  {
   "cell_type": "markdown",
   "metadata": {},
   "source": [
    "# Random Forest"
   ]
  },
  {
   "cell_type": "code",
   "execution_count": 50,
   "metadata": {},
   "outputs": [],
   "source": [
    "clf_rf = Pipeline(steps=[\n",
    "    ('preprocessor', preprocessor),\n",
    "    ('rf', RandomForestClassifier(max_depth=10, random_state=42))\n",
    "])"
   ]
  },
  {
   "cell_type": "code",
   "execution_count": 51,
   "metadata": {},
   "outputs": [
    {
     "data": {
      "text/plain": [
       "Pipeline(steps=[('preprocessor',\n",
       "                 ColumnTransformer(transformers=[('num_trans', MinMaxScaler(),\n",
       "                                                  ['Mileage', 'Year', 'newSize',\n",
       "                                                   'newCyl', 'mpg']),\n",
       "                                                 ('cat_trans',\n",
       "                                                  OneHotEncoder(drop=['RWD',\n",
       "                                                                      'Other']),\n",
       "                                                  ['DriveTrain', 'newMake'])])),\n",
       "                ('rf', RandomForestClassifier(max_depth=10, random_state=42))])"
      ]
     },
     "execution_count": 51,
     "metadata": {},
     "output_type": "execute_result"
    }
   ],
   "source": [
    "clf_rf.fit(X_train, y_train)"
   ]
  },
  {
   "cell_type": "code",
   "execution_count": 52,
   "metadata": {},
   "outputs": [
    {
     "name": "stdout",
     "output_type": "stream",
     "text": [
      "Train Accuracy: 0.802063297779332\n",
      "Test Accuracy: 0.724698479286838\n"
     ]
    }
   ],
   "source": [
    "print(f\"Train Accuracy: {clf_rf.score(X_train, y_train)}\")\n",
    "print(f\"Test Accuracy: {clf_rf.score(X_val, y_val)}\")"
   ]
  },
  {
   "cell_type": "code",
   "execution_count": 53,
   "metadata": {
    "scrolled": true
   },
   "outputs": [
    {
     "data": {
      "image/png": "[encoded data removed]",
      "text/plain": [
       "<Figure size 432x288 with 2 Axes>"
      ]
     },
     "metadata": {
      "needs_background": "light"
     },
     "output_type": "display_data"
    }
   ],
   "source": [
    "plot_confusion_matrix(clf_rf, X_val, y_val);"
   ]
  },
  {
   "cell_type": "markdown",
   "metadata": {},
   "source": [
    "# XGBoost\n",
    "- Best model so far"
   ]
  },
  {
   "cell_type": "code",
   "execution_count": 54,
   "metadata": {},
   "outputs": [],
   "source": [
    "clf_xgb = Pipeline(steps=[\n",
    "    ('preprocessor', preprocessor),\n",
    "    ('xgb', xgb.XGBClassifier(random_state=42, \n",
    "                              learning_rate=.1, \n",
    "                              max_depth=6,\n",
    "                             n_estimators=50))\n",
    "])"
   ]
  },
  {
   "cell_type": "code",
   "execution_count": 55,
   "metadata": {},
   "outputs": [
    {
     "data": {
      "text/plain": [
       "Pipeline(steps=[('preprocessor',\n",
       "                 ColumnTransformer(transformers=[('num_trans', MinMaxScaler(),\n",
       "                                                  ['Mileage', 'Year', 'newSize',\n",
       "                                                   'newCyl', 'mpg']),\n",
       "                                                 ('cat_trans',\n",
       "                                                  OneHotEncoder(drop=['RWD',\n",
       "                                                                      'Other']),\n",
       "                                                  ['DriveTrain', 'newMake'])])),\n",
       "                ('xgb',\n",
       "                 XGBClassifier(base_score=0.5, booster='gbtree',\n",
       "                               colsample_bylevel=1, colsample_bynode=1,\n",
       "                               colsample_bytree=1, gamma=0, gpu_id=-1,\n",
       "                               import...type='gain',\n",
       "                               interaction_constraints='', learning_rate=0.1,\n",
       "                               max_delta_step=0, max_depth=6,\n",
       "                               min_child_weight=1, missing=nan,\n",
       "                               monotone_constraints='()', n_estimators=50,\n",
       "                               n_jobs=0, num_parallel_tree=1,\n",
       "                               objective='multi:softprob', random_state=42,\n",
       "                               reg_alpha=0, reg_lambda=1, scale_pos_weight=None,\n",
       "                               subsample=1, tree_method='exact',\n",
       "                               validate_parameters=1, verbosity=None))])"
      ]
     },
     "execution_count": 55,
     "metadata": {},
     "output_type": "execute_result"
    }
   ],
   "source": [
    "clf_xgb.fit(X_train, y_train)"
   ]
  },
  {
   "cell_type": "code",
   "execution_count": 56,
   "metadata": {},
   "outputs": [
    {
     "name": "stdout",
     "output_type": "stream",
     "text": [
      "Train Accuracy: 0.806609547123623\n",
      "Test Accuracy: 0.7556371263765076\n"
     ]
    }
   ],
   "source": [
    "print(f\"Train Accuracy: {clf_xgb.score(X_train, y_train)}\")\n",
    "print(f\"Test Accuracy: {clf_xgb.score(X_val, y_val)}\")"
   ]
  },
  {
   "cell_type": "code",
   "execution_count": 57,
   "metadata": {
    "scrolled": false
   },
   "outputs": [
    {
     "data": {
      "image/png": "[encoded data removed]",
      "text/plain": [
       "<Figure size 432x288 with 2 Axes>"
      ]
     },
     "metadata": {
      "needs_background": "light"
     },
     "output_type": "display_data"
    }
   ],
   "source": [
    "plot_confusion_matrix(clf_xgb, X_val, y_val);"
   ]
  },
  {
   "cell_type": "code",
   "execution_count": 58,
   "metadata": {},
   "outputs": [
    {
     "data": {
      "text/plain": [
       "Average      798\n",
       "Cheap        650\n",
       "Expensive    459\n",
       "Name: PriceCategory, dtype: int64"
      ]
     },
     "execution_count": 58,
     "metadata": {},
     "output_type": "execute_result"
    }
   ],
   "source": [
    "y_val.value_counts()"
   ]
  },
  {
   "cell_type": "markdown",
   "metadata": {},
   "source": [
    "**Has a hard time with average prices, thinking they are cheap or expensive**"
   ]
  },
  {
   "cell_type": "markdown",
   "metadata": {},
   "source": [
    "# Results"
   ]
  },
  {
   "cell_type": "markdown",
   "metadata": {},
   "source": [
    "The best prediction scores cam from an XGBoost model. The model had accuracy score of 75%. The NaiveBayes model will not be used to predict prices based on car reviews."
   ]
  },
  {
   "cell_type": "code",
   "execution_count": 59,
   "metadata": {},
   "outputs": [
    {
     "name": "stdout",
     "output_type": "stream",
     "text": [
      "Test Accuracy: 0.7556371263765076\n"
     ]
    }
   ],
   "source": [
    "print(f\"Test Accuracy: {clf_xgb.score(X_val, y_val)}\")"
   ]
  },
  {
   "cell_type": "markdown",
   "metadata": {},
   "source": [
    "# Conclusions\n"
   ]
  },
  {
   "cell_type": "markdown",
   "metadata": {},
   "source": [
    "- Model is able to give a good starting price point for clients \n",
    "    - Clients can be confident the model's prediction can give them a good price range for a used car\n",
    "\n",
    "- Difficult to incorporate reviews as a metric into predicting car price\n",
    "    - There were not enough unique reviews to make a good predictions\n",
    "    - Even when trying different NLP approaches, model did not get any better.\n",
    "    - It did good for the data it had, but not worth putting into a model\n"
   ]
  },
  {
   "cell_type": "markdown",
   "metadata": {},
   "source": [
    "# Future Analysis"
   ]
  },
  {
   "cell_type": "markdown",
   "metadata": {},
   "source": [
    "- Collect more unique reviews\n",
    "    - Having more unique reviews will be more useful for the model\n",
    "- Find a way to better incorporate both models\n",
    "    - By incorporating two models, one for reviews and one for car details, could produce a more accurate prediction\n",
    "- Create a better web-scraper/ Collecting more data\n",
    "    - Having more data is good, in this case more data means different cars from different states/larger radius.\n"
   ]
  },
  {
   "cell_type": "code",
   "execution_count": null,
   "metadata": {},
   "outputs": [],
   "source": []
  }
 ],
 "metadata": {
  "kernelspec": {
   "display_name": "Python (learn-env)",
   "language": "python",
   "name": "learn-env"
  },
  "language_info": {
   "codemirror_mode": {
    "name": "ipython",
    "version": 3
   },
   "file_extension": ".py",
   "mimetype": "text/x-python",
   "name": "python",
   "nbconvert_exporter": "python",
   "pygments_lexer": "ipython3",
   "version": "3.8.5"
  }
 },
 "nbformat": 4,
 "nbformat_minor": 4
}
