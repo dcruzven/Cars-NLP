{
 "cells": [
  {
   "cell_type": "markdown",
   "metadata": {},
   "source": [
    "# Cars.com Web Scraping"
   ]
  },
  {
   "cell_type": "markdown",
   "metadata": {},
   "source": [
    "- Get basic info on used cars\n",
    "- Get review for the car also\n",
    "- Grab a good amount of entries \n",
    "- Using a 200 mile radius from Birmingham AL"
   ]
  },
  {
   "cell_type": "code",
   "execution_count": 81,
   "metadata": {},
   "outputs": [],
   "source": [
    "# imports\n",
    "import pandas as pd\n",
    "import requests\n",
    "from bs4 import BeautifulSoup\n",
    "import time\n",
    "import random\n",
    "import numpy as np\n",
    "from tqdm.notebook import tqdm"
   ]
  },
  {
   "cell_type": "markdown",
   "metadata": {},
   "source": [
    "# Testing out for one search page and one car"
   ]
  },
  {
   "cell_type": "markdown",
   "metadata": {},
   "source": [
    "- making sure I can extract the data I want \n",
    "- can then turn it into a for loop"
   ]
  },
  {
   "cell_type": "markdown",
   "metadata": {},
   "source": [
    "## Getting car links"
   ]
  },
  {
   "cell_type": "code",
   "execution_count": 79,
   "metadata": {},
   "outputs": [],
   "source": [
    "resp = requests.get('https://www.cars.com/shopping/results/?page=3&page_size=100&list_price_max=&makes[]=&maximum_distance=100&models[]=&stock_type=used&zip=35215')"
   ]
  },
  {
   "cell_type": "code",
   "execution_count": 80,
   "metadata": {},
   "outputs": [],
   "source": [
    "soup_link = BeautifulSoup(resp.text)"
   ]
  },
  {
   "cell_type": "code",
   "execution_count": 81,
   "metadata": {},
   "outputs": [],
   "source": [
    "links = soup_link.find_all('a', attrs={\"class\":\"vehicle-card-link js-gallery-click-link\"})"
   ]
  },
  {
   "cell_type": "code",
   "execution_count": 82,
   "metadata": {
    "scrolled": false
   },
   "outputs": [],
   "source": [
    "link_end = [l['href'] for l in links]"
   ]
  },
  {
   "cell_type": "code",
   "execution_count": 83,
   "metadata": {
    "scrolled": true
   },
   "outputs": [
    {
     "data": {
      "text/plain": [
       "['/vehicledetail/be300726-5c8a-4d49-a38a-292723befd87/',\n",
       " '/vehicledetail/1beb1024-e0aa-43c7-8464-75041138ff42/',\n",
       " '/vehicledetail/e9f0bd98-f1e8-4374-b2c1-ae7583fab081/',\n",
       " '/vehicledetail/76da2e06-9ea3-4191-8b8b-e74aefe71b46/',\n",
       " '/vehicledetail/6ea18404-557c-44f1-961c-8e7451758693/',\n",
       " '/vehicledetail/10fff0a0-d165-4c57-9564-0fcdc0d7580d/',\n",
       " '/vehicledetail/c977867d-de39-4999-bac2-75044e192910/',\n",
       " '/vehicledetail/8b5acdff-37e2-4289-b033-f3348320831d/',\n",
       " '/vehicledetail/843e23e3-a39f-4ef7-8eee-2664905f8a62/',\n",
       " '/vehicledetail/807cfae5-cdfb-4389-bec5-69f64f33f508/',\n",
       " '/vehicledetail/9a9dc700-5ec5-4592-944f-31ae51c2db69/',\n",
       " '/vehicledetail/95954359-e660-4850-b2e5-2dacb11fe2f8/',\n",
       " '/vehicledetail/0b9bb2bd-101b-4670-bb54-7d3636e03191/',\n",
       " '/vehicledetail/4e7d82b0-fcc1-47a0-a50a-24eae6045a51/',\n",
       " '/vehicledetail/1bc63180-3dbf-4208-ae4c-7c2d7e3f0fc7/',\n",
       " '/vehicledetail/e09b9c55-6906-4bbb-9d68-6d1592b65c69/',\n",
       " '/vehicledetail/3ece32d5-1555-4520-a7ef-9a2a773a3298/',\n",
       " '/vehicledetail/42a90eb6-a74a-417b-a85c-bedd5ffd3179/',\n",
       " '/vehicledetail/5878c047-b7f6-4ee7-b632-9683d77ee649/',\n",
       " '/vehicledetail/307db704-c746-4506-a4d1-11e52557a869/',\n",
       " '/vehicledetail/82cb85eb-a885-4cfd-a69a-73f96864d480/',\n",
       " '/vehicledetail/f5d9b78b-10ee-4ab0-999e-a84837904389/',\n",
       " '/vehicledetail/c3867c95-b6ad-4ab5-ac8c-fc9c0bcec31e/',\n",
       " '/vehicledetail/89f28b68-555e-4092-9f4c-d67eb725cee9/',\n",
       " '/vehicledetail/fdbc8d9f-799e-4d1d-b363-6c40aec685a3/',\n",
       " '/vehicledetail/4093f07b-c6fc-4b53-acc8-0a9894108f07/',\n",
       " '/vehicledetail/edb71bf5-9d6b-4218-ac70-9e7b8258889c/',\n",
       " '/vehicledetail/f2a85336-db14-4236-9f87-06eb5d8cc10c/',\n",
       " '/vehicledetail/6094d6fc-cc72-4bc3-9eb2-2116d8c315a4/',\n",
       " '/vehicledetail/e9f7ca24-1fb1-4078-b819-0f430fde4296/',\n",
       " '/vehicledetail/aef160c2-1452-41d9-ac53-873284e28cbf/',\n",
       " '/vehicledetail/989ce44c-97f5-490d-9845-2ca7849dea64/',\n",
       " '/vehicledetail/6ece47e6-4e2a-45df-b49c-5f6ede8b70f3/',\n",
       " '/vehicledetail/7b0f2727-c5f4-44ab-9394-e87141cdfbce/',\n",
       " '/vehicledetail/2b148de1-5d22-4862-b50a-84ac0af0c537/',\n",
       " '/vehicledetail/02624f85-f1b1-4e04-a7f9-816b611c1c58/',\n",
       " '/vehicledetail/d6f87f6e-7aec-498d-a2c8-27fcc8b22630/',\n",
       " '/vehicledetail/ef521002-9d57-461b-888a-2900c13703eb/',\n",
       " '/vehicledetail/1c136c53-3169-4c35-9f28-7dc9101af84b/',\n",
       " '/vehicledetail/5ca1931f-39d0-497e-8a71-546a377a0a5a/',\n",
       " '/vehicledetail/b19920cf-64d5-4022-9ceb-d206277cd1b6/',\n",
       " '/vehicledetail/9a7d1dd5-06d5-4658-adfd-28cae3ab5297/',\n",
       " '/vehicledetail/2257f076-3e1f-4e62-bd48-8e9659e4cbdf/',\n",
       " '/vehicledetail/f0c03dc3-7d10-4e7d-b219-5b146d31dd0b/',\n",
       " '/vehicledetail/870df32e-4246-4e50-a715-92cc92538f4e/',\n",
       " '/vehicledetail/dcba517e-1223-471f-815a-47f746024471/',\n",
       " '/vehicledetail/51cf9743-e2c6-4d9c-9cb0-ba8576ae9fb2/',\n",
       " '/vehicledetail/588149b5-435b-4794-8645-3876067e9ad0/',\n",
       " '/vehicledetail/6f40b839-4088-418e-8138-c209577326f1/',\n",
       " '/vehicledetail/b46d3ed8-1a04-45d5-9751-d8aab61ca465/',\n",
       " '/vehicledetail/8d24e41b-20b2-435d-a76d-1ab40baa016b/',\n",
       " '/vehicledetail/fc0af861-f823-4ca7-8489-5e46181ef1fd/',\n",
       " '/vehicledetail/5562a813-71e2-4514-bae0-bfb0904f154d/',\n",
       " '/vehicledetail/4079740b-e0a8-48c4-a17b-e1f42c2459ea/',\n",
       " '/vehicledetail/255a9e8a-f6c8-4617-92f6-d4486e8d1c2f/',\n",
       " '/vehicledetail/9a8a5ffc-f113-4434-8e0f-e4f4ddcd23cf/',\n",
       " '/vehicledetail/a16c84e7-7e7d-478f-a430-6822b4e05aff/',\n",
       " '/vehicledetail/5bb6fbb4-da35-463b-8ba4-906f9a2cd299/',\n",
       " '/vehicledetail/fa87fd99-caa6-45e3-9753-d7c630b2f393/',\n",
       " '/vehicledetail/4b4959b3-0db9-4a4a-b495-29b4ce48127b/',\n",
       " '/vehicledetail/85faaa52-e932-4d2e-a8a9-ca939c6e1462/',\n",
       " '/vehicledetail/30043feb-d783-4a58-b210-512fee223cf2/',\n",
       " '/vehicledetail/e2ea05d2-680c-47f3-a11a-83332f2dceac/',\n",
       " '/vehicledetail/be67e641-2dbe-4134-a880-2f1095908b7a/',\n",
       " '/vehicledetail/5b72378d-3a33-4e93-990a-7f8c65a4ac1e/',\n",
       " '/vehicledetail/f8b4298f-6dfa-4f76-99b4-08f8f1d4f1b8/',\n",
       " '/vehicledetail/7a50bafe-9c63-4fe8-8f41-ae12ddab83a3/',\n",
       " '/vehicledetail/a8eeea8f-80e5-4702-b372-33a87f5cfdf3/',\n",
       " '/vehicledetail/80338ef1-4e1d-4442-a3ff-e15ba06aaecf/',\n",
       " '/vehicledetail/c77b1d97-85d6-4a48-b2f9-7308c7555d69/',\n",
       " '/vehicledetail/6cb56dd8-50cb-4cad-a333-56a9300a8b32/',\n",
       " '/vehicledetail/9dbf0027-2edf-4339-abe6-98866057d40d/',\n",
       " '/vehicledetail/26bf8bc4-d37d-4795-be33-7c23ad78c913/',\n",
       " '/vehicledetail/49eae699-9076-4d13-9e95-0511216f2a8e/',\n",
       " '/vehicledetail/e4e95158-bbe4-4d0d-838e-8d55ed679eb1/',\n",
       " '/vehicledetail/6504a79e-e241-4aa6-884d-3919b27875a2/',\n",
       " '/vehicledetail/838ea846-3dc8-48a3-b3e3-d4d0b617cf4e/',\n",
       " '/vehicledetail/2fbc0028-dd20-486a-9079-07204e74ea19/',\n",
       " '/vehicledetail/f835fe65-e773-4ecb-a5d8-3e7cda195483/',\n",
       " '/vehicledetail/327249b4-7f61-4d73-ae40-a364a68374fe/',\n",
       " '/vehicledetail/de9e1420-a828-446c-b49a-669ab8a4538f/',\n",
       " '/vehicledetail/836c4dba-b18c-4451-b5dd-9b5577e8b870/',\n",
       " '/vehicledetail/5360624f-3bff-4643-af81-67295f8bb350/',\n",
       " '/vehicledetail/448bfe66-02d9-4454-bd6e-3b0bbc2e036a/',\n",
       " '/vehicledetail/e46e3df9-b16e-4481-a63a-c837c0887bea/',\n",
       " '/vehicledetail/cd01af25-d7a5-493e-8e93-78bd4a011c16/',\n",
       " '/vehicledetail/142b1e7a-aff5-49f1-8db3-f84b0576b95a/',\n",
       " '/vehicledetail/2ccb2774-96fb-47e5-8672-977f5a48fd46/',\n",
       " '/vehicledetail/5ddf224d-1e73-49cd-a60f-105297cb9dd4/',\n",
       " '/vehicledetail/bb590ee3-a4d5-468e-bff8-487fc04c0dd3/',\n",
       " '/vehicledetail/45cd2802-5b7c-4a59-9053-8584d5587d45/',\n",
       " '/vehicledetail/34833215-4d50-4f6d-8f05-078a4cae7c0a/',\n",
       " '/vehicledetail/189fc5e8-9a63-4b3c-8bbd-859576afd531/',\n",
       " '/vehicledetail/18aa05f3-41fb-4f5f-8538-5be1f83b4c9e/',\n",
       " '/vehicledetail/fdd91878-e0f0-4960-b525-a4eda26081ce/',\n",
       " '/vehicledetail/e2c9fbad-704d-4679-8b69-183fed88b329/',\n",
       " '/vehicledetail/f8e1000d-97b6-4311-b983-ac2f01d02524/',\n",
       " '/vehicledetail/d42f4577-09d9-4e88-9d6b-d5fbe0581bcb/',\n",
       " '/vehicledetail/52a4ec4b-c33c-4080-9cfb-7016749920bc/',\n",
       " '/vehicledetail/e6b383a9-4d00-46b4-8624-585c03e993c3/']"
      ]
     },
     "execution_count": 83,
     "metadata": {},
     "output_type": "execute_result"
    }
   ],
   "source": [
    "link_end"
   ]
  },
  {
   "cell_type": "markdown",
   "metadata": {},
   "source": [
    "**Using Beautiful Soup**\n",
    "- attempting to  get info on one car"
   ]
  },
  {
   "cell_type": "code",
   "execution_count": 84,
   "metadata": {},
   "outputs": [],
   "source": [
    "response = requests.get('https://www.cars.com/vehicledetail/bb590ee3-a4d5-468e-bff8-487fc04c0dd3/')"
   ]
  },
  {
   "cell_type": "code",
   "execution_count": 85,
   "metadata": {},
   "outputs": [],
   "source": [
    "soup = BeautifulSoup(response.text)"
   ]
  },
  {
   "cell_type": "code",
   "execution_count": 86,
   "metadata": {},
   "outputs": [],
   "source": [
    "reviews = soup.find_all(\"p\", attrs={\"class\":\"review-body\"})"
   ]
  },
  {
   "cell_type": "code",
   "execution_count": 87,
   "metadata": {
    "scrolled": false
   },
   "outputs": [
    {
     "data": {
      "text/plain": [
       "[<p class=\"review-body\">By far, this has been the best vehicle for our large, tall family. Not only is it comfortable, it performs great. In fact, we used it to pull our 23' camper trailer into the mountains.</p>,\n",
       " <p class=\"review-body\">My husband bought this vehicle for himself in 2004. Its 2018 and still going strong. The first time I drove it, it was mine, i fell in love. I took it from him and get him the Nissan Titan  I am 5'1\" and it suites me great as the seats are adjustable both forward and and up. If you have a large family it's the way to go. We took multiple road trips, it fits 8 people comfortably. My kids are now grown and have their own vehicles so I'm thinking to dowsize, but every time I think about selling it I have withdrawal anxiety.  I'm planning on buying a new vehicle but I know it will be hard to leave my baby.  The braking issues that were mentioned are correct. I had to replace mine as well. Also the dashboard will crack. But for the comfort it gave me and my family for so many years I would make the same purchase. It also allows you to earn respect on the road. No one try to run this baby over, except for the trailers  of course lol. Oh almost forget the heated leather seats, the automatic tail gate and the lists go on. I love this truck.</p>,\n",
       " <p class=\"review-body\">Great family traveling car. Will accomplish any task except extreme off road only due to ride height. Biggest gripe of most is maintenance. If you know how to work on cars then this is perfect. Engine and drivetrain are bullet proof. Everything else to me doesn?t matter. Just weekend projects. Every issue I had was addressed in a forum somewhere and was easy to fix</p>]"
      ]
     },
     "execution_count": 87,
     "metadata": {},
     "output_type": "execute_result"
    }
   ],
   "source": [
    "reviews"
   ]
  },
  {
   "cell_type": "code",
   "execution_count": 88,
   "metadata": {},
   "outputs": [
    {
     "data": {
      "text/plain": [
       "[\"By far, this has been the best vehicle for our large, tall family. Not only is it comfortable, it performs great. In fact, we used it to pull our 23' camper trailer into the mountains.\",\n",
       " 'My husband bought this vehicle for himself in 2004. Its 2018 and still going strong. The first time I drove it, it was mine, i fell in love. I took it from him and get him the Nissan Titan  I am 5\\'1\" and it suites me great as the seats are adjustable both forward and and up. If you have a large family it\\'s the way to go. We took multiple road trips, it fits 8 people comfortably. My kids are now grown and have their own vehicles so I\\'m thinking to dowsize, but every time I think about selling it I have withdrawal anxiety.  I\\'m planning on buying a new vehicle but I know it will be hard to leave my baby.  The braking issues that were mentioned are correct. I had to replace mine as well. Also the dashboard will crack. But for the comfort it gave me and my family for so many years I would make the same purchase. It also allows you to earn respect on the road. No one try to run this baby over, except for the trailers  of course lol. Oh almost forget the heated leather seats, the automatic tail gate and the lists go on. I love this truck.',\n",
       " 'Great family traveling car. Will accomplish any task except extreme off road only due to ride height. Biggest gripe of most is maintenance. If you know how to work on cars then this is perfect. Engine and drivetrain are bullet proof. Everything else to me doesn?t matter. Just weekend projects. Every issue I had was addressed in a forum somewhere and was easy to fix']"
      ]
     },
     "execution_count": 88,
     "metadata": {},
     "output_type": "execute_result"
    }
   ],
   "source": [
    "[det.get_text() for det in reviews]"
   ]
  },
  {
   "cell_type": "code",
   "execution_count": 89,
   "metadata": {},
   "outputs": [],
   "source": [
    "details = soup.find_all(\"dl\", attrs={\"class\":\"fancy-description-list\"})"
   ]
  },
  {
   "cell_type": "code",
   "execution_count": 90,
   "metadata": {
    "scrolled": true
   },
   "outputs": [
    {
     "data": {
      "text/plain": [
       "[<dl class=\"fancy-description-list\">\n",
       " <dt>Exterior color</dt>\n",
       " <dd> Smoke Metallic </dd>\n",
       " <dt>Interior color</dt>\n",
       " <dd> Steel / Titanium </dd>\n",
       " <dt>Drivetrain</dt>\n",
       " <dd> Four-wheel Drive </dd>\n",
       " <dt>MPG</dt>\n",
       " <dd> <span class=\"js-tooltip-container\">\n",
       " <span class=\"sds-tooltip\">\n",
       " <span>13–18</span>\n",
       " <a class=\"sds-tooltip__trigger\" data-target=\"tooltip-mpg\" tabindex=\"0\">\n",
       " <svg class=\"sds-text-field__icon\" height=\"16\" width=\"16\"><use xlink:href=\"/svg/spritemap-9957805ae2a418ae7507c2b0e074f33e.svg?vsn=d#info\"></use></svg>\n",
       " <div aria-hidden=\"true\" class=\"sds-tooltip__window sds-tooltip-content js-tooltip-content\" id=\"tooltip-mpg\" role=\"tooltip\">\n",
       " <p>Based on EPA mileage ratings. Use for comparison purposes only. Actual mileage will vary depending on driving conditions, driving habits, vehicle maintenance, and other factors.</p>\n",
       " <button class=\"sds-icon sds-icon--contain js-close\" data-target=\"tooltip-mpg\">\n",
       " <svg height=\"16\" width=\"16\"><use xlink:href=\"/svg/spritemap-9957805ae2a418ae7507c2b0e074f33e.svg?vsn=d#close\"></use></svg>\n",
       " </button>\n",
       " </div>\n",
       " </a>\n",
       " </span>\n",
       " </span>\n",
       " </dd>\n",
       " <dt>Fuel type</dt>\n",
       " <dd>Gasoline </dd>\n",
       " <dt>Transmission</dt>\n",
       " <dd>5-Speed Automatic</dd>\n",
       " <dt>Engine</dt>\n",
       " <dd>5.6L V8 32V MPFI DOHC</dd>\n",
       " <dt>VIN</dt>\n",
       " <dd> 5N1AA08B34N729508 </dd>\n",
       " <dt>Stock #</dt>\n",
       " <dd> N25171C </dd>\n",
       " <dt>Mileage</dt>\n",
       " <dd> 95,466 mi. </dd>\n",
       " </dl>,\n",
       " <dl class=\"fancy-description-list\">\n",
       " <dt>Convenience</dt>\n",
       " <dd>\n",
       " <ul class=\"vehicle-features-list\">\n",
       " <li>Heated Seats</li>\n",
       " </ul>\n",
       " </dd>\n",
       " <dt>Entertainment</dt>\n",
       " <dd>\n",
       " <ul class=\"vehicle-features-list\">\n",
       " <li>Bluetooth</li><li>HomeLink</li>\n",
       " </ul>\n",
       " </dd>\n",
       " <dt>Exterior</dt>\n",
       " <dd>\n",
       " <ul class=\"vehicle-features-list\">\n",
       " <li>Alloy Wheels</li>\n",
       " </ul>\n",
       " </dd>\n",
       " <dt>Safety</dt>\n",
       " <dd>\n",
       " <ul class=\"vehicle-features-list\">\n",
       " <li>Brake Assist</li><li>Stability Control</li>\n",
       " </ul>\n",
       " </dd>\n",
       " <dt>Seating</dt>\n",
       " <dd>\n",
       " <ul class=\"vehicle-features-list\">\n",
       " <li>Third Row Seating</li>\n",
       " </ul>\n",
       " </dd>\n",
       " </dl>,\n",
       " <dl class=\"fancy-description-list\">\n",
       " <dt>Accidents or damage</dt>\n",
       " <dd data-qa=\"accidents-or-damage-value\">At least 1 accident or damage reported</dd>\n",
       " <dt>1-owner vehicle</dt>\n",
       " <dd data-qa=\"one-owner-value\">No</dd>\n",
       " <dt>Personal use only</dt>\n",
       " <dd data-qa=\"personal-use-value\">Yes</dd>\n",
       " </dl>]"
      ]
     },
     "execution_count": 90,
     "metadata": {},
     "output_type": "execute_result"
    }
   ],
   "source": [
    "details"
   ]
  },
  {
   "cell_type": "code",
   "execution_count": 91,
   "metadata": {},
   "outputs": [],
   "source": [
    "info = [det.get_text() for det in details]"
   ]
  },
  {
   "cell_type": "code",
   "execution_count": 92,
   "metadata": {},
   "outputs": [],
   "source": [
    "car_info = info[0].split('\\n')"
   ]
  },
  {
   "cell_type": "code",
   "execution_count": 93,
   "metadata": {},
   "outputs": [
    {
     "data": {
      "text/plain": [
       "['',\n",
       " 'Exterior color',\n",
       " ' Smoke Metallic ',\n",
       " 'Interior color',\n",
       " ' Steel / Titanium ',\n",
       " 'Drivetrain',\n",
       " ' Four-wheel Drive ',\n",
       " 'MPG',\n",
       " ' ',\n",
       " '',\n",
       " '13–18',\n",
       " '',\n",
       " '',\n",
       " '',\n",
       " 'Based on EPA mileage ratings. Use for comparison purposes only. Actual mileage will vary depending on driving conditions, driving habits, vehicle maintenance, and other factors.',\n",
       " '',\n",
       " '',\n",
       " '',\n",
       " '',\n",
       " '',\n",
       " '',\n",
       " '',\n",
       " '',\n",
       " 'Fuel type',\n",
       " 'Gasoline ',\n",
       " 'Transmission',\n",
       " '5-Speed Automatic',\n",
       " 'Engine',\n",
       " '5.6L V8 32V MPFI DOHC',\n",
       " 'VIN',\n",
       " ' 5N1AA08B34N729508 ',\n",
       " 'Stock #',\n",
       " ' N25171C ',\n",
       " 'Mileage',\n",
       " ' 95,466 mi. ',\n",
       " '']"
      ]
     },
     "execution_count": 93,
     "metadata": {},
     "output_type": "execute_result"
    }
   ],
   "source": [
    "car_info"
   ]
  },
  {
   "cell_type": "code",
   "execution_count": 95,
   "metadata": {},
   "outputs": [
    {
     "data": {
      "text/plain": [
       "' Four-wheel Drive '"
      ]
     },
     "execution_count": 95,
     "metadata": {},
     "output_type": "execute_result"
    }
   ],
   "source": [
    "car_info[5 + 1]"
   ]
  },
  {
   "cell_type": "code",
   "execution_count": 96,
   "metadata": {},
   "outputs": [
    {
     "name": "stdout",
     "output_type": "stream",
     "text": [
      " Four-wheel Drive \n",
      "13–18\n",
      "Gasoline \n",
      "5-Speed Automatic\n",
      " 95,466 mi. \n"
     ]
    }
   ],
   "source": [
    "for i in range(len(car_info)):\n",
    "    if car_info[i] == 'Drivetrain':\n",
    "        print(car_info[i+1])\n",
    "    if car_info[i] == 'Fuel type':\n",
    "        print(car_info[i+1])\n",
    "    if car_info[i] == 'Transmission':\n",
    "        print(car_info[i+1])\n",
    "    if car_info[i] == 'Mileage':\n",
    "        print(car_info[i+1])\n",
    "    if car_info[i] == 'MPG':\n",
    "        print(car_info[i+3])"
   ]
  },
  {
   "cell_type": "code",
   "execution_count": 97,
   "metadata": {},
   "outputs": [],
   "source": [
    "price = soup.find_all(\"span\", attrs={\"class\":\"primary-price\"})"
   ]
  },
  {
   "cell_type": "code",
   "execution_count": 98,
   "metadata": {},
   "outputs": [
    {
     "data": {
      "text/plain": [
       "[<span class=\"primary-price\">$8,000</span>,\n",
       " <span class=\"primary-price\">$8,000</span>,\n",
       " <span class=\"primary-price\">$22,990</span>,\n",
       " <span class=\"primary-price\">$20,990</span>,\n",
       " <span class=\"primary-price\">$18,990</span>,\n",
       " <span class=\"primary-price\">$22,990</span>]"
      ]
     },
     "execution_count": 98,
     "metadata": {},
     "output_type": "execute_result"
    }
   ],
   "source": [
    "price"
   ]
  },
  {
   "cell_type": "code",
   "execution_count": 99,
   "metadata": {},
   "outputs": [
    {
     "data": {
      "text/plain": [
       "'$8,000'"
      ]
     },
     "execution_count": 99,
     "metadata": {},
     "output_type": "execute_result"
    }
   ],
   "source": [
    "[p.get_text() for p in price][0]"
   ]
  },
  {
   "cell_type": "markdown",
   "metadata": {},
   "source": [
    "# Start of WebScrape"
   ]
  },
  {
   "cell_type": "markdown",
   "metadata": {},
   "source": [
    "- Gather a list of links to cars \n",
    "- Use timer to time response\n",
    "- Go through 150 pages with 100 results each page\n",
    "- 200mi radius around birmingham al"
   ]
  },
  {
   "cell_type": "code",
   "execution_count": 38,
   "metadata": {},
   "outputs": [],
   "source": [
    "link_end_list = []\n",
    "\n",
    "for page in range(2,152):\n",
    "    url = f'https://www.cars.com/shopping/results/?page={page}&page_size=100&list_price_max=&makes[]=&maximum_distance=200&models[]=&stock_type=used&zip=35215'\n",
    "    resp = requests.get(url).text\n",
    "    soup = BeautifulSoup(resp)\n",
    "    \n",
    "    #getting links\n",
    "    links = soup.find_all('a', attrs={\"class\":\"vehicle-card-link js-gallery-click-link\"})\n",
    "    link_end = [l['href'] for l in links]\n",
    "    link_end_list.append(link_end)\n",
    "    time.sleep(random.randrange(1, 5))\n",
    "    "
   ]
  },
  {
   "cell_type": "code",
   "execution_count": 55,
   "metadata": {
    "scrolled": true
   },
   "outputs": [
    {
     "data": {
      "text/plain": [
       "150"
      ]
     },
     "execution_count": 55,
     "metadata": {},
     "output_type": "execute_result"
    }
   ],
   "source": [
    "len(link_end_list)"
   ]
  },
  {
   "cell_type": "markdown",
   "metadata": {},
   "source": [
    "**Join the list of lists into one**\n",
    "- ended with a lists of list of links (the way i setup the for loop)"
   ]
  },
  {
   "cell_type": "code",
   "execution_count": 40,
   "metadata": {
    "scrolled": true
   },
   "outputs": [
    {
     "data": {
      "text/plain": [
       "14930"
      ]
     },
     "execution_count": 40,
     "metadata": {},
     "output_type": "execute_result"
    }
   ],
   "source": [
    "results = sum(link_end_list, [])\n",
    "len(results)"
   ]
  },
  {
   "cell_type": "markdown",
   "metadata": {},
   "source": [
    "**Looking at the number of unique links**"
   ]
  },
  {
   "cell_type": "code",
   "execution_count": 53,
   "metadata": {},
   "outputs": [],
   "source": [
    "un, counts = np.unique(results, return_counts=True)"
   ]
  },
  {
   "cell_type": "markdown",
   "metadata": {},
   "source": [
    "**Seems like the repeated values come in 52 number of repeats**\n",
    "- ~~assuming these are ad cars so they will pop up on multiple pages~~\n",
    "- ~~roughly 33% of listings seem to be ads~~\n",
    "- ~~each ad car probably gets a limit of 52 listings/times shown~~\n",
    "\n",
    "\n",
    "- turns out when showing 100 cars per page, you can only go to 100 pages\n",
    "- the extra 52 repeats are from trying to go to page 101+ and the website redirecting you to page 100\n",
    "- so only 119 cars were duplicates out of 10000 cars (100 listings * 100 pages), probably ads, so only about 1% of cars were ad cars"
   ]
  },
  {
   "cell_type": "code",
   "execution_count": 54,
   "metadata": {},
   "outputs": [
    {
     "data": {
      "text/plain": [
       "{'/vehicledetail/000443e5-575c-458d-8689-7bf7c5c0a408/': 1,\n",
       " '/vehicledetail/00069f18-5482-439e-ae88-c61e85bc7058/': 1,\n",
       " '/vehicledetail/0010703f-e9ee-4fed-8485-c1854cba9996/': 1,\n",
       " '/vehicledetail/002658fc-08fd-4b40-90a9-2148f391a4ae/': 1,\n",
       " '/vehicledetail/00284ab5-cf99-4c03-b58c-3e40839579d5/': 1,\n",
       " '/vehicledetail/0033137a-57fd-46a9-ba87-7899e780b6e7/': 1,\n",
       " '/vehicledetail/003451be-94e6-4040-a79d-327dc8004910/': 1,\n",
       " '/vehicledetail/0038d8fc-5742-4054-bb4b-6446c318c7c2/': 1,\n",
       " '/vehicledetail/0039e36d-e5f6-4633-81e9-11dfc7df84e5/': 1,\n",
       " '/vehicledetail/0045fd98-c348-478d-ad99-846b8c9efc7c/': 1,\n",
       " '/vehicledetail/0049b93d-7fdc-4a1e-b6f3-9fb60e82ade0/': 1,\n",
       " '/vehicledetail/00500748-cbb4-44cf-92ca-5479588f34ac/': 1,\n",
       " '/vehicledetail/0063347d-9778-413a-a79f-3215fe3ff696/': 1,\n",
       " '/vehicledetail/0068f306-88de-4130-975d-f9ed2cc546cc/': 1,\n",
       " '/vehicledetail/007cd07e-1305-4c29-a1a2-e622aed2051f/': 1,\n",
       " '/vehicledetail/00853be1-e300-4879-877f-4a175691af28/': 1,\n",
       " '/vehicledetail/0087fb35-67d6-4b17-bdad-8f3fb76328ec/': 1,\n",
       " '/vehicledetail/0093a3d5-36d2-45ae-bf91-6d42164340e5/': 1,\n",
       " '/vehicledetail/009a8e3f-ae55-4961-93cb-754747ca9919/': 1,\n",
       " '/vehicledetail/009b0897-630c-41ea-b310-56b2dcd27805/': 1,\n",
       " '/vehicledetail/00a021dd-c1fc-42bd-9e89-8142b08c34b1/': 1,\n",
       " '/vehicledetail/00a28ef3-818d-4f78-9695-1def47342456/': 1,\n",
       " '/vehicledetail/00a9d71c-6339-4030-a5da-ecbafa22b140/': 1,\n",
       " '/vehicledetail/00b78502-6427-4f74-8cb0-c1efe2fd7fe8/': 1,\n",
       " '/vehicledetail/00b93948-2e29-494e-9fb2-83e99e8d3113/': 1,\n",
       " '/vehicledetail/00b93c98-7f95-4edf-8dab-a65627115828/': 1,\n",
       " '/vehicledetail/00c70cee-67a1-4454-a415-81ccf93ad043/': 1,\n",
       " '/vehicledetail/00ccb31e-2a0f-4953-a2a9-13fce6c8e885/': 1,\n",
       " '/vehicledetail/00d01998-c71a-462e-8e6b-96d2030f1229/': 1,\n",
       " '/vehicledetail/00d94f11-74f3-4d69-8bb8-ee2e73b349a8/': 1,\n",
       " '/vehicledetail/00db5156-5931-4d33-af95-ba62561fe2bf/': 1,\n",
       " '/vehicledetail/00f91669-8135-410d-8513-6a3d237db0a7/': 1,\n",
       " '/vehicledetail/01004e82-413e-4c5e-9819-369112ec4a46/': 1,\n",
       " '/vehicledetail/0101a623-ea16-4279-80ca-0d214f48ae17/': 1,\n",
       " '/vehicledetail/0107dffa-858c-49f3-8bd8-31555aba7aca/': 1,\n",
       " '/vehicledetail/010810ed-1c17-4f86-a0c8-eed4e960b1b0/': 1,\n",
       " '/vehicledetail/010aaf2c-a761-42ad-a633-0f3658100721/': 1,\n",
       " '/vehicledetail/010ffd73-175e-4d41-97ca-7757130be126/': 1,\n",
       " '/vehicledetail/0113adb5-3d99-433c-9cbd-68d32b9b2446/': 1,\n",
       " '/vehicledetail/011f8fef-fcde-41c9-ae25-059b717cb5f0/': 1,\n",
       " '/vehicledetail/01230b3d-2eff-449b-a3c3-3b77dd5930a8/': 1,\n",
       " '/vehicledetail/01275c8e-1109-4c1c-a540-25faadd1de78/': 1,\n",
       " '/vehicledetail/012acbe4-176d-4346-b9c5-7404a82d1045/': 1,\n",
       " '/vehicledetail/012c6185-0b4f-4d13-8c3b-16af37f787be/': 1,\n",
       " '/vehicledetail/013561e1-7900-46c2-bbf1-6f6e0f9338ff/': 1,\n",
       " '/vehicledetail/0137360a-c115-4128-84a0-0f2624bff7a3/': 1,\n",
       " '/vehicledetail/01399337-2f66-4fff-8dac-5c5e59e01329/': 1,\n",
       " '/vehicledetail/01477dd5-8f1b-4c69-b115-676d71b97c49/': 1,\n",
       " '/vehicledetail/01529101-6642-4d94-b243-9f38a20f6eca/': 1,\n",
       " '/vehicledetail/0162bce0-fce6-437a-be66-3ca39672d1e5/': 1,\n",
       " '/vehicledetail/0169481c-c3aa-4460-92ea-b6e74bc5322b/': 1,\n",
       " '/vehicledetail/016c176f-8ac8-4aeb-a0c7-386b333d8a84/': 1,\n",
       " '/vehicledetail/017948cb-d118-4e99-93e9-c2f09b781d3d/': 1,\n",
       " '/vehicledetail/018c1b10-b87a-480d-831f-33a538caac25/': 1,\n",
       " '/vehicledetail/0191813a-db31-442f-b987-e43d402eb012/': 1,\n",
       " '/vehicledetail/01954a84-2143-4d2b-aa4c-c9067cbc6c29/': 1,\n",
       " '/vehicledetail/0195dbf2-5595-4cc0-b411-644e1e77325f/': 1,\n",
       " '/vehicledetail/01973497-cb6f-4f40-b48d-22b66ed1a4fb/': 1,\n",
       " '/vehicledetail/019c8526-7549-4b9b-8699-acd1901d4fce/': 1,\n",
       " '/vehicledetail/01a52f95-be8b-4f03-bb75-0e18095fec5f/': 1,\n",
       " '/vehicledetail/01a63bb5-fbe1-4944-9fa2-1152dd80fb78/': 1,\n",
       " '/vehicledetail/01aba2a7-013c-48fe-a10c-77e85367dc03/': 1,\n",
       " '/vehicledetail/01ad55e2-5947-445c-8045-1f5d21853704/': 1,\n",
       " '/vehicledetail/01afd6b1-7e9d-41da-b10c-2ba973f3e2f1/': 1,\n",
       " '/vehicledetail/01c52eb6-7a8d-4ef1-aaa5-f53e60d7f467/': 1,\n",
       " '/vehicledetail/01d0a54c-8e3f-4b40-81fb-f4e3c4625a65/': 1,\n",
       " '/vehicledetail/01d12591-8358-46e5-836e-237f1a048b4c/': 1,\n",
       " '/vehicledetail/01d81fa1-22b7-4ef4-8f70-9d67a3ca0a7a/': 1,\n",
       " '/vehicledetail/01e7c816-7af9-40c0-a0d1-12f71b009269/': 1,\n",
       " '/vehicledetail/01e8f3a0-df9f-4ed0-bbd7-ae6ead9744e1/': 1,\n",
       " '/vehicledetail/01f1e2f7-3f6c-4b0d-b759-a728b915e6f1/': 1,\n",
       " '/vehicledetail/01ffb165-6656-4bf1-aeed-8e3177a10990/': 1,\n",
       " '/vehicledetail/02068fbf-8f7c-4a22-9198-13bcb86ca9a5/': 1,\n",
       " '/vehicledetail/0209c342-bbbb-4e27-8f99-44cce3c47640/': 1,\n",
       " '/vehicledetail/020b3f25-53c2-40a4-9acd-5b7b85c69d41/': 1,\n",
       " '/vehicledetail/020e8d97-c58d-48b2-af6b-4d62bad54e18/': 1,\n",
       " '/vehicledetail/021bc612-0b82-4446-af9d-f7f7fca62109/': 1,\n",
       " '/vehicledetail/021fd1e2-697b-43d1-96ee-d6c9ee53bba3/': 1,\n",
       " '/vehicledetail/02289fcd-0367-4599-a7b9-3d1e39b5219c/': 1,\n",
       " '/vehicledetail/0229372d-4ee4-4bef-b0fb-9614beb80932/': 1,\n",
       " '/vehicledetail/02298e2b-a765-4aff-86da-6ffb9156fb85/': 1,\n",
       " '/vehicledetail/02394840-012b-4166-85e2-6f1d30d032b6/': 1,\n",
       " '/vehicledetail/023de313-99e4-4fe8-8701-b5c62aa6f28f/': 1,\n",
       " '/vehicledetail/023ebb87-4738-4a27-b36c-d42eac36e851/': 1,\n",
       " '/vehicledetail/02413652-dcad-4c4a-931c-7a5bcc20167a/': 1,\n",
       " '/vehicledetail/024358eb-e82b-403c-b0e2-ab95c12af9cf/': 1,\n",
       " '/vehicledetail/024c762e-d869-4c94-b55b-6a6f23cd5c94/': 1,\n",
       " '/vehicledetail/025a7f04-8047-4913-9120-82675ac9e270/': 1,\n",
       " '/vehicledetail/025dfa38-e158-42e3-bd01-fd06bedfa954/': 1,\n",
       " '/vehicledetail/025fa0bc-8b8d-43bd-989a-a14c22e04322/': 1,\n",
       " '/vehicledetail/0261ce1d-d6be-46f4-8990-380620bb19f1/': 1,\n",
       " '/vehicledetail/026261c8-b469-4f6a-9171-6ddb8ff5fb2d/': 1,\n",
       " '/vehicledetail/0264d3a0-f386-4919-ad8d-9ad56d2ad756/': 1,\n",
       " '/vehicledetail/02750e3a-112a-4c89-8486-862e2979a76c/': 1,\n",
       " '/vehicledetail/0276ff18-00ec-4318-beba-87de66ac7595/': 1,\n",
       " '/vehicledetail/027b0074-662d-4551-8ba5-3796c577c794/': 1,\n",
       " '/vehicledetail/0284ddd1-0aba-440c-b191-95bc4490b656/': 1,\n",
       " '/vehicledetail/028b6113-ce5c-4ff5-b0b0-cf04c774d30b/': 1,\n",
       " '/vehicledetail/029d2f10-9546-4b05-98e0-d8124a569c3a/': 1,\n",
       " '/vehicledetail/02b0c23f-f2d4-4d58-b9f5-1329f1ac40a4/': 1,\n",
       " '/vehicledetail/02b9fad9-75a4-4b60-b310-c18b2ddb7382/': 1,\n",
       " '/vehicledetail/02bb9846-44d5-4238-a454-3ab90032b7da/': 1,\n",
       " '/vehicledetail/02c05776-7d34-4f48-a7cc-e768a55b18a4/': 1,\n",
       " '/vehicledetail/02cb0853-bc31-4486-b2cf-4a65f4619872/': 1,\n",
       " '/vehicledetail/02d4426c-85df-4268-9457-65cabf6437ab/': 1,\n",
       " '/vehicledetail/02e207ae-51df-4032-af76-0cb32238d7bd/': 1,\n",
       " '/vehicledetail/02f246fa-830c-4ecd-91e3-076af32a86ba/': 1,\n",
       " '/vehicledetail/02fd1599-1e9f-46a9-9b6f-058740126e3d/': 1,\n",
       " '/vehicledetail/02fe7a0b-3566-4283-b476-96c4d60be3d2/': 1,\n",
       " '/vehicledetail/030c09d0-3846-46f1-accc-bf0cdf2e249f/': 1,\n",
       " '/vehicledetail/031ca773-901a-4566-b32b-3a686a821355/': 1,\n",
       " '/vehicledetail/032015b4-c99d-40ed-bc24-2b0fdcc9620a/': 1,\n",
       " '/vehicledetail/032eb475-f639-4197-9f17-96551e54d33b/': 1,\n",
       " '/vehicledetail/032f6f3a-8e57-46d3-b2ea-62e29f1ee145/': 1,\n",
       " '/vehicledetail/033085df-432b-4dcf-8e37-4bae8a144dbb/': 1,\n",
       " '/vehicledetail/03322a2d-19cd-443f-88ad-ea149ab24f4a/': 1,\n",
       " '/vehicledetail/0343ec73-4824-4a6a-b2c8-464e728fed61/': 1,\n",
       " '/vehicledetail/0348a37c-8a18-4b0d-9ffe-791d72ddd418/': 1,\n",
       " '/vehicledetail/03505b69-7f1c-474a-a1a8-f4712e9d4be6/': 1,\n",
       " '/vehicledetail/03507c00-371a-4b82-8b03-6fb6f296353a/': 1,\n",
       " '/vehicledetail/035d27a3-f0a1-49d1-8570-cf0ca8e5ab19/': 1,\n",
       " '/vehicledetail/0373fe65-b561-4ab0-b010-a9513a2eb98a/': 1,\n",
       " '/vehicledetail/0378a90c-64b4-4319-8a60-5afdb5bccc21/': 1,\n",
       " '/vehicledetail/03793276-962f-405a-9a58-bd45e92b1b99/': 1,\n",
       " '/vehicledetail/038e21b3-cfb3-493f-9dac-5dd2e7312041/': 1,\n",
       " '/vehicledetail/0394eb20-f6cd-4d0f-ab8c-9c85b0ef166e/': 1,\n",
       " '/vehicledetail/0398241d-0a18-43f9-89bd-31e61815f95e/': 1,\n",
       " '/vehicledetail/039a2b87-deb8-469f-9add-1024e26f4071/': 1,\n",
       " '/vehicledetail/039d6dfd-852a-4239-84d1-ceb4acb7b3a4/': 1,\n",
       " '/vehicledetail/03ae721d-5bcf-496e-9d37-88eecc22bbdd/': 1,\n",
       " '/vehicledetail/03b6c826-c2f6-45f9-84b9-33d8845c19ec/': 1,\n",
       " '/vehicledetail/03b9558e-1a61-4e1f-803f-312cf4fb5d93/': 1,\n",
       " '/vehicledetail/03bd2843-d603-4bef-8e80-cbf18a833171/': 1,\n",
       " '/vehicledetail/03c5889f-7011-4e85-9835-5cc661ec6645/': 1,\n",
       " '/vehicledetail/03cc248c-2991-41d3-8567-659aee8e1de2/': 1,\n",
       " '/vehicledetail/03d36145-d4be-4e83-82be-68911dd0d43c/': 1,\n",
       " '/vehicledetail/03d5a430-377c-4443-a3dd-6d44d7a0dfc3/': 1,\n",
       " '/vehicledetail/03d96c16-1a5f-47dd-ae9d-642c3e3e4f62/': 1,\n",
       " '/vehicledetail/03db4a72-75e7-4c41-872a-07bb45476325/': 1,\n",
       " '/vehicledetail/03db80ff-8724-45d7-b1a3-e429232a9495/': 1,\n",
       " '/vehicledetail/03dd864b-44a0-4274-ab12-5c1d0d2a8563/': 1,\n",
       " '/vehicledetail/03e428be-483b-44b1-b0b9-3215bbfa1c70/': 1,\n",
       " '/vehicledetail/03e656d8-289b-4411-b12d-8827a76542bb/': 1,\n",
       " '/vehicledetail/03ed2eb3-1e9b-449e-af7d-32bd7bdd8db7/': 1,\n",
       " '/vehicledetail/03f647da-1902-4ecd-8916-70e07d0cdefe/': 1,\n",
       " '/vehicledetail/03f904ab-06d0-435f-b5d6-dd1e261c438f/': 1,\n",
       " '/vehicledetail/03fc2d5e-fc6c-4e2f-b66f-6d21309a6b10/': 1,\n",
       " '/vehicledetail/03fc9434-b278-46c0-9da4-cc58956236b0/': 1,\n",
       " '/vehicledetail/04046411-7f10-4784-92c3-fb776e610394/': 1,\n",
       " '/vehicledetail/040cf1bf-a5e2-4521-8249-74fdbc8d8834/': 1,\n",
       " '/vehicledetail/0412f818-a73b-47b9-8dd9-7351d4d7fd15/': 1,\n",
       " '/vehicledetail/0415f768-c7cc-4022-9bc2-642f795f8f77/': 1,\n",
       " '/vehicledetail/041e436c-a5d2-4216-9c39-c32807a3b62e/': 1,\n",
       " '/vehicledetail/041fb2c6-b6d0-4e36-9c85-f655cd81f828/': 1,\n",
       " '/vehicledetail/0420eda0-d4ae-484d-b3f2-9405fccc1efc/': 1,\n",
       " '/vehicledetail/042aec6f-bef5-4040-bf90-62373aa18af8/': 1,\n",
       " '/vehicledetail/042dbdee-8a56-45ee-bbcf-87ed6748a135/': 1,\n",
       " '/vehicledetail/04361acc-1880-4d96-a101-8f84c8442118/': 1,\n",
       " '/vehicledetail/0442e320-4985-4746-833c-b429acafc895/': 1,\n",
       " '/vehicledetail/04452eb6-4a6b-4dcb-bb0d-dfa9f1c02aa0/': 1,\n",
       " '/vehicledetail/0449791e-8d1e-4aaa-a774-118b6a66b4ff/': 1,\n",
       " '/vehicledetail/04567412-75c8-4f0e-b323-d2d9d7c3d2a0/': 1,\n",
       " '/vehicledetail/045ab655-d3f4-4eb3-b1ba-597b0cd989e5/': 1,\n",
       " '/vehicledetail/04677556-d3bc-402d-984b-f2541bf7ff2d/': 1,\n",
       " '/vehicledetail/047042c0-b7cc-481b-8742-9029e15f689a/': 1,\n",
       " '/vehicledetail/0473a5d0-09e7-4a45-be58-0882a5259350/': 1,\n",
       " '/vehicledetail/048558a0-1df7-4a96-b214-ce5aa8d33081/': 1,\n",
       " '/vehicledetail/04889065-3cd9-4f4c-ad8a-ec4a381c472f/': 1,\n",
       " '/vehicledetail/048dc15f-f427-4892-8053-0e89ac804241/': 1,\n",
       " '/vehicledetail/049be5ae-28b6-42a5-a032-54cf9830db9c/': 1,\n",
       " '/vehicledetail/04b20de5-15d4-417d-a899-37614a91ce2d/': 1,\n",
       " '/vehicledetail/04b7a5f0-a505-4a0f-9f5e-3e841503a7e4/': 1,\n",
       " '/vehicledetail/04b9dd4c-6813-4201-8e7a-8feae624b69e/': 1,\n",
       " '/vehicledetail/04c12ff1-0815-441a-af25-681577573268/': 1,\n",
       " '/vehicledetail/04ca3fb2-5fb7-4553-810b-cb941eb1ba49/': 1,\n",
       " '/vehicledetail/04d3387b-2b89-49a7-bc11-59f16ac3aaa6/': 1,\n",
       " '/vehicledetail/04d7c062-3dfc-480d-bfbb-75d2b20232ad/': 1,\n",
       " '/vehicledetail/04e5936d-373b-4299-ad61-00bc4efaf878/': 1,\n",
       " '/vehicledetail/04f695b2-8490-402b-bc60-80626b3fc757/': 1,\n",
       " '/vehicledetail/04fef7ff-bccd-4f07-8c33-af5df3009b89/': 1,\n",
       " '/vehicledetail/0508f014-b019-48b7-8c1f-9023b1f1e4de/': 1,\n",
       " '/vehicledetail/050b096a-4967-4891-a7ae-523f1f47f5b3/': 1,\n",
       " '/vehicledetail/05107862-879c-4fb8-aec8-edb70bdaab5c/': 1,\n",
       " '/vehicledetail/0511598c-1d83-40b6-8c55-4d30315be7e2/': 1,\n",
       " '/vehicledetail/0515a851-0950-4ac1-8153-74d93bf1111d/': 1,\n",
       " '/vehicledetail/0515ac8d-9491-42cc-95d0-87b533ef73ef/': 1,\n",
       " '/vehicledetail/052e59ab-c47b-4a24-8107-7108cec21c51/': 1,\n",
       " '/vehicledetail/0535b935-3354-4249-9128-218af3d00821/': 1,\n",
       " '/vehicledetail/053bc447-9c0d-436b-8690-7f62dbd79b4b/': 1,\n",
       " '/vehicledetail/054127e1-ffb6-4fc0-8a28-63900ba49a2d/': 1,\n",
       " '/vehicledetail/054ce0db-63c3-464f-8d99-fc58c1494e85/': 1,\n",
       " '/vehicledetail/05512046-8ec7-4458-af2a-98c14a737de7/': 1,\n",
       " '/vehicledetail/055324f4-c797-4df3-a693-bf0894cbbbdb/': 1,\n",
       " '/vehicledetail/05730697-23e2-4bef-bbc4-93e65f9c5fce/': 1,\n",
       " '/vehicledetail/057d2001-ae25-4acc-95ec-b32b010f4e45/': 1,\n",
       " '/vehicledetail/05812d4f-e1e9-4c39-8902-3150086fc715/': 1,\n",
       " '/vehicledetail/0591db71-c853-49a6-a304-c72ec62fa745/': 1,\n",
       " '/vehicledetail/0596000d-7200-4931-a5af-c24aca641821/': 1,\n",
       " '/vehicledetail/05962986-9ca2-4148-bcb1-29de7e47a959/': 1,\n",
       " '/vehicledetail/059bf913-797a-467c-8406-83ed85abde17/': 1,\n",
       " '/vehicledetail/05a0be48-ba73-4abf-8682-87687667184c/': 1,\n",
       " '/vehicledetail/05a98298-45de-4ddf-912c-90d313b4a7c6/': 1,\n",
       " '/vehicledetail/05ac4e5d-3c63-4565-92d8-1ad17e8b9365/': 1,\n",
       " '/vehicledetail/05af0b75-1f6d-4b31-8503-e0e77a459c7e/': 1,\n",
       " '/vehicledetail/05b030f4-c2d8-49a5-afcd-a05599a07eda/': 1,\n",
       " '/vehicledetail/05bb1e37-5370-45ae-a012-547e7fa2e5b5/': 1,\n",
       " '/vehicledetail/05db09ac-2b83-4823-a622-22a22e8c7fea/': 1,\n",
       " '/vehicledetail/05e88364-f361-4040-bc4c-b3d32ed18934/': 1,\n",
       " '/vehicledetail/05e9e6ac-1885-417f-9c81-d51f64d6b61a/': 1,\n",
       " '/vehicledetail/05ee7f07-150b-4056-a391-6cd0e4853542/': 1,\n",
       " '/vehicledetail/05efbc54-8824-4865-a66d-242965d4d552/': 1,\n",
       " '/vehicledetail/05f688f0-9f3b-4fcf-a36c-6748fa99c856/': 1,\n",
       " '/vehicledetail/05fa6195-b359-4bc3-8b1f-83130b6f121c/': 1,\n",
       " '/vehicledetail/0604c9f1-9b2f-4983-a9de-069a399ca6f9/': 1,\n",
       " '/vehicledetail/0605fe3e-ab15-47cf-9208-c9df428b65a2/': 1,\n",
       " '/vehicledetail/060645dc-1b88-43e2-ba4c-bd8aab291a4a/': 1,\n",
       " '/vehicledetail/060a2167-9ca5-4b5b-afe4-554651f226ea/': 1,\n",
       " '/vehicledetail/060d6567-33b1-48fb-be4c-4b108d2df165/': 1,\n",
       " '/vehicledetail/061671c2-0af0-4740-9584-c5316aedbbe8/': 1,\n",
       " '/vehicledetail/06194815-2500-4ef5-8ae2-9eb74382feaf/': 1,\n",
       " '/vehicledetail/061a9390-683b-4cce-8c65-5638e352a003/': 1,\n",
       " '/vehicledetail/061e8e8d-aebd-4944-a05b-772e2cb20544/': 1,\n",
       " '/vehicledetail/0623632a-9c43-4b41-a3c1-6e3f461f99a3/': 1,\n",
       " '/vehicledetail/0625c255-0212-4af4-8c33-8a5a9565ea60/': 1,\n",
       " '/vehicledetail/063274c0-1478-47dd-9155-e79e610459b7/': 1,\n",
       " '/vehicledetail/06329145-6637-4c71-9874-a660fa354b08/': 1,\n",
       " '/vehicledetail/0634421b-5090-41a7-90cb-6dbf7b60bf30/': 1,\n",
       " '/vehicledetail/063609bd-2a70-40ac-beec-7f7e49da5217/': 1,\n",
       " '/vehicledetail/06389165-d299-4f45-ad12-7b5b4c127c28/': 1,\n",
       " '/vehicledetail/063af7a0-1a7b-46ec-940a-a4afbeb15ca1/': 1,\n",
       " '/vehicledetail/0642cc2a-5fb6-4491-8480-a3312398f60c/': 1,\n",
       " '/vehicledetail/0654122a-6dd7-4df9-a655-acdb30a7c53b/': 1,\n",
       " '/vehicledetail/0656ec48-ed93-49e6-898e-030427abd76a/': 1,\n",
       " '/vehicledetail/06570725-6297-4b22-98ff-e19270a52353/': 1,\n",
       " '/vehicledetail/06586629-86a4-43a3-8426-4218d313bd29/': 1,\n",
       " '/vehicledetail/065c4e74-c4b0-4aa2-a1d3-e7d4eeefc6c8/': 1,\n",
       " '/vehicledetail/066b7f09-e1f9-41ca-834b-7e72276ee4d6/': 1,\n",
       " '/vehicledetail/066e85e5-3526-4ba6-a73d-0daf29a8b80c/': 1,\n",
       " '/vehicledetail/0673c0cd-c130-4c86-a244-d62df14a4c08/': 1,\n",
       " '/vehicledetail/0682c9e9-226d-4108-ab06-f5816e7ae440/': 1,\n",
       " '/vehicledetail/0683d096-1d8b-480c-93e4-62335a9604a2/': 1,\n",
       " '/vehicledetail/068b9ffb-4ae8-4be9-80be-2550000e7fec/': 1,\n",
       " '/vehicledetail/0691ba04-7e8e-4b53-9f29-98b44e90d5cb/': 1,\n",
       " '/vehicledetail/06998e25-d912-4b52-a043-42ec6087a343/': 1,\n",
       " '/vehicledetail/069de30d-e85c-43b5-bc72-d98e2e803391/': 1,\n",
       " '/vehicledetail/06a5d399-ad93-4226-b567-d564acc22567/': 1,\n",
       " '/vehicledetail/06bcb929-9b5b-4dac-a0e4-2ba1a7e3623b/': 1,\n",
       " '/vehicledetail/06c06120-4ad7-40bf-81c4-b85eb60b738b/': 1,\n",
       " '/vehicledetail/06c08493-563c-4053-9b3e-cb18cfc002e7/': 1,\n",
       " '/vehicledetail/06c12de1-66d5-47fb-9192-e0a0b439b298/': 1,\n",
       " '/vehicledetail/06c36a50-e9a7-4cec-900f-ddf973ccdf8c/': 1,\n",
       " '/vehicledetail/06c59ece-a55e-4057-b429-baf137f20c22/': 1,\n",
       " '/vehicledetail/06cbe4ee-f4ba-454a-8eb1-31e38b62be0a/': 1,\n",
       " '/vehicledetail/06cd50f7-6e6b-475c-b481-b73c40bea6d8/': 1,\n",
       " '/vehicledetail/06cd6e21-4333-4708-821f-a3fe42b2fc0b/': 1,\n",
       " '/vehicledetail/06cfbce7-bdc1-4a8e-bd9f-81f96b867ec2/': 1,\n",
       " '/vehicledetail/06d32db2-73a8-4cc2-861a-cf86971e1332/': 1,\n",
       " '/vehicledetail/06d5c63b-ab35-4921-a269-87f27be7b50e/': 1,\n",
       " '/vehicledetail/06d77426-1f68-419d-8ead-c284638fcb63/': 1,\n",
       " '/vehicledetail/06d9f5fb-87ec-4cde-a508-ed483fb15333/': 1,\n",
       " '/vehicledetail/06e207c6-9a7a-4383-8869-bb54a4bfd98f/': 1,\n",
       " '/vehicledetail/06e35150-271e-44fd-b8c9-f7e281fc059b/': 1,\n",
       " '/vehicledetail/06e563e6-8ad8-4c03-8e98-b0ebe2c0771b/': 1,\n",
       " '/vehicledetail/06e6cf45-0528-4a7f-8591-858c1b7c0c65/': 1,\n",
       " '/vehicledetail/06e7a6b7-8853-4ac7-9e17-68477284fc72/': 1,\n",
       " '/vehicledetail/06f4c68e-303e-41d2-8c3c-ffa43093df38/': 1,\n",
       " '/vehicledetail/06f4dd1d-4382-435e-939b-107cfb5efe70/': 1,\n",
       " '/vehicledetail/06f95456-de05-444f-8200-d4b34e53dfee/': 1,\n",
       " '/vehicledetail/06fa63ea-a545-49b1-8e29-4c5af037d95c/': 1,\n",
       " '/vehicledetail/0701f39f-346a-409b-a404-a1c84d9be3cc/': 1,\n",
       " '/vehicledetail/07021fca-49e4-4398-8d1e-4473976feacb/': 1,\n",
       " '/vehicledetail/0708b91f-20c5-421f-9875-9f2a545f180a/': 1,\n",
       " '/vehicledetail/070f60f7-a7ad-4317-8eca-5d56eb667399/': 1,\n",
       " '/vehicledetail/0710779c-1911-4a33-971f-99c977496d81/': 1,\n",
       " '/vehicledetail/071ad116-13ce-459f-98c6-f61a1f592c28/': 1,\n",
       " '/vehicledetail/07212dac-9084-4fbf-aa89-bda2827694d8/': 1,\n",
       " '/vehicledetail/073015a8-207b-4c9e-847a-1a331e96f85d/': 1,\n",
       " '/vehicledetail/073cacb4-71e7-46ce-9ba3-0e341e9212ed/': 1,\n",
       " '/vehicledetail/073eb86d-0f29-4a91-9342-68aee3503765/': 52,\n",
       " '/vehicledetail/07476b42-0099-4f49-825c-2a18925f6b85/': 1,\n",
       " '/vehicledetail/0749a004-244e-4228-b53f-78b334b0e702/': 1,\n",
       " '/vehicledetail/074bb510-e9f1-4b73-a721-e89e605b07ac/': 1,\n",
       " '/vehicledetail/0753761f-34ba-4751-85e9-fcb6c1eb7d96/': 1,\n",
       " '/vehicledetail/075d9449-3c40-48fc-8334-70cce58696c9/': 1,\n",
       " '/vehicledetail/0762428d-6ecb-4e38-b567-50b075846467/': 1,\n",
       " '/vehicledetail/0764328b-bfb6-40b0-ac9c-b17439f55428/': 1,\n",
       " '/vehicledetail/0766fb1c-8b5a-4fbf-9b24-488935eac6b6/': 1,\n",
       " '/vehicledetail/076902c7-3f7a-4d88-9b40-7faf0528a13e/': 1,\n",
       " '/vehicledetail/077940e4-7486-4181-a610-f386e9def229/': 1,\n",
       " '/vehicledetail/077a96c0-3eb2-4375-aeaa-6bbcd47e4490/': 1,\n",
       " '/vehicledetail/077b9ffb-d065-4d5a-b9bf-8cb5bfd8d36d/': 1,\n",
       " '/vehicledetail/077c2106-6c95-4283-913c-7b92b11ecc19/': 1,\n",
       " '/vehicledetail/0781fd56-0756-4386-9509-0ce274fc6488/': 1,\n",
       " '/vehicledetail/078c3477-052c-4203-93bd-2f2a5b2e2a6c/': 1,\n",
       " '/vehicledetail/078d4008-c947-49ba-8d67-aeda750a023a/': 1,\n",
       " '/vehicledetail/078e6bd9-c02c-487f-af16-4efb896f4a5d/': 1,\n",
       " '/vehicledetail/078f8f11-6e13-47d0-a7e7-620bddc74809/': 52,\n",
       " '/vehicledetail/07a2e0a0-544d-48e3-8040-d3e67b3e7cd9/': 1,\n",
       " '/vehicledetail/07a717ca-83e1-42c9-82fe-589ff22c4220/': 1,\n",
       " '/vehicledetail/07a7c70b-ccd7-403c-a755-77a4eae0e702/': 1,\n",
       " '/vehicledetail/07a836b3-8e55-405e-bfac-cd0b1b8c235a/': 1,\n",
       " '/vehicledetail/07a842df-e4b0-43a9-ac94-e9bea456a2f4/': 1,\n",
       " '/vehicledetail/07b031c3-a620-45fc-95ee-f6e76e249a87/': 1,\n",
       " '/vehicledetail/07b2d50d-f631-4b7f-8b0d-40031e7205ab/': 1,\n",
       " '/vehicledetail/07bf8393-340b-4f92-a709-b9b4a37bb0a5/': 1,\n",
       " '/vehicledetail/07bfd79a-76b3-4aed-8726-8b4616dbe195/': 1,\n",
       " '/vehicledetail/07c04fc5-ef89-4dca-ba1f-b09190e743bd/': 1,\n",
       " '/vehicledetail/07c1d820-90b1-4eca-8170-4c63d785e814/': 1,\n",
       " '/vehicledetail/07c7bd06-fb8e-4b51-bb84-142d888c80f5/': 1,\n",
       " '/vehicledetail/07ce7d71-17f9-414b-b9ba-a4324f553633/': 1,\n",
       " '/vehicledetail/07d273af-ac58-4a41-b730-2adc9ca8ac96/': 1,\n",
       " '/vehicledetail/07d4655e-353c-40c4-a915-c6625b55be51/': 1,\n",
       " '/vehicledetail/07d511ed-f7bd-4648-95e9-776138736470/': 1,\n",
       " '/vehicledetail/07d75c81-5ae2-4d9b-9113-e47c09c9f4ca/': 1,\n",
       " '/vehicledetail/07dde3af-43de-4c67-bb17-e5029a87312f/': 1,\n",
       " '/vehicledetail/07e27567-673e-424b-8ddb-2958c24bb7f4/': 1,\n",
       " '/vehicledetail/07e28027-99cf-46b5-bd40-e6880bfd2efb/': 1,\n",
       " '/vehicledetail/07e2e43a-8a44-4c7b-a157-7d1ec5fa09bd/': 1,\n",
       " '/vehicledetail/07e34c79-b57f-491a-bbca-6fb97134fdbb/': 1,\n",
       " '/vehicledetail/07e429b8-75b4-4c11-9c08-8f5833427980/': 1,\n",
       " '/vehicledetail/07f4f68e-83fd-4655-9579-8174d5c75c12/': 1,\n",
       " '/vehicledetail/08063665-aaa0-487e-8262-853debe4f9e0/': 1,\n",
       " '/vehicledetail/0807120f-0ce7-4459-9922-54ac06b16c29/': 1,\n",
       " '/vehicledetail/080d0731-461d-41c2-a798-95e0293c472c/': 1,\n",
       " '/vehicledetail/080d831d-7099-4ea8-8638-0b3f44f6f247/': 1,\n",
       " '/vehicledetail/080e7e3a-0bf1-40f0-a119-a0719599122d/': 1,\n",
       " '/vehicledetail/080f911a-b980-4291-8b85-faeda88eb7e0/': 1,\n",
       " '/vehicledetail/081135b6-2f61-4a7d-ae3d-dbfaba755e53/': 1,\n",
       " '/vehicledetail/08114f46-9276-4ee4-9c80-935930303206/': 1,\n",
       " '/vehicledetail/081c7abc-f117-494d-88d1-3162caaf6c90/': 1,\n",
       " '/vehicledetail/081d2ec2-f0c8-465e-b49e-1f4256c0aabf/': 1,\n",
       " '/vehicledetail/08305d1e-22d2-499a-8a38-364c6881777c/': 1,\n",
       " '/vehicledetail/083872bc-d5dd-430c-90a5-37a0b065721d/': 1,\n",
       " '/vehicledetail/083bfa00-6b02-45b9-84fc-9640becd02da/': 1,\n",
       " '/vehicledetail/083c02ec-98a6-44e3-86eb-7ebf17b61a86/': 1,\n",
       " '/vehicledetail/083c4f80-6ff1-4ff9-bf9b-ad211289f2ce/': 1,\n",
       " '/vehicledetail/0846d652-73e2-488d-a4e2-644cdbdeafa5/': 1,\n",
       " '/vehicledetail/0851c23c-01ca-4374-bf7a-3953f779eae4/': 1,\n",
       " '/vehicledetail/0859828b-2596-4d8a-93d2-aa53bdce8f6c/': 1,\n",
       " '/vehicledetail/085d1a18-4393-4f6a-9197-9f7c517d53c7/': 1,\n",
       " '/vehicledetail/085fb9bc-836f-41c9-9b00-909aec83f744/': 1,\n",
       " '/vehicledetail/0869de4e-72b8-4a08-9b5b-56748f4e9186/': 1,\n",
       " '/vehicledetail/086e30f7-bfe7-4914-93a9-5b1091f9b344/': 1,\n",
       " '/vehicledetail/087c8ab6-afa7-4964-8893-c8b94fd74f85/': 1,\n",
       " '/vehicledetail/0885c168-f7db-4db0-ae4c-b20cca85128d/': 1,\n",
       " '/vehicledetail/0887e2cb-c023-4c30-b320-25b743a0c126/': 1,\n",
       " '/vehicledetail/0889a609-06a8-4093-aca0-eac5efc013a9/': 1,\n",
       " '/vehicledetail/08950717-3066-4399-86fa-9c669e3300fe/': 1,\n",
       " '/vehicledetail/089976e1-32ed-48fc-8322-d476cccb4d1f/': 1,\n",
       " '/vehicledetail/089bf636-18ca-4644-8980-987ebddae3a7/': 1,\n",
       " '/vehicledetail/08afe1c5-08c3-48b8-8003-7cda18223bf2/': 1,\n",
       " '/vehicledetail/08b0782b-8ecb-4ada-943d-3a61a63126d2/': 1,\n",
       " '/vehicledetail/08b2f7ff-9e26-43bd-b07d-3d7d976c9a47/': 1,\n",
       " '/vehicledetail/08bbfff7-4a12-46b9-9b60-bd2789d5d3ae/': 1,\n",
       " '/vehicledetail/08d63bcb-29ee-48d6-95d0-455369f62f3e/': 1,\n",
       " '/vehicledetail/08da5275-1fb9-4dc5-949c-3746a13f327a/': 1,\n",
       " '/vehicledetail/08e82bec-7a4f-4012-b654-a8baf320e063/': 1,\n",
       " '/vehicledetail/08f6c20b-2269-4ec4-95d0-759450bac0c9/': 1,\n",
       " '/vehicledetail/08f78694-84f0-44e5-a926-392be799bd5a/': 1,\n",
       " '/vehicledetail/09071baf-e0cb-40fc-988c-6a42af94016f/': 1,\n",
       " '/vehicledetail/091364aa-c969-46de-96ee-a742458db576/': 1,\n",
       " '/vehicledetail/09150892-f128-4850-90b1-ed0a1a9492c4/': 1,\n",
       " '/vehicledetail/091a5861-7428-466b-9672-b9849c320d19/': 1,\n",
       " '/vehicledetail/091b299a-f788-4738-aa2d-b530a2589c70/': 1,\n",
       " '/vehicledetail/09295f0c-ee4c-4ff5-9a11-b5aad671f3f8/': 1,\n",
       " '/vehicledetail/092b2500-6db3-47b4-b195-4720db20f284/': 1,\n",
       " '/vehicledetail/092cacb5-a6b6-4777-8fce-07175c013153/': 1,\n",
       " '/vehicledetail/092cf06e-51a9-498b-a30a-0e45d3b9be89/': 1,\n",
       " '/vehicledetail/092dbdfe-c352-4bd2-ba3e-266fb2641a9b/': 1,\n",
       " '/vehicledetail/09388cd9-2713-4c13-870a-c3d141bbbed6/': 1,\n",
       " '/vehicledetail/09393cd8-c626-4c11-8abd-39625d474df4/': 1,\n",
       " '/vehicledetail/093e9026-62a1-493c-b0ba-d3d80d925c3f/': 1,\n",
       " '/vehicledetail/0940cd50-b92e-46ec-bfa3-d82dc51cc96b/': 1,\n",
       " '/vehicledetail/09639c8d-ce33-41f1-a1aa-edf8362ab59d/': 1,\n",
       " '/vehicledetail/09687243-468a-4dab-bf4d-8f5aeac806c5/': 1,\n",
       " '/vehicledetail/096e2002-6146-49d4-a214-5bcebca176f7/': 1,\n",
       " '/vehicledetail/096f0358-e89f-4f67-84f2-5bcba321f61c/': 1,\n",
       " '/vehicledetail/09735f9f-dd42-4e73-9a72-c2581662bb95/': 1,\n",
       " '/vehicledetail/09776d13-cfd9-4f2f-9db6-d5701002902f/': 1,\n",
       " '/vehicledetail/09799108-2b09-4cf4-9384-4cfcfb503f12/': 1,\n",
       " '/vehicledetail/097d5096-7cd6-41b8-893c-7df33f694b11/': 52,\n",
       " '/vehicledetail/099249ca-09fc-47f2-9e37-64e0946dbcea/': 1,\n",
       " '/vehicledetail/0999ce5e-673f-4481-87ab-19dddecc3313/': 1,\n",
       " '/vehicledetail/099d1f4a-1032-4c65-b4c1-1fd1e59e1120/': 1,\n",
       " '/vehicledetail/099e7bcf-1aee-493a-855d-5cc601e9b1e9/': 1,\n",
       " '/vehicledetail/099f468d-3462-4265-ad59-763b772dd177/': 1,\n",
       " '/vehicledetail/09a20a8d-014d-4cf6-bb4d-d55aa1c3a653/': 1,\n",
       " '/vehicledetail/09a56d0b-6d42-4d20-9d80-ed8baddb1fbd/': 1,\n",
       " '/vehicledetail/09a711d4-1e38-43da-ac39-fe5b34ffc3ac/': 1,\n",
       " '/vehicledetail/09aab39c-3ee3-4ac0-ae7f-0a2508776c22/': 1,\n",
       " '/vehicledetail/09aaf6bb-fdbc-473d-8115-8457f6328f80/': 1,\n",
       " '/vehicledetail/09abcae4-9d93-462d-a777-9758cad164ed/': 1,\n",
       " '/vehicledetail/09bc871c-02c5-4289-a30e-c65bac6e6104/': 1,\n",
       " '/vehicledetail/09bd925c-4db7-471c-a866-621097bf4d01/': 1,\n",
       " '/vehicledetail/09c56e53-1ad3-40f2-8a60-4662ec6df2a4/': 1,\n",
       " '/vehicledetail/09cf4c6c-4671-45c5-b063-e213f773e773/': 1,\n",
       " '/vehicledetail/09e2ffeb-a060-49ed-b3ed-dc0d90e4081a/': 1,\n",
       " '/vehicledetail/09e50abf-5019-4efb-be11-5238b56f0552/': 1,\n",
       " '/vehicledetail/09e6cb85-f030-4f9f-ac8e-a19200efea5b/': 1,\n",
       " '/vehicledetail/09f39bc7-4b5f-4a54-8d78-6fa9fa48c130/': 1,\n",
       " '/vehicledetail/09fc780e-5d54-4266-9d03-740278830371/': 1,\n",
       " '/vehicledetail/0a0411bf-f6f9-41f5-8261-1d7c80201a7a/': 1,\n",
       " '/vehicledetail/0a0dbb51-e4d0-409b-86b1-d19c8f199c2e/': 1,\n",
       " '/vehicledetail/0a10b2ea-3cb6-4851-a23e-de518c5e758b/': 1,\n",
       " '/vehicledetail/0a18df88-7282-42e4-a272-68977c27572d/': 1,\n",
       " '/vehicledetail/0a1c7019-4959-4027-99a7-6f70308fad85/': 1,\n",
       " '/vehicledetail/0a1efb04-e93b-403f-ba9f-5d161beb0811/': 1,\n",
       " '/vehicledetail/0a1f646c-9327-4acb-aa81-15dec3c92812/': 1,\n",
       " '/vehicledetail/0a23399e-e929-434a-b27c-9f3306b087f6/': 1,\n",
       " '/vehicledetail/0a2b46bc-201e-4031-8c28-5f9eb8a17bde/': 1,\n",
       " '/vehicledetail/0a2be538-169d-4c3f-9e65-efad370d0246/': 1,\n",
       " '/vehicledetail/0a3164bd-0141-4dc0-96c7-da9136b2777e/': 1,\n",
       " '/vehicledetail/0a371b51-2395-4413-9c65-9cafc21f54f8/': 1,\n",
       " '/vehicledetail/0a3dfe5e-13a3-4d75-bef2-c78057935f23/': 52,\n",
       " '/vehicledetail/0a49bbd3-3b45-4554-80c7-27abbe4c0f8c/': 1,\n",
       " '/vehicledetail/0a57a3bc-97f6-4f2e-b6b6-1b8715ecd803/': 1,\n",
       " '/vehicledetail/0a6db192-787c-4176-8f4d-5d7cf3ad6686/': 1,\n",
       " '/vehicledetail/0a731ad7-d338-4840-8720-9bce1fc18bf8/': 1,\n",
       " '/vehicledetail/0a7491d2-854a-467b-a877-40d9913bcce4/': 1,\n",
       " '/vehicledetail/0a8927cf-10ef-4396-8a0a-6f103026b324/': 1,\n",
       " '/vehicledetail/0a90ff30-af05-4340-b080-bfccf008d42f/': 1,\n",
       " '/vehicledetail/0a9cacb9-decf-4764-a7d3-3caced492b72/': 1,\n",
       " '/vehicledetail/0aa9a90e-cd5f-4b93-9387-ca4ba64180c0/': 1,\n",
       " '/vehicledetail/0aab357e-170d-477c-be57-7b5d7fd35b44/': 1,\n",
       " '/vehicledetail/0abb7e55-b0ef-4546-8658-dc055aff8278/': 1,\n",
       " '/vehicledetail/0ac15cad-634c-4bfe-9267-457d9f2b1d00/': 1,\n",
       " '/vehicledetail/0ac218a6-aa76-4d6a-8d08-ddb47f39638f/': 1,\n",
       " '/vehicledetail/0ac284c4-4b09-4674-a902-86f1d49484fd/': 1,\n",
       " '/vehicledetail/0ac71110-ae12-4826-ac24-be7b95634e3f/': 1,\n",
       " '/vehicledetail/0acfd108-2ef0-4133-bf99-fefbd515f64f/': 1,\n",
       " '/vehicledetail/0ad28194-127b-45c7-8cce-4790b5053ba2/': 1,\n",
       " '/vehicledetail/0ad352b5-2ca8-4a19-92c2-6af739857b99/': 1,\n",
       " '/vehicledetail/0ae5580c-2862-40d3-a81d-a0797336ca37/': 1,\n",
       " '/vehicledetail/0ae6fbeb-870a-4b76-82ca-29004c23b905/': 1,\n",
       " '/vehicledetail/0aef476f-5f92-4a0a-ba37-74a63ef233d7/': 1,\n",
       " '/vehicledetail/0af05f1a-d1c7-4fa6-b4ba-2224d19c764d/': 1,\n",
       " '/vehicledetail/0afe39f6-8683-4ac6-87af-ded1d03ada99/': 1,\n",
       " '/vehicledetail/0b1c41b1-42c5-46c8-aee9-b392a476303c/': 1,\n",
       " '/vehicledetail/0b20aeb1-ccbc-463c-8c07-8234d609ed17/': 1,\n",
       " '/vehicledetail/0b282fa6-c890-4713-92e3-aee02d1e7f8d/': 1,\n",
       " '/vehicledetail/0b2948ff-b088-41e5-af06-37c2c3f2706a/': 1,\n",
       " '/vehicledetail/0b33ab3a-977d-4496-a3c5-dfd24d0d5f4f/': 1,\n",
       " '/vehicledetail/0b3678cd-5720-4d6b-9c67-dc87bf42021f/': 1,\n",
       " '/vehicledetail/0b3a1a9b-9b78-40e0-a691-78d24e38e3b9/': 1,\n",
       " '/vehicledetail/0b3f0e2f-a23b-4149-814b-c699649d26a4/': 1,\n",
       " '/vehicledetail/0b3f38fd-ee71-4c08-a43a-4d795d7d569d/': 1,\n",
       " '/vehicledetail/0b407f55-e216-49f1-847d-aae6462ec4e3/': 1,\n",
       " '/vehicledetail/0b427a0c-98d4-4f33-bd67-0b7b07fc6839/': 1,\n",
       " '/vehicledetail/0b4f3991-f6c3-4184-b28f-4ef532f51be6/': 1,\n",
       " '/vehicledetail/0b51344a-e271-4641-a262-0a7706c389d7/': 1,\n",
       " '/vehicledetail/0b53bbf7-1e93-499d-9f9a-8a65669d2e38/': 1,\n",
       " '/vehicledetail/0b541145-ed3c-4022-afe5-f92f6688c2e4/': 1,\n",
       " '/vehicledetail/0b54b493-3f4d-4d90-8f4b-ebf6bad8b061/': 1,\n",
       " '/vehicledetail/0b55c8f4-c522-4816-be40-08454587878a/': 1,\n",
       " '/vehicledetail/0b55d19d-f44e-4357-b2ef-41850a14a19c/': 1,\n",
       " '/vehicledetail/0b588745-926e-4b79-9e7b-519b0d817d5f/': 1,\n",
       " '/vehicledetail/0b6370a3-2267-4c76-836c-96a1a91915d3/': 1,\n",
       " '/vehicledetail/0b651d49-f38c-487d-bae7-2a650d7cb65f/': 1,\n",
       " '/vehicledetail/0b676791-d7ea-4a21-9eab-6df132419b24/': 1,\n",
       " '/vehicledetail/0b6cfabe-bf06-4738-bbba-a38b2acad516/': 1,\n",
       " '/vehicledetail/0b74d9dd-4a06-4f74-be0d-bbfbcd8082d9/': 1,\n",
       " '/vehicledetail/0b842a8e-66a8-4ff0-a5cc-ca02e81730cd/': 1,\n",
       " '/vehicledetail/0b9b7102-b20f-43c6-9c8f-c6f5676f7d71/': 1,\n",
       " '/vehicledetail/0b9bb2bd-101b-4670-bb54-7d3636e03191/': 1,\n",
       " '/vehicledetail/0bb5fc08-7092-4fdd-8880-33f28024e473/': 1,\n",
       " '/vehicledetail/0bb989a7-d77b-4593-9a31-11209856e0ed/': 1,\n",
       " '/vehicledetail/0bba9445-7f78-41bd-82d0-1e1dd74c6319/': 1,\n",
       " '/vehicledetail/0bc87c4a-0c6e-406d-8ed3-eb5ca5ab566a/': 1,\n",
       " '/vehicledetail/0bc91096-88af-47df-8558-369413e287c1/': 1,\n",
       " '/vehicledetail/0bd92631-750c-41ed-be5f-e094d5821554/': 1,\n",
       " '/vehicledetail/0bf09792-d4f4-4cf4-80db-e6b0477a0192/': 1,\n",
       " '/vehicledetail/0bfdcd8e-1046-4d30-8cbb-54604c41add5/': 1,\n",
       " '/vehicledetail/0bfe8a67-b8c9-4b4d-84e9-557e3a419155/': 1,\n",
       " '/vehicledetail/0c02298a-db5b-49e5-8f4a-1abdffcfaaee/': 1,\n",
       " '/vehicledetail/0c036ca6-6e09-4a5e-842a-5aa8ddd7adf3/': 1,\n",
       " '/vehicledetail/0c07e3e3-5f74-4c6c-8b99-62822663e7ad/': 1,\n",
       " '/vehicledetail/0c125d4f-2c10-4d5e-8d77-09d03d623b72/': 1,\n",
       " '/vehicledetail/0c1737ef-7c06-496b-b97c-34def1cb3752/': 1,\n",
       " '/vehicledetail/0c1b8c87-4996-463c-9593-100f2675030e/': 1,\n",
       " '/vehicledetail/0c2a41c8-9b4c-462c-8696-d65cc073b992/': 1,\n",
       " '/vehicledetail/0c2e3a8d-c352-4e40-9d6c-1a65c7595984/': 1,\n",
       " '/vehicledetail/0c3370dd-67b2-4363-af24-2c4495d78145/': 1,\n",
       " '/vehicledetail/0c40ea0e-6284-48d8-854b-b0b230f279d5/': 1,\n",
       " '/vehicledetail/0c428e23-d7f0-4105-b182-035ca0a779d7/': 1,\n",
       " '/vehicledetail/0c475914-5499-48ee-bfe7-31a7e126d15f/': 1,\n",
       " '/vehicledetail/0c4c1de2-4899-4521-a305-9229dc482eab/': 1,\n",
       " '/vehicledetail/0c639eca-4150-4719-9979-613c2a32d2d1/': 1,\n",
       " '/vehicledetail/0c64862c-91c3-447a-a73b-b5815879f0e5/': 1,\n",
       " '/vehicledetail/0c6795d9-8d99-4914-acf8-24b73c322125/': 1,\n",
       " '/vehicledetail/0c6d550b-b404-4fbc-aa0b-e68f0a71bc70/': 1,\n",
       " '/vehicledetail/0c79ff9a-cfc4-4309-a50a-0ecf5bfac6bb/': 1,\n",
       " '/vehicledetail/0c7afc56-0f92-4cb2-b4b5-d39cda0ee474/': 1,\n",
       " '/vehicledetail/0c7dd48a-d6cc-475c-ab0a-86cb001e1975/': 1,\n",
       " '/vehicledetail/0c8cc863-e19a-4fe4-94a3-0e91793b0156/': 1,\n",
       " '/vehicledetail/0c8d7efd-0397-4705-9b64-e9af30d7480e/': 1,\n",
       " '/vehicledetail/0c91ae03-df78-4662-9abf-ec699299d32e/': 1,\n",
       " '/vehicledetail/0cb5fe9c-b73a-401f-a33f-f349a385a6ac/': 1,\n",
       " '/vehicledetail/0cb69795-8c8a-40ca-a5fd-0f200e164a2d/': 1,\n",
       " '/vehicledetail/0cc667bc-9f31-46e1-9f4d-3bae901527f5/': 1,\n",
       " '/vehicledetail/0ccab19c-7262-4f54-86dd-23dd6b5f8047/': 1,\n",
       " '/vehicledetail/0cd09e05-0695-4391-bce9-90174433e830/': 1,\n",
       " '/vehicledetail/0ce30933-3b4f-4e7e-8e6a-cec8d9b52c17/': 1,\n",
       " '/vehicledetail/0cf211c6-970e-4920-91c7-3cf7c7dad762/': 1,\n",
       " '/vehicledetail/0cf48a28-55a2-4da6-916e-c7ed41168930/': 1,\n",
       " '/vehicledetail/0cf732ac-c621-4373-b8a2-6b70b28759bf/': 1,\n",
       " '/vehicledetail/0d095c89-f807-4e73-856f-351feb81aafe/': 1,\n",
       " '/vehicledetail/0d13f373-f280-44c7-a438-3d33e95da929/': 1,\n",
       " '/vehicledetail/0d22127a-3af7-4d3f-a245-84c916cd6016/': 1,\n",
       " '/vehicledetail/0d24685f-d5d2-4a39-b0c9-81852a1b0cb0/': 1,\n",
       " '/vehicledetail/0d291b22-3074-47f8-8e41-e341fedd4ea1/': 1,\n",
       " '/vehicledetail/0d29ffb3-85d2-465b-b44c-a9701c549434/': 1,\n",
       " '/vehicledetail/0d2a0679-4279-4c5f-af04-5d3d05eb5bdc/': 1,\n",
       " '/vehicledetail/0d2a1612-3edc-4ff9-9eb6-d0a2976d0a94/': 1,\n",
       " '/vehicledetail/0d386754-bfa8-4b06-9567-0ecf1c28452f/': 1,\n",
       " '/vehicledetail/0d4f8a06-7360-4caa-9ac3-0091ecee74a8/': 1,\n",
       " '/vehicledetail/0d57da7e-18e8-4081-924a-9035f251cd36/': 1,\n",
       " '/vehicledetail/0d5d7680-95b0-4a72-8337-066c9aaf03a5/': 1,\n",
       " '/vehicledetail/0d5dc075-f8e6-4b60-8d29-697907852231/': 1,\n",
       " '/vehicledetail/0d60043d-e9fc-483a-816c-fb69c3061cfe/': 1,\n",
       " '/vehicledetail/0d616cd5-d3cb-4bb1-8aa9-87197716295b/': 1,\n",
       " '/vehicledetail/0d61a5f3-77d7-4011-be90-a30211c4d1c0/': 1,\n",
       " '/vehicledetail/0d745773-08f0-4d7b-9f13-4633be2e0fc6/': 1,\n",
       " '/vehicledetail/0d7915b6-c9f7-430e-bcde-92d2f1eaf998/': 1,\n",
       " '/vehicledetail/0d800e36-414a-4cf5-a848-4e59da20359d/': 1,\n",
       " '/vehicledetail/0d89fd5f-96a7-4110-a263-8d27ce99eafb/': 1,\n",
       " '/vehicledetail/0d96567f-5ff3-4961-842a-39f83a1842da/': 1,\n",
       " '/vehicledetail/0d97fd51-cd02-4ee8-b3f3-66d5a1609fa8/': 1,\n",
       " '/vehicledetail/0da13fbf-1382-4244-8920-64bc5e813bdd/': 1,\n",
       " '/vehicledetail/0da6a367-a258-435f-9f13-63131c2c332c/': 1,\n",
       " '/vehicledetail/0dac7004-ed47-48d5-92bd-06a4f3deb476/': 52,\n",
       " '/vehicledetail/0db14406-2523-4085-9bac-ba2f62286403/': 1,\n",
       " '/vehicledetail/0dc25203-dad8-465a-9fde-f54482775112/': 1,\n",
       " '/vehicledetail/0dc36ffa-4443-4c53-bc00-cfc3f4289423/': 1,\n",
       " '/vehicledetail/0dc80464-7bf9-4d89-ae8f-f41326838a56/': 1,\n",
       " '/vehicledetail/0dd735e0-35da-45ec-b766-10bc3de68ec9/': 1,\n",
       " '/vehicledetail/0dda24a5-a6ca-41be-b893-c1328b97c784/': 1,\n",
       " '/vehicledetail/0de34301-51c0-4f74-a656-41ac9ef02255/': 1,\n",
       " '/vehicledetail/0defd723-eae6-48a0-97d1-615fd164ee1f/': 1,\n",
       " '/vehicledetail/0df34857-4cb1-4315-a9d5-60a452d2d6a7/': 1,\n",
       " '/vehicledetail/0df3aad7-e68a-427a-9acc-fe0cdab51b6c/': 1,\n",
       " '/vehicledetail/0df4279b-69b0-49fa-9b12-eff8f86b5301/': 1,\n",
       " '/vehicledetail/0df42a3c-ec5a-4b5b-9c82-a99e7115a31c/': 1,\n",
       " '/vehicledetail/0dfc65d8-7307-46d6-8fdd-0dc26511c529/': 1,\n",
       " '/vehicledetail/0e119ff3-7424-4828-ae0c-c57bfde23ce4/': 1,\n",
       " '/vehicledetail/0e1c7879-e491-4d2c-b86b-818a168ff7ce/': 1,\n",
       " '/vehicledetail/0e252891-f9e9-434f-bde4-bf87c91af094/': 1,\n",
       " '/vehicledetail/0e25e1a8-1133-477a-bf8b-44e440638e0c/': 1,\n",
       " '/vehicledetail/0e31c043-5f37-44af-b659-3059609c3599/': 1,\n",
       " '/vehicledetail/0e3cf78e-03aa-4627-910d-4aa5f6b054df/': 1,\n",
       " '/vehicledetail/0e41f378-8bd3-4de8-a9d8-c2b14e9614a2/': 1,\n",
       " '/vehicledetail/0e47d5b8-2d36-43c7-9458-b91064d5cd40/': 1,\n",
       " '/vehicledetail/0e554bdc-9478-49e7-ab15-f668331df753/': 1,\n",
       " '/vehicledetail/0e5a7cf7-e430-4da9-804f-747b569b8a87/': 1,\n",
       " '/vehicledetail/0e5bb41c-2fe6-4899-8846-b331a15418ad/': 1,\n",
       " '/vehicledetail/0e6173ad-a20b-472f-8fdb-82eeaf47a782/': 1,\n",
       " '/vehicledetail/0e65a249-f64d-4658-9877-b7cd2e2ecd49/': 1,\n",
       " '/vehicledetail/0e7118a0-3904-4365-8351-75ed945806e0/': 1,\n",
       " '/vehicledetail/0e774e0d-8432-46ce-a778-0382bb55070f/': 1,\n",
       " '/vehicledetail/0e7c3312-8273-4099-a1ae-df75652d862a/': 1,\n",
       " '/vehicledetail/0e7cdb66-93c7-4f94-8d23-620fee8339ba/': 1,\n",
       " '/vehicledetail/0e92dcf5-d690-4364-acae-12a382bc604f/': 1,\n",
       " '/vehicledetail/0e970147-abfd-42c2-931d-13d417cc6261/': 1,\n",
       " '/vehicledetail/0e98daba-aab7-4451-8e72-a32600cf7332/': 1,\n",
       " '/vehicledetail/0e99142e-2f08-4fb3-88b0-a57ad42baae3/': 1,\n",
       " '/vehicledetail/0e9e7dff-ff9d-4d1a-9bb3-0748cfe3c39c/': 1,\n",
       " '/vehicledetail/0ea7813f-2225-4142-a3a1-a93eae564727/': 1,\n",
       " '/vehicledetail/0eb39bb3-e8d7-401a-925e-bbe28dea0608/': 1,\n",
       " '/vehicledetail/0ec44660-6ac2-4bbc-ba03-47ad266d5f46/': 1,\n",
       " '/vehicledetail/0ec5d912-fe6b-4892-8a08-a8259ef46fa8/': 1,\n",
       " '/vehicledetail/0ed8ad6a-8c8d-4d6f-af76-447723c66cba/': 1,\n",
       " '/vehicledetail/0eda3427-3591-4485-81e9-8e4e813b6a80/': 1,\n",
       " '/vehicledetail/0ee3ccfd-44f2-4aaa-af8d-f93b814e6db3/': 1,\n",
       " '/vehicledetail/0ef7580c-a908-4544-ad28-5a3f5d0b64de/': 1,\n",
       " '/vehicledetail/0ef8f775-d305-440f-a98f-fa4dd04c3614/': 1,\n",
       " '/vehicledetail/0eff7d28-5424-4d82-a76b-ab8d238477c3/': 1,\n",
       " '/vehicledetail/0effa90d-d49d-4926-9dc2-23c505aa854b/': 1,\n",
       " '/vehicledetail/0f05847b-1016-4140-aa8e-b9a9b45e8f57/': 1,\n",
       " '/vehicledetail/0f090a40-ed9e-4561-bba5-4d3d7f194296/': 1,\n",
       " '/vehicledetail/0f0e6942-e83c-481e-b1e3-6562c886299c/': 1,\n",
       " '/vehicledetail/0f0fc376-5874-4679-bd7e-63964251c5ca/': 1,\n",
       " '/vehicledetail/0f119077-9ba3-4695-90fe-5192a298e0e9/': 1,\n",
       " '/vehicledetail/0f126f42-a285-43a7-9b03-725c3c0b0b2e/': 1,\n",
       " '/vehicledetail/0f12769b-789e-4d44-9fd7-656033e60eb3/': 1,\n",
       " '/vehicledetail/0f1a7b1c-df9d-4981-ba76-e0c051eb8008/': 1,\n",
       " '/vehicledetail/0f22be18-5407-4cf1-b79a-532c3b786886/': 1,\n",
       " '/vehicledetail/0f27851f-fa9d-48c2-96f0-a97a9e74a081/': 1,\n",
       " '/vehicledetail/0f2c5c79-c741-4b0b-b8eb-e08e88f4df48/': 1,\n",
       " '/vehicledetail/0f2d48e1-b831-4b70-b4ab-fad1f45a69bd/': 1,\n",
       " '/vehicledetail/0f2f2018-2f5d-450a-89c2-d04caf8be01a/': 1,\n",
       " '/vehicledetail/0f3583da-cd9d-40ec-9f8f-0c2822eda2ff/': 1,\n",
       " '/vehicledetail/0f443b68-655f-477f-b9ec-65d5cc4faadd/': 1,\n",
       " '/vehicledetail/0f48a7e7-81b4-4476-83d0-4eb1b43cd1b7/': 1,\n",
       " '/vehicledetail/0f4c9ac1-8526-44ab-a45c-b6b86608af69/': 1,\n",
       " '/vehicledetail/0f59648f-46d3-4872-9b06-576148c7a085/': 1,\n",
       " '/vehicledetail/0f5a1877-bf46-4947-a9c8-60567400e6fc/': 1,\n",
       " '/vehicledetail/0f602729-1740-4dcd-b32c-5ca044b3029a/': 1,\n",
       " '/vehicledetail/0f65831f-81c6-443b-9b2d-724d6dcb454f/': 1,\n",
       " '/vehicledetail/0f6e3f74-b18d-45af-8b1b-a4c0c41d0d14/': 1,\n",
       " '/vehicledetail/0f7fbfe7-4c6c-474a-b01c-a5c6783b0cf7/': 1,\n",
       " '/vehicledetail/0f84dbaa-3ecc-4831-a11f-01b2ce3f9b76/': 1,\n",
       " '/vehicledetail/0f89f2a0-057f-42b2-8ce8-14011cd7b5c1/': 1,\n",
       " '/vehicledetail/0f8b4b52-9b4f-4978-99b1-a3837b40a7f5/': 1,\n",
       " '/vehicledetail/0f935111-effe-4d3a-93ce-f4fc17e893e0/': 1,\n",
       " '/vehicledetail/0f9b7289-0cdc-48af-9d25-eeb6bdaac654/': 1,\n",
       " '/vehicledetail/0fa290d5-18e2-4036-929d-77c2de04ffe4/': 1,\n",
       " '/vehicledetail/0fa6176b-deda-4bb7-8ad5-02b741a64a07/': 1,\n",
       " '/vehicledetail/0fac461c-aa64-445d-89f1-dd223c0c7d0b/': 1,\n",
       " '/vehicledetail/0fb98daa-6225-4487-b93e-6791085efb39/': 1,\n",
       " '/vehicledetail/0fc7a582-7d9c-4c78-a175-4cda37e291c3/': 1,\n",
       " '/vehicledetail/0fd07bb9-3af1-4160-843f-a8ca3038e98f/': 1,\n",
       " '/vehicledetail/0fd20e5b-2f48-4f5f-8cd4-f37d1f70b970/': 1,\n",
       " '/vehicledetail/0fe453f8-10db-498e-b2c6-b6d9b2865fdd/': 1,\n",
       " '/vehicledetail/0fe6e355-6c8a-4e6e-96cb-08fd787f7bb1/': 1,\n",
       " '/vehicledetail/0fe97f9d-91a0-46d2-abbe-84462861c1ee/': 1,\n",
       " '/vehicledetail/0ff3361a-a9e7-42c6-8aef-e43e53189b3e/': 1,\n",
       " '/vehicledetail/0ff40029-9b33-4382-b1e6-a06ecf09cf84/': 1,\n",
       " '/vehicledetail/0ff449cc-731f-4819-8de8-057c4d3be213/': 1,\n",
       " '/vehicledetail/100152f8-eb6d-4e42-a3ce-8a26b48a8d39/': 1,\n",
       " '/vehicledetail/10096e7e-1e5c-44ae-ac54-033130ced780/': 1,\n",
       " '/vehicledetail/10123389-2f04-46fb-8153-371a9d212ce7/': 1,\n",
       " '/vehicledetail/10137f3d-9bfc-4d25-9d3f-5e503e822c0e/': 1,\n",
       " '/vehicledetail/1017206c-3b72-4b22-96e1-8eb0cc494bed/': 1,\n",
       " '/vehicledetail/102166e5-caec-43ed-b643-0a4bb349af14/': 1,\n",
       " '/vehicledetail/1028315d-b08f-491c-80df-40076884d3c9/': 1,\n",
       " '/vehicledetail/10293f3d-6218-4561-b4e0-a24e1616d7bd/': 1,\n",
       " '/vehicledetail/1029417c-6c33-482d-bdb4-b20bdfb104d7/': 1,\n",
       " '/vehicledetail/102a9b82-369a-4fb6-b4cc-3102b4202cd7/': 1,\n",
       " '/vehicledetail/102b0d5e-325b-475a-af87-a78b96e88739/': 1,\n",
       " '/vehicledetail/102cf7eb-1c4a-4e6d-bcb2-f96e7d72f084/': 1,\n",
       " '/vehicledetail/102d04d8-80b2-4183-add6-019b1c06ffa2/': 1,\n",
       " '/vehicledetail/1036075d-16a4-4f23-b73c-5ccaf14dae0e/': 1,\n",
       " '/vehicledetail/103798b4-e24a-4f51-b176-5925b12df44e/': 1,\n",
       " '/vehicledetail/103ab780-8692-45b9-8bdf-72331f9ac74f/': 1,\n",
       " '/vehicledetail/103c7184-4a53-4cff-8d84-ebc06619d682/': 1,\n",
       " '/vehicledetail/103d706e-d113-4173-ba48-e3216ef9ef04/': 1,\n",
       " '/vehicledetail/10527ca0-48e7-4e16-b26f-70da2697ab64/': 1,\n",
       " '/vehicledetail/105ab2f9-61e7-4994-b200-67ce4ff9722d/': 1,\n",
       " '/vehicledetail/106205d4-524c-4841-a8e0-7650fd0f648f/': 1,\n",
       " '/vehicledetail/107abcea-6577-4338-b5e7-ab6438f58232/': 1,\n",
       " '/vehicledetail/107b5578-c90e-4c24-a6d2-8c5369eca2bf/': 1,\n",
       " '/vehicledetail/1081c380-2dfb-45c2-98e2-fca5e46b46ec/': 1,\n",
       " '/vehicledetail/1086f4b2-f714-4346-a572-f6d59a584297/': 1,\n",
       " '/vehicledetail/1087d43f-c69f-470b-92e1-ff38d7623978/': 1,\n",
       " '/vehicledetail/1089ff61-0d1f-434c-abe7-bc61bf650901/': 1,\n",
       " '/vehicledetail/108a5849-acd1-4f26-96e3-d56b316b9c4b/': 1,\n",
       " '/vehicledetail/1090e9f4-a227-44df-8c1a-62bad944cad6/': 1,\n",
       " '/vehicledetail/10975408-ff57-4b4d-b0ba-0be1ea8559de/': 1,\n",
       " '/vehicledetail/10a8e887-b6c1-4283-aa2a-ec520e5b1701/': 1,\n",
       " '/vehicledetail/10a98ec5-0030-43f4-a050-7370f5439a9e/': 1,\n",
       " '/vehicledetail/10b2b901-372b-4574-b4ef-17b1b8cfdb32/': 1,\n",
       " '/vehicledetail/10b2f073-395f-4420-ae9b-8a5cd3d99329/': 1,\n",
       " '/vehicledetail/10b330fb-8b91-41de-84b5-a37e9a8ba548/': 1,\n",
       " '/vehicledetail/10b3c9cc-4fd6-4033-8737-9dc9342fbd59/': 1,\n",
       " '/vehicledetail/10bc1a88-f9f9-4dc7-bd4d-372c23579346/': 1,\n",
       " '/vehicledetail/10c9403d-90e3-4fcb-b8cf-3f36c501f0e2/': 1,\n",
       " '/vehicledetail/10d3c63c-30a8-4dbe-a799-edc3c678d57f/': 1,\n",
       " '/vehicledetail/10d88049-4976-4fb2-b794-392ad4078ff5/': 1,\n",
       " '/vehicledetail/10e49662-8b7a-4060-b1fb-6ccdaba455cf/': 1,\n",
       " '/vehicledetail/10e857ba-1dd4-46a2-b86b-9e5c000ddf2d/': 1,\n",
       " '/vehicledetail/10e9f2bc-ab01-4b8f-9c68-c2e4748b16b5/': 1,\n",
       " '/vehicledetail/10ee43c6-d662-4651-9a29-43d69772deaa/': 1,\n",
       " '/vehicledetail/10f24c77-7135-4ee4-a328-fd4c43c82f88/': 1,\n",
       " '/vehicledetail/10fd8b63-eb7e-432c-83fc-3b112d35422a/': 1,\n",
       " '/vehicledetail/10fff0a0-d165-4c57-9564-0fcdc0d7580d/': 1,\n",
       " '/vehicledetail/1101f8f4-09cc-449f-be0e-77d9a4bf1ef9/': 1,\n",
       " '/vehicledetail/110416a7-398c-4213-9932-d7809a8eaa52/': 1,\n",
       " '/vehicledetail/111727da-1dd1-4610-892b-aeda4c490125/': 1,\n",
       " '/vehicledetail/111b64d5-148f-488a-9bc2-1cf44548d951/': 1,\n",
       " '/vehicledetail/112b0fe9-efb6-4163-8d57-79d601be96ad/': 1,\n",
       " '/vehicledetail/112b1438-7ddf-4f62-b457-3085f069535a/': 1,\n",
       " '/vehicledetail/112ca48c-06db-4185-86d0-6681e6d24882/': 1,\n",
       " '/vehicledetail/112d3cd3-95c5-4988-963d-e39a35bb59ac/': 1,\n",
       " '/vehicledetail/112dddbc-a026-43e4-a174-879d99aa0385/': 1,\n",
       " '/vehicledetail/11314dd3-d13c-4cbd-a074-164988510f18/': 1,\n",
       " '/vehicledetail/1139d8fb-f419-4b45-93fb-a43973103f6c/': 1,\n",
       " '/vehicledetail/113c6ba3-d04d-4fde-b52c-85ca613de6ca/': 1,\n",
       " '/vehicledetail/113ebf11-a94c-4c9c-9a0d-e8ffa92949e7/': 1,\n",
       " '/vehicledetail/11482591-00b9-48ca-9694-f46c5a85b3bf/': 1,\n",
       " '/vehicledetail/114a65b9-0f28-4e16-a79b-fc89f2b8bcaf/': 1,\n",
       " '/vehicledetail/11527a60-38cf-4fd2-b214-426dd2ba4d0c/': 1,\n",
       " '/vehicledetail/1153c6e0-4e4b-4241-be60-bea128370cb5/': 1,\n",
       " '/vehicledetail/1153dc49-8d29-4650-bb42-0f91cc1f55cc/': 1,\n",
       " '/vehicledetail/1159c8d0-9627-4af3-9568-0489fbd8ea9b/': 1,\n",
       " '/vehicledetail/115df3ef-ddb8-431e-9b8c-e3e619524f0a/': 1,\n",
       " '/vehicledetail/116ac602-fe80-4f8d-9af4-02c473e031a6/': 1,\n",
       " '/vehicledetail/116e73bf-a073-4918-b63b-2bb7937883f9/': 1,\n",
       " '/vehicledetail/119eeec4-5c4d-4817-9e43-3fa3d8cfcf97/': 1,\n",
       " '/vehicledetail/11baf012-2efe-4d80-a4ca-f0e42c7eec2e/': 1,\n",
       " '/vehicledetail/11be9487-4cf9-48db-835f-5f96a7987815/': 1,\n",
       " '/vehicledetail/11bf6768-c218-421d-acc8-a029c8e69970/': 1,\n",
       " '/vehicledetail/11c2be34-e41e-4d14-bbc6-e81b38dfeb6d/': 1,\n",
       " '/vehicledetail/11cb4d58-7dd4-4a0a-8c54-36a525ca43fa/': 1,\n",
       " '/vehicledetail/11d25da7-81d2-41aa-9b08-2a341eb3e153/': 1,\n",
       " '/vehicledetail/11e79e85-efb3-4a69-805a-e1577b680146/': 1,\n",
       " '/vehicledetail/11ea70fa-adc4-4984-8a37-e0c8531efd9a/': 1,\n",
       " '/vehicledetail/11f839a2-f016-42a3-8467-905c0b235eeb/': 1,\n",
       " '/vehicledetail/120510fe-16d1-40ee-8fc8-c03af69a51f0/': 1,\n",
       " '/vehicledetail/1209aecc-c33b-4620-b81a-698e26b7bdbb/': 1,\n",
       " '/vehicledetail/120e408e-45d5-436d-907d-cdc78f666794/': 1,\n",
       " '/vehicledetail/1214a7ef-323e-4310-a570-b1e4d620a939/': 1,\n",
       " '/vehicledetail/1217ae05-ac5e-4771-9c34-99dcc1e7bef9/': 1,\n",
       " '/vehicledetail/1218b2c5-a3ca-45b3-a39f-5fa3f1f64fcc/': 1,\n",
       " '/vehicledetail/121b26ef-a17e-4031-876f-30f4d50139f1/': 1,\n",
       " '/vehicledetail/121dcfd4-a8ea-4138-b2e3-8900611b2929/': 1,\n",
       " '/vehicledetail/12213bb9-822b-4bb6-939f-b4e828b4a0a7/': 1,\n",
       " '/vehicledetail/1223eb8f-fcee-4a8d-b6bb-704a0ef023f5/': 1,\n",
       " '/vehicledetail/122c726a-5202-422d-aa87-2b67535b66d0/': 1,\n",
       " '/vehicledetail/122e9da7-20d5-4b77-a124-41dd35cb849f/': 1,\n",
       " '/vehicledetail/12356259-e69b-490e-87b7-08270ad2f935/': 1,\n",
       " '/vehicledetail/1235e858-c838-4c3c-9bef-590c633cbe41/': 1,\n",
       " '/vehicledetail/123635ce-346e-4c96-9507-f25c8bffd810/': 1,\n",
       " '/vehicledetail/1237cbf2-fbd0-4960-835b-0f95525d3d21/': 1,\n",
       " '/vehicledetail/123c9be6-b306-43ef-b5d5-1e9f6289c21a/': 1,\n",
       " '/vehicledetail/123eeb6a-dadc-4170-a80f-e359c99bb499/': 1,\n",
       " '/vehicledetail/123f8555-d26e-4759-ad4a-29d35be44b39/': 1,\n",
       " '/vehicledetail/124297e5-7fe0-46be-b46b-0b67b7685744/': 1,\n",
       " '/vehicledetail/124dfcc9-215d-4731-8156-cb6980d0fa65/': 1,\n",
       " '/vehicledetail/124e6830-29eb-4485-b2ad-c9b9854b4597/': 1,\n",
       " '/vehicledetail/1250c324-4f39-44ac-b892-dd9c03823b9c/': 1,\n",
       " '/vehicledetail/1255382b-3e89-4b21-97b4-288fe7594066/': 1,\n",
       " '/vehicledetail/125b1e24-9802-4371-a4c3-ae8bd2737ba8/': 1,\n",
       " '/vehicledetail/126062c0-eb09-4a5f-987e-cec9d439e8cd/': 1,\n",
       " '/vehicledetail/126c2512-8499-478e-be77-dec4b44ceb4c/': 1,\n",
       " '/vehicledetail/126e7043-4f2e-4903-8390-7a1e7d70711c/': 1,\n",
       " '/vehicledetail/1270af7d-71e3-4fd6-a516-60b08b12bdad/': 1,\n",
       " '/vehicledetail/1274a2b8-b627-4504-acc2-fa0464c99952/': 1,\n",
       " '/vehicledetail/12753c55-275e-4c60-be9a-4dc14927d58c/': 1,\n",
       " '/vehicledetail/1278dd10-418b-47b7-a48c-670df928e4ad/': 1,\n",
       " '/vehicledetail/1285cd6b-4788-4bc9-8e3f-65bc4ace65c0/': 1,\n",
       " '/vehicledetail/12877b25-1531-4be1-918c-77e580d281ec/': 1,\n",
       " '/vehicledetail/12897725-c56e-467d-97b9-e310b0d669b1/': 1,\n",
       " '/vehicledetail/128a98c8-4e4a-443e-bb79-6d750403ce0f/': 1,\n",
       " '/vehicledetail/1299f2c6-de47-44e3-803b-e4e1621dbe60/': 1,\n",
       " '/vehicledetail/129b1623-bfa2-4169-9006-1ec3d1c8fbd7/': 1,\n",
       " '/vehicledetail/129b7fbc-b556-42c1-88ef-91e62089ace5/': 1,\n",
       " '/vehicledetail/129c9399-73b2-4b3f-b4fc-f32fd2d24fc8/': 1,\n",
       " '/vehicledetail/12c03e0a-128d-4343-8e43-73974abe7915/': 1,\n",
       " '/vehicledetail/12c37680-f1be-480e-9272-85d934e187b4/': 1,\n",
       " '/vehicledetail/12c6f8d8-a3b8-40ec-a7b5-7581ba2e6ae6/': 1,\n",
       " '/vehicledetail/12cb4c4c-946c-4dc8-bb36-411e5e7d01af/': 1,\n",
       " '/vehicledetail/12ccc654-047f-4d6a-95bf-663fbf6e331b/': 1,\n",
       " '/vehicledetail/12d790de-b084-4231-a91a-90c9304155d1/': 1,\n",
       " '/vehicledetail/12e2568a-c74e-49ee-af78-732aab65c554/': 1,\n",
       " '/vehicledetail/12e52092-7bee-4283-870a-b2f577df2789/': 1,\n",
       " '/vehicledetail/130412cd-0341-4156-95da-c6356ff8e599/': 52,\n",
       " '/vehicledetail/13058685-ec96-45ce-bbbc-380cf7b3e90c/': 1,\n",
       " '/vehicledetail/130a2ddc-069d-411c-bfda-886393f326ab/': 1,\n",
       " '/vehicledetail/130c6bd0-562c-4e9c-b7ef-c65c608e1c43/': 1,\n",
       " '/vehicledetail/130cc930-14e0-44d0-8dce-c5bb1b52e369/': 1,\n",
       " '/vehicledetail/1311d92e-d1f2-4299-94a6-2d491b1ad364/': 1,\n",
       " '/vehicledetail/13269051-4abf-4a5e-ae05-34d7b56be2d2/': 1,\n",
       " '/vehicledetail/1329cd15-7e19-4a83-9226-41bc0f4dca89/': 1,\n",
       " '/vehicledetail/1333c7b1-9f7e-4d1f-a0b3-a52d95e8639b/': 1,\n",
       " '/vehicledetail/1347de5c-9503-4ab2-9281-f1bf090c0bb9/': 1,\n",
       " '/vehicledetail/13584202-ce05-470b-9453-0b8b9a7d5065/': 1,\n",
       " '/vehicledetail/1360c786-e0e8-418d-ab91-07c64e1f117d/': 1,\n",
       " '/vehicledetail/136316f7-c7c5-4da3-bc34-6d22c273b988/': 1,\n",
       " '/vehicledetail/136451b2-d6e2-40a5-8717-430d2d7dc494/': 1,\n",
       " '/vehicledetail/136d6844-07fc-4fac-8f41-49c833dddf73/': 1,\n",
       " '/vehicledetail/137b3514-d957-4bf9-8319-10b24c2a5bb2/': 1,\n",
       " '/vehicledetail/137bf430-4681-4cb5-9bd5-9dd6ee47bda6/': 1,\n",
       " '/vehicledetail/1380aa2e-89d2-4fa4-a7c1-c6193689019f/': 1,\n",
       " '/vehicledetail/1383058b-5d53-4f7d-b096-74267f282e7d/': 1,\n",
       " '/vehicledetail/1383872b-9dba-47b3-8549-a9e39eb0eec2/': 52,\n",
       " '/vehicledetail/1389840a-3a29-4f8b-8b05-09419e66d52a/': 1,\n",
       " '/vehicledetail/138c1ea1-0f13-42a3-9c93-5043f206b41f/': 1,\n",
       " '/vehicledetail/138edcca-caef-423a-8f74-2fb0e6ae8c82/': 1,\n",
       " '/vehicledetail/13a1a452-b1b9-4dc0-88ff-7041069ec2f8/': 1,\n",
       " '/vehicledetail/13a57ac0-2aef-4e84-a265-627d460742b0/': 1,\n",
       " '/vehicledetail/13a7fcd2-c05b-4a86-8cb1-2d2e7985a789/': 1,\n",
       " '/vehicledetail/13ad4cac-91a2-4e08-b7e8-214bdfa22c63/': 1,\n",
       " '/vehicledetail/13b21474-82dd-4d0e-afcf-9df4153f3047/': 1,\n",
       " '/vehicledetail/13b3be2f-cf80-427d-b4bc-08fa7ea88704/': 1,\n",
       " '/vehicledetail/13b584f5-2262-4f28-a182-ca252cd3577e/': 1,\n",
       " '/vehicledetail/13c2331d-d6c8-43da-8c58-01810c763489/': 1,\n",
       " '/vehicledetail/13c579d4-eb9e-47e8-a2ee-5258ea5faf9f/': 1,\n",
       " '/vehicledetail/13c76bdd-e384-497c-8e0e-8a231f662b94/': 1,\n",
       " '/vehicledetail/13d4c59c-e46f-49cc-8201-3da106bcbe4f/': 1,\n",
       " '/vehicledetail/13da7f16-5b01-429b-8e49-cbadb56d629a/': 1,\n",
       " '/vehicledetail/13f4a468-cb96-4541-a342-a047ef80c1d2/': 1,\n",
       " '/vehicledetail/13ff4430-b14d-415f-9c7b-fa5e68c06463/': 1,\n",
       " '/vehicledetail/14133e48-9053-409b-8e74-07a2f69b5e9f/': 1,\n",
       " '/vehicledetail/1415b6f8-c368-4644-9915-b3468b4483d0/': 1,\n",
       " '/vehicledetail/1415d240-9902-4242-b8a2-b784ac8de7e4/': 1,\n",
       " '/vehicledetail/141862bc-516d-4cb6-9daa-dcf335d394e3/': 1,\n",
       " '/vehicledetail/141a2923-45de-4185-a7ab-07b03f0a9bbf/': 1,\n",
       " '/vehicledetail/141a9a94-de2e-4193-9684-6dca85e07e8d/': 1,\n",
       " '/vehicledetail/141b2559-36a2-4dca-a3c3-a10dfd68ae17/': 1,\n",
       " '/vehicledetail/141f6065-1736-45ca-a3ec-2b51fa9d2b93/': 1,\n",
       " '/vehicledetail/14249886-f027-4e3f-92ce-1ef7107ef445/': 1,\n",
       " '/vehicledetail/1426a817-9941-41f7-b8c1-babb31b00e22/': 1,\n",
       " '/vehicledetail/14270976-b6af-418e-a290-176d776f90d1/': 1,\n",
       " '/vehicledetail/142b1e7a-aff5-49f1-8db3-f84b0576b95a/': 1,\n",
       " '/vehicledetail/142cd6a7-87e5-409a-ac78-8ac234c0fc60/': 1,\n",
       " '/vehicledetail/1433a35d-1b7a-48b9-98f3-28d0703b3cd4/': 1,\n",
       " '/vehicledetail/14409a29-7b7f-46aa-918c-bc64c61949a6/': 1,\n",
       " '/vehicledetail/144227be-dae6-4fb4-9926-f4a319db1d46/': 1,\n",
       " '/vehicledetail/14492fbc-ac28-449c-b211-279510c3c141/': 1,\n",
       " '/vehicledetail/1449913e-c888-447c-bfcc-63575aabaa87/': 1,\n",
       " '/vehicledetail/144b413f-9fcb-4ddf-a9a4-45928f186e7f/': 1,\n",
       " '/vehicledetail/1452926a-a4cd-4486-b335-6181f4df00a6/': 1,\n",
       " '/vehicledetail/14543123-8bd9-4f96-a6c6-0ab48291996d/': 1,\n",
       " '/vehicledetail/1471302a-5820-4750-9ba9-0e01f69da6a5/': 1,\n",
       " '/vehicledetail/1472c0a4-e114-423d-9a16-760faf757330/': 1,\n",
       " '/vehicledetail/1475523f-abf0-4f5a-a487-f1753b30aa5c/': 1,\n",
       " '/vehicledetail/1478d420-0379-459a-8e43-2e4ca4fef1f2/': 1,\n",
       " '/vehicledetail/14898902-1abf-4ea7-9b15-46e00261a80b/': 1,\n",
       " '/vehicledetail/148a3dc2-438b-4ab5-b645-6e2e16f154ff/': 1,\n",
       " '/vehicledetail/148d3e3b-f2ae-4d80-bec2-d3ed714a6df1/': 1,\n",
       " '/vehicledetail/149244ab-8458-43ef-a7c4-56e92bf92ec3/': 1,\n",
       " '/vehicledetail/149492da-8678-4c4c-b4ff-9ad31286b81b/': 1,\n",
       " '/vehicledetail/14a4e523-c4fb-447d-aba2-e87387124ad3/': 1,\n",
       " '/vehicledetail/14a6074f-8f09-43b9-b739-f5f2b713d4b6/': 1,\n",
       " '/vehicledetail/14a807fc-e960-4511-99e9-87bbb8125902/': 1,\n",
       " '/vehicledetail/14af0824-37f2-40fd-8bd2-ea3e3693a44d/': 1,\n",
       " '/vehicledetail/14b665a5-152a-474f-8d71-e0cfd6abae2a/': 1,\n",
       " '/vehicledetail/14c7235d-b6b5-47f8-9a03-cce4748f2779/': 1,\n",
       " '/vehicledetail/14cd213b-5b51-4e2c-b0b5-43c74926135d/': 1,\n",
       " '/vehicledetail/14d236b3-b9c8-4d83-8b84-8bbe7461e362/': 1,\n",
       " '/vehicledetail/14dbff7e-1e98-40f2-889f-0664e43a9440/': 1,\n",
       " '/vehicledetail/14dd6ca0-c5c0-467e-a591-a64113731f76/': 1,\n",
       " '/vehicledetail/14e1f8e0-64f4-4191-9f3b-47e6a1aabd2b/': 1,\n",
       " '/vehicledetail/14e58d90-78b6-4ecb-b8d6-9e6043f1f990/': 1,\n",
       " '/vehicledetail/14e8e590-e73a-4e42-b8e1-3fd13967dca9/': 1,\n",
       " '/vehicledetail/14edaae6-d5a2-4fad-8b23-477a16555877/': 1,\n",
       " '/vehicledetail/14ee6db0-9288-40de-8ab2-bf98fe0dbc3b/': 1,\n",
       " '/vehicledetail/14ef687c-7261-4207-a910-c0f8a9efacaa/': 1,\n",
       " '/vehicledetail/14f8c713-80ba-43dd-a058-3553c67ec6a0/': 1,\n",
       " '/vehicledetail/14fcaedf-adee-42f4-9ca0-9457a10aaa71/': 1,\n",
       " '/vehicledetail/14ff7560-6d23-49c1-a07c-4480be6411d4/': 1,\n",
       " '/vehicledetail/15016deb-abee-4c09-b79c-1d1dc9f2f6a5/': 1,\n",
       " '/vehicledetail/15070883-bfbd-45a1-a80a-e68bfcb8a241/': 1,\n",
       " '/vehicledetail/150af1eb-3803-4c82-aa75-2b17b0f7dbba/': 1,\n",
       " '/vehicledetail/1510a24f-43e2-4878-9b2c-abf76e53e110/': 1,\n",
       " '/vehicledetail/15128633-638c-40c5-9efd-bcf2cb90ca90/': 1,\n",
       " '/vehicledetail/1518d892-9d45-4aa6-a70e-50a6589affb1/': 1,\n",
       " '/vehicledetail/151fd5cb-454d-455b-9b25-906420481e4a/': 1,\n",
       " '/vehicledetail/15236284-89ff-4b67-b6ea-54280912dee1/': 1,\n",
       " '/vehicledetail/152fad18-d9ad-491e-83b9-3d070973e28e/': 1,\n",
       " '/vehicledetail/15319b20-17f5-4776-bde7-4b4c9cdd8831/': 1,\n",
       " '/vehicledetail/1540ffb1-dcb7-47e1-a51b-9a56f1808f07/': 1,\n",
       " '/vehicledetail/154163d9-c8e7-46e8-b056-6cb2b41c0845/': 1,\n",
       " '/vehicledetail/1549c13d-4291-46bd-a7a1-5a199588285a/': 1,\n",
       " '/vehicledetail/1551a3e5-190e-4847-b76e-158e6ad6f5da/': 1,\n",
       " '/vehicledetail/1561cf24-3311-4503-b8ad-a7db99af5932/': 1,\n",
       " '/vehicledetail/1564cdaf-d994-4f1a-92ed-c121a509d3b2/': 1,\n",
       " '/vehicledetail/156ba3f4-8bf2-4064-b066-f1f44d333bba/': 1,\n",
       " '/vehicledetail/156de095-c993-4e5c-9e3d-9b1c12f2db64/': 1,\n",
       " '/vehicledetail/15734b02-9c40-400b-a6b1-78c518cd2f15/': 1,\n",
       " '/vehicledetail/1577dc0b-7c6b-4f9c-9110-0051aa53a374/': 1,\n",
       " '/vehicledetail/157a3554-adbc-4e2f-b9d9-5d1a1872fe41/': 1,\n",
       " '/vehicledetail/157c2f91-3cc7-48d8-a297-5d6e6e468492/': 1,\n",
       " '/vehicledetail/157f5424-a9cd-4ca2-a612-bb0ad2b2c752/': 1,\n",
       " '/vehicledetail/1583c896-d6af-4d0c-96d6-1f327a4c4bd9/': 1,\n",
       " '/vehicledetail/1594071b-42c6-4cbf-a1ad-04d9994f7e32/': 1,\n",
       " '/vehicledetail/159c9b5c-095e-4375-b39c-b1a804116918/': 1,\n",
       " '/vehicledetail/15a50e98-b134-494e-b091-62586ff355ee/': 1,\n",
       " '/vehicledetail/15a9d231-52c0-4323-9107-242b367f1158/': 1,\n",
       " '/vehicledetail/15aed961-08e8-49d2-936d-b298b2272213/': 1,\n",
       " '/vehicledetail/15b24844-0368-42fb-95cb-50e943cbbe0e/': 1,\n",
       " '/vehicledetail/15bb8637-49bf-418e-9ba6-57fa85415021/': 1,\n",
       " '/vehicledetail/15bd51cf-bb46-4385-b379-a0a845c12d25/': 1,\n",
       " '/vehicledetail/15be07bd-4fbb-48b2-a256-5eafef3e33ce/': 1,\n",
       " '/vehicledetail/15be886f-f42c-4687-9ea5-29a353a27570/': 1,\n",
       " '/vehicledetail/15c08cd2-4831-4b68-8507-feb2737c9144/': 1,\n",
       " '/vehicledetail/15c36dab-82c8-44ab-971f-bb56b6b1d74d/': 1,\n",
       " '/vehicledetail/15d12a58-4da0-470e-8828-5064d3d6bd0c/': 1,\n",
       " '/vehicledetail/15e047e2-27b7-47c0-b4e4-4b1476f17eb6/': 1,\n",
       " '/vehicledetail/15ef17de-f1ca-48ab-bf70-f70c630d3dc7/': 1,\n",
       " '/vehicledetail/15f6ce62-2eb9-46ba-821a-86b10b7f249a/': 1,\n",
       " '/vehicledetail/15ff8618-c274-43e9-a532-3a66983c6a17/': 52,\n",
       " '/vehicledetail/1606cac8-b7c6-4cb8-a69e-7219b0799a29/': 1,\n",
       " '/vehicledetail/16117a28-78cd-4903-a235-cccf51eea176/': 1,\n",
       " '/vehicledetail/1612cf70-11b6-4672-9b47-d51ee8e5e867/': 1,\n",
       " '/vehicledetail/161375c4-5076-49ae-b543-90e0ccbf0658/': 1,\n",
       " '/vehicledetail/161b35a1-5073-4efa-b5b3-4ed6677546e4/': 1,\n",
       " '/vehicledetail/16230065-637b-49f5-be93-70688bf51e57/': 1,\n",
       " '/vehicledetail/16238e60-5305-4b04-b46f-7527cce3c3b2/': 1,\n",
       " '/vehicledetail/1625b0e6-4850-4249-9af0-cdafeea627b4/': 1,\n",
       " '/vehicledetail/16260922-84d7-40b3-9a66-6816d3c7eb77/': 1,\n",
       " '/vehicledetail/162d06c3-d51c-4f8a-87fc-558d36735e18/': 1,\n",
       " '/vehicledetail/1630108e-0d3f-41fe-b130-5c63b9469660/': 1,\n",
       " '/vehicledetail/1631d1b5-9de4-4af3-9e3e-bde3100a4032/': 1,\n",
       " '/vehicledetail/16340c27-f412-4ac9-ae68-23b4d462adf6/': 1,\n",
       " '/vehicledetail/1639921a-bd44-475f-a258-b07327f600b8/': 1,\n",
       " '/vehicledetail/163aa298-3e3e-4848-a626-43fbd1cbd0d1/': 1,\n",
       " '/vehicledetail/163d13d3-d603-48ff-8f33-f1ca149269ec/': 1,\n",
       " '/vehicledetail/164dfb35-37dc-4c4e-8fef-3651252a152c/': 1,\n",
       " '/vehicledetail/165659dc-90b2-4b30-93d1-919a1724f1e7/': 1,\n",
       " '/vehicledetail/16593990-81f2-45e0-a84a-4232c79149d3/': 1,\n",
       " '/vehicledetail/165d8e39-a040-4a8c-b305-1c59217d8380/': 1,\n",
       " '/vehicledetail/166d6454-0789-4763-92be-9a86ce3cbe24/': 1,\n",
       " '/vehicledetail/1670d8cd-245b-4c60-8522-d27bebae60f6/': 1,\n",
       " '/vehicledetail/1671a47c-4de5-49e9-8abe-7a3534ee4756/': 1,\n",
       " '/vehicledetail/167274d6-d0b5-400a-8189-2e1e40b69000/': 1,\n",
       " '/vehicledetail/167bdae0-2675-48a8-91e0-54b3be0f0da6/': 1,\n",
       " '/vehicledetail/167be992-f61f-4452-8fd5-1fe02baf965f/': 1,\n",
       " '/vehicledetail/1682086f-ae5a-4fbb-a9e2-93dcaf2435fe/': 1,\n",
       " '/vehicledetail/1683f940-9a7a-4272-8e34-a0f3068aa9ea/': 1,\n",
       " '/vehicledetail/168f4cb8-73ad-409b-a404-f7c61c181481/': 1,\n",
       " '/vehicledetail/16988532-c054-42da-a93c-d71c6c33e9ec/': 1,\n",
       " '/vehicledetail/169aaa9a-5ae8-464d-b1cd-13dff93a3c1b/': 1,\n",
       " '/vehicledetail/169cc0a0-21d0-483a-bc27-d768904eb7de/': 1,\n",
       " '/vehicledetail/169d4015-4057-4b57-a96c-13b35672e93f/': 1,\n",
       " '/vehicledetail/16aef365-f6a0-4914-93f0-fe40c4f36aa2/': 1,\n",
       " '/vehicledetail/16bd2e89-cec7-488a-97b4-97151d5ee2c2/': 1,\n",
       " '/vehicledetail/16c2c308-28d1-417b-86bb-636b282fd5ae/': 1,\n",
       " '/vehicledetail/16c7981e-0812-4cec-a303-564866951deb/': 1,\n",
       " '/vehicledetail/16d02679-f1af-4524-b96e-f9d107917a41/': 1,\n",
       " '/vehicledetail/16d46e35-8b8c-41ca-85d4-db8673053615/': 1,\n",
       " '/vehicledetail/16d4aafd-cd79-4478-a606-9e4ceacae5d3/': 1,\n",
       " '/vehicledetail/16df5aeb-aa63-4418-90a2-bd73d49c7359/': 1,\n",
       " '/vehicledetail/16e0dfa2-819f-4894-b51d-83360d1156c5/': 1,\n",
       " '/vehicledetail/16e1ef65-c9e8-44a1-9a5e-520ade3b4bbc/': 1,\n",
       " '/vehicledetail/16e4858f-b96b-4e02-84bb-72db60cc2a1a/': 1,\n",
       " '/vehicledetail/16ef347d-6301-4365-9b20-1c56d8bdc946/': 1,\n",
       " '/vehicledetail/16f04ff9-5594-4440-ba47-22f9195eba09/': 1,\n",
       " '/vehicledetail/16f05870-f416-46a9-b8d6-96351705cddd/': 1,\n",
       " '/vehicledetail/17028868-f4b0-49fe-9d21-25c1e99d857b/': 1,\n",
       " '/vehicledetail/17043d61-e5e2-412e-8ff7-cb673227e00d/': 1,\n",
       " '/vehicledetail/17078ca8-b8ef-422c-b7bf-b3dd2e9a64c6/': 1,\n",
       " '/vehicledetail/171f6fe9-ad18-4651-a7e5-d48058c25335/': 1,\n",
       " '/vehicledetail/17222a8b-d8b7-4d0c-a9be-eeb001cc8b6d/': 1,\n",
       " '/vehicledetail/17239d33-8138-439f-ac14-f78a864bbcf1/': 1,\n",
       " '/vehicledetail/172f851a-9579-416f-b6f2-ea0e50e31145/': 1,\n",
       " '/vehicledetail/17323cc9-e284-4c7c-86c6-b28864bde640/': 1,\n",
       " '/vehicledetail/1738c27f-72f8-43c0-b7c7-a37db9af7676/': 52,\n",
       " '/vehicledetail/1748f817-a0a9-4edd-b914-ab31012f8356/': 1,\n",
       " '/vehicledetail/175301a2-bc38-4d9f-8e93-875a2c5735f1/': 1,\n",
       " '/vehicledetail/176cdcb6-7aee-4c59-8897-675575de6bea/': 1,\n",
       " '/vehicledetail/176dcf2b-9a49-44dc-8a0e-b9f001365723/': 1,\n",
       " '/vehicledetail/177e6c0c-e1bb-4943-b605-8de81522b514/': 1,\n",
       " '/vehicledetail/1785df4f-a7f5-4f09-894a-e0aee6c66c9c/': 1,\n",
       " '/vehicledetail/1788349c-6b61-44ee-ad68-0a14b7baddef/': 1,\n",
       " '/vehicledetail/178987b2-9ad3-47d6-920a-93ccc97ad360/': 1,\n",
       " '/vehicledetail/17980c90-ddb4-4495-90e1-a1916d3ec0cb/': 1,\n",
       " '/vehicledetail/179dc7c5-ecc6-4569-820f-c2d00545c667/': 1,\n",
       " '/vehicledetail/17a390cd-7842-40b7-9763-e62f76c85c5c/': 1,\n",
       " '/vehicledetail/17a6ce3c-60f2-4972-a1f7-3bd072f3f209/': 1,\n",
       " '/vehicledetail/17acbc96-6978-4182-a14d-3f8a0ba4384e/': 1,\n",
       " '/vehicledetail/17b017e7-467c-4890-ae5f-ce3e2761390c/': 1,\n",
       " '/vehicledetail/17c1ad81-82af-41c8-8cc3-320e9807148c/': 1,\n",
       " '/vehicledetail/17c49350-b2ae-4e9f-82f4-403981ec26f2/': 1,\n",
       " '/vehicledetail/17c7c389-7224-46d8-9f96-736251f26eb9/': 1,\n",
       " '/vehicledetail/17c80089-e2bf-4c8f-af53-fc2c6543fb6e/': 1,\n",
       " '/vehicledetail/17d6634b-0171-4cac-8eab-0aec88a57c18/': 1,\n",
       " '/vehicledetail/17dd2cd0-374f-4ce0-8123-f926cf323579/': 1,\n",
       " '/vehicledetail/17e232ea-db7d-4ce9-8d52-c9e63b4a9e58/': 1,\n",
       " '/vehicledetail/17ef6ac5-fc9b-4484-ad9e-8124f24440a7/': 1,\n",
       " '/vehicledetail/17f25804-4827-45cb-b340-b4a14244124a/': 1,\n",
       " '/vehicledetail/17f89b51-170d-413b-bded-dc99bba00aae/': 1,\n",
       " '/vehicledetail/17ff7ad8-acaa-4b0f-9029-dbd816f06f7a/': 1,\n",
       " '/vehicledetail/1800e88b-b2a3-454d-bb6e-1d7aba322286/': 1,\n",
       " '/vehicledetail/180180cf-abc1-479e-82ef-987ffbee399a/': 1,\n",
       " '/vehicledetail/180aa80e-05df-4079-9bf6-b319a7ed56f8/': 1,\n",
       " '/vehicledetail/180c66d3-c9e4-4a28-a5ea-356570838434/': 1,\n",
       " '/vehicledetail/180c7e2a-14b3-4218-b6d3-9f6d9c3e02fb/': 1,\n",
       " '/vehicledetail/181ae072-ac61-44f0-9ee9-0566120f50ff/': 1,\n",
       " '/vehicledetail/181c7151-09df-4284-9cba-43fb16b69bd5/': 1,\n",
       " '/vehicledetail/18239c3b-cfed-4d4a-ae5c-725f289f1f8f/': 1,\n",
       " '/vehicledetail/1825cf2c-c5e6-4abf-bc7c-9cbeb905de6e/': 1,\n",
       " '/vehicledetail/182afd27-d09e-406a-9d91-d310e54c7029/': 1,\n",
       " '/vehicledetail/182dd2e4-f020-4c39-acc6-f156a98ad288/': 1,\n",
       " '/vehicledetail/1854453d-89f3-4361-9efe-e7ade74750a4/': 1,\n",
       " '/vehicledetail/1863988c-9090-4000-81b2-8ea019274e21/': 1,\n",
       " '/vehicledetail/1867b2c2-0f68-43a3-9d1f-2c8949ce219f/': 1,\n",
       " '/vehicledetail/1871fba0-7b7e-408b-a344-e27defc6644a/': 52,\n",
       " '/vehicledetail/1872be18-c966-4447-acc2-0dc145858d37/': 1,\n",
       " '/vehicledetail/187af43f-7281-42a4-8d2f-ca3ccc57a366/': 1,\n",
       " '/vehicledetail/1883b0c6-fa4a-4f6b-abc8-2b5c58aefe8b/': 1,\n",
       " '/vehicledetail/188684a3-5aa6-48a8-92e3-5497cb6513f5/': 1,\n",
       " '/vehicledetail/1886a2c3-8183-46d2-b2d5-0bffecccf957/': 1,\n",
       " '/vehicledetail/188acc60-48a2-4803-b6c9-6570b8b90be5/': 1,\n",
       " '/vehicledetail/188be2c6-e18b-4ca6-8088-aa63be6a3e7b/': 1,\n",
       " '/vehicledetail/189417ca-19fc-411c-a441-9e92ee4247db/': 1,\n",
       " '/vehicledetail/1894d461-6a56-4f4c-9c6c-6d814b014e11/': 1,\n",
       " '/vehicledetail/1897810e-29a0-4f3b-b663-f0abaf62303b/': 1,\n",
       " '/vehicledetail/189c6ac7-5a56-48e2-851f-6e31df3bf821/': 1,\n",
       " '/vehicledetail/189fc5e8-9a63-4b3c-8bbd-859576afd531/': 1,\n",
       " '/vehicledetail/18a44760-f6cc-47f3-a14c-8d3144aef224/': 1,\n",
       " '/vehicledetail/18a922a7-3dfa-4b1d-bc9f-7b8afe339460/': 1,\n",
       " '/vehicledetail/18aa05f3-41fb-4f5f-8538-5be1f83b4c9e/': 1,\n",
       " '/vehicledetail/18aa747f-12b4-48e5-b45e-0fa4288f17f1/': 1,\n",
       " '/vehicledetail/18b05c35-501d-4d31-9264-a69a3c260c03/': 1,\n",
       " '/vehicledetail/18b134c6-f1fb-4c41-8b3a-253c9a78fe11/': 1,\n",
       " '/vehicledetail/18bab46a-2064-4c12-bfff-cbc19b7650d6/': 1,\n",
       " '/vehicledetail/18bce811-a750-4d54-882d-3e0ecadcad62/': 1,\n",
       " '/vehicledetail/18c1305d-16cd-4db6-8485-05f0f664ef2d/': 1,\n",
       " '/vehicledetail/18cbfe0b-0777-45ce-9b5c-3f9a66715236/': 1,\n",
       " '/vehicledetail/18d05ddd-e942-4dbc-beff-721f2676a7af/': 1,\n",
       " '/vehicledetail/18e0f5e7-64cc-42b3-ada2-2820e9bf0f50/': 1,\n",
       " '/vehicledetail/18e281ff-55f5-4448-88d8-8deea19febd5/': 1,\n",
       " '/vehicledetail/18ee2501-becb-400f-8f0e-4b6adf1a8704/': 1,\n",
       " '/vehicledetail/18f0e90e-3ae9-47ba-83ff-16ae7192d520/': 1,\n",
       " '/vehicledetail/18f8b686-450c-4161-95aa-02bbc2d76ff7/': 1,\n",
       " '/vehicledetail/18f98213-fcb5-4486-afd2-a0e327c5b80f/': 1,\n",
       " '/vehicledetail/190b216b-f021-490e-9c2e-c60a5f5a7ae7/': 1,\n",
       " '/vehicledetail/19148a89-c75f-4ba7-850d-a5dfef060a01/': 1,\n",
       " '/vehicledetail/1919fbcb-22f1-48df-8c1f-92c57e0d7f0f/': 1,\n",
       " '/vehicledetail/191fdb37-f709-434c-9d38-d90c7ac423a6/': 1,\n",
       " ...}"
      ]
     },
     "execution_count": 54,
     "metadata": {},
     "output_type": "execute_result"
    }
   ],
   "source": [
    "dict(zip(un, counts))"
   ]
  },
  {
   "cell_type": "code",
   "execution_count": 66,
   "metadata": {
    "scrolled": true
   },
   "outputs": [
    {
     "data": {
      "text/plain": [
       "9881"
      ]
     },
     "execution_count": 66,
     "metadata": {},
     "output_type": "execute_result"
    }
   ],
   "source": [
    "len(set(results))"
   ]
  },
  {
   "cell_type": "markdown",
   "metadata": {},
   "source": [
    "**Making sure length stays the same after getting rid of duplicates and turning into a list**"
   ]
  },
  {
   "cell_type": "code",
   "execution_count": 70,
   "metadata": {},
   "outputs": [
    {
     "data": {
      "text/plain": [
       "9881"
      ]
     },
     "execution_count": 70,
     "metadata": {},
     "output_type": "execute_result"
    }
   ],
   "source": [
    "len(list(set(results)))"
   ]
  },
  {
   "cell_type": "code",
   "execution_count": 71,
   "metadata": {},
   "outputs": [],
   "source": [
    "final_links = list(set(results))"
   ]
  },
  {
   "cell_type": "code",
   "execution_count": 98,
   "metadata": {},
   "outputs": [
    {
     "data": {
      "text/plain": [
       "'/vehicledetail/6a34c80f-d703-4cc0-894f-eab89e373f03/'"
      ]
     },
     "execution_count": 98,
     "metadata": {},
     "output_type": "execute_result"
    }
   ],
   "source": [
    "final_links[36]"
   ]
  },
  {
   "cell_type": "markdown",
   "metadata": {},
   "source": [
    "# Start getting reviews and car data"
   ]
  },
  {
   "cell_type": "markdown",
   "metadata": {},
   "source": [
    "- get all the info from car possible\n",
    "- get all the available reviews\n",
    "- maybe try to get rating with review, could help a model"
   ]
  },
  {
   "cell_type": "code",
   "execution_count": 133,
   "metadata": {},
   "outputs": [],
   "source": [
    "reviews = []\n",
    "driveTrain = []\n",
    "mpg = []\n",
    "fuelType = []\n",
    "trans = []\n",
    "engine = []\n",
    "mileage = []\n",
    "sale_price = []"
   ]
  },
  {
   "cell_type": "code",
   "execution_count": 134,
   "metadata": {},
   "outputs": [],
   "source": [
    "error_links = []"
   ]
  },
  {
   "cell_type": "markdown",
   "metadata": {},
   "source": [
    "**Loop to get the data**"
   ]
  },
  {
   "cell_type": "code",
   "execution_count": 135,
   "metadata": {
    "scrolled": false
   },
   "outputs": [
    {
     "data": {
      "application/vnd.jupyter.widget-view+json": {
       "model_id": "ea6368ff1ad548c784edb5ddedf42d07",
       "version_major": 2,
       "version_minor": 0
      },
      "text/plain": [
       "HBox(children=(HTML(value=''), FloatProgress(value=0.0, max=9881.0), HTML(value='')))"
      ]
     },
     "metadata": {},
     "output_type": "display_data"
    },
    {
     "name": "stdout",
     "output_type": "stream",
     "text": [
      "\n"
     ]
    }
   ],
   "source": [
    "for link in tqdm(final_links):\n",
    "    #using tqdm to check progress\n",
    "    \n",
    "    #try to get info, if fails, move to next link\n",
    "    try:\n",
    "        #each car url\n",
    "        url = f'https://www.cars.com{link}'\n",
    "        response = requests.get(url).text\n",
    "        soup = BeautifulSoup(response)\n",
    "\n",
    "        #getting reviews\n",
    "        rev = soup.find_all(\"p\", attrs={\"class\":\"review-body\"})\n",
    "        reviews.append([review.get_text() for review in rev])\n",
    "\n",
    "        #getting car details\n",
    "        details = soup.find_all(\"dl\", attrs={\"class\":\"fancy-description-list\"})\n",
    "        det_list = [det.get_text() for det in details]\n",
    "        det_split = det_list[0].split('\\n')\n",
    "        #for loop to extract each part\n",
    "        for i in range(len(det_split)):\n",
    "            if det_split[i] == 'Drivetrain':\n",
    "                driveTrain.append(det_split[i+1])\n",
    "            if det_split[i] == 'Fuel type':\n",
    "                fuelType.append(det_split[i+1])\n",
    "            if det_split[i] == 'Transmission':\n",
    "                trans.append(det_split[i+1])\n",
    "            if det_split[i] == 'Mileage':\n",
    "                mileage.append(det_split[i+1])\n",
    "            if det_split[i] == 'MPG':\n",
    "                mpg.append(det_split[i+3])\n",
    "            if det_split[i] == 'Engine':\n",
    "                engine.append(det_split[i+1])\n",
    "\n",
    "        #getting price\n",
    "        car_price = soup.find_all(\"span\", attrs={\"class\":\"primary-price\"})\n",
    "        sale_price.append([p.get_text() for p in car_price][0])\n",
    "\n",
    "        time.sleep(random.randrange(1, 5))\n",
    "        \n",
    "    except:\n",
    "        error_links.append(link) #catching error links\n",
    "        "
   ]
  },
  {
   "cell_type": "markdown",
   "metadata": {},
   "source": [
    "**Checking length to make sure they're all the same**\n",
    "-  if not the same length, have to tweak for loop to fill in as null when there is no value"
   ]
  },
  {
   "cell_type": "code",
   "execution_count": 138,
   "metadata": {},
   "outputs": [
    {
     "name": "stdout",
     "output_type": "stream",
     "text": [
      "7117 7048 7048 7048 7048 7048 7048 7048\n"
     ]
    }
   ],
   "source": [
    "print(len(reviews),\n",
    "len(driveTrain),\n",
    "len(mpg),\n",
    "len(fuelType),\n",
    "len(trans),\n",
    "len(engine),\n",
    "len(mileage),\n",
    "len(sale_price))"
   ]
  },
  {
   "cell_type": "code",
   "execution_count": 153,
   "metadata": {},
   "outputs": [
    {
     "data": {
      "text/plain": [
       "'Great first car. I only had my 2014 for about 2 years before I wrecked it but in that time but almost 80k miles on it, driving it hard, from Florida to Maine to Montana and just about everywhere in between. She did me so well that whole time, only having some fairly minor transmission issues a couple months after I purchased her used. Acceleration/shifting could be a litttttle janky sometimes too but it was nothing I ever worried about and it wasn’t much worse than most used cars I’ve driven. Super comfortable with amazing fuel economy and great tech for the year, and handled like a dream. '"
      ]
     },
     "execution_count": 153,
     "metadata": {},
     "output_type": "execute_result"
    }
   ],
   "source": [
    "reviews[0][0]"
   ]
  },
  {
   "cell_type": "code",
   "execution_count": 156,
   "metadata": {},
   "outputs": [],
   "source": [
    "list_rev = []"
   ]
  },
  {
   "cell_type": "code",
   "execution_count": 168,
   "metadata": {
    "scrolled": false
   },
   "outputs": [
    {
     "data": {
      "text/plain": [
       "['Bought this new in September 2019. LES model. Has about 20,000 miles on it. \\r\\n   Because we drive mostly city miles I’ve changed oil at 6.000 mile intervals. Engine uses no oil. \\r\\n    Only problem I’ve had was the front rotors warped at 10.000 miles. They are made from inferior steel and rust easily when you wash the car. Replaced them with aftermarket parts. \\r\\n     I like the way the car handles. I’ve driven for many years and many cars. I can honestly say I enjoy driving this car. ',\n",
       " 'This is my second Tiguan. Being 6‘5“ tall this is one of the most comfortable cars in this range. I like the touchscreen controls and the handling is very nice and firm. The panoramic sunroof is also a big plus. It is not the fastest car out there for sure. Cargo room is great and you can seat four people very easily in it.  Legroom is even good behind me for a Passenger .',\n",
       " 'Bought for my son. Price, comfort, reliability and safety were tops for me and this vehicle met each one. He loves that it looks a little sporty and not like a “Mom Car”!']"
      ]
     },
     "execution_count": 168,
     "metadata": {},
     "output_type": "execute_result"
    }
   ],
   "source": [
    "reviews[2]"
   ]
  },
  {
   "cell_type": "code",
   "execution_count": 173,
   "metadata": {},
   "outputs": [],
   "source": [
    "from functools import reduce"
   ]
  },
  {
   "cell_type": "code",
   "execution_count": 175,
   "metadata": {},
   "outputs": [],
   "source": [
    "l_rev = []"
   ]
  },
  {
   "cell_type": "code",
   "execution_count": 178,
   "metadata": {
    "scrolled": true
   },
   "outputs": [
    {
     "ename": "TypeError",
     "evalue": "reduce() of empty sequence with no initial value",
     "output_type": "error",
     "traceback": [
      "\u001b[1;31m---------------------------------------------------------------------------\u001b[0m",
      "\u001b[1;31mTypeError\u001b[0m                                 Traceback (most recent call last)",
      "\u001b[1;32m<ipython-input-178-6320c52f3b9f>\u001b[0m in \u001b[0;36m<module>\u001b[1;34m\u001b[0m\n\u001b[0;32m      1\u001b[0m \u001b[1;32mfor\u001b[0m \u001b[0mrev\u001b[0m \u001b[1;32min\u001b[0m \u001b[0mreviews\u001b[0m\u001b[1;33m:\u001b[0m\u001b[1;33m\u001b[0m\u001b[1;33m\u001b[0m\u001b[0m\n\u001b[0;32m      2\u001b[0m     \u001b[1;32mif\u001b[0m \u001b[0mrev\u001b[0m \u001b[1;33m!=\u001b[0m \u001b[1;33m[\u001b[0m\u001b[1;33m]\u001b[0m\u001b[1;33m:\u001b[0m\u001b[1;33m\u001b[0m\u001b[1;33m\u001b[0m\u001b[0m\n\u001b[1;32m----> 3\u001b[1;33m         \u001b[0mrev\u001b[0m \u001b[1;33m=\u001b[0m \u001b[1;33m[\u001b[0m\u001b[0mreduce\u001b[0m\u001b[1;33m(\u001b[0m\u001b[1;32mlambda\u001b[0m \u001b[0mi\u001b[0m\u001b[1;33m,\u001b[0m \u001b[0mj\u001b[0m\u001b[1;33m:\u001b[0m \u001b[0mi\u001b[0m \u001b[1;33m+\u001b[0m \u001b[0mj\u001b[0m\u001b[1;33m,\u001b[0m \u001b[0mrev\u001b[0m\u001b[1;33m[\u001b[0m\u001b[1;36m0\u001b[0m \u001b[1;33m:\u001b[0m \u001b[1;33m-\u001b[0m\u001b[1;36m1\u001b[0m\u001b[1;33m]\u001b[0m\u001b[1;33m)\u001b[0m\u001b[1;33m]\u001b[0m\u001b[1;33m\u001b[0m\u001b[1;33m\u001b[0m\u001b[0m\n\u001b[0m\u001b[0;32m      4\u001b[0m         \u001b[0ml_rev\u001b[0m\u001b[1;33m.\u001b[0m\u001b[0mappend\u001b[0m\u001b[1;33m(\u001b[0m\u001b[0mrev\u001b[0m\u001b[1;33m)\u001b[0m\u001b[1;33m\u001b[0m\u001b[1;33m\u001b[0m\u001b[0m\n\u001b[0;32m      5\u001b[0m     \u001b[1;32melse\u001b[0m\u001b[1;33m:\u001b[0m\u001b[1;33m\u001b[0m\u001b[1;33m\u001b[0m\u001b[0m\n",
      "\u001b[1;31mTypeError\u001b[0m: reduce() of empty sequence with no initial value"
     ]
    }
   ],
   "source": [
    "for rev in reviews:\n",
    "    if rev != []:\n",
    "        rev = [reduce(lambda i, j: i + j, rev[0 : -1])]\n",
    "        l_rev.append(rev)\n",
    "    else:\n",
    "        l_rev.append('Empty')"
   ]
  },
  {
   "cell_type": "markdown",
   "metadata": {},
   "source": [
    "**troubleshooting**"
   ]
  },
  {
   "cell_type": "code",
   "execution_count": 179,
   "metadata": {},
   "outputs": [],
   "source": [
    "re = requests.get('https://www.cars.com/vehicledetail/5cd08e86-9236-48de-b0e9-081188d0f214/')\n",
    "s = BeautifulSoup(re.text)\n"
   ]
  },
  {
   "cell_type": "code",
   "execution_count": 180,
   "metadata": {},
   "outputs": [],
   "source": [
    "title = s.find_all(\"h1\", attrs={\"class\":\"listing-title\"})"
   ]
  },
  {
   "cell_type": "code",
   "execution_count": 182,
   "metadata": {},
   "outputs": [
    {
     "data": {
      "text/plain": [
       "'2021 Kia K5 GT-Line'"
      ]
     },
     "execution_count": 182,
     "metadata": {},
     "output_type": "execute_result"
    }
   ],
   "source": [
    "[ti.get_text() for ti in title][0]"
   ]
  },
  {
   "cell_type": "code",
   "execution_count": null,
   "metadata": {},
   "outputs": [],
   "source": []
  },
  {
   "cell_type": "code",
   "execution_count": null,
   "metadata": {},
   "outputs": [],
   "source": []
  },
  {
   "cell_type": "code",
   "execution_count": null,
   "metadata": {},
   "outputs": [],
   "source": []
  },
  {
   "cell_type": "code",
   "execution_count": null,
   "metadata": {},
   "outputs": [],
   "source": []
  }
 ],
 "metadata": {
  "kernelspec": {
   "display_name": "Python (learn-env)",
   "language": "python",
   "name": "learn-env"
  },
  "language_info": {
   "codemirror_mode": {
    "name": "ipython",
    "version": 3
   },
   "file_extension": ".py",
   "mimetype": "text/x-python",
   "name": "python",
   "nbconvert_exporter": "python",
   "pygments_lexer": "ipython3",
   "version": "3.8.5"
  }
 },
 "nbformat": 4,
 "nbformat_minor": 4
}
